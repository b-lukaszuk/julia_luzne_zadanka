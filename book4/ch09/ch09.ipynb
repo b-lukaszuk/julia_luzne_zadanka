{
 "cells": [
  {
   "cell_type": "markdown",
   "id": "785d88c2-f64d-412c-8d6c-56ba7ded9a06",
   "metadata": {
    "collapsed": false,
    "jupyter": {
     "outputs_hidden": false
    }
   },
   "source": [
    "# Chapter 9. Decision Analysis\n",
    "\n",
    "[Link to chapter online](https://allendowney.github.io/ThinkBayes2/chap09.html)"
   ]
  },
  {
   "cell_type": "markdown",
   "id": "a69ad01a-e10d-446f-bd52-a8eb2181db84",
   "metadata": {
    "collapsed": false,
    "jupyter": {
     "outputs_hidden": false
    }
   },
   "source": [
    "## Warning\n",
    "\n",
    "The content of this file may be incorrect, erroneous and/or harmful. Use it at Your own risk."
   ]
  },
  {
   "cell_type": "markdown",
   "id": "6f75d72d-b671-4abc-90de-2426c7524c2b",
   "metadata": {
    "collapsed": false,
    "jupyter": {
     "outputs_hidden": false
    }
   },
   "source": [
    "## Imports"
   ]
  },
  {
   "cell_type": "code",
   "execution_count": null,
   "id": "5fce4f5f-1d19-4fb0-a0ea-6605be6cc3cf",
   "metadata": {
    "collapsed": false
   },
   "outputs": [],
   "source": [
    "include(\"./pmfAndCdf.jl\")\n",
    "include(\"./simplestat.jl\")"
   ]
  },
  {
   "cell_type": "code",
   "execution_count": null,
   "metadata": {},
   "outputs": [],
   "source": [
    "import CairoMakie as Cmk\n",
    "import CSV as Csv\n",
    "import DataFrames as Dfs\n",
    "import Distributions as Dsts\n",
    "import KernelDensity as Kde\n",
    "import Statistics as Stats"
   ]
  },
  {
   "cell_type": "code",
   "execution_count": null,
   "metadata": {},
   "outputs": [],
   "source": [
    "Num = Union{Int,Float64} # custom type"
   ]
  },
  {
   "cell_type": "markdown",
   "id": "3b6f1073-ab2e-43dc-a8e8-20df8a32a2be",
   "metadata": {
    "collapsed": false
   },
   "source": [
    "## The Price is Right Problem"
   ]
  },
  {
   "cell_type": "markdown",
   "id": "c87f49f4-23be-4dbf-bd3b-ee0fb8b94d1b",
   "metadata": {
    "collapsed": false
   },
   "source": [
    "*The Price is Right* - a gameshow. The objective is to guess the price of a collection of prizes.\n",
    "The contestant who comes closest to the actual price, without going over, wins the prizes.\n",
    "\n",
    "One of the episodes, two contestants (N and L):\n",
    "- N Prize: dishwasher, wine cabinet, laptop, car.\n",
    "- L Prize: pinball machine, video arcade game, pool table, cruise of the Bahamas\n",
    "\n",
    "Bids:\n",
    "- N: $26'000 (real price: $25'347, diff: $653)\n",
    "- L: $21'500 (real price: $21'578, diff: $78)\n",
    "\n",
    "L wins her showcase, and due to smaller diffs also N showcase.\n",
    "\n",
    "Several questions for a Bayesian thinker.\n",
    "\n",
    "1. Before seeing the prizes, what prior beliefs should the contestants have about the price of the showcase?\n",
    "2. After seeing the prizes, how should the contestants update those beliefs?\n",
    "3. Based on the posterior distribution, what should the contestants bid?\n",
    "\n",
    "Problem inspired by Cameron Davidson-Pilon's [book](https://dataorigami.net/Probabilistic-Programming-and-Bayesian-Methods-for-Hackers/)."
   ]
  },
  {
   "cell_type": "markdown",
   "metadata": {},
   "source": [
    "## The Prior\n",
    "\n",
    "To choose the prior distribution we can use the track of previous prices.\n",
    "See [the book repo.](https://github.com/AllenDowney/ThinkBayes2/tree/master/data)"
   ]
  },
  {
   "cell_type": "code",
   "execution_count": null,
   "metadata": {},
   "outputs": [],
   "source": [
    "function read_data(filename::String):: Dfs.DataFrame\n",
    "    df = Csv.read(filename, Dfs.DataFrame; header=false, skipto=4) \n",
    "    df = Dfs.dropmissing(df)\n",
    "    df = Dfs.permutedims(df, 1)\n",
    "    df[!, 2:end]\n",
    "end"
   ]
  },
  {
   "cell_type": "code",
   "execution_count": null,
   "metadata": {},
   "outputs": [],
   "source": [
    "df2011 = read_data(\"./showcases2011.csv\")\n",
    "df2012 = read_data(\"./showcases2012.csv\")\n",
    "df = vcat(df2011, df2012)\n",
    "first(df, 3)"
   ]
  },
  {
   "cell_type": "markdown",
   "metadata": {},
   "source": [
    "The first two columns, `Showcase 1` and `Showcase 2`, are the values of the\n",
    "showcases in dollars. The next two columns are the bids the contestants made.\n",
    "The last two columns are the differences between the actual values and the bids."
   ]
  },
  {
   "cell_type": "markdown",
   "metadata": {},
   "source": [
    "## Kernel Density Estimation\n",
    "\n",
    "We can use this sample to estimate the prior distribution of showcase prices, e.g. using KDE, i.e. [kernel density estimation](https://mathisonian.github.io/kde/).\n",
    "\n",
    "More info on used [KDE library in Julia](https://github.com/JuliaStats/KernelDensity.jl)."
   ]
  },
  {
   "cell_type": "code",
   "execution_count": null,
   "metadata": {},
   "outputs": [],
   "source": [
    "function getKDEfromSample(sample::Vector{A}, qs::Vector{B}) where {A<:Num, B<:Num}\n",
    "    # optional keyword argument is kernel (defaults to Dsts.Normal)\n",
    "    gaussianKde::Kde.KernelDensity.UnivariateKDE = Kde.kde(sample) \n",
    "    ps::Vector{Float64} = Kde.pdf(gaussianKde, qs)\n",
    "    pmf::Pmf{B} = Pmf(qs, ps)\n",
    "    return pmf\n",
    "end"
   ]
  },
  {
   "cell_type": "code",
   "execution_count": null,
   "metadata": {},
   "outputs": [],
   "source": [
    "qs = range(0, 80000, 81) |> collect\n",
    "prior1 = getKDEfromSample(df[!, \"Showcase 1\"], qs)\n",
    "prior2 = getKDEfromSample(df[!, \"Showcase 2\"], qs)"
   ]
  },
  {
   "cell_type": "code",
   "execution_count": null,
   "metadata": {},
   "outputs": [],
   "source": [
    "fig = Cmk.Figure()\n",
    "ax1, l1 = Cmk.lines(\n",
    "    fig[1, 1],\n",
    "    prior1.names, prior1.priors,\n",
    "    color=:blue, linewidth=3,\n",
    "    axis=(;title=\"Prior distribution of showcase value\",\n",
    "    xlabel=\"Showcase value in \\$\", ylabel=\"PMF\",\n",
    "    xticks=(0:10000:80000, map(x -> string(x, \"k\"), 0:10:80)),\n",
    "    yticks=0:0.01:0.06, \n",
    "    )\n",
    "\n",
    ")\n",
    "l2 = Cmk.lines!(\n",
    "    fig[1, 1],\n",
    "    prior2.names, prior2.priors,\n",
    "    color=:orange, linewidth=3,\n",
    ")\n",
    "Cmk.axislegend(\n",
    "    ax1,\n",
    "    [l1, l2],\n",
    "    [\"Showcase 1\", \"Showcase 2\"]\n",
    ")\n",
    "fig"
   ]
  },
  {
   "cell_type": "markdown",
   "metadata": {},
   "source": [
    "## Distribution of Error\n",
    "\n",
    "To update the priors we need to know:\n",
    "- What data should we consider and how should we quantify it?\n",
    "- Can we compute a likelihood function; that is, for each hypothetical price,\n",
    "can we compute the conditional likelihood of the data?\n",
    "\n",
    "\n",
    "[...] model each contestant as a price-guessing instrument with known error characteristics.\n",
    "\n",
    "Now the question we have to answer is, “If the actual price is `price`, what is\n",
    "the likelihood that the contestant’s guess would be `guess`?”\n",
    "\n",
    "Equivalently, if we define `error = guess - price`, we can ask, “What is the likelihood that the contestant’s guess is off by `error`?”"
   ]
  },
  {
   "cell_type": "code",
   "execution_count": null,
   "metadata": {},
   "outputs": [],
   "source": [
    "sampleDiff1 = df[:, \"Bid 1\"] .- df[:, \"Showcase 1\"]\n",
    "sampleDiff2 = df[:, \"Bid 2\"] .- df[:, \"Showcase 2\"];"
   ]
  },
  {
   "cell_type": "code",
   "execution_count": null,
   "metadata": {},
   "outputs": [],
   "source": [
    "qs = range(-40000, 20000, 61) |> collect\n",
    "kdeDiff1 = getKDEfromSample(sampleDiff1, qs)\n",
    "kdeDiff2 = getKDEfromSample(sampleDiff2, qs);"
   ]
  },
  {
   "cell_type": "code",
   "execution_count": null,
   "metadata": {},
   "outputs": [],
   "source": [
    "fig = Cmk.Figure()\n",
    "ax1, l1 = Cmk.lines(\n",
    "    fig[1, 1],\n",
    "    kdeDiff1.names, kdeDiff1.priors,\n",
    "    color=:blue, linewidth=3,\n",
    "    axis=(;title=\"Difference between bid and actual value\",\n",
    "    xlabel=\"Difference in value in \\$\", ylabel=\"PMF\",\n",
    "    xticks=(-40000:10000:20000, map(x -> string(x, \"k\"), -40:10:20)),\n",
    "    yticks=0:0.01:0.07, \n",
    "    )\n",
    "\n",
    ")\n",
    "l2 = Cmk.lines!(\n",
    "    fig[1, 1],\n",
    "    kdeDiff2.names, kdeDiff2.priors,\n",
    "    color=:orange, linewidth=3,\n",
    ")\n",
    "Cmk.axislegend(\n",
    "    ax1,\n",
    "    [l1, l2],\n",
    "    [\"Diff 1\", \"Diff 2\"]\n",
    ")\n",
    "fig"
   ]
  },
  {
   "cell_type": "markdown",
   "metadata": {},
   "source": [
    "It looks like these distributions are well modeled by a normal distribution"
   ]
  },
  {
   "cell_type": "code",
   "execution_count": null,
   "metadata": {},
   "outputs": [],
   "source": [
    "meanDiff1 = Stats.mean(sampleDiff1)\n",
    "stdDiff1 = Stats.std(sampleDiff1)\n",
    "\n",
    "(meanDiff1, stdDiff1)"
   ]
  },
  {
   "cell_type": "markdown",
   "metadata": {},
   "source": [
    "We will use the diffs to model distribution of errors.\n",
    "\n",
    "Assumptions:\n",
    "\n",
    "- contestants underbid because they are being strategic, and that on average their guesses are accurate. In other words, the mean of their errors is 0.\n",
    "- the spread of the differences reflects the actual spread of their errors. So, the standard deviation of the differences is the standard deviation of their errors."
   ]
  },
  {
   "cell_type": "code",
   "execution_count": null,
   "metadata": {},
   "outputs": [],
   "source": [
    "errorDist1 = Dsts.Normal(0, stdDiff1)"
   ]
  },
  {
   "cell_type": "markdown",
   "metadata": {},
   "source": [
    "Now, we can, e.g. calculate the probablity density of `error=-100` for Player 1."
   ]
  },
  {
   "cell_type": "code",
   "execution_count": null,
   "metadata": {},
   "outputs": [],
   "source": [
    "Dsts.pdf(errorDist1, -100)"
   ]
  },
  {
   "cell_type": "markdown",
   "metadata": {},
   "source": [
    "By itself, this number doesn’t mean very much, because probability densities are not probabilities. But they are proportional to probabilities, so we can use them as likelihoods in a Bayesian update [...]."
   ]
  },
  {
   "cell_type": "markdown",
   "metadata": {},
   "source": [
    "## Update\n",
    "\n",
    "Suppose we are Player 1 and our guess for the total price of prize is $23'000."
   ]
  },
  {
   "cell_type": "code",
   "execution_count": null,
   "metadata": {},
   "outputs": [],
   "source": [
    "guess1 = 23_000\n",
    "error1 = guess1 .- prior1.names;"
   ]
  },
  {
   "cell_type": "markdown",
   "metadata": {},
   "source": [
    "Moreover, we assume that our estimation error is well modeled by `errorDist1`."
   ]
  },
  {
   "cell_type": "code",
   "execution_count": null,
   "metadata": {},
   "outputs": [],
   "source": [
    "likelihood1 = Dsts.pdf.(errorDist1, error1);"
   ]
  },
  {
   "cell_type": "markdown",
   "metadata": {},
   "source": [
    "Now we can compute the likelihood of error under each hypothesis."
   ]
  },
  {
   "cell_type": "code",
   "execution_count": null,
   "metadata": {},
   "outputs": [],
   "source": [
    "posterior1 = Pmf(prior1.names |> copy, prior1.priors)\n",
    "posterior1.likelihoods = likelihood1\n",
    "updatePosteriors!(posterior1, true);"
   ]
  },
  {
   "cell_type": "code",
   "execution_count": null,
   "metadata": {},
   "outputs": [],
   "source": [
    "fig = Cmk.Figure()\n",
    "ax1, l1 = Cmk.lines(\n",
    "    fig[1, 1],\n",
    "    prior1.names, prior1.priors,\n",
    "    color=:gray, linewidth=3,\n",
    "    axis=(;title=\"Prior and posterior distribution of showcase value\",\n",
    "    xlabel=\"Showcase value in \\$\", ylabel=\"PMF\",\n",
    "    xticks=(0:10000:80000, map(x -> string(x, \"k\"), 0:10:80)),\n",
    "    yticks=0:0.01:0.09, \n",
    "    )\n",
    "\n",
    ")\n",
    "l2 = Cmk.lines!(\n",
    "    fig[1, 1],\n",
    "    posterior1.names, posterior1.posteriors,\n",
    "    color=:purple, linewidth=3,\n",
    ")\n",
    "Cmk.axislegend(\n",
    "    ax1,\n",
    "    [l1, l2],\n",
    "    [\"Prior 1\", \"Posterior 1\"]\n",
    ")\n",
    "fig"
   ]
  },
  {
   "cell_type": "code",
   "execution_count": null,
   "metadata": {},
   "outputs": [],
   "source": [
    "getMean(prior1, true),\n",
    "getMean(posterior1, false)"
   ]
  },
  {
   "cell_type": "markdown",
   "metadata": {},
   "source": [
    "Before we saw the prizez, we expected to see a showcase with a value ~$30k,\n",
    "after making a guess of 23k we updated the distibution. Now we expect the actual\n",
    "price o be ~26k."
   ]
  },
  {
   "cell_type": "markdown",
   "metadata": {},
   "source": [
    "### Exercise 1\n",
    "\n",
    "Now it's Player 2 turn. He evaluates the prize to be worth $38'000.\n",
    "Perform the above calculations for Player 2."
   ]
  },
  {
   "cell_type": "code",
   "execution_count": null,
   "metadata": {},
   "outputs": [],
   "source": [
    "guess2 = 38_000\n",
    "error2 = guess2 .- prior2.names;"
   ]
  },
  {
   "cell_type": "code",
   "execution_count": null,
   "metadata": {},
   "outputs": [],
   "source": [
    "meanDiff2 = Stats.mean(sampleDiff2)\n",
    "stdDiff2 = Stats.std(sampleDiff2)\n",
    "\n",
    "(meanDiff2, stdDiff2)"
   ]
  },
  {
   "cell_type": "code",
   "execution_count": null,
   "metadata": {},
   "outputs": [],
   "source": [
    "errorDist2 = Dsts.Normal(0, stdDiff2)"
   ]
  },
  {
   "cell_type": "code",
   "execution_count": null,
   "metadata": {},
   "outputs": [],
   "source": [
    "likelihood2 = Dsts.pdf.(errorDist2, error2);"
   ]
  },
  {
   "cell_type": "code",
   "execution_count": null,
   "metadata": {},
   "outputs": [],
   "source": [
    "posterior2 = Pmf(prior2.names |> copy, prior2.priors)\n",
    "posterior2.likelihoods = likelihood2\n",
    "updatePosteriors!(posterior2, true);"
   ]
  },
  {
   "cell_type": "code",
   "execution_count": null,
   "metadata": {},
   "outputs": [],
   "source": [
    "fig = Cmk.Figure()\n",
    "ax1, l1 = Cmk.lines(\n",
    "    fig[1, 1],\n",
    "    prior2.names, prior2.priors,\n",
    "    color=:gray, linewidth=3,\n",
    "    axis=(;title=\"Prior and posterior distribution of showcase value\",\n",
    "    xlabel=\"Showcase value in \\$\", ylabel=\"PMF\",\n",
    "    xticks=(0:10000:80000, map(x -> string(x, \"k\"), 0:10:80)),\n",
    "    yticks=0:0.01:0.09, \n",
    "    )\n",
    "\n",
    ")\n",
    "l2 = Cmk.lines!(\n",
    "    fig[1, 1],\n",
    "    posterior2.names, posterior2.posteriors,\n",
    "    color=:purple, linewidth=3,\n",
    ")\n",
    "Cmk.axislegend(\n",
    "    ax1,\n",
    "    [l1, l2],\n",
    "    [\"Prior 2\", \"Posterior 2\"]\n",
    ")\n",
    "fig"
   ]
  },
  {
   "cell_type": "code",
   "execution_count": null,
   "metadata": {},
   "outputs": [],
   "source": [
    "getMean(prior2, true),\n",
    "getMean(posterior2, false)"
   ]
  },
  {
   "cell_type": "markdown",
   "metadata": {},
   "source": [
    "## Probability of Winning\n",
    "\n",
    "From the point of view of Player 1, let's compute the probability that Player 2 overbids. To keep it simple, I’ll use only the performance of past players, ignoring the value of the showcase."
   ]
  },
  {
   "cell_type": "code",
   "execution_count": null,
   "metadata": {},
   "outputs": [],
   "source": [
    "function getProbOverbid(sampleDiff::Vector{<:Num})::Float64\n",
    "    return Stats.mean(sampleDiff .> 0) \n",
    "end"
   ]
  },
  {
   "cell_type": "code",
   "execution_count": null,
   "metadata": {},
   "outputs": [],
   "source": [
    "# an estimate of P(Player 2 overbid)\n",
    "getProbOverbid(sampleDiff2)"
   ]
  },
  {
   "cell_type": "markdown",
   "metadata": {},
   "source": [
    "Now suppose Player 1 underbids by $5'000. What is the probability that Player 2\n",
    "underbids by more?"
   ]
  },
  {
   "cell_type": "code",
   "execution_count": null,
   "metadata": {},
   "outputs": [],
   "source": [
    "function getProbWorseThan(diff::A, sampleDiff::Vector{B})::Float64 where {A<:Num, B<:Num}\n",
    "    return Stats.mean(sampleDiff .< diff)    \n",
    "end"
   ]
  },
  {
   "cell_type": "code",
   "execution_count": null,
   "metadata": {},
   "outputs": [],
   "source": [
    "# P(Player 2 underbids by >= 5k)\n",
    "getProbWorseThan(-5_000, sampleDiff2)"
   ]
  },
  {
   "cell_type": "code",
   "execution_count": null,
   "metadata": {},
   "outputs": [],
   "source": [
    "# P(Player 2 underbids by >= 10k)\n",
    "getProbWorseThan(-10_000, sampleDiff2)"
   ]
  },
  {
   "cell_type": "markdown",
   "metadata": {},
   "source": [
    "We can combine these functions to compute the probability that Player 1 wins,\n",
    "given the difference between their bid and the actual price:"
   ]
  },
  {
   "cell_type": "code",
   "execution_count": null,
   "metadata": {},
   "outputs": [],
   "source": [
    "function getProbWin(diff::A, sampleDiff::Vector{B})::Float64 where {A<:Num, B<:Num}\n",
    "    # if you overbid you lose \n",
    "    if diff > 0\n",
    "        return 0\n",
    "    else\n",
    "        # if the opponent overbids, you win\n",
    "        pOppOverbid = getProbOverbid(sampleDiff)\n",
    "        # of if theif bid is worse than yours, you win\n",
    "        pOppBidWorse = getProbWorseThan(diff, sampleDiff)\n",
    "\n",
    "        # pOppOverbid and pOppBidWorse are mutually exclusive\n",
    "        return pOppOverbid + pOppBidWorse\n",
    "    end\n",
    "end"
   ]
  },
  {
   "cell_type": "code",
   "execution_count": null,
   "metadata": {},
   "outputs": [],
   "source": [
    "# prob Player 1 wins, given they overbid by $5k\n",
    "getProbWin(-5000, sampleDiff2)"
   ]
  },
  {
   "cell_type": "code",
   "execution_count": null,
   "metadata": {},
   "outputs": [],
   "source": [
    "xs = range(-30_000, 5_000, 121) |> collect\n",
    "ys = map(x -> getProbWin(x, sampleDiff2), xs);"
   ]
  },
  {
   "cell_type": "code",
   "execution_count": null,
   "metadata": {},
   "outputs": [],
   "source": [
    "fig = Cmk.Figure()\n",
    "Cmk.lines(\n",
    "    fig[1, 1],\n",
    "    xs, ys,\n",
    "    color=:blue, linewidth=2,\n",
    "    axis=(;title=\"Player 1\",\n",
    "        xlabel=\"Difference between bid and actual price (\\$)\",\n",
    "        ylabel=\"Probability of winning with Player 2\",\n",
    "        xticks=(-30_000:5_000:5_000, map(x -> string(x, \"k\"), -30:5:5)),\n",
    "        yticks=0:0.2:1, \n",
    "    )\n",
    ")\n",
    "fig"
   ]
  },
  {
   "cell_type": "markdown",
   "metadata": {},
   "source": [
    "If Player 1 underbids by $30k, the probability of winning is ~0.3, which is\n",
    "mostly the chance Player 2 overbids.\n",
    "\n",
    "As the bid gets closer to the actual price the prob is closer to 1. If Player 1\n",
    "overbids, they loose even if Player 2 overbids."
   ]
  },
  {
   "cell_type": "markdown",
   "metadata": {},
   "source": [
    "### Exercise 2\n",
    "\n",
    "Run the same analysis from the point of view of Player 2."
   ]
  },
  {
   "cell_type": "code",
   "execution_count": null,
   "metadata": {},
   "outputs": [],
   "source": [
    "# an estimate of P(Player 1 overbid)\n",
    "getProbOverbid(sampleDiff1)"
   ]
  },
  {
   "cell_type": "code",
   "execution_count": null,
   "metadata": {},
   "outputs": [],
   "source": [
    "# P(Player 1 underbids by >= 5k)\n",
    "getProbWorseThan(-5_000, sampleDiff1)"
   ]
  },
  {
   "cell_type": "code",
   "execution_count": null,
   "metadata": {},
   "outputs": [],
   "source": [
    "# prob Player 2 wins, given they overbid by $5k\n",
    "getProbWin(-5000, sampleDiff1)"
   ]
  },
  {
   "cell_type": "code",
   "execution_count": null,
   "metadata": {},
   "outputs": [],
   "source": [
    "xs = range(-30_000, 5_000, 121) |> collect\n",
    "ys = map(x -> getProbWin(x, sampleDiff1), xs);"
   ]
  },
  {
   "cell_type": "code",
   "execution_count": null,
   "metadata": {},
   "outputs": [],
   "source": [
    "fig = Cmk.Figure()\n",
    "Cmk.lines(\n",
    "    fig[1, 1],\n",
    "    xs, ys,\n",
    "    color=:blue, linewidth=2,\n",
    "    axis=(;title=\"Player 2\",\n",
    "        xlabel=\"Difference between bid and actual price (\\$)\",\n",
    "        ylabel=\"Probability of winning with Player 1\",\n",
    "        xticks=(-30_000:5_000:5_000, map(x -> string(x, \"k\"), -30:5:5)),\n",
    "        yticks=0:0.2:1, \n",
    "    )\n",
    ")\n",
    "fig"
   ]
  },
  {
   "cell_type": "markdown",
   "metadata": {},
   "source": [
    "## Decision Analysis\n",
    "\n",
    "In contrary to what we did in the previous section the contestants don’t \n",
    "if and how much they underbid/overbid (they don’t know the actual price).\n",
    "\n",
    "But they do have a posterior distribution that represents their beliefs about\n",
    "the actual price, and they can use that to estimate their probability of winning\n",
    "with a given bid.\n",
    "\n",
    "$P(win) = \\sum P(Price_i) P(win | price_i)$"
   ]
  },
  {
   "cell_type": "code",
   "execution_count": null,
   "metadata": {},
   "outputs": [],
   "source": [
    "\"\"\"getTotalProbOfWin(bid::Real,\n",
    "        posteriors::Pmf{Float64},\n",
    "        diffsForOpponent::Vector{Real})::Float64\n",
    "\n",
    "    Computes the total probability of winning with a given bid.\n",
    "\n",
    "\t---\n",
    "\targs:\n",
    "        bid: your bid\n",
    "        posteriors: Pmf of showcase value\n",
    "        diffsForOpponent: sequence of differences for the opponent\n",
    "    \n",
    "    returns:\n",
    "        probability of winning\n",
    "\"\"\"\n",
    "function getTotalProbOfWin(\n",
    "    bid::A, posteriors::Pmf{Float64},\n",
    "    diffsForOpponent::Vector{B})::Float64 where {A<:Num, B<:Num}\n",
    "\n",
    "    total::Float64 = 0.0\n",
    "    diff::Float64 = 0.0\n",
    "    for (price, prob) in zip(posteriors.names, posteriors.posteriors)\n",
    "        diff = bid - price \n",
    "        total += prob * getProbWin(diff, diffsForOpponent)\n",
    "    end\n",
    "   return total \n",
    "end"
   ]
  },
  {
   "cell_type": "markdown",
   "metadata": {},
   "source": [
    "Here's the probability that Player 1 wins, based on a bid of $25'000 and the\n",
    "posterior distribution `posterior1`"
   ]
  },
  {
   "cell_type": "code",
   "execution_count": null,
   "metadata": {},
   "outputs": [],
   "source": [
    "getTotalProbOfWin(25_000, posterior1, sampleDiff2)"
   ]
  },
  {
   "cell_type": "markdown",
   "metadata": {},
   "source": [
    "Now we can loop through a series of possible bids and compute the probability of\n",
    "winning for each one."
   ]
  },
  {
   "cell_type": "code",
   "execution_count": null,
   "metadata": {},
   "outputs": [],
   "source": [
    "bids = posterior1.names\n",
    "probs = map(bid -> getTotalProbOfWin(bid, posterior1, sampleDiff2), bids);"
   ]
  },
  {
   "cell_type": "code",
   "execution_count": null,
   "metadata": {},
   "outputs": [],
   "source": [
    "fig = Cmk.Figure()\n",
    "ax, l = Cmk.lines(\n",
    "    fig[1, 1],\n",
    "    bids, probs,\n",
    "    color=:orange, linewidth=2,\n",
    "    axis=(;title=\"Optimal bid: probability of winning\",\n",
    "        xlabel=\"Bid [\\$]\",\n",
    "        ylabel=\"Probability of winning\",\n",
    "        xticks=(0:10_000:80_000, map(x -> string(x, \"k\"), 0:10:80)),\n",
    "        yticks=0:0.1:6, \n",
    "    )\n",
    ")\n",
    "Cmk.axislegend(\n",
    "    ax,\n",
    "    [l],\n",
    "    [\"Player 1\"]\n",
    ")\n",
    "fig"
   ]
  },
  {
   "cell_type": "code",
   "execution_count": null,
   "metadata": {},
   "outputs": [],
   "source": [
    "indxMaxProb = findfirst(prob -> prob == maximum(probs), probs)"
   ]
  },
  {
   "cell_type": "code",
   "execution_count": null,
   "metadata": {},
   "outputs": [],
   "source": [
    "probs[indxMaxProb],\n",
    "bids[indxMaxProb]"
   ]
  },
  {
   "cell_type": "markdown",
   "metadata": {},
   "source": [
    "It appears that the bid that maximizes Player1 chance of winning is $21'000."
   ]
  },
  {
   "cell_type": "markdown",
   "metadata": {},
   "source": [
    "### Exercise 3\n",
    "\n",
    "Do the same analysis for Player 2."
   ]
  },
  {
   "cell_type": "code",
   "execution_count": null,
   "metadata": {},
   "outputs": [],
   "source": [
    "bids = posterior2.names\n",
    "probs = map(bid -> getTotalProbOfWin(bid, posterior2, sampleDiff1), bids);"
   ]
  },
  {
   "cell_type": "code",
   "execution_count": null,
   "metadata": {},
   "outputs": [],
   "source": [
    "fig = Cmk.Figure()\n",
    "ax, l = Cmk.lines(\n",
    "    fig[1, 1],\n",
    "    bids, probs,\n",
    "    color=:orange, linewidth=2,\n",
    "    axis=(;title=\"Optimal bid: probability of winning\",\n",
    "        xlabel=\"Bid [\\$]\",\n",
    "        ylabel=\"Probability of winning\",\n",
    "        xticks=(0:10_000:80_000, map(x -> string(x, \"k\"), 0:10:80)),\n",
    "        yticks=0:0.1:6, \n",
    "    )\n",
    ")\n",
    "Cmk.axislegend(\n",
    "    ax,\n",
    "    [l],\n",
    "    [\"Player 2\"]\n",
    ")\n",
    "fig"
   ]
  },
  {
   "cell_type": "code",
   "execution_count": null,
   "metadata": {},
   "outputs": [],
   "source": [
    "indxMaxProb = findfirst(prob -> prob == maximum(probs), probs)"
   ]
  },
  {
   "cell_type": "code",
   "execution_count": null,
   "metadata": {},
   "outputs": [],
   "source": [
    "probs[indxMaxProb],\n",
    "bids[indxMaxProb]"
   ]
  },
  {
   "cell_type": "markdown",
   "metadata": {},
   "source": [
    "## Maximizing Expected Gain\n",
    "\n",
    "[...] if your bid is off by $250 or less, you win both showcases. So it might be\n",
    "a good idea to increase your bid a little: it increases the chance you overbid\n",
    "and lose, but it also increases the chance of winning both showcases."
   ]
  },
  {
   "cell_type": "code",
   "execution_count": null,
   "metadata": {},
   "outputs": [],
   "source": [
    "\"\"\"\n",
    "Compute expected gain given a bid and actualPrice.\n",
    "\"\"\"\n",
    "function getGain(\n",
    "    bid::A,\n",
    "    actualPrice::B,\n",
    "    sampleDiffs::Vector{Int})::Float64 where {A<:Num, B<:Num}\n",
    "\n",
    "    diff::Int = bid - actualPrice\n",
    "    prob::Float64 = getProbWin(diff, sampleDiffs)\n",
    "    # if you are within 250 dollars, you win both showcases\n",
    "    if -250 <= diff <= 0\n",
    "        return 2 * actualPrice * prob\n",
    "    else\n",
    "        return actualPrice * prob\n",
    "    end\n",
    "end"
   ]
  },
  {
   "cell_type": "code",
   "execution_count": null,
   "metadata": {},
   "outputs": [],
   "source": [
    "getGain(30_000, 35_000, sampleDiff2)"
   ]
  },
  {
   "cell_type": "markdown",
   "metadata": {},
   "source": [
    "In reality we don’t know the actual price, but we have a posterior distribution\n",
    "that represents what we know about it. By averaging over the prices and\n",
    "probabilities in the posterior distribution, we can compute the expected gain\n",
    "for a particular bid.\n",
    "\n",
    "In this context, “expected” means the average over the possible showcase values,\n",
    "weighted by their probabilities."
   ]
  },
  {
   "cell_type": "code",
   "execution_count": null,
   "metadata": {},
   "outputs": [],
   "source": [
    "\"\"\"\n",
    "Compute the expected gain of a given bid.\n",
    "\"\"\"\n",
    "function getExpectedGain(\n",
    "    bid::A,\n",
    "    posteriors::Pmf{Float64},\n",
    "    sampleDiffs::Vector{Int})::Float64 where {A<:Num}\n",
    "    \n",
    "    total::Float64 = 0\n",
    "    for (price, prob) in zip(posteriors.names, posteriors.posteriors)\n",
    "        total += prob * getGain(bid, price, sampleDiffs)\n",
    "    end\n",
    "\n",
    "    return total\n",
    "end"
   ]
  },
  {
   "cell_type": "code",
   "execution_count": null,
   "metadata": {},
   "outputs": [],
   "source": [
    "getExpectedGain(21_000, posterior1, sampleDiff2)"
   ]
  },
  {
   "cell_type": "markdown",
   "metadata": {},
   "source": [
    "But can we do any better?\n",
    "\n",
    "To find out, we can loop through a range of bids and find the one that maximizes\n",
    "expected gain."
   ]
  },
  {
   "cell_type": "code",
   "execution_count": null,
   "metadata": {},
   "outputs": [],
   "source": [
    "bids = posterior1.names\n",
    "gains = map(bid -> getExpectedGain(bid, posterior1, sampleDiff2), bids);"
   ]
  },
  {
   "cell_type": "code",
   "execution_count": null,
   "metadata": {},
   "outputs": [],
   "source": [
    "fig = Cmk.Figure()\n",
    "ax, l = Cmk.lines(\n",
    "    fig[1, 1],\n",
    "    bids, gains,\n",
    "    color=:green, linewidth=2,\n",
    "    axis=(;title=\"Optimal bid: expected gain\",\n",
    "        xlabel=\"Bid [\\$]\",\n",
    "        ylabel=\"Expected gain [\\$]\",\n",
    "        xticks=(0:10_000:80_000, map(x -> string(x, \"k\"), 0:10:80)),\n",
    "        yticks=(0:2500:17500, map(x -> string(x, \"k\"), 0:2.5:17.5)), \n",
    "    )\n",
    ")\n",
    "Cmk.axislegend(\n",
    "    ax,\n",
    "    [l],\n",
    "    [\"Player 1\"]\n",
    ")\n",
    "fig"
   ]
  },
  {
   "cell_type": "code",
   "execution_count": null,
   "metadata": {},
   "outputs": [],
   "source": [
    "maxGainIndx = findfirst(gain -> gain == maximum(gains), gains)"
   ]
  },
  {
   "cell_type": "code",
   "execution_count": null,
   "metadata": {},
   "outputs": [],
   "source": [
    "bids[maxGainIndx],\n",
    "gains[maxGainIndx]"
   ]
  },
  {
   "cell_type": "markdown",
   "metadata": {},
   "source": [
    "### Exercise 4\n",
    "\n",
    "Do the same analysis for Player 2."
   ]
  },
  {
   "cell_type": "code",
   "execution_count": null,
   "metadata": {},
   "outputs": [],
   "source": [
    "bids = posterior2.names\n",
    "gains = map(bid -> getExpectedGain(bid, posterior2, sampleDiff1), bids);"
   ]
  },
  {
   "cell_type": "code",
   "execution_count": null,
   "metadata": {},
   "outputs": [],
   "source": [
    "fig = Cmk.Figure()\n",
    "ax, l = Cmk.lines(\n",
    "    fig[1, 1],\n",
    "    bids, gains,\n",
    "    color=:green, linewidth=2,\n",
    "    axis=(;title=\"Optimal bid: expected gain\",\n",
    "        xlabel=\"Bid [\\$]\",\n",
    "        ylabel=\"Expected gain [\\$]\",\n",
    "        xticks=(0:10_000:80_000, map(x -> string(x, \"k\"), 0:10:80)),\n",
    "        yticks=(0:2500:17500, map(x -> string(x, \"k\"), 0:2.5:17.5)), \n",
    "    )\n",
    ")\n",
    "Cmk.axislegend(\n",
    "    ax,\n",
    "    [l],\n",
    "    [\"Player 2\"]\n",
    ")\n",
    "fig"
   ]
  },
  {
   "cell_type": "code",
   "execution_count": null,
   "metadata": {},
   "outputs": [],
   "source": [
    "maxGainIndx = findfirst(gain -> gain == maximum(gains), gains)"
   ]
  },
  {
   "cell_type": "code",
   "execution_count": null,
   "metadata": {},
   "outputs": [],
   "source": [
    "bids[maxGainIndx],\n",
    "gains[maxGainIndx]"
   ]
  },
  {
   "cell_type": "markdown",
   "metadata": {},
   "source": [
    "## Summary\n",
    "\n",
    "Let’s review what we did in this chapter:\n",
    "\n",
    "- we used KDE and data from past shows to estimate prior distributions for the values/prices of the showcases.\n",
    "- we used bids from past shows to model the distribution of errors as a normal distribution.\n",
    "- we did a Bayesian update using the distribution of errors to compute the likelihood of the data.\n",
    "- we used the posterior distribution for the value/price of the showcase to\n",
    "compute the probability of winning for each possible bid, and identified the bid\n",
    "that maximizes the chance of winning.\n",
    "- we used probability of winning to compute the expected gain for each possible\n",
    "bid, and identified the bid that maximizes expected gain."
   ]
  },
  {
   "cell_type": "markdown",
   "metadata": {},
   "source": [
    "## Discussion\n",
    "\n",
    "[...] because Bayesian and frequentist method produce different kinds of results:\n",
    "- The result of frequentist methods is usually a single value that is considered\n",
    "to be the best estimate (by one of several criteria) or an interval that\n",
    "quantifies the precision of the estimate.\n",
    "- The result of Bayesian methods is a posterior distribution that represents all\n",
    "possible outcomes and their probabilities.\n",
    "\n",
    "Granted, you can use the posterior distribution to choose a “best” estimate or\n",
    "compute an interval. And in that case the result might be the same as the\n",
    "frequentist estimate.\n",
    "\n",
    "[...] the primary benefit of Bayesian methods: the posterior distribution is\n",
    "more useful than a single estimate, or even an interval, e.g.\n",
    "\n",
    "Using the entire posterior distribution, we can compute the bid that maximizes\n",
    "the probability of winning, or the bid that maximizes expected gain, even if the\n",
    "rules for computing the gain are complicated (and nonlinear).\n",
    "\n",
    "With a single estimate or an interval, we can’t do that, even if they are\n",
    "“optimal” in some sense. In general, frequentist estimation provides little\n",
    "guidance for decision-making.\n"
   ]
  },
  {
   "cell_type": "markdown",
   "metadata": {},
   "source": [
    "## Exericses"
   ]
  },
  {
   "cell_type": "markdown",
   "metadata": {},
   "source": [
    "### Exercise 5\n",
    "\n",
    "Below task description (copy-paste) from the book, I/me/my, etc. means Allen Downey.\n",
    "\n",
    "When I worked in Cambridge, Massachusetts, I usually took the subway to South Station and then a commuter train home to Needham. Because the subway was unpredictable, I left the office early enough that I could wait up to 15 minutes and still catch the commuter train.\n",
    "\n",
    "When I got to the subway stop, there were usually about 10 people waiting on the platform. If there were fewer than that, I figured I just missed a train, so I expected to wait a little longer than usual. And if there there more than that, I expected another train soon.\n",
    "\n",
    "But if there were a lot more than 10 passengers waiting, I inferred that something was wrong, and I expected a long wait. In that case, I might leave and take a taxi.\n",
    "\n",
    "We can use Bayesian decision analysis to quantify the analysis I did intuitively. Given the number of passengers on the platform, how long should we expect to wait? And when should we give up and take a taxi?\n",
    "\n",
    "My analysis of this problem is in redline.ipynb, which is in the repository for this book. [Click here to run this notebook on Colab](https://colab.research.google.com/github/AllenDowney/ThinkBayes2/blob/master/notebooks/redline.ipynb)."
   ]
  }
 ],
 "metadata": {
  "kernelspec": {
   "display_name": "Julia 1.10.2",
   "language": "julia",
   "name": "julia-1.10"
  },
  "language_info": {
   "file_extension": ".jl",
   "mimetype": "application/julia",
   "name": "julia",
   "version": "1.10.2"
  },
  "name": "ch09.ipynb"
 },
 "nbformat": 4,
 "nbformat_minor": 4
}
