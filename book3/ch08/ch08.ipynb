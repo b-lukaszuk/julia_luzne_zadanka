{
 "cells": [
  {
   "attachments": {},
   "cell_type": "markdown",
   "metadata": {},
   "source": [
    "# Chapter 8. Principles of statistical analysis"
   ]
  },
  {
   "attachments": {},
   "cell_type": "markdown",
   "metadata": {},
   "source": [
    "## Imports "
   ]
  },
  {
   "cell_type": "code",
   "execution_count": 1,
   "metadata": {},
   "outputs": [],
   "source": [
    "import DataFrames as pd # pandas in python\n",
    "import Distributions as dst"
   ]
  },
  {
   "attachments": {},
   "cell_type": "markdown",
   "metadata": {},
   "source": [
    "## Warning regarding solutions"
   ]
  },
  {
   "attachments": {},
   "cell_type": "markdown",
   "metadata": {},
   "source": [
    "NO GUARANTEE THAT THE SOLUTIONS WILL WORK OR WORK CORRECTLY! USE THEM AT YOUR OWN RISK!\n",
    "\n",
    "THE ANSWERS PROVIDED BELOW MAY BE WRONG. USE THEM AT YOUR OWN RISK!"
   ]
  },
  {
   "attachments": {},
   "cell_type": "markdown",
   "metadata": {},
   "source": [
    "# Exercises"
   ]
  },
  {
   "attachments": {},
   "cell_type": "markdown",
   "metadata": {},
   "source": [
    "## Exercise 8.2\n",
    "\n",
    "Eight diabetic patients had plasma glucose levels (mmol/l) measured before and one hour after oral administration of 100 g glucose (Feingold et al., 1989), with the following results\n",
    "\n",
    "before = [4.67, 4.97, 5.11, 5.17, 5.33, 6.22, 6.50, 7.00]\n",
    "\n",
    "after = [5.44, 10.11, 8.49, 6.61, 10.67, 5.67, 5.78, 9.89]\n",
    "\n",
    "(a) Calculate the standard error of the mean change in plasma glucose\n",
    "\n",
    "(b) On the basis of these data, how many diabetic patients would need to be studied so that the width of the 95% conficence interval for the mean change in plasma glucose level was 0.5 mmol/l? (Assume that the Normal distribution is the appropriate sampling distribution of the change in plasma glucose.)"
   ]
  },
  {
   "cell_type": "code",
   "execution_count": 2,
   "metadata": {},
   "outputs": [
    {
     "data": {
      "text/html": [
       "<div><div style = \"float: left;\"><span>8×3 DataFrame</span></div><div style = \"clear: both;\"></div></div><div class = \"data-frame\" style = \"overflow-x: scroll;\"><table class = \"data-frame\" style = \"margin-bottom: 6px;\"><thead><tr class = \"header\"><th class = \"rowNumber\" style = \"font-weight: bold; text-align: right;\">Row</th><th style = \"text-align: left;\">glucose_before</th><th style = \"text-align: left;\">glucose_after</th><th style = \"text-align: left;\">change</th></tr><tr class = \"subheader headerLastRow\"><th class = \"rowNumber\" style = \"font-weight: bold; text-align: right;\"></th><th title = \"Float64\" style = \"text-align: left;\">Float64</th><th title = \"Float64\" style = \"text-align: left;\">Float64</th><th title = \"Float64\" style = \"text-align: left;\">Float64</th></tr></thead><tbody><tr><td class = \"rowNumber\" style = \"font-weight: bold; text-align: right;\">1</td><td style = \"text-align: right;\">4.67</td><td style = \"text-align: right;\">5.44</td><td style = \"text-align: right;\">0.77</td></tr><tr><td class = \"rowNumber\" style = \"font-weight: bold; text-align: right;\">2</td><td style = \"text-align: right;\">4.97</td><td style = \"text-align: right;\">10.11</td><td style = \"text-align: right;\">5.14</td></tr><tr><td class = \"rowNumber\" style = \"font-weight: bold; text-align: right;\">3</td><td style = \"text-align: right;\">5.11</td><td style = \"text-align: right;\">8.49</td><td style = \"text-align: right;\">3.38</td></tr><tr><td class = \"rowNumber\" style = \"font-weight: bold; text-align: right;\">4</td><td style = \"text-align: right;\">5.17</td><td style = \"text-align: right;\">6.61</td><td style = \"text-align: right;\">1.44</td></tr><tr><td class = \"rowNumber\" style = \"font-weight: bold; text-align: right;\">5</td><td style = \"text-align: right;\">5.33</td><td style = \"text-align: right;\">10.67</td><td style = \"text-align: right;\">5.34</td></tr><tr><td class = \"rowNumber\" style = \"font-weight: bold; text-align: right;\">6</td><td style = \"text-align: right;\">6.22</td><td style = \"text-align: right;\">5.67</td><td style = \"text-align: right;\">-0.55</td></tr><tr><td class = \"rowNumber\" style = \"font-weight: bold; text-align: right;\">7</td><td style = \"text-align: right;\">6.5</td><td style = \"text-align: right;\">5.78</td><td style = \"text-align: right;\">-0.72</td></tr><tr><td class = \"rowNumber\" style = \"font-weight: bold; text-align: right;\">8</td><td style = \"text-align: right;\">7.0</td><td style = \"text-align: right;\">9.89</td><td style = \"text-align: right;\">2.89</td></tr></tbody></table></div>"
      ],
      "text/latex": [
       "\\begin{tabular}{r|ccc}\n",
       "\t& glucose\\_before & glucose\\_after & change\\\\\n",
       "\t\\hline\n",
       "\t& Float64 & Float64 & Float64\\\\\n",
       "\t\\hline\n",
       "\t1 & 4.67 & 5.44 & 0.77 \\\\\n",
       "\t2 & 4.97 & 10.11 & 5.14 \\\\\n",
       "\t3 & 5.11 & 8.49 & 3.38 \\\\\n",
       "\t4 & 5.17 & 6.61 & 1.44 \\\\\n",
       "\t5 & 5.33 & 10.67 & 5.34 \\\\\n",
       "\t6 & 6.22 & 5.67 & -0.55 \\\\\n",
       "\t7 & 6.5 & 5.78 & -0.72 \\\\\n",
       "\t8 & 7.0 & 9.89 & 2.89 \\\\\n",
       "\\end{tabular}\n"
      ],
      "text/plain": [
       "\u001b[1m8×3 DataFrame\u001b[0m\n",
       "\u001b[1m Row \u001b[0m│\u001b[1m glucose_before \u001b[0m\u001b[1m glucose_after \u001b[0m\u001b[1m change  \u001b[0m\n",
       "     │\u001b[90m Float64        \u001b[0m\u001b[90m Float64       \u001b[0m\u001b[90m Float64 \u001b[0m\n",
       "─────┼────────────────────────────────────────\n",
       "   1 │           4.67           5.44     0.77\n",
       "   2 │           4.97          10.11     5.14\n",
       "   3 │           5.11           8.49     3.38\n",
       "   4 │           5.17           6.61     1.44\n",
       "   5 │           5.33          10.67     5.34\n",
       "   6 │           6.22           5.67    -0.55\n",
       "   7 │           6.5            5.78    -0.72\n",
       "   8 │           7.0            9.89     2.89"
      ]
     },
     "execution_count": 2,
     "metadata": {},
     "output_type": "execute_result"
    }
   ],
   "source": [
    "ex82 = pd.DataFrame((\n",
    "    ;glucose_before = [4.67, 4.97, 5.11, 5.17, 5.33, 6.22, 6.50, 7.00],\n",
    "    glucose_after = [5.44, 10.11, 8.49, 6.61, 10.67, 5.67, 5.78, 9.89]\n",
    "    ))\n",
    "ex82[:, \"change\"] = ex82[!, \"glucose_after\"] - ex82[!, \"glucose_before\"]\n",
    "ex82"
   ]
  },
  {
   "cell_type": "code",
   "execution_count": 3,
   "metadata": {},
   "outputs": [
    {
     "data": {
      "text/plain": [
       "get_sd (generic function with 1 method)"
      ]
     },
     "execution_count": 3,
     "metadata": {},
     "output_type": "execute_result"
    }
   ],
   "source": [
    "function get_mean(xs::Vector{<:Number})::Float64\n",
    "    return mean::Float64 = sum(xs) / length(xs)\n",
    "end\n",
    "\n",
    "function get_sd(xs::Vector{<:Number})::Float64\n",
    "    mean::Float64 = get_mean(xs)\n",
    "    return sqrt(sum([(x-mean)^2 for x in xs]) / (length(xs) - 1))\n",
    "end"
   ]
  },
  {
   "cell_type": "code",
   "execution_count": 4,
   "metadata": {},
   "outputs": [
    {
     "data": {
      "text/plain": [
       "get_sem (generic function with 1 method)"
      ]
     },
     "execution_count": 4,
     "metadata": {},
     "output_type": "execute_result"
    }
   ],
   "source": [
    "function get_sem(xs::Vector{<:Number})::Float64\n",
    "    return get_sd(xs) / sqrt(length(xs))\n",
    "end"
   ]
  },
  {
   "cell_type": "code",
   "execution_count": 5,
   "metadata": {},
   "outputs": [
    {
     "data": {
      "text/plain": [
       "0.8354007539156624"
      ]
     },
     "execution_count": 5,
     "metadata": {},
     "output_type": "execute_result"
    }
   ],
   "source": [
    "# here we don't use the formula for two independent samples\n",
    "# since before and after are dependent, so sem for single sample is OK\n",
    "get_sem(ex82[!, \"change\"])"
   ]
  },
  {
   "attachments": {},
   "cell_type": "markdown",
   "metadata": {},
   "source": [
    "### Ex.8.2(a) Answer\n",
    "\n",
    "So, SEM of change for glucose is equal to 0.8354..."
   ]
  }
 ],
 "metadata": {
  "kernelspec": {
   "display_name": "Julia 1.8.3",
   "language": "julia",
   "name": "julia-1.8"
  },
  "language_info": {
   "file_extension": ".jl",
   "mimetype": "application/julia",
   "name": "julia",
   "version": "1.8.3"
  },
  "orig_nbformat": 4,
  "vscode": {
   "interpreter": {
    "hash": "31f2aee4e71d21fbe5cf8b01ff0e069b9275f58929596ceb00d14d90e3e16cd6"
   }
  }
 },
 "nbformat": 4,
 "nbformat_minor": 2
}
