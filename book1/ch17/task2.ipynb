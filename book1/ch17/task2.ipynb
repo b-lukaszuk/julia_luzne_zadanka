{
 "cells": [
  {
   "attachments": {},
   "cell_type": "markdown",
   "id": "0afe05a3",
   "metadata": {},
   "source": [
    "# Task 2\n",
    "\n",
    "## Original exercise number\n",
    "\n",
    "Exercise 17-5\n",
    "\n",
    "## Description\n",
    "\n",
    "Write a definition for a type named `Kangaroo` with a field named `pouchcontents` of type `Array` and the following methods:\n",
    "- A constructor that initializes `pouchcontents` to an empty array.\n",
    "- A method named `putinpouch` that takes a `Kangaroo` object and an object of any type and adds it to `pouchcontents`.\n",
    "- A `show` method that returns a string representation of the `Kangaroo` object and the contents of the pouch.\n",
    "\n",
    "Test your code by creating two `Kangaroo` objects, assigning them to variables named `kanga` and `roo`, and then adding `roo` to the contents of `kanga`’s pouch."
   ]
  },
  {
   "cell_type": "markdown",
   "id": "c4bc3ea0",
   "metadata": {},
   "source": [
    "## Solution"
   ]
  },
  {
   "cell_type": "markdown",
   "id": "2895339f",
   "metadata": {},
   "source": [
    "NO GUARANTEE THAT THE SOLUTION WILL WORK OR WORKS CORRECTLY! USE IT AT\n",
    "YOUR OWN RISK!"
   ]
  },
  {
   "cell_type": "markdown",
   "id": "64af222d",
   "metadata": {},
   "source": [
    "### Imports"
   ]
  },
  {
   "cell_type": "code",
   "execution_count": null,
   "id": "c3db5e4c",
   "metadata": {},
   "outputs": [],
   "source": [
    "# nothing for now"
   ]
  },
  {
   "cell_type": "markdown",
   "id": "13de2cd1",
   "metadata": {},
   "source": [
    "### Structs"
   ]
  },
  {
   "cell_type": "code",
   "execution_count": null,
   "id": "bc1db5f0",
   "metadata": {},
   "outputs": [],
   "source": [
    "# I added name field to easier distingiush Kangoroo objects\n",
    "mutable struct Kangoroo\n",
    "    name::String\n",
    "    pouchcontents::Array{Any, 1}\n",
    "end"
   ]
  },
  {
   "cell_type": "markdown",
   "id": "05df47ca",
   "metadata": {},
   "source": [
    "### Functions"
   ]
  },
  {
   "cell_type": "code",
   "execution_count": null,
   "id": "c10c6dc2",
   "metadata": {},
   "outputs": [],
   "source": [
    "# outer constructor\n",
    "function Kangoroo(name::String)\n",
    "    return Kangoroo(name, [])\n",
    "end"
   ]
  },
  {
   "cell_type": "code",
   "execution_count": null,
   "id": "6a448384",
   "metadata": {},
   "outputs": [],
   "source": [
    "function Base.show(io::IO, kangoroo::Kangoroo)\n",
    "    result::String = \"Kangoroo($(kangoroo.name), \"\n",
    "    if isempty(kangoroo.pouchcontents)\n",
    "        result = result * \"empty)\"\n",
    "    else\n",
    "        result = result * join(kangoroo.pouchcontents, \", \") * \")\"\n",
    "    end\n",
    "    print(io, result)\n",
    "end"
   ]
  },
  {
   "cell_type": "code",
   "execution_count": null,
   "id": "96c876b5",
   "metadata": {},
   "outputs": [],
   "source": [
    "function putinpouch!(kangoroo::Kangoroo, someObj::Any)\n",
    "    push!(kangoroo.pouchcontents, someObj)\n",
    "end"
   ]
  },
  {
   "cell_type": "markdown",
   "id": "f8866cb1",
   "metadata": {},
   "source": [
    "## Testing"
   ]
  },
  {
   "cell_type": "code",
   "execution_count": null,
   "id": "e9665538",
   "metadata": {},
   "outputs": [],
   "source": [
    "kanga = Kangoroo(\"kanga\")"
   ]
  },
  {
   "cell_type": "code",
   "execution_count": null,
   "id": "d7d6dae2",
   "metadata": {},
   "outputs": [],
   "source": [
    "roo = Kangoroo(\"roo\")"
   ]
  },
  {
   "cell_type": "code",
   "execution_count": null,
   "id": "ce443f27",
   "metadata": {},
   "outputs": [],
   "source": [
    "putinpouch!(kanga, roo)"
   ]
  },
  {
   "cell_type": "code",
   "execution_count": null,
   "id": "94756dfc",
   "metadata": {},
   "outputs": [],
   "source": [
    "kanga"
   ]
  }
 ],
 "metadata": {
  "kernelspec": {
   "display_name": "Julia 1.8.3",
   "language": "julia",
   "name": "julia-1.8"
  },
  "language_info": {
   "file_extension": ".jl",
   "mimetype": "application/julia",
   "name": "julia",
   "version": "1.8.3"
  },
  "name": "task1.ipynb"
 },
 "nbformat": 4,
 "nbformat_minor": 5
}
