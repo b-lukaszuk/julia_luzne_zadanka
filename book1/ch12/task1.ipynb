{
 "cells": [
  {
   "cell_type": "markdown",
   "id": "0afe05a3",
   "metadata": {},
   "source": [
    "# Task 1\n",
    "\n",
    "## Original exercise number\n",
    "\n",
    "Exercise 12-2\n",
    "\n",
    "## Description\n",
    "\n",
    "Write a function called `mostfrequent` that takes a string and prints the letters in decreasing order of frequency.\n",
    "Find text samples from several different languages and see how letter frequency varies between languages.\n",
    "Compare your results with the tables at https://en.wikipedia.org/wiki/Letter_frequencies.\n",
    " \n",
    "## My notes\n",
    "\n",
    "Here for testing I will use part of the Bible from [Project Gutenberg](https://www.gutenberg.org/cache/epub/10/pg10-images.html).\n",
    "\n",
    "I think I will not include the text in the repo for this chapter.\n",
    "\n",
    "I think I will skip testing for other languages."
   ]
  },
  {
   "cell_type": "markdown",
   "id": "c4bc3ea0",
   "metadata": {},
   "source": [
    "## Solution"
   ]
  },
  {
   "cell_type": "markdown",
   "id": "2895339f",
   "metadata": {},
   "source": [
    "NO GUARANTEE THAT THE SOLUTION WILL WORK OR WORKS CORRECTLY! USE IT AT\n",
    "YOUR OWN RISK!"
   ]
  },
  {
   "cell_type": "markdown",
   "id": "05df47ca",
   "metadata": {},
   "source": [
    "### Functions"
   ]
  },
  {
   "cell_type": "code",
   "execution_count": null,
   "id": "0e8dd25c",
   "metadata": {},
   "outputs": [],
   "source": [
    "function get_lines_from_file(path::String = \"./genesis/genesis.txt\")::Vector{String}\n",
    "    lines::Vector{String} = []\n",
    "    open(path) do file\n",
    "        for line in eachline(file)\n",
    "            push!(lines, line)\n",
    "        end\n",
    "    end\n",
    "    return lines\n",
    "end"
   ]
  },
  {
   "cell_type": "code",
   "execution_count": null,
   "id": "6a632b5d",
   "metadata": {},
   "outputs": [],
   "source": [
    "function get_counts(lines::Vector{String}, to_lower::Bool = true)::Dict{Char, Int}\n",
    "    counts::Dict{Char, Int} = Dict()\n",
    "    for line in lines\n",
    "        for ch in line\n",
    "            k = to_lower ? lowercase(ch) : ch\n",
    "            counts[k] = get(counts, k, 0) + 1\n",
    "        end\n",
    "    end\n",
    "    return counts\n",
    "end"
   ]
  },
  {
   "cell_type": "code",
   "execution_count": null,
   "id": "937956ca",
   "metadata": {},
   "outputs": [],
   "source": [
    "function filter_counts(counts::Dict{Char, Int}, keys::String)::Vector{Tuple{Char, Int}}\n",
    "    filtered_counts::Vector{Tuple{Char, Int}} = []\n",
    "    for key in keys\n",
    "        push!(filtered_counts, (key, counts[key]))\n",
    "    end\n",
    "    return filtered_counts\n",
    "end"
   ]
  },
  {
   "cell_type": "code",
   "execution_count": null,
   "id": "8c2d005e",
   "metadata": {},
   "outputs": [],
   "source": [
    "function get_frequencies(counts::Vector{Tuple{Char, Int}},\n",
    "    rounding::Int = 3)::Vector{Tuple{Char, Float64}}\n",
    "    num_of_total_chars::Int = sum([i for (c, i) in counts])\n",
    "    frequencies::Vector{Tuple{Char, Float64}} = [\n",
    "        (c, round(i/num_of_total_chars, digits=rounding)) for (c, i) in counts]\n",
    "    return frequencies\n",
    "end"
   ]
  },
  {
   "cell_type": "code",
   "execution_count": null,
   "id": "9833304c",
   "metadata": {},
   "outputs": [],
   "source": [
    "# Vector of strings instead of 1 long string as in task description\n",
    "function mostfrequent(lines::Vector{String})::Vector{Tuple{Char, Float64}}\n",
    "    counts::Dict{Char, Int} = get_counts(lines)\n",
    "    counts2::Vector{Tuple{Char, Int}} = filter_counts(counts, join([Char(i) for i in 97:(97+25)], \"\"))\n",
    "    frequencies::Vector{Tuple{Char, Float64}} = get_frequencies(counts2)\n",
    "    return sort(frequencies, by = x -> x[2], rev=true)\n",
    "end"
   ]
  },
  {
   "cell_type": "markdown",
   "id": "f8866cb1",
   "metadata": {},
   "source": [
    "## Testing"
   ]
  },
  {
   "cell_type": "code",
   "execution_count": null,
   "id": "fd01b46e",
   "metadata": {},
   "outputs": [],
   "source": [
    "lines = get_lines_from_file(\"./genesis/genesis.txt\")\n",
    "mostfrequent(lines)"
   ]
  }
 ],
 "metadata": {
  "kernelspec": {
   "display_name": "Julia 1.8.3",
   "language": "julia",
   "name": "julia-1.8"
  },
  "language_info": {
   "file_extension": ".jl",
   "mimetype": "application/julia",
   "name": "julia",
   "version": "1.8.3"
  },
  "name": "task1.ipynb"
 },
 "nbformat": 4,
 "nbformat_minor": 5
}
