{
 "cells": [
  {
   "cell_type": "markdown",
   "metadata": {},
   "source": [
    "# Chapter 4. Theoretical Distributions"
   ]
  },
  {
   "attachments": {},
   "cell_type": "markdown",
   "metadata": {},
   "source": [
    "## Imports "
   ]
  },
  {
   "cell_type": "code",
   "execution_count": null,
   "metadata": {},
   "outputs": [],
   "source": [
    "import Distributions as dst"
   ]
  },
  {
   "attachments": {},
   "cell_type": "markdown",
   "metadata": {},
   "source": [
    "## Warning regarding solutions"
   ]
  },
  {
   "attachments": {},
   "cell_type": "markdown",
   "metadata": {},
   "source": [
    "NO GUARANTEE THAT THE SOLUTIONS WILL WORK OR WORK CORRECTLY! USE THEM AT YOUR OWN RISK!\n",
    "\n",
    "THE ANSWERS PROVIDED BELOW MAY BE WRONG. USE THEM AT YOUR OWN RISK!"
   ]
  },
  {
   "attachments": {},
   "cell_type": "markdown",
   "metadata": {},
   "source": [
    "## Exercise 4.1"
   ]
  },
  {
   "attachments": {},
   "cell_type": "markdown",
   "metadata": {},
   "source": [
    "Assuming that the height of adult males has a Normal distribution, what proportion of males will be more than two standard deviations above the mean height?"
   ]
  },
  {
   "attachments": {},
   "cell_type": "markdown",
   "metadata": {},
   "source": [
    "### Ex 4.1. Solution with Distributions"
   ]
  },
  {
   "cell_type": "code",
   "execution_count": null,
   "metadata": {},
   "outputs": [],
   "source": [
    "1 - dst.cdf(dst.Normal(), 2)"
   ]
  },
  {
   "cell_type": "markdown",
   "metadata": {},
   "source": [
    "### Ex 4.1. Answer\n",
    "\n",
    "Approximately 0.02275 or 2.3% of men will be more than 2 std above the mean height"
   ]
  },
  {
   "cell_type": "markdown",
   "metadata": {},
   "source": [
    "## Exercise 4.2\n",
    "\n",
    "The probability of being blood group B is 0.08.\n",
    "What is the probability that if one pint of blood is taken from each of\n",
    "100 unrelated blood donors fewer than three pints of group B blood will be obtained?"
   ]
  },
  {
   "cell_type": "markdown",
   "metadata": {},
   "source": [
    "### Ex 4.2 Solution with Distributions"
   ]
  },
  {
   "cell_type": "code",
   "execution_count": null,
   "metadata": {},
   "outputs": [],
   "source": [
    "probGrB1::Float64 = dst.cdf(dst.Binomial(100, 0.08), 2)"
   ]
  },
  {
   "attachments": {},
   "cell_type": "markdown",
   "metadata": {},
   "source": [
    "### Ex 4.2 Solution by running computer simulations"
   ]
  },
  {
   "cell_type": "code",
   "execution_count": null,
   "metadata": {},
   "outputs": [],
   "source": [
    "function howManyGrBinNsamples(n::Int = 100)::Int\n",
    "    # 1:8 - treated as blood group B\n",
    "    return  length([i for i in rand(1:100, n) if i < 9])\n",
    "end"
   ]
  },
  {
   "cell_type": "code",
   "execution_count": null,
   "metadata": {},
   "outputs": [],
   "source": [
    "function getProbLT3GrB(n_iter::Int = 100_000)::Float64\n",
    "    results::Vector{Int} = [howManyGrBinNsamples() < 3 ? 1 : 0 for _ in 1:n_iter]\n",
    "    return sum(results) / n_iter\n",
    "end"
   ]
  },
  {
   "cell_type": "code",
   "execution_count": null,
   "metadata": {},
   "outputs": [],
   "source": [
    "probGrB2::Float64 = getProbLT3GrB()"
   ]
  },
  {
   "cell_type": "markdown",
   "metadata": {},
   "source": [
    "### Ex 4.2. Answer\n",
    "\n",
    "The probability is around 0.011 or 1.1%"
   ]
  },
  {
   "attachments": {},
   "cell_type": "markdown",
   "metadata": {},
   "source": [
    "### Exercise 4.3\n",
    "\n",
    "The probability of a baby being a boy is 0.52. For six women delivering consecutively in the same labour ward on one day, which of the following exact sequences of boys and girls is most likely and which least likely?\n",
    "\n",
    "GBGBGB BBBGGG GBBBBB"
   ]
  },
  {
   "cell_type": "code",
   "execution_count": null,
   "metadata": {},
   "outputs": [],
   "source": [
    "birthSeqs = [\"GBGBGB\", \"BBBGGG\", \"GBBBBB\"]"
   ]
  },
  {
   "attachments": {},
   "cell_type": "markdown",
   "metadata": {},
   "source": [
    "#### Ex 4.3 Solution with mathematical calculations"
   ]
  },
  {
   "cell_type": "code",
   "execution_count": null,
   "metadata": {},
   "outputs": [],
   "source": [
    "function getBirthSeqProb(birthSeq::String)::Float64\n",
    "    return prod([(b == 'B') ? 0.52 : 0.48 for b in birthSeq])\n",
    "end"
   ]
  },
  {
   "cell_type": "code",
   "execution_count": null,
   "metadata": {},
   "outputs": [],
   "source": [
    "birthSeqsProbs1 = [(getBirthSeqProb(bs), bs) for bs in birthSeqs]"
   ]
  },
  {
   "cell_type": "markdown",
   "metadata": {},
   "source": [
    "#### Ex. 4.3 Solution with computer simulation"
   ]
  },
  {
   "cell_type": "code",
   "execution_count": null,
   "metadata": {},
   "outputs": [],
   "source": [
    "function getBirthSeq(howMany::Int=6)::String\n",
    "    return join([(i <= 52) ? 'B' : 'G' for i in rand(1:100, howMany)], \"\")\n",
    "end"
   ]
  },
  {
   "cell_type": "code",
   "execution_count": null,
   "metadata": {},
   "outputs": [],
   "source": [
    "function getNBirthSeqs(n::Int=10_000)::Vector{String}\n",
    "    return [getBirthSeq() for _ in 1:n] \n",
    "end"
   ]
  },
  {
   "cell_type": "code",
   "execution_count": null,
   "metadata": {},
   "outputs": [],
   "source": [
    "function getBirthSeqsCounts(birthSeqs::Vector{String})::Dict{String, Int}\n",
    "    counts::Dict{String, Int} = Dict()  \n",
    "    for bs in birthSeqs\n",
    "        counts[bs] = get(counts, bs, 0) + 1\n",
    "    end\n",
    "    return counts\n",
    "end"
   ]
  },
  {
   "cell_type": "code",
   "execution_count": null,
   "metadata": {},
   "outputs": [],
   "source": [
    "function getRandBirthsProbs(nIter::Int = 10_000)::Dict{String, Float64}\n",
    "    counts::Dict{String, Int} = getBirthSeqsCounts(getNBirthSeqs(nIter))\n",
    "    probs::Dict{String, Float64} = Dict()\n",
    "    for (k, v) in counts\n",
    "        probs[k] = v / nIter\n",
    "    end\n",
    "    return probs\n",
    "end"
   ]
  },
  {
   "cell_type": "code",
   "execution_count": null,
   "metadata": {},
   "outputs": [],
   "source": [
    "randBirthsProbs = getRandBirthsProbs(100_000)\n",
    "birthSeqsProbs2 = [(get(randBirthsProbs, k, 0), k) for k in birthSeqs]"
   ]
  },
  {
   "attachments": {},
   "cell_type": "markdown",
   "metadata": {},
   "source": [
    "#### Ex. 4.3. Answer\n",
    "\n",
    "Assumming the exact order of births and the exact sex of the children (where p for B: 0.52, and for G: 0.48) we got:\n",
    "\n",
    "According to mathematical calculations the probabilities are:\n",
    "- (0.015550119935999997, \"GBGBGB\")\n",
    "- (0.015550119935999997, \"BBBGGG\")\n",
    "- (0.018249793536, \"GBBBBB\")\n",
    "\n",
    "According to simulation [100'000 random birth sequences generated] the probabilities are:\n",
    "- (0.01577, \"GBGBGB\")\n",
    "- (0.01592, \"BBBGGG\")\n",
    "- (0.01795, \"GBBBBB\")"
   ]
  },
  {
   "cell_type": "markdown",
   "metadata": {},
   "source": [
    "## Exercise 4.4\n",
    "\n",
    "The Binomial distribution with p = 0.15 and n = 10\n",
    "\n",
    "(a)\n",
    "\n",
    "If 15% of all pregnancies result in miscarriages, what is the probability that more than half of a group of ten pregnant women will have a miscarriage?\n",
    "\n",
    "(b)\n",
    "\n",
    "Among groups of users of video display terminals there are 20'000 large enough for ten women to become pregnant in one year. If we call six or more miscarriages out of 10 a 'cluster', how many clusters would we expect in one year, assuming that there is no increased risk of miscarriage associated with using a terminal? (Based on Blackwell and Chang, 1988)\n",
    "\n"
   ]
  },
  {
   "attachments": {},
   "cell_type": "markdown",
   "metadata": {},
   "source": [
    "### My Comments to Ex 4.4\n",
    "Not sure how should I understand the Ex4.4b task, especially the phase '...there are 20'000 large enought for ten women to become pregnant in one year.' I just assume that those 20'000 of women get pregnant, and determine how many 'clusters' (>=6 out of 10) I can expect there."
   ]
  },
  {
   "attachments": {},
   "cell_type": "markdown",
   "metadata": {},
   "source": [
    "#### Ex 4.4a Solution with Distributions"
   ]
  },
  {
   "cell_type": "code",
   "execution_count": null,
   "metadata": {},
   "outputs": [],
   "source": [
    "probMiscarriageLT5of10_m1 = dst.cdf(dst.Binomial(10, 1-0.15), 4)"
   ]
  },
  {
   "cell_type": "markdown",
   "metadata": {},
   "source": [
    "#### Ex 4.4a Solution with Computer Simulation"
   ]
  },
  {
   "cell_type": "code",
   "execution_count": null,
   "metadata": {},
   "outputs": [],
   "source": [
    "function isMoreThanKOfNMiscarriages(k::Int=5, n::Int=10)::Bool\n",
    "    return length([i for i in rand(1:100, n) if i < 15]) > k\n",
    "end"
   ]
  },
  {
   "cell_type": "code",
   "execution_count": null,
   "metadata": {},
   "outputs": [],
   "source": [
    "function getProbMicscarriages(more_than_n_miscarriages::Int=5,\n",
    "    n_of_births::Int=10, no_of_simulations::Int=100_000)::Float64\n",
    "    successes::Vector{Bool} = [isMoreThanKOfNMiscarriages(more_than_n_miscarriages, n_of_births) for _ in 1:no_of_simulations]\n",
    "    return sum([s ? 1 : 0 for s in successes]) / no_of_simulations\n",
    "end"
   ]
  },
  {
   "cell_type": "code",
   "execution_count": null,
   "metadata": {},
   "outputs": [],
   "source": [
    "probMiscarriageLT5of10_m2 = getProbMicscarriages()"
   ]
  },
  {
   "attachments": {},
   "cell_type": "markdown",
   "metadata": {},
   "source": [
    "#### Ex 4.4a Answer\n",
    "\n",
    "Probability of more than 5 miscarages out of 10 births:\n",
    "- calculated with Distributions, p = 0.0013832352123046916 \n",
    "- estimated with computer simulation, p = 0.00091"
   ]
  },
  {
   "attachments": {},
   "cell_type": "markdown",
   "metadata": {},
   "source": [
    "#### Ex 4.4b Solution Using Distributions"
   ]
  },
  {
   "cell_type": "code",
   "execution_count": null,
   "metadata": {},
   "outputs": [],
   "source": [
    "probMiscarriageLT5of10_m1 * 20_000 / 10"
   ]
  },
  {
   "attachments": {},
   "cell_type": "markdown",
   "metadata": {},
   "source": [
    "#### Ex 4.4b Solution Using Computer Simulations"
   ]
  },
  {
   "cell_type": "code",
   "execution_count": null,
   "metadata": {},
   "outputs": [],
   "source": [
    "probMiscarriageLT5of10_m2 * 20_000 / 10"
   ]
  },
  {
   "attachments": {},
   "cell_type": "markdown",
   "metadata": {},
   "source": [
    "#### Ex 4.4b Answer\n",
    "\n",
    "Assuming 20'000 of women gives birth to children, and probability of miscarriage = 0.15 we would expect:\n",
    "- 2.7664 (according to mathematical calculations)\n",
    "- 1.8199 (according to computer simulation)\n",
    "miscarriage clusters (>=6 miscarriages out of 10 births)\n",
    "\n",
    "So in practice 2 or 3 of such clusters are expected to be found."
   ]
  },
  {
   "attachments": {},
   "cell_type": "markdown",
   "metadata": {},
   "source": [
    "## Exercise 4.5\n",
    "\n",
    "If an infection is present in a school it would be expected to spread to 10% of the children\n",
    "\n",
    "(a) How many children should be tested to have a probability of 0.95 (95%) of detecting the infection if it is there? (Hint: consider the probability of all the children in the sample being negative to the test if the infection is present in the school.)\n",
    "\n",
    "(b) What is the effect of the number of children in the school on this calculation?"
   ]
  },
  {
   "attachments": {},
   "cell_type": "markdown",
   "metadata": {},
   "source": [
    "### Ex. 4.5a Solution with mathematical calculations"
   ]
  },
  {
   "cell_type": "code",
   "execution_count": null,
   "metadata": {},
   "outputs": [],
   "source": [
    "# 0.1 - probability of being sick, 0.9 probability of being healthy\n",
    "# so I need to find x in: 0.9^x = 0.05 (5% probability that all kids are healthy)\n",
    "# so I look for log base 0.9 of 0.05 is x\n",
    "log(0.9, 0.05)"
   ]
  },
  {
   "attachments": {},
   "cell_type": "markdown",
   "metadata": {},
   "source": [
    "#### Ex. 4.5a Checkup with computer simulation"
   ]
  },
  {
   "cell_type": "code",
   "execution_count": null,
   "metadata": {},
   "outputs": [],
   "source": [
    "function isAnyOfNChildrenSick(n::Int)::Bool\n",
    "    # 1-10 sick children, 11-100 healthy children\n",
    "    return any([i <= 10 for i in rand(1:100, n)])\n",
    "end"
   ]
  },
  {
   "cell_type": "code",
   "execution_count": null,
   "metadata": {},
   "outputs": [],
   "source": [
    "function getProbOfDetectingDisease(nOfChildren::Int, nIterations::Int)::Float64\n",
    "    diseaseDetected::Vector{Int} = [isAnyOfNChildrenSick(nOfChildren) ? 1 : 0 for _ in 1:nIterations]\n",
    "    return sum(diseaseDetected) / nIterations\n",
    "end"
   ]
  },
  {
   "cell_type": "code",
   "execution_count": null,
   "metadata": {},
   "outputs": [],
   "source": [
    "getProbOfDetectingDisease(28, 100_000)"
   ]
  },
  {
   "attachments": {},
   "cell_type": "markdown",
   "metadata": {},
   "source": [
    "### Ex. 4.5a Answer\n"
   ]
  },
  {
   "attachments": {},
   "cell_type": "markdown",
   "metadata": {},
   "source": [
    "It takes 28.43315880574342 children.\n",
    "\n",
    "So, one needs to test 28 or 29 children to have 95% probability to find such an infection."
   ]
  },
  {
   "attachments": {},
   "cell_type": "markdown",
   "metadata": {},
   "source": [
    "### Ex. 4.5b Answer\n",
    "\n",
    "Not sure, I guess You need to have enough children in the school to take the sample of 28 or 29 children.\n",
    "\n",
    "Except for that notion number of children will not influence the answer to Ex. 4.5a\n",
    "\n",
    "(If it doesn't affect the spread of the disease)"
   ]
  },
  {
   "attachments": {},
   "cell_type": "markdown",
   "metadata": {},
   "source": [
    "## Exercise 4.6\n",
    "\n",
    "Over a 25 year period the mean height of adult males increased from 175.8 cm to 179.1 cm, but the standard deviations stayed at 5.84 cm. The minimum height requrement for men to join the police force is 172 cm. What proportion of men would be too short to become policemen at the beginning and end of the 25 year period, assuming that the height of adult males ahs a Normal distribution?"
   ]
  },
  {
   "cell_type": "code",
   "execution_count": null,
   "metadata": {},
   "outputs": [],
   "source": [
    "dst.cdf(dst.Normal(175.8, 5.84), 172)"
   ]
  },
  {
   "cell_type": "code",
   "execution_count": null,
   "metadata": {},
   "outputs": [],
   "source": [
    "dst.cdf(dst.Normal(179.1, 5.84), 172)"
   ]
  },
  {
   "attachments": {},
   "cell_type": "markdown",
   "metadata": {},
   "source": [
    "### Ex. 4.6. Answer\n",
    "\n",
    "At the beginning of the 25 year period approx. 25.8% of men were too short to become policemen.\n",
    "\n",
    "At the end of the 25 year period approx. 11.2% of men were too short to become policemen."
   ]
  },
  {
   "attachments": {},
   "cell_type": "markdown",
   "metadata": {},
   "source": [
    "## Exercise 4.7\n",
    "\n",
    "A researcher plans to measure blood pressure in a number of subjects. He proposes to take three measurements, but intends to discard the third measurement as unreliable if it does not fall between the first two measurements. Assuming that the subjects' blood pressure stays constant during the measuring, what is the probability that for a given subject the third value will not lie between the other two? (Hint: the answer does not depend upon the variability of blood pressure measurements.) Comment on the researcher's proposal."
   ]
  },
  {
   "attachments": {},
   "cell_type": "markdown",
   "metadata": {},
   "source": [
    "### Ex 4.7 My Notes/Answer\n",
    "\n",
    "Not sure I understand the question.\n",
    "\n",
    "So the blood pressure is constant during all 3 measurements?\n",
    "And the different values obtained during the measurement are a result of imprecise reading of the measuring device (or a person that uses it) or because of some other unspecified but random factors?\n",
    "\n",
    "Hmm, if so then I should assume that I will always get three separate values (and not e.g. 3x the exact same value)?\n",
    "The values will be randomly dispersed within some small distance around the true blood pressure value?\n",
    "\n",
    "Hmm, So I got 2 values, the third can be:\n",
    "- a) lower than the lowest of two\n",
    "- b) higher than the highest of two\n",
    "- c) inbetween the two previous values\n",
    "\n",
    "So, 1 out of 3, therefore p = 1/3 = 0.33 = 33%\n"
   ]
  },
  {
   "attachments": {},
   "cell_type": "markdown",
   "metadata": {},
   "source": [
    "## Exercise 4.8\n",
    "\n",
    "In Britain the commonest autosomal recessive disorder is cystic fibrosis,\n",
    "with about one in 2000 live births being affected.\n",
    "If both parents are heterozygous for the abnormal gene there is a 1 in 4 chance  of their child having cystic fibrosis.\n",
    "\n",
    "(a) What is the probability that a couple who are both heterozygous will have two unaffected children?\n",
    "\n",
    "(b) If they have four unaffected children, what is the probability that their fifth child would be unaffected?\n",
    "\n",
    "(c) About one in 22 people is heterozygous for cystic fibrosis. In a hospital where there are 3500 births a year, what is the expected number of babies per year affected by cystic fibrosis (assuming that there is no genetic counselling)?"
   ]
  },
  {
   "attachments": {},
   "cell_type": "markdown",
   "metadata": {},
   "source": [
    "### Ex. 4.8a Solution"
   ]
  },
  {
   "cell_type": "code",
   "execution_count": null,
   "metadata": {},
   "outputs": [],
   "source": [
    "# p - that 1 children is unaffected 0.75, so for two children (one healthy AND other healthy) 0.75 * 0.75 = 0.5625\n",
    "# let's check it with Distributions package\n",
    "dst.pdf(dst.Binomial(2, 0.75), 2)"
   ]
  },
  {
   "cell_type": "markdown",
   "metadata": {},
   "source": [
    "#### Ex 4.8a Answer\n",
    "\n",
    "If two parents are heterozygous (Cc x Cc) then the probability that two of their children are healthy is equal to 0.5625."
   ]
  }
 ],
 "metadata": {
  "kernelspec": {
   "display_name": "Julia 1.8.3",
   "language": "julia",
   "name": "julia-1.8"
  },
  "language_info": {
   "file_extension": ".jl",
   "mimetype": "application/julia",
   "name": "julia",
   "version": "1.8.3"
  },
  "orig_nbformat": 4,
  "vscode": {
   "interpreter": {
    "hash": "31f2aee4e71d21fbe5cf8b01ff0e069b9275f58929596ceb00d14d90e3e16cd6"
   }
  }
 },
 "nbformat": 4,
 "nbformat_minor": 2
}
