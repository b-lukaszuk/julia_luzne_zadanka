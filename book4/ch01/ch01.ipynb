{
 "cells": [
  {
   "cell_type": "markdown",
   "id": "42205b41",
   "metadata": {},
   "source": [
    "# Chapter 1. Probability\n",
    "[Link to chapter online](https://allendowney.github.io/ThinkBayes2/chap01.html)"
   ]
  },
  {
   "cell_type": "markdown",
   "id": "3bf987e3",
   "metadata": {},
   "source": [
    "## Warning\n",
    "\n",
    "The content of this file may be incorrect, erroneous and/or harmful. Use it at Your own risk."
   ]
  },
  {
   "cell_type": "markdown",
   "id": "6727871b",
   "metadata": {},
   "source": [
    "## Imports"
   ]
  },
  {
   "cell_type": "code",
   "execution_count": null,
   "id": "29996cc6",
   "metadata": {},
   "outputs": [],
   "source": [
    "import CSV as Csv\n",
    "import DataFrames as Dfs\n",
    "import Statistics as Stats"
   ]
  },
  {
   "cell_type": "markdown",
   "id": "d8e20b71",
   "metadata": {},
   "source": [
    "## Linda the Banker\n",
    "\n",
    "> Linda is 31 years old, single, outspoken, and very bright. She majored in philosophy. As a student, she was deeply concerned with issues of discrimination and social justice, and also participated in anti-nuclear demonstrations. Which is more probable?\n",
    "> 1. Linda is a bank teller.\n",
    "> 2. Linda is a bank teller and is active in the feminist movement."
   ]
  },
  {
   "cell_type": "markdown",
   "id": "9862df55",
   "metadata": {},
   "source": [
    "## Probability\n",
    "\n",
    "[Link to the data file (gss_bayes.csv) online](https://raw.githubusercontent.com/AllenDowney/BiteSizeBayes/master/gss_bayes.csv)"
   ]
  },
  {
   "cell_type": "code",
   "execution_count": null,
   "id": "862f9f4d",
   "metadata": {},
   "outputs": [],
   "source": [
    "gss = Dfs.DataFrame(Csv.File(\"./gss_bayes.csv\"))\n",
    "first(gss, 5)"
   ]
  },
  {
   "cell_type": "markdown",
   "id": "ee7a2bef",
   "metadata": {},
   "source": [
    "## Fraction of bankers\n",
    "\n",
    "The code for “Banking and related activities” is 6870, so we can select bankers like this:"
   ]
  },
  {
   "cell_type": "code",
   "execution_count": null,
   "id": "fdf51343",
   "metadata": {},
   "outputs": [],
   "source": [
    "banker = gss.indus10 .== 6870\n",
    "first(banker, 5)"
   ]
  },
  {
   "cell_type": "code",
   "execution_count": null,
   "id": "784ba8b5",
   "metadata": {},
   "outputs": [],
   "source": [
    "sum(banker)"
   ]
  },
  {
   "cell_type": "code",
   "execution_count": null,
   "id": "440f0c3c",
   "metadata": {},
   "outputs": [],
   "source": [
    "Stats.mean(banker)"
   ]
  }
 ],
 "metadata": {
  "kernelspec": {
   "display_name": "Julia 1.9.3",
   "language": "julia",
   "name": "julia-1.9"
  },
  "language_info": {
   "file_extension": ".jl",
   "mimetype": "application/julia",
   "name": "julia",
   "version": "1.9.3"
  }
 },
 "nbformat": 4,
 "nbformat_minor": 5
}
