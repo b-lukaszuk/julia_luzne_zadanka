{
 "cells": [
  {
   "cell_type": "markdown",
   "metadata": {
    "collapsed": false,
    "jupyter": {
     "outputs_hidden": false
    }
   },
   "source": [
    "# Chapter 7. Minimum, Maximum, and Mixture\n",
    "\n",
    "[Link to chapter online](https://allendowney.github.io/ThinkBayes2/chap07.html)"
   ]
  },
  {
   "cell_type": "markdown",
   "metadata": {
    "collapsed": false,
    "jupyter": {
     "outputs_hidden": false
    }
   },
   "source": [
    "## Warning\n",
    "\n",
    "The content of this file may be incorrect, erroneous and/or harmful. Use it at Your own risk."
   ]
  },
  {
   "cell_type": "markdown",
   "metadata": {
    "collapsed": false,
    "jupyter": {
     "outputs_hidden": false
    }
   },
   "source": [
    "# Imports"
   ]
  },
  {
   "cell_type": "code",
   "execution_count": null,
   "metadata": {
    "collapsed": false,
    "jupyter": {
     "outputs_hidden": false
    }
   },
   "outputs": [],
   "source": [
    "import DataFrames as Dfs\n",
    "import Distributions as Dsts\n",
    "import CairoMakie as Cmk"
   ]
  },
  {
   "cell_type": "code",
   "execution_count": null,
   "metadata": {
    "collapsed": false,
    "jupyter": {
     "outputs_hidden": false
    }
   },
   "outputs": [],
   "source": [
    "include(\"./pmf.jl\")\n",
    "import .ProbabilityMassFunction as Pmf\n",
    "\n",
    "include(\"./simplestat.jl\")\n",
    "import .SimpleStatistics as Ss"
   ]
  },
  {
   "cell_type": "markdown",
   "metadata": {
    "collapsed": false,
    "jupyter": {
     "outputs_hidden": false
    }
   },
   "source": [
    "## Reminder from previous chapters\n",
    "\n",
    "Bayes's theorem:\n",
    "\n",
    "$P(H|D) = \\frac{P(H) * P(D|H)}{P(D)}$\n",
    "\n",
    "Bayes's rule:\n",
    "\n",
    "$odds(A|D) = odds(A) * \\frac{P(D|A)}{P(D|B)}$"
   ]
  },
  {
   "cell_type": "markdown",
   "metadata": {
    "collapsed": false,
    "jupyter": {
     "outputs_hidden": false
    }
   },
   "source": [
    "## Cumulative Distribution Functions\n",
    "\n",
    "A useful alternative to probability mass function (Pmf) that we used before is\n",
    "**cumulative distribution function** or CDF.\n",
    "\n",
    "Let's look at it with the Euro problem from chapter 4 (Estimating Proportions).\n",
    "\n",
    "> When spun on edge 250 times, a Belgian one-euro coin came up heads 140 times\n",
    "> and tails 110. \"It looks very suspicious to me\", said Barry Blight, a\n",
    "> statistics lecturer at the London School of Economics. \"If the coin were\n",
    "> unbiased, the  chance of getting a result as extreme as that would be less\n",
    "> than 7%\"."
   ]
  },
  {
   "cell_type": "code",
   "execution_count": null,
   "metadata": {
    "collapsed": false,
    "jupyter": {
     "outputs_hidden": false
    }
   },
   "outputs": [],
   "source": [
    "euroPmf = Pmf.getPmfFromSeq(range(0, 1, 101) |> collect)\n",
    "heads = 140\n",
    "tosses = 250"
   ]
  },
  {
   "cell_type": "code",
   "execution_count": null,
   "metadata": {
    "collapsed": false,
    "jupyter": {
     "outputs_hidden": false
    }
   },
   "outputs": [],
   "source": [
    "Pmf.updateBinomial!(euroPmf, heads, tosses)"
   ]
  },
  {
   "cell_type": "code",
   "execution_count": null,
   "metadata": {
    "collapsed": false,
    "jupyter": {
     "outputs_hidden": false
    }
   },
   "outputs": [],
   "source": [
    "mutable struct Cdf{T}\n",
    "    names::Vector{T}\n",
    "    posteriors::Vector{Float64}\n",
    "\n",
    "    # posteriors are uniform, i.e. initially each prior is equally likely\n",
    "    Cdf(ns::Vector{Int}, posts) =\n",
    "        (length(ns) != length(posts)) ?\n",
    "        error(\"length(names) must be equal length(posteriors)\") :\n",
    "        new{Int}(ns, posts)\n",
    "    Cdf(ns::Vector{Float64}, posts) =\n",
    "        (length(ns) != length(posts)) ?\n",
    "        error(\"length(names) must be equal length(posteriors)\") :\n",
    "        new{Float64}(ns, posts)\n",
    "    Cdf(ns::Vector{String}, posts) =\n",
    "        (length(ns) != length(posts)) ?\n",
    "        error(\"length(names) must be equal length(posteriors)\") :\n",
    "        new{String}(ns, posts)\n",
    "end\n",
    "\n",
    "function Base.show(io::IO, cdf::Cdf)\n",
    "    trim::Bool = length(cdf.names) > 10\n",
    "    result::String = \"names: $(join(trim ? cdf.names[1:10] : cdf.names, \", \"))$(trim ? \", ...\" : \"\")\\n\"\n",
    "    result = result * \"posteriors: $(join(map(x -> round(x, digits=3) |> string, trim ? cdf.posteriors[1:10] : cdf.posteriors),  \", \"))$(trim ? \", ...\" : \"\")\\n\"\n",
    "    print(io, result)\n",
    "end"
   ]
  },
  {
   "cell_type": "code",
   "execution_count": null,
   "metadata": {
    "collapsed": false,
    "jupyter": {
     "outputs_hidden": false
    }
   },
   "outputs": [],
   "source": [
    "\"\"\"\n",
    "\tconvertPmf2Cdf(pmfDist::pmf.Pmf{T}, usePriors::Bool=true)::Cdf{T}\n",
    "\n",
    "\treturns cdf build from pmf\n",
    "\n",
    "\t--\n",
    "\targs:\n",
    "\t\tpmfDist: Pmf struct\n",
    "\t\tusePiors: if true then pmfDist.priors are used to construct cdf\n",
    "\t\t\t\totherwise pmfDist.posteriors are used to construct cdf\n",
    "\"\"\"\n",
    "function convertPmf2Cdf(pmfDist::Pmf.Pmf{T}, usePriors::Bool=true)::Cdf{T} where T\n",
    "\tif usePriors\n",
    "\t\treturn Cdf(pmfDist.names, cumsum(pmfDist.priors))\n",
    "\telse\n",
    "\t\treturn Cdf(pmfDist.names, cumsum(pmfDist.posteriors))\n",
    "\tend\n",
    "end\n",
    "\n",
    "function convertCdf2Pmf(cdfDist::Cdf{T})::Pmf.Pmf{T} where T\n",
    "\tdiffs::Vector{Float64} = diff(cdfDist.posteriors)\n",
    "\tprepend!(diffs, cdfDist.posteriors[1])\n",
    "\treturn Pmf.Pmf(cdfDist.names, diffs)\n",
    "end"
   ]
  },
  {
   "cell_type": "code",
   "execution_count": null,
   "metadata": {
    "collapsed": false,
    "jupyter": {
     "outputs_hidden": false
    }
   },
   "outputs": [],
   "source": [
    "euroCdf = convertPmf2Cdf(euroPmf, false)"
   ]
  },
  {
   "cell_type": "code",
   "execution_count": null,
   "metadata": {
    "collapsed": false,
    "jupyter": {
     "outputs_hidden": false
    }
   },
   "outputs": [],
   "source": [
    "fig = Cmk.Figure()\n",
    "ax1, l1 = Cmk.lines(fig[1, 1],\n",
    "    euroPmf.names, euroPmf.posteriors,\n",
    "    color=\"orange\",\n",
    "    axis=(;\n",
    "        title=\"Posterior distribution for the Euro problem\",\n",
    "        xlabel=\"Proportion of heads(x)\",\n",
    "        ylabel=\"Probability\")\n",
    ")\n",
    "l2 = Cmk.lines!(fig[1, 1],\n",
    "    euroCdf.names, euroCdf.posteriors,\n",
    "    color=\"blue\"\n",
    ")\n",
    "Cmk.axislegend(ax1,\n",
    "    [l1, l2],\n",
    "    [\"PMF\", \"CDF\"],\n",
    "    \"Probability\\ndistributions\\nfunctions\",\n",
    "    position=:lt\n",
    ")\n",
    "fig"
   ]
  },
  {
   "cell_type": "markdown",
   "metadata": {
    "collapsed": false,
    "jupyter": {
     "outputs_hidden": false
    }
   },
   "source": [
    "The range of the CDF is always from 0 to 1, in contrast with the PMF, where the\n",
    "maximum can be any probability."
   ]
  },
  {
   "cell_type": "code",
   "execution_count": null,
   "metadata": {
    "collapsed": false,
    "jupyter": {
     "outputs_hidden": false
    }
   },
   "outputs": [],
   "source": [
    "\"\"\"\n",
    "\tgetNameGtEqPosterior(cdfDist::Cdf{T}, posterior::Float64)::T\n",
    "\n",
    "\treturns name from cdfDist.names that is >= posterior\n",
    "\"\"\"\n",
    "function getNameGtEqPosterior(cdfDist::Cdf{T}, posterior::Float64)::T where T\n",
    "\t@assert 0 <= posterior <= 1\n",
    "\treturn cdfDist.names[findfirst(x -> x >= posterior, cdfDist.posteriors)]\n",
    "end\n",
    "\n",
    "function getPosteriorGtEqName(cdfDist::Cdf{T}, name::T)::Float64 where {T<:Union{Int, Float64}}\n",
    "\treturn cdfDist.posteriors[findfirst(x -> x == name, cdfDist.names)]\n",
    "end"
   ]
  },
  {
   "cell_type": "code",
   "execution_count": null,
   "metadata": {
    "collapsed": false,
    "jupyter": {
     "outputs_hidden": false
    }
   },
   "outputs": [],
   "source": [
    "# what percentile is smaller than 0.61\n",
    "getPosteriorGtEqName(euroCdf, 0.61)"
   ]
  },
  {
   "cell_type": "code",
   "execution_count": null,
   "metadata": {
    "collapsed": false,
    "jupyter": {
     "outputs_hidden": false
    }
   },
   "outputs": [],
   "source": [
    "# what proportion of heads is approx. 0.96 percentile\n",
    "getNameGtEqPosterior(euroCdf, 0.96)"
   ]
  },
  {
   "cell_type": "code",
   "execution_count": null,
   "metadata": {
    "collapsed": false,
    "jupyter": {
     "outputs_hidden": false
    }
   },
   "outputs": [],
   "source": [
    "function getCredibleInterval(cdfDist::Cdf{T}, prob::Float64)::Vector{T} where T\n",
    "\t@assert 0 <= prob <= 1\n",
    "\tprobs::Vector{Float64} = [0.5 - prob / 2, 0.5 + prob / 2]\n",
    "\treturn [getNameGtEqPosterior(cdfDist, p) for p in probs]\n",
    "end"
   ]
  },
  {
   "cell_type": "code",
   "execution_count": null,
   "metadata": {
    "collapsed": false,
    "jupyter": {
     "outputs_hidden": false
    }
   },
   "outputs": [],
   "source": [
    "# credible interval = 0.9\n",
    "getCredibleInterval(euroCdf, 0.9)"
   ]
  },
  {
   "cell_type": "code",
   "execution_count": null,
   "metadata": {
    "collapsed": false,
    "jupyter": {
     "outputs_hidden": false
    }
   },
   "outputs": [],
   "source": [
    "# credible interval = 0.9\n",
    "Pmf.getCredibleInterval(euroPmf, 0.9)"
   ]
  },
  {
   "cell_type": "code",
   "execution_count": null,
   "metadata": {
    "collapsed": false,
    "jupyter": {
     "outputs_hidden": false
    }
   },
   "outputs": [],
   "source": [
    "# transform Cdf to Pmf\n",
    "convertCdf2Pmf(euroCdf)"
   ]
  },
  {
   "cell_type": "markdown",
   "metadata": {
    "collapsed": false,
    "jupyter": {
     "outputs_hidden": false
    }
   },
   "source": [
    "## Best Three of Four\n",
    "\n",
    "In *Dungeons & Dragons*, each character has six attributes: strength,\n",
    "intelligence, wisdom, dexterity, constitution, and charisma.\n",
    "\n",
    "To generate a new character, players roll four 6-sided dice for each attribute\n",
    "and add up the best three. For example, if I roll for strength and get 1, 2, 3,\n",
    "4 on the dice, my character’s strength would be the sum of 2, 3, and 4, which is\n",
    "9.\n",
    "\n",
    "As an exercise, let’s figure out the distribution of these attributes. Then, for\n",
    "each character, we’ll figure out the distribution of their best attribute."
   ]
  },
  {
   "cell_type": "markdown",
   "metadata": {
    "collapsed": false,
    "jupyter": {
     "outputs_hidden": false
    }
   },
   "source": [
    "First something simpler, three dice only"
   ]
  },
  {
   "cell_type": "code",
   "execution_count": null,
   "metadata": {
    "collapsed": false,
    "jupyter": {
     "outputs_hidden": false
    }
   },
   "outputs": [],
   "source": [
    "dice6s = Pmf.getPmfFromSeq(1:6 |> collect)\n",
    "dices6s = repeat([dice6s], 3)"
   ]
  },
  {
   "cell_type": "code",
   "execution_count": null,
   "metadata": {
    "collapsed": false,
    "jupyter": {
     "outputs_hidden": false
    }
   },
   "outputs": [],
   "source": [
    "pmf3dice6 = reduce(Pmf.addDist, dices6s)"
   ]
  },
  {
   "cell_type": "code",
   "execution_count": null,
   "metadata": {
    "collapsed": false,
    "jupyter": {
     "outputs_hidden": false
    }
   },
   "outputs": [],
   "source": [
    "Pmf.drawLinesPriors(pmf3dice6,\n",
    "    \"Distributions of attributes\",\n",
    "    \"Outcome\",\n",
    "    \"PMF\"\n",
    "    )"
   ]
  },
  {
   "cell_type": "markdown",
   "metadata": {
    "collapsed": false,
    "jupyter": {
     "outputs_hidden": false
    }
   },
   "source": [
    "Now, 4 dice, we choose best 3"
   ]
  },
  {
   "cell_type": "code",
   "execution_count": null,
   "metadata": {
    "collapsed": false,
    "jupyter": {
     "outputs_hidden": false
    }
   },
   "outputs": [],
   "source": [
    "nThrows = Int(1e4)\n",
    "a = rand(1:6, nThrows, 4);"
   ]
  },
  {
   "cell_type": "code",
   "execution_count": null,
   "metadata": {
    "collapsed": false,
    "jupyter": {
     "outputs_hidden": false
    }
   },
   "outputs": [],
   "source": [
    "# dims = 1 by/along columns\n",
    "# dims = 2 by/along rows\n",
    "# julia is column major, so I guess sorting, summing would be faster with dims=1\n",
    "# I leave dims=2 for sake of consistency with the chapter in the book\n",
    "sort!(a, dims=2)\n",
    "t = sum(a[:, 2:4], dims=2) # dims = 2, sum by/along rows\n",
    "t = t[:, 1];"
   ]
  },
  {
   "cell_type": "code",
   "execution_count": null,
   "metadata": {
    "collapsed": false,
    "jupyter": {
     "outputs_hidden": false
    }
   },
   "outputs": [],
   "source": [
    "pmfBest3of4 = Pmf.getPmfFromSeq(t);"
   ]
  },
  {
   "cell_type": "code",
   "execution_count": null,
   "metadata": {
    "collapsed": false,
    "jupyter": {
     "outputs_hidden": false
    }
   },
   "outputs": [],
   "source": [
    "fig = Cmk.Figure()\n",
    "ax1, l1 = Cmk.lines(fig[1, 1],\n",
    "    pmf3dice6.names, pmf3dice6.priors,\n",
    "    color=\"blue\",\n",
    "    axis=(;\n",
    "        title=\"Distribution of attributes\",\n",
    "        xlabel=\"Outcome: sum of dots on 6 sided dice\",\n",
    "        ylabel=\"PMF\",\n",
    "        xticks=3:18)\n",
    ")\n",
    "l2 = Cmk.lines!(fig[1, 1],\n",
    "    pmfBest3of4.names, pmfBest3of4.priors,\n",
    "    color=\"orange\",\n",
    "    linestyle=:dash\n",
    ")\n",
    "Cmk.axislegend(ax1,\n",
    "    [l1, l2],\n",
    "    [\"sum of 3 dice\", \"sum best 3 of 4\"],\n",
    "    \"type of dice throw\",\n",
    "    position=:lt\n",
    ")\n",
    "fig"
   ]
  },
  {
   "cell_type": "markdown",
   "metadata": {
    "collapsed": false,
    "jupyter": {
     "outputs_hidden": false
    }
   },
   "source": [
    "Choosing the best three out of four tends to yield higher values."
   ]
  },
  {
   "cell_type": "markdown",
   "metadata": {
    "collapsed": false,
    "jupyter": {
     "outputs_hidden": false
    }
   },
   "source": [
    "## Maximum\n",
    "\n",
    "To compute the distribution of a maximum or minimum, we can make good use of the\n",
    "cumulative distribution function."
   ]
  },
  {
   "cell_type": "code",
   "execution_count": null,
   "metadata": {
    "collapsed": false,
    "jupyter": {
     "outputs_hidden": false
    }
   },
   "outputs": [],
   "source": [
    "cdfBest3of4 = convertPmf2Cdf(pmfBest3of4)"
   ]
  },
  {
   "cell_type": "markdown",
   "metadata": {
    "collapsed": false,
    "jupyter": {
     "outputs_hidden": false
    }
   },
   "source": [
    "`Cdf(x)` is the sum of probabilities for quantities less than or equal to `x`.\n",
    "Equivalently, it is the probability that a random value chosen from the\n",
    "distribution is less than or equal to `x`.\n",
    "\n",
    "Now suppose I draw 6 values from this distribution.\n",
    "The probability that all 6 of them are less than or equal to `x` is `Cdf(x)`\n",
    "raised to the 6th power, which we can compute like this:"
   ]
  },
  {
   "cell_type": "code",
   "execution_count": null,
   "metadata": {
    "collapsed": false,
    "jupyter": {
     "outputs_hidden": false
    }
   },
   "outputs": [],
   "source": [
    "cdfBest3of4.posteriors .^ 6"
   ]
  },
  {
   "cell_type": "markdown",
   "metadata": {
    "collapsed": false,
    "jupyter": {
     "outputs_hidden": false
    }
   },
   "source": [
    "If all 6 values are less than or equal to `x`, that means that their maximum is\n",
    "less than or equal to `x`. So the result is the `CDF` of their maximum. We can\n",
    "convert it to a `Cdf` object, like this:"
   ]
  },
  {
   "cell_type": "code",
   "execution_count": null,
   "metadata": {
    "collapsed": false,
    "jupyter": {
     "outputs_hidden": false
    }
   },
   "outputs": [],
   "source": [
    "cdfMax6 = Cdf(cdfBest3of4.names, cdfBest3of4.posteriors .^ 6)"
   ]
  },
  {
   "cell_type": "markdown",
   "metadata": {
    "collapsed": false,
    "jupyter": {
     "outputs_hidden": false
    }
   },
   "source": [
    "And compute the equivalent `Pmf` like this:"
   ]
  },
  {
   "cell_type": "code",
   "execution_count": null,
   "metadata": {
    "collapsed": false,
    "jupyter": {
     "outputs_hidden": false
    }
   },
   "outputs": [],
   "source": [
    "pmfMax6 = convertCdf2Pmf(cdfMax6)"
   ]
  },
  {
   "cell_type": "code",
   "execution_count": null,
   "metadata": {
    "collapsed": false,
    "jupyter": {
     "outputs_hidden": false
    }
   },
   "outputs": [],
   "source": [
    "Pmf.drawLinesPriors(pmfMax6,\n",
    "    \"Distribution of attributes\",\n",
    "    \"Outcome\",\n",
    "    \"PMF\")"
   ]
  },
  {
   "cell_type": "markdown",
   "metadata": {
    "collapsed": false,
    "jupyter": {
     "outputs_hidden": false
    }
   },
   "source": [
    "Most *Dungeons & Dragons* characters have at least one attribute greater than\n",
    "12; almost 10% of them have an 18."
   ]
  },
  {
   "cell_type": "markdown",
   "metadata": {
    "collapsed": false,
    "jupyter": {
     "outputs_hidden": false
    }
   },
   "source": [
    "The following figure shows the CDFs for the three distributions we have\n",
    "computed."
   ]
  },
  {
   "cell_type": "code",
   "execution_count": null,
   "metadata": {
    "collapsed": false,
    "jupyter": {
     "outputs_hidden": false
    }
   },
   "outputs": [],
   "source": [
    "cdf3dice6 = convertPmf2Cdf(pmf3dice6)\n",
    "cdfBest3of4 = convertPmf2Cdf(pmfBest3of4)\n",
    "\n",
    "fig = Cmk.Figure()\n",
    "ax1, l1 = Cmk.lines(fig[1, 1],\n",
    "    cdf3dice6.names, cdf3dice6.posteriors,\n",
    "    color=\"blue\", linestyle=:solid, linewidth=3,\n",
    "    axis=(;title=\"Distribution of attributes\",\n",
    "        xlabel=\"Outcome\", ylabel=\"CDF\",\n",
    "        xticks=4:2:18,\n",
    "    )\n",
    ")\n",
    "l2 = Cmk.lines!(fig[1, 1],\n",
    "    cdfBest3of4.names, cdfBest3of4.posteriors,\n",
    "    color=\"orange\", linestyle=:dash, linewidth=3\n",
    ")\n",
    "l3 = Cmk.lines!(fig[1, 1],\n",
    "    cdfMax6.names, cdfMax6.posteriors,\n",
    "    color=\"green\", linestyle=:dot, linewidth=3\n",
    ")\n",
    "Cmk.axislegend(ax1,\n",
    "    [l1, l2, l3],\n",
    "    [\"sum of 3 dice\", \"best 3 of 4 dice\", \"max of 6 attributes\"],\n",
    "    \"type of distribution\",\n",
    "    position=:lt\n",
    ")\n",
    "fig"
   ]
  },
  {
   "cell_type": "markdown",
   "metadata": {
    "collapsed": false,
    "jupyter": {
     "outputs_hidden": false
    }
   },
   "source": [
    "Let's write a function to automate computing maximum."
   ]
  },
  {
   "cell_type": "code",
   "execution_count": null,
   "metadata": {
    "collapsed": false,
    "jupyter": {
     "outputs_hidden": false
    }
   },
   "outputs": [],
   "source": [
    "\"\"\"\n",
    "\tComputes and returns the distribution of a maximum of a cdf\n",
    "\n",
    "\t---\n",
    "\targs:\n",
    "\t\tn: Int, drawing n times from cdfDist,\n",
    "\t\t\treturns cdf where cdf(x) prob. that all n of drawings are <= to x\n",
    "\"\"\"\n",
    "function getMaxCdfDist(cdfDist::Cdf{T}, n::Int)::Cdf{T} where T\n",
    "\tcdfMaxN::Vector{Float64} = cdfDist.posteriors .^ n\n",
    "\treturn Cdf(cdfDist.names, cdfMaxN)\n",
    "end"
   ]
  },
  {
   "cell_type": "markdown",
   "metadata": {
    "collapsed": false,
    "jupyter": {
     "outputs_hidden": false
    }
   },
   "source": [
    "Let's see if it works."
   ]
  },
  {
   "cell_type": "code",
   "execution_count": null,
   "metadata": {
    "collapsed": false,
    "jupyter": {
     "outputs_hidden": false
    }
   },
   "outputs": [],
   "source": [
    "x = getMaxCdfDist(cdfBest3of4, 6)"
   ]
  },
  {
   "cell_type": "code",
   "execution_count": null,
   "metadata": {
    "collapsed": false,
    "jupyter": {
     "outputs_hidden": false
    }
   },
   "outputs": [],
   "source": [
    "all(x.names .== cdfMax6.names),\n",
    "all(x.posteriors .== cdfMax6.posteriors)"
   ]
  },
  {
   "cell_type": "markdown",
   "metadata": {
    "collapsed": false,
    "jupyter": {
     "outputs_hidden": false
    }
   },
   "source": [
    "It does."
   ]
  },
  {
   "cell_type": "markdown",
   "metadata": {
    "collapsed": false,
    "jupyter": {
     "outputs_hidden": false
    }
   },
   "source": [
    "## Minimum\n",
    "To compute the distribution of the minimum, we'll use the **complementary CDF**,\n",
    "which we can compute like this:"
   ]
  },
  {
   "cell_type": "code",
   "execution_count": null,
   "metadata": {
    "collapsed": false,
    "jupyter": {
     "outputs_hidden": false
    }
   },
   "outputs": [],
   "source": [
    "probGt = 1 .- cdfBest3of4.posteriors"
   ]
  },
  {
   "cell_type": "markdown",
   "metadata": {
    "collapsed": false,
    "jupyter": {
     "outputs_hidden": false
    }
   },
   "source": [
    "As the variable name suggests, the complementary CDF is the probability that a\n",
    "value from the distribution is greater than `x`. If we draw 6 values from the\n",
    "distribution, the probability that all 6 exceed `x` is:"
   ]
  },
  {
   "cell_type": "code",
   "execution_count": null,
   "metadata": {
    "collapsed": false,
    "jupyter": {
     "outputs_hidden": false
    }
   },
   "outputs": [],
   "source": [
    "probGt6 = probGt .^ 6"
   ]
  },
  {
   "cell_type": "markdown",
   "metadata": {
    "collapsed": false,
    "jupyter": {
     "outputs_hidden": false
    }
   },
   "source": [
    "If all 6 exceed `x` that means their minimum exceeds `x`, so `probGt6` is the\n",
    "complementary CDF of the minimum. And that means we can compute the CDF of the\n",
    "minimum liek this:"
   ]
  },
  {
   "cell_type": "code",
   "execution_count": null,
   "metadata": {
    "collapsed": false,
    "jupyter": {
     "outputs_hidden": false
    }
   },
   "outputs": [],
   "source": [
    "probLe6 = 1 .- probGt6"
   ]
  },
  {
   "cell_type": "code",
   "execution_count": null,
   "metadata": {
    "collapsed": false,
    "jupyter": {
     "outputs_hidden": false
    }
   },
   "outputs": [],
   "source": [
    "cdfMin6 = Cdf(cdfBest3of4.names |> copy, probLe6)"
   ]
  },
  {
   "cell_type": "code",
   "execution_count": null,
   "metadata": {
    "collapsed": false,
    "jupyter": {
     "outputs_hidden": false
    }
   },
   "outputs": [],
   "source": [
    "fig = Cmk.Figure()\n",
    "ax1, l1 = Cmk.lines(\n",
    "    fig[1, 1],\n",
    "    cdfMax6.names, cdfMax6.posteriors,\n",
    "    color=\"green\", linestyle=:dot,\n",
    "    axis=(;title=\"Minimum and maximum of six attributes\",\n",
    "        xlabel=\"Outcome\", ylabel=\"CDF\",\n",
    "        xticks=4:2:18\n",
    "    )\n",
    ")\n",
    "l2 = Cmk.lines!(\n",
    "    fig[1, 1],\n",
    "    cdfMin6.names, cdfMin6.posteriors,\n",
    "    color=\"purple\", linestyle=:solid,\n",
    ")\n",
    "Cmk.axislegend(ax1,\n",
    "    [l1, l2],\n",
    "    [\"maximum of 6\", \"minimum of 6\"],\n",
    "    \"type of distribution\",\n",
    "    position=:lt\n",
    ")\n",
    "fig"
   ]
  },
  {
   "cell_type": "markdown",
   "metadata": {
    "collapsed": false,
    "jupyter": {
     "outputs_hidden": false
    }
   },
   "source": [
    "Now let's write a function that will speed up these calculations for us."
   ]
  },
  {
   "cell_type": "code",
   "execution_count": null,
   "metadata": {
    "collapsed": false,
    "jupyter": {
     "outputs_hidden": false
    }
   },
   "outputs": [],
   "source": [
    "\"\"\"\n",
    "Computes and returns the distribution of a minimum of a cdf\n",
    "\n",
    "---\n",
    "args:\n",
    "    n: Int, drawing n times from cdfDist(x),\n",
    "            returns cdf where cdf(x) prob. that all n of drawings are >= x\n",
    "\"\"\"\n",
    "function getMinCdfDist(cdfDist::Cdf{T}, n::Int)::Cdf{T} where T\n",
    "    # prob that a val from cdfDist is greater than x (a given cdfDist.name)\n",
    "    probGt::Vector{<:Float64} = 1 .- cdfDist.posteriors\n",
    "    # prob that all n vals drawn from dist exceed x\n",
    "    # (their min exceeds x)\n",
    "    probGtN::Vector{ <:Float64 } = probGt .^ n\n",
    "    probLEqN::Vector{<:Float64} = 1 .- probGtN\n",
    "    return Cdf(cdfDist.names |> copy, probLEqN) \n",
    "end"
   ]
  },
  {
   "cell_type": "code",
   "execution_count": null,
   "metadata": {
    "collapsed": false,
    "jupyter": {
     "outputs_hidden": false
    }
   },
   "outputs": [],
   "source": [
    "x = getMinCdfDist(cdfBest3of4, 6)"
   ]
  },
  {
   "cell_type": "code",
   "execution_count": null,
   "metadata": {
    "collapsed": false,
    "jupyter": {
     "outputs_hidden": false
    }
   },
   "outputs": [],
   "source": [
    "all(x.names .== cdfMin6.names),\n",
    "all(x.posteriors .== cdfMin6.posteriors)"
   ]
  },
  {
   "cell_type": "markdown",
   "metadata": {
    "collapsed": false,
    "jupyter": {
     "outputs_hidden": false
    }
   },
   "source": [
    "## General Mixtures\n",
    "\n",
    "Suppose three more monsters join the combat, each of them with a battle axe that\n",
    "causes one 8-sided die of damage. Still, only one monster attacks per round,\n",
    "chosen at random, so the damage they inflict is a mixture of:\n",
    "\n",
    "- One 4-sided die,\n",
    "- Two 6-sided dice, and\n",
    "- Three 8-sided dice."
   ]
  },
  {
   "cell_type": "code",
   "execution_count": null,
   "metadata": {
    "collapsed": false,
    "jupyter": {
     "outputs_hidden": false
    }
   },
   "outputs": [],
   "source": [
    "# Pmf represents a randomly chosen monster\n",
    "hypos = [4, 6, 8]\n",
    "counts = [1, 2, 3]\n",
    "# Pmf constructor, normalizes priors by default\n",
    "pmfDice = Pmf.Pmf(hypos, counts)\n",
    "pmfDice"
   ]
  },
  {
   "cell_type": "code",
   "execution_count": null,
   "metadata": {
    "collapsed": false,
    "jupyter": {
     "outputs_hidden": false
    }
   },
   "outputs": [],
   "source": [
    "# sequence of Pmf objects to represent the dice\n",
    "dice = [Pmf.getPmfFromSeq(1:nSides |> collect) for nSides in hypos]"
   ]
  },
  {
   "cell_type": "code",
   "execution_count": null,
   "metadata": {
    "collapsed": false,
    "jupyter": {
     "outputs_hidden": false
    }
   },
   "outputs": [],
   "source": [
    "df = Dfs.DataFrame(nDots=1:8)"
   ]
  },
  {
   "cell_type": "code",
   "execution_count": null,
   "metadata": {
    "collapsed": false,
    "jupyter": {
     "outputs_hidden": false
    }
   },
   "outputs": [],
   "source": [
    "for d in dice\n",
    "    df[:, string(\"d\", length(d.names))] = Pmf.getPriorsByNames(d, df[:, :nDots])\n",
    "end"
   ]
  },
  {
   "cell_type": "code",
   "execution_count": null,
   "metadata": {
    "collapsed": false,
    "jupyter": {
     "outputs_hidden": false
    }
   },
   "outputs": [],
   "source": [
    "df"
   ]
  },
  {
   "cell_type": "code",
   "execution_count": null,
   "metadata": {
    "collapsed": false,
    "jupyter": {
     "outputs_hidden": false
    }
   },
   "outputs": [],
   "source": [
    "# distribution of the mixture is weighted average of the dice\n",
    "# weights (priors in pmfDice)\n",
    "for rowNum in 1:size(df, 1)\n",
    "    df[rowNum, 2:end] = Vector(df[rowNum, 2:end]) .* pmfDice.priors\n",
    "end;"
   ]
  },
  {
   "cell_type": "code",
   "execution_count": null,
   "metadata": {
    "collapsed": false,
    "jupyter": {
     "outputs_hidden": false
    }
   },
   "outputs": [],
   "source": [
    "df"
   ]
  },
  {
   "cell_type": "code",
   "execution_count": null,
   "metadata": {
    "collapsed": false,
    "jupyter": {
     "outputs_hidden": false
    }
   },
   "outputs": [],
   "source": [
    "# sum by row, because one of the monsters (dices) strikes\n",
    "# so we throw d4 or d6 or d8\n",
    "df.posteriors = df[:, 2:end] |> Array |> a -> sum(a, dims=2) |> vec;"
   ]
  },
  {
   "cell_type": "code",
   "execution_count": null,
   "metadata": {
    "collapsed": false,
    "jupyter": {
     "outputs_hidden": false
    }
   },
   "outputs": [],
   "source": [
    "df"
   ]
  },
  {
   "cell_type": "code",
   "execution_count": null,
   "metadata": {
    "collapsed": false,
    "jupyter": {
     "outputs_hidden": false
    }
   },
   "outputs": [],
   "source": [
    "fig = Cmk.Figure()\n",
    "Cmk.barplot(fig[1, 1],\n",
    "            df.nDots, df.posteriors,\n",
    "            color=\"lightblue\",\n",
    "            axis=(;title=\"Distribution of damage with three different weapons\",\n",
    "                  xlabel=\"Outcome\", ylabel=\"PMF\")\n",
    ")\n",
    "fig"
   ]
  },
  {
   "cell_type": "markdown",
   "metadata": {
    "collapsed": false,
    "jupyter": {
     "outputs_hidden": false
    }
   },
   "source": [
    "Let's put that to a function."
   ]
  },
  {
   "cell_type": "code",
   "execution_count": null,
   "metadata": {
    "collapsed": false,
    "jupyter": {
     "outputs_hidden": false
    }
   },
   "outputs": [],
   "source": [
    "function padVect(v::Vector{Float64}, finalLen::Int, padVal::Float64=0.0)::Vector{Float64}\n",
    "\treturn [get(v, i, padVal) for i in 1:finalLen]\n",
    "end"
   ]
  },
  {
   "cell_type": "code",
   "execution_count": null,
   "metadata": {
    "collapsed": false,
    "jupyter": {
     "outputs_hidden": false
    }
   },
   "outputs": [],
   "source": [
    "\"\"\"getMixture(pmfDist::pmf.Pmf{Int}, pmfSeq::Vector{pmf.Pmf{Int}})::pmf.Pmf{Int}\n",
    "\n",
    "\tMake a mixture of distributions.\n",
    "\n",
    "\t---\n",
    "\targs:\n",
    "\n",
    "\t\tpmfDist: probs of getting a dist in pmfSeq (names and priors)\n",
    "\t\tpmfSeq: pmfDists and their probs (priors), names betw seqs should overlap\n",
    "\t\"\"\"\n",
    "function getMixture(pmfDist::Pmf.Pmf{Int}, pmfSeq::Vector{Pmf.Pmf{Int}})::Pmf.Pmf{Int}\n",
    "\tmaxLen::Int = max([length(p.names) for p in pmfSeq]...)\n",
    "\tnames::Vector{Int} = [p.names for p in pmfSeq if length(p.names) == maxLen][1]\n",
    "\tpmfsNamesAndPriors::Dict{Int, Vector{Float64}} = Dict(\n",
    "\t\tpmfDist.names[i] => padVect(s.priors, maxLen) for (i, s) in enumerate(pmfSeq))\n",
    "\tpmfsNamesAndPosteriors::Dict{Int, Vector{Float64}} = Dict(\n",
    "\t\tk => v .* Pmf.getPriorByName(pmfDist, k) for (k, v) in pmfsNamesAndPriors\n",
    "\t)\n",
    "\tdf::Dfs.DataFrame = Dfs.DataFrame(\n",
    "\t\tDict(string(k) => v for (k, v) in pmfsNamesAndPosteriors))\n",
    "\tmixProbs::Vector{Float64} = (df |> Matrix |> x -> sum(x, dims=2))[:, 1]\n",
    "\treturn Pmf.Pmf(names, mixProbs)\n",
    "end"
   ]
  },
  {
   "cell_type": "code",
   "execution_count": null,
   "metadata": {
    "collapsed": false,
    "jupyter": {
     "outputs_hidden": false
    }
   },
   "outputs": [],
   "source": [
    "mix = getMixture(pmfDice, dice)"
   ]
  },
  {
   "cell_type": "markdown",
   "metadata": {},
   "source": [
    "## Summary\n",
    "\n",
    "A `Pmf` and the corresponding `Cdf` are equivalent in the sense that they contain\n",
    "the same information, so you can convert from one to the other. The primary\n",
    "difference between them is performance: some operations are faster and easier\n",
    "with a `Pmf`; others are faster with a `Cdf`.\n",
    "\n",
    "In this chapter we used `Cdf` objects to compute distributions of maximums and\n",
    "minimums."
   ]
  },
  {
   "cell_type": "markdown",
   "metadata": {},
   "source": [
    "## Exercises"
   ]
  },
  {
   "cell_type": "markdown",
   "metadata": {},
   "source": [
    "### Exercise 1\n",
    "\n",
    "When you generate a D&D character, instead of rolling dice, you can use the\n",
    "“standard array” of attributes, which is 15, 14, 13, 12, 10, and 8. Do you think\n",
    "you are better off using the standard array or (literally) rolling the dice?\n",
    "\n",
    "Compare the distribution of the values in the standard array to the distribution\n",
    "we computed for the best three out of four:\n",
    "\n",
    "- Which distribution has higher `mean`? Use the mean method.\n",
    "- Which distribution has higher standard deviation? Use the `std` method.\n",
    "- The lowest value in the standard array is 8. For each attribute, what is the\n",
    "probability of getting a value less than 8? If you roll the dice six times,\n",
    "what’s the probability that at least one of your attributes is less than 8?\n",
    "- The highest value in the standard array is 15. For each attribute, what is the\n",
    "probability of getting a value greater than 15? If you roll the dice six times,\n",
    "what’s the probability that at least one of your attributes is greater than 15?"
   ]
  },
  {
   "cell_type": "markdown",
   "metadata": {},
   "source": [
    "To get you started, here’s a `Cdf` that represents the distribution of attributes in the standard array:"
   ]
  },
  {
   "cell_type": "code",
   "execution_count": null,
   "metadata": {},
   "outputs": [],
   "source": [
    "standard = [15,14,13,12,10,8]\n",
    "cdfStandard = Pmf.getPmfFromSeq(standard) |> convertPmf2Cdf"
   ]
  },
  {
   "cell_type": "markdown",
   "metadata": {},
   "source": [
    "We can compare it to the distribution of attributes you get by rolling four dice\n",
    "at adding up the best three."
   ]
  },
  {
   "cell_type": "code",
   "execution_count": null,
   "metadata": {},
   "outputs": [],
   "source": [
    "fig = Cmk.Figure()\n",
    "ax1, sc1 = Cmk.scatter(fig[1, 1], \n",
    "    cdfBest3of4.names, cdfBest3of4.posteriors, color=:red, markersize=20,\n",
    "    axis=(;title=\"Distribution of attributes\",\n",
    "        xlabel=\"Outcome\", ylabel=\"CDF\", xticks=3:18\n",
    "    )\n",
    ")\n",
    "l1 = Cmk.lines!(fig[1, 1], \n",
    "    cdfBest3of4.names, cdfBest3of4.posteriors, color=:red, linewidth=3\n",
    ")\n",
    "sc2 = Cmk.scatter!(fig[1, 1], cdfStandard.names, cdfStandard.posteriors,\n",
    "    color=:navy, marker=:hline, markersize=30,  \n",
    ")\n",
    "Cmk.axislegend(ax1,\n",
    "    [[sc1, l1], sc2],\n",
    "    [\"Best 3 of 4\", \"Standard Set\"],\n",
    "    \"Probability\\ndistribution\\nfunction\",\n",
    "    position=:lt\n",
    ")\n",
    "fig"
   ]
  }
 ],
 "metadata": {
  "kernelspec": {
   "display_name": "Julia 1.10.2",
   "language": "julia",
   "name": "julia-1.10"
  },
  "language_info": {
   "file_extension": ".jl",
   "mimetype": "application/julia",
   "name": "julia",
   "version": "1.10.2"
  },
  "name": "ch07.ipynb"
 },
 "nbformat": 4,
 "nbformat_minor": 4
}
