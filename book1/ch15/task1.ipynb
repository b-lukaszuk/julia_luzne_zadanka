{
 "cells": [
  {
   "attachments": {},
   "cell_type": "markdown",
   "id": "0afe05a3",
   "metadata": {},
   "source": [
    "# Task 1\n",
    "\n",
    "## Original exercise number\n",
    "\n",
    "Exercise 15-3\n",
    "\n",
    "## Description\n",
    "\n",
    "1. Write a definition for a type named `Circle` with fields `center` and `radius`, where `center` is a `Point` object and `radius` is a number.\n",
    "\n",
    "2. Instantiate a circle object that represents a circle with its center at (150,100) and radius 75.\n",
    "\n",
    "3. Write a function named `pointincircle` that takes a `Circle` object and a `Point` object and returns `true` if the point lies in or on the boundary of the circle.\n",
    "\n",
    "4. Write a function named `rectincircle` that takes a `Circle` object and a `Rectangle` object and returns `true` if the rectangle lies entirely in or on the boundary of the circle.\n",
    "\n",
    "5. Write a function named `rectcircleoverlap` that takes a `Circle` object and a `Rectangle` object and returns `true` if any of the corners of the rectangle fall inside the circle. Or as a more challenging version, return `true` if any part of the rectangle falls inside the circle."
   ]
  },
  {
   "cell_type": "markdown",
   "id": "c4bc3ea0",
   "metadata": {},
   "source": [
    "## Solution"
   ]
  },
  {
   "cell_type": "markdown",
   "id": "2895339f",
   "metadata": {},
   "source": [
    "NO GUARANTEE THAT THE SOLUTION WILL WORK OR WORKS CORRECTLY! USE IT AT\n",
    "YOUR OWN RISK!"
   ]
  },
  {
   "cell_type": "markdown",
   "id": "64af222d",
   "metadata": {},
   "source": [
    "### Imports"
   ]
  },
  {
   "cell_type": "code",
   "execution_count": null,
   "id": "0a7652a3",
   "metadata": {},
   "outputs": [],
   "source": [
    "# https://docs.julialang.org/en/v1/stdlib/Test/#Basic-Unit-Tests\n",
    "import Test as ts"
   ]
  },
  {
   "cell_type": "markdown",
   "id": "05df47ca",
   "metadata": {},
   "source": [
    "### Functions"
   ]
  },
  {
   "cell_type": "code",
   "execution_count": null,
   "id": "0a4e3e3c",
   "metadata": {},
   "outputs": [],
   "source": [
    "struct Point{T<:Real}\n",
    "    x::T\n",
    "    y::T\n",
    "end"
   ]
  },
  {
   "cell_type": "code",
   "execution_count": null,
   "id": "32bf2726",
   "metadata": {},
   "outputs": [],
   "source": [
    "function getDistance(p1::Point{<:Real}, p2::Point{<:Real})::Real\n",
    "    dx::Real = p1.x - p2.x\n",
    "    dy::Real = p1.y - p2.y\n",
    "    return sqrt((dx^2) + (dy^2))\n",
    "end"
   ]
  },
  {
   "cell_type": "code",
   "execution_count": null,
   "id": "e61e84e6",
   "metadata": {},
   "outputs": [],
   "source": [
    "struct Rectangle{T<:Real}\n",
    "    width::T\n",
    "    height::T\n",
    "    lowerLeftCorner::Point{<:Real}\n",
    "end"
   ]
  },
  {
   "cell_type": "code",
   "execution_count": null,
   "id": "a4c16981",
   "metadata": {},
   "outputs": [],
   "source": [
    "struct Circle{T<:Real}\n",
    "    center::Point{<:Real}\n",
    "    radius::T\n",
    "end"
   ]
  },
  {
   "cell_type": "code",
   "execution_count": null,
   "id": "c438ff4e",
   "metadata": {},
   "outputs": [],
   "source": [
    "struct Line{T<:Real}\n",
    "    p1::Point{T}\n",
    "    p2::Point{T}\n",
    "end"
   ]
  },
  {
   "cell_type": "code",
   "execution_count": null,
   "metadata": {},
   "outputs": [],
   "source": [
    "function isPointInCircle(p::Point{<:Real}, c::Circle{<:Real})::Bool\n",
    "    distFromCenter::Real = getDistance(c.center, p)\n",
    "    return distFromCenter <= c.radius\n",
    "end"
   ]
  },
  {
   "cell_type": "code",
   "execution_count": null,
   "id": "65b37efd",
   "metadata": {},
   "outputs": [],
   "source": [
    "# returns vertices, llc, urc, lrc, ulc\n",
    "function get4vertices(rect::Rectangle{<:Real})::Vector{Point{<:Real}}\n",
    "    llc, w, h = (rect.lowerLeftCorner, rect.width, rect.height)\n",
    "    vertices::Vector{Point{<:Real}} = [llc]\n",
    "    for (w1, h1) in zip([w, w, 0], [h, 0, h])\n",
    "        push!(vertices, Point(llc.x + w1, llc.y + h1))\n",
    "    end\n",
    "    return vertices\n",
    "end"
   ]
  },
  {
   "cell_type": "code",
   "execution_count": null,
   "id": "faa206de",
   "metadata": {},
   "outputs": [],
   "source": [
    "function get4sides(rect::Rectangle{<:Real})\n",
    "    llc, urc, lrc, ulc = get4vertices(rect)\n",
    "    return [Line(llc, lrc), Line(llc, ulc), Line(urc, lrc), Line(urc, ulc)]\n",
    "end"
   ]
  },
  {
   "cell_type": "code",
   "execution_count": null,
   "id": "9fe0891b",
   "metadata": {},
   "outputs": [],
   "source": [
    "function isRectInCirc(rect::Rectangle{<:Real}, circ::Circle{<:Real})::Bool\n",
    "    for v in get4vertices(rect)\n",
    "        if !isPointInCircle(v, circ)\n",
    "            return false\n",
    "        end\n",
    "    end\n",
    "    return true\n",
    "end"
   ]
  },
  {
   "cell_type": "code",
   "execution_count": null,
   "id": "2519ceed",
   "metadata": {},
   "outputs": [],
   "source": [
    "# https://www.geeksforgeeks.org/check-line-touches-intersects-circle/\n",
    "\n",
    "# a is the slope\n",
    "function getA(lin::Line{<:Real})::Real\n",
    "    p1, p2 = lin.p1, lin.p2\n",
    "    slope::Real = (p2.y - p1.y) / (p2.x - p1.x)\n",
    "    if slope == 0\n",
    "        return 1e-16\n",
    "    elseif slope == Inf\n",
    "        return 1e16\n",
    "    else\n",
    "        return slope\n",
    "    end\n",
    "    # return slope\n",
    "end\n",
    "\n",
    "# c is the intercept\n",
    "function getC(lin::Line{<:Real})::Real\n",
    "    p1, p2 = lin.p1, lin.p2\n",
    "    meanY = (p1.y + p2.y) / 2\n",
    "    meanX = (p1.x + p2.x) / 2\n",
    "    return meanY - getA(lin) * meanX\n",
    "end\n",
    "\n",
    "# changing: y = a*x + c to: a*x + b*y + c = 0\n",
    "function getABC(lin::Line{<:Real})::Tuple{Real, Real, Real}\n",
    "    a = getA(lin)\n",
    "    c = getC(lin)\n",
    "    # e.g. y = 2x + 1 => y - 2x - 1 = 0 (change sides and signs)\n",
    "    return (-1*a, 1, -1*c)\n",
    "end\n",
    "\n",
    "function doesLineIntersectsCircle(lin::Line{<:Real}, circ::Circle{<:Real})::Bool\n",
    "    a, b, c = getABC(lin)\n",
    "    cx, cy = circ.center.x, circ.center.y\n",
    "     \n",
    "    # distance of line from circle center\n",
    "    dist::Real = ((abs(a * cx + b * cy + c)) / sqrt(a * a + b * b))\n",
    "\n",
    "    return circ.radius > dist\n",
    "end\n",
    "\n",
    "function doesAnyRectSideIntersectsCircle(rect::Rectangle{<:Real}, circ::Circle{<:Real})::Bool\n",
    "    sides::Vector{Line{<:Real}} = get4sides(rect)\n",
    "    intersections::Vector{Bool} = map(s -> doesLineIntersectsCircle(s, circ), sides)\n",
    "    return any(intersections)\n",
    "end\n",
    "\n",
    "function doesRectOverlapCirc(rect::Rectangle{<:Real}, circ::Circle{<:Real})::Bool\n",
    "    return isRectInCirc(rect, circ) || doesAnyRectSideIntersectsCircle(rect, circ)\n",
    "end"
   ]
  },
  {
   "cell_type": "markdown",
   "id": "f8866cb1",
   "metadata": {},
   "source": [
    "## Testing"
   ]
  },
  {
   "cell_type": "code",
   "execution_count": null,
   "id": "0eb4ad66",
   "metadata": {},
   "outputs": [],
   "source": [
    "circ1 = Circle(Point(150, 100), 75)\n",
    "point1 = Point(100, 100)\n",
    "point2 = Point(300, 300)"
   ]
  },
  {
   "cell_type": "code",
   "execution_count": null,
   "id": "61a1c72f",
   "metadata": {},
   "outputs": [],
   "source": [
    "ts.@test isPointInCircle(point1, circ1)"
   ]
  },
  {
   "cell_type": "code",
   "execution_count": null,
   "id": "57eff60d",
   "metadata": {},
   "outputs": [],
   "source": [
    "ts.@test !isPointInCircle(point2, circ1)"
   ]
  },
  {
   "cell_type": "code",
   "execution_count": null,
   "id": "f86978a2",
   "metadata": {},
   "outputs": [],
   "source": [
    "rect1 = Rectangle(75, 50, Point(100, 75))\n",
    "rect2 = Rectangle(75, 50, Point(50, 100))"
   ]
  },
  {
   "cell_type": "code",
   "execution_count": null,
   "id": "c76ae513",
   "metadata": {},
   "outputs": [],
   "source": [
    "ts.@test isRectInCirc(rect1, circ1)"
   ]
  },
  {
   "cell_type": "code",
   "execution_count": null,
   "id": "9d5fef62",
   "metadata": {},
   "outputs": [],
   "source": [
    "ts.@test !isRectInCirc(rect2, circ1)"
   ]
  },
  {
   "cell_type": "code",
   "execution_count": null,
   "id": "141302b3",
   "metadata": {},
   "outputs": [],
   "source": [
    "circ2 = Circle(Point(100, 100), 100)\n",
    "rect3 = Rectangle(100, 50, Point(0, 0))\n",
    "rect4 = Rectangle(50, 50, Point(-75, 75))"
   ]
  },
  {
   "cell_type": "code",
   "execution_count": null,
   "id": "c5c29d0e",
   "metadata": {},
   "outputs": [],
   "source": [
    "ts.@test doesRectOverlapCirc(rect3, circ2)"
   ]
  },
  {
   "cell_type": "code",
   "execution_count": null,
   "metadata": {},
   "outputs": [],
   "source": [
    "# test fails, check the solution\n",
    "ts.@test !doesRectOverlapCirc(rect4, circ2)"
   ]
  }
 ],
 "metadata": {
  "kernelspec": {
   "display_name": "Julia 1.8.3",
   "language": "julia",
   "name": "julia-1.8"
  },
  "language_info": {
   "file_extension": ".jl",
   "mimetype": "application/julia",
   "name": "julia",
   "version": "1.8.3"
  },
  "name": "task1.ipynb"
 },
 "nbformat": 4,
 "nbformat_minor": 5
}
