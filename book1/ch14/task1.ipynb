{
 "cells": [
  {
   "attachments": {},
   "cell_type": "markdown",
   "id": "0afe05a3",
   "metadata": {},
   "source": [
    "# Task 1\n",
    "\n",
    "## Original exercise number\n",
    "\n",
    "Exercise 14-2\n",
    "\n",
    "## Description\n",
    "\n",
    "Write a function called `sed` that takes as arguments a pattern string, a replacement string, and two filenames; it should read the first file and write the contents into the second file (creating it if necessary). If the pattern string appears anywhere in the file, it should be replaced with the replacement string.\n",
    "\n",
    "If an error occurs while opening, reading, writing or closing files, your program should catch the exception, print an error message, and exit."
   ]
  },
  {
   "cell_type": "markdown",
   "id": "c4bc3ea0",
   "metadata": {},
   "source": [
    "## Solution"
   ]
  },
  {
   "cell_type": "markdown",
   "id": "2895339f",
   "metadata": {},
   "source": [
    "NO GUARANTEE THAT THE SOLUTION WILL WORK OR WORKS CORRECTLY! USE IT AT\n",
    "YOUR OWN RISK!"
   ]
  },
  {
   "cell_type": "markdown",
   "id": "05df47ca",
   "metadata": {},
   "source": [
    "### Functions"
   ]
  },
  {
   "cell_type": "code",
   "execution_count": 1,
   "id": "8edcb152",
   "metadata": {},
   "outputs": [
    {
     "data": {
      "text/plain": [
       "get_file_contents (generic function with 1 method)"
      ]
     },
     "execution_count": 1,
     "metadata": {},
     "output_type": "execute_result"
    }
   ],
   "source": [
    "function get_file_contents(file_path::String)::String\n",
    "    lines::Vector{String} = []\n",
    "    open(file_path) do file\n",
    "        for line in eachline(file)\n",
    "            push!(lines, line)\n",
    "        end\n",
    "    end\n",
    "    return join(lines, \"\\n\")\n",
    "end "
   ]
  },
  {
   "cell_type": "code",
   "execution_count": 2,
   "id": "79039c1b",
   "metadata": {},
   "outputs": [
    {
     "data": {
      "text/plain": [
       "should_write_to_file_if_exists_get_user_decision (generic function with 1 method)"
      ]
     },
     "execution_count": 2,
     "metadata": {},
     "output_type": "execute_result"
    }
   ],
   "source": [
    "function should_write_to_file_if_exists_get_user_decision(file_path::String)::Bool\n",
    "    user_answer::String = \"\"\n",
    "    if isfile(file_path)\n",
    "        println(\"The file '$file_path' already exists.\")\n",
    "        println(\"Overwrite it? [y/n (or anything else)]\")\n",
    "        user_answer = readline()\n",
    "        return lowercase(user_answer) == \"y\"\n",
    "    end\n",
    "    return true\n",
    "end"
   ]
  },
  {
   "cell_type": "code",
   "execution_count": 3,
   "id": "60f64c60",
   "metadata": {},
   "outputs": [
    {
     "data": {
      "text/plain": [
       "write_text_to_file (generic function with 1 method)"
      ]
     },
     "execution_count": 3,
     "metadata": {},
     "output_type": "execute_result"
    }
   ],
   "source": [
    "function write_text_to_file(text::String, file_path::String)\n",
    "    if should_write_to_file_if_exists_get_user_decision(file_path)\n",
    "        open(file_path, \"w\") do file\n",
    "            write(file, text)\n",
    "        end\n",
    "        println(\"Writing to '$file_path' completed.\")\n",
    "    else\n",
    "        println(\"Canceling writing to '$file_path'.\")\n",
    "    end\n",
    "end"
   ]
  },
  {
   "cell_type": "code",
   "execution_count": 4,
   "id": "04c60ab2",
   "metadata": {},
   "outputs": [
    {
     "data": {
      "text/plain": [
       "sed (generic function with 1 method)"
      ]
     },
     "execution_count": 4,
     "metadata": {},
     "output_type": "execute_result"
    }
   ],
   "source": [
    "function sed(pattern::Union{String, Regex}, replacement::Union{String, SubstitutionString},\n",
    "    from_file::String, to_file::String)\n",
    "    file1_text::String = get_file_contents(from_file)\n",
    "    result_text::String = replace(file1_text, pattern => replacement)\n",
    "    write_text_to_file(result_text, to_file) \n",
    "end"
   ]
  },
  {
   "cell_type": "markdown",
   "id": "f8866cb1",
   "metadata": {},
   "source": [
    "## Testing"
   ]
  },
  {
   "cell_type": "code",
   "execution_count": 5,
   "id": "cc891558",
   "metadata": {},
   "outputs": [
    {
     "name": "stdout",
     "output_type": "stream",
     "text": [
      "Writing to './task1_test2.txt' completed.\n"
     ]
    }
   ],
   "source": [
    "sed(r\"(John[a-z]*)\", s\"Peter (and not \\g<1>)\", \"./task1_test.txt\", \"./task1_test2.txt\")"
   ]
  },
  {
   "cell_type": "code",
   "execution_count": 6,
   "id": "74c72cb9",
   "metadata": {},
   "outputs": [
    {
     "name": "stdout",
     "output_type": "stream",
     "text": [
      "Writing to './task1_test3.txt' completed.\n"
     ]
    }
   ],
   "source": [
    "sed(\"John\", \"Peter\", \"./task1_test.txt\", \"./task1_test3.txt\")"
   ]
  }
 ],
 "metadata": {
  "kernelspec": {
   "display_name": "Julia 1.8.3",
   "language": "julia",
   "name": "julia-1.8"
  },
  "language_info": {
   "file_extension": ".jl",
   "mimetype": "application/julia",
   "name": "julia",
   "version": "1.8.3"
  },
  "name": "task1.ipynb"
 },
 "nbformat": 4,
 "nbformat_minor": 5
}
