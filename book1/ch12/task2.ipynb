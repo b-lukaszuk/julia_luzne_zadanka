{
 "cells": [
  {
   "cell_type": "markdown",
   "id": "0afe05a3",
   "metadata": {},
   "source": [
    "# Task 2\n",
    "\n",
    "## Original exercise number\n",
    "\n",
    "Exercise 12-4\n",
    "\n",
    "## Description\n",
    "\n",
    "Two words form a “metathesis pair” if you can transform one into the other by swapping two letters; for example, “converse” and “conserve”. Write a program that finds all of the metathesis pairs in the dictionary.\n",
    "\n",
    "### TIP\n",
    "\n",
    "Don’t test all pairs of words, and don’t test all possible swaps.\n",
    "\n",
    "### Credit\n",
    "\n",
    "This exercise is inspired by an example at http://puzzlers.org.\n",
    "\n",
    "## My notes\n",
    "\n",
    "Hmm, \"don't test all possible swaps\", Ok. I will calculate [Levenshtein distance](https://en.wikipedia.org/wiki/Levenshtein_distance)"
   ]
  },
  {
   "cell_type": "markdown",
   "id": "c4bc3ea0",
   "metadata": {},
   "source": [
    "## Solution"
   ]
  },
  {
   "cell_type": "markdown",
   "id": "2895339f",
   "metadata": {},
   "source": [
    "NO GUARANTEE THAT THE SOLUTION WILL WORK OR WORKS CORRECTLY! USE IT AT\n",
    "YOUR OWN RISK!"
   ]
  },
  {
   "cell_type": "markdown",
   "id": "05df47ca",
   "metadata": {},
   "source": [
    "### Functions"
   ]
  },
  {
   "cell_type": "code",
   "execution_count": null,
   "id": "0e8dd25c",
   "metadata": {},
   "outputs": [],
   "source": [
    "# https://en.wikipedia.org/wiki/Levenshtein_distance#Iterative_with_full_matrix\n",
    "function get_levenshtein_distance(s::String, t::String)::Int\n",
    "    m::Int = length(s)\n",
    "    n::Int = length(t)\n",
    "    d::Matrix{Int} = zeros(m+1, n+1)\n",
    "    substitution_cost::Int = 0\n",
    "\n",
    "    # +1, because changing 0 indexing from example to 1 indexing in Julia\n",
    "    for i in 1:m\n",
    "        d[i+1, 0+1] = i\n",
    "    end\n",
    "\n",
    "    # +1, because changing 0 indexing from example to 1 indexing in Julia\n",
    "    for j in 1:n\n",
    "        d[0+1, j+1] = j\n",
    "    end\n",
    "\n",
    "    # +1, because changing 0 indexing from example to 1 indexing in Julia\n",
    "    for j in 1:n\n",
    "        for i in 1:m\n",
    "            if s[i] == t[j]\n",
    "                substitution_cost = 0\n",
    "            else\n",
    "                substitution_cost = 1\n",
    "            end\n",
    "\n",
    "            d[i+1, j+1] = min(d[i+1-1, j+1] + 1,\n",
    "                          d[i+1, j+1-1] + 1,\n",
    "                          d[i+1-1, j+1-1] + substitution_cost)\n",
    "        end\n",
    "    end\n",
    "\n",
    "    return d[m, n]\n",
    "end"
   ]
  },
  {
   "cell_type": "code",
   "execution_count": null,
   "id": "6a632b5d",
   "metadata": {
    "scrolled": true
   },
   "outputs": [],
   "source": [
    "function is_metathesis_pair(word1::String, word2::String,\n",
    "        case_sensitive::Bool = false)::Bool\n",
    "    return get_levenshtein_distance(\n",
    "        case_sensitive ? word1 : lowercase(word1),\n",
    "        case_sensitive ? word2 : lowercase(word2)) == 2\n",
    "end"
   ]
  },
  {
   "cell_type": "code",
   "execution_count": null,
   "id": "7bc9a83a",
   "metadata": {},
   "outputs": [],
   "source": [
    "function test_pair_and_declare_result(w1::String, w2::String)\n",
    "    print(\"Are '$w1' and '$w2' metathesis pair? \")\n",
    "    println(is_metathesis_pair(w1, w2))\n",
    "    return nothing\n",
    "end"
   ]
  },
  {
   "cell_type": "markdown",
   "id": "f8866cb1",
   "metadata": {},
   "source": [
    "## Testing"
   ]
  },
  {
   "cell_type": "code",
   "execution_count": null,
   "id": "fd01b46e",
   "metadata": {},
   "outputs": [],
   "source": [
    "positive_controls = [\n",
    "    (\"prescription\", \"perscription\"),\n",
    "    (\"aforementioned\", \"afroementioned\"),\n",
    "    (\"conserved\", \"conversed\"),\n",
    "    (\"nuclear\", \"nucular\"),\n",
    "    (\"nuclear\", \"naclears\"),\n",
    "    (\"english\", \"hEnglIs\"),\n",
    "]\n",
    "negative_controls = [\n",
    "    (\"aforementioned\", \"afrementioned\"),\n",
    "    (\"alan\", \"tola\"),\n",
    "    (\"pretty\", \"printing\"),\n",
    "    (\"furr\", \"rruf\"),\n",
    "    (\"english\", \"EnglIsh\"),\n",
    "    (\"horror\", \"rorroh\")\n",
    "]\n",
    "\n",
    "println(\"Testing for metathesis pairs (case insensitive).\")\n",
    "\n",
    "println(\"\\n---\")\n",
    "println(\"Positive controls.\")\n",
    "for (a, b) in positive_controls\n",
    "    test_pair_and_declare_result(a, b)\n",
    "end\n",
    "\n",
    "println(\"\\n---\")\n",
    "println(\"Negative controls.\")\n",
    "for (a, b) in positive_controls\n",
    "    test_pair_and_declare_result(a, b)\n",
    "end"
   ]
  }
 ],
 "metadata": {
  "kernelspec": {
   "display_name": "Julia 1.8.3",
   "language": "julia",
   "name": "julia-1.8"
  },
  "language_info": {
   "file_extension": ".jl",
   "mimetype": "application/julia",
   "name": "julia",
   "version": "1.8.3"
  },
  "name": "task1.ipynb"
 },
 "nbformat": 4,
 "nbformat_minor": 5
}
