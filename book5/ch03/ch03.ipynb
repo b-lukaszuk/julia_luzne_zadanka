{
 "cells": [
  {
   "cell_type": "markdown",
   "id": "756018ac-fc3b-4f6a-9c0b-39b231d378c4",
   "metadata": {
    "collapsed": false,
    "jupyter": {
     "outputs_hidden": false
    }
   },
   "source": [
    "# Ch03. Recursion"
   ]
  },
  {
   "cell_type": "markdown",
   "id": "054da63e",
   "metadata": {},
   "source": [
    "## Custom types"
   ]
  },
  {
   "cell_type": "code",
   "execution_count": null,
   "id": "82b8fc6d",
   "metadata": {},
   "outputs": [],
   "source": [
    "Num = Union{Int,Float64}"
   ]
  }
 ],
 "metadata": {
  "kernelspec": {
   "display_name": "Julia 1.10.2",
   "language": "julia",
   "name": "julia-1.10"
  },
  "language_info": {
   "file_extension": ".jl",
   "mimetype": "application/julia",
   "name": "julia",
   "version": "1.10.2"
  },
  "name": "ch03.ipynb"
 },
 "nbformat": 4,
 "nbformat_minor": 5
}
