{
 "cells": [
  {
   "cell_type": "markdown",
   "metadata": {},
   "source": [
    "# Chapter 5. Estimating Counts\n",
    "\n",
    "[Link to chapter online](https://allendowney.github.io/ThinkBayes2/chap05.html)\n",
    "\n",
    "\n",
    "In this chapter, we’ll work on problems related to counting, or estimating the size of a population."
   ]
  },
  {
   "cell_type": "markdown",
   "metadata": {},
   "source": [
    "A reminder of Bayes’s Theorem:\n",
    "\n",
    "$P(A|B) = \\frac{P(A)P(B|A)}{P(B)}$\n",
    "\n",
    "or\n",
    "\n",
    "$P(H|D) = \\frac{P(H)P(D|H)}{P(D)}$"
   ]
  },
  {
   "cell_type": "markdown",
   "metadata": {},
   "source": [
    "## Warning\n",
    "\n",
    "The content of this file may be incorrect, erroneous and/or harmful. Use it at Your own risk."
   ]
  },
  {
   "cell_type": "markdown",
   "metadata": {},
   "source": [
    "## Imports"
   ]
  },
  {
   "cell_type": "code",
   "execution_count": null,
   "metadata": {},
   "outputs": [],
   "source": [
    "include(\"pmf.jl\")\n",
    "import .ProbabilityMassFunction as Pmf"
   ]
  },
  {
   "cell_type": "markdown",
   "metadata": {},
   "source": [
    "## The Train Problem\n",
    "\n",
    "I found the train problem in Frederick Mosteller’s, [Fifty Challenging Problems\n",
    "in Probability with\n",
    "Solutions](https://store.doverpublications.com/0486653552.html):\n",
    "\n",
    "> “A railroad numbers its locomotives in order 1…N. One day you see a locomotive\n",
    "with the number 60. Estimate how many locomotives the railroad has.”"
   ]
  },
  {
   "cell_type": "code",
   "execution_count": null,
   "metadata": {},
   "outputs": [],
   "source": [
    "# names - max number of locomotives in the fleet\n",
    "train = Pmf.getPmfFromSeq(1:1000 |> collect)"
   ]
  },
  {
   "cell_type": "code",
   "execution_count": null,
   "metadata": {},
   "outputs": [],
   "source": [
    "\"\"\"\n",
    "    Update Pmf (names are hypothesized max counts)\n",
    "\n",
    "    data - observed counts\n",
    "\"\"\"\n",
    "function updateCounts!(pmf::Pmf.Pmf{Int}, data::Int)\n",
    "\n",
    "    # the chance of seeing any number out of postulated N (max counts)\n",
    "    # is 1/N\n",
    "    likelihood::Vector{<:Float64} = 1 ./ pmf.names\n",
    "    impossible::BitVector = data .> pmf.names\n",
    "    likelihood[impossible] .= 0\n",
    "    pmf.likelihoods .*= likelihood\n",
    "    Pmf.updatePosteriors!(pmf, true)\n",
    "    \n",
    "    return nothing\n",
    "end"
   ]
  },
  {
   "cell_type": "code",
   "execution_count": null,
   "metadata": {},
   "outputs": [],
   "source": [
    "data = 60\n",
    "updateCounts!(train, data)"
   ]
  },
  {
   "cell_type": "code",
   "execution_count": null,
   "metadata": {},
   "outputs": [],
   "source": [
    "Pmf.drawLinesPosteriors(\n",
    "    train,\n",
    "    \"Posterior distribution\\n(after observing train 60)\",\n",
    "    \"Number of trains\",\n",
    "    \"PMF\"\n",
    ")"
   ]
  },
  {
   "cell_type": "code",
   "execution_count": null,
   "metadata": {},
   "outputs": [],
   "source": [
    "Pmf.getNameMaxPosterior(train)"
   ]
  },
  {
   "cell_type": "markdown",
   "metadata": {},
   "source": [
    "That might not seem like a very good guess; after all, what are the chances that\n",
    "you just happened to see the train with the highest number? Nevertheless, if you\n",
    "want to maximize the chance of getting the answer exactly right, you should\n",
    "guess 60"
   ]
  },
  {
   "cell_type": "markdown",
   "metadata": {},
   "source": [
    "An alternative is to compute the mean of the posterior distribution. Given a\n",
    "set of possible quantities, $q_i$, and their probabilities, $p_i$, the mean of\n",
    "the distribution is:\n",
    "\n",
    "$mean = \\sum_{i=1}^{n}p_{i}q_{i}$"
   ]
  },
  {
   "cell_type": "code",
   "execution_count": null,
   "metadata": {},
   "outputs": [],
   "source": [
    "sum(train.posteriors .* train.names)"
   ]
  },
  {
   "cell_type": "code",
   "execution_count": null,
   "metadata": {},
   "outputs": [],
   "source": [
    "Pmf.getMeanPosterior(train)"
   ]
  },
  {
   "cell_type": "markdown",
   "metadata": {},
   "source": [
    "The mean of the posterior is 333, so that might be a good guess if you want to\n",
    "minimize error. If you played this guessing game over and over, using the mean\n",
    "of the posterior as your estimate would minimize the [mean squared\n",
    "error](https://allendowney.github.io/ThinkBayes2/chap05.html) over the long run."
   ]
  },
  {
   "cell_type": "markdown",
   "metadata": {},
   "source": [
    "## Sensitivity to the Prior\n",
    "\n",
    "In the previous section we started with the uniform prior from 1 to 1000.\n",
    "\n",
    "In this case (little data) the posterior will depend on prior, e.g.\n",
    "- upper bound: 500, posterior mean: 207.08\n",
    "- upper bound: 1000, posterior mean: 333.42\n",
    "- upper bound: 2000, posterior mean: 552.18"
   ]
  },
  {
   "cell_type": "code",
   "execution_count": null,
   "metadata": {},
   "outputs": [],
   "source": [
    "upLimits  = [500, 1000, 2000]\n",
    "for upLimit in upLimits\n",
    "    testTrain = Pmf.getPmfFromSeq(1:upLimit |> collect)\n",
    "    updateCounts!(testTrain, 60)\n",
    "    println(\"$upLimit: $(Pmf.getMeanPosterior(testTrain))\")\n",
    "end"
   ]
  },
  {
   "cell_type": "markdown",
   "metadata": {},
   "source": [
    "When the posterior is sensitive to the prior, there are tow ways to proceed:\n",
    "- get more data\n",
    "- get more background information and choose a better prior\n",
    "\n",
    "So, if we started with the same uniform prior and observed trains number 60, 30, and 90.\n",
    "The posterior would be:\n",
    "- upper bound: 500, posterior mean: 151.85\n",
    "- upper bound: 1000, posterior mean: 164.31\n",
    "- upper bound: 2000, posterior mean: 171.34\n",
    "\n",
    "The differences are smaller, but not enough for the posteriors to converge."
   ]
  },
  {
   "cell_type": "code",
   "execution_count": null,
   "metadata": {},
   "outputs": [],
   "source": [
    "upLimits  = [500, 1000, 2000]\n",
    "cartNums = [30, 60, 90]\n",
    "for upLimit in upLimits\n",
    "    testTrain = Pmf.getPmfFromSeq(1:upLimit |> collect)\n",
    "    foreach(x -> updateCounts!(testTrain, x), cartNums)\n",
    "    println(\"$upLimit: $(Pmf.getMeanPosterior(testTrain))\")\n",
    "end"
   ]
  },
  {
   "cell_type": "markdown",
   "metadata": {},
   "source": [
    "## Power Law Prior\n",
    "\n",
    "If more data are not available, another option is to improve the priors by\n",
    "gathering more background information.\n",
    "\n",
    "In most fields, there are many small companies, fewer medium-sized companies,\n",
    "and only one or two very large companies.\n",
    "\n",
    "In fact, the distribution of company sizes tends to follow a power law, as\n",
    "Robert Axtell reports in\n",
    "[*Science*](https://www.science.org/doi/10.1126/science.1062081).\n",
    "\n",
    "This law suggests that if there are 1000 companies with fewer than 10\n",
    "locomotives, there might be 100 companies with 100 locomotives, 10 companies\n",
    "with 1000, and possibly one company with 10,000 locomotives.\n",
    "\n",
    "Mathematically, a power law means that the number of companies with a given\n",
    "size, N, is proportional to $(1/N)^\\alpha$, where $\\alpha$ is a parameter that\n",
    "is often near 1."
   ]
  },
  {
   "cell_type": "code",
   "execution_count": null,
   "metadata": {},
   "outputs": [],
   "source": [
    "alpha = 1.0\n",
    "# a^(-n) = 1/(a^n)\n",
    "train2 = Pmf.Pmf(train.names |> copy, train.names .^ (-alpha))\n",
    "train2.priors ./= sum(train2.priors);"
   ]
  },
  {
   "cell_type": "code",
   "execution_count": null,
   "metadata": {},
   "outputs": [],
   "source": [
    "Pmf.drawLinesPriors(\n",
    "    train,\n",
    "    \"Prior distributions (uniform priors)\",\n",
    "    \"Number of trains\",\n",
    "    \"PMF\"\n",
    ")"
   ]
  },
  {
   "cell_type": "code",
   "execution_count": null,
   "metadata": {},
   "outputs": [],
   "source": [
    "Pmf.drawLinesPriors(\n",
    "    train2,\n",
    "    \"Prior distributions (power law priors)\",\n",
    "    \"Number of trains\",\n",
    "    \"PMF\"\n",
    ")"
   ]
  },
  {
   "cell_type": "code",
   "execution_count": null,
   "metadata": {},
   "outputs": [],
   "source": [
    "updateCounts!(train2, 60)"
   ]
  },
  {
   "cell_type": "code",
   "execution_count": null,
   "metadata": {},
   "outputs": [],
   "source": [
    "Pmf.drawLinesPosteriors(\n",
    "    train,\n",
    "    \"Posterior distributions (uniform priors)\",\n",
    "    \"Number of trains\",\n",
    "    \"PMF\"\n",
    ")"
   ]
  },
  {
   "cell_type": "code",
   "execution_count": null,
   "metadata": {},
   "outputs": [],
   "source": [
    "Pmf.drawLinesPosteriors(\n",
    "    train2,\n",
    "    \"Posterior distributions (power law priors)\",\n",
    "    \"Number of trains\",\n",
    "    \"PMF\"\n",
    ")"
   ]
  },
  {
   "cell_type": "code",
   "execution_count": null,
   "metadata": {},
   "outputs": [],
   "source": [
    "Pmf.getNameMaxPosterior(train2)"
   ]
  },
  {
   "cell_type": "code",
   "execution_count": null,
   "metadata": {},
   "outputs": [],
   "source": [
    "Pmf.getMeanPosterior(train2)"
   ]
  },
  {
   "cell_type": "markdown",
   "metadata": {},
   "source": [
    "The power law gives less prior probability to high values, which yields lower\n",
    "posterior means, and less sensitivity to the upper bound.\n",
    "\n",
    "Here’s how the posterior means depend on the upper bound when we use a power law\n",
    "prior and observe three trains (for dataset: [30, 60, 90]):\n",
    "- upper bound 500, posterior mean: 130.71\n",
    "- upper bound 1000, posterior mean: 133.28\n",
    "- upper bound 2000, posterior mean: 133.997\n",
    "\n",
    "So the power law prior is more realistic, because it is based on general\n",
    "information about the size of companies, and it behaves better in practice."
   ]
  },
  {
   "cell_type": "code",
   "execution_count": null,
   "metadata": {},
   "outputs": [],
   "source": [
    "upLimits  = [500, 1000, 2000]\n",
    "cartNums = [30, 60, 90]\n",
    "testTrain = 0\n",
    "for upLimit in upLimits\n",
    "    testTrain = Pmf.Pmf(1:upLimit |> collect, collect(1:upLimit) .^ (-alpha))\n",
    "    testTrain.priors ./= sum(testTrain.priors)\n",
    "    foreach(x -> updateCounts!(testTrain, x), cartNums)\n",
    "    println(\"$upLimit: $(Pmf.getMeanPosterior(testTrain))\")\n",
    "end"
   ]
  },
  {
   "cell_type": "markdown",
   "metadata": {},
   "source": [
    "## Credible Intervals\n",
    "\n",
    "The `Pmf.getNameMaxPosterior` and `Pmf.getMeanPosterior` are both point\n",
    "estimates of the quantity we are interested in.\n",
    "\n",
    "Another way to summarize distribution is with percentiles.\n",
    "\n",
    "Given `x` we can compute its **percentile rank** by finding all values <= `x`\n",
    "and adding their probabilities."
   ]
  },
  {
   "cell_type": "code",
   "execution_count": null,
   "metadata": {},
   "outputs": [],
   "source": [
    "Pmf.getPosteriorsProbLEQ(testTrain, 100)"
   ]
  },
  {
   "cell_type": "code",
   "execution_count": null,
   "metadata": {},
   "outputs": [],
   "source": [
    "\"\"\"\n",
    "    Compute a quantile with the given prob.\n",
    "\"\"\"\n",
    "function getQuantile(pmf::Pmf.Pmf{T}, prob::Float64)::Float64 where {T<:Union{Int, Float64}}\n",
    "    @assert (0 <= prob <= 1) \"prob must be in range [0-1]\"\n",
    "    totalProb::Float64 = 0\n",
    "    for (q, p) in zip(pmf.names, pmf.posteriors)\n",
    "        totalProb += p\n",
    "        if totalProb >= prob\n",
    "            return q\n",
    "        end\n",
    "    end\n",
    "    return -99.0\n",
    "end"
   ]
  },
  {
   "cell_type": "code",
   "execution_count": null,
   "metadata": {},
   "outputs": [],
   "source": [
    "getQuantile(testTrain, 0.5)"
   ]
  },
  {
   "cell_type": "markdown",
   "metadata": {},
   "source": [
    "Now we can use it to get a 90% **credible interval**."
   ]
  },
  {
   "cell_type": "code",
   "execution_count": null,
   "metadata": {},
   "outputs": [],
   "source": [
    "[getQuantile(testTrain, q) for q in [0.05, 0.95]]"
   ]
  },
  {
   "cell_type": "code",
   "execution_count": null,
   "metadata": {},
   "outputs": [],
   "source": [
    "function getCredibleInterval(pmf::Pmf.Pmf{T}, ci::Float64)::Vector{T} where {T<:Union{Int, Float64}}\n",
    "    @assert (0.5 <= ci <= 0.99) \"ci must be in range [0.5 - 0.99]\"\n",
    "    halfCI::Float64 = ci / 2\n",
    "    return [getQuantile(pmf, q) for q in [0.5 - halfCI, 0.5 + halfCI]]\n",
    "end"
   ]
  },
  {
   "cell_type": "code",
   "execution_count": null,
   "metadata": {},
   "outputs": [],
   "source": [
    "getCredibleInterval(testTrain, 0.9)"
   ]
  },
  {
   "cell_type": "markdown",
   "metadata": {},
   "source": [
    "## The German Tank Problem\n",
    "\n",
    "During World War II a similar technique to the one used by us (`updateCounts`)\n",
    "was used to estimated the production of german tanks.\n",
    "\n",
    "For more on this problem, see [this Wikipedia page](https://en.wikipedia.org/wiki/German_tank_problem) and Ruggles and Brodie,\n",
    "[available here](https://web.archive.org/web/20170123132042/https://www.cia.gov/library/readingroom/docs/CIA-RDP79R01001A001300010013-3.pdf)."
   ]
  },
  {
   "cell_type": "markdown",
   "metadata": {},
   "source": [
    "## Informative Priors\n",
    "\n",
    "Two approaches to chose priors:\n",
    "- informative, based on background knowledge (downside: the choice is arbitrary)\n",
    "- unifnformative, as unrestricted as possible (some say more objective)\n",
    "\n",
    "With enough data the posteriors should converge anyway. Unfortunately with little data they will not.\n",
    "\n",
    "The author (A.B. Downey) recomemnds to use the first approach.\n"
   ]
  }
 ],
 "metadata": {
  "kernelspec": {
   "display_name": "Julia 1.9.3",
   "language": "julia",
   "name": "julia-1.9"
  },
  "language_info": {
   "file_extension": ".jl",
   "mimetype": "application/julia",
   "name": "julia",
   "version": "1.9.3"
  }
 },
 "nbformat": 4,
 "nbformat_minor": 2
}
