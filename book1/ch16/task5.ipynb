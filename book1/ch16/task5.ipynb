{
 "cells": [
  {
   "attachments": {},
   "cell_type": "markdown",
   "id": "0afe05a3",
   "metadata": {},
   "source": [
    "# Task 5\n",
    "\n",
    "## Original exercise number\n",
    "\n",
    "Exercise 16-7\n",
    "\n",
    "## Description\n",
    "\n",
    "Julia provides time objects that are similar to the `MyTime` objects in this chapter, but they provide a rich set of function and operators. Read the documentation at https://docs.julialang.org/en/v1/stdlib/Dates/.\n",
    "\n",
    "1. Write a program that gets the current date and prints the day of the week.\n",
    "\n",
    "2. Write a program that takes a birthday as input and prints the user’s age and the number of days, hours, minutes and seconds until their next birthday.\n",
    "\n",
    "3. For two people born on different days, there is a day when one is twice as old as the other. That’s their Double Day. Write a program that takes two birthdays and computes their Double Day.\n",
    "\n",
    "4. For a little more challenge, write the more general version that computes the day when one person is n times older than the other."
   ]
  },
  {
   "cell_type": "markdown",
   "id": "c4bc3ea0",
   "metadata": {},
   "source": [
    "## Solution"
   ]
  },
  {
   "cell_type": "markdown",
   "id": "2895339f",
   "metadata": {},
   "source": [
    "NO GUARANTEE THAT THE SOLUTION WILL WORK OR WORKS CORRECTLY! USE IT AT\n",
    "YOUR OWN RISK!"
   ]
  },
  {
   "cell_type": "markdown",
   "id": "64af222d",
   "metadata": {},
   "source": [
    "### Imports"
   ]
  },
  {
   "cell_type": "code",
   "execution_count": null,
   "id": "c097406f",
   "metadata": {},
   "outputs": [],
   "source": [
    "import Dates as dts"
   ]
  },
  {
   "cell_type": "markdown",
   "id": "05df47ca",
   "metadata": {},
   "source": [
    "### Functions"
   ]
  },
  {
   "attachments": {},
   "cell_type": "markdown",
   "id": "76b90a95",
   "metadata": {},
   "source": [
    "### Functions task 5.1"
   ]
  },
  {
   "cell_type": "code",
   "execution_count": null,
   "id": "23554b88",
   "metadata": {},
   "outputs": [],
   "source": [
    "function getTodaysDate()::String\n",
    "    # to get dayname and date in 1 string use dts.RFC1123Format\n",
    "    return dts.now() |> x -> dts.format(x, dts.ISODateFormat)\n",
    "end"
   ]
  },
  {
   "cell_type": "code",
   "execution_count": null,
   "id": "d3f0fa8b",
   "metadata": {},
   "outputs": [],
   "source": [
    "function getTodaysDayName()::String\n",
    "    return dts.now() |> dts.dayname \n",
    "end"
   ]
  },
  {
   "cell_type": "markdown",
   "id": "f8866cb1",
   "metadata": {},
   "source": [
    "## Testing"
   ]
  },
  {
   "attachments": {},
   "cell_type": "markdown",
   "id": "57e5bff6",
   "metadata": {},
   "source": [
    "### Testing task 5.1"
   ]
  },
  {
   "cell_type": "code",
   "execution_count": null,
   "id": "5c98e3f9",
   "metadata": {},
   "outputs": [],
   "source": [
    "getTodaysDate()"
   ]
  },
  {
   "cell_type": "code",
   "execution_count": null,
   "id": "c469d625",
   "metadata": {},
   "outputs": [],
   "source": [
    "getTodaysDayName()"
   ]
  }
 ],
 "metadata": {
  "kernelspec": {
   "display_name": "Julia 1.8.3",
   "language": "julia",
   "name": "julia-1.8"
  },
  "language_info": {
   "file_extension": ".jl",
   "mimetype": "application/julia",
   "name": "julia",
   "version": "1.8.3"
  },
  "name": "task1.ipynb"
 },
 "nbformat": 4,
 "nbformat_minor": 5
}
