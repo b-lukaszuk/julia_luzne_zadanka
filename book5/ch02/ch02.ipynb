{
 "cells": [
  {
   "cell_type": "markdown",
   "id": "756018ac-fc3b-4f6a-9c0b-39b231d378c4",
   "metadata": {
    "collapsed": false,
    "jupyter": {
     "outputs_hidden": false
    }
   },
   "source": [
    "# Ch02. Selection sort"
   ]
  },
  {
   "cell_type": "markdown",
   "id": "054da63e",
   "metadata": {},
   "source": [
    "## Custom types"
   ]
  },
  {
   "cell_type": "code",
   "execution_count": null,
   "id": "82b8fc6d",
   "metadata": {},
   "outputs": [],
   "source": [
    "Num = Union{Int,Float64}"
   ]
  },
  {
   "cell_type": "markdown",
   "id": "94285a82",
   "metadata": {},
   "source": [
    "## Arrays and linked lists\n",
    "\n",
    "|           | arrays    | lists |\n",
    "|-----------|-----------|-------|\n",
    "|reading    | O(1)      | O(n)  |\n",
    "|insertion  | O(n)      | O(1)  |\n",
    "|deletion   | O(n)      | O(1)  |\n",
    "\n",
    "\n",
    "- O(n) = linear time\n",
    "- O(1) = constant time"
   ]
  },
  {
   "cell_type": "markdown",
   "id": "bd3e68dc",
   "metadata": {},
   "source": [
    "## Exercise 2.1\n",
    "\n",
    "What structure would you use to keep track of your spending.\n",
    "Every day you add the expenses, once a month you sum everything up?\n",
    "\n",
    "Answ: list, since there is a lot of inserts O(1) and a few readings O(n).\n",
    "\n",
    "Lists are slow especially at reading random elements, if they read elts on by one, then the performance is not that bad."
   ]
  },
  {
   "cell_type": "markdown",
   "id": "f5556530",
   "metadata": {},
   "source": [
    "## Selection sort"
   ]
  },
  {
   "cell_type": "code",
   "execution_count": null,
   "id": "08675019",
   "metadata": {},
   "outputs": [],
   "source": [
    "function getIndxOfMin(arr::Vector{<:Num})::Num\n",
    "    smallest::Num = arr[1]\n",
    "    indxOfMin::Num = 1\n",
    "    for i in eachindex(arr)\n",
    "        if arr[i] < smallest\n",
    "            smallest = arr[i]\n",
    "            indxOfMin = i\n",
    "        end\n",
    "    end\n",
    "    return indxOfMin\n",
    "end"
   ]
  },
  {
   "cell_type": "code",
   "execution_count": null,
   "id": "a5003c27",
   "metadata": {},
   "outputs": [],
   "source": [
    "\"\n",
    "sorts an array in ascending order using selection sort algorithm\n",
    "\"\n",
    "function selectionSort(arr::Vector{A})::Vector{A} where A<:Num\n",
    "    x::Vector{A} = copy(arr)\n",
    "    sortedArr::Vector{A} = []\n",
    "    indxOfMin::A = 0\n",
    "    for _ in eachindex(arr)\n",
    "        indxOfMin = getIndxOfMin(x)\n",
    "        push!(sortedArr, popat!(x, indxOfMin))\n",
    "    end\n",
    "    return sortedArr\n",
    "end"
   ]
  },
  {
   "cell_type": "code",
   "execution_count": null,
   "id": "430eddde",
   "metadata": {},
   "outputs": [],
   "source": [
    "# minimal testing\n",
    "for _ in 1:8\n",
    "    testArr = rand(1:20, 4)\n",
    "    println(\"before: $testArr, after selection sort: $(selectionSort(testArr))\")\n",
    "end"
   ]
  }
 ],
 "metadata": {
  "kernelspec": {
   "display_name": "Julia 1.10.2",
   "language": "julia",
   "name": "julia-1.10"
  },
  "language_info": {
   "file_extension": ".jl",
   "mimetype": "application/julia",
   "name": "julia",
   "version": "1.10.2"
  },
  "name": "ch02.ipynb"
 },
 "nbformat": 4,
 "nbformat_minor": 5
}
