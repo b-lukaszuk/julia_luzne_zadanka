{
 "cells": [
  {
   "attachments": {},
   "cell_type": "markdown",
   "id": "0afe05a3",
   "metadata": {},
   "source": [
    "# Task 3\n",
    "\n",
    "## Original exercise number\n",
    "\n",
    "Exercise 18-6\n",
    "\n",
    "## Description\n",
    "\n",
    "The following are the possible hands in poker, in increasing order of value and decreasing order of probability:\n",
    "\n",
    "*pair*\n",
    "\n",
    "two cards with the same rank\n",
    "\n",
    "*two pair*\n",
    "\n",
    "two pairs of cards with the same rank\n",
    "\n",
    "*three of a kind*\n",
    "\n",
    "three cards with the same rank\n",
    "\n",
    "*straight*\n",
    "\n",
    "five cards with ranks in sequence (aces can be high or low, so Ace-2-3-4-5 is a straight and so is 10-Jack-Queen-King-Ace, but Queen-King-Ace-2-3 is not.)\n",
    "\n",
    "*flush*\n",
    "\n",
    "five cards with the same suit\n",
    "\n",
    "*full house*\n",
    "\n",
    "three cards with one rank, two cards with another\n",
    "\n",
    "*four of a kind*\n",
    "\n",
    "four cards with the same rank\n",
    "\n",
    "*straight flush*\n",
    "\n",
    "five cards in sequence (as defined above) and with the same suit\n",
    "\n",
    "The goal of this exercise is to estimate the probability of drawing these various hands.\n",
    "\n",
    "1. Add methods named `haspair`, `hastwopair`, etc. that return `true` or `false` according to whether or not the hand meets the relevant criteria. Your code should work correctly for “hands” that contain any number of cards (although 5 and 7 are the most common sizes).\n"
   ]
  },
  {
   "attachments": {},
   "cell_type": "markdown",
   "id": "c4bc3ea0",
   "metadata": {},
   "source": [
    "## Solution"
   ]
  },
  {
   "attachments": {},
   "cell_type": "markdown",
   "id": "2895339f",
   "metadata": {},
   "source": [
    "NO GUARANTEE THAT THE SOLUTION WILL WORK OR WORKS CORRECTLY! USE IT AT\n",
    "YOUR OWN RISK!"
   ]
  },
  {
   "attachments": {},
   "cell_type": "markdown",
   "id": "64af222d",
   "metadata": {},
   "source": [
    "### Imports"
   ]
  },
  {
   "cell_type": "code",
   "execution_count": null,
   "id": "c3db5e4c",
   "metadata": {},
   "outputs": [],
   "source": [
    "using Random"
   ]
  },
  {
   "attachments": {},
   "cell_type": "markdown",
   "id": "13de2cd1",
   "metadata": {},
   "source": [
    "### Structs"
   ]
  },
  {
   "cell_type": "code",
   "execution_count": null,
   "id": "9e287eef",
   "metadata": {},
   "outputs": [],
   "source": [
    "struct Card\n",
    "    suit :: Int64\n",
    "    rank :: Int64\n",
    "    function Card(suit::Int64, rank::Int64)\n",
    "        @assert(1 ≤ suit ≤ 4, \"suit is not between 1 and 4\")\n",
    "        @assert(1 ≤ rank ≤ 13, \"rank is not between 1 and 13\")\n",
    "        new(suit, rank)\n",
    "    end\n",
    "end"
   ]
  },
  {
   "cell_type": "code",
   "execution_count": null,
   "id": "34098c6f",
   "metadata": {},
   "outputs": [],
   "source": [
    "abstract type CardSet end"
   ]
  },
  {
   "cell_type": "code",
   "execution_count": null,
   "id": "e1994401",
   "metadata": {},
   "outputs": [],
   "source": [
    "struct Deck <: CardSet\n",
    "    cards :: Array{Card, 1}\n",
    "end\n",
    "\n",
    "function Deck()\n",
    "    deck = Deck(Card[])\n",
    "    for suit in 1:4\n",
    "        for rank in 1:13\n",
    "            push!(deck.cards, Card(suit, rank))\n",
    "        end\n",
    "    end\n",
    "    deck\n",
    "end"
   ]
  },
  {
   "cell_type": "code",
   "execution_count": null,
   "id": "95d0f9dc",
   "metadata": {},
   "outputs": [],
   "source": [
    "struct Hand <: CardSet\n",
    "    cards :: Array{Card, 1}\n",
    "    label :: String\n",
    "end\n",
    "\n",
    "function Hand(label::String=\"\")\n",
    "    Hand(Card[], label)\n",
    "end"
   ]
  },
  {
   "attachments": {},
   "cell_type": "markdown",
   "id": "a9294fd4",
   "metadata": {},
   "source": [
    "### Global Variables"
   ]
  },
  {
   "cell_type": "code",
   "execution_count": null,
   "id": "2ea9544b",
   "metadata": {},
   "outputs": [],
   "source": [
    "const suit_names = [\"♣\", \"♦\", \"♥\", \"♠\"]\n",
    "const rank_names = [\"A\", \"2\", \"3\", \"4\", \"5\", \"6\", \"7\", \"8\", \"9\", \"10\", \"J\", \"Q\", \"K\"]"
   ]
  },
  {
   "attachments": {},
   "cell_type": "markdown",
   "id": "05df47ca",
   "metadata": {},
   "source": [
    "### Functions"
   ]
  },
  {
   "cell_type": "code",
   "execution_count": null,
   "id": "c10c6dc2",
   "metadata": {},
   "outputs": [],
   "source": [
    "function Base.show(io::IO, card::Card)\n",
    "    print(io, rank_names[card.rank], suit_names[card.suit])\n",
    "end"
   ]
  },
  {
   "cell_type": "code",
   "execution_count": null,
   "id": "dd0f00eb",
   "metadata": {},
   "outputs": [],
   "source": [
    "function Base.show(io::IO, cs::CardSet)\n",
    "    for card in cs.cards\n",
    "        print(io, card, \" \")\n",
    "    end\n",
    "end"
   ]
  },
  {
   "cell_type": "code",
   "execution_count": null,
   "id": "e26a8bde",
   "metadata": {},
   "outputs": [],
   "source": [
    "function Base.:<(c1::Card, c2::Card)\n",
    "    (c1.suit, c1.rank) < (c2.suit, c2.rank)\n",
    "end"
   ]
  },
  {
   "cell_type": "code",
   "execution_count": null,
   "id": "db3d4aae",
   "metadata": {},
   "outputs": [],
   "source": [
    "function Base.pop!(cs::CardSet)\n",
    "    pop!(cs.cards)\n",
    "end"
   ]
  },
  {
   "cell_type": "code",
   "execution_count": null,
   "id": "5397bdf9",
   "metadata": {},
   "outputs": [],
   "source": [
    "function Base.push!(cs::CardSet, card::Card)\n",
    "    push!(cs.cards, card)\n",
    "    nothing\n",
    "end"
   ]
  },
  {
   "cell_type": "code",
   "execution_count": null,
   "id": "8a7fb4de",
   "metadata": {},
   "outputs": [],
   "source": [
    "function Random.shuffle!(deck::Deck)\n",
    "    shuffle!(deck.cards)\n",
    "    deck\n",
    "end"
   ]
  },
  {
   "cell_type": "code",
   "execution_count": null,
   "id": "6fc4818c",
   "metadata": {},
   "outputs": [],
   "source": [
    "function Base.sort!(hand::Hand)\n",
    "    sort!(hand.cards)\n",
    "end"
   ]
  },
  {
   "cell_type": "code",
   "execution_count": null,
   "id": "d7507b70",
   "metadata": {},
   "outputs": [],
   "source": [
    "function move!(cs1::CardSet, cs2::CardSet, n::Int)\n",
    "    @assert 1 ≤ n ≤ length(cs1.cards)\n",
    "    for i in 1:n\n",
    "        card = pop!(cs1)\n",
    "        push!(cs2, card)\n",
    "    end\n",
    "    nothing\n",
    "end"
   ]
  },
  {
   "cell_type": "code",
   "execution_count": null,
   "id": "36e0cead",
   "metadata": {},
   "outputs": [],
   "source": [
    "function deal!(deck::Deck, noOfHands::Int, cardsPerHand::Int)::Vector{Hand}\n",
    "    @assert (noOfHands >= 1) \"number of hands needs to be >= 1\"\n",
    "    @assert (cardsPerHand >= 1) \"number of cards per hand needs to be >= 1\"\n",
    "    @assert (noOfHands * cardsPerHand <= length(deck.cards)) \"not enough cards in deck\"\n",
    "    hands::Vector{Hand} = []\n",
    "    tmp::Union{Hand, Nothing} = nothing\n",
    "    for _ in 1:noOfHands\n",
    "        tmp = Hand()\n",
    "        move!(deck, tmp, cardsPerHand)\n",
    "        push!(hands, tmp)\n",
    "    end\n",
    "    return hands\n",
    "end"
   ]
  },
  {
   "cell_type": "code",
   "execution_count": null,
   "id": "2c867088",
   "metadata": {},
   "outputs": [],
   "source": [
    "function getCounts(v::Vector{T})::Dict{T,Int} where {T}\n",
    "    result::Dict{T,Int} = Dict()\n",
    "    for elt in v\n",
    "        result[elt] = get(result, elt, 0) + 1\n",
    "    end\n",
    "    return result\n",
    "end"
   ]
  },
  {
   "attachments": {},
   "cell_type": "markdown",
   "id": "bb7828d7",
   "metadata": {},
   "source": [
    "### Functions (solution to task 3.1)"
   ]
  },
  {
   "cell_type": "code",
   "execution_count": null,
   "id": "a2404422",
   "metadata": {},
   "outputs": [],
   "source": [
    "function getCounts(v::Vector{T})::Dict{T,Int} where {T}\n",
    "    result::Dict{T,Int} = Dict()\n",
    "    for elt in v\n",
    "        result[elt] = get(result, elt, 0) + 1\n",
    "    end\n",
    "    return result\n",
    "end\n",
    "\n",
    "function getRanks(cs::CardSet)::Vector{Int}\n",
    "    return map(c -> c.rank, cs.cards)\n",
    "end\n",
    "\n",
    "function getSuits(cs::CardSet)::Vector{Int}\n",
    "    return map(c -> c.rank, cs.cards)\n",
    "end\n",
    "\n",
    "function hasNofAkind(hand::Hand, n::Int, ranks::Bool = true)::Bool\n",
    "    @assert 1 < n < 6 \"n must be between 2 and 5\"\n",
    "    theCounts::Dict{Int, Int} = getCounts(ranks ? getRanks(hand) : getSuits(hand))\n",
    "    return any(v -> v == n, values(theCounts))\n",
    "end\n",
    "\n",
    "function hasPair(hand::Hand)::Bool\n",
    "    return hasNofAkind(hand, 2)\n",
    "end\n",
    "\n",
    "function hasTwoPairs(hand::Hand)::Bool\n",
    "    rankCounts::Dict{Int, Int} = getCounts(getRanks(hand))\n",
    "    twoPairs::Dict{Int, Int} = Dict(k => v for(k, v) in rankCounts if v == 2)\n",
    "    return length(twoPairs) == 2\n",
    "end\n",
    "\n",
    "function hasThreeOfAKind(hand::Hand)::Bool\n",
    "    return hasNofAkind(hand, 3)\n",
    "end\n",
    "\n",
    "function isV1SubseqOfV2(v1::Vector{Int}, v2::Vector{Int})::Bool\n",
    "    startInd::Union{Int, Nothing} = findfirst(x -> x == v1[1], v2)\n",
    "    if isnothing(startInd)\n",
    "        return false\n",
    "    else\n",
    "        return all(map((x, y) -> x == y, v1, v2[startInd:end]))\n",
    "    end\n",
    "end\n",
    "\n",
    "# works for hand with 5 elements (TODO, extend it to more elements)\n",
    "function hasStraight(hand::Hand)::Bool\n",
    "    return isV1SubseqOfV2(sort(getRanks(hand)), vcat(1:13, [1]))\n",
    "end\n",
    "\n",
    "function hasFlush(hand::Hand)::Bool\n",
    "    return hasNofAkind(hand, 5, false)\n",
    "end\n",
    "\n",
    "function hasFullHouse(hand::Hand)::Bool\n",
    "    return hasPair(hand) && hasThreeOfAKind(hand)\n",
    "end\n",
    "\n",
    "function hasFourOfAKind(hand::Hand)::Bool\n",
    "    return hasNofAkind(hand, 4)\n",
    "end\n",
    "\n",
    "function hasStraightFlush(hand::Hand)::Bool\n",
    "    return hasFlush(hand) && hasStraight(hand)\n",
    "end\n"
   ]
  },
  {
   "attachments": {},
   "cell_type": "markdown",
   "id": "f8866cb1",
   "metadata": {},
   "source": [
    "## Testing"
   ]
  }
 ],
 "metadata": {
  "kernelspec": {
   "display_name": "Julia 1.8.3",
   "language": "julia",
   "name": "julia-1.8"
  },
  "language_info": {
   "file_extension": ".jl",
   "mimetype": "application/julia",
   "name": "julia",
   "version": "1.8.3"
  },
  "name": "task1.ipynb"
 },
 "nbformat": 4,
 "nbformat_minor": 5
}
