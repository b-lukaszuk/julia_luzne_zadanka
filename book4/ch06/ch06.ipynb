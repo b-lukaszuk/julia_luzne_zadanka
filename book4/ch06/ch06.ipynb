{
 "cells": [
  {
   "cell_type": "markdown",
   "metadata": {},
   "source": [
    "# Chapter 6. Odds and Addends\n",
    "[Link to chapter online](https://allendowney.github.io/ThinkBayes2/chap06.html)"
   ]
  },
  {
   "cell_type": "markdown",
   "metadata": {},
   "source": [
    "## Warning\n",
    "\n",
    "The content of this file may be incorrect, erroneous and/or harmful. Use it at Your own risk."
   ]
  },
  {
   "cell_type": "markdown",
   "metadata": {},
   "source": [
    "## Imports"
   ]
  },
  {
   "cell_type": "code",
   "execution_count": null,
   "metadata": {},
   "outputs": [],
   "source": [
    "import DataFrames as Dfs\n",
    "import Distributions as Dsts\n",
    "import CairoMakie as Cmk"
   ]
  },
  {
   "cell_type": "code",
   "execution_count": null,
   "metadata": {},
   "outputs": [],
   "source": [
    "include(\"./pmf.jl\")\n",
    "import .ProbabilityMassFunction as Pmf"
   ]
  },
  {
   "cell_type": "markdown",
   "metadata": {},
   "source": [
    "## Odds\n",
    "\n",
    "Odds [odds = $\\frac{P(success)}{P(failure)} = \\frac{P(success)}{1 -\n",
    "P(success)}$], are used in the form of so called **Bayes's Rule**.\n",
    "\n",
    "Bayes’s Rule is convenient if you want to do a Bayesian update on paper or in\n",
    "your head. It also sheds light on the important idea of evidence and how we can\n",
    "quantify the strength of evidence."
   ]
  },
  {
   "cell_type": "code",
   "execution_count": null,
   "metadata": {},
   "outputs": [],
   "source": [
    "function getOdds(prob::Float64)::Float64\n",
    "    @assert (0 <= prob <= 1) \"prob takes value in range [0-1]\"\n",
    "    return prob / (1 - prob)\n",
    "end"
   ]
  },
  {
   "cell_type": "code",
   "execution_count": null,
   "metadata": {},
   "outputs": [],
   "source": [
    "# if prob of winning is 75% then the odds are\n",
    "# 3 to 1\n",
    "getOdds(0.75)"
   ]
  },
  {
   "cell_type": "code",
   "execution_count": null,
   "metadata": {},
   "outputs": [],
   "source": [
    "# odds in favor (1 to 9)\n",
    "getOdds(0.1)"
   ]
  },
  {
   "cell_type": "code",
   "execution_count": null,
   "metadata": {},
   "outputs": [],
   "source": [
    "# we may prefer to report odds agains 9:1\n",
    "getOdds(1-0.1)"
   ]
  },
  {
   "cell_type": "markdown",
   "metadata": {},
   "source": [
    "We can also do the opposite transformation, below my (BL) convesion for practice\n",
    "\n",
    "$odds = \\frac{p}{1-p}$\n",
    "\n",
    "$\\frac{p}{1-p} = odds$\n",
    "\n",
    "$\\frac{p}{1-p} = odds$ # multiply both sides by (1-p)\n",
    "\n",
    "$p = odds * (1-p)$ # act on right side: multiply odds by (1-p)\n",
    "\n",
    "$p = odds - odds * p$ # move (odds*p) to the left with the opposite sign\n",
    "\n",
    "$p + (odds * p) = odds$ # rewrite left side to different equivalent form\n",
    "\n",
    "$p * (1 + odds) = odds$ # move (1+odds) to the right with the opposite sign\n",
    "\n",
    "$p = odds / (1 + odds)$\n",
    "\n",
    "Below, a Julia's function for that calculation:"
   ]
  },
  {
   "cell_type": "code",
   "execution_count": null,
   "metadata": {},
   "outputs": [],
   "source": [
    "function getProb(odds::T)::T where T<:Union{Rational, Float64}\n",
    "    return odds / (odds + 1) \n",
    "end"
   ]
  },
  {
   "cell_type": "code",
   "execution_count": null,
   "metadata": {},
   "outputs": [],
   "source": [
    "getProb(3/2),\n",
    "getProb(3//2)"
   ]
  },
  {
   "cell_type": "code",
   "execution_count": null,
   "metadata": {},
   "outputs": [],
   "source": [
    "function getProb(yes::Int, no::Int)::Float64\n",
    "    return yes / (yes + no) \n",
    "end"
   ]
  },
  {
   "cell_type": "code",
   "execution_count": null,
   "metadata": {},
   "outputs": [],
   "source": [
    "getProb(3, 2)"
   ]
  },
  {
   "cell_type": "markdown",
   "metadata": {},
   "source": [
    "[...] some computations are easier when we work with odds, [...], and some\n",
    "computations are even easier with log odds, [...]."
   ]
  },
  {
   "cell_type": "markdown",
   "metadata": {},
   "source": [
    "## Bayes's Rule\n",
    "\n",
    "So far we have worked with Bayes’s theorem in the “probability form”:\n",
    "\n",
    "$P(H|D) = \\frac{P(H)P(D|H)}{P(D)}$\n",
    "\n",
    "Writing $odds(A)$ for odds in favor of `A`, we can express Bayes’s Theorem in “odds form”:\n",
    "\n",
    "$odds(A|D) = odds(A) * \\frac{P(D|A)}{P(D|B)}$\n",
    "\n",
    "In general Bayes's Rule says that the posterior odds are prior odds times the likelihood ratio.\n"
   ]
  },
  {
   "cell_type": "markdown",
   "metadata": {},
   "source": [
    "**My comment**\n",
    "\n",
    "Not sure how this odds form came to be all of a sudden?!\n",
    "\n",
    "$P(D|B)$ suggests that probability of failure was introduced, since\n",
    "in the case of two exhaustive mutually exclusive events (success and failure we got):\n",
    "\n",
    "$P(success) + P(failure) = 1$ or $P(A) + P(B) = 1$\n",
    "\n",
    "therefore\n",
    "\n",
    "$P(success) = 1 - P(failure)$ or $P(A) = 1 - P(B)$\n",
    "\n",
    "So if:\n",
    "\n",
    "$odds(A) = \\frac{P(A)}{1 - P(A)} = \\frac{P(A)}{P(B)}$, then\n",
    "\n",
    "$odds(A|D) = \\frac{P(A|D)}{1 - P(A|D)} = \\frac{P(A|D)}{P(B|D)}$\n",
    "\n",
    "Moreover, at the onset the Bayes's theorem had to be written in the $P(A|D)$ and not $P(H|D)$ form.\n",
    "\n",
    "So:\n",
    "\n",
    "$P(A|D) = \\frac{P(A)P(D|A)}{P(D)}$, instead of\n",
    "\n",
    "$P(H|D) = \\frac{P(H)P(D|H)}{P(D)}$\n",
    "\n",
    "Given the above and based on the definition of `getProb(odds)` above we see that:\n",
    "\n",
    "$P(A) = \\frac{odds(A)}{1 - odds{A}} = \\frac{odds(A)}{odds{B}}$, therefore we can rewrite\n",
    "\n",
    "$P(A|D) = \\frac{P(A)P(D|A)}{P(D)}$ as\n",
    "\n",
    "$\\frac{odds(A|D)}{odds(B|D)} = \\frac{P(A)P(D|A)}{P(D)}$, so i we multiply both sides by $odds(B|D)$ we get\n",
    "\n",
    "$odds(A|D) = odds(B|D) * \\frac{P(A)P(D|A)}{P(D)}$, but I am not sure what happens next."
   ]
  },
  {
   "cell_type": "markdown",
   "metadata": {},
   "source": [
    "Anyway, let's get back to the cookie problem:\n",
    "\n",
    "> Suppose there are two bowls of cookies. Bowl 1 contains 30 vanilla cookies and\n",
    "> 10 chocolate cookies. Bowl 2 contains 20 of each. Now suppose you choose one of\n",
    "> the bowls at random and, without looking, select a cookie at random. The cookie\n",
    "> is vanilla. What is the probability that it came from Bowl 1?\n",
    "\n",
    "Let's use the **Bayes's Rule**:\n",
    "\n",
    "$odds(A|D) = odds(A) * \\frac{P(D|A)}{P(D|B)}$"
   ]
  },
  {
   "cell_type": "code",
   "execution_count": null,
   "metadata": {},
   "outputs": [],
   "source": [
    "# odds(A) = odds(bowl1) = p(bowl1)/p(bowl2)\n",
    "cookiePriorOdds = 1 # 0.5/0.5\n",
    "# p(D|A) = p(vanilla|bowl1) = 30/40 = 3/4 = 0.75\n",
    "# p(D|B) = p(vanilla|bowl2) = 20/40 = 2/4 = 0.5\n",
    "# likelihood ratio = p(D|A)/p(D|B)\n",
    "cookieLikelihoodRatio = 0.75 / 0.5\n",
    "cookiePostOdds = cookiePriorOdds * cookieLikelihoodRatio"
   ]
  },
  {
   "cell_type": "code",
   "execution_count": null,
   "metadata": {},
   "outputs": [],
   "source": [
    "cookiePostProb = getProb(cookiePostOdds)"
   ]
  },
  {
   "cell_type": "markdown",
   "metadata": {},
   "source": [
    "If we draw another cookie and it's chocolate, we can do another update:"
   ]
  },
  {
   "cell_type": "code",
   "execution_count": null,
   "metadata": {},
   "outputs": [],
   "source": [
    "cookieLikelihoodRatio = (10/40) / (20/40)\n",
    "cookiePostOdds *= cookieLikelihoodRatio"
   ]
  },
  {
   "cell_type": "code",
   "execution_count": null,
   "metadata": {},
   "outputs": [],
   "source": [
    "cookiePostProb = getProb(cookiePostOdds)"
   ]
  },
  {
   "cell_type": "markdown",
   "metadata": {},
   "source": [
    "## Oliver's Blood\n",
    "\n",
    "Problem from MacKay's [Information Theory, Inference, and Learning\n",
    "Algorithms:](https://www.inference.org.uk/mackay/itila/)\n",
    "\n",
    "> Two people have left traces of their own blood at the scene of a crime. A\n",
    "> suspect, Oliver, is tested and found to have type ‘O’ blood. The blood groups of\n",
    "> the two traces are found to be of type ‘O’ (a common type in the local\n",
    "> population, having frequency 60%) and of type ‘AB’ (a rare type, with frequency\n",
    "> 1%). Do these data [the traces found at the scene] give evidence in favor of the\n",
    "> proposition that Oliver was one of the people [who left blood at the scene]?\n",
    "\n",
    "What it means evidence in favor of hypothesis. The Bayes's rule says:\n",
    "\n",
    "$odds(A|D) = odds(A) * \\frac{P(D|A)}{P(D|B)}$\n",
    "\n",
    "dividing throuigh by $odds(A)$, we get:\n",
    "\n",
    "$\\frac{odds(A|D)}{odds(A)} = \\frac{P(D|A)}{P(D|B)}$\n",
    "\n",
    "The term on the left is the ratio of the posterior and prior odds. The term on\n",
    "the right is the likelihood ratio, also called the **Bayes factor**.\n",
    "\n",
    "If the Bayes factor is greater than 1, that means that the data were more likely\n",
    "under `A` than under `B`. And that means that the odds are greater, in light of\n",
    "the data, than they were before.\n",
    "\n",
    "If the Bayes factor is less than 1, that means the data were less likely under \n",
    "`A` than under `B`, so the odds in favor of `A` go down.\n",
    "\n",
    "Finally, if the Bayes factor is exactly 1, the data are equally likely under\n",
    "either hypothesis, so the odds do not change.\n",
    "\n",
    "If Oliver is one of the people who left blood at the crime scene, he accounts\n",
    "for the ‘O’ sample; in that case, the probability of the data is the\n",
    "probability that a random member of the population has type ‘AB’ blood, which\n",
    "is 1%.\n",
    "\n",
    "If Oliver did not leave blood at the scene, we have two samples to account for.\n",
    "If we choose two random people from the population, what is the chance of\n",
    "finding one with type ‘O’ and one with type ‘AB’? Well, there are two ways it\n",
    "might happen:\n",
    "- 0 and AB (prob 0.6 * 0.01 = 0.006)\n",
    "- AB and 0 (prob 0.01 * 0.6 = 0.006)\n",
    "\n",
    "So, prob = 0.012 in total"
   ]
  },
  {
   "cell_type": "code",
   "execution_count": null,
   "metadata": {},
   "outputs": [],
   "source": [
    "# p(D|A) = p(gr0 is Oliver and other guy acccounts for AB)\n",
    "like1 = 0.01\n",
    "# p(D|B) = p(gr0 and grAB are left by someone else)\n",
    "like2 = 0.6*0.01*2\n",
    "likelihoodRatio = like1/like2"
   ]
  },
  {
   "cell_type": "markdown",
   "metadata": {},
   "source": [
    "So little evidence against the hypothesis"
   ]
  },
  {
   "cell_type": "code",
   "execution_count": null,
   "metadata": {},
   "outputs": [],
   "source": [
    "getProb(likelihoodRatio) # prob oliver is guilty"
   ]
  },
  {
   "cell_type": "markdown",
   "metadata": {},
   "source": [
    "If this result still bothers you, this way of thinking might help: the data\n",
    "consist of a common event, type ‘O’ blood, and a rare event, type ‘AB’ blood. If\n",
    "Oliver accounts for the common event, that leaves the rare event unexplained. If\n",
    "Oliver doesn’t account for the ‘O’ blood, we have two chances to find someone in\n",
    "the population with ‘AB’ blood. And that factor of two makes the difference."
   ]
  },
  {
   "cell_type": "markdown",
   "metadata": {},
   "source": [
    "### Exercise 0.1\n",
    "\n",
    "Suppose that based on other evidence, you prior belief in Oliver’s guilt is 90%.\n",
    "How much would the blood evidence in this section change your beliefs? What if\n",
    "you initially thought there was only a 10% chance of his guilt?\n",
    "\n"
   ]
  },
  {
   "cell_type": "markdown",
   "metadata": {},
   "source": [
    "Bayes's Rule.\n",
    "\n",
    "$odds(A|D) = odds(A) \\frac{P(D|A)}{P(D|B)}$\n",
    "\n",
    "So, previously prior odds [odds(A) were 1, we assumed it equally likely that\n",
    "Oliver accounted for the blood sample O (p = 0.5) as that he did not (p = 0.5)].\n",
    "And now the probablity is 0.9 (90%), so the prior odds [odds(A)] are\n",
    "0.9/0.1 = 9"
   ]
  },
  {
   "cell_type": "code",
   "execution_count": null,
   "metadata": {},
   "outputs": [],
   "source": [
    "# prior probability of Oliver's guild 90% = 0.9\n",
    "postOdds = getOdds(0.9) * like1/like2"
   ]
  },
  {
   "cell_type": "code",
   "execution_count": null,
   "metadata": {},
   "outputs": [],
   "source": [
    "# prior probability of Oliver's guild 90% = 0.9\n",
    "getProb(postOdds)"
   ]
  },
  {
   "cell_type": "markdown",
   "metadata": {},
   "source": [
    "Bayes's Rule.\n",
    "\n",
    "$odds(A|D) = odds(A) \\frac{P(D|A)}{P(D|B)}$\n",
    "\n",
    "So, previously prior odds [odds(A) were 1, we assumed it equally likely that\n",
    "Oliver accounted for the blood sample O (p = 0.5) as that he did not (p = 0.5)].\n",
    "And now the probablity is 0.1 (10%), so the prior odds [odds(A)] are\n",
    "0.1/0.9 = 1/9 = 0.11(1)"
   ]
  },
  {
   "cell_type": "code",
   "execution_count": null,
   "metadata": {},
   "outputs": [],
   "source": [
    "# prior probability of Oliver's guild 10% = 0.1\n",
    "postOdds = getOdds(0.1) * like1/like2"
   ]
  },
  {
   "cell_type": "code",
   "execution_count": null,
   "metadata": {},
   "outputs": [],
   "source": [
    "# prior probability of Oliver's guild 10% = 0.1\n",
    "getProb(postOdds)"
   ]
  },
  {
   "cell_type": "markdown",
   "metadata": {},
   "source": [
    "## Addends\n",
    "\n",
    "The second half of this chapter is about distributions of sums and results of\n",
    "other operations.\n",
    "\n",
    "Let's start with simple 6-sided dice."
   ]
  },
  {
   "cell_type": "code",
   "execution_count": null,
   "metadata": {},
   "outputs": [],
   "source": [
    "# creates a Pmf with names - number of dots on a dice\n",
    "# priors - probability of obtaining the number of dots on a dice\n",
    "function makeDice(nSides::Int = 6)::Pmf.Pmf{Int}\n",
    "    return Pmf.getPmfFromSeq(1:nSides |> collect)\n",
    "end"
   ]
  },
  {
   "cell_type": "code",
   "execution_count": null,
   "metadata": {},
   "outputs": [],
   "source": [
    "dice = makeDice(6)"
   ]
  },
  {
   "cell_type": "code",
   "execution_count": null,
   "metadata": {},
   "outputs": [],
   "source": [
    "fig = Cmk.Figure()\n",
    "Cmk.barplot(fig[1, 1], dice.names, dice.priors, color = \"lightblue\",\n",
    "    axis=(;title=\"Prior distribution of dots after a dice throw\",\n",
    "    xlabel=\"Outcome (number of dots)\",\n",
    "    ylabel=\"PMF\",\n",
    "    xticks=1:6)\n",
    ")\n",
    "fig"
   ]
  },
  {
   "cell_type": "code",
   "execution_count": null,
   "metadata": {},
   "outputs": [],
   "source": [
    "function sumProbsByNames(names::Vector{Int}, probs::Vector{Float64})::Dict{Int,Float64}\n",
    "    @assert length(names) == length(probs)\n",
    "    res::Dict{Int,Float64} = Dict()\n",
    "    for i in eachindex(names)\n",
    "        res[names[i]] = get(res, names[i], 0) + probs[i]\n",
    "    end\n",
    "    return res\n",
    "end"
   ]
  },
  {
   "cell_type": "code",
   "execution_count": null,
   "metadata": {},
   "outputs": [],
   "source": [
    "\"\"\"\n",
    "Inspired by a similar function found in empiricaldist by Allen Downey\n",
    "    applies a fn to cartesianProduct(pmf1.names, pmf2.names)\n",
    "    applies * to cartesianProduct(pmf1.prior, pmf2.priors), so P(A) and P(B)\n",
    "\n",
    "args:\n",
    "fn - function accepting two Int64s as input and returning Int64 as output\n",
    "\"\"\"\n",
    "function convolveDist(pmf1::Pmf.Pmf{Int}, pmf2::Pmf.Pmf{Int}, fn::Function)::Pmf.Pmf{Int}\n",
    "    # Iterators.product(vec1, vec2) gives cartesian product of two vects [(v1.0, v2.0), (v1.0, v2.1), etc.]\n",
    "    newNames::Vector{Int} = [[fn(a, b) for (a, b) in Iterators.product(pmf1.names, pmf2.names)]...]\n",
    "    newPriors::Vector{Float64} = [[a * b for (a, b) in Iterators.product(pmf1.priors, pmf2.priors)]...] \n",
    "    probs::Dict{Int, Float64} = sumProbsByNames(newNames, newPriors)\n",
    "    orderedKeys::Vector{Int64} = sort(collect(keys(probs)))\n",
    "    orderedVals::Vector{Float64} = [probs[k] for k in orderedKeys]\n",
    "    return Pmf.Pmf(orderedKeys, orderedVals ./ sum(orderedVals))\n",
    "end"
   ]
  },
  {
   "cell_type": "code",
   "execution_count": null,
   "metadata": {},
   "outputs": [],
   "source": [
    "function addDist(pmf1::Pmf.Pmf{Int}, x::Int)::Pmf.Pmf{Int}\n",
    "    return Pmf.Pmf(pmf1.names .+ x, pmf1.priors)\n",
    "end"
   ]
  },
  {
   "cell_type": "code",
   "execution_count": null,
   "metadata": {},
   "outputs": [],
   "source": [
    "function addDist(pmf1::Pmf.Pmf{Int}, pmf2::Pmf.Pmf{Int})::Pmf.Pmf{Int}\n",
    "    return convolveDist(pmf1, pmf2, +)\n",
    "end"
   ]
  },
  {
   "cell_type": "code",
   "execution_count": null,
   "metadata": {},
   "outputs": [],
   "source": [
    "twice = addDist(dice, dice)"
   ]
  },
  {
   "cell_type": "code",
   "execution_count": null,
   "metadata": {},
   "outputs": [],
   "source": [
    "fig = Cmk.Figure()\n",
    "Cmk.barplot(fig[1, 1], twice.names, twice.priors, color = \"wheat\",\n",
    "    axis=(;title=\"Prior distribution of sum of dots after a two dice throw\",\n",
    "    xlabel=\"Outcome (sum of dots)\",\n",
    "    ylabel=\"PMF\",\n",
    "    xticks=1:12)\n",
    ")\n",
    "fig"
   ]
  },
  {
   "cell_type": "code",
   "execution_count": null,
   "metadata": {},
   "outputs": [],
   "source": [
    "\"\"\"\n",
    "Add all pmfs in a sequence \n",
    "\"\"\"\n",
    "function addDistSeq(seq::Vector{Pmf.Pmf{Int}})::Pmf.Pmf{Int}\n",
    "    return reduce(addDist, seq) \n",
    "end"
   ]
  },
  {
   "cell_type": "code",
   "execution_count": null,
   "metadata": {},
   "outputs": [],
   "source": [
    "thrice = addDistSeq(repeat([dice], 3))"
   ]
  },
  {
   "cell_type": "code",
   "execution_count": null,
   "metadata": {},
   "outputs": [],
   "source": [
    "fig = Cmk.Figure()\n",
    "ax1, l1 = Cmk.lines(fig[1, 1], dice.names, dice.priors,\n",
    "    color=\"blue\", linestyle=:solid, linewidth=2,\n",
    "    axis=(; title=\"Distribution of sums\",\n",
    "    xlabel=\"Outcome (sum of dots)\",\n",
    "    ylabel=\"PMF\",\n",
    "    xticks=1:18)\n",
    ")\n",
    "l2 = Cmk.lines!(fig[1, 1], twice.names, twice.priors,\n",
    "    color = \"orange\", linestyle=:dash, linewidth=2)\n",
    "l3 = Cmk.lines!(fig[1, 1], thrice.names, thrice.priors,\n",
    "    color=\"green\", linestyle=:dot, linewidth=2)\n",
    "Cmk.axislegend(ax1,\n",
    "    [l1, l2, l3],\n",
    "    [\"one dice\", \"two dice\", \"three dice\"],\n",
    "    \"# dice used\"\n",
    ")\n",
    "fig"
   ]
  },
  {
   "cell_type": "markdown",
   "metadata": {},
   "source": [
    "## Gluten Sensitivity\n",
    "\n",
    "A [paper](https://onlinelibrary.wiley.com/doi/full/10.1111/apt.13372) on gluten\n",
    "sensitivity.\n",
    "\n",
    "Out of 35 subjects, 12 correctly identified the gluten flour based on resumption\n",
    "of symptoms while they were eating it.  Another 17 wrongly identified the\n",
    "gluten-free flour based on their symptoms, and 6 were unable to distinguish.\n",
    "\n",
    "So here’s the question: based on this data, how many of the subjects are\n",
    "sensitive to gluten and how many are guessing?\n",
    "\n",
    "Solution using Bayes’s Theorem. Assumptions:\n",
    "- People who are sensitive to gluten have a 95% chance of correctly identifying\n",
    "gluten flour under the challenge conditions, and\n",
    "- People who are not sensitive have a 40% chance of identifying the gluten flour\n",
    "by chance (and a 60% chance of either choosing the other flour or failing to\n",
    "distinguish).\n",
    "\n",
    "These values are arbitrary, but reasonable.\n",
    "\n",
    "First, assume that we know how many subjects are sensitive.\n",
    "Second, using the likelihood of the data, compute the posterior distribution of\n",
    "the number of sensitive patients.\n",
    "\n",
    "The first is the **forward problem**; the second is the **inverse problem**."
   ]
  },
  {
   "cell_type": "markdown",
   "metadata": {},
   "source": [
    "### The Forward Problem\n",
    "\n",
    "Suppose we know that 10 of the 35 subjects are sensitive to gluten."
   ]
  },
  {
   "cell_type": "code",
   "execution_count": null,
   "metadata": {},
   "outputs": [],
   "source": [
    "n = 35\n",
    "nSensitive = 10\n",
    "nInsenstive = n - nSensitive"
   ]
  },
  {
   "cell_type": "code",
   "execution_count": null,
   "metadata": {},
   "outputs": [],
   "source": [
    "dstSensitive = Pmf.getBinomialPmf(nSensitive, 0.95)\n",
    "dstInsensitive = Pmf.getBinomialPmf(nInsenstive, 0.4)"
   ]
  },
  {
   "cell_type": "code",
   "execution_count": null,
   "metadata": {},
   "outputs": [],
   "source": [
    "dstTotal = addDist(dstSensitive, dstInsensitive)"
   ]
  },
  {
   "cell_type": "code",
   "execution_count": null,
   "metadata": {},
   "outputs": [],
   "source": [
    "fig = Cmk.Figure()\n",
    "ax1, l1 = Cmk.lines(fig[1, 1],\n",
    "    dstSensitive.names, dstSensitive.priors,\n",
    "    color=\"blue\", linestyle=:dot, linewidth=2,\n",
    "    axis=(;title=\"Gluten sensitivity\",\n",
    "        xlabel=\"Number of correct identifications\",\n",
    "        ylabel=\"PMF\",\n",
    "        xticks=0:5:35)\n",
    ")\n",
    "l2 = Cmk.lines!(fig[1, 1],\n",
    "    dstInsensitive.names, dstInsensitive.priors,\n",
    "    color=\"orange\", linestyle=:dash, linewidth=2,\n",
    ")\n",
    "l3 = Cmk.lines!(fig[1, 1],\n",
    "    dstTotal.names, dstTotal.priors,\n",
    "    color=\"green\", linestyle=:solid, linewidth=2,\n",
    ")\n",
    "Cmk.axislegend(ax1,\n",
    "    [l1, l2, l3],\n",
    "    [\"sensitive\", \"insensitive\", \"total\"],\n",
    "    \"distribution\"\n",
    ")\n",
    "fig"
   ]
  },
  {
   "cell_type": "markdown",
   "metadata": {},
   "source": [
    "We expect most of the sensitive subjects to identify the gluten flour correctly.\n",
    "Of the 25 insensitive subjects, we expect about 10 to identify the gluten flour\n",
    "by chance. So we expect about 20 correct identifications in total.\n",
    "\n",
    "This is the answer to the forward problem: given the number of sensitive\n",
    "subjects, we can compute the distribution of the data."
   ]
  },
  {
   "cell_type": "markdown",
   "metadata": {},
   "source": [
    "### The Inverse Problem\n",
    "\n",
    "Now let’s solve the inverse problem: given the data, we’ll compute the posterior\n",
    "distribution of the number of sensitive subjects."
   ]
  },
  {
   "cell_type": "code",
   "execution_count": null,
   "metadata": {},
   "outputs": [],
   "source": [
    "tableSensitives = Dict{Int, Pmf.Pmf}()\n",
    "\n",
    "for nSensitive in 0:n\n",
    "    nInsensitive = n - nSensitive\n",
    "    dstSensitive = Pmf.getBinomialPmf(nSensitive, 0.95)\n",
    "    dstInsensitive = Pmf.getBinomialPmf(nInsenstive, 0.4)\n",
    "    dstTotal = addDist(dstSensitive, dstInsensitive)\n",
    "    tableSensitives[nSensitive] = dstTotal\n",
    "end;"
   ]
  },
  {
   "cell_type": "code",
   "execution_count": null,
   "metadata": {},
   "outputs": [],
   "source": [
    "fig = Cmk.Figure()\n",
    "ax1, l1 = Cmk.lines(fig[1, 1],\n",
    "    tableSensitives[0].names, tableSensitives[0].priors,\n",
    "    color=\"blue\", linestyle=:solid, linewidth=2,\n",
    "    axis=(;title=\"Gluten sensitivity\",\n",
    "        xlabel=\"Number of correct identifications\",\n",
    "        ylabel=\"PMF\",\n",
    "        xticks=0:5:35)\n",
    ")\n",
    "Cmk.ylims!(ax1, 0, 0.25)\n",
    "l2 = Cmk.lines!(fig[1, 1],\n",
    "    tableSensitives[10].names, tableSensitives[10].priors,\n",
    "    color=\"orange\", linestyle=:solid, linewidth=2,\n",
    ")\n",
    "l3 = Cmk.lines!(fig[1, 1],\n",
    "    tableSensitives[20].names, tableSensitives[20].priors,\n",
    "    color=\"green\", linestyle=:dash, linewidth=2,\n",
    ")\n",
    "l4 = Cmk.lines!(fig[1, 1],\n",
    "    tableSensitives[30].names, tableSensitives[30].priors,\n",
    "    color=\"red\", linestyle=:dot, linewidth=2,\n",
    ")\n",
    "Cmk.axislegend(ax1,\n",
    "    [l1, l2, l3, l4],\n",
    "    [\"0/35\", \"10/35\", \"20/35\", \"30/35\"],\n",
    "    \"num sensitive / total participants\"\n",
    ")\n",
    "fig"
   ]
  },
  {
   "cell_type": "code",
   "execution_count": null,
   "metadata": {},
   "outputs": [],
   "source": [
    "# in task we got 12 positive identifications (out of 0:35)\n",
    "glutenLikelihood12 = [Pmf.getPriorByName(tableSensitives[i], 12) for i in 0:35];"
   ]
  },
  {
   "cell_type": "code",
   "execution_count": null,
   "metadata": {},
   "outputs": [],
   "source": [
    "gluten12 = Pmf.getPmfFromSeq(0:35 |> collect);\n",
    "gluten12.likelihoods = gluten12.priors .* glutenLikelihood12;\n",
    "Pmf.updatePosteriors!(gluten12, true);"
   ]
  },
  {
   "cell_type": "code",
   "execution_count": null,
   "metadata": {},
   "outputs": [],
   "source": [
    "# for comparison, 20 correct identifications\n",
    "glutenLikelihood20 = [Pmf.getPriorByName(tableSensitives[i], 20) for i in 0:35];"
   ]
  },
  {
   "cell_type": "code",
   "execution_count": null,
   "metadata": {},
   "outputs": [],
   "source": [
    "gluten20 = Pmf.getPmfFromSeq(0:35 |> collect);\n",
    "gluten20.likelihoods = gluten20.priors .* glutenLikelihood20;\n",
    "Pmf.updatePosteriors!(gluten20, true);"
   ]
  },
  {
   "cell_type": "code",
   "execution_count": null,
   "metadata": {},
   "outputs": [],
   "source": [
    "fig = Cmk.Figure()\n",
    "ax1, l1 = Cmk.lines(fig[1, 1],\n",
    "    gluten12.names, gluten12.posteriors,\n",
    "    color=\"purple\", linestyle=:solid, linewidth=2,\n",
    "    axis=(;title=\"Gluten sensitivity (posterior distributions)\",\n",
    "        xlabel=\"Number of sensitive subjects\",\n",
    "        ylabel=\"PMF\",\n",
    "        xticks=0:5:35)\n",
    ")\n",
    "Cmk.ylims!(ax1, 0, 0.25)\n",
    "l2 = Cmk.lines!(fig[1, 1],\n",
    "    gluten20.names, gluten20.posteriors,\n",
    "    color=\"orange\", linestyle=:solid, linewidth=2,\n",
    ")\n",
    "Cmk.axislegend(ax1,\n",
    "    [l1, l2],\n",
    "    [\"# 12\", \"# 20\"],\n",
    "    \"correct identifications\"\n",
    ")\n",
    "fig"
   ]
  },
  {
   "cell_type": "code",
   "execution_count": null,
   "metadata": {},
   "outputs": [],
   "source": [
    "Pmf.getNameMaxPosterior(gluten12)"
   ]
  },
  {
   "cell_type": "code",
   "execution_count": null,
   "metadata": {},
   "outputs": [],
   "source": [
    "Pmf.getNameMaxPosterior(gluten20)"
   ]
  },
  {
   "cell_type": "markdown",
   "metadata": {},
   "source": [
    "## Summary\n",
    "\n",
    "Bayes's Rule is a way to quantify the strength of evidence using a likelihood\n",
    "ratio or Bayes factor.\n",
    "\n",
    "$odds(A|D) = odds(A) * \\frac{P(D|A)}{P(D|B)}$\n",
    "\n",
    "The function `add_dist`, computes the distribution of a sum of two\n",
    "distributions.\n",
    "\n",
    "We use it for forward problems:\n",
    "- given the parameters of a system, we can compute the distribution of the data\n",
    "\n",
    "We use it for inverse problems:\n",
    "- given the data, we can compute the distribution of the parameters"
   ]
  },
  {
   "cell_type": "markdown",
   "metadata": {},
   "source": [
    "## Exercises"
   ]
  },
  {
   "cell_type": "markdown",
   "metadata": {},
   "source": [
    "### Exercise 1\n",
    "\n",
    "Use Bayes's Rule to solve the Elvis problem from Ch03 (Distributions)\n",
    "\n",
    "Elvis Presley had a twin brother who died at birth. What is the probability that\n",
    "Elvis was an identical twin?\n",
    "\n",
    "In 1935, about 2/3 of twins were fraternal and 1/3 were identical. The question\n",
    "contains two pieces of information we can use to update this prior."
   ]
  },
  {
   "cell_type": "code",
   "execution_count": null,
   "metadata": {},
   "outputs": [],
   "source": [
    "# odds(A|D) - identical twin given twin brother\n",
    "# odds(A) - identical twin\n",
    "ex1OddsA = getOdds(1/3)\n",
    "# p(D|A) - twin brother given identical twin\n",
    "ex1PDgivenA = 1\n",
    "# p(D|B) - twin brother given fraternal twin\n",
    "ex1PDgivenB = 1/2"
   ]
  },
  {
   "cell_type": "code",
   "execution_count": null,
   "metadata": {},
   "outputs": [],
   "source": [
    "# odds(A|D) = odds(A) * (P(D|A)/P(D|B))\n",
    "oddsAgivenD = ex1OddsA * (ex1PDgivenA / ex1PDgivenB)"
   ]
  },
  {
   "cell_type": "code",
   "execution_count": null,
   "metadata": {},
   "outputs": [],
   "source": [
    "getProb(oddsAgivenD) # 0.49999... = ~0.5 like in the solution to ch03/ex4\n",
    "# not sure why the solution from Allen Downey for this exercise differs (p = 0.555...)"
   ]
  },
  {
   "cell_type": "markdown",
   "metadata": {},
   "source": [
    "### Exercise 2\n",
    "\n",
    "The following is an interview question that appeared on\n",
    "[glassdoor.com](https://www.glassdoor.com/Interview/You-re-about-to-get-on-a-plane-to-Seattle-You-want-to-know-if-you-should-bring-an-umbrella-You-call-3-random-friends-of-y-QTN_519262.htm),\n",
    "attributed to Facebook:\n",
    "\n",
    "> You’re about to get on a plane to Seattle. You want to know if you should\n",
    "> bring an umbrella. You call 3 random friends of yours who live there and ask\n",
    "> each independently if it’s raining. Each of your friends has a 2/3 chance of\n",
    "> telling you the truth and a 1/3 chance of messing with you by lying. All 3\n",
    "> friends tell you that “Yes” it is raining. What is the probability that it’s\n",
    "> actually raining in Seattle?\n",
    "\n",
    "Use Bayes’s Rule to solve this problem. As a prior you can assume that it rains\n",
    "in Seattle about 10% of the time."
   ]
  },
  {
   "cell_type": "markdown",
   "metadata": {},
   "source": [
    "I (BL) will assume that the '2/3 chance' and '1/3 chance' in the description above actually means probability."
   ]
  },
  {
   "cell_type": "code",
   "execution_count": null,
   "metadata": {},
   "outputs": [],
   "source": [
    "# odds(A|D) = odds(A) * (P(D|A)/P(D|B))\n",
    "\n",
    "# odds(A|D) - raining given three Yes\n",
    "\n",
    "# oddds(A) - raining\n",
    "ex2OddsA = getOdds(0.1)\n",
    "\n",
    "# P(D|A) - three yes, given it is raining\n",
    "ex2PDgivenA = (2/3)^3 # 2//3 * 2//3 * 2//3 (and in probs is *)\n",
    "\n",
    "# P(D|B) - three yes, given it is not raining\n",
    "ex2PDgivenB = (1/3)^3 # 1//3 * 1//3 * 1//3 (and in probs is *)\n",
    "\n",
    "ex2OddsAGivenD = ex2OddsA * (ex2PDgivenA / ex2PDgivenB)"
   ]
  },
  {
   "cell_type": "code",
   "execution_count": null,
   "metadata": {},
   "outputs": [],
   "source": [
    "getProb(ex2OddsAGivenD)"
   ]
  },
  {
   "cell_type": "markdown",
   "metadata": {},
   "source": [
    "### Exercise 3\n",
    "\n",
    "According to the\n",
    "[CDC](https://www.cdc.gov/tobacco/data_statistics/fact_sheets/health_effects/effects_cig_smoking/),\n",
    "people who smoke are about 25 times more likely to develop lung cancer than\n",
    "nonsmokers.\n",
    "\n",
    "Also according to the\n",
    "[CDC](https://www.cdc.gov/tobacco/data_statistics/fact_sheets/adult_data/cig_smoking/index.htm),\n",
    "about 14% of adults in the U.S. are smokers. If you learn that someone has lung\n",
    "cancer, what is the probability they are a smoker?"
   ]
  },
  {
   "cell_type": "markdown",
   "metadata": {},
   "source": [
    "I (BL) will assume that this someone is from the U.S."
   ]
  },
  {
   "cell_type": "code",
   "execution_count": null,
   "metadata": {},
   "outputs": [],
   "source": [
    "# odds(A|D) = odds(A) * (P(D|A)/P(D|B))\n",
    "\n",
    "# odds(A|D) - smoker given lung cancer present\n",
    "\n",
    "# odds(A) - smoker\n",
    "ex3OddsA = getOdds(0.14)\n",
    "\n",
    "# P(D|A) - lung cancer given smoker\n",
    "# P(D|B) - lung cancer given non-smoker\n",
    "# likelihood - P(D|A)/P(D|B)\n",
    "ex3PDgivenAbyB = 25\n",
    "\n",
    "ex3OddsAGivenD = ex3OddsA * ex3PDgivenAbyB"
   ]
  },
  {
   "cell_type": "code",
   "execution_count": null,
   "metadata": {},
   "outputs": [],
   "source": [
    "getProb(ex3OddsAGivenD)"
   ]
  },
  {
   "cell_type": "markdown",
   "metadata": {},
   "source": [
    "### Exercise 4\n",
    "\n",
    "In Dungeons & Dragons, the amount of damage a goblin can withstand is the sum of\n",
    "two six-sided dice. The amount of damage you inflict with a short sword is\n",
    "determined by rolling one six-sided die. A goblin is defeated if the total\n",
    "damage you inflict is greater than or equal to the amount it can withstand.\n",
    "\n",
    "Suppose you are fighting a goblin and you have already inflicted 3 points of\n",
    "damage. What is your probability of defeating the goblin with your next\n",
    "successful attack?\n",
    "\n",
    "Hint: You can use `Pmf.sub_dist` to subtract a constant amount, like 3, from a\n",
    "`Pmf`."
   ]
  },
  {
   "cell_type": "code",
   "execution_count": null,
   "metadata": {},
   "outputs": [],
   "source": [
    "function subtractDist(pmf1::Pmf.Pmf{Int}, x::Int)::Pmf.Pmf{Int}\n",
    "    return Pmf.Pmf(pmf1.names .- x, pmf1.priors)\n",
    "end"
   ]
  },
  {
   "cell_type": "code",
   "execution_count": null,
   "metadata": {},
   "outputs": [],
   "source": [
    "function subtractDist(pmf1::Pmf.Pmf{Int}, pmf2::Pmf.Pmf{Int})::Pmf.Pmf{Int}\n",
    "    return convolveDist(pmf1, pmf2, -)\n",
    "end"
   ]
  },
  {
   "cell_type": "code",
   "execution_count": null,
   "metadata": {},
   "outputs": [],
   "source": [
    "ex4Dice = Pmf.getPmfFromSeq(1:6 |> collect)"
   ]
  },
  {
   "cell_type": "code",
   "execution_count": null,
   "metadata": {},
   "outputs": [],
   "source": [
    "# goblin, full HP\n",
    "goblinHpBeforeRound1 = addDist(ex4Dice, ex4Dice)"
   ]
  },
  {
   "cell_type": "code",
   "execution_count": null,
   "metadata": {},
   "outputs": [],
   "source": [
    "# goblin with 3 pts of damage already inflicted\n",
    "goblinHpAfterRound1 = subtractDist(goblinHpBeforeRound1, 3)\n",
    "# goblin is still alive, so >= 1 hp \n",
    "goblinIndsAliveAfterRound1 = findall((>)(0), goblinHpAfterRound1.names)\n",
    "# or findall(x -> x > 0, goblinHpAfterRound1.names)\n",
    "goblinHpBeforeRound2 = Pmf.Pmf(\n",
    "    goblinHpAfterRound1.names[goblinIndsAliveAfterRound1],\n",
    "    goblinHpAfterRound1.priors[goblinIndsAliveAfterRound1]\n",
    "    )\n",
    "# normalize priors\n",
    "goblinHpBeforeRound2.priors ./= sum(goblinHpBeforeRound2.priors)\n",
    "goblinHpBeforeRound2"
   ]
  },
  {
   "cell_type": "code",
   "execution_count": null,
   "metadata": {},
   "outputs": [],
   "source": [
    "goblinHpAfterRound2 = subtractDist(goblinHpBeforeRound2, ex4Dice)"
   ]
  },
  {
   "cell_type": "code",
   "execution_count": null,
   "metadata": {},
   "outputs": [],
   "source": [
    "goblinIndsDeadAfterRound2 = findall((<=)(0), goblinHpAfterRound2.names)\n",
    "# or: findall(x -> x <= 0, goblinHpAfterRound2.names)"
   ]
  },
  {
   "cell_type": "code",
   "execution_count": null,
   "metadata": {},
   "outputs": [],
   "source": [
    "fig = Cmk.Figure()\n",
    "ax1, b1 = Cmk.barplot(fig[1, 1],\n",
    "            goblinHpAfterRound2.names, goblinHpAfterRound2.priors,\n",
    "            color = \"lightblue\",\n",
    "            axis=(;title=\"D&D goblin HP points after 2 hits\",\n",
    "            xlabel=\"HP points left\",\n",
    "            ylabel=\"PMF\",\n",
    "            xticks=-5:8)\n",
    ")\n",
    "# overlying 'dead' goblin bars over previously drawn bars\n",
    "b2 = Cmk.barplot!(fig[1, 1],\n",
    "            goblinHpAfterRound2.names[goblinIndsDeadAfterRound2],\n",
    "            goblinHpAfterRound2.priors[goblinIndsDeadAfterRound2],\n",
    "            color = \"lightgray\",\n",
    ")\n",
    "Cmk.axislegend(ax1,\n",
    "    [b1, b2],\n",
    "    [\"alive\", \"dead\"],\n",
    "    \"goblin's status\"\n",
    ")\n",
    "fig"
   ]
  },
  {
   "cell_type": "code",
   "execution_count": null,
   "metadata": {},
   "outputs": [],
   "source": [
    "probGoblinDeadAfter2Rounds = goblinHpAfterRound2.priors[goblinIndsDeadAfterRound2] |> sum"
   ]
  },
  {
   "cell_type": "markdown",
   "metadata": {},
   "source": [
    "## Exercise 5\n",
    "\n",
    "Suppose I have a box with a 6-sided die, an 8-sided die, and a 12-sided die. I\n",
    "choose one of the dice at random, roll it twice, multiply the outcomes, and\n",
    "report that the product is 12. What is the probability that I chose the 8-sided\n",
    "die?\n",
    "\n",
    "Hint: `Pmf` provides a function called `mul_dist` that takes two `Pmf` objects\n",
    "and returns a Pmf that represents the distribution of the product."
   ]
  },
  {
   "cell_type": "code",
   "execution_count": null,
   "metadata": {},
   "outputs": [],
   "source": [
    "function multDist(pmf1::Pmf.Pmf{Int}, x::Int)::Pmf.Pmf{Int}\n",
    "    return Pmf.Pmf(pmf1.names .* x, pmf1.priors)\n",
    "end"
   ]
  },
  {
   "cell_type": "code",
   "execution_count": null,
   "metadata": {},
   "outputs": [],
   "source": [
    "function multDist(pmf1::Pmf.Pmf{Int}, pmf2::Pmf.Pmf{Int})::Pmf.Pmf{Int}\n",
    "    return convolveDist(pmf1, pmf2, *)\n",
    "end"
   ]
  },
  {
   "cell_type": "code",
   "execution_count": null,
   "metadata": {},
   "outputs": [],
   "source": [
    "ex5diceTypes = [6, 8, 12]"
   ]
  },
  {
   "cell_type": "code",
   "execution_count": null,
   "metadata": {},
   "outputs": [],
   "source": [
    "ex5priors = Dict(d => 1/3 for d in ex5diceTypes)"
   ]
  },
  {
   "cell_type": "code",
   "execution_count": null,
   "metadata": {},
   "outputs": [],
   "source": [
    "ex5dicesPmfs = Dict(\n",
    "    d => Pmf.getPmfFromSeq(1:d |> collect) for d in ex5diceTypes)"
   ]
  },
  {
   "cell_type": "code",
   "execution_count": null,
   "metadata": {},
   "outputs": [],
   "source": [
    "ex5dicesPmfs2throws = Dict(\n",
    "    d => multDist(ex5dicesPmfs[d], ex5dicesPmfs[d]) for d in ex5diceTypes)"
   ]
  },
  {
   "cell_type": "code",
   "execution_count": null,
   "metadata": {},
   "outputs": [],
   "source": [
    "ex5likelihoods = Dict(\n",
    "    d => Pmf.getPriorByName(ex5dicesPmfs2throws[d], 12) for d in ex5diceTypes)"
   ]
  },
  {
   "cell_type": "code",
   "execution_count": null,
   "metadata": {},
   "outputs": [],
   "source": [
    "# classic Bayes's Theorem\n",
    "# P(H|D) = [P(H) * P(D|H)] / P(D)\n",
    "# P(D) - normalizing constant, that we omit, or define as sum of posteriors\n",
    "ex5posteriors = Dict(\n",
    "    d => ex5priors[d] * ex5likelihoods[d] for d in ex5diceTypes)"
   ]
  },
  {
   "cell_type": "code",
   "execution_count": null,
   "metadata": {},
   "outputs": [],
   "source": [
    "# normalizing posteriors\n",
    "ex5pD = ex5posteriors |> values |> sum\n",
    "ex5posteriors = Dict(\n",
    "    d => ex5posteriors[d] / ex5pD for d in ex5diceTypes)"
   ]
  }
 ],
 "metadata": {
  "kernelspec": {
   "display_name": "Julia 1.9.3",
   "language": "julia",
   "name": "julia-1.9"
  },
  "language_info": {
   "file_extension": ".jl",
   "mimetype": "application/julia",
   "name": "julia",
   "version": "1.9.3"
  },
  "vscode": {
   "interpreter": {
    "hash": "31f2aee4e71d21fbe5cf8b01ff0e069b9275f58929596ceb00d14d90e3e16cd6"
   }
  }
 },
 "nbformat": 4,
 "nbformat_minor": 2
}
