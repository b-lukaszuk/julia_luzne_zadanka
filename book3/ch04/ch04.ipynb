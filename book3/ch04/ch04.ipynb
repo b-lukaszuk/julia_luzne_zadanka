{
 "cells": [
  {
   "cell_type": "markdown",
   "metadata": {},
   "source": [
    "# Chapter 4. Theoretical Distributions"
   ]
  },
  {
   "attachments": {},
   "cell_type": "markdown",
   "metadata": {},
   "source": [
    "## Imports "
   ]
  },
  {
   "cell_type": "code",
   "execution_count": null,
   "metadata": {},
   "outputs": [],
   "source": [
    "import Distributions as dst"
   ]
  },
  {
   "attachments": {},
   "cell_type": "markdown",
   "metadata": {},
   "source": [
    "## Warning regarding solutions"
   ]
  },
  {
   "attachments": {},
   "cell_type": "markdown",
   "metadata": {},
   "source": [
    "NO GUARANTEE THAT THE SOLUTIONS WILL WORK OR WORK CORRECTLY! USE THEM AT YOUR OWN RISK!\n",
    "\n",
    "THE ANSWERS PROVIDED BELOW MAY BE WRONG. USE THEM AT YOUR OWN RISK!"
   ]
  },
  {
   "attachments": {},
   "cell_type": "markdown",
   "metadata": {},
   "source": [
    "## Exercise 4.1"
   ]
  },
  {
   "attachments": {},
   "cell_type": "markdown",
   "metadata": {},
   "source": [
    "Assuming that the height of adult males has a Normal distribution, what proportion of males will be more than two standard deviations above the mean height?"
   ]
  },
  {
   "attachments": {},
   "cell_type": "markdown",
   "metadata": {},
   "source": [
    "### Ex 4.1. Solution with Distributions"
   ]
  },
  {
   "cell_type": "code",
   "execution_count": null,
   "metadata": {},
   "outputs": [],
   "source": [
    "1 - dst.cdf(dst.Normal(), 2)"
   ]
  },
  {
   "cell_type": "markdown",
   "metadata": {},
   "source": [
    "### Ex 4.1. Answer\n",
    "\n",
    "Approximately 0.02275 or 2.3% of men will be more than 2 std above the mean height"
   ]
  },
  {
   "cell_type": "markdown",
   "metadata": {},
   "source": [
    "## Exercise 4.2\n",
    "\n",
    "The probability of being blood group B is 0.08.\n",
    "What is the probability that if one pint of blood is taken from each of\n",
    "100 unrelated blood donors fewer than three pints of group B blood will be obtained?"
   ]
  },
  {
   "cell_type": "markdown",
   "metadata": {},
   "source": [
    "### Ex 4.2 Solution with Distributions"
   ]
  },
  {
   "cell_type": "code",
   "execution_count": null,
   "metadata": {},
   "outputs": [],
   "source": [
    "probGrB1::Float64 = dst.cdf(dst.Binomial(100, 0.08), 2)"
   ]
  },
  {
   "attachments": {},
   "cell_type": "markdown",
   "metadata": {},
   "source": [
    "### Ex 4.2 Solution by running computer simulations"
   ]
  },
  {
   "cell_type": "code",
   "execution_count": null,
   "metadata": {},
   "outputs": [],
   "source": [
    "function howManyGrBinNsamples(n::Int = 100)::Int\n",
    "    # 1:8 - treated as blood group B\n",
    "    return  length([i for i in rand(1:100, n) if i < 9])\n",
    "end"
   ]
  },
  {
   "cell_type": "code",
   "execution_count": null,
   "metadata": {},
   "outputs": [],
   "source": [
    "function getProbLT3GrB(n_iter::Int = 100_000)::Float64\n",
    "    results::Vector{Int} = [howManyGrBinNsamples() < 3 ? 1 : 0 for _ in 1:n_iter]\n",
    "    return sum(results) / n_iter\n",
    "end"
   ]
  },
  {
   "cell_type": "code",
   "execution_count": null,
   "metadata": {},
   "outputs": [],
   "source": [
    "probGrB2::Float64 = getProbLT3GrB()"
   ]
  },
  {
   "cell_type": "markdown",
   "metadata": {},
   "source": [
    "### Ex 4.2. Answer\n",
    "\n",
    "The probability is around 0.011 or 1.1%"
   ]
  },
  {
   "attachments": {},
   "cell_type": "markdown",
   "metadata": {},
   "source": [
    "### Exercise 4.3\n",
    "\n",
    "The probability of a baby being a boy is 0.52. For six women delivering consecutively in the same labour ward on one day, which of the following exact sequences of boys and girls is most likely and which least likely?\n",
    "\n",
    "GBGBGB BBBGGG GBBBBB"
   ]
  },
  {
   "cell_type": "code",
   "execution_count": null,
   "metadata": {},
   "outputs": [],
   "source": [
    "birthSeqs = [\"GBGBGB\", \"BBBGGG\", \"GBBBBB\"]"
   ]
  },
  {
   "attachments": {},
   "cell_type": "markdown",
   "metadata": {},
   "source": [
    "#### Ex 4.3 Solution with mathematical calculations"
   ]
  },
  {
   "cell_type": "code",
   "execution_count": null,
   "metadata": {},
   "outputs": [],
   "source": [
    "function getBirthSeqProb(birthSeq::String)::Float64\n",
    "    return prod([(b == 'B') ? 0.52 : 0.48 for b in birthSeq])\n",
    "end"
   ]
  },
  {
   "cell_type": "code",
   "execution_count": null,
   "metadata": {},
   "outputs": [],
   "source": [
    "birthSeqsProbs1 = [(getBirthSeqProb(bs), bs) for bs in birthSeqs]"
   ]
  },
  {
   "cell_type": "markdown",
   "metadata": {},
   "source": [
    "#### Ex. 4.3 Solution with computer simulation"
   ]
  },
  {
   "cell_type": "code",
   "execution_count": null,
   "metadata": {},
   "outputs": [],
   "source": [
    "function getBirthSeq(howMany::Int=6)::String\n",
    "    return join([(i <= 52) ? 'B' : 'G' for i in rand(1:100, howMany)], \"\")\n",
    "end"
   ]
  },
  {
   "cell_type": "code",
   "execution_count": null,
   "metadata": {},
   "outputs": [],
   "source": [
    "function getNBirthSeqs(n::Int=10_000)::Vector{String}\n",
    "    return [getBirthSeq() for _ in 1:n] \n",
    "end"
   ]
  },
  {
   "cell_type": "code",
   "execution_count": null,
   "metadata": {},
   "outputs": [],
   "source": [
    "function getBirthSeqsCounts(birthSeqs::Vector{String})::Dict{String, Int}\n",
    "    counts::Dict{String, Int} = Dict()  \n",
    "    for bs in birthSeqs\n",
    "        counts[bs] = get(counts, bs, 0) + 1\n",
    "    end\n",
    "    return counts\n",
    "end"
   ]
  },
  {
   "cell_type": "code",
   "execution_count": null,
   "metadata": {},
   "outputs": [],
   "source": [
    "function getRandBirthsProbs(nIter::Int = 10_000)::Dict{String, Float64}\n",
    "    counts::Dict{String, Int} = getBirthSeqsCounts(getNBirthSeqs(nIter))\n",
    "    probs::Dict{String, Float64} = Dict()\n",
    "    for (k, v) in counts\n",
    "        probs[k] = v / nIter\n",
    "    end\n",
    "    return probs\n",
    "end"
   ]
  },
  {
   "cell_type": "code",
   "execution_count": null,
   "metadata": {},
   "outputs": [],
   "source": [
    "randBirthsProbs = getRandBirthsProbs(100_000)\n",
    "birthSeqsProbs2 = [(get(randBirthsProbs, k, 0), k) for k in birthSeqs]"
   ]
  },
  {
   "attachments": {},
   "cell_type": "markdown",
   "metadata": {},
   "source": [
    "#### Ex. 4.3. Answer\n",
    "\n",
    "Assumming the exact order of births and the exact sex of the children (where p for B: 0.52, and for G: 0.48) we got:\n",
    "\n",
    "According to mathematical calculations the probabilities are:\n",
    "- (0.015550119935999997, \"GBGBGB\")\n",
    "- (0.015550119935999997, \"BBBGGG\")\n",
    "- (0.018249793536, \"GBBBBB\")\n",
    "\n",
    "According to simulation [100'000 random birth sequences generated] the probabilities are:\n",
    "- (0.01577, \"GBGBGB\")\n",
    "- (0.01592, \"BBBGGG\")\n",
    "- (0.01795, \"GBBBBB\")"
   ]
  },
  {
   "cell_type": "markdown",
   "metadata": {},
   "source": [
    "## Exercise 4.4\n",
    "\n",
    "The Binomial distribution with p = 0.15 and n = 10\n",
    "\n",
    "(a)\n",
    "\n",
    "If 15% of all pregnancies result in miscarriages, what is the probability that more than half of a group of ten pregnant women will have a miscarriage?\n",
    "\n",
    "(b)\n",
    "\n",
    "Among groups of users of video display terminals there are 20'000 large enough for ten women to become pregnant in one year. If we call six or more miscarriages out of 10 a 'cluster', how many clusters would we expect in one year, assuming that there is no increased risk of miscarriage associated with using a terminal? (Based on Blackwell and Chang, 1988)\n",
    "\n"
   ]
  },
  {
   "attachments": {},
   "cell_type": "markdown",
   "metadata": {},
   "source": [
    "### My Comments to Ex 4.4\n",
    "Not sure how should I understand the Ex4.4b task, especially the phase '...there are 20'000 large enought for ten women to become pregnant in one year.' I just assume that those 20'000 of women get pregnant, and determine how many 'clusters' (>=6 out of 10) I can expect there."
   ]
  },
  {
   "attachments": {},
   "cell_type": "markdown",
   "metadata": {},
   "source": [
    "#### Ex 4.4a Solution with Distributions"
   ]
  },
  {
   "cell_type": "code",
   "execution_count": null,
   "metadata": {},
   "outputs": [],
   "source": [
    "probMiscarriageLT5of10_m1 = dst.cdf(dst.Binomial(10, 1-0.15), 4)"
   ]
  },
  {
   "cell_type": "markdown",
   "metadata": {},
   "source": [
    "#### Ex 4.4a Solution with Computer Simulation"
   ]
  },
  {
   "cell_type": "code",
   "execution_count": null,
   "metadata": {},
   "outputs": [],
   "source": [
    "function isMoreThanKOfNMiscarriages(k::Int=5, n::Int=10)::Bool\n",
    "    return length([i for i in rand(1:100, n) if i < 15]) > k\n",
    "end"
   ]
  },
  {
   "cell_type": "code",
   "execution_count": null,
   "metadata": {},
   "outputs": [],
   "source": [
    "function getProbMicscarriages(more_than_n_miscarriages::Int=5,\n",
    "    n_of_births::Int=10, no_of_simulations::Int=100_000)::Float64\n",
    "    successes::Vector{Bool} = [isMoreThanKOfNMiscarriages(more_than_n_miscarriages, n_of_births) for _ in 1:no_of_simulations]\n",
    "    return sum([s ? 1 : 0 for s in successes]) / no_of_simulations\n",
    "end"
   ]
  },
  {
   "cell_type": "code",
   "execution_count": null,
   "metadata": {},
   "outputs": [],
   "source": [
    "probMiscarriageLT5of10_m2 = getProbMicscarriages()"
   ]
  },
  {
   "cell_type": "markdown",
   "metadata": {},
   "source": [
    "#### Ex 4.4a Answer\n",
    "\n",
    "Probability of more than 6 miscarages out of 10 births:\n",
    "\n",
    "calculated with Distributions, p = 0.0013832352123046916 \n",
    "estimated with computer simulation, p = 0.00091"
   ]
  },
  {
   "attachments": {},
   "cell_type": "markdown",
   "metadata": {},
   "source": [
    "#### Ex 4.4b Solution Using Distributions"
   ]
  },
  {
   "cell_type": "code",
   "execution_count": null,
   "metadata": {},
   "outputs": [],
   "source": [
    "probMiscarriageLT5of10_m1 * 20_000 / 10"
   ]
  },
  {
   "attachments": {},
   "cell_type": "markdown",
   "metadata": {},
   "source": [
    "#### Ex 4.4b Solution Using Computer Simulations"
   ]
  },
  {
   "cell_type": "code",
   "execution_count": null,
   "metadata": {},
   "outputs": [],
   "source": [
    "probMiscarriageLT5of10_m2 * 20_000 / 10"
   ]
  },
  {
   "attachments": {},
   "cell_type": "markdown",
   "metadata": {},
   "source": [
    "#### Ex 4.4b Answer\n",
    "\n",
    "Assuming 20'000 of women gives birth to children, and probability of miscarriage = 0.15 we would expect:\n",
    "\n",
    "2.7664 (according to mathematical calculations)\n",
    "1.8199 (according to computer simulation)\n",
    "miscarriage clusters (>=6 miscarriages out of 10 births)\n",
    "\n",
    "So in practice 2 or 3 of such clusters are expected to be found."
   ]
  }
 ],
 "metadata": {
  "kernelspec": {
   "display_name": "Julia 1.8.3",
   "language": "julia",
   "name": "julia-1.8"
  },
  "language_info": {
   "file_extension": ".jl",
   "mimetype": "application/julia",
   "name": "julia",
   "version": "1.8.3"
  },
  "orig_nbformat": 4,
  "vscode": {
   "interpreter": {
    "hash": "31f2aee4e71d21fbe5cf8b01ff0e069b9275f58929596ceb00d14d90e3e16cd6"
   }
  }
 },
 "nbformat": 4,
 "nbformat_minor": 2
}
