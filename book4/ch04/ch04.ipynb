{
 "cells": [
  {
   "cell_type": "markdown",
   "id": "19f5fdfa",
   "metadata": {},
   "source": [
    "# Chapter 4. Estimating Proportions\n",
    "[Link to chapter online](https://allendowney.github.io/ThinkBayes2/chap04.html)\n",
    "\n",
    "A reminder of Bayes’s Theorem:\n",
    "\n",
    "$P(A|B) = \\frac{P(A)P(B|A)}{P(B)}$\n",
    "\n",
    "or\n",
    "\n",
    "$P(H|D) = \\frac{P(H)P(D|H)}{P(D)}$"
   ]
  },
  {
   "cell_type": "markdown",
   "id": "f77f604e",
   "metadata": {},
   "source": [
    "## Warning\n",
    "\n",
    "The content of this file may be incorrect, erroneous and/or harmful. Use it at Your own risk."
   ]
  },
  {
   "cell_type": "markdown",
   "id": "8b7d974c",
   "metadata": {},
   "source": [
    "## Imports"
   ]
  },
  {
   "cell_type": "code",
   "execution_count": null,
   "id": "0205ec76",
   "metadata": {},
   "outputs": [],
   "source": [
    "import CairoMakie as Cmk\n",
    "import Distributions as Dsts"
   ]
  },
  {
   "cell_type": "code",
   "execution_count": null,
   "id": "97cf56e8",
   "metadata": {},
   "outputs": [],
   "source": [
    "include(\"pmf.jl\")\n",
    "import .ProbabilityMassFunction as Pmf"
   ]
  },
  {
   "cell_type": "markdown",
   "id": "97949504",
   "metadata": {},
   "source": [
    "## The Euro Problem\n",
    "\n",
    "In Information Theory, Inference, and Learning Algorithms, David MacKay poses this problem:\n",
    "\n",
    "“A statistical statement appeared in The Guardian on Friday January 4, 2002:\n",
    "\n",
    "> When spun on edge 250 times, a Belgian one-euro coin came up heads 140 times\n",
    "> and tails 110. \"It looks very suspicious to me\", said Barry Blight, a statistics\n",
    "> lecturer at the London School of Economics. \"If the coin were unbiased, the\n",
    "> chance of getting a result as extreme as that would be less than 7%.\"\n",
    "\n",
    "“But [MacKay asks] do these data give evidence that the coin is biased rather than fair?”\n",
    "\n",
    "\n"
   ]
  },
  {
   "cell_type": "markdown",
   "id": "09d2999f",
   "metadata": {},
   "source": [
    "## The Binomial Distribution\n",
    "\n",
    "The probability that we get a total of $k$ heads is given by the [binomial distribution](https://en.wikipedia.org/wiki/Binomial_distribution):\n",
    "\n",
    "$\\binom{n}{k}*p^{k}*(1-p)^{n-k}$\n",
    "\n",
    "for any value of $k$ from 0 to $n$, including both.\n",
    "\n",
    "The term $\\binom{n}{k}$ is the binomial coefficient, usually pronounced “n choose k”.\n",
    "\n",
    "We could evaluate the expression ourselves or use a library, like so"
   ]
  },
  {
   "cell_type": "code",
   "execution_count": null,
   "id": "ac7ccf83",
   "metadata": {},
   "outputs": [],
   "source": [
    "n = 2\n",
    "p = 0.5\n",
    "k = 1\n",
    "\n",
    "Dsts.pdf(Dsts.Binomial(n, p), k) |> x -> round(x, digits=3)"
   ]
  },
  {
   "cell_type": "markdown",
   "id": "51d6dd8c",
   "metadata": {},
   "source": [
    "We can also use multiple values of $k$ with the functions"
   ]
  },
  {
   "cell_type": "code",
   "execution_count": null,
   "id": "0a55cfec",
   "metadata": {},
   "outputs": [],
   "source": [
    "ks = 0:1:n |> collect\n",
    "ps = Dsts.pdf.(Dsts.Binomial(n, p))\n",
    "ps = map(x -> round(x, digits=3), ps)\n",
    "ps"
   ]
  },
  {
   "cell_type": "markdown",
   "id": "4c0e45f9",
   "metadata": {},
   "source": [
    "We can put these probabilities in a `Pmf`"
   ]
  },
  {
   "cell_type": "code",
   "execution_count": null,
   "id": "af0c80d2",
   "metadata": {},
   "outputs": [],
   "source": [
    "pmfK = Pmf.Pmf(ks, ps)\n",
    "pmfK"
   ]
  },
  {
   "cell_type": "markdown",
   "id": "e0608778",
   "metadata": {},
   "source": [
    "Here's what it looks like with `n=250` and `p=0.5`:"
   ]
  },
  {
   "cell_type": "code",
   "execution_count": null,
   "id": "0e619ad7",
   "metadata": {},
   "outputs": [],
   "source": [
    "pmfK = Pmf.getBinomialPmf(250, 0.5)"
   ]
  },
  {
   "cell_type": "code",
   "execution_count": null,
   "id": "2ecd898e",
   "metadata": {},
   "outputs": [],
   "source": [
    "fig = Pmf.drawLinesPriors(pmfK,\n",
    "    \"Binomial Distribution (n=250, p=0.5)\",\n",
    "    \"Number of heads (k)\",\n",
    "    \"PMF\"\n",
    "    )\n",
    "fig"
   ]
  },
  {
   "cell_type": "code",
   "execution_count": null,
   "id": "333ff2bd",
   "metadata": {},
   "outputs": [],
   "source": [
    "Pmf.getNameMaxPrior(pmfK)"
   ]
  },
  {
   "cell_type": "code",
   "execution_count": null,
   "id": "6aa25ecb",
   "metadata": {},
   "outputs": [],
   "source": [
    "# (125 + 1) because Julia's indexing starts at 1\n",
    "pmfK.priors[126]"
   ]
  },
  {
   "cell_type": "markdown",
   "id": "15c91b9c",
   "metadata": {},
   "source": [
    "In MacKay's example, we got 140 heads, which is even less liekly than 125:"
   ]
  },
  {
   "cell_type": "code",
   "execution_count": null,
   "id": "63d5605f",
   "metadata": {},
   "outputs": [],
   "source": [
    "# (140 + 1) because Julia's indexing starts at 1\n",
    "pmfK.priors[141]"
   ]
  },
  {
   "cell_type": "code",
   "execution_count": null,
   "id": "e4a416d6",
   "metadata": {},
   "outputs": [],
   "source": [
    "Pmf.getTotalProbGEName(pmfK, \"priors\", 140)"
   ]
  },
  {
   "cell_type": "markdown",
   "id": "f3bac171",
   "metadata": {},
   "source": [
    "The result is about 3.3%, which is less than the quoted 7%. The reason for the difference is that the statistician includes all outcomes “as extreme as” 140, which includes outcomes less than or equal to 110. (two tailed probability)"
   ]
  },
  {
   "cell_type": "code",
   "execution_count": null,
   "id": "aa78674b",
   "metadata": {},
   "outputs": [],
   "source": [
    "Pmf.getTotalProbGEName(pmfK, \"priors\", 140) * 2"
   ]
  },
  {
   "cell_type": "code",
   "execution_count": null,
   "id": "2a50c336",
   "metadata": {},
   "outputs": [],
   "source": [
    "# alternative solution (without Pmf)\n",
    "Dsts.cdf(Dsts.Binomial(250, 0.5), 110) +\n",
    "Dsts.ccdf(Dsts.Binomial(250, 0.5), 139)\n",
    "# or just\n",
    "# Dsts.cdf(Dsts.Binomial(250, 0.5), 110) * 2"
   ]
  },
  {
   "cell_type": "markdown",
   "id": "5b8e2d54",
   "metadata": {},
   "source": [
    "## Bayesian Estimation"
   ]
  },
  {
   "cell_type": "code",
   "execution_count": null,
   "id": "613ef141",
   "metadata": {},
   "outputs": [],
   "source": [
    "# coins with different probs of getting heads\n",
    "coins = Pmf.getPmfFromSeq(range(0, 1, 101) |> collect)"
   ]
  },
  {
   "cell_type": "code",
   "execution_count": null,
   "id": "247e3fad",
   "metadata": {},
   "outputs": [],
   "source": [
    "likelihoodHeads = copy(coins.names)\n",
    "likelihoodTails = 1 .- likelihoodHeads\n",
    "\n",
    "likelihoodMapping = Dict(\n",
    "   'h' => likelihoodHeads,\n",
    "   't' => likelihoodTails\n",
    ")"
   ]
  },
  {
   "cell_type": "code",
   "execution_count": null,
   "id": "407013f3",
   "metadata": {},
   "outputs": [],
   "source": [
    "dataset = \"h\" ^ 140 * \"t\" ^ 110"
   ]
  },
  {
   "cell_type": "code",
   "execution_count": null,
   "id": "8be5122f",
   "metadata": {},
   "outputs": [],
   "source": [
    "\"\"\"\n",
    "    Update pmf with a given sequence of h and t\n",
    "\"\"\"\n",
    "function updateEuro!(\n",
    "    coins::Pmf.Pmf{T},\n",
    "    dataset::String,\n",
    "    probMapping::Dict{Char,Vector{Float64}}) where {T<:Union{Int,String,Float64}}\n",
    "\n",
    "    coins.likelihoods .= 1\n",
    "    for data in dataset\n",
    "        coins.likelihoods .*= probMapping[data]\n",
    "    end\n",
    "    Pmf.updatePosteriors!(coins, true)\n",
    "\n",
    "    return nothing\n",
    "\n",
    "end"
   ]
  },
  {
   "cell_type": "code",
   "execution_count": null,
   "id": "89ffce58",
   "metadata": {},
   "outputs": [],
   "source": [
    "updateEuro!(coins, dataset, likelihoodMapping)"
   ]
  },
  {
   "cell_type": "code",
   "execution_count": null,
   "id": "770f5468",
   "metadata": {},
   "outputs": [],
   "source": [
    "fig = Pmf.drawLinesPosteriors(coins,\n",
    "    \"Binomial Distribution (n=250, p=0.5),\\n140/250 heads\",\n",
    "    \"Number of heads (k)\",\n",
    "    \"PMF\"\n",
    "    )\n",
    "fig"
   ]
  },
  {
   "cell_type": "code",
   "execution_count": null,
   "id": "83e5b5f1",
   "metadata": {},
   "outputs": [],
   "source": [
    "# index of coins with max priors\n",
    "Pmf.getIndMaxPosterior(coins)"
   ]
  },
  {
   "cell_type": "code",
   "execution_count": null,
   "id": "21ff2045",
   "metadata": {},
   "outputs": [],
   "source": [
    "# value for heads with max priors\n",
    "Pmf.getNameMaxPosterior(coins)"
   ]
  },
  {
   "cell_type": "markdown",
   "id": "0511cfe8",
   "metadata": {},
   "source": [
    "## Triangle prior\n",
    "\n",
    "Comparison between two priors:\n",
    "- uniform\n",
    "- triangle shaped"
   ]
  },
  {
   "cell_type": "code",
   "execution_count": null,
   "id": "ba4e49a1",
   "metadata": {},
   "outputs": [],
   "source": [
    "uniform = Pmf.getPmfFromSeq(range(0, 1, 101) |> collect)"
   ]
  },
  {
   "cell_type": "code",
   "execution_count": null,
   "id": "b022bee8",
   "metadata": {},
   "outputs": [],
   "source": [
    "shape = vcat(0:49, 50:-1:0)\n",
    "shape = shape ./ sum(shape)\n",
    "triangle = Pmf.Pmf(range(0, 1, 101) |> collect, shape)"
   ]
  },
  {
   "cell_type": "code",
   "execution_count": null,
   "id": "d1495c2f",
   "metadata": {},
   "outputs": [],
   "source": [
    "fig = Cmk.Figure(size=(600, 400))\n",
    "Cmk.lines(fig[1, 1], uniform.names, uniform.priors,\n",
    "    color=\"blue\",\n",
    "    axis=(;\n",
    "        title=\"Uniform and triangle distributions\",\n",
    "        xlabel=\"Proportion of heads (x)\",\n",
    "        ylabel=\"Probability\")\n",
    "    )\n",
    "Cmk.lines!(fig[1, 1], triangle.names, triangle.priors, color=\"orange\")\n",
    "fig"
   ]
  },
  {
   "cell_type": "code",
   "execution_count": null,
   "id": "7a6fa102",
   "metadata": {},
   "outputs": [],
   "source": [
    "updateEuro!(uniform, dataset, likelihoodMapping);\n",
    "updateEuro!(triangle, dataset, likelihoodMapping);"
   ]
  },
  {
   "cell_type": "code",
   "execution_count": null,
   "id": "1b9a5d78",
   "metadata": {},
   "outputs": [],
   "source": [
    "fig = Cmk.Figure(size=(600, 400))\n",
    "Cmk.lines(fig[1, 1], uniform.names, uniform.posteriors,\n",
    "    color=\"blue\",\n",
    "    axis=(;\n",
    "        title=\"Uniform and triangle distributions\",\n",
    "        xlabel=\"Proportion of heads (x)\",\n",
    "        ylabel=\"Probability\")\n",
    "    )\n",
    "Cmk.lines!(fig[1, 1], triangle.names, triangle.posteriors, color=\"orange\")\n",
    "fig"
   ]
  },
  {
   "cell_type": "markdown",
   "id": "cf6fc466",
   "metadata": {},
   "source": [
    "This is an example of **swamping the priors**: with enough data, people who start with different priors will tend to converge on the same posterior distribution."
   ]
  },
  {
   "cell_type": "markdown",
   "id": "5420b945",
   "metadata": {},
   "source": [
    "## The Binomial Likelihood Function\n",
    "\n",
    "We've been updating likelihood one result of the experiment at a time, a better option is to do it in one go."
   ]
  },
  {
   "cell_type": "code",
   "execution_count": null,
   "id": "082bfd8b",
   "metadata": {},
   "outputs": [],
   "source": [
    "\"\"\"\n",
    "    Update a binomial Pmf.\n",
    "    n - number of trials\n",
    "    k - number of success\n",
    "\"\"\"\n",
    "function updateBinomial!(pmf::Pmf.Pmf{T}, k::Int, n::Int) where T<:Union{Int, Float64}\n",
    "    @assert (k <= n) \"k must be <= n\"\n",
    "    xs::Vector{T} = pmf.names\n",
    "    likelihoods::Vector{Float64} = Dsts.pdf.(Dsts.Binomial.(n, xs), k)\n",
    "    Pmf.setLikelihoods!(pmf, likelihoods)\n",
    "    Pmf.updatePosteriors!(pmf, true)\n",
    "    return nothing\n",
    "end"
   ]
  },
  {
   "cell_type": "code",
   "execution_count": null,
   "id": "ffc844ea",
   "metadata": {},
   "outputs": [],
   "source": [
    "uniform2 = Pmf.getPmfFromSeq(range(0, 1, 101) |> collect)\n",
    "k, n = 140, 250\n",
    "updateBinomial!(uniform2, k, n)"
   ]
  },
  {
   "cell_type": "code",
   "execution_count": null,
   "id": "63f2b197",
   "metadata": {},
   "outputs": [],
   "source": [
    "Pmf.drawLinesPosteriors(\n",
    "    uniform2,\n",
    "    \"Binomial Distribution 140/250 heads\",\n",
    "    \"Coin probs of getting heads\",\n",
    "    \"Likeliehoods\"\n",
    ")"
   ]
  },
  {
   "cell_type": "code",
   "execution_count": null,
   "id": "1ea891e5",
   "metadata": {},
   "outputs": [],
   "source": [
    "Pmf.getNameMaxPosterior(uniform2)"
   ]
  },
  {
   "cell_type": "markdown",
   "id": "ae36ae77",
   "metadata": {},
   "source": [
    "## Bayesian Statistics"
   ]
  },
  {
   "cell_type": "markdown",
   "id": "b6eab500",
   "metadata": {},
   "source": [
    "In the Euro problem, the choice of the prior is subjective; that is, reasonable\n",
    "people could disagree, maybe because they have different information about coins\n",
    "or because they interpret the same information differently.\n",
    "\n",
    "Because the priors are subjective, the posteriors are subjective, too. And some\n",
    "people find that problematic.\n",
    "\n",
    "Bayes’s Theorem is a mathematical law of probability; no reasonable person\n",
    "objects to it. But Bayesian statistics is surprisingly controversial.\n",
    "Historically, many people have been bothered by its subjectivity and its use of\n",
    "probability for things that are not random."
   ]
  },
  {
   "cell_type": "markdown",
   "id": "ab9f6829",
   "metadata": {},
   "source": [
    "## Exercises"
   ]
  },
  {
   "cell_type": "markdown",
   "id": "d33fa54d",
   "metadata": {},
   "source": [
    "### Exercise 1\n",
    "\n",
    "In Major League Baseball, most players have a batting average between .200 and\n",
    ".330, which means that their probability of getting a hit is between 0.2 and\n",
    "0.33.\n",
    "\n",
    "Suppose a player appearing in their first game gets 3 hits out of 3 attempts.\n",
    "What is the posterior distribution for their probability of getting a hit?\n",
    "\n",
    "Let's start with a uniform distribution."
   ]
  },
  {
   "cell_type": "code",
   "execution_count": null,
   "id": "7f0b654f",
   "metadata": {},
   "outputs": [],
   "source": [
    "ex1Hypos = range(0.1, 0.4, 101) |> collect\n",
    "ex1 = Pmf.getPmfFromSeq(ex1Hypos)"
   ]
  },
  {
   "cell_type": "code",
   "execution_count": null,
   "id": "1f05685e",
   "metadata": {},
   "outputs": [],
   "source": [
    "# y - getting a hit\n",
    "# n - not getting a hit\n",
    "ex1LikelihoodMap = Dict(\n",
    "    'y' => ex1Hypos,\n",
    "    'n' => 1 .- ex1Hypos\n",
    ")"
   ]
  },
  {
   "cell_type": "code",
   "execution_count": null,
   "id": "c86e302e",
   "metadata": {},
   "outputs": [],
   "source": [
    "# a dataset with a reasonable prior distribution\n",
    "ex1Dataset = \"y\" ^ 25 * \"n\" ^ 75"
   ]
  },
  {
   "cell_type": "code",
   "execution_count": null,
   "id": "805faa26",
   "metadata": {},
   "outputs": [],
   "source": [
    "updateEuro!(ex1, ex1Dataset, ex1LikelihoodMap)"
   ]
  },
  {
   "cell_type": "code",
   "execution_count": null,
   "id": "55c9e0ff",
   "metadata": {},
   "outputs": [],
   "source": [
    "Pmf.drawLinesPosteriors(\n",
    "    ex1,\n",
    "    \"Exercise 1. Baseball\",\n",
    "    \"Probability of getting a hit\",\n",
    "    \"PMF\"\n",
    "    )"
   ]
  },
  {
   "cell_type": "markdown",
   "id": "3b342623",
   "metadata": {},
   "source": [
    "Now, the task.\n",
    "\n",
    "Update this distributiuon with the data (I assume it's 3 out of 3 hits) and plot the posterior. What is the most\n",
    "likely quantity in the posterior distribution?"
   ]
  },
  {
   "cell_type": "code",
   "execution_count": null,
   "id": "61fe1b0d",
   "metadata": {},
   "outputs": [],
   "source": [
    "ex1Pmf = Pmf.Pmf(ex1.names |> copy, ex1.posteriors |> copy)"
   ]
  },
  {
   "cell_type": "code",
   "execution_count": null,
   "id": "4ce7f563",
   "metadata": {},
   "outputs": [],
   "source": [
    "updateEuro!(ex1Pmf, \"yyy\", ex1LikelihoodMap)"
   ]
  },
  {
   "cell_type": "code",
   "execution_count": null,
   "id": "d2280367",
   "metadata": {},
   "outputs": [],
   "source": [
    "fig = Cmk.Figure()\n",
    "ax1, l1 = Cmk.lines(fig[1, 1],\n",
    "    ex1.names,\n",
    "    ex1.posteriors,\n",
    "    color=\"navy\",\n",
    "    axis=(;\n",
    "        title=\"Exercise 1. Baseball\",\n",
    "        xlabel=\"Probability of getting a hit\",\n",
    "        ylabel=\"PMF\"\n",
    "    )\n",
    ")\n",
    "l2 = Cmk.lines!(fig[1, 1],\n",
    "    ex1Pmf.names,\n",
    "    ex1Pmf.posteriors,\n",
    "    color=\"red\"\n",
    ")\n",
    "Cmk.axislegend(\n",
    "    ax1,\n",
    "    [l1, l2],\n",
    "    [\"priors\", \"posteriors\"],\n",
    "    position=:rt\n",
    ")\n",
    "fig"
   ]
  },
  {
   "cell_type": "code",
   "execution_count": null,
   "id": "3cd950d5",
   "metadata": {},
   "outputs": [],
   "source": [
    "Pmf.getNameMaxPosterior(ex1),\n",
    "Pmf.getNameMaxPosterior(ex1Pmf)"
   ]
  },
  {
   "cell_type": "code",
   "execution_count": null,
   "id": "a71170ce",
   "metadata": {},
   "outputs": [],
   "source": [
    "maximum(ex1.posteriors),\n",
    "maximum(ex1Pmf.posteriors)"
   ]
  },
  {
   "cell_type": "markdown",
   "id": "4de9b2b4",
   "metadata": {},
   "source": [
    "### Exercise 2\n",
    "\n",
    "Whenever you survey people about sensitive issues, you have to deal with [social\n",
    "desirability](https://en.wikipedia.org/wiki/Social-desirability_bias) bias,\n",
    "which is the tendency of people to adjust their answers to show themselves in\n",
    "the most positive light. One way to improve the accuracy of the results is\n",
    "[randomized response](https://en.wikipedia.org/wiki/Randomized_response).\n",
    "\n",
    "As an example, suppose you want to know how many people cheat on their taxes. If\n",
    "you ask them directly, it is likely that some of the cheaters will lie. You can\n",
    "get a more accurate estimate if you ask them indirectly, like this: Ask each\n",
    "person to flip a coin and, without revealing the outcome,\n",
    "- If they get heads, they report YES.\n",
    "- If they get tails, they honestly answer the question “Do you cheat on your\n",
    "taxes?”\n",
    "\n",
    "[...]\n",
    "\n",
    "Suppose you survey 100 people this way and get 80 YESes and 20 NOs. Based on\n",
    "this data, what is the posterior distribution for the fraction of people who\n",
    "cheat on their taxes? What is the most likely quantity in the posterior\n",
    "distribution?"
   ]
  },
  {
   "cell_type": "markdown",
   "id": "ed08dc44",
   "metadata": {},
   "source": [
    "My answer:\n",
    "\n",
    "P(NO) = P(no cheat) = 20/50 = 0.4\n",
    "\n",
    "P(YES) = 0.5 (coin landed heads) + P(cheat) * 0.5 (coin landed heads)\n",
    "\n",
    "0.8 = 0.5 + P(cheat) * 0.5\n",
    "\n",
    "0.5 + P(cheat) * 0.5 = 0.8\n",
    "\n",
    "P(cheat) * 0.5 = 0.8 - 0.5\n",
    "\n",
    "P(cheat) * 0.5 = 0.3\n",
    "\n",
    "P(cheat) = 0.3 / 0.5\n",
    "\n",
    "$P(cheat) = \\frac{3}{10} / \\frac{1}{2}$\n",
    "\n",
    "$P(cheat) = \\frac{3}{10} * \\frac{2}{1}$\n",
    "\n",
    "$P(cheat) = \\frac{6}{10}$\n",
    "\n",
    "P(cheat) = 0.6\n",
    "\n"
   ]
  },
  {
   "cell_type": "markdown",
   "id": "4bfda80f",
   "metadata": {},
   "source": [
    "My answer with Bayes theorem:"
   ]
  },
  {
   "cell_type": "code",
   "execution_count": null,
   "id": "02086371",
   "metadata": {},
   "outputs": [],
   "source": [
    "ex2 = Pmf.getPmfFromSeq(range(0, 1, 101) |> collect)"
   ]
  },
  {
   "cell_type": "code",
   "execution_count": null,
   "id": "91229dff",
   "metadata": {},
   "outputs": [],
   "source": [
    "updateBinomial!(ex2, 30, 50)"
   ]
  },
  {
   "cell_type": "code",
   "execution_count": null,
   "id": "e9885649",
   "metadata": {},
   "outputs": [],
   "source": [
    "Pmf.drawLinesPosteriors(\n",
    "    ex2,\n",
    "    \"Probability distribution of tax cheaters\\n answers: YES-80, NO-20\",\n",
    "    \"Proportion of tax cheaters\",\n",
    "    \"PMF\"\n",
    ")"
   ]
  },
  {
   "cell_type": "code",
   "execution_count": null,
   "id": "af2adbb4",
   "metadata": {},
   "outputs": [],
   "source": [
    "Pmf.getNameMaxPosterior(ex2)"
   ]
  },
  {
   "cell_type": "markdown",
   "id": "d43c24aa",
   "metadata": {},
   "source": [
    "### Exercise 3\n",
    "\n",
    "[...] you make a machine that spins the coin automatically and uses computer\n",
    "vision to determine the outcome.\n",
    "\n",
    "However, you discover that the machine is not always accurate. \n",
    "\n",
    "the probabilyt is `y = 0.2`, that an actual heads is reported as tails, or\n",
    "actual tails reported as heads.\n",
    "\n",
    "If we spin a coin 250 times and the machine reports 140 heads, what is the\n",
    "posterior distribution of `x`? What happens as you vary the value of `y`?"
   ]
  },
  {
   "cell_type": "markdown",
   "id": "de5e3e31",
   "metadata": {},
   "source": [
    "Hmm, what is `x`? Is it true probability that a coin lands heads (I'll make that\n",
    "assumption)"
   ]
  },
  {
   "cell_type": "code",
   "execution_count": null,
   "id": "58d91c4e",
   "metadata": {},
   "outputs": [],
   "source": [
    "ex3 = Pmf.getPmfFromSeq(range(0, 1, 101) |> collect)"
   ]
  },
  {
   "cell_type": "markdown",
   "id": "1f744079",
   "metadata": {},
   "source": [
    "Let's say we got a fair coin P(heads = 0.5), then what is a probability of\n",
    "getting heads with biased computer vision [P(heads|bias) or P(D|H)]?\n",
    "\n",
    "Out of 1000 tosses I should get:\n",
    "- 500 real heads (20%, so 100 misclassified as tails)\n",
    "- 500 real tails (20%, so 100 misclassified as heads)\n",
    "\n",
    "So:\n",
    "\n",
    "P(heads|bias) = P(heads) * P(no bias) + P(tails) * P(bias)\n",
    "\n",
    "P(tails|bias) = P(tails) * P(no bias) + P(heads) * P(bias)\n",
    "\n",
    "\n",
    "\n"
   ]
  },
  {
   "cell_type": "code",
   "execution_count": null,
   "id": "f2d68ff6",
   "metadata": {},
   "outputs": [],
   "source": [
    "dataset = \"h\" ^ 140 * \"t\" ^ 110\n",
    "likelihoodMapping = Dict(\n",
    "    'h' => ex3.names .* 0.8 .+ (1 .- ex3.names) .* 0.2,\n",
    "    't' => (1 .- ex3.names) .* 0.8 .+ ex3.names .* 0.2\n",
    ")"
   ]
  },
  {
   "cell_type": "code",
   "execution_count": null,
   "id": "5bb4a196",
   "metadata": {},
   "outputs": [],
   "source": [
    "updateEuro!(ex3, dataset, likelihoodMapping)"
   ]
  },
  {
   "cell_type": "code",
   "execution_count": null,
   "id": "24a04215",
   "metadata": {},
   "outputs": [],
   "source": [
    "Pmf.drawLinesPosteriors(\n",
    "    ex3,\n",
    "    \"Biased (p = 0.2) computer vision\",\n",
    "    \"Proportion of heads\",\n",
    "    \"PMF\")"
   ]
  },
  {
   "cell_type": "code",
   "execution_count": null,
   "id": "f06b9330",
   "metadata": {},
   "outputs": [],
   "source": [
    "ex3v2 = Pmf.getPmfFromSeq(range(0, 1, 101) |> collect)\n",
    "pBias = 0.3\n",
    "pNoBias = 1 - pBias\n",
    "\n",
    "\n",
    "dataset = \"h\" ^ 140 * \"t\" ^ 110\n",
    "likelihoodMapping = Dict(\n",
    "    'h' => ex3.names .* pNoBias .+ (1 .- ex3.names) .* pBias,\n",
    "    't' => (1 .- ex3.names) .* pNoBias .+ ex3.names .* pBias\n",
    ")"
   ]
  },
  {
   "cell_type": "code",
   "execution_count": null,
   "id": "b8abb9c4",
   "metadata": {},
   "outputs": [],
   "source": [
    "updateEuro!(ex3v2, dataset, likelihoodMapping)"
   ]
  },
  {
   "cell_type": "code",
   "execution_count": null,
   "id": "dbc50172",
   "metadata": {},
   "outputs": [],
   "source": [
    "Pmf.drawLinesPosteriors(\n",
    "    ex3v2,\n",
    "    \"Biased (p = $(pBias)) computer vision\",\n",
    "    \"Proportion of heads\",\n",
    "    \"PMF\")"
   ]
  },
  {
   "cell_type": "code",
   "execution_count": null,
   "id": "74ff807f",
   "metadata": {},
   "outputs": [],
   "source": [
    "Pmf.getNameMaxPosterior(ex3v2)"
   ]
  },
  {
   "cell_type": "markdown",
   "id": "db23decd",
   "metadata": {},
   "source": [
    "### Exercise 4\n",
    "\n",
    "In preparation for an alien invasion, the Earth Defense League (EDL) has been\n",
    "working on new missiles to shoot down space invaders. Of course, some missile\n",
    "designs are better than others; let’s assume that each design has some\n",
    "probability of hitting an alien ship, `x`.\n",
    "\n",
    "Based on previous tests, the distribution of `x` in the population of designs is\n",
    "approximately uniform between 0.1 and 0.4.\n",
    "\n",
    "Now suppose the new ultra-secret Alien Blaster 9000 is being tested. In a press\n",
    "conference, an EDL general reports that the new design has been tested twice,\n",
    "taking two shots during each test. The results of the test are confidential, so\n",
    "the general won’t say how many targets were hit, but they report: “The same\n",
    "number of targets were hit in the two tests, so we have reason to think this new\n",
    "design is consistent.”\n",
    "\n",
    "Is this data good or bad? That is, does it increase or decrease your estimate of\n",
    "`x` for the Alien Blaster 9000?\n",
    "\n",
    "Hint: If the probability of hitting each target is $x$, the probability of\n",
    "hitting one target in both tests is $[2x(1 - x)]^2$"
   ]
  },
  {
   "cell_type": "markdown",
   "id": "8cd6cd2a",
   "metadata": {},
   "source": [
    "### Ex 4. My Reasoning\n",
    "\n",
    "---\n",
    "\n",
    "My explanation for the probability of getting the same number of hits in both tests, based on properties of probability from [here](https://b-lukaszuk.github.io/RJ_BS_eng/statistics_intro_probability_properties.html):\n",
    "\n",
    "During a test with two shots I can have the following results (H - hit, M - miss):\n",
    "- HH, HM, MH, MM\n",
    "\n",
    "The same number of shots in both tests means either:\n",
    "- 00, 11, 22,\n",
    "\n",
    "If we assume:\n",
    "- x - probability of hitting a target,\n",
    "- y - probability of not hitting a target (1 - x)\n",
    "then\n",
    "\n",
    "Probability of hitting 0 shots in two tests [P(MM) & P(MM)] is:\n",
    "- y * y (first test)\n",
    "- y * y (second test),\n",
    "\n",
    "In total (2 tests): y * y * y * y = $y^4$ = $(1-x)^4$\n",
    "\n",
    "Probability of hitting 1 shot in two tests [P(HM | MH) & P(HM | MH)] is:\n",
    "- x * y + y * x => xy + xy (multiplication commutativity) => 2xy (first test)\n",
    "- x * y + y * x => xy + xy (multiplication commutativity) => 2xy (second test),\n",
    "\n",
    "In total (2 tests): 2xy * 2xy = $4x^2*y^2$ => $4x^2*(1-x)^2$\n",
    "\n",
    "This could be rewritten as: $[2x*(1-x)]^2$ (from the hint above)\n",
    "\n",
    "Probability of hitting 2 shots in two tests [P(HH) & P(HH)] is:\n",
    "- x * x => $x^2$ (first test)\n",
    "- x * x => $x^2$ (second test),\n",
    "\n",
    "In total (2 tests): x * x * x * x = $x^4$\n",
    "\n",
    "So, the probability of getting the same result in two tests is:\n",
    "- P(0 & 0) + P(1 & 1) + P(2 & 2) = $[(1-x)^4] + [4x^2*(1-x)^2] + [x^4]$"
   ]
  },
  {
   "cell_type": "markdown",
   "id": "87f3d66b",
   "metadata": {},
   "source": [
    "### Ex4. Solution with Pmf"
   ]
  },
  {
   "cell_type": "code",
   "execution_count": null,
   "id": "d29f2a1b",
   "metadata": {},
   "outputs": [],
   "source": [
    "ex4 = Pmf.getPmfFromSeq(range(0.1, 0.4, 101) |> collect)"
   ]
  },
  {
   "cell_type": "code",
   "execution_count": null,
   "id": "d2f684ea",
   "metadata": {},
   "outputs": [],
   "source": [
    "function getLikelihoodSameResult2tests(p::Float64)::Float64\n",
    "    return ((1-p)^4) + (4*p^2 * (1-p)^2) + (p^4)\n",
    "end"
   ]
  },
  {
   "cell_type": "code",
   "execution_count": null,
   "id": "f42ed2a5",
   "metadata": {},
   "outputs": [],
   "source": [
    "# names contain postulated probability of Alien blaster 9000 of hitting an alien ship\n",
    "Pmf.setLikelihoods!(ex4, getLikelihoodSameResult2tests.(ex4.names));\n",
    "Pmf.updatePosteriors!(ex4, true);"
   ]
  },
  {
   "cell_type": "code",
   "execution_count": null,
   "id": "8866ab8f",
   "metadata": {},
   "outputs": [],
   "source": [
    "Pmf.drawLinesPosteriors(\n",
    "    ex4,\n",
    "    \"Alien Blaster 9000\\nThe same number of targets hit in both tests\",\n",
    "    \"Probability of hitting alien ship\",\n",
    "    \"PMF\"\n",
    ")"
   ]
  }
 ],
 "metadata": {
  "kernelspec": {
   "display_name": "Julia 1.9.3",
   "language": "julia",
   "name": "julia-1.9"
  },
  "language_info": {
   "file_extension": ".jl",
   "mimetype": "application/julia",
   "name": "julia",
   "version": "1.9.3"
  },
  "name": "Untitled.ipynb"
 },
 "nbformat": 4,
 "nbformat_minor": 5
}
