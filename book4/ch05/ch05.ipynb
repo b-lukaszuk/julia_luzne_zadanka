{
 "cells": [
  {
   "cell_type": "markdown",
   "metadata": {},
   "source": [
    "# Chapter 5. Estimating Counts\n",
    "\n",
    "[Link to chapter online](https://allendowney.github.io/ThinkBayes2/chap05.html)\n",
    "\n",
    "\n",
    "In this chapter, we’ll work on problems related to counting, or estimating the size of a population."
   ]
  },
  {
   "cell_type": "markdown",
   "metadata": {},
   "source": [
    "A reminder of Bayes’s Theorem:\n",
    "\n",
    "$P(A|B) = \\frac{P(A)P(B|A)}{P(B)}$\n",
    "\n",
    "or\n",
    "\n",
    "$P(H|D) = \\frac{P(H)P(D|H)}{P(D)}$"
   ]
  },
  {
   "cell_type": "markdown",
   "metadata": {},
   "source": [
    "## Warning\n",
    "\n",
    "The content of this file may be incorrect, erroneous and/or harmful. Use it at Your own risk."
   ]
  },
  {
   "cell_type": "markdown",
   "metadata": {},
   "source": [
    "## Imports"
   ]
  },
  {
   "cell_type": "code",
   "execution_count": null,
   "metadata": {},
   "outputs": [],
   "source": [
    "import Distributions as Dsts"
   ]
  },
  {
   "cell_type": "code",
   "execution_count": null,
   "metadata": {},
   "outputs": [],
   "source": [
    "include(\"pmf.jl\")\n",
    "import .ProbabilityMassFunction as Pmf"
   ]
  },
  {
   "cell_type": "markdown",
   "metadata": {},
   "source": [
    "## The Train Problem\n",
    "\n",
    "I found the train problem in Frederick Mosteller’s, [Fifty Challenging Problems\n",
    "in Probability with\n",
    "Solutions](https://store.doverpublications.com/0486653552.html):\n",
    "\n",
    "> “A railroad numbers its locomotives in order 1…N. One day you see a locomotive\n",
    "with the number 60. Estimate how many locomotives the railroad has.”"
   ]
  },
  {
   "cell_type": "code",
   "execution_count": null,
   "metadata": {},
   "outputs": [],
   "source": [
    "# names - max number of locomotives in the fleet\n",
    "train = Pmf.getPmfFromSeq(1:1000 |> collect)"
   ]
  },
  {
   "cell_type": "code",
   "execution_count": null,
   "metadata": {},
   "outputs": [],
   "source": [
    "\"\"\"\n",
    "    Update Pmf (names are hypothesized max counts)\n",
    "\n",
    "    data - observed counts\n",
    "\"\"\"\n",
    "function updateCounts!(pmf::Pmf.Pmf{Int}, data::Int)\n",
    "\n",
    "    # the chance of seeing any number out of postulated N (max counts)\n",
    "    # is 1/N\n",
    "    likelihood::Vector{<:Float64} = 1 ./ pmf.names\n",
    "    impossible::BitVector = data .> pmf.names\n",
    "    likelihood[impossible] .= 0\n",
    "    pmf.likelihoods .*= likelihood\n",
    "    Pmf.updatePosteriors!(pmf, true)\n",
    "    \n",
    "    return nothing\n",
    "end"
   ]
  },
  {
   "cell_type": "code",
   "execution_count": null,
   "metadata": {},
   "outputs": [],
   "source": [
    "data = 60\n",
    "updateCounts!(train, data)"
   ]
  },
  {
   "cell_type": "code",
   "execution_count": null,
   "metadata": {},
   "outputs": [],
   "source": [
    "Pmf.drawLinesPosteriors(\n",
    "    train,\n",
    "    \"Posterior distribution\\n(after observing train 60)\",\n",
    "    \"Number of trains\",\n",
    "    \"PMF\"\n",
    ")"
   ]
  },
  {
   "cell_type": "code",
   "execution_count": null,
   "metadata": {},
   "outputs": [],
   "source": [
    "Pmf.getNameMaxPosterior(train)"
   ]
  },
  {
   "cell_type": "markdown",
   "metadata": {},
   "source": [
    "That might not seem like a very good guess; after all, what are the chances that\n",
    "you just happened to see the train with the highest number? Nevertheless, if you\n",
    "want to maximize the chance of getting the answer exactly right, you should\n",
    "guess 60"
   ]
  },
  {
   "cell_type": "markdown",
   "metadata": {},
   "source": [
    "An alternative is to compute the mean of the posterior distribution. Given a\n",
    "set of possible quantities, $q_i$, and their probabilities, $p_i$, the mean of\n",
    "the distribution is:\n",
    "\n",
    "$mean = \\sum_{i=1}^{n}p_{i}q_{i}$"
   ]
  },
  {
   "cell_type": "code",
   "execution_count": null,
   "metadata": {},
   "outputs": [],
   "source": [
    "sum(train.posteriors .* train.names)"
   ]
  },
  {
   "cell_type": "code",
   "execution_count": null,
   "metadata": {},
   "outputs": [],
   "source": [
    "Pmf.getMeanPosterior(train)"
   ]
  },
  {
   "cell_type": "markdown",
   "metadata": {},
   "source": [
    "The mean of the posterior is 333, so that might be a good guess if you want to\n",
    "minimize error. If you played this guessing game over and over, using the mean\n",
    "of the posterior as your estimate would minimize the [mean squared\n",
    "error](https://allendowney.github.io/ThinkBayes2/chap05.html) over the long run."
   ]
  },
  {
   "cell_type": "markdown",
   "metadata": {},
   "source": [
    "## Sensitivity to the Prior\n",
    "\n",
    "In the previous section we started with the uniform prior from 1 to 1000.\n",
    "\n",
    "In this case (little data) the posterior will depend on prior, e.g.\n",
    "- upper bound: 500, posterior mean: 207.08\n",
    "- upper bound: 1000, posterior mean: 333.42\n",
    "- upper bound: 2000, posterior mean: 552.18"
   ]
  },
  {
   "cell_type": "code",
   "execution_count": null,
   "metadata": {},
   "outputs": [],
   "source": [
    "upLimits  = [500, 1000, 2000]\n",
    "for upLimit in upLimits\n",
    "    testTrain = Pmf.getPmfFromSeq(1:upLimit |> collect)\n",
    "    updateCounts!(testTrain, 60)\n",
    "    println(\"$upLimit: $(Pmf.getMeanPosterior(testTrain))\")\n",
    "end"
   ]
  },
  {
   "cell_type": "markdown",
   "metadata": {},
   "source": [
    "When the posterior is sensitive to the prior, there are tow ways to proceed:\n",
    "- get more data\n",
    "- get more background information and choose a better prior\n",
    "\n",
    "So, if we started with the same uniform prior and observed trains number 60, 30, and 90.\n",
    "The posterior would be:\n",
    "- upper bound: 500, posterior mean: 151.85\n",
    "- upper bound: 1000, posterior mean: 164.31\n",
    "- upper bound: 2000, posterior mean: 171.34\n",
    "\n",
    "The differences are smaller, but not enough for the posteriors to converge."
   ]
  },
  {
   "cell_type": "code",
   "execution_count": null,
   "metadata": {},
   "outputs": [],
   "source": [
    "upLimits  = [500, 1000, 2000]\n",
    "cartNums = [30, 60, 90]\n",
    "for upLimit in upLimits\n",
    "    testTrain = Pmf.getPmfFromSeq(1:upLimit |> collect)\n",
    "    foreach(x -> updateCounts!(testTrain, x), cartNums)\n",
    "    println(\"$upLimit: $(Pmf.getMeanPosterior(testTrain))\")\n",
    "end"
   ]
  },
  {
   "cell_type": "markdown",
   "metadata": {},
   "source": [
    "## Power Law Prior\n",
    "\n",
    "If more data are not available, another option is to improve the priors by\n",
    "gathering more background information.\n",
    "\n",
    "In most fields, there are many small companies, fewer medium-sized companies,\n",
    "and only one or two very large companies.\n",
    "\n",
    "In fact, the distribution of company sizes tends to follow a power law, as\n",
    "Robert Axtell reports in\n",
    "[*Science*](https://www.science.org/doi/10.1126/science.1062081).\n",
    "\n",
    "This law suggests that if there are 1000 companies with fewer than 10\n",
    "locomotives, there might be 100 companies with 100 locomotives, 10 companies\n",
    "with 1000, and possibly one company with 10,000 locomotives.\n",
    "\n",
    "Mathematically, a power law means that the number of companies with a given\n",
    "size, N, is proportional to $(1/N)^\\alpha$, where $\\alpha$ is a parameter that\n",
    "is often near 1."
   ]
  },
  {
   "cell_type": "code",
   "execution_count": null,
   "metadata": {},
   "outputs": [],
   "source": [
    "alpha = 1.0\n",
    "# a^(-n) = 1/(a^n)\n",
    "train2 = Pmf.Pmf(train.names |> copy, train.names .^ (-alpha))\n",
    "train2.priors ./= sum(train2.priors);"
   ]
  },
  {
   "cell_type": "code",
   "execution_count": null,
   "metadata": {},
   "outputs": [],
   "source": [
    "Pmf.drawLinesPriors(\n",
    "    train,\n",
    "    \"Prior distributions (uniform priors)\",\n",
    "    \"Number of trains\",\n",
    "    \"PMF\"\n",
    ")"
   ]
  },
  {
   "cell_type": "code",
   "execution_count": null,
   "metadata": {},
   "outputs": [],
   "source": [
    "Pmf.drawLinesPriors(\n",
    "    train2,\n",
    "    \"Prior distributions (power law priors)\",\n",
    "    \"Number of trains\",\n",
    "    \"PMF\"\n",
    ")"
   ]
  },
  {
   "cell_type": "code",
   "execution_count": null,
   "metadata": {},
   "outputs": [],
   "source": [
    "updateCounts!(train2, 60)"
   ]
  },
  {
   "cell_type": "code",
   "execution_count": null,
   "metadata": {},
   "outputs": [],
   "source": [
    "Pmf.drawLinesPosteriors(\n",
    "    train,\n",
    "    \"Posterior distributions (uniform priors)\",\n",
    "    \"Number of trains\",\n",
    "    \"PMF\"\n",
    ")"
   ]
  },
  {
   "cell_type": "code",
   "execution_count": null,
   "metadata": {},
   "outputs": [],
   "source": [
    "Pmf.drawLinesPosteriors(\n",
    "    train2,\n",
    "    \"Posterior distributions (power law priors)\",\n",
    "    \"Number of trains\",\n",
    "    \"PMF\"\n",
    ")"
   ]
  },
  {
   "cell_type": "code",
   "execution_count": null,
   "metadata": {},
   "outputs": [],
   "source": [
    "Pmf.getNameMaxPosterior(train2)"
   ]
  },
  {
   "cell_type": "code",
   "execution_count": null,
   "metadata": {},
   "outputs": [],
   "source": [
    "Pmf.getMeanPosterior(train2)"
   ]
  },
  {
   "cell_type": "markdown",
   "metadata": {},
   "source": [
    "The power law gives less prior probability to high values, which yields lower\n",
    "posterior means, and less sensitivity to the upper bound.\n",
    "\n",
    "Here’s how the posterior means depend on the upper bound when we use a power law\n",
    "prior and observe three trains (for dataset: [30, 60, 90]):\n",
    "- upper bound 500, posterior mean: 130.71\n",
    "- upper bound 1000, posterior mean: 133.28\n",
    "- upper bound 2000, posterior mean: 133.997\n",
    "\n",
    "So the power law prior is more realistic, because it is based on general\n",
    "information about the size of companies, and it behaves better in practice."
   ]
  },
  {
   "cell_type": "code",
   "execution_count": null,
   "metadata": {},
   "outputs": [],
   "source": [
    "upLimits  = [500, 1000, 2000]\n",
    "cartNums = [30, 60, 90]\n",
    "testTrain = 0\n",
    "for upLimit in upLimits\n",
    "    testTrain = Pmf.Pmf(1:upLimit |> collect, collect(1:upLimit) .^ (-alpha))\n",
    "    testTrain.priors ./= sum(testTrain.priors)\n",
    "    foreach(x -> updateCounts!(testTrain, x), cartNums)\n",
    "    println(\"$upLimit: $(Pmf.getMeanPosterior(testTrain))\")\n",
    "end"
   ]
  },
  {
   "cell_type": "markdown",
   "metadata": {},
   "source": [
    "## Credible Intervals\n",
    "\n",
    "The `Pmf.getNameMaxPosterior` and `Pmf.getMeanPosterior` are both point\n",
    "estimates of the quantity we are interested in.\n",
    "\n",
    "Another way to summarize distribution is with percentiles.\n",
    "\n",
    "Given `x` we can compute its **percentile rank** by finding all values <= `x`\n",
    "and adding their probabilities."
   ]
  },
  {
   "cell_type": "code",
   "execution_count": null,
   "metadata": {},
   "outputs": [],
   "source": [
    "Pmf.getPosteriorsProbLEQ(testTrain, 100)"
   ]
  },
  {
   "cell_type": "code",
   "execution_count": null,
   "metadata": {},
   "outputs": [],
   "source": [
    "\"\"\"\n",
    "    Compute a quantile with the given prob.\n",
    "\"\"\"\n",
    "function getQuantile(pmf::Pmf.Pmf{T}, prob::Float64)::Float64 where {T<:Union{Int, Float64}}\n",
    "    @assert (0 <= prob <= 1) \"prob must be in range [0-1]\"\n",
    "    totalProb::Float64 = 0\n",
    "    for (q, p) in zip(pmf.names, pmf.posteriors)\n",
    "        totalProb += p\n",
    "        if totalProb >= prob\n",
    "            return q\n",
    "        end\n",
    "    end\n",
    "    return -99.0\n",
    "end"
   ]
  },
  {
   "cell_type": "code",
   "execution_count": null,
   "metadata": {},
   "outputs": [],
   "source": [
    "getQuantile(testTrain, 0.5)"
   ]
  },
  {
   "cell_type": "markdown",
   "metadata": {},
   "source": [
    "Now we can use it to get a 90% **credible interval**."
   ]
  },
  {
   "cell_type": "code",
   "execution_count": null,
   "metadata": {},
   "outputs": [],
   "source": [
    "[getQuantile(testTrain, q) for q in [0.05, 0.95]]"
   ]
  },
  {
   "cell_type": "code",
   "execution_count": null,
   "metadata": {},
   "outputs": [],
   "source": [
    "function getCredibleInterval(pmf::Pmf.Pmf{T}, ci::Float64)::Vector{T} where {T<:Union{Int, Float64}}\n",
    "    @assert (0.5 <= ci <= 0.99) \"ci must be in range [0.5 - 0.99]\"\n",
    "    halfCI::Float64 = ci / 2\n",
    "    return [getQuantile(pmf, q) for q in [0.5 - halfCI, 0.5 + halfCI]]\n",
    "end"
   ]
  },
  {
   "cell_type": "code",
   "execution_count": null,
   "metadata": {},
   "outputs": [],
   "source": [
    "getCredibleInterval(testTrain, 0.9)"
   ]
  },
  {
   "cell_type": "markdown",
   "metadata": {},
   "source": [
    "## The German Tank Problem\n",
    "\n",
    "During World War II a similar technique to the one used by us (`updateCounts`)\n",
    "was used to estimated the production of german tanks.\n",
    "\n",
    "For more on this problem, see [this Wikipedia page](https://en.wikipedia.org/wiki/German_tank_problem) and Ruggles and Brodie,\n",
    "[available here](https://web.archive.org/web/20170123132042/https://www.cia.gov/library/readingroom/docs/CIA-RDP79R01001A001300010013-3.pdf)."
   ]
  },
  {
   "cell_type": "markdown",
   "metadata": {},
   "source": [
    "## Informative Priors\n",
    "\n",
    "Two approaches to chose priors:\n",
    "- informative, based on background knowledge (downside: the choice is arbitrary)\n",
    "- unifnformative, as unrestricted as possible (some say more objective)\n",
    "\n",
    "With enough data the posteriors should converge anyway. Unfortunately with little data they will not.\n",
    "\n",
    "The author (A.B. Downey) recomemnds to use the first approach.\n"
   ]
  },
  {
   "cell_type": "markdown",
   "metadata": {},
   "source": [
    "## Exercises"
   ]
  },
  {
   "cell_type": "markdown",
   "metadata": {},
   "source": [
    "### Exercise 1\n",
    "\n",
    "Suppose you are giving a talk in a large lecture hall and the fire marshal\n",
    "interrupts because they think the audience exceeds 1200 people, which is the\n",
    "safe capacity of the room.\n",
    "\n",
    "You think there are fewer then 1200 people, and you offer to prove it. It would\n",
    "take too long to count, so you try an experiment:\n",
    "- You ask how many people were born on May 11 and two people raise their hands.\n",
    "- You ask how many were born on May 23 and 1 person raises their hand.\n",
    "- Finally, you ask how many were born on August 1, and no one raises their hand.\n",
    "\n",
    "How many people are in the audience? What is the probability that there are more\n",
    "than 1200 people.\n",
    "\n",
    "*Hint*: Remember the binomial distribution.\n"
   ]
  },
  {
   "cell_type": "code",
   "execution_count": null,
   "metadata": {},
   "outputs": [],
   "source": [
    "# uniform priors for counts from 200 to 2400 (below and above would be easy to visually discern it from 1200)\n",
    "ex1 = Pmf.getPmfFromSeq(200:2400 |> collect)\n",
    "# ex1.names - number of people in the lecture hall\n",
    "# ex1.priors - P(H)"
   ]
  },
  {
   "cell_type": "code",
   "execution_count": null,
   "metadata": {},
   "outputs": [],
   "source": [
    "# now I need P(D|H) - likeliehood\n",
    "# let's say a year got 365 days (we forget about leap years),\n",
    "# so probability that a person was born in a given day is 1/365\n",
    "# so P(D|H), that e.g. two people in the room are born on a given day can be\n",
    "# calculated pretty fast with Distributions package\n",
    "\n",
    "# 2 people born on May 11 for each postulated number of people in the lecture room\n",
    "twoPeoplMay11 = Dsts.pdf.(Dsts.Binomial.(ex1.names, 1/365), 2);\n",
    "# 1 pearson born on May 23 for each postulated number of people in the lecture room\n",
    "onePersMay25 = Dsts.pdf.(Dsts.Binomial.(ex1.names, 1/365), 1);\n",
    "# 0 people born on August 1 for each postulated number of people in the lecture room\n",
    "zeroPeoplAug1 = Dsts.pdf.(Dsts.Binomial.(ex1.names, 1/365), 0);"
   ]
  },
  {
   "cell_type": "code",
   "execution_count": null,
   "metadata": {},
   "outputs": [],
   "source": [
    "# since i got 2 people May 11 AND 1 person May 25 AND zero people Aug 1\n",
    "# then I can use probability multiplication\n",
    "# (assuming that the events are independent one from the other)\n",
    "ex1.likelihoods = twoPeoplMay11 .* onePersMay25 .* zeroPeoplAug1;"
   ]
  },
  {
   "cell_type": "code",
   "execution_count": null,
   "metadata": {},
   "outputs": [],
   "source": [
    "# and now for the posteriors\n",
    "Pmf.updatePosteriors!(ex1, true);"
   ]
  },
  {
   "cell_type": "code",
   "execution_count": null,
   "metadata": {},
   "outputs": [],
   "source": [
    "Pmf.drawLinesPosteriors(\n",
    "    ex1,\n",
    "    \"Lecture room problem\",\n",
    "    \"Number of people in the lecture room\",\n",
    "    \"PMF\"\n",
    "    )"
   ]
  },
  {
   "cell_type": "code",
   "execution_count": null,
   "metadata": {},
   "outputs": [],
   "source": [
    "# probability that there are more than 1200 people in the room\n",
    "1 - Pmf.getPosteriorsProbLEQ(ex1, 1199)"
   ]
  },
  {
   "cell_type": "code",
   "execution_count": null,
   "metadata": {},
   "outputs": [],
   "source": [
    "Pmf.getMeanPosterior(ex1)"
   ]
  },
  {
   "cell_type": "code",
   "execution_count": null,
   "metadata": {},
   "outputs": [],
   "source": [
    "getCredibleInterval(ex1, 0.95)"
   ]
  },
  {
   "cell_type": "markdown",
   "metadata": {},
   "source": [
    "### Exercise 2\n",
    "\n",
    "I often see rabbits in the garden behind my house, but it’s not easy to tell\n",
    "them apart, so I don’t really know how many there are.\n",
    "\n",
    "Suppose I deploy a motion-sensing camera trap that takes a picture of the first\n",
    "rabbit it sees each day. After three days, I compare the pictures and conclude\n",
    "that two of them are the same rabbit and the other is different.\n",
    "\n",
    "How many rabbits visit my garden?\n",
    "\n",
    "To answer this question, we have to think about the prior distribution and the\n",
    "likelihood of the data:\n",
    "- I have sometimes seen four rabbits at the same time, so I know there are at\n",
    "least that many. I would be surprised if there were more than 10. So, at least\n",
    "as a starting place, I think a uniform prior from 4 to 10 is reasonable.\n",
    "- To keep things simple, let’s assume that all rabbits who visit my garden are\n",
    "equally likely to be caught by the camera trap in a given day. Let’s also assume\n",
    "it is guaranteed that the camera trap gets a picture every day."
   ]
  },
  {
   "cell_type": "code",
   "execution_count": null,
   "metadata": {},
   "outputs": [],
   "source": [
    "ex2 = Pmf.Pmf(4:10 |> collect, 1 ./ collect(4:10))"
   ]
  },
  {
   "cell_type": "code",
   "execution_count": null,
   "metadata": {},
   "outputs": [],
   "source": [
    "# so what is P(D|H)\n",
    "\n",
    "# I got two the same rabbits and one different\n",
    "# so I got one of the sequences:\n",
    "# AAB or ABA or BAA (twice the same, and one different rabbit)\n",
    "# so for 4 rabbits and observation: AAB, I got:\n",
    "# 1/4 (seeing rabbit A) and 1/4 (seeing rabbit A) and 3/4 (seeing other rabbit)\n",
    "# so in general: P(s) * P(s) * (1-P(s)) = P(s)^2 * (1-P(s))\n",
    "# the same probability is for other two options\n",
    "# so: (P(s)^2 * (1-P(s)))*3\n",
    "\n",
    "function getProbAABrabbits(probRabbitA::Float64)::Float64\n",
    "    @assert (0 <= probRabbitA <= 1) \"probability must be in range [0-1]\"\n",
    "    return 3 * ((probRabbitA ^ 2) * (1 - probRabbitA))\n",
    "end\n",
    "\n",
    "ex2.likelihoods = getProbAABrabbits.(ex2.priors);"
   ]
  },
  {
   "cell_type": "code",
   "execution_count": null,
   "metadata": {},
   "outputs": [],
   "source": [
    "Pmf.updatePosteriors!(ex2, true);"
   ]
  },
  {
   "cell_type": "code",
   "execution_count": null,
   "metadata": {},
   "outputs": [],
   "source": [
    "Pmf.drawLinesPosteriors(\n",
    "    ex2,\n",
    "    \"Rabbits in the garden estimate based on a phototrap\",\n",
    "    \"Number of rabbits\",\n",
    "    \"PMF\"\n",
    ")"
   ]
  },
  {
   "cell_type": "markdown",
   "metadata": {},
   "source": [
    "### Exercise 3\n",
    "\n",
    "Suppose that in the criminal justice system, all prison sentences are either 1,\n",
    "2, or 3 years, with an equal number of each. One day, you visit a prison and\n",
    "choose a prisoner at random. What is the probability that they are serving a\n",
    "3-year sentence? What is the average remaining sentence of the prisoners you\n",
    "observe?"
   ]
  },
  {
   "cell_type": "code",
   "execution_count": null,
   "metadata": {},
   "outputs": [],
   "source": [
    "# names are sentences\n",
    "# priors are probabilities of getting such a sentence at random\n",
    "# while visiting a prison\n",
    "ex3 = Pmf.Pmf(1:3 |> collect, 1:3 |> collect)"
   ]
  },
  {
   "cell_type": "markdown",
   "metadata": {},
   "source": [
    "Priors should not be uniform (in the code snippet above they are not) if 1, 2, 3 years sententences are equally distributed.\n",
    "\n",
    "Explanation: \n",
    "- we start with: 1, 2, 3, (1, 2, 3 years remained),\n",
    "- after 1 yr we release the old 1yr and got: 2 (1 yr remained), 3 (2 years remained) + newly sentenced: 1, 2, 3 (1, 2, 3 years remained),\n",
    "- after another yr we reduce the time left and again add newly sentenced.\n",
    "\n",
    "So at any moment there should be more 3years than 2 years and 1 years (3 > 2 > 1).\n",
    "\n",
    "So, P(3 years sentence) = 0.5\n",
    "\n",
    "The average remaining sentence is:\n",
    "- 3yr, 2yr, 1yr (for 3 year sentence)\n",
    "- 2yr, 1yr (for 2 year sentence)\n",
    "- 1yr (for 1 year sentence)\n",
    "\n",
    "So: (3+2+1+2+1+1)/6 = 10/6 = $\\frac{10}{6} = \\frac{5}{3} = 1\\frac{2}{3} = 1.66(7)$\n"
   ]
  },
  {
   "cell_type": "markdown",
   "metadata": {},
   "source": [
    "Confirmation with a computer simulation"
   ]
  },
  {
   "cell_type": "code",
   "execution_count": null,
   "metadata": {},
   "outputs": [],
   "source": [
    "mutable struct Prisoner\n",
    "    sentenceYrs::Int\n",
    "    remainedYrs::Int\n",
    "end"
   ]
  },
  {
   "cell_type": "code",
   "execution_count": null,
   "metadata": {},
   "outputs": [],
   "source": [
    "prisoners = [Prisoner(i, i) for i in 1:3]"
   ]
  },
  {
   "cell_type": "code",
   "execution_count": null,
   "metadata": {},
   "outputs": [],
   "source": [
    "# a cycle is 3 years\n",
    "function runNYears!(pris::Vector{<:Prisoner}, nYrs::Int = 3)\n",
    "    for  _ in 1:nYrs\n",
    "        foreach(p -> p.remainedYrs -= 1, pris)\n",
    "        filter!(p -> p.remainedYrs != 0, pris)\n",
    "        append!(pris, [Prisoner(i, i) for i in 1:3])\n",
    "    end\n",
    "end"
   ]
  },
  {
   "cell_type": "code",
   "execution_count": null,
   "metadata": {},
   "outputs": [],
   "source": [
    "runNYears!(prisoners)"
   ]
  },
  {
   "cell_type": "code",
   "execution_count": null,
   "metadata": {},
   "outputs": [],
   "source": [
    "prisoners"
   ]
  },
  {
   "cell_type": "code",
   "execution_count": null,
   "metadata": {},
   "outputs": [],
   "source": [
    "length(filter(p -> p.sentenceYrs == 3, prisoners)) / length(prisoners)"
   ]
  },
  {
   "cell_type": "code",
   "execution_count": null,
   "metadata": {},
   "outputs": [],
   "source": [
    "sum(map(p -> p.remainedYrs, prisoners)) / length(prisoners)"
   ]
  }
 ],
 "metadata": {
  "kernelspec": {
   "display_name": "Julia 1.9.3",
   "language": "julia",
   "name": "julia-1.9"
  },
  "language_info": {
   "file_extension": ".jl",
   "mimetype": "application/julia",
   "name": "julia",
   "version": "1.9.3"
  }
 },
 "nbformat": 4,
 "nbformat_minor": 2
}
