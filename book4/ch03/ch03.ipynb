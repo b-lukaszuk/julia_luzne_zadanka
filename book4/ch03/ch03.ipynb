{
 "cells": [
  {
   "cell_type": "markdown",
   "id": "57e968d5",
   "metadata": {},
   "source": [
    "# Chapter 3. Distributions\n",
    "[Link to chapter online](https://allendowney.github.io/ThinkBayes2/chap03.html)\n",
    "\n",
    "A reminder of Bayes’s Theorem:\n",
    "\n",
    "$P(A|B) = \\frac{P(A)P(B|A)}{P(B)}$\n",
    "\n",
    "or\n",
    "\n",
    "$P(H|D) = \\frac{P(H)P(D|H)}{P(D)}$"
   ]
  },
  {
   "cell_type": "markdown",
   "id": "4350a5e3",
   "metadata": {},
   "source": [
    "## Warning\n",
    "\n",
    "The content of this file may be incorrect, erroneous and/or harmful. Use it at Your own risk."
   ]
  },
  {
   "cell_type": "markdown",
   "id": "d3e42113",
   "metadata": {},
   "source": [
    "## Imports"
   ]
  },
  {
   "cell_type": "code",
   "execution_count": null,
   "id": "b5f34f9d",
   "metadata": {},
   "outputs": [],
   "source": [
    "import StatsBase as Sb"
   ]
  },
  {
   "cell_type": "markdown",
   "id": "5ec5f5b6",
   "metadata": {},
   "source": [
    "## Functionality developed in this chapter"
   ]
  },
  {
   "cell_type": "code",
   "execution_count": null,
   "id": "524cec93",
   "metadata": {},
   "outputs": [],
   "source": [
    "mutable struct Pmf{T}\n",
    "    names::Vector{T} # names of hypotheses\n",
    "    priors::Vector{Float64}\n",
    "    likelihoods::Vector{Float64}\n",
    "    posteriors::Vector{Float64}\n",
    "\n",
    "    Pmf(ns::Vector{Int}, prs) = (length(ns) != length(prs)) ?\n",
    "        error(\"length(names) must be equal length(priors)\") :\n",
    "        new{Int}(\n",
    "            ns, prs, zeros(length(ns)), zeros(length(ns))\n",
    "        )\n",
    "\n",
    "    Pmf(ns::Vector{Float64}, prs) = (length(ns) != length(prs)) ?\n",
    "        error(\"length(names) must be equal length(priors)\") :\n",
    "        new{Float64}(\n",
    "            ns, prs, zeros(length(ns)), zeros(length(ns))\n",
    "        )\n",
    "\n",
    "    Pmf(ns::Vector{String}, prs) = (length(ns) != length(prs)) ?\n",
    "        error(\"length(names) must be equal length(priors)\") :\n",
    "        new{String}(\n",
    "            ns, prs, zeros(length(ns)), zeros(length(ns))\n",
    "        )\n",
    "end\n",
    "\n",
    "function Base.show(io::IO, pmf::Pmf)\n",
    "    result = \"names: $(join(pmf.names, \", \"))\\n\"\n",
    "    result = result * \"priors: $(join(map(x -> round(x, digits=3) |> string, pmf.priors), \", \"))\\n\"\n",
    "    result = result * \"likelihoods: $(join(map(x -> round(x, digits=3) |> string, pmf.likelihoods), \", \"))\\n\"\n",
    "    result = result * \"posteriors: $(join(map(x -> round(x, digits=3) |> string, pmf.posteriors), \", \"))\\n\"\n",
    "    print(io, result)\n",
    "end"
   ]
  },
  {
   "cell_type": "code",
   "execution_count": null,
   "id": "ca516e7c",
   "metadata": {},
   "outputs": [],
   "source": [
    "function getPmfFromSeq(seq::Vector{T})::Pmf{T} where T\n",
    "    probs::Dict{T, Float64} = Sb.proportionmap(seq)\n",
    "    sortedKeys::Vector{T} = keys(probs) |> collect |> sort\n",
    "    sortedVals::Vector{Float64} = [probs[k] for k in sortedKeys]\n",
    "    return Pmf(sortedKeys, sortedVals)\n",
    "end"
   ]
  },
  {
   "cell_type": "code",
   "execution_count": null,
   "id": "d16b83f9",
   "metadata": {},
   "outputs": [],
   "source": [
    "function getFieldValsEqName(pmf::Pmf{T}, name::T, fieldName::String, default) where T\n",
    "    ind = findfirst(x -> x == name, getproperty(pmf, Symbol(\"names\")))\n",
    "    return isnothing(ind) ? default : getproperty(pmf, Symbol(fieldName))[ind]\n",
    "end"
   ]
  },
  {
   "cell_type": "code",
   "execution_count": null,
   "id": "e46dc064",
   "metadata": {},
   "outputs": [],
   "source": [
    "function getPriorByName(pmf::Pmf{T}, name::T)::Float64 where T\n",
    "    return getFieldValsEqName(pmf, name, \"priors\", 0.0)\n",
    "end\n",
    "\n",
    "function getPriorsByNames(pmf::Pmf{T}, names::Vector{T})::Vector{Float64} where T\n",
    "    return map(n -> getPriorByName(pmf, n), names)\n",
    "end"
   ]
  },
  {
   "cell_type": "markdown",
   "id": "bb43b206",
   "metadata": {},
   "source": [
    "## Probability Mass Function"
   ]
  },
  {
   "cell_type": "code",
   "execution_count": null,
   "id": "d775f898",
   "metadata": {},
   "outputs": [],
   "source": [
    "coin = getPmfFromSeq([\"heads\", \"tails\"])"
   ]
  },
  {
   "cell_type": "code",
   "execution_count": null,
   "id": "92e5183c",
   "metadata": {},
   "outputs": [],
   "source": [
    "die = getPmfFromSeq(collect(1:6))"
   ]
  },
  {
   "cell_type": "code",
   "execution_count": null,
   "id": "f17ff401",
   "metadata": {},
   "outputs": [],
   "source": [
    "letters = getPmfFromSeq(Vector{String}(split(\"Mississippi\", \"\")))"
   ]
  },
  {
   "cell_type": "code",
   "execution_count": null,
   "id": "268ae830",
   "metadata": {},
   "outputs": [],
   "source": [
    "getPriorByName(letters, \"s\")"
   ]
  },
  {
   "cell_type": "code",
   "execution_count": null,
   "id": "026819d5",
   "metadata": {},
   "outputs": [],
   "source": [
    "getPriorByName(letters, \"t\")"
   ]
  },
  {
   "cell_type": "code",
   "execution_count": null,
   "id": "a013c00c",
   "metadata": {},
   "outputs": [],
   "source": [
    "getPriorsByNames(die, [1, 4, 7])"
   ]
  }
 ],
 "metadata": {
  "kernelspec": {
   "display_name": "Julia 1.9.3",
   "language": "julia",
   "name": "julia-1.9"
  },
  "language_info": {
   "file_extension": ".jl",
   "mimetype": "application/julia",
   "name": "julia",
   "version": "1.9.3"
  },
  "name": "Untitled.ipynb"
 },
 "nbformat": 4,
 "nbformat_minor": 5
}
