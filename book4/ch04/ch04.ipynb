{
  "cells": [
    {
      "cell_type": "markdown",
      "metadata": {},
      "source": [
        "# Chapter 4. Estimating Proportions\n",
        "[Link to chapter online](https://allendowney.github.io/ThinkBayes2/chap04.html)\n",
        "\n",
        "A reminder of Bayes’s Theorem:\n",
        "\n",
        "$P(A|B) = \\frac{P(A)P(B|A)}{P(B)}$\n",
        "\n",
        "or\n",
        "\n",
        "$P(H|D) = \\frac{P(H)P(D|H)}{P(D)}$"
      ]
    },
    {
      "cell_type": "markdown",
      "metadata": {},
      "source": [
        "## Warning\n",
        "\n",
        "The content of this file may be incorrect, erroneous and/or harmful. Use it at Your own risk."
      ]
    },
    {
      "cell_type": "markdown",
      "metadata": {},
      "source": [
        "## Imports"
      ]
    },
    {
      "cell_type": "code",
      "execution_count": null,
      "metadata": {},
      "outputs": [],
      "source": [
        "import CairoMakie as Cmk\n",
        "import Distributions as Dsts"
      ]
    },
    {
      "cell_type": "code",
      "execution_count": null,
      "metadata": {},
      "outputs": [],
      "source": [
        "include(\"pmf.jl\")\n",
        "import .ProbabilityMassFunction as Pmf"
      ]
    },
    {
      "cell_type": "markdown",
      "metadata": {},
      "source": [
        "## The Euro Problem\n",
        "\n",
        "In Information Theory, Inference, and Learning Algorithms, David MacKay poses this problem:\n",
        "\n",
        "“A statistical statement appeared in The Guardian on Friday January 4, 2002:\n",
        "\n",
        "> When spun on edge 250 times, a Belgian one-euro coin came up heads 140 times\n",
        "> and tails 110. \"It looks very suspicious to me\", said Barry Blight, a statistics\n",
        "> lecturer at the London School of Economics. \"If the coin were unbiased, the\n",
        "> chance of getting a result as extreme as that would be less than 7%.\"\n",
        "\n",
        "“But [MacKay asks] do these data give evidence that the coin is biased rather than fair?”\n",
        "\n",
        "\n"
      ]
    },
    {
      "cell_type": "markdown",
      "metadata": {},
      "source": [
        "## The Binomial Distribution\n",
        "\n",
        "The probability that we get a total of $k$ heads is given by the [binomial distribution](https://en.wikipedia.org/wiki/Binomial_distribution):\n",
        "\n",
        "$\\binom{n}{k}*p^{k}*(1-p)^{n-k}$\n",
        "\n",
        "for any value of $k$ from 0 to $n$, including both.\n",
        "\n",
        "The term $\\binom{n}{k}$ is the binomial coefficient, usually pronounced “n choose k”.\n",
        "\n",
        "We could evaluate the expression ourselves or use a library, like so"
      ]
    },
    {
      "cell_type": "code",
      "execution_count": null,
      "metadata": {},
      "outputs": [],
      "source": [
        "n = 2\n",
        "p = 0.5\n",
        "k = 1\n",
        "\n",
        "Dsts.pdf(Dsts.Binomial(n, p), k) |> x -> round(x, digits=3)"
      ]
    },
    {
      "cell_type": "markdown",
      "metadata": {},
      "source": [
        "We can also use multiple values of $k$ with the functions"
      ]
    },
    {
      "cell_type": "code",
      "execution_count": null,
      "metadata": {},
      "outputs": [],
      "source": [
        "ks = 0:1:n |> collect\n",
        "ps = Dsts.pdf.(Dsts.Binomial(n, p))\n",
        "ps = map(x -> round(x, digits=3), ps)\n",
        "ps"
      ]
    },
    {
      "cell_type": "markdown",
      "metadata": {},
      "source": [
        "We can put these probabilities in a `Pmf`"
      ]
    },
    {
      "cell_type": "code",
      "execution_count": null,
      "metadata": {},
      "outputs": [],
      "source": [
        "pmfK = Pmf.Pmf(ks, ps)\n",
        "pmfK"
      ]
    },
    {
      "cell_type": "markdown",
      "metadata": {},
      "source": [
        "Here's what it looks like with `n=250` and `p=0.5`:"
      ]
    },
    {
      "cell_type": "code",
      "execution_count": null,
      "metadata": {},
      "outputs": [],
      "source": [
        "pmfK = Pmf.getBinomialPmf(250, 0.5)"
      ]
    },
    {
      "cell_type": "code",
      "execution_count": null,
      "metadata": {},
      "outputs": [],
      "source": [
        "fig = Pmf.drawLinesPriors(pmfK,\n",
        "    \"Binomial Distribution (n=250, p=0.5)\",\n",
        "    \"Number of heads (k)\",\n",
        "    \"PMF\"\n",
        "    )\n",
        "fig"
      ]
    },
    {
      "cell_type": "code",
      "execution_count": null,
      "metadata": {},
      "outputs": [],
      "source": [
        "Pmf.getNameMaxPrior(pmfK)"
      ]
    },
    {
      "cell_type": "code",
      "execution_count": null,
      "metadata": {},
      "outputs": [],
      "source": [
        "# (125 + 1) because Julia's indexing starts at 1\n",
        "pmfK.priors[126]"
      ]
    },
    {
      "cell_type": "markdown",
      "metadata": {},
      "source": [
        "In MacKay's example, we got 140 heads, which is even less liekly than 125:"
      ]
    },
    {
      "cell_type": "code",
      "execution_count": null,
      "metadata": {},
      "outputs": [],
      "source": [
        "# (140 + 1) because Julia's indexing starts at 1\n",
        "pmfK.priors[141]"
      ]
    },
    {
      "cell_type": "code",
      "execution_count": null,
      "metadata": {},
      "outputs": [],
      "source": [
        "Pmf.getTotalProbGEName(pmfK, \"priors\", 140)"
      ]
    },
    {
      "cell_type": "markdown",
      "metadata": {},
      "source": [
        "The result is about 3.3%, which is less than the quoted 7%. The reason for the difference is that the statistician includes all outcomes “as extreme as” 140, which includes outcomes less than or equal to 110. (two tailed probability)"
      ]
    },
    {
      "cell_type": "code",
      "execution_count": null,
      "metadata": {},
      "outputs": [],
      "source": [
        "Pmf.getTotalProbGEName(pmfK, \"priors\", 140) * 2"
      ]
    },
    {
      "cell_type": "code",
      "execution_count": null,
      "metadata": {},
      "outputs": [],
      "source": [
        "# alternative solution (without Pmf)\n",
        "Dsts.cdf(Dsts.Binomial(250, 0.5), 110) +\n",
        "Dsts.ccdf(Dsts.Binomial(250, 0.5), 139)\n",
        "# or just\n",
        "# Dsts.cdf(Dsts.Binomial(250, 0.5), 110) * 2"
      ]
    },
    {
      "cell_type": "markdown",
      "metadata": {},
      "source": [
        "## Bayesian Estimation"
      ]
    },
    {
      "cell_type": "code",
      "execution_count": null,
      "metadata": {},
      "outputs": [],
      "source": [
        "# coins with different probs of getting heads\n",
        "coins = Pmf.getPmfFromSeq(range(0, 1, 101) |> collect)"
      ]
    },
    {
      "cell_type": "code",
      "execution_count": null,
      "metadata": {},
      "outputs": [],
      "source": [
        "likelihood_heads = copy(coins.names)\n",
        "likelihood_tails = 1 .- likelihood_heads\n",
        "\n",
        "likelihood_mapping = Dict(\n",
        "   'h' => likelihood_heads,\n",
        "   't' => likelihood_tails\n",
        ")"
      ]
    },
    {
      "cell_type": "code",
      "execution_count": null,
      "metadata": {},
      "outputs": [],
      "source": [
        "dataset = \"h\" ^ 140 * \"t\" ^ 110"
      ]
    },
    {
      "cell_type": "code",
      "execution_count": null,
      "metadata": {},
      "outputs": [],
      "source": [
        "\"\"\"\n",
        "    Update pmf with a given sequence of h and t\n",
        "\"\"\"\n",
        "function update_euro!(\n",
        "    coins::Pmf.Pmf{T},\n",
        "    dataset::String,\n",
        "    prob_mapping::Dict{Char,Vector{Float64}}) where {T<:Union{Int,String,Float64}}\n",
        "\n",
        "    coins.likelihoods .= 1\n",
        "    for data in dataset\n",
        "\t\tcoins.likelihoods .*= prob_mapping[data]\n",
        "        # coins.likelihoods = coins.likelihoods ./ sum(coins.likelihoods)\n",
        "\tend\n",
        "\tPmf.updatePosteriors!(coins, true)\n",
        "    return nothing\n",
        "\n",
        "end"
      ]
    },
    {
      "cell_type": "code",
      "execution_count": null,
      "metadata": {},
      "outputs": [],
      "source": [
        "update_euro!(coins, dataset, likelihood_mapping)"
      ]
    },
    {
      "cell_type": "code",
      "execution_count": null,
      "metadata": {},
      "outputs": [],
      "source": [
        "fig = Pmf.drawLinesPosteriors(coins,\n",
        "    \"Binomial Distribution (n=250, p=0.5),\\n140/250 heads\",\n",
        "    \"Number of heads (k)\",\n",
        "    \"PMF\"\n",
        "    )\n",
        "fig"
      ]
    },
    {
      "cell_type": "code",
      "execution_count": null,
      "metadata": {},
      "outputs": [],
      "source": [
        "# index of coins with max priors\n",
        "Pmf.getIndMaxPosterior(coins)"
      ]
    },
    {
      "cell_type": "code",
      "execution_count": null,
      "metadata": {},
      "outputs": [],
      "source": [
        "# value for heads with max priors\n",
        "Pmf.getNameMaxPosterior(coins)"
      ]
    },
    {
      "cell_type": "markdown",
      "metadata": {},
      "source": [
        "## Triangle prior\n",
        "\n",
        "Comparison between two priors:\n",
        "- uniform\n",
        "- triangle shaped"
      ]
    },
    {
      "cell_type": "code",
      "execution_count": null,
      "metadata": {},
      "outputs": [],
      "source": [
        "uniform = Pmf.getPmfFromSeq(range(0, 1, 101) |> collect)"
      ]
    },
    {
      "cell_type": "code",
      "execution_count": null,
      "metadata": {},
      "outputs": [],
      "source": [
        "shape = vcat(0:49, 50:-1:0)\n",
        "shape = shape ./ sum(shape)\n",
        "triangle = Pmf.Pmf(range(0, 1, 101) |> collect, shape)"
      ]
    },
    {
      "cell_type": "code",
      "execution_count": null,
      "metadata": {},
      "outputs": [],
      "source": [
        "fig = Cmk.Figure(size=(600, 400))\n",
        "Cmk.lines(fig[1, 1], uniform.names, uniform.priors,\n",
        "    color=\"blue\",\n",
        "    axis=(;\n",
        "        title=\"Uniform and triangle distributions\",\n",
        "        xlabel=\"Proportion of heads (x)\",\n",
        "        ylabel=\"Probability\")\n",
        "    )\n",
        "Cmk.lines!(fig[1, 1], triangle.names, triangle.priors, color=\"orange\")\n",
        "fig"
      ]
    },
    {
      "cell_type": "code",
      "execution_count": null,
      "metadata": {},
      "outputs": [],
      "source": [
        "update_euro!(uniform, dataset, likelihood_mapping);\n",
        "update_euro!(triangle, dataset, likelihood_mapping);"
      ]
    },
    {
      "cell_type": "code",
      "execution_count": null,
      "metadata": {},
      "outputs": [],
      "source": [
        "fig = Cmk.Figure(size=(600, 400))\n",
        "Cmk.lines(fig[1, 1], uniform.names, uniform.posteriors,\n",
        "    color=\"blue\",\n",
        "    axis=(;\n",
        "        title=\"Uniform and triangle distributions\",\n",
        "        xlabel=\"Proportion of heads (x)\",\n",
        "        ylabel=\"Probability\")\n",
        "    )\n",
        "Cmk.lines!(fig[1, 1], triangle.names, triangle.posteriors, color=\"orange\")\n",
        "fig"
      ]
    },
    {
      "cell_type": "markdown",
      "metadata": {},
      "source": [
        "This is an example of **swamping the priors**: with enough data, people who start with different priors will tend to converge on the same posterior distribution."
      ]
    }
  ],
  "metadata": {
    "kernelspec": {
      "display_name": "Julia 1.9.3",
      "language": "julia",
      "name": "julia-1.9"
    },
    "language_info": {
      "file_extension": ".jl",
      "mimetype": "application/julia",
      "name": "julia",
      "version": "1.9.3"
    },
    "name": "Untitled.ipynb"
  },
  "nbformat": 4,
  "nbformat_minor": 5
}
