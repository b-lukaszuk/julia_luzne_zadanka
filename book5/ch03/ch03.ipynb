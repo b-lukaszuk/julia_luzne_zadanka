{
 "cells": [
  {
   "cell_type": "markdown",
   "id": "756018ac-fc3b-4f6a-9c0b-39b231d378c4",
   "metadata": {
    "collapsed": false,
    "jupyter": {
     "outputs_hidden": false
    }
   },
   "source": [
    "# Ch03. Recursion"
   ]
  },
  {
   "cell_type": "markdown",
   "id": "64b96b92",
   "metadata": {},
   "source": [
    "## Imports"
   ]
  },
  {
   "cell_type": "code",
   "execution_count": null,
   "id": "3616ed27",
   "metadata": {},
   "outputs": [],
   "source": [
    "import StatsBase as Sb"
   ]
  },
  {
   "cell_type": "markdown",
   "id": "054da63e",
   "metadata": {},
   "source": [
    "## Custom types"
   ]
  },
  {
   "cell_type": "code",
   "execution_count": null,
   "id": "82b8fc6d",
   "metadata": {},
   "outputs": [],
   "source": [
    "Num = Union{Int,Float64}"
   ]
  },
  {
   "cell_type": "markdown",
   "id": "720e36fd",
   "metadata": {},
   "source": [
    "## Recursion"
   ]
  },
  {
   "cell_type": "code",
   "execution_count": null,
   "id": "453cae93",
   "metadata": {},
   "outputs": [],
   "source": [
    "function countdown(i::Int)\n",
    "   println(\"$i\")\n",
    "   if i > 0\n",
    "    return countdown(i-1)\n",
    "   end\n",
    "end"
   ]
  },
  {
   "cell_type": "code",
   "execution_count": null,
   "id": "71ad72c2",
   "metadata": {},
   "outputs": [],
   "source": [
    "countdown(-3)"
   ]
  },
  {
   "cell_type": "code",
   "execution_count": null,
   "id": "9ee6b4ac",
   "metadata": {},
   "outputs": [],
   "source": [
    "countdown(7)"
   ]
  },
  {
   "cell_type": "code",
   "execution_count": null,
   "id": "71ba26d1",
   "metadata": {},
   "outputs": [],
   "source": [
    "function getFactorial(x::Int)::Int\n",
    "    return (x <= 1) ?  1 : (x * getFactorial(x-1))\n",
    "end"
   ]
  },
  {
   "cell_type": "code",
   "execution_count": null,
   "id": "c3a243b6",
   "metadata": {},
   "outputs": [],
   "source": [
    "for i in Sb.sample(1:8, 4, replace=false)\n",
    "    println(\"factorial($i) = $(getFactorial(i))\")\n",
    "end"
   ]
  }
 ],
 "metadata": {
  "kernelspec": {
   "display_name": "Julia 1.10.2",
   "language": "julia",
   "name": "julia-1.10"
  },
  "language_info": {
   "file_extension": ".jl",
   "mimetype": "application/julia",
   "name": "julia",
   "version": "1.10.2"
  },
  "name": "ch03.ipynb"
 },
 "nbformat": 4,
 "nbformat_minor": 5
}
