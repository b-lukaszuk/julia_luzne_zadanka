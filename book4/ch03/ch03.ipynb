{
 "cells": [
  {
   "cell_type": "markdown",
   "id": "57e968d5",
   "metadata": {},
   "source": [
    "# Chapter 3. Distributions\n",
    "[Link to chapter online](https://allendowney.github.io/ThinkBayes2/chap03.html)\n",
    "\n",
    "A reminder of Bayes’s Theorem:\n",
    "\n",
    "$P(A|B) = \\frac{P(A)P(B|A)}{P(B)}$\n",
    "\n",
    "or\n",
    "\n",
    "$P(H|D) = \\frac{P(H)P(D|H)}{P(D)}$"
   ]
  },
  {
   "cell_type": "markdown",
   "id": "4350a5e3",
   "metadata": {},
   "source": [
    "## Warning\n",
    "\n",
    "The content of this file may be incorrect, erroneous and/or harmful. Use it at Your own risk."
   ]
  },
  {
   "cell_type": "markdown",
   "id": "d3e42113",
   "metadata": {},
   "source": [
    "## Imports"
   ]
  },
  {
   "cell_type": "code",
   "execution_count": null,
   "id": "b5f34f9d",
   "metadata": {},
   "outputs": [],
   "source": [
    "import StatsBase as Sb"
   ]
  },
  {
   "cell_type": "markdown",
   "id": "5ec5f5b6",
   "metadata": {},
   "source": [
    "## Functionality developed in this chapter"
   ]
  },
  {
   "cell_type": "code",
   "execution_count": null,
   "id": "524cec93",
   "metadata": {},
   "outputs": [],
   "source": [
    "mutable struct Pmf{T}\n",
    "    names::Vector{T} # names of hypotheses\n",
    "    priors::Vector{Float64}\n",
    "    likelihoods::Vector{Float64}\n",
    "    posteriors::Vector{Float64}\n",
    "\n",
    "    Pmf(ns::Vector{Int}, prs) = (length(ns) != length(prs)) ?\n",
    "        error(\"length(names) must be equal length(priors)\") :\n",
    "        new{Int}(\n",
    "            ns, prs, zeros(length(ns)), zeros(length(ns))\n",
    "        )\n",
    "\n",
    "    Pmf(ns::Vector{Float64}, prs) = (length(ns) != length(prs)) ?\n",
    "        error(\"length(names) must be equal length(priors)\") :\n",
    "        new{Float64}(\n",
    "            ns, prs, zeros(length(ns)), zeros(length(ns))\n",
    "        )\n",
    "\n",
    "    Pmf(ns::Vector{String}, prs) = (length(ns) != length(prs)) ?\n",
    "        error(\"length(names) must be equal length(priors)\") :\n",
    "        new{String}(\n",
    "            ns, prs, zeros(length(ns)), zeros(length(ns))\n",
    "        )\n",
    "end\n",
    "\n",
    "function Base.show(io::IO, pmf::Pmf)\n",
    "    result = \"names: $(join(pmf.names, \", \"))\\n\"\n",
    "    result = result * \"priors: $(join(map(x -> round(x, digits=3) |> string, pmf.priors), \", \"))\\n\"\n",
    "    result = result * \"likelihoods: $(join(map(x -> round(x, digits=3) |> string, pmf.likelihoods), \", \"))\\n\"\n",
    "    result = result * \"posteriors: $(join(map(x -> round(x, digits=3) |> string, pmf.posteriors), \", \"))\\n\"\n",
    "    print(io, result)\n",
    "end"
   ]
  },
  {
   "cell_type": "code",
   "execution_count": null,
   "id": "ca516e7c",
   "metadata": {},
   "outputs": [],
   "source": [
    "function getPmfFromSeq(seq::Vector{T})::Pmf{T} where T\n",
    "    probs::Dict{T, Float64} = Sb.proportionmap(seq)\n",
    "    sortedKeys::Vector{T} = keys(probs) |> collect |> sort\n",
    "    sortedVals::Vector{Float64} = [probs[k] for k in sortedKeys]\n",
    "    return Pmf(sortedKeys, sortedVals)\n",
    "end"
   ]
  },
  {
   "cell_type": "code",
   "execution_count": null,
   "id": "d16b83f9",
   "metadata": {},
   "outputs": [],
   "source": [
    "function getFieldValsEqName(pmf::Pmf{T}, name::T, fieldName::String, default) where T\n",
    "    ind = findfirst(x -> x == name, getproperty(pmf, Symbol(\"names\")))\n",
    "    return isnothing(ind) ? default : getproperty(pmf, Symbol(fieldName))[ind]\n",
    "end"
   ]
  },
  {
   "cell_type": "code",
   "execution_count": null,
   "id": "e46dc064",
   "metadata": {},
   "outputs": [],
   "source": [
    "function getPriorByName(pmf::Pmf{T}, name::T)::Float64 where T\n",
    "    return getFieldValsEqName(pmf, name, \"priors\", 0.0)\n",
    "end\n",
    "\n",
    "function getPriorsByNames(pmf::Pmf{T}, names::Vector{T})::Vector{Float64} where T\n",
    "    return map(n -> getPriorByName(pmf, n), names)\n",
    "end"
   ]
  },
  {
   "cell_type": "code",
   "execution_count": null,
   "id": "0333190d",
   "metadata": {},
   "outputs": [],
   "source": [
    "function updatePosteriors!(pmf::Pmf{T}, normalize::Bool=true) where T\n",
    "    unnorms::Vector{Float64} = pmf.priors .* pmf.likelihoods\n",
    "    if normalize\n",
    "        pmf.posteriors = unnorms ./ sum(unnorms)\n",
    "    else\n",
    "        pmf.posteriors = unnorms\n",
    "    end\n",
    "end\n",
    "\n",
    "function normalizePosteriors!(pmf::Pmf{T}) where T\n",
    "    pmf.posteriors = pmf.posteriors ./ sum(pmf.posteriors)\n",
    "end"
   ]
  },
  {
   "cell_type": "markdown",
   "id": "bb43b206",
   "metadata": {},
   "source": [
    "## Probability Mass Function"
   ]
  },
  {
   "cell_type": "code",
   "execution_count": null,
   "id": "d775f898",
   "metadata": {},
   "outputs": [],
   "source": [
    "coin = getPmfFromSeq([\"heads\", \"tails\"])"
   ]
  },
  {
   "cell_type": "code",
   "execution_count": null,
   "id": "92e5183c",
   "metadata": {},
   "outputs": [],
   "source": [
    "die = getPmfFromSeq(collect(1:6))"
   ]
  },
  {
   "cell_type": "code",
   "execution_count": null,
   "id": "f17ff401",
   "metadata": {},
   "outputs": [],
   "source": [
    "letters = getPmfFromSeq(Vector{String}(split(\"Mississippi\", \"\")))"
   ]
  },
  {
   "cell_type": "code",
   "execution_count": null,
   "id": "268ae830",
   "metadata": {},
   "outputs": [],
   "source": [
    "getPriorByName(letters, \"s\")"
   ]
  },
  {
   "cell_type": "code",
   "execution_count": null,
   "id": "026819d5",
   "metadata": {},
   "outputs": [],
   "source": [
    "getPriorByName(letters, \"t\")"
   ]
  },
  {
   "cell_type": "code",
   "execution_count": null,
   "id": "a013c00c",
   "metadata": {},
   "outputs": [],
   "source": [
    "getPriorsByNames(die, [1, 4, 7])"
   ]
  },
  {
   "cell_type": "markdown",
   "id": "2dbc20a0",
   "metadata": {},
   "source": [
    "## The Cookie Problem Revisited\n",
    "\n",
    "> Suppose there are two bowls of cookies.\n",
    ">\n",
    "> Bowl 1 contains 30 vanilla cookies and 10 chocolate cookies.\n",
    ">\n",
    "> Bowl 2 contains 20 vanilla cookies and 20 chocolate cookies.\n",
    ">\n",
    "> Now suppose you choose one of the bowls at random and, without looking, choose a cookie at random. If the cookie is vanilla, what is the probability that it came from Bowl 1?"
   ]
  },
  {
   "cell_type": "code",
   "execution_count": null,
   "id": "9b0bcf90",
   "metadata": {},
   "outputs": [],
   "source": [
    "bowls2 = getPmfFromSeq([\"bowl1\", \"bowl2\"])"
   ]
  },
  {
   "cell_type": "code",
   "execution_count": null,
   "id": "b8d92b1c",
   "metadata": {},
   "outputs": [],
   "source": [
    "bowls2.likelihoods = [30/40, 20/40] # P(D|H)\n",
    "bowls2"
   ]
  },
  {
   "cell_type": "code",
   "execution_count": null,
   "id": "2ca1dc38",
   "metadata": {},
   "outputs": [],
   "source": [
    "updatePosteriors!(bowls2)\n",
    "bowls2"
   ]
  },
  {
   "cell_type": "markdown",
   "id": "622775cf",
   "metadata": {},
   "source": [
    "And the answer is 0.6.\n",
    "\n",
    "One benefit of using `Pmf` objects is that it is easy to do successive updates with more data. For example, suppose you put the first cookie back (so the contents of the bowls don’t change) and draw again from the same bowl. If the second cookie is also vanilla, we can do a second update like this:"
   ]
  },
  {
   "cell_type": "code",
   "execution_count": null,
   "id": "cab9735b",
   "metadata": {},
   "outputs": [],
   "source": [
    "bowls2.posteriors .*= bowls2.likelihoods\n",
    "normalizePosteriors!(bowls2)\n",
    "bowls2"
   ]
  },
  {
   "cell_type": "markdown",
   "id": "36861bbf",
   "metadata": {},
   "source": [
    "Now the posterior probability for Bowl 1 is almost 70%. But suppose we do the same thing again and get a chocolate cookie."
   ]
  },
  {
   "cell_type": "code",
   "execution_count": null,
   "id": "85b8806c",
   "metadata": {},
   "outputs": [],
   "source": [
    "bowls2.posteriors .*= [10/40, 20/40] # P(D|H)\n",
    "normalizePosteriors!(bowls2)\n",
    "bowls2"
   ]
  },
  {
   "cell_type": "markdown",
   "id": "b1ad2f49",
   "metadata": {},
   "source": [
    "Now the posterior probability for Bowl 1 is about 53%. After two vanilla cookies and one chocolate, the posterior probabilities are close to 50/50."
   ]
  }
 ],
 "metadata": {
  "kernelspec": {
   "display_name": "Julia 1.9.3",
   "language": "julia",
   "name": "julia-1.9"
  },
  "language_info": {
   "file_extension": ".jl",
   "mimetype": "application/julia",
   "name": "julia",
   "version": "1.9.3"
  },
  "name": "Untitled.ipynb"
 },
 "nbformat": 4,
 "nbformat_minor": 5
}
