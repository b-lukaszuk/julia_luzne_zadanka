{
 "cells": [
  {
   "cell_type": "markdown",
   "metadata": {},
   "source": [
    "# Chapter 6. Odds and Addends\n",
    "[Link to chapter online](https://allendowney.github.io/ThinkBayes2/chap06.html)"
   ]
  },
  {
   "cell_type": "markdown",
   "metadata": {},
   "source": [
    "## Warning\n",
    "\n",
    "The content of this file may be incorrect, erroneous and/or harmful. Use it at Your own risk."
   ]
  },
  {
   "cell_type": "markdown",
   "metadata": {},
   "source": [
    "## Imports"
   ]
  },
  {
   "cell_type": "code",
   "execution_count": null,
   "metadata": {},
   "outputs": [],
   "source": [
    "import DataFrames as pd # pandas in Python\n",
    "import Distributions as dst\n",
    "import Plots as plts"
   ]
  },
  {
   "cell_type": "code",
   "execution_count": null,
   "metadata": {},
   "outputs": [],
   "source": [
    "include(\"./pmf.jl\")\n",
    "import .ProbabilityMassFunction as pmf"
   ]
  },
  {
   "cell_type": "markdown",
   "metadata": {},
   "source": [
    "### Odds"
   ]
  },
  {
   "cell_type": "code",
   "execution_count": null,
   "metadata": {},
   "outputs": [],
   "source": [
    "function prob2odds(prob::T)::T where T<:Union{Float64, Rational}\n",
    "    @assert (0 <= prob <= 1)\n",
    "    return prob / (1-prob)\n",
    "end"
   ]
  },
  {
   "cell_type": "code",
   "execution_count": null,
   "metadata": {},
   "outputs": [],
   "source": [
    "prob2odds(0.75)"
   ]
  },
  {
   "cell_type": "code",
   "execution_count": null,
   "metadata": {},
   "outputs": [],
   "source": [
    "prob2odds(1//10) |> Float64"
   ]
  },
  {
   "cell_type": "code",
   "execution_count": null,
   "metadata": {},
   "outputs": [],
   "source": [
    "prob2odds(9//10) |> Float64"
   ]
  },
  {
   "cell_type": "code",
   "execution_count": null,
   "metadata": {},
   "outputs": [],
   "source": [
    "function odds2prob(odds::T)::T where T<:Union{Float64, Rational}\n",
    "   @assert 0 <= odds\n",
    "   return odds / (odds + 1) \n",
    "end"
   ]
  },
  {
   "cell_type": "markdown",
   "metadata": {},
   "source": [
    "\n",
    "For practice I will try to derive the formula (see odds2prob).\n",
    "Let's go.\n",
    "\n",
    "$odds = \\frac{p}{1-p}$\n",
    "\n",
    "$\\frac{p}{1-p} = odds$\n",
    "\n",
    "$p = odds * (1-p)$\n",
    "\n",
    "$p = odds - odds*p$\n",
    "\n",
    "$p + odds*p = odds$\n",
    "\n",
    "$p * (1+odds) = odds$\n",
    "\n",
    "$p = \\frac{odds}{1+odds}$\n",
    "\n",
    "$p = \\frac{odds}{odds+1}$"
   ]
  },
  {
   "cell_type": "code",
   "execution_count": null,
   "metadata": {},
   "outputs": [],
   "source": [
    "odds2prob(3/2)"
   ]
  },
  {
   "cell_type": "code",
   "execution_count": null,
   "metadata": {},
   "outputs": [],
   "source": [
    "function odds2prob(yes::T, no::T)::T where T<:Union{Float64, Rational}\n",
    "    @assert yes >= 0\n",
    "    @assert no > 0\n",
    "    return yes / (yes+no)\n",
    "end"
   ]
  },
  {
   "cell_type": "code",
   "execution_count": null,
   "metadata": {},
   "outputs": [],
   "source": [
    "function odds2prob(yes::Int, no::Int)::Float64\n",
    "    @assert yes >= 0\n",
    "    @assert no > 0\n",
    "    return yes / (yes+no)\n",
    "end"
   ]
  },
  {
   "cell_type": "code",
   "execution_count": null,
   "metadata": {},
   "outputs": [],
   "source": [
    "odds2prob(3, 2)"
   ]
  },
  {
   "cell_type": "code",
   "execution_count": null,
   "metadata": {},
   "outputs": [],
   "source": [
    "odds2prob(3//5, 2//5) |> Float64"
   ]
  },
  {
   "cell_type": "markdown",
   "metadata": {},
   "source": [
    "### Bayes's Rule"
   ]
  },
  {
   "cell_type": "markdown",
   "metadata": {},
   "source": [
    "Bayes's theorem in the \"probability form\":\n",
    "\n",
    "$P(H|D) = \\frac{P(H) P(D|H)}{P(D)}$\n",
    "\n",
    "Writing odds(A) for odds in favor of A, we can express Bayes's Theorem in \"odds form\":\n",
    "\n",
    "$odds(A|D) = odds(A) \\frac{P(D|A)}{P(D|B)}$\n",
    "\n",
    "The posterior odds are the prior odds times the likelihood ratio."
   ]
  },
  {
   "cell_type": "markdown",
   "metadata": {},
   "source": [
    "**My comment**\n",
    "\n",
    "OK, although I'm not sure how we derived that and why we resigned from H and got A and B, all of a sudden."
   ]
  },
  {
   "cell_type": "markdown",
   "metadata": {},
   "source": [
    "Let's get back to the cookie problem. From Chapter 2 (The Bayes's Theorem).\n",
    "\n",
    "We got two bowls:\n",
    "- Bowl 1 contains 30 vanilla cookies and 10 chocolate cookies\n",
    "- Bowl 2 contains 20 vanilla cookies and 20 chocolate cookies\n",
    "\n",
    "You choose one bowl at random and choose the cookie at random. If the cookie is vanilla, what is the probability that it came from Bowl 1?\n",
    "\n",
    "The prior probability is 0.5, so the prior odds are 1 [odds(A)]\n",
    "\n",
    "The likelihood ratio is 3/4 [P(D|A)] and 2/4 [P(D|B)]\n",
    "\n",
    "The posterior odds are:\n",
    "\n",
    "$odds(A|D) = 1 * \\frac{3/4}{2/4}$\n",
    "\n",
    "Which is equal to:\n"
   ]
  },
  {
   "cell_type": "code",
   "execution_count": null,
   "metadata": {},
   "outputs": [],
   "source": [
    "1 * (3//4) / (2//4)"
   ]
  },
  {
   "cell_type": "markdown",
   "metadata": {},
   "source": [
    "And now for the posterior probability"
   ]
  },
  {
   "cell_type": "code",
   "execution_count": null,
   "metadata": {},
   "outputs": [],
   "source": [
    "odds2prob(3, 2)"
   ]
  },
  {
   "cell_type": "markdown",
   "metadata": {},
   "source": [
    "If we draw another cookie and it's chocolate, we can do another update:"
   ]
  },
  {
   "cell_type": "code",
   "execution_count": null,
   "metadata": {},
   "outputs": [],
   "source": [
    "3//2 * 1//4 / 1//2"
   ]
  },
  {
   "cell_type": "code",
   "execution_count": null,
   "metadata": {},
   "outputs": [],
   "source": [
    "odds2prob(3, 4)"
   ]
  },
  {
   "cell_type": "markdown",
   "metadata": {},
   "source": [
    "### Oliver's Blood\n",
    "\n",
    "From [MacKay’s Information Theory, Inference, and Learning Algorithms](https://www.inference.org.uk/mackay/itila/):\n",
    "\n",
    "Two people have left traces of their own blood at the scene of a crime. A suspect, Oliver, is tested and found to have type ‘O’ blood. The blood groups of the two traces are found to be of type ‘O’ (a common type in the local population, having frequency 60%) and of type ‘AB’ (a rare type, with frequency 1%). Do these data [the traces found at the scene] give evidence in favor of the proposition that Oliver was one of the people [who left blood at the scene]?"
   ]
  },
  {
   "cell_type": "markdown",
   "metadata": {},
   "source": [
    "\n",
    "To make our reasoning easier we can transform Bayes's Rule:\n",
    "\n",
    "$odds(A|D) = odds(A) \\frac{P(D|A)}{P(D|B)}$\n",
    "\n",
    "Dividing through odds(A), we get:\n",
    "\n",
    "$\\frac{odds(A|D)}{odds(A)} = \\frac{P(D|A)}{P(D|B)}$\n",
    "\n",
    "The term on the left is the ratio of the posterior and prior odds.\n",
    "\n",
    "The term on the right is the likelihood ratio, also called the **Bayes factor**\n",
    "\n",
    "If the Bayes factor is greater than 1, that means that the data were more likely under A than under B. And that means that the odds are greater, in light of the data, than they were before.\n",
    "\n",
    "If the Bayes factor is less than 1, that means the data were less likely under A than under B, so the odds in favor of A go down.\n",
    "\n",
    "Finally, if the Bayes factor is exactly 1, the data are equally likely under either hypothesis, so the odds do not change."
   ]
  },
  {
   "cell_type": "code",
   "execution_count": null,
   "metadata": {},
   "outputs": [],
   "source": [
    "# if Oliver is guilty we need to account for the AB blood type\n",
    "like1 = 0.01 # P(D|A)\n",
    "# if Oliver isn't guilty we need to account for both samples\n",
    "# so P(blood O) and P(blood AB) or P(blood AB) and P(blood O)\n",
    "like2 = 2 * 0.6 * 0.01 # P(D|B)\n",
    "\n",
    "likelihood_ratio = like1 / like2"
   ]
  },
  {
   "cell_type": "code",
   "execution_count": null,
   "metadata": {},
   "outputs": [],
   "source": [
    "# if the prior odds [odds(A)] were 1\n",
    "# then posterior odds [odds(A|B)] would be\n",
    "odds2prob(likelihood_ratio)"
   ]
  },
  {
   "attachments": {},
   "cell_type": "markdown",
   "metadata": {},
   "source": [
    "#### Oliver's Blood Exercise\n",
    "\n",
    "Suppose that based on other evidence, your prior belief in Oliver's guilt is 90%. How much would the blood evidence in this section change your beliefs? What if you initially thought there was only a 10% chance of this guilt?"
   ]
  },
  {
   "attachments": {},
   "cell_type": "markdown",
   "metadata": {},
   "source": [
    "So, our formula is:\n",
    "\n",
    "$odds(A|D) = odds(A) \\frac{P(D|A)}{P(D|B)}$\n",
    "\n",
    "So, previously prior odds [odds(A) were 1, we assumed it equally likely that Oliver accounted for the blood sample O (p = 0.5) as that he did not (p = 0.5)].\n",
    "\n",
    "And now the probablity is 0.9 (90%), so the prior odds [odds(A)] are\n",
    "0.9/0.1 = 9.\n",
    "\n",
    "Or the probability is 0.1 (10%), so the prior odds [odds(A)] are 0.1/0.9 = 0.11(1).\n",
    "\n",
    "Given the above, the posterior odds [odds(A|D)] are:\n",
    "\n",
    "$\\frac{0.9}{0.1} * \\frac{P(D|A)}{P(D|B)}$\n",
    "\n",
    "or\n",
    "\n",
    "$\\frac{0.1}{0.9} * \\frac{P(D|A)}{P(D|B)}$\n",
    "\n",
    "And the probabilities are:"
   ]
  },
  {
   "cell_type": "code",
   "execution_count": null,
   "metadata": {},
   "outputs": [],
   "source": [
    "odds2prob(0.9/0.1 * like1/like2)"
   ]
  },
  {
   "cell_type": "code",
   "execution_count": null,
   "metadata": {},
   "outputs": [],
   "source": [
    "odds2prob(0.1/0.9 * like1/like2)"
   ]
  },
  {
   "attachments": {},
   "cell_type": "markdown",
   "metadata": {},
   "source": [
    "### Addends\n",
    "\n",
    "This part of the chapter is about distributions of sums and results of other operations.\n",
    "\n",
    "For now we will deal with the problem where we are given the inputs and compute the distribution of the output.\n",
    "\n",
    "As a first example, suppose you roll two dice and add them up. What is the distribution of the sum?"
   ]
  },
  {
   "cell_type": "code",
   "execution_count": null,
   "metadata": {},
   "outputs": [],
   "source": [
    "function mk_die(no_of_sides::Int)::pmf.Pmf{Int}\n",
    "    @assert no_of_sides > 0\n",
    "    return pmf.mk_pmf_from_seq(collect(1:no_of_sides))\n",
    "end"
   ]
  },
  {
   "cell_type": "code",
   "execution_count": null,
   "metadata": {},
   "outputs": [],
   "source": [
    "die = mk_die(6)"
   ]
  },
  {
   "cell_type": "code",
   "execution_count": null,
   "metadata": {},
   "outputs": [],
   "source": [
    "plts.bar(die.names, die.priors, legend=false)\n",
    "plts.title!(\"Throwing one six sided die\")\n",
    "plts.xlabel!(\"Outcome\")\n",
    "plts.ylabel!(\"PMF\")"
   ]
  },
  {
   "cell_type": "code",
   "execution_count": null,
   "metadata": {},
   "outputs": [],
   "source": [
    "function add_dist(pmf1::pmf.Pmf{Int}, pmf2::pmf.Pmf{Int})::pmf.Pmf{Int}\n",
    "    res::Dict{Int, Float64} = Dict()\n",
    "    n::Int = 0\n",
    "    p::Float64 = 0.0\n",
    "    for i in eachindex(pmf1.names)\n",
    "        for j in eachindex(pmf2.names)\n",
    "            n = pmf1.names[i] + pmf2.names[j]\n",
    "            p = pmf1.priors[i] * pmf2.priors[j]\n",
    "            res[n] = get(res, n, 0) + p\n",
    "        end\n",
    "    end\n",
    "    ordered_keys::Vector{Int64} = sort(collect(keys(res)))\n",
    "    ordered_vals::Vector{Float64} = [res[k] for k in ordered_keys]\n",
    "    return pmf.Pmf(ordered_keys, ordered_vals ./ sum(ordered_vals))\n",
    "end"
   ]
  },
  {
   "cell_type": "code",
   "execution_count": null,
   "metadata": {},
   "outputs": [],
   "source": [
    "twice = add_dist(die, die);"
   ]
  },
  {
   "cell_type": "code",
   "execution_count": null,
   "metadata": {},
   "outputs": [],
   "source": [
    "plts.bar(twice.names, twice.priors, legend=false)\n",
    "plts.title!(\"Throwing two six sided dice\")\n",
    "plts.xlabel!(\"Outcome\")\n",
    "plts.ylabel!(\"PMF\")\n",
    "plts.xlims!((0, 13))\n",
    "plts.xticks!(2:12)"
   ]
  },
  {
   "attachments": {},
   "cell_type": "markdown",
   "metadata": {},
   "source": [
    "And how about 3 dice?"
   ]
  },
  {
   "cell_type": "code",
   "execution_count": null,
   "metadata": {},
   "outputs": [],
   "source": [
    "function add_dist_seq(seq::Vector{<:pmf.Pmf{Int}})::pmf.Pmf{Int}\n",
    "    res::pmf.Pmf{Int} = seq[1]\n",
    "    for i in 2:length(seq)\n",
    "        res = add_dist(res, seq[i])\n",
    "    end\n",
    "    return res\n",
    "end "
   ]
  },
  {
   "cell_type": "code",
   "execution_count": null,
   "metadata": {},
   "outputs": [],
   "source": [
    "three_dice = repeat([die], 3);"
   ]
  },
  {
   "cell_type": "code",
   "execution_count": null,
   "metadata": {},
   "outputs": [],
   "source": [
    "thrice = add_dist_seq(three_dice);"
   ]
  },
  {
   "cell_type": "code",
   "execution_count": null,
   "metadata": {},
   "outputs": [],
   "source": [
    "plts.bar(thrice.names, thrice.priors, legend=false)\n",
    "plts.title!(\"Throwing three six sided dice\")\n",
    "plts.xlabel!(\"Outcome\")\n",
    "plts.ylabel!(\"PMF\")\n",
    "plts.xlims!((2, 19))\n",
    "plts.xticks!(3:18)"
   ]
  },
  {
   "cell_type": "code",
   "execution_count": null,
   "metadata": {},
   "outputs": [],
   "source": [
    "pmf.draw_priors(die, \"Distributions of sums\", \"Outcome\", \"PMF\", \"once\")\n",
    "plts.plot!(twice.names, twice.priors, label=\"twice\")\n",
    "plts.plot!(thrice.names, thrice.priors, label=\"thrice\")"
   ]
  },
  {
   "attachments": {},
   "cell_type": "markdown",
   "metadata": {},
   "source": [
    "[...] this example demonstrates the Central Limit Theorem, which says that the distribution of a sum converges on a bell-shaped normal distribution, at least under some conditions."
   ]
  },
  {
   "attachments": {},
   "cell_type": "markdown",
   "metadata": {},
   "source": [
    "### Gluten Sensitivity\n",
    "\n",
    "In a [scientific paper](https://onlinelibrary.wiley.com/doi/full/10.1111/apt.13372) the authors tested people with gluten sensitivity if they can differentiate flour with and without gluten (blind test).\n",
    "\n",
    "Out of 35 subjects, 12 correctly identified the gluten flour based on resumption of symptoms while they were eating it. Another 17 wrongly identified the gluten-free flour based on their symptoms, and 6 were unable to distinguish.\n",
    "\n",
    "So here’s the question: based on this data, how many of the subjects are sensitive to gluten and how many are guessing?\n",
    "\n",
    "[...] first we have to make some modeling decisions. I’ll (Allen B. Downey) assume:\n",
    "- People who are sensitive to gluten have a 95% chance of correctly identifying gluten flour under the challenge conditions, and\n",
    "- People who are not sensitive have a 40% chance of identifying the gluten flour by chance (and a 60% chance of either choosing the other flour or failing to distinguish). \n",
    "\n",
    "I (Allen B. Downey) will solve this problem in two steps. First, assuming that we know how many subjects are sensitive, I (Allen B. Downey) will compute the distribution of the data. Then, using the likelihood of the data, I (Allen B. Downey) will compute the posterior distribution of the number of sensitive patients.\n",
    "\n",
    "The first is the **forward problem**; the second is the **inverse problem**."
   ]
  },
  {
   "attachments": {},
   "cell_type": "markdown",
   "metadata": {},
   "source": [
    "### The Forward Problem\n",
    "\n",
    "Suppose we know that 10 of the 35 subjects are sensistive to gluten. That means that 25 are not:"
   ]
  },
  {
   "cell_type": "code",
   "execution_count": null,
   "metadata": {},
   "outputs": [],
   "source": [
    "n = 35\n",
    "num_sensitive = 10\n",
    "num_insensitive = n - num_sensitive"
   ]
  },
  {
   "attachments": {},
   "cell_type": "markdown",
   "metadata": {},
   "source": [
    "Each sensitive subject has a 95% chance of identifying the gluten fluor, so the number of correct identifications follows a binomial distribution."
   ]
  },
  {
   "cell_type": "code",
   "execution_count": null,
   "metadata": {},
   "outputs": [],
   "source": [
    "dist_sensitive = pmf.mk_binomial_pmf(num_sensitive, 0.95);\n",
    "dist_insensitive = pmf.mk_binomial_pmf(num_insensitive, 0.4);"
   ]
  },
  {
   "attachments": {},
   "cell_type": "markdown",
   "metadata": {},
   "source": [
    "Now we can use `add_dist` to compute the distribution of the total number of correct identifications:"
   ]
  },
  {
   "cell_type": "code",
   "execution_count": null,
   "metadata": {},
   "outputs": [],
   "source": [
    "dist_total = add_dist(dist_sensitive, dist_insensitive);"
   ]
  },
  {
   "cell_type": "code",
   "execution_count": null,
   "metadata": {},
   "outputs": [],
   "source": [
    "pmf.draw_priors(dist_sensitive, \"Gluten sensitivity\",\n",
    "    \"Number of correct identifications\", \"PMF\", \"sensitive\")\n",
    "plts.plot!(dist_insensitive.names, dist_insensitive.priors,\n",
    "    label=\"insensitive\")\n",
    "plts.plot!(dist_total.names, dist_total.priors, label=\"total\")"
   ]
  },
  {
   "attachments": {},
   "cell_type": "markdown",
   "metadata": {},
   "source": [
    "We expect most of the sensitive subjects to identify the gluten flour correctly. Of the 25 insensitive subjects, we expect about 10 to identify the gluten flour by chance. So we expect about 20 correct identifications in total.\n",
    "\n",
    "This is the answer to the forward problem: given the number of sensitive subjects, we can compute the distribution of the data."
   ]
  },
  {
   "attachments": {},
   "cell_type": "markdown",
   "metadata": {},
   "source": [
    "### The Inverse Problem\n",
    "\n",
    "Now given the data, we'll compute the posterior distribution of the number of sensistive subjects."
   ]
  },
  {
   "cell_type": "code",
   "execution_count": null,
   "metadata": {},
   "outputs": [],
   "source": [
    "dict_num_sens_pmf = Dict{Int, pmf.Pmf{Int}}()\n",
    "# previously we defined n to be 35\n",
    "# (number of participants in the experiment)\n",
    "for num_sens in 0:n\n",
    "    num_insens = n - num_sens\n",
    "    dist_sens = pmf.mk_binomial_pmf(num_sens, 0.95)\n",
    "    dist_insens = pmf.mk_binomial_pmf(num_insens, 0.4)\n",
    "    dist_total = add_dist(dist_sens, dist_insens)\n",
    "    dict_num_sens_pmf[num_sens] = dist_total\n",
    "end"
   ]
  },
  {
   "cell_type": "code",
   "execution_count": null,
   "metadata": {},
   "outputs": [],
   "source": [
    "p = pmf.draw_priors(dict_num_sens_pmf[0], \"Gluten sensitivity\",\n",
    "    \"Number of correct identifications\", \"PMF\", \"num_sensitive = 0\")\n",
    "\n",
    "for n_sens in 10:10:30\n",
    "    plts.plot!(p, dict_num_sens_pmf[n_sens].names,\n",
    "    dict_num_sens_pmf[n_sens].priors, label=\"num_sensitive = $n_sens\")\n",
    "end\n",
    "\n",
    "p"
   ]
  },
  {
   "attachments": {},
   "cell_type": "markdown",
   "metadata": {},
   "source": [
    "In the experiment the authors reported 12 correct identifications of gluten flour.\n",
    "\n",
    "Let's compare it with other possible identification number (e.g. 20)."
   ]
  },
  {
   "cell_type": "code",
   "execution_count": null,
   "metadata": {},
   "outputs": [],
   "source": [
    "# names in pmf are 0:35, so ind 13 is for 12 correct identifictions\n",
    "correct12 = [dict_num_sens_pmf[i].priors[13] for i in 0:35]\n",
    "# n is 35, number of participants in the experiment\n",
    "gluten12 = pmf.mk_pmf_from_seq(collect(0:n))\n",
    "pmf.update_likelihoods!(gluten12, correct12)\n",
    "pmf.update_posteriors!(gluten12);"
   ]
  },
  {
   "cell_type": "code",
   "execution_count": null,
   "metadata": {},
   "outputs": [],
   "source": [
    "# names in pmf are 0:35, so ind 21 is for 20 correct identifictions\n",
    "correct20 = [dict_num_sens_pmf[i].priors[21] for i in 0:35]\n",
    "# n is 35, number of participants in the experiment\n",
    "gluten20 = pmf.mk_pmf_from_seq(collect(0:n))\n",
    "pmf.update_likelihoods!(gluten20, correct20)\n",
    "pmf.update_posteriors!(gluten20);"
   ]
  },
  {
   "cell_type": "code",
   "execution_count": null,
   "metadata": {},
   "outputs": [],
   "source": [
    "pmf.draw_posteriors(gluten12, \"Posterior distributionn\",\n",
    "    \"Number of sensitive subjects\", \"PMF\",\n",
    "    \"posterior with 12 correct\")\n",
    "plts.plot!(gluten20.names, gluten20.posteriors,\n",
    "    label=\"posterior with 20 correct\")"
   ]
  },
  {
   "cell_type": "code",
   "execution_count": null,
   "metadata": {},
   "outputs": [],
   "source": [
    "pmf.get_name_max_posterior(gluten12)"
   ]
  },
  {
   "cell_type": "code",
   "execution_count": null,
   "metadata": {},
   "outputs": [],
   "source": [
    "pmf.get_name_max_posterior(gluten20)"
   ]
  },
  {
   "attachments": {},
   "cell_type": "markdown",
   "metadata": {},
   "source": [
    "## Exercises"
   ]
  },
  {
   "attachments": {},
   "cell_type": "markdown",
   "metadata": {},
   "source": [
    "### Exercise 1\n",
    "\n",
    "Let's use Bayes's Rule to solve the Elvis problem from [Ch3. Distributions](https://allendowney.github.io/ThinkBayes2/chap03.html#exercises):\n",
    "\n",
    "Elvis Presley had a twin brother (who died at birth). What is the probability that Elvis was an identical twin?\n",
    "\n",
    "Hint: In 1935, about 2/3 of twins were fraternal and 1/3 were identical."
   ]
  },
  {
   "attachments": {},
   "cell_type": "markdown",
   "metadata": {},
   "source": [
    "#### Ex1. Reasoning\n",
    "\n",
    "So, the Bayes's Rule is:\n",
    "\n",
    "$odds(A|D) = odds(A) * \\frac{P(D|A)}{P(D|B)}$,\n",
    "\n",
    "where:\n",
    "- odds(A|D) are odds(identical twins | 2 brothers)\n",
    "- odds(A) are odds(identical twins)\n",
    "- P(D|A) is P(2 brothers | identical twins)\n",
    "- P(D|B) is P(2 brothers | fraternal twins)\n",
    "\n",
    "If, so then:\n",
    "- odds(A) is 1/2 ($\\frac{1/3}{2/3}$)\n",
    "- P(D|A) is 1/2\n",
    "- P(D|B) is 1/4"
   ]
  },
  {
   "attachments": {},
   "cell_type": "markdown",
   "metadata": {},
   "source": [
    "### Ex1. Solution"
   ]
  },
  {
   "cell_type": "code",
   "execution_count": null,
   "metadata": {},
   "outputs": [],
   "source": [
    "ex1_odds = 0.5 * (0.5 / 0.25)"
   ]
  },
  {
   "cell_type": "code",
   "execution_count": null,
   "metadata": {},
   "outputs": [],
   "source": [
    "odds2prob(ex1_odds)"
   ]
  },
  {
   "attachments": {},
   "cell_type": "markdown",
   "metadata": {},
   "source": [
    "### Ex1. Post-solution notes\n",
    "\n",
    "Not sure why the author (Allen Downey) presents in the solution to this exercise the probability to be equal 0.5(5)...., especially that in [Ch3. Distributions](https://allendowney.github.io/ThinkBayes2/chap03.html#exercises) the probability is 0.5, so 0.5(5)... presented here is not quite compatible"
   ]
  },
  {
   "attachments": {},
   "cell_type": "markdown",
   "metadata": {},
   "source": [
    "### Exercise 2\n",
    "\n",
    "The following is an [interview question that appeared on glassdoor.com](https://www.glassdoor.com/Interview/You-re-about-to-get-on-a-plane-to-Seattle-You-want-to-know-if-you-should-bring-an-umbrella-You-call-3-random-friends-of-y-QTN_519262.htm), attributed to Facebook:\n",
    "\n",
    "You’re about to get on a plane to Seattle. You want to know if you should bring an umbrella. You call 3 random friends of yours who live there and ask each independently if it’s raining. Each of your friends has a 2/3 chance of telling you the truth and a 1/3 chance of messing with you by lying. All 3 friends tell you that “Yes” it is raining. What is the probability that it’s actually raining in Seattle?\n",
    "\n",
    "Use Bayes’s Rule to solve this problem. As a prior you can assume that it rains in Seattle about 10% of the time."
   ]
  },
  {
   "attachments": {},
   "cell_type": "markdown",
   "metadata": {},
   "source": [
    "#### Ex2. Reasoning\n",
    "\n",
    "The Bayes's Rule is:\n",
    "\n",
    "$odds(A|D) = odds(A) * \\frac{P(D|A)}{P(D|B)}$,\n",
    "\n",
    "where:\n",
    "- odds(A|D) are odds(rain | yyy)\n",
    "- odds(A) are odds(rain)\n",
    "- P(D|A) is P(yyy|rain)\n",
    "- P(D|B) is P(yyy|no rain)\n",
    "\n",
    "If, so then:\n",
    "- odds(A) is prob2odds(1//10), so 1//9\n",
    "- P(D|A) is (2//3)^3\n",
    "- P(D|B) is (1//3)^3"
   ]
  },
  {
   "attachments": {},
   "cell_type": "markdown",
   "metadata": {},
   "source": [
    "#### Ex2. Solution"
   ]
  },
  {
   "cell_type": "code",
   "execution_count": null,
   "metadata": {},
   "outputs": [],
   "source": [
    "ex2_odds = prob2odds(1//10) * ((2//3)^3) / ((1//3)^3)"
   ]
  },
  {
   "cell_type": "code",
   "execution_count": null,
   "metadata": {},
   "outputs": [],
   "source": [
    "odds2prob(ex2_odds) |> Float64"
   ]
  },
  {
   "attachments": {},
   "cell_type": "markdown",
   "metadata": {},
   "source": [
    "### Exercise 3\n",
    "\n",
    "[According to the CDC](https://www.cdc.gov/tobacco/data_statistics/fact_sheets/health_effects/effects_cig_smoking/), people who smoke are about 25 times more likely to develop lung cancer than nonsmokers.\n",
    "\n",
    "[Also according to the CDC](https://www.cdc.gov/tobacco/data_statistics/fact_sheets/adult_data/cig_smoking/index.htm), about 14% of adults in the U.S. are smokers. If you learn that someone has lung cancer, what is the probability they are a smoker?"
   ]
  },
  {
   "attachments": {},
   "cell_type": "markdown",
   "metadata": {},
   "source": [
    "#### Ex3. Reasoning\n",
    "\n",
    "The Bayes's Rule is:\n",
    "\n",
    "$odds(A|D) = odds(A) * \\frac{P(D|A)}{P(D|B)}$,\n",
    "\n",
    "where:\n",
    "- odds(A|D) are odds(smoker | lung cancer)\n",
    "- odds(A) are odds(smoker)\n",
    "- P(D|A) is P(lung cancer | smoker)\n",
    "- P(D|B) is P(lung cancer | not smoker)\n",
    "\n",
    "If, so then:\n",
    "- odds(A) is prob2odds(14//100), so 7//43\n",
    "- $\\frac{P(D|A)}{P(D|B)}$ is 25\n"
   ]
  },
  {
   "attachments": {},
   "cell_type": "markdown",
   "metadata": {},
   "source": [
    "#### Ex3. Solution"
   ]
  },
  {
   "cell_type": "code",
   "execution_count": null,
   "metadata": {},
   "outputs": [],
   "source": [
    "ex3_odds = (prob2odds(14//100) * 25)"
   ]
  },
  {
   "cell_type": "code",
   "execution_count": null,
   "metadata": {},
   "outputs": [],
   "source": [
    "odds2prob(ex3_odds) |> Float64"
   ]
  },
  {
   "attachments": {},
   "cell_type": "markdown",
   "metadata": {},
   "source": [
    "### Exercise 3\n",
    "\n",
    "In Dungeons & Dragons, the amount of damage a goblin can withstand is the sum of two six-sided dice. The amount of damage you inflict with a short sword is determined by rolling one six-sided die. A goblin is defeated if the total damage you inflict is greater than or equal to the amount it can withstand.\n",
    "\n",
    "Suppose you are fighting a goblin and you have already inflicted 3 points of damage. What is your probability of defeating the goblin with your next successful attack?\n",
    "\n",
    "Hint: You can use `Pmf.sub_dist` to subtract a constant amount, like 3, from a `Pmf`."
   ]
  },
  {
   "attachments": {},
   "cell_type": "markdown",
   "metadata": {},
   "source": [
    "#### Ex3. Rationale and Solution\n",
    "\n",
    "Hmm, what is `Pmf.sub_dist` and how it works.\n",
    "Based on the code [here](https://github.com/AllenDowney/empiricaldist/blob/master/empiricaldist/empiricaldist.py) it seems that definition of my `sub_dist` should be:\n",
    "\n",
    "<pre>\n",
    "function sub_dist(dist::pmf.Pmf{Int}, x::Int)::pmf.Pmf{Int}\n",
    "    return pmf.Pmf(dist.names .- x, dist.priors)\n",
    "end\n",
    "</pre>\n",
    "\n",
    "So, for now let's go with that.\n",
    "\n",
    "As for the vector version of `sub_dist` it seems it is the same as `add_dist` defined in this file, but `+` is replaced with `-` in the body of the function."
   ]
  },
  {
   "cell_type": "code",
   "execution_count": null,
   "metadata": {},
   "outputs": [],
   "source": [
    "function sub_dist(dist::pmf.Pmf{Int}, x::Int)::pmf.Pmf{Int}\n",
    "    return pmf.Pmf(dist.names .- x, dist.priors)\n",
    "end"
   ]
  },
  {
   "cell_type": "code",
   "execution_count": null,
   "metadata": {},
   "outputs": [],
   "source": [
    "function sub_dist(pmf1::pmf.Pmf{Int}, pmf2::pmf.Pmf{Int})::pmf.Pmf{Int}\n",
    "    res::Dict{Int, Float64} = Dict()\n",
    "    n::Int = 0\n",
    "    p::Float64 = 0.0\n",
    "    for i in eachindex(pmf1.names)\n",
    "        for j in eachindex(pmf2.names)\n",
    "            n = pmf1.names[i] - pmf2.names[j]\n",
    "            p = pmf1.priors[i] * pmf2.priors[j]\n",
    "            res[n] = get(res, n, 0) - p\n",
    "        end\n",
    "    end\n",
    "    ordered_keys::Vector{Int64} = sort(collect(keys(res)))\n",
    "    ordered_vals::Vector{Float64} = [res[k] for k in ordered_keys]\n",
    "    return pmf.Pmf(ordered_keys, ordered_vals ./ sum(ordered_vals))\n",
    "end"
   ]
  },
  {
   "cell_type": "code",
   "execution_count": null,
   "metadata": {},
   "outputs": [],
   "source": [
    "one_dice = mk_die(6) # damage\n",
    "two_dice = add_dist(one_dice, one_dice) # amount it can withstand"
   ]
  },
  {
   "cell_type": "code",
   "execution_count": null,
   "metadata": {},
   "outputs": [],
   "source": [
    "goblin = sub_dist(two_dice, 3) # we already inflicted 3 pts. of damage"
   ]
  },
  {
   "cell_type": "code",
   "execution_count": null,
   "metadata": {},
   "outputs": [],
   "source": [
    "# we remove the values impossible to get after a throw of six sided dice (new damage)\n",
    "# -1 and 0 (2 first names) are not possible for six sided dice\n",
    "goblin = pmf.Pmf(goblin.names[3:end], goblin.priors[3:end])\n",
    "# we normalize the priors so they add up to 1\n",
    "goblin.priors = goblin.priors ./ sum(goblin.priors);"
   ]
  },
  {
   "cell_type": "code",
   "execution_count": null,
   "metadata": {},
   "outputs": [],
   "source": [
    "# now we throw a dice to inflict damage on goblin\n",
    "goblin = sub_dist(goblin, one_dice)"
   ]
  },
  {
   "cell_type": "code",
   "execution_count": null,
   "metadata": {},
   "outputs": [],
   "source": [
    "# all names <= 0 are where goblin is dead after an attack\n",
    "gob_dead_inds = findall(x -> x <= 0, goblin.names)\n",
    "# we sum their probabilities to get the P(dead goblin)\n",
    "goblin.priors[gob_dead_inds] |> sum"
   ]
  },
  {
   "cell_type": "code",
   "execution_count": null,
   "metadata": {},
   "outputs": [],
   "source": [
    "gob_alive_inds = setdiff(eachindex(goblin.names), gob_dead_inds);"
   ]
  },
  {
   "cell_type": "code",
   "execution_count": null,
   "metadata": {},
   "outputs": [],
   "source": [
    "plts.bar(goblin.names[gob_alive_inds], goblin.priors[gob_alive_inds], label=\"alive\")\n",
    "plts.bar!(goblin.names[gob_dead_inds], goblin.priors[gob_dead_inds], label=\"dead\")\n",
    "plts.title!(\"Probability of killing a goblin\")\n",
    "plts.xlabel!(\"HP remained\")\n",
    "plts.ylabel!(\"PMF\")\n",
    "plts.xticks!(collect(-5:1:8))"
   ]
  },
  {
   "attachments": {},
   "cell_type": "markdown",
   "metadata": {},
   "source": [
    "### Exercise 4\n",
    "\n",
    "Suppose I have a box with a 6-sided die, an 8-sided die, and a 12-sided die. I choose one of the dice at random, roll it twice, multiply the outcomes, and report that the product is 12. What is the probability that I chose the 8-sided die?\n",
    "\n",
    "Hint: `Pmf` provides a function called `mul_dist` that takes two `Pmf` objects and returns a `Pmf` that represents the distribution of the product."
   ]
  }
 ],
 "metadata": {
  "kernelspec": {
   "display_name": "Julia 1.8.3",
   "language": "julia",
   "name": "julia-1.8"
  },
  "language_info": {
   "file_extension": ".jl",
   "mimetype": "application/julia",
   "name": "julia",
   "version": "1.8.3"
  },
  "vscode": {
   "interpreter": {
    "hash": "31f2aee4e71d21fbe5cf8b01ff0e069b9275f58929596ceb00d14d90e3e16cd6"
   }
  }
 },
 "nbformat": 4,
 "nbformat_minor": 2
}
