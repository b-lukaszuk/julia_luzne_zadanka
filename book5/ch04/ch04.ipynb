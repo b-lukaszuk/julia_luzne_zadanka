{
 "cells": [
  {
   "cell_type": "markdown",
   "id": "756018ac-fc3b-4f6a-9c0b-39b231d378c4",
   "metadata": {
    "collapsed": false,
    "jupyter": {
     "outputs_hidden": false
    }
   },
   "source": [
    "# Ch04. Quicksort"
   ]
  },
  {
   "cell_type": "markdown",
   "id": "64b96b92",
   "metadata": {
    "collapsed": false
   },
   "source": [
    "## Imports"
   ]
  },
  {
   "cell_type": "markdown",
   "id": "054da63e",
   "metadata": {
    "collapsed": false
   },
   "source": [
    "## Custom types"
   ]
  },
  {
   "cell_type": "code",
   "execution_count": null,
   "id": "82b8fc6d",
   "metadata": {
    "collapsed": false
   },
   "outputs": [],
   "source": [
    "Num = Union{Int,Float64}"
   ]
  },
  {
   "cell_type": "markdown",
   "id": "ae85e6ee",
   "metadata": {},
   "source": [
    "## Divide & conquer"
   ]
  },
  {
   "cell_type": "markdown",
   "id": "15a0ea93",
   "metadata": {},
   "source": [
    "Suppose there is a plot of land 1680 x 640 (width x height).\n",
    "You want to divide it into square plots of equal area (each equal any other)."
   ]
  },
  {
   "cell_type": "code",
   "execution_count": null,
   "id": "3ee4e0f1",
   "metadata": {},
   "outputs": [],
   "source": [
    "function getSum(arr::Vector{<:Num})::Num\n",
    "    total:: Num = 0 \n",
    "    for aᵢ in arr\n",
    "        total += aᵢ\n",
    "    end\n",
    "    return total\n",
    "end"
   ]
  },
  {
   "cell_type": "code",
   "execution_count": null,
   "id": "3fa930ba",
   "metadata": {},
   "outputs": [],
   "source": [
    "getSum(1:10 |> collect),\n",
    "getSum(1:100 |> collect),\n",
    "getSum(Int[])"
   ]
  },
  {
   "cell_type": "markdown",
   "id": "687b1886",
   "metadata": {},
   "source": [
    "## Exercises 4.1-4.4"
   ]
  },
  {
   "cell_type": "markdown",
   "id": "58a67c4d",
   "metadata": {},
   "source": [
    "### Exercise 4.1\n",
    "\n",
    "Write out recursive version of `sum` function."
   ]
  },
  {
   "cell_type": "code",
   "execution_count": null,
   "id": "892cda30",
   "metadata": {},
   "outputs": [],
   "source": [
    "function getSumRec(arr::Vector{<:Num})::Num\n",
    "    return isempty(arr) ? 0 : arr[1] + getSumRec(arr[2:end])\n",
    "end"
   ]
  },
  {
   "cell_type": "code",
   "execution_count": null,
   "id": "ccc2ed60",
   "metadata": {},
   "outputs": [],
   "source": [
    "getSumRec(1:10 |> collect),\n",
    "getSumRec(1:100 |> collect),\n",
    "getSumRec(Int[])"
   ]
  },
  {
   "cell_type": "markdown",
   "id": "ab79f21e",
   "metadata": {},
   "source": [
    "### Exercise 4.2\n",
    "\n",
    "Write a recursive version of `length` function."
   ]
  },
  {
   "cell_type": "code",
   "execution_count": null,
   "id": "812113e1",
   "metadata": {},
   "outputs": [],
   "source": [
    "function getLenRec(arr::Vector{<:Num})::Int\n",
    "    return isempty(arr) ? 0 : 1 + getLenRec(arr[2:end])\n",
    "end"
   ]
  },
  {
   "cell_type": "code",
   "execution_count": null,
   "id": "03d2e100",
   "metadata": {},
   "outputs": [],
   "source": [
    "getLenRec(1:10 |> collect),\n",
    "getLenRec(1:100 |> collect),\n",
    "getLenRec(Int[])"
   ]
  },
  {
   "cell_type": "markdown",
   "id": "1608ba25",
   "metadata": {},
   "source": [
    "### Exercise 4.3\n",
    "\n",
    "Write a recursive function to find a maximum number in a list"
   ]
  },
  {
   "cell_type": "code",
   "execution_count": null,
   "id": "94714651",
   "metadata": {},
   "outputs": [],
   "source": [
    "function getMax(x::Num, y::Num)::Num\n",
    "    return x > y ? x : y\n",
    "end\n",
    "\n",
    "function getMax(arr::Vector{<:Num}, prevMax::Num)::Num\n",
    "    return isempty(arr) ? prevMax : getMax(arr[2:end], getMax(prevMax, arr[1]))\n",
    "end\n",
    "\n",
    "function getMax(arr::Vector{<:Num})::Num\n",
    "    return getMax(arr[2:end], arr[1])\n",
    "end"
   ]
  },
  {
   "cell_type": "code",
   "execution_count": null,
   "id": "00d1fe8b",
   "metadata": {},
   "outputs": [],
   "source": [
    "for _ in 1:5\n",
    "    nums = rand(1:20, 4)\n",
    "    println(\"max num of: $nums is $(getMax(nums))\")\n",
    "end"
   ]
  }
 ],
 "metadata": {
  "kernelspec": {
   "display_name": "Julia 1.10.2",
   "language": "julia",
   "name": "julia-1.10"
  },
  "language_info": {
   "file_extension": ".jl",
   "mimetype": "application/julia",
   "name": "julia",
   "version": "1.10.2"
  },
  "name": "ch04.ipynb"
 },
 "nbformat": 4,
 "nbformat_minor": 5
}
