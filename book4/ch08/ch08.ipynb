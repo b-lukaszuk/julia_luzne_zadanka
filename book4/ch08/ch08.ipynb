{
 "cells": [
  {
   "cell_type": "markdown",
   "id": "12b806b2-7740-4f81-a8a5-74092e49bbc8",
   "metadata": {
    "collapsed": false
   },
   "source": [
    "# Chapter online\n",
    "[Chapter 8](https://allendowney.github.io/ThinkBayes2/chap08.html)"
   ]
  },
  {
   "cell_type": "markdown",
   "id": "b18fec05-e311-4e42-b17c-da9a427c7e39",
   "metadata": {
    "collapsed": false
   },
   "source": [
    "## Warning\n",
    "\n",
    "The content of this file may be incorrect, erroneous and/or harmful. Use it at Your own risk."
   ]
  },
  {
   "cell_type": "markdown",
   "id": "a0047a20-abbf-4bfe-a337-7a5e58f1081b",
   "metadata": {
    "collapsed": false
   },
   "source": [
    "## Imports"
   ]
  },
  {
   "cell_type": "code",
   "execution_count": null,
   "id": "eb81af04-114c-42e2-8d4b-e6d57d2a3caf",
   "metadata": {
    "collapsed": false
   },
   "outputs": [],
   "source": [
    "import DataFrames as Dfs\n",
    "import Distributions as Dsts\n",
    "import CairoMakie as Cmk"
   ]
  },
  {
   "cell_type": "code",
   "execution_count": null,
   "id": "0f1cee3a-01fb-4029-9af4-a25f0d998b46",
   "metadata": {
    "collapsed": false
   },
   "outputs": [],
   "source": [
    "include(\"./empiricaldist.jl\")\n",
    "import .EmpiricalDistributions:\n",
    "    EmpiricalDistributions as ed, pmf, cdf\n",
    "include(\"./simplestat.jl\")\n",
    "import .SimpleStatistics as ss"
   ]
  },
  {
   "cell_type": "markdown",
   "id": "6fde6d7d-75b2-431a-b825-d64fcbe48ba5",
   "metadata": {
    "collapsed": false
   },
   "source": [
    "## Code from chapter"
   ]
  },
  {
   "cell_type": "markdown",
   "id": "d092ecac-de88-4c57-ba67-b5cde7abb329",
   "metadata": {
    "collapsed": false
   },
   "source": [
    "### Functionality developed in Chapter 8"
   ]
  },
  {
   "cell_type": "code",
   "execution_count": null,
   "id": "9f11fd11-170a-406e-a58c-f477194b1276",
   "metadata": {
    "collapsed": false
   },
   "outputs": [],
   "source": [
    "function mkPoissonPmf(lam::Float64,\n",
    "        qs::Vector{T})::pmf.Pmf{T} where T<:Union{Int, Float64}\n",
    "    @assert lam >= 0\n",
    "    ps::Vector{Float64} = Dsts.pdf.(Dsts.Poisson(lam), qs)\n",
    "    pmfDist::pmf.Pmf{T} = pmf.Pmf(qs, ps)\n",
    "    pmfDist.priors = pmfDist.priors ./ sum(pmfDist.priors)\n",
    "    return pmfDist\n",
    "end"
   ]
  },
  {
   "cell_type": "markdown",
   "id": "31ec763d-f796-4518-b3ff-7c719b2fdaba",
   "metadata": {
    "collapsed": false
   },
   "source": [
    "### The World Cup Problem\n",
    "\n",
    "In the 2018 FIFA World Cup final, France defeated Croatia 4 goals to 2. Based on this outcome:\n",
    "- How confident should we be that France is the better team?\n",
    "- If the same teams played again, what is the chance France would win again?\n",
    "\n",
    "To answer these questions, we have to make some modeling decisions.\n",
    "- First, I’ll assume that for any team against another team there is some unknown goal-scoring rate, measured in goals per game, which I’ll denote with the Python variable `lam` or the Greek letter $\\lambda$, pronounced “lambda”.\n",
    "- Second, I’ll assume that a goal is equally likely during any minute of a game. So, in a 90 minute game, the probability of scoring during any minute is $\\lambda / 90$.\n",
    "- Third, I’ll assume that a team never scores twice during the same minute.\""
   ]
  },
  {
   "cell_type": "markdown",
   "id": "a0a8ff20-4dba-40d1-b278-caf313d892bc",
   "metadata": {
    "collapsed": false
   },
   "source": [
    "### The Poisson Distribution\n",
    "\n",
    "Assumption: the number of goals follows a [Poisson distribution](https://en.wikipedia.org/wiki/Poisson_distribution).\n",
    "Goal-scoring rate is $\\lambda$, the probability of scoring `k` goals is:\n",
    "\n",
    "$\\lambda^k exp(-\\lambda) / k!$\n",
    "\n",
    "for any non-negative value of `k`.\n",
    "\n",
    "We can create one with $\\lambda = 1.4$ like this:\n"
   ]
  },
  {
   "cell_type": "code",
   "execution_count": null,
   "id": "32aea2c2-1d29-49f4-9160-418bd75cdb4d",
   "metadata": {
    "collapsed": false
   },
   "outputs": [],
   "source": [
    "lam = 1.4\n",
    "dist = Dsts.Poisson(lam)\n",
    "k = 4\n",
    "# the probability of scoring 4 goals in a game is about 4%\n",
    "# when the avg goal-scoaring rate is 1.4\n",
    "Dsts.pdf(dist, k) "
   ]
  },
  {
   "cell_type": "code",
   "execution_count": null,
   "id": "53fa7bc5-d06a-47f6-9e53-940dafccba23",
   "metadata": {
    "collapsed": false
   },
   "outputs": [],
   "source": [
    "lam = 1.4\n",
    "goals = collect(0:10)\n",
    "pmfGoals = mkPoissonPmf(lam, goals)"
   ]
  },
  {
   "cell_type": "code",
   "execution_count": null,
   "id": "f099df8d-d410-4895-b567-ce31aa92ccab",
   "metadata": {
    "collapsed": false
   },
   "outputs": [],
   "source": [
    "fig = Cmk.Figure()\n",
    "ax, bp = Cmk.barplot(fig[1, 1], pmfGoals.names, pmfGoals.priors,\n",
    "        axis = (;\n",
    "            title = \"Distribution of goals scored\",\n",
    "            xlabel = \"Number of goals\",\n",
    "            ylabel = \"PMF\",\n",
    "            xticks = 0:10)\n",
    "    )\n",
    "Cmk.axislegend(\n",
    "    ax,\n",
    "    [bp],\n",
    "    [\"Poisson distribution with λ = 1.4\"])\n",
    "fig"
   ]
  },
  {
   "cell_type": "markdown",
   "metadata": {},
   "source": [
    "### The Gamma Distribution"
   ]
  },
  {
   "cell_type": "markdown",
   "metadata": {},
   "source": [
    "Assumption:\n",
    "- good team plays against a bad one, it scores more goals (higher lambda)\n",
    "- bad team plays against a good one, it scores less goals (higher lambda)\n",
    "\n",
    "We model that with [gamma distribution](https://en.wikipedia.org/wiki/Gamma_distribution) because:\n",
    "\n",
    "1. The goal scoring rate is continuous and non-negative, and the gamma distribution is appropriate for this kind of quantity.\n",
    "2. The gamma distribution has only one parameter, alpha, which is the mean. So it’s easy to construct a gamma distribution with the mean we want.\n",
    "3. As we’ll see, the shape of the gamma distribution is a reasonable choice, given what we know about soccer."
   ]
  },
  {
   "cell_type": "code",
   "execution_count": null,
   "metadata": {},
   "outputs": [],
   "source": [
    "alpha = 1.4\n",
    "qs = range(0, 10, 101)\n",
    "ps = Dsts.pdf.(Dsts.Gamma(alpha), qs);"
   ]
  },
  {
   "cell_type": "code",
   "execution_count": null,
   "metadata": {},
   "outputs": [],
   "source": [
    "pmfGoalsGamma = pmf.Pmf(collect(qs), ps)\n",
    "pmf.calculatePosteriors!(pmfGoalsGamma);"
   ]
  },
  {
   "cell_type": "code",
   "execution_count": null,
   "metadata": {},
   "outputs": [],
   "source": [
    "fig = Cmk.Figure()\n",
    "ax, lp = Cmk.lines(fig[1, 1],\n",
    "    pmfGoalsGamma.names, pmfGoalsGamma.posteriors,\n",
    "        axis = (;\n",
    "            title = \"Prior distribution of λ\",\n",
    "            xlabel = \"Goal scoring rate (lam)\",\n",
    "            ylabel = \"PMF\",\n",
    "            xticks = 0:10)\n",
    "    )\n",
    "Cmk.axislegend(\n",
    "    ax,\n",
    "    [lp],\n",
    "    [\"prior value for lam\"])\n",
    "fig"
   ]
  },
  {
   "cell_type": "code",
   "execution_count": null,
   "metadata": {},
   "outputs": [],
   "source": [
    "# confirmation that the mean is about 1.4\n",
    "pmf.getMean(pmfGoalsGamma)"
   ]
  }
 ],
 "metadata": {
  "kernelspec": {
   "display_name": "Julia 1.9.3",
   "language": "julia",
   "name": "julia-1.9"
  },
  "language_info": {
   "file_extension": ".jl",
   "mimetype": "application/julia",
   "name": "julia",
   "version": "1.9.3"
  },
  "name": "ch08.ipynb"
 },
 "nbformat": 4,
 "nbformat_minor": 2
}
