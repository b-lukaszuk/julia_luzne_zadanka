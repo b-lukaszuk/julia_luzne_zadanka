{
 "cells": [
  {
   "cell_type": "markdown",
   "metadata": {},
   "source": [
    "# Chapter 6. Odds and Addends\n",
    "[Link to chapter online](https://allendowney.github.io/ThinkBayes2/chap06.html)"
   ]
  },
  {
   "cell_type": "markdown",
   "metadata": {},
   "source": [
    "## Warning\n",
    "\n",
    "The content of this file may be incorrect, erroneous and/or harmful. Use it at Your own risk."
   ]
  },
  {
   "cell_type": "markdown",
   "metadata": {},
   "source": [
    "## Imports"
   ]
  },
  {
   "cell_type": "code",
   "execution_count": null,
   "metadata": {},
   "outputs": [],
   "source": [
    "import DataFrames as Dfs\n",
    "import Distributions as Dsts\n",
    "import CairoMakie as Cmk"
   ]
  },
  {
   "cell_type": "code",
   "execution_count": null,
   "metadata": {},
   "outputs": [],
   "source": [
    "include(\"./pmf.jl\")\n",
    "import .ProbabilityMassFunction as pmf"
   ]
  },
  {
   "cell_type": "markdown",
   "metadata": {},
   "source": [
    "### Odds\n",
    "\n",
    "Odds [odds = $\\frac{P(success)}{P(failure)} = \\frac{P(success)}{1 -\n",
    "P(success)}$], are used in the form of so called **Bayes's Rule**.\n",
    "\n",
    "Bayes’s Rule is convenient if you want to do a Bayesian update on paper or in\n",
    "your head. It also sheds light on the important idea of evidence and how we can\n",
    "quantify the strength of evidence."
   ]
  },
  {
   "cell_type": "code",
   "execution_count": null,
   "metadata": {},
   "outputs": [],
   "source": [
    "function getOdds(prob::Float64)::Float64\n",
    "    @assert (0 <= prob <= 1) \"prob takes value in range [0-1]\"\n",
    "    return prob / (1 - prob)\n",
    "end"
   ]
  },
  {
   "cell_type": "code",
   "execution_count": null,
   "metadata": {},
   "outputs": [],
   "source": [
    "# if prob of winning is 75% then the odds are\n",
    "# 3 to 1\n",
    "getOdds(0.75)"
   ]
  },
  {
   "cell_type": "code",
   "execution_count": null,
   "metadata": {},
   "outputs": [],
   "source": [
    "# odds in favor (1 to 9)\n",
    "getOdds(0.1)"
   ]
  },
  {
   "cell_type": "code",
   "execution_count": null,
   "metadata": {},
   "outputs": [],
   "source": [
    "# we may prefer to report odds agains 9:1\n",
    "getOdds(1-0.1)"
   ]
  },
  {
   "cell_type": "markdown",
   "metadata": {},
   "source": [
    "We can also do the opposite transformation, below my (BL) convesion for practice\n",
    "\n",
    "$odds = \\frac{p}{1-p}$\n",
    "\n",
    "$\\frac{p}{1-p} = odds$\n",
    "\n",
    "$\\frac{p}{1-p} = odds$ # multiply both sides by (1-p)\n",
    "\n",
    "$p = odds * (1-p)$ # multiply: odds * (1-p)\n",
    "\n",
    "$p = odds - odds * p$ # move (odds*p) to the left with the opposite sign\n",
    "\n",
    "$p + (odds * p) = odds$ # rewrite left side to different equivalent form\n",
    "\n",
    "$p * (1 + odds) = odds$ # move (1+odds) to the right with the opposite sign\n",
    "\n",
    "$p = odds / (1 + odds)$\n",
    "\n",
    "Below, a Julia's function for that calculation:"
   ]
  },
  {
   "cell_type": "code",
   "execution_count": null,
   "metadata": {},
   "outputs": [],
   "source": [
    "function getProb(odds::T)::T where T<:Union{Rational, Float64}\n",
    "    return odds / (odds + 1) \n",
    "end"
   ]
  },
  {
   "cell_type": "code",
   "execution_count": null,
   "metadata": {},
   "outputs": [],
   "source": [
    "getProb(3/2),\n",
    "getProb(3//2)"
   ]
  },
  {
   "cell_type": "code",
   "execution_count": null,
   "metadata": {},
   "outputs": [],
   "source": [
    "function getProb(yes::Int, no::Int)::Float64\n",
    "    return yes / (yes + no) \n",
    "end"
   ]
  },
  {
   "cell_type": "code",
   "execution_count": null,
   "metadata": {},
   "outputs": [],
   "source": [
    "getProb(3, 2)"
   ]
  },
  {
   "cell_type": "markdown",
   "metadata": {},
   "source": [
    "[...] some computations are easier when we work with odds, [...], and some\n",
    "computations are even easier with log odds, [...]."
   ]
  }
 ],
 "metadata": {
  "kernelspec": {
   "display_name": "Julia 1.9.3",
   "language": "julia",
   "name": "julia-1.9"
  },
  "language_info": {
   "file_extension": ".jl",
   "mimetype": "application/julia",
   "name": "julia",
   "version": "1.9.3"
  },
  "vscode": {
   "interpreter": {
    "hash": "31f2aee4e71d21fbe5cf8b01ff0e069b9275f58929596ceb00d14d90e3e16cd6"
   }
  }
 },
 "nbformat": 4,
 "nbformat_minor": 2
}
