{
 "cells": [
  {
   "attachments": {},
   "cell_type": "markdown",
   "id": "0afe05a3",
   "metadata": {},
   "source": [
    "# Task 3\n",
    "\n",
    "## Original exercise number\n",
    "\n",
    "Exercise 16-4\n",
    "\n",
    "## Description\n",
    "\n",
    "Write a “pure” version of `increment` that creates and returns a new `MyTime` object rather than modifying the parameter.\n",
    "\n",
    "Additionally, Exercise 16-3 says no loops.\n",
    "\n"
   ]
  },
  {
   "cell_type": "markdown",
   "id": "c4bc3ea0",
   "metadata": {},
   "source": [
    "## Solution"
   ]
  },
  {
   "cell_type": "markdown",
   "id": "2895339f",
   "metadata": {},
   "source": [
    "NO GUARANTEE THAT THE SOLUTION WILL WORK OR WORKS CORRECTLY! USE IT AT\n",
    "YOUR OWN RISK!"
   ]
  },
  {
   "cell_type": "markdown",
   "id": "64af222d",
   "metadata": {},
   "source": [
    "### Imports"
   ]
  },
  {
   "cell_type": "code",
   "execution_count": null,
   "id": "8401faa2",
   "metadata": {},
   "outputs": [],
   "source": [
    "# none yet"
   ]
  },
  {
   "cell_type": "markdown",
   "id": "13de2cd1",
   "metadata": {},
   "source": [
    "### Structs"
   ]
  },
  {
   "cell_type": "code",
   "execution_count": null,
   "id": "9e287eef",
   "metadata": {},
   "outputs": [],
   "source": [
    "\"\"\"\n",
    "Represents the time of day.\n",
    "\n",
    "fields: hour, minute, second\n",
    "\"\"\"\n",
    "struct MyTime\n",
    "    hour::Int\n",
    "    minute::Int\n",
    "    second::Int\n",
    "end"
   ]
  },
  {
   "cell_type": "markdown",
   "id": "05df47ca",
   "metadata": {},
   "source": [
    "### Functions"
   ]
  },
  {
   "cell_type": "code",
   "execution_count": null,
   "id": "8f860cba",
   "metadata": {},
   "outputs": [],
   "source": [
    "function myTime2Secs(t::MyTime)::Int\n",
    "    return t.hour * 3600 + t.minute * 60 + t.second\n",
    "end"
   ]
  },
  {
   "cell_type": "code",
   "execution_count": null,
   "id": "c8167ffa",
   "metadata": {},
   "outputs": [],
   "source": [
    "function secs2MyTime(seconds::Int)::MyTime\n",
    "    @assert (seconds >= 0) \"the number of seconds must be positive\"\n",
    "    hrs::Int, mins::Int, secs::Int = 0, 0, 0\n",
    "    hrs, secs = divrem(seconds, 3600)\n",
    "    mins, secs = divrem(secs, 60)\n",
    "    return MyTime(hrs, mins, secs)\n",
    "end"
   ]
  },
  {
   "cell_type": "code",
   "execution_count": null,
   "id": "8b637831",
   "metadata": {},
   "outputs": [],
   "source": [
    "function increment(time::MyTime, seconds::Int)::MyTime\n",
    "    timeInSecs::Int = myTime2Secs(time)\n",
    "    return secs2MyTime(timeInSecs + seconds)\n",
    "end"
   ]
  },
  {
   "cell_type": "markdown",
   "id": "f8866cb1",
   "metadata": {},
   "source": [
    "## Testing"
   ]
  },
  {
   "cell_type": "code",
   "execution_count": null,
   "id": "f32472f0",
   "metadata": {},
   "outputs": [],
   "source": [
    "increment(MyTime(10, 10, 01), 3600)"
   ]
  },
  {
   "cell_type": "code",
   "execution_count": null,
   "id": "7f60fdfd",
   "metadata": {},
   "outputs": [],
   "source": [
    "increment(MyTime(10, 10, 01), 1800)"
   ]
  },
  {
   "cell_type": "code",
   "execution_count": null,
   "id": "df002758",
   "metadata": {},
   "outputs": [],
   "source": [
    "increment(MyTime(0, 10, 01), 7213)"
   ]
  }
 ],
 "metadata": {
  "kernelspec": {
   "display_name": "Julia 1.8.3",
   "language": "julia",
   "name": "julia-1.8"
  },
  "language_info": {
   "file_extension": ".jl",
   "mimetype": "application/julia",
   "name": "julia",
   "version": "1.8.3"
  },
  "name": "task1.ipynb"
 },
 "nbformat": 4,
 "nbformat_minor": 5
}
