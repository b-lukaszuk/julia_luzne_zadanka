{
 "cells": [
  {
   "cell_type": "markdown",
   "id": "756018ac-fc3b-4f6a-9c0b-39b231d378c4",
   "metadata": {
    "collapsed": false,
    "jupyter": {
     "outputs_hidden": false
    }
   },
   "source": [
    "# Ch04. Quicksort"
   ]
  },
  {
   "cell_type": "markdown",
   "id": "64b96b92",
   "metadata": {
    "collapsed": false
   },
   "source": [
    "## Imports"
   ]
  },
  {
   "cell_type": "markdown",
   "id": "054da63e",
   "metadata": {
    "collapsed": false
   },
   "source": [
    "## Custom types"
   ]
  },
  {
   "cell_type": "code",
   "execution_count": null,
   "id": "82b8fc6d",
   "metadata": {
    "collapsed": false
   },
   "outputs": [],
   "source": [
    "Num = Union{Int,Float64}"
   ]
  },
  {
   "cell_type": "markdown",
   "id": "ae85e6ee",
   "metadata": {},
   "source": [
    "## Divide & conquer"
   ]
  },
  {
   "cell_type": "markdown",
   "id": "15a0ea93",
   "metadata": {},
   "source": [
    "Suppose there is a plot of land 1680 x 640 (width x height).\n",
    "You want to divide it into square plots of equal area (each equal any other)."
   ]
  },
  {
   "cell_type": "code",
   "execution_count": null,
   "id": "3ee4e0f1",
   "metadata": {},
   "outputs": [],
   "source": [
    "function getSum(arr::Vector{<:Num})::Num\n",
    "    total:: Num = 0 \n",
    "    for aᵢ in arr\n",
    "        total += aᵢ\n",
    "    end\n",
    "    return total\n",
    "end"
   ]
  },
  {
   "cell_type": "code",
   "execution_count": null,
   "id": "3fa930ba",
   "metadata": {},
   "outputs": [],
   "source": [
    "getSum(1:10 |> collect),\n",
    "getSum(1:100 |> collect)"
   ]
  }
 ],
 "metadata": {
  "kernelspec": {
   "display_name": "Julia 1.10.2",
   "language": "julia",
   "name": "julia-1.10"
  },
  "language_info": {
   "file_extension": ".jl",
   "mimetype": "application/julia",
   "name": "julia",
   "version": "1.10.2"
  },
  "name": "ch04.ipynb"
 },
 "nbformat": 4,
 "nbformat_minor": 5
}
