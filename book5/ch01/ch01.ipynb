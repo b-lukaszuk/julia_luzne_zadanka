{
 "cells": [
  {
   "cell_type": "markdown",
   "id": "756018ac-fc3b-4f6a-9c0b-39b231d378c4",
   "metadata": {
    "collapsed": false,
    "jupyter": {
     "outputs_hidden": false
    }
   },
   "source": [
    "# Ch01. Introduction to algorithms "
   ]
  },
  {
   "cell_type": "markdown",
   "id": "2472776c",
   "metadata": {},
   "source": [
    "## Binary Search"
   ]
  },
  {
   "cell_type": "code",
   "execution_count": null,
   "id": "c15b2af0-a824-4bb8-b34c-6c7995e1f2b5",
   "metadata": {
    "collapsed": false,
    "jupyter": {
     "outputs_hidden": false
    }
   },
   "outputs": [],
   "source": [
    "\"\"\"\n",
    "getIndex returns an index of an item in a list or -99 if the item is not found,\n",
    "         it uses binary search algorithm\n",
    "\"\"\"\n",
    "function getIndex(\n",
    "    itemToFind::Int, ascSortedList::Vector{Int},\n",
    "    displayCount::Bool = false)::Int\n",
    "\n",
    "    low::Int = 1\n",
    "    high::Int = length(ascSortedList)\n",
    "    mid::Int = 0\n",
    "    guess::Int = 0\n",
    "    count::Int = 0\n",
    "\n",
    "    while low <= high\n",
    "        count += 1\n",
    "        mid = round(Int, (low + high) / 2)\n",
    "        guess = ascSortedList[mid]\n",
    "        if guess == itemToFind\n",
    "            break\n",
    "        elseif guess > itemToFind\n",
    "            high = mid - 1\n",
    "        else\n",
    "            low = mid + 1\n",
    "        end\n",
    "    end\n",
    "    if displayCount\n",
    "        println(\"Finished in: $count steps\")\n",
    "    end\n",
    "    return low > high ? -99 : mid\n",
    "end"
   ]
  },
  {
   "cell_type": "markdown",
   "id": "631a0d5a",
   "metadata": {},
   "source": [
    "## Binary Search Tests"
   ]
  },
  {
   "cell_type": "code",
   "execution_count": null,
   "id": "b4d1d64c-6f03-4013-bffe-58adc7e19940",
   "metadata": {
    "collapsed": false,
    "jupyter": {
     "outputs_hidden": false
    }
   },
   "outputs": [],
   "source": [
    "test1 = [1, 3, 5, 7, 9]\n",
    "test2 = [1, 3, 5, 7, 9, 11]"
   ]
  },
  {
   "cell_type": "markdown",
   "id": "0d8a6b79",
   "metadata": {},
   "source": [
    "### Positive tests"
   ]
  },
  {
   "cell_type": "code",
   "execution_count": null,
   "id": "b283b419",
   "metadata": {},
   "outputs": [],
   "source": [
    "for elt in test1\n",
    "    println(\"index of $elt in $test1 is: $(getIndex(elt, test1))\")\n",
    "end"
   ]
  },
  {
   "cell_type": "code",
   "execution_count": null,
   "id": "b7fee5b4",
   "metadata": {},
   "outputs": [],
   "source": [
    "for elt in test2\n",
    "    println(\"index of $elt in $test2 is: $(getIndex(elt, test2))\")\n",
    "end"
   ]
  },
  {
   "cell_type": "markdown",
   "id": "a157333e",
   "metadata": {},
   "source": [
    "### Negative tests"
   ]
  },
  {
   "cell_type": "code",
   "execution_count": null,
   "id": "621fc7ab",
   "metadata": {},
   "outputs": [],
   "source": [
    "for elt in [-4, 0, 2, 4, 8, 10]\n",
    "    println(\"index of $elt in $test1 is: $(getIndex(elt, test1))\")\n",
    "end"
   ]
  },
  {
   "cell_type": "code",
   "execution_count": null,
   "id": "a611bb1a",
   "metadata": {},
   "outputs": [],
   "source": [
    "for elt in [-4, 0, 2, 4, 8, 10, 12]\n",
    "    println(\"index of $elt in $test2 is: $(getIndex(elt, test2))\")\n",
    "end"
   ]
  },
  {
   "cell_type": "markdown",
   "id": "3b70f001",
   "metadata": {},
   "source": [
    "## Exercises 1.1 and 1.2"
   ]
  },
  {
   "cell_type": "markdown",
   "id": "bc88d3d6",
   "metadata": {},
   "source": [
    "\n",
    "### Ex 1.1\n",
    "\n",
    "For list of 128 items, what is the maximum number of steps a search would take?"
   ]
  },
  {
   "cell_type": "code",
   "execution_count": null,
   "id": "19d29d35",
   "metadata": {},
   "outputs": [],
   "source": [
    "log2(128)"
   ]
  },
  {
   "cell_type": "code",
   "execution_count": null,
   "id": "571509db",
   "metadata": {},
   "outputs": [],
   "source": [
    "getIndex(1, 1:128 |> collect, true),\n",
    "getIndex(128, 1:128 |> collect, true)"
   ]
  },
  {
   "cell_type": "markdown",
   "id": "dddb6814",
   "metadata": {},
   "source": [
    "### Ex 1.2\n",
    "\n",
    "And what if we double the length of the list?"
   ]
  },
  {
   "cell_type": "code",
   "execution_count": null,
   "id": "dc5d5c77",
   "metadata": {},
   "outputs": [],
   "source": [
    "log2(256)"
   ]
  },
  {
   "cell_type": "code",
   "execution_count": null,
   "id": "7014e30d",
   "metadata": {},
   "outputs": [],
   "source": [
    "getIndex(1, 1:256 |> collect, true),\n",
    "getIndex(256, 1:256 |> collect, true)"
   ]
  },
  {
   "cell_type": "markdown",
   "id": "3b1313f8",
   "metadata": {},
   "source": [
    "## The Big O notation\n",
    "\n",
    "Simple search: O(n)\n",
    "\n",
    "Binary search: O(log n)"
   ]
  },
  {
   "cell_type": "markdown",
   "id": "17b7e18f",
   "metadata": {},
   "source": [
    "## Exercises 1.3-1.6\n",
    "\n",
    "How long it takes to ..."
   ]
  },
  {
   "cell_type": "markdown",
   "id": "102adc07",
   "metadata": {},
   "source": [
    "### Exercise 1.3\n",
    "\n",
    "... find a person's phone number in the phone book when you got their name.\n",
    "\n",
    "O(log n) - using binary search"
   ]
  },
  {
   "cell_type": "markdown",
   "id": "85f322af",
   "metadata": {},
   "source": [
    "### Exercise 1.4\n",
    "\n",
    "... find a person's name in a phone book when you got their phone number.\n",
    "\n",
    "O(n) - using simple search"
   ]
  },
  {
   "cell_type": "markdown",
   "id": "da61480f",
   "metadata": {},
   "source": [
    "### Exercise 1.5\n",
    "\n",
    "... read the numbers of every person in the phone book.\n",
    "\n",
    "O(n) - using simple search"
   ]
  },
  {
   "cell_type": "markdown",
   "id": "9519a642",
   "metadata": {},
   "source": [
    "### Exercise 1.6\n",
    "\n",
    "... read the numbers of just the people with name starting at A.\n",
    "\n",
    "O(n) - using simple search"
   ]
  }
 ],
 "metadata": {
  "kernelspec": {
   "display_name": "Julia 1.10.2",
   "language": "julia",
   "name": "julia-1.10"
  },
  "language_info": {
   "file_extension": ".jl",
   "mimetype": "application/julia",
   "name": "julia",
   "version": "1.10.2"
  },
  "name": "ch01.ipynb"
 },
 "nbformat": 4,
 "nbformat_minor": 5
}
