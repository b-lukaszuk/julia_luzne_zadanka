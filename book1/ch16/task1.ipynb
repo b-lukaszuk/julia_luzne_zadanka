{
 "cells": [
  {
   "attachments": {},
   "cell_type": "markdown",
   "id": "0afe05a3",
   "metadata": {},
   "source": [
    "# Task 1\n",
    "\n",
    "## Original exercise number\n",
    "\n",
    "Exercise 16-1\n",
    "\n",
    "## Description\n",
    "\n",
    "Write a function called printtime that takes a MyTime object and prints it in the form hour:minute:second. The @printf macro of the StdLib module Printf prints an integer with the format sequence \"%02d\" using at least two digits, including a leading zero if necessary."
   ]
  },
  {
   "cell_type": "markdown",
   "id": "c4bc3ea0",
   "metadata": {},
   "source": [
    "## Solution"
   ]
  },
  {
   "cell_type": "markdown",
   "id": "2895339f",
   "metadata": {},
   "source": [
    "NO GUARANTEE THAT THE SOLUTION WILL WORK OR WORKS CORRECTLY! USE IT AT\n",
    "YOUR OWN RISK!"
   ]
  },
  {
   "cell_type": "markdown",
   "id": "64af222d",
   "metadata": {},
   "source": [
    "### Imports"
   ]
  },
  {
   "cell_type": "code",
   "execution_count": null,
   "id": "c3db5e4c",
   "metadata": {},
   "outputs": [],
   "source": [
    "import Printf as pr"
   ]
  },
  {
   "cell_type": "markdown",
   "id": "13de2cd1",
   "metadata": {},
   "source": [
    "### Structs"
   ]
  },
  {
   "cell_type": "code",
   "execution_count": null,
   "id": "9e287eef",
   "metadata": {},
   "outputs": [],
   "source": [
    "\"\"\"\n",
    "Represents the time of day.\n",
    "\n",
    "fields: hour, minute, second\n",
    "\"\"\"\n",
    "struct MyTime\n",
    "    hour::Int\n",
    "    minute::Int\n",
    "    second::Int\n",
    "end"
   ]
  },
  {
   "cell_type": "markdown",
   "id": "05df47ca",
   "metadata": {},
   "source": [
    "### Functions"
   ]
  },
  {
   "cell_type": "code",
   "execution_count": null,
   "id": "c10c6dc2",
   "metadata": {},
   "outputs": [],
   "source": [
    "# I think I'll do a bit better with @sprintf macro\n",
    "# and overwriting default printing in REPL\n",
    "function Base.show(io::IO, time::MyTime)\n",
    "    result::String = pr.@sprintf \"%02d:%02d:%02d\" time.hour time.minute time.second\n",
    "    print(io, result)\n",
    "end"
   ]
  },
  {
   "cell_type": "markdown",
   "id": "f8866cb1",
   "metadata": {},
   "source": [
    "## Testing"
   ]
  },
  {
   "cell_type": "code",
   "execution_count": null,
   "id": "e933e62c",
   "metadata": {},
   "outputs": [],
   "source": [
    "MyTime(10, 2, 30)"
   ]
  },
  {
   "cell_type": "code",
   "execution_count": null,
   "id": "6bdeb15b",
   "metadata": {},
   "outputs": [],
   "source": [
    "MyTime(9, 5, 7)"
   ]
  }
 ],
 "metadata": {
  "kernelspec": {
   "display_name": "Julia 1.8.3",
   "language": "julia",
   "name": "julia-1.8"
  },
  "language_info": {
   "file_extension": ".jl",
   "mimetype": "application/julia",
   "name": "julia",
   "version": "1.8.3"
  },
  "name": "task1.ipynb"
 },
 "nbformat": 4,
 "nbformat_minor": 5
}
