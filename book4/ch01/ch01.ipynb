{
 "cells": [
  {
   "cell_type": "markdown",
   "id": "42205b41",
   "metadata": {},
   "source": [
    "# Chapter 1. Probability\n",
    "[Link to chapter online](https://allendowney.github.io/ThinkBayes2/chap01.html)"
   ]
  },
  {
   "cell_type": "markdown",
   "id": "3bf987e3",
   "metadata": {},
   "source": [
    "## Warning\n",
    "\n",
    "The content of this file may be incorrect, erroneous and/or harmful. Use it at Your own risk."
   ]
  },
  {
   "cell_type": "markdown",
   "id": "6727871b",
   "metadata": {},
   "source": [
    "## Imports"
   ]
  },
  {
   "cell_type": "code",
   "execution_count": null,
   "id": "29996cc6",
   "metadata": {},
   "outputs": [],
   "source": [
    "import CSV as Csv\n",
    "import DataFrames as Dfs\n",
    "import StatsBase as SB\n",
    "import Statistics as Stats"
   ]
  },
  {
   "cell_type": "markdown",
   "id": "7d8bf13b",
   "metadata": {},
   "source": [
    "## Functionality developed in this chapter"
   ]
  },
  {
   "cell_type": "code",
   "execution_count": null,
   "id": "d964716e",
   "metadata": {},
   "outputs": [],
   "source": [
    "function getProb(v::BitVector)::Float64\n",
    "    return Stats.mean(v)\n",
    "end"
   ]
  },
  {
   "cell_type": "code",
   "execution_count": null,
   "id": "a8445248",
   "metadata": {},
   "outputs": [],
   "source": [
    "function getCondProb(\n",
    "    proposition::BitVector, given::BitVector\n",
    "    )::Float64\n",
    "    return getProb(proposition[given])\n",
    "end"
   ]
  },
  {
   "cell_type": "markdown",
   "id": "d8e20b71",
   "metadata": {},
   "source": [
    "## Linda the Banker\n",
    "\n",
    "> Linda is 31 years old, single, outspoken, and very bright. She majored in philosophy. As a student, she was deeply concerned with issues of discrimination and social justice, and also participated in anti-nuclear demonstrations. Which is more probable?\n",
    "> 1. Linda is a bank teller.\n",
    "> 2. Linda is a bank teller and is active in the feminist movement."
   ]
  },
  {
   "cell_type": "markdown",
   "id": "9862df55",
   "metadata": {},
   "source": [
    "## Probability\n",
    "\n",
    "[Link to the data file (gss_bayes.csv) online](https://raw.githubusercontent.com/AllenDowney/BiteSizeBayes/master/gss_bayes.csv)"
   ]
  },
  {
   "cell_type": "code",
   "execution_count": null,
   "id": "862f9f4d",
   "metadata": {},
   "outputs": [],
   "source": [
    "gss = Dfs.DataFrame(Csv.File(\"./gss_bayes.csv\"))\n",
    "first(gss, 5)"
   ]
  },
  {
   "cell_type": "markdown",
   "id": "ee7a2bef",
   "metadata": {},
   "source": [
    "## Fraction of bankers\n",
    "\n",
    "The code for “Banking and related activities” is 6870, so we can select bankers like this:"
   ]
  },
  {
   "cell_type": "code",
   "execution_count": null,
   "id": "fdf51343",
   "metadata": {},
   "outputs": [],
   "source": [
    "banker = (gss.indus10 .== 6870)\n",
    "first(banker, 5)"
   ]
  },
  {
   "cell_type": "code",
   "execution_count": null,
   "id": "784ba8b5",
   "metadata": {},
   "outputs": [],
   "source": [
    "sum(banker)"
   ]
  },
  {
   "cell_type": "code",
   "execution_count": null,
   "id": "440f0c3c",
   "metadata": {},
   "outputs": [],
   "source": [
    "Stats.mean(banker)"
   ]
  },
  {
   "cell_type": "markdown",
   "id": "7ab69ab3",
   "metadata": {},
   "source": [
    "## The probability function\n",
    "\n",
    "<pre>\n",
    "function getProb(v::BitVector)::Float64\n",
    "    return Stats.mean(v)\n",
    "end\n",
    "</pre>"
   ]
  },
  {
   "cell_type": "code",
   "execution_count": null,
   "id": "f8947194",
   "metadata": {},
   "outputs": [],
   "source": [
    "getProb(banker)"
   ]
  },
  {
   "cell_type": "markdown",
   "id": "6bee3b43",
   "metadata": {},
   "source": [
    "columng `gss.sex` coding:\n",
    "1. male\n",
    "2. female"
   ]
  },
  {
   "cell_type": "code",
   "execution_count": null,
   "id": "523167aa",
   "metadata": {},
   "outputs": [],
   "source": [
    "female = (gss.sex .== 2);"
   ]
  },
  {
   "cell_type": "code",
   "execution_count": null,
   "id": "bbd17271",
   "metadata": {},
   "outputs": [],
   "source": [
    "getProb(female)"
   ]
  },
  {
   "cell_type": "markdown",
   "id": "94388a45",
   "metadata": {},
   "source": [
    "## Political Views and Parties\n",
    "\n",
    "`polviews` coding:\n",
    "1. Extremely liberal\n",
    "2. Liberal\n",
    "3. Slightly liberal\n",
    "4. Moderate\n",
    "5. Slightly conservative\n",
    "6. Conservative\n",
    "7. Extremely conservative"
   ]
  },
  {
   "cell_type": "code",
   "execution_count": null,
   "id": "fd5bdd99",
   "metadata": {},
   "outputs": [],
   "source": [
    "liberal = (gss.polviews .<= 3);"
   ]
  },
  {
   "cell_type": "code",
   "execution_count": null,
   "id": "4d9d7a27",
   "metadata": {},
   "outputs": [],
   "source": [
    "getProb(liberal)"
   ]
  },
  {
   "cell_type": "markdown",
   "id": "6e343132",
   "metadata": {},
   "source": [
    "`partyid` coding:\n",
    "0. Strong democrat\n",
    "1. Not strong democrat\n",
    "2. Independent, near democrat\n",
    "3. Independent\n",
    "4. Independent, near republican\n",
    "5. Not strong republican\n",
    "6. Strong republican\n",
    "7. Other party"
   ]
  },
  {
   "cell_type": "code",
   "execution_count": null,
   "id": "2906ce89",
   "metadata": {},
   "outputs": [],
   "source": [
    "democrat = (gss.partyid .<= 1);"
   ]
  },
  {
   "cell_type": "code",
   "execution_count": null,
   "id": "8cdeef9c",
   "metadata": {},
   "outputs": [],
   "source": [
    "getProb(democrat)"
   ]
  },
  {
   "cell_type": "markdown",
   "id": "49ebd339",
   "metadata": {},
   "source": [
    "## Conjunction\n",
    "\n",
    "“Conjunction” is another name for the logical `and` operation. If you have two propositions, `A` and `B`, the conjunction `A` and `B` is `True` if both `A` and `B` are `True`, and `False` otherwise."
   ]
  },
  {
   "cell_type": "code",
   "execution_count": null,
   "id": "4a3756e1",
   "metadata": {},
   "outputs": [],
   "source": [
    "getProb(banker)"
   ]
  },
  {
   "cell_type": "code",
   "execution_count": null,
   "id": "24b4de4d",
   "metadata": {},
   "outputs": [],
   "source": [
    "getProb(democrat)"
   ]
  },
  {
   "cell_type": "code",
   "execution_count": null,
   "id": "8d44a914",
   "metadata": {},
   "outputs": [],
   "source": [
    "getProb(banker .& democrat)"
   ]
  },
  {
   "cell_type": "markdown",
   "id": "e938955d",
   "metadata": {},
   "source": [
    "As we should expect, `getProb(banker .& democrat)` is less than `getProb(banker)`, because not all bankers are Democrats.\n",
    "\n",
    "We expect conjunction to be commutative; that is, `A & B` should be the same as `B & A`. To check, we can also compute `getProb(democrat & banker)`:"
   ]
  },
  {
   "cell_type": "code",
   "execution_count": null,
   "id": "df5b07e1",
   "metadata": {},
   "outputs": [],
   "source": [
    "getProb(democrat .& banker)"
   ]
  },
  {
   "cell_type": "markdown",
   "id": "9761cb7b",
   "metadata": {},
   "source": [
    "## Conditional Probability\n",
    "\n",
    "Questions:\n",
    "- What is the probability that a respondent is a Democrat, given that they are liberal?\n",
    "- What is the probability that a respondent is female, given that they are a banker?\n",
    "- What is the probability that a respondent is liberal, given that they are female?"
   ]
  },
  {
   "cell_type": "code",
   "execution_count": null,
   "id": "4f038b58",
   "metadata": {},
   "outputs": [],
   "source": [
    "democratGivenLiberal = democrat[liberal];"
   ]
  },
  {
   "cell_type": "code",
   "execution_count": null,
   "id": "ee4edd9b",
   "metadata": {},
   "outputs": [],
   "source": [
    "getProb(democratGivenLiberal)"
   ]
  },
  {
   "cell_type": "code",
   "execution_count": null,
   "id": "c2cc9465",
   "metadata": {},
   "outputs": [],
   "source": [
    "femaleGivenBanker = female[banker]\n",
    "getProb(femaleGivenBanker)"
   ]
  },
  {
   "cell_type": "code",
   "execution_count": null,
   "id": "fdfc4b42",
   "metadata": {},
   "outputs": [],
   "source": [
    "getCondProb(liberal, female)"
   ]
  },
  {
   "cell_type": "markdown",
   "id": "59106c11",
   "metadata": {},
   "source": [
    "## Conditional Probability is Not Commutative"
   ]
  },
  {
   "cell_type": "code",
   "execution_count": null,
   "id": "c98bca8c",
   "metadata": {},
   "outputs": [],
   "source": [
    "getCondProb(female, banker)"
   ]
  },
  {
   "cell_type": "markdown",
   "id": "1a46d3cd",
   "metadata": {},
   "source": [
    "About 77% of bankers are female"
   ]
  },
  {
   "cell_type": "code",
   "execution_count": null,
   "id": "e1899a66",
   "metadata": {},
   "outputs": [],
   "source": [
    "getCondProb(banker, female)"
   ]
  },
  {
   "cell_type": "markdown",
   "id": "6bca2eaa",
   "metadata": {},
   "source": [
    "About 2% of female are bankers"
   ]
  },
  {
   "cell_type": "markdown",
   "id": "4f0c4451",
   "metadata": {},
   "source": [
    "## Condition and Conjunction"
   ]
  },
  {
   "cell_type": "code",
   "execution_count": null,
   "id": "89056a7b",
   "metadata": {},
   "outputs": [],
   "source": [
    "getCondProb(female, liberal .& democrat)"
   ]
  },
  {
   "cell_type": "markdown",
   "id": "f132afae",
   "metadata": {},
   "source": [
    "About 57% of liberal Democrats are female."
   ]
  },
  {
   "cell_type": "code",
   "execution_count": null,
   "id": "180197b8",
   "metadata": {},
   "outputs": [],
   "source": [
    "getCondProb(liberal .& female, banker)"
   ]
  },
  {
   "cell_type": "markdown",
   "id": "017a6b76",
   "metadata": {},
   "source": [
    "About 17% of bankers are liberal women."
   ]
  },
  {
   "cell_type": "markdown",
   "id": "12edb995",
   "metadata": {},
   "source": [
    "## Laws of Probability\n",
    "\n",
    "Three theorems (relationships between conjunction and conditional probability), We can:\n",
    "- Theorem 1: use a conjunction to compute a conditional probability.\n",
    "- Theorem 2: use a conditional probability to compute a conjunction.\n",
    "- Theorem 3: use `conditional(A, B)` to compute `conditional(B, A)`.\n",
    "\n",
    "Theorem 3 is also known as Bayes’s Theorem.\n",
    "\n",
    "The three theorems rewriten matematically using the following symbols:\n",
    "- $P(A)$ is the probability of proposition $A$\n",
    "- $P(A~\\mathrm{and}~B)$ is the probability of the conjuction of $A$ and $B$, that is, the probability that both are true.\n",
    "- $P(A | B)$ is the conditional probability of $A$ given that $B$ is true. The vertical line between $A$ and $B$ is pronounced \"given\"."
   ]
  },
  {
   "cell_type": "markdown",
   "id": "b3d7c270",
   "metadata": {},
   "source": [
    "### Theorem 1\n",
    "\n",
    "What fraction of bankers are female?"
   ]
  },
  {
   "cell_type": "code",
   "execution_count": null,
   "id": "53a0538a",
   "metadata": {},
   "outputs": [],
   "source": [
    "(\n",
    "    Stats.mean(female[banker]),\n",
    "    # or\n",
    "    getCondProb(female, banker)\n",
    ")"
   ]
  },
  {
   "cell_type": "markdown",
   "id": "4684a3d4",
   "metadata": {},
   "source": [
    "Another way to compute this conditional probability:\n",
    "1. The fraction of respondents who are female bankers, and\n",
    "2. The fraction of respondents who are bankers\n",
    "\n",
    "In other words:\n",
    "\n",
    "$P(A | B) = \\frac{P(A~\\mathrm{and}~B)}{P(B)}$"
   ]
  },
  {
   "cell_type": "code",
   "execution_count": null,
   "id": "13ae6fff",
   "metadata": {},
   "outputs": [],
   "source": [
    "getProb(female .& banker) / getProb(banker)"
   ]
  },
  {
   "cell_type": "markdown",
   "id": "7ecc12aa",
   "metadata": {},
   "source": [
    "### Theorem 2\n",
    "\n",
    "$P(A | B) = \\frac{P(A~\\mathrm{and}~B)}{P(B)}$\n",
    "\n",
    "multiply both sides by $P(B)$\n",
    "\n",
    "$P(A|B) ~ P(B) = P(A~\\mathrm{and}~B)$\n",
    "\n",
    "we swap sides\n",
    "\n",
    "$P(A~\\mathrm{and}~B) = P(A|B) ~ P(B)$\n",
    "\n",
    "and again we swap sides, but just for the right side (voila we got Theorem 2)\n",
    "\n",
    "$P(A~\\mathrm{and}~B) = P(B) ~ P(A|B)$"
   ]
  },
  {
   "cell_type": "code",
   "execution_count": null,
   "id": "9e37718d",
   "metadata": {},
   "outputs": [],
   "source": [
    "(\n",
    "    getProb(liberal .& democrat),\n",
    "    # or\n",
    "    getProb(democrat) * getCondProb(liberal, democrat)\n",
    ")"
   ]
  },
  {
   "cell_type": "markdown",
   "id": "f49e9236",
   "metadata": {},
   "source": [
    "### Theorem 3\n",
    "\n",
    "We have established that conjunction is commutative:\n",
    "\n",
    "$P(A~\\mathrm{and}~B) = P(B~\\mathrm{and}~A)$\n",
    "\n",
    "We apply Theorem 2, so:\n",
    "\n",
    "$P(A~\\mathrm{and}~B) = P(B)~P(A|B)$\n",
    "\n",
    "and by analogy\n",
    "\n",
    "$P(B~\\mathrm{and}~A) = P(A)~P(B|A)$\n",
    "\n",
    "to both side we get:\n",
    "\n",
    "$P(B)~P(A|B) = P(A)~P(B|A)$"
   ]
  },
  {
   "cell_type": "markdown",
   "id": "1acc9864",
   "metadata": {},
   "source": [
    "Here’s one way to interpret that: if you want to check $A$ and $B$, you can do it in either order:\n",
    "1. You can check $B$ first, then $A$ conditioned on $B$, or\n",
    "2. You can check $A$ first, then $B$ conditioned on $A$.\n",
    "\n",
    "If we divide both sides by $P(B)$ we get Theorem 3:\n",
    "\n",
    "$P(A|B) = \\frac{P(A)P(B|A)}{P(B)}$\n",
    "\n",
    "That is the **Bayes's Theorem**"
   ]
  },
  {
   "cell_type": "code",
   "execution_count": null,
   "id": "7e0d4921",
   "metadata": {},
   "outputs": [],
   "source": [
    "# fraction of bankers who are liberal\n",
    "\n",
    "(\n",
    "    getCondProb(liberal, banker),\n",
    "    # or\n",
    "    getProb(liberal) * getCondProb(banker, liberal) / getProb(banker)\n",
    ")"
   ]
  },
  {
   "cell_type": "markdown",
   "id": "c38262ac",
   "metadata": {},
   "source": [
    "## The Law of Total Probability\n",
    "\n",
    "Below the law of total probability expressed mathematically\n",
    "\n",
    "$P(A) = P(B_1 ~\\mathrm{and}~A) + P(B_2 ~\\mathrm{and}~A)$\n",
    "\n",
    "Assumptions regarding $B_1$ and $B_2$, both the events are:\n",
    "- Mutually exclusive (only one of them can be true), and\n",
    "- Collectively exhaustive (one of them must be true)"
   ]
  },
  {
   "cell_type": "code",
   "execution_count": null,
   "id": "5bc9505d",
   "metadata": {},
   "outputs": [],
   "source": [
    "# P(A) from the formula above (calculated directly)\n",
    "getProb(banker)"
   ]
  },
  {
   "cell_type": "code",
   "execution_count": null,
   "id": "56443dfd",
   "metadata": {},
   "outputs": [],
   "source": [
    "male = (gss.sex .== 1)\n",
    "# P(A) from the formula above (calculated using the formula above)\n",
    "getProb(male .& banker) + getProb(female .& banker)"
   ]
  },
  {
   "cell_type": "markdown",
   "id": "af7ab35f",
   "metadata": {},
   "source": [
    "By applying Theorem 2, i.e.\n",
    "\n",
    "$P(A~\\mathrm{and}~B) = P(B) ~ P(A|B)$\n",
    "\n",
    "*In Theorem 2 (sub-chapter above) we said about commutativity, so $P(A\\ and\\ B) = P(B\\ and\\ A)$*, so I can write:\n",
    "\n",
    "$P(B~\\mathrm{and}~A) = P(B) ~ P(A|B)$\n",
    "\n",
    "And use right side of $P(B\\ and\\ A)$ to apply to the law of total probability:\n",
    "\n",
    "$P(A) = P(B_1 ~\\mathrm{and}~A) + P(B_2 ~\\mathrm{and}~A)$\n",
    "\n",
    "to get:\n",
    "\n",
    "$P(A) = P(B_1)P(A|B_1) + P(B_2)P(A|B_2)$"
   ]
  },
  {
   "cell_type": "code",
   "execution_count": null,
   "id": "7b1ac712",
   "metadata": {},
   "outputs": [],
   "source": [
    "# lets test the last formula\n",
    "(getProb(male) * getCondProb(banker, male)) +\n",
    "(getProb(female) * getCondProb(banker, female))"
   ]
  },
  {
   "cell_type": "markdown",
   "id": "cdb722b7",
   "metadata": {},
   "source": [
    "We can shorten the last formula to:\n",
    "\n",
    "$P(A) = \\sum_i P(B_i) P(A|B_i)$"
   ]
  },
  {
   "cell_type": "code",
   "execution_count": null,
   "id": "fda37361",
   "metadata": {},
   "outputs": [],
   "source": [
    "# in this scale 4.0 represents \"Moderate\"\n",
    "countsPolviews = SB.countmap(gss.polviews)\n",
    "for k in sort(collect(keys(countsPolviews)))\n",
    "    println(k, \" => \", countsPolviews[k])\n",
    "end"
   ]
  },
  {
   "cell_type": "code",
   "execution_count": null,
   "id": "39d4ed8f",
   "metadata": {},
   "outputs": [],
   "source": [
    "# probability of a moderate banker\n",
    "moderate = (gss.polviews .== 4)\n",
    "(\n",
    "    getProb(moderate) * getCondProb(banker, moderate),\n",
    "    getProb(moderate .& banker)\n",
    ")"
   ]
  },
  {
   "cell_type": "code",
   "execution_count": null,
   "id": "e40e2883",
   "metadata": {},
   "outputs": [],
   "source": [
    "(\n",
    "    getProb(banker),\n",
    "    [\n",
    "        getProb(gss.polviews .== i)  *\n",
    "        getCondProb(banker, gss.polviews .== i)\n",
    "        for i in 1:7\n",
    "    ] |> sum\n",
    ")"
   ]
  },
  {
   "cell_type": "markdown",
   "id": "f204f443",
   "metadata": {},
   "source": [
    "## Summary\n",
    "\n",
    "**Theorem 1.** Computing conditional probability using conjunction\n",
    "\n",
    "$P(A|B) = \\frac{P(A\\ and\\ B)}{P(B)}$\n",
    "\n",
    "**Theorem 2.** Computing conjunction using a conditional probability\n",
    "\n",
    "$P(A\\ and\\ B) = P(B) P(A|B)$\n",
    "\n",
    "**Theorem 3.** Bayes's Theorem, a way to get from $P(A|B)$ to $P(B|A)$, or the other way around:\n",
    "\n",
    "$P(A|B) = \\frac{P(A)P(B|A)}{P(B)}$\n",
    "\n",
    "**The Law of Total Probability.** A way to compute probabilities by adding up the pieces:\n",
    "\n",
    "$P(A) = \\sum_i P(B_i) P(A|B_i)$"
   ]
  },
  {
   "cell_type": "markdown",
   "id": "d8a8d7ac",
   "metadata": {},
   "source": [
    "## Exercises"
   ]
  },
  {
   "cell_type": "markdown",
   "id": "24ed2087",
   "metadata": {},
   "source": [
    "### Exercise 1\n",
    "\n",
    "Compute;\n",
    "- The probability that Linda is a female banker,\n",
    "- The probability that Linda is a liberal female banker, and\n",
    "- The probability that Linda is a liberal female banker and a Democrat."
   ]
  },
  {
   "cell_type": "code",
   "execution_count": null,
   "id": "bd4dee1d",
   "metadata": {},
   "outputs": [],
   "source": [
    "# female banker\n",
    "getProb(female .& banker)"
   ]
  },
  {
   "cell_type": "code",
   "execution_count": null,
   "id": "a3fb59ed",
   "metadata": {},
   "outputs": [],
   "source": [
    "getProb(female .& banker .& liberal)"
   ]
  },
  {
   "cell_type": "code",
   "execution_count": null,
   "id": "796f2e2d",
   "metadata": {},
   "outputs": [],
   "source": [
    "getProb(female .& banker .& liberal .& democrat)"
   ]
  },
  {
   "cell_type": "markdown",
   "id": "c8ae7d68",
   "metadata": {},
   "source": [
    "### Exercise 2\n",
    "\n",
    "Compute:\n",
    "- What is the probability that a respondent is liberal, given that they are a Democrat?\n",
    "- What is the probability that a respondent is a Democrat, given that they are liberal?"
   ]
  },
  {
   "cell_type": "code",
   "execution_count": null,
   "id": "cb9fa122",
   "metadata": {},
   "outputs": [],
   "source": [
    "getCondProb(liberal, democrat)"
   ]
  },
  {
   "cell_type": "code",
   "execution_count": null,
   "id": "b6a3a709",
   "metadata": {},
   "outputs": [],
   "source": [
    "getCondProb(democrat, liberal)"
   ]
  }
 ],
 "metadata": {
  "kernelspec": {
   "display_name": "Julia 1.9.3",
   "language": "julia",
   "name": "julia-1.9"
  },
  "language_info": {
   "file_extension": ".jl",
   "mimetype": "application/julia",
   "name": "julia",
   "version": "1.9.3"
  }
 },
 "nbformat": 4,
 "nbformat_minor": 5
}
