{
 "cells": [
  {
   "attachments": {},
   "cell_type": "markdown",
   "id": "0afe05a3",
   "metadata": {},
   "source": [
    "# Task 4\n",
    "\n",
    "## Original exercise number\n",
    "\n",
    "Exercise 16-6\n",
    "\n",
    "## Description\n",
    "\n",
    "Write a function called `multime` that takes a `MyTime` object and a number and returns a new `MyTime` object that contains the product of the original `MyTime` and the number.\n",
    "\n",
    "Then use `multime` to write a function that takes a `MyTime` object that represents the finishing time in a race, and a number that represents the distance, and returns a `MyTime` object that represents the average pace (time per mile)."
   ]
  },
  {
   "cell_type": "markdown",
   "id": "c4bc3ea0",
   "metadata": {},
   "source": [
    "## Solution"
   ]
  },
  {
   "cell_type": "markdown",
   "id": "2895339f",
   "metadata": {},
   "source": [
    "NO GUARANTEE THAT THE SOLUTION WILL WORK OR WORKS CORRECTLY! USE IT AT\n",
    "YOUR OWN RISK!"
   ]
  },
  {
   "cell_type": "markdown",
   "id": "64af222d",
   "metadata": {},
   "source": [
    "### Imports"
   ]
  },
  {
   "cell_type": "code",
   "execution_count": 1,
   "id": "c3db5e4c",
   "metadata": {},
   "outputs": [],
   "source": [
    "# nothing for now"
   ]
  },
  {
   "cell_type": "markdown",
   "id": "13de2cd1",
   "metadata": {},
   "source": [
    "### Structs"
   ]
  },
  {
   "cell_type": "code",
   "execution_count": null,
   "id": "9e287eef",
   "metadata": {},
   "outputs": [],
   "source": [
    "\"\"\"\n",
    "Represents the time of day.\n",
    "\n",
    "fields: hour, minute, second\n",
    "\"\"\"\n",
    "struct MyTime\n",
    "    hour::Int\n",
    "    minute::Int\n",
    "    second::Int\n",
    "end"
   ]
  },
  {
   "cell_type": "markdown",
   "id": "05df47ca",
   "metadata": {},
   "source": [
    "### Functions"
   ]
  },
  {
   "cell_type": "code",
   "execution_count": null,
   "id": "39959c31",
   "metadata": {},
   "outputs": [],
   "source": [
    "# nothing for now"
   ]
  },
  {
   "cell_type": "markdown",
   "id": "f8866cb1",
   "metadata": {},
   "source": [
    "## Testing"
   ]
  },
  {
   "cell_type": "code",
   "execution_count": null,
   "id": "d1bbaa92",
   "metadata": {},
   "outputs": [],
   "source": [
    "# nothing for now"
   ]
  }
 ],
 "metadata": {
  "kernelspec": {
   "display_name": "Julia 1.8.3",
   "language": "julia",
   "name": "julia-1.8"
  },
  "language_info": {
   "file_extension": ".jl",
   "mimetype": "application/julia",
   "name": "julia",
   "version": "1.8.3"
  },
  "name": "task1.ipynb"
 },
 "nbformat": 4,
 "nbformat_minor": 5
}
