{
 "cells": [
  {
   "cell_type": "markdown",
   "id": "756018ac-fc3b-4f6a-9c0b-39b231d378c4",
   "metadata": {
    "collapsed": false,
    "jupyter": {
     "outputs_hidden": false
    }
   },
   "source": [
    "# Ch07. Dijkstra's algorithm"
   ]
  },
  {
   "cell_type": "markdown",
   "id": "64b96b92",
   "metadata": {
    "collapsed": false
   },
   "source": [
    "## Imports"
   ]
  },
  {
   "cell_type": "code",
   "execution_count": null,
   "id": "f9eb3c97",
   "metadata": {},
   "outputs": [],
   "source": [
    "# none yet"
   ]
  },
  {
   "cell_type": "markdown",
   "id": "054da63e",
   "metadata": {
    "collapsed": false
   },
   "source": [
    "## Custom types"
   ]
  },
  {
   "cell_type": "code",
   "execution_count": null,
   "id": "82b8fc6d",
   "metadata": {
    "collapsed": false
   },
   "outputs": [],
   "source": [
    "# none yet"
   ]
  }
 ],
 "metadata": {
  "kernelspec": {
   "display_name": "Julia 1.10.2",
   "language": "julia",
   "name": "julia-1.10"
  },
  "language_info": {
   "file_extension": ".jl",
   "mimetype": "application/julia",
   "name": "julia",
   "version": "1.10.2"
  },
  "name": "ch07.ipynb"
 },
 "nbformat": 4,
 "nbformat_minor": 5
}
