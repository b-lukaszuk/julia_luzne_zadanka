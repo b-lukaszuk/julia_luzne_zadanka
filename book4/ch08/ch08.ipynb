{
 "cells": [
  {
   "cell_type": "markdown",
   "metadata": {
    "collapsed": false,
    "jupyter": {
     "outputs_hidden": false
    }
   },
   "source": [
    "# Chapter 8. Poisson Processes\n",
    "\n",
    "[Link to chapter online](https://allendowney.github.io/ThinkBayes2/chap08.html)"
   ]
  },
  {
   "cell_type": "markdown",
   "metadata": {
    "collapsed": false,
    "jupyter": {
     "outputs_hidden": false
    }
   },
   "source": [
    "## Warning\n",
    "\n",
    "The content of this file may be incorrect, erroneous and/or harmful. Use it at Your own risk."
   ]
  },
  {
   "cell_type": "markdown",
   "metadata": {
    "collapsed": false,
    "jupyter": {
     "outputs_hidden": false
    }
   },
   "source": [
    "## Imports"
   ]
  },
  {
   "cell_type": "code",
   "execution_count": null,
   "metadata": {
    "collapsed": false,
    "jupyter": {
     "outputs_hidden": false
    }
   },
   "outputs": [],
   "source": [
    "include(\"./pmfAndCdf.jl\")\n",
    "#import .ProbabilityMassFunction as Pmf # if defined with module (and export) in pmfAndCdf.jl\n",
    "#using .ProbabilityMassFunction # if defined with module and export in pmfAndCdf.jl\n",
    "\n",
    "include(\"./simplestat.jl\")\n",
    "#import .SimpleStatistics as Ss # if defined with module (and export) in simplestat.jl\n",
    "#using .ProbabilityMassFunction # if defined with module and export in simplestat.jl"
   ]
  },
  {
   "cell_type": "markdown",
   "metadata": {
    "collapsed": false,
    "jupyter": {
     "outputs_hidden": false
    }
   },
   "source": [
    "### The World Cup Problem\n",
    "\n",
    "In the 2018 FIFA World Cup final, France defeated Croatia 4 goals to 2. Based on this outcome:\n",
    "- How confident should we be that France is the better team?\n",
    "- If the same teams played again, what is the chance France would win again?\n",
    "\n",
    "To answer these questions, we have to make some modeling decisions.\n",
    "- First, I’ll assume that for any team against another team there is some unknown goal-scoring rate, measured in goals per game, which I’ll denote with the Python variable `lam` or the Greek letter $\\lambda$, pronounced “lambda”.\n",
    "- Second, I’ll assume that a goal is equally likely during any minute of a game. So, in a 90 minute game, the probability of scoring during any minute is $\\lambda / 90$.\n",
    "- Third, I’ll assume that a team never scores twice during the same minute.\""
   ]
  },
  {
   "cell_type": "markdown",
   "metadata": {},
   "source": [
    "## The Poisson Distribution\n",
    "\n",
    "If the number of goals scored in a game follows a Poisson distribution with a goal-scoring rate $\\lambda$, the probability of scoring $k$ goals is\n",
    "\n",
    "$\\lambda^{k} * exp(-\\lambda)/k!$\n",
    "\n",
    "or\n",
    "\n",
    "$\\frac{\\lambda^{k} * exp^{-\\lambda}}{k!}$\n",
    "\n",
    "or\n",
    "\n",
    "$\\frac{\\lambda^{k}}{k!}e^{-\\lambda}$\n",
    "\n",
    "for any non-negative value of $k$."
   ]
  },
  {
   "cell_type": "code",
   "execution_count": null,
   "metadata": {},
   "outputs": [],
   "source": [
    "lam = 1.4\n",
    "distPois = Dsts.Poisson(lam)"
   ]
  },
  {
   "cell_type": "code",
   "execution_count": null,
   "metadata": {},
   "outputs": [],
   "source": [
    "# k goals\n",
    "k = 4\n",
    "Dsts.pdf(distPois, k)"
   ]
  },
  {
   "cell_type": "markdown",
   "metadata": {},
   "source": [
    "This result implies that if the average goal-scoring rate is 1.4 goals per game, then probability of scoring 4 goals in a game is ~4%."
   ]
  },
  {
   "cell_type": "code",
   "execution_count": null,
   "metadata": {},
   "outputs": [],
   "source": [
    "# custom type\n",
    "Num = Union{Int, Float64}"
   ]
  },
  {
   "cell_type": "code",
   "execution_count": null,
   "metadata": {},
   "outputs": [],
   "source": [
    "function getPoisPmf(\n",
    "        lam::A,\n",
    "        qs::Vector{B}\n",
    "        )::Pmf{B} where {A<:Num, B<:Num}\n",
    "    ps::Vector{Float64} = Dsts.pdf.(Dsts.Poisson(lam), qs)\n",
    "    pmf::Pmf{B} = Pmf(qs, ps)\n",
    "    return pmf\n",
    "end"
   ]
  },
  {
   "cell_type": "code",
   "execution_count": null,
   "metadata": {},
   "outputs": [],
   "source": [
    "lam = 1.4\n",
    "goals = 0:10 |> collect\n",
    "pmfGoals = getPoisPmf(lam, goals)"
   ]
  },
  {
   "cell_type": "code",
   "execution_count": null,
   "metadata": {},
   "outputs": [],
   "source": [
    "fig = Cmk.Figure()\n",
    "ax, bp = Cmk.barplot(fig[1, 1],\n",
    "    pmfGoals.names, pmfGoals.priors,\n",
    "    axis=(;title=\"Distribution of goals scored\",\n",
    "        xlabel=\"Number of goals\",\n",
    "        ylabel=\"PMF\",\n",
    "        xticks=0:10\n",
    "    )\n",
    ")\n",
    "Cmk.axislegend(\n",
    "    ax,\n",
    "    [bp],\n",
    "    [\"λ = 1.4\"],\n",
    "    \"Poisson distribution\"\n",
    ")\n",
    "fig"
   ]
  },
  {
   "cell_type": "markdown",
   "metadata": {},
   "source": [
    "[...]\n",
    "\n",
    "Now let’s turn it around: given a number of goals, what can we say about the goal-scoring rate?\n",
    "\n",
    "To answer that, we need to think about the prior distribution of `lam`, which represents the range of possible values and their probabilities before we see the score."
   ]
  },
  {
   "cell_type": "markdown",
   "metadata": {},
   "source": [
    "## The Gamma Distribution\n",
    "\n",
    "Using [data](https://www.statista.com/statistics/269031/goals-scored-per-game-at-the-fifa-world-cup-since-1930/) [...] each team scores about 1.4 goals per game, on average (so $\\lambda = 1.4$).\n",
    "\n",
    "For a good team against a bad one, $\\lambda$ will be higher; for a bad team against a good one, it will be lower.\n",
    "\n",
    "We will model it with [gamma distribution](https://en.wikipedia.org/wiki/Gamma_distribution). It is usually used to model the time that passes before $\\alpha$ occurences of a randomly occuring event (an event that occurs via Poisson process)."
   ]
  },
  {
   "cell_type": "code",
   "execution_count": null,
   "metadata": {},
   "outputs": [],
   "source": [
    "alpha = 1.4\n",
    "qs = range(0, 10, 101)\n",
    "ps = Dsts.pdf.(Dsts.Gamma(alpha), qs);"
   ]
  },
  {
   "cell_type": "markdown",
   "metadata": {},
   "source": [
    "The parameter, `alpha`, is the mean of the distribution. The `qs` are possible values of `lam` between 0 and 10. The `ps` are probability densities, which we can think of as unnormalized probabilities."
   ]
  },
  {
   "cell_type": "code",
   "execution_count": null,
   "metadata": {},
   "outputs": [],
   "source": [
    "lambdasPmf = Pmf(qs |> collect, ps)"
   ]
  },
  {
   "cell_type": "code",
   "execution_count": null,
   "metadata": {},
   "outputs": [],
   "source": [
    "fig = Cmk.Figure()\n",
    "Cmk.lines(fig[1, 1],\n",
    "    lambdasPmf.names, lambdasPmf.priors,\n",
    "    color=\"lightgray\", linestyle=:dash, linewidth=3,\n",
    "    axis=(;title=\"Prior distribution of λ\",\n",
    "        xlabel=\"Goal scoring rate (λ)\", ylabel=\"PMF\",\n",
    "        xticks=0:2:10, yticks=0:0.01:0.06)\n",
    ")\n",
    "fig"
   ]
  },
  {
   "cell_type": "markdown",
   "metadata": {},
   "source": [
    "This distribution represents our prior knowledge about goal scoring: 'lam' is usually less than 2, occasionally as high as 6, and seldom higher than that.\n",
    "\n",
    "We can confirm that mean is about 1.4."
   ]
  },
  {
   "cell_type": "code",
   "execution_count": null,
   "metadata": {},
   "outputs": [],
   "source": [
    "getMean(lambdasPmf, true),\n",
    "getQuantile(lambdasPmf, 0.5, true),\n",
    "getCredibleInterval(lambdasPmf, 0.5, true)"
   ]
  },
  {
   "cell_type": "markdown",
   "metadata": {},
   "source": [
    "[...] could disagree about [...] the prior, but this is good enough to get started."
   ]
  }
 ],
 "metadata": {
  "kernelspec": {
   "display_name": "Julia 1.10.2",
   "language": "julia",
   "name": "julia-1.10"
  },
  "language_info": {
   "file_extension": ".jl",
   "mimetype": "application/julia",
   "name": "julia",
   "version": "1.10.2"
  },
  "name": "ch08.ipynb"
 },
 "nbformat": 4,
 "nbformat_minor": 4
}
