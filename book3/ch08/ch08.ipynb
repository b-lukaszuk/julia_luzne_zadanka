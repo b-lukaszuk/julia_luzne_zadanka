{
 "cells": [
  {
   "attachments": {},
   "cell_type": "markdown",
   "metadata": {},
   "source": [
    "# Chapter 8. Principles of statistical analysis"
   ]
  },
  {
   "attachments": {},
   "cell_type": "markdown",
   "metadata": {},
   "source": [
    "## Imports "
   ]
  },
  {
   "cell_type": "code",
   "execution_count": null,
   "metadata": {},
   "outputs": [],
   "source": [
    "import DataFrames as pd # pandas in python\n",
    "import Distributions as dst"
   ]
  },
  {
   "attachments": {},
   "cell_type": "markdown",
   "metadata": {},
   "source": [
    "## Warning regarding solutions"
   ]
  },
  {
   "attachments": {},
   "cell_type": "markdown",
   "metadata": {},
   "source": [
    "NO GUARANTEE THAT THE SOLUTIONS WILL WORK OR WORK CORRECTLY! USE THEM AT YOUR OWN RISK!\n",
    "\n",
    "THE ANSWERS PROVIDED BELOW MAY BE WRONG. USE THEM AT YOUR OWN RISK!"
   ]
  },
  {
   "attachments": {},
   "cell_type": "markdown",
   "metadata": {},
   "source": [
    "# Exercises"
   ]
  },
  {
   "attachments": {},
   "cell_type": "markdown",
   "metadata": {},
   "source": [
    "## Exercise 8.2\n",
    "\n",
    "Eight diabetic patients had plasma glucose levels (mmol/l) measured before and one hour after oral administration of 100 g glucose (Feingold et al., 1989), with the following results\n",
    "\n",
    "before = [4.67, 4.97, 5.11, 5.17, 5.33, 6.22, 6.50, 7.00]\n",
    "\n",
    "after = [5.44, 10.11, 8.49, 6.61, 10.67, 5.67, 5.78, 9.89]\n",
    "\n",
    "(a) Calculate the standard error of the mean change in plasma glucose\n",
    "\n",
    "(b) On the basis of these data, how many diabetic patients would need to be studied so that the width of the 95% conficence interval for the mean change in plasma glucose level was 0.5 mmol/l? (Assume that the Normal distribution is the appropriate sampling distribution of the change in plasma glucose.)"
   ]
  },
  {
   "cell_type": "code",
   "execution_count": null,
   "metadata": {},
   "outputs": [],
   "source": [
    "ex82 = pd.DataFrame((\n",
    "    ;glucose_before = [4.67, 4.97, 5.11, 5.17, 5.33, 6.22, 6.50, 7.00],\n",
    "    glucose_after = [5.44, 10.11, 8.49, 6.61, 10.67, 5.67, 5.78, 9.89]\n",
    "    ))\n",
    "ex82[:, \"change\"] = ex82[!, \"glucose_after\"] - ex82[!, \"glucose_before\"]\n",
    "ex82"
   ]
  },
  {
   "attachments": {},
   "cell_type": "markdown",
   "metadata": {},
   "source": [
    "### Ex.8.2a Solution"
   ]
  },
  {
   "cell_type": "code",
   "execution_count": null,
   "metadata": {},
   "outputs": [],
   "source": [
    "function get_mean(xs::Vector{<:Number})::Float64\n",
    "    return sum(xs) / length(xs)\n",
    "end\n",
    "\n",
    "function get_sd(xs::Vector{<:Number})::Float64\n",
    "    mean::Float64 = get_mean(xs)\n",
    "    return sqrt(sum([(x-mean)^2 for x in xs]) / (length(xs) - 1))\n",
    "end"
   ]
  },
  {
   "cell_type": "code",
   "execution_count": null,
   "metadata": {},
   "outputs": [],
   "source": [
    "function get_sem(xs::Vector{<:Number})::Float64\n",
    "    return get_sd(xs) / sqrt(length(xs))\n",
    "end"
   ]
  },
  {
   "cell_type": "code",
   "execution_count": null,
   "metadata": {},
   "outputs": [],
   "source": [
    "# here we don't use the formula for two independent samples\n",
    "# since before and after are dependent, so sem for single sample is OK\n",
    "get_sem(ex82[!, \"change\"])"
   ]
  },
  {
   "attachments": {},
   "cell_type": "markdown",
   "metadata": {},
   "source": [
    "### Ex.8.2a Answer\n",
    "\n",
    "So, SEM of change for glucose is equal to 0.8354..."
   ]
  },
  {
   "attachments": {},
   "cell_type": "markdown",
   "metadata": {},
   "source": [
    "### Ex.8.2b Solution\n",
    "\n",
    "So in order to answer this question I need to solve this equation for `sem`:\n",
    "\n",
    "$(mean + sem * 1.96) - (mean - sem * 1.96) = 0.5$\n",
    "\n",
    "After transformations I got:\n",
    "\n",
    "$sem = 0.25/1.96$\n",
    "\n",
    "So in order to have the range of 95% CI equal to 0.5 mmol/l `sem` needs to be equal to 0.25/1.96 = 0.1275...\n",
    "\n",
    "Since `sem` is `sd/sqrt(n)` than I need to solve this equation for `n`:\n",
    "\n",
    "$sem = sd / sqrt(n)$\n",
    "\n",
    "After transformations I got:\n",
    "\n",
    "$n = (sd / sem)^2$"
   ]
  },
  {
   "cell_type": "code",
   "execution_count": null,
   "metadata": {},
   "outputs": [],
   "source": [
    "(get_sd(ex82[!, \"change\"]) / (0.25/1.96))^2"
   ]
  },
  {
   "attachments": {},
   "cell_type": "markdown",
   "metadata": {},
   "source": [
    "It seems that it takes between 343 and 344 patients from population of normal distribution with mean and sd like in the ex82[!, \"change\"]\n",
    "to reduce the range of 95% CI to 0.5 mmol/l.\n",
    "\n",
    "Let's test this with a computer simulation."
   ]
  },
  {
   "cell_type": "code",
   "execution_count": null,
   "metadata": {},
   "outputs": [],
   "source": [
    "# 95% ci range for sample\n",
    "function get_95perc_ci_range(xs::Vector{<:Number})::Float64\n",
    "    mean::Float64 = get_mean(xs)\n",
    "    sem::Float64 = get_sem(xs)\n",
    "    upper_95perc_ci::Float64 = mean + 1.96 * sem\n",
    "    lower_95perc_ci::Float64 = mean - 1.96 * sem\n",
    "    return upper_95perc_ci - lower_95perc_ci\n",
    "end"
   ]
  },
  {
   "cell_type": "code",
   "execution_count": null,
   "metadata": {},
   "outputs": [],
   "source": [
    "function get_95perc_ci_range_from_simulation(\n",
    "    population_mean::Float64, population_sd::Float64,\n",
    "    n_in_sample::Int)::Float64\n",
    "    population::Vector{<:Number} = rand(\n",
    "        dst.Normal(population_mean, population_sd),\n",
    "        n_in_sample)\n",
    "    sem = get_sem(population)\n",
    "    mean = get_mean(population)\n",
    "    upper_95perc_ci::Float64 = mean + 1.96 * sem\n",
    "    lower_95perc_ci::Float64 = mean - 1.96 * sem\n",
    "    return upper_95perc_ci - lower_95perc_ci\n",
    "end"
   ]
  },
  {
   "cell_type": "code",
   "execution_count": null,
   "metadata": {},
   "outputs": [],
   "source": [
    "function estimate_95perc_ci_range(\n",
    "    population_mean::Float64, population_sd::Float64, n_in_sample::Int,\n",
    "    n_simulations::Int)::Float64\n",
    "    ranges::Vector{Float64} = [\n",
    "        get_95perc_ci_range_from_simulation(population_mean, population_sd,\n",
    "        n_in_sample) for _ in 1:n_simulations]\n",
    "    return sum(ranges)/n_simulations\n",
    "end"
   ]
  },
  {
   "cell_type": "code",
   "execution_count": null,
   "metadata": {},
   "outputs": [],
   "source": [
    "estimate_95perc_ci_range(\n",
    "    get_mean(ex82[!, \"change\"]), get_sd(ex82[!, \"change\"]),\n",
    "    343, 100_000)"
   ]
  },
  {
   "attachments": {},
   "cell_type": "markdown",
   "metadata": {},
   "source": [
    "### Ex.8.2b Answer\n",
    "\n",
    "Both mathematical calculations and computer simulation indicate that it takes a sample of 343 or 344 patients drawn from a normal population with `mean = mean(change)` and `sd = sd(change)` to get the range of 95% CI equal to 0.5 mmol/l."
   ]
  },
  {
   "attachments": {},
   "cell_type": "markdown",
   "metadata": {},
   "source": [
    "## Exercise 8.3\n",
    "\n",
    "In a clinical trial in which a total of 100 patients are allocated to two treatments by simple randomization, show that the probability that the difference between the numbers of patients in the two treatment groups exceedes 20 is about 5% (Hint: consider the distribution of the number of patients allocated to one of the groups).\n",
    "\n",
    "### My Notes\n",
    "\n",
    "So, I guess it looks like this: a patient comes to a doctor/researcher and the doctor tosses a fair coin to decide if patient should belong to group A or B.\n",
    "\n",
    "The doctor does so for 100 patients."
   ]
  },
  {
   "cell_type": "code",
   "execution_count": null,
   "metadata": {},
   "outputs": [],
   "source": [
    "# when the difference is equal 20 (60-40), here exceeds 20, so greater than 60-40,\n",
    "# e.g. 61-39, 62-38, etc. (for grA/grB)\n",
    "# but it also goes the other way, so, 39-61, 38-62 (for grB/grA)\n",
    "(1-dst.cdf.(dst.Binomial(100, 0.5), 60))*2"
   ]
  },
  {
   "attachments": {},
   "cell_type": "markdown",
   "metadata": {},
   "source": [
    "So it seems that it is rather ~3.5% and not 5% (exceeds 20, not >= 20 in the task description). If it were >= 20 then it would be ~5.7%\n",
    "\n",
    "Still, let's confirm that with a computer simulation"
   ]
  },
  {
   "cell_type": "code",
   "execution_count": null,
   "metadata": {},
   "outputs": [],
   "source": [
    "function is_diff_in_patients_per_group_greater_than_20()::Bool\n",
    "    patients::Vector{Int} = rand(0:1, 100)\n",
    "    n_in_gr_b::Int = sum(patients)\n",
    "    return n_in_gr_b < 40 || n_in_gr_b > 60\n",
    "end"
   ]
  },
  {
   "cell_type": "code",
   "execution_count": null,
   "metadata": {},
   "outputs": [],
   "source": [
    "function get_prob_of_diff_in_n_patients_greater_than_20(\n",
    "    n_simulations::Int\n",
    ")::Float64\n",
    "    diff_greater_than_20::Vector{Bool} = [\n",
    "        is_diff_in_patients_per_group_greater_than_20() for _ in 1:n_simulations]\n",
    "    return sum(diff_greater_than_20) / n_simulations\n",
    "end"
   ]
  },
  {
   "cell_type": "code",
   "execution_count": null,
   "metadata": {},
   "outputs": [],
   "source": [
    "get_prob_of_diff_in_n_patients_greater_than_20(100_000)"
   ]
  },
  {
   "attachments": {},
   "cell_type": "markdown",
   "metadata": {},
   "source": [
    "### Ex8.3 Answer\n",
    "\n",
    "Both, mathematical calculations and computer simulation confirm that the probability that `abs(length(gr_a) - length(gr_b)) > 20` is equal to ~3.5% (when You assign a patient to a group by tossing a fair coin, and you got 100 patients)\n"
   ]
  }
 ],
 "metadata": {
  "kernelspec": {
   "display_name": "Julia 1.8.3",
   "language": "julia",
   "name": "julia-1.8"
  },
  "language_info": {
   "file_extension": ".jl",
   "mimetype": "application/julia",
   "name": "julia",
   "version": "1.8.3"
  },
  "orig_nbformat": 4,
  "vscode": {
   "interpreter": {
    "hash": "31f2aee4e71d21fbe5cf8b01ff0e069b9275f58929596ceb00d14d90e3e16cd6"
   }
  }
 },
 "nbformat": 4,
 "nbformat_minor": 2
}
