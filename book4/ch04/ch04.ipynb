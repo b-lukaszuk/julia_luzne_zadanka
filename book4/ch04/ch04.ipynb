{
 "cells": [
  {
   "cell_type": "markdown",
   "id": "57e968d5",
   "metadata": {},
   "source": [
    "# Chapter 4. Estimating Proportions\n",
    "[Link to chapter online](https://allendowney.github.io/ThinkBayes2/chap04.html)\n",
    "\n",
    "A reminder of Bayes’s Theorem:\n",
    "\n",
    "$P(A|B) = \\frac{P(A)P(B|A)}{P(B)}$\n",
    "\n",
    "or\n",
    "\n",
    "$P(H|D) = \\frac{P(H)P(D|H)}{P(D)}$"
   ]
  },
  {
   "cell_type": "markdown",
   "id": "4350a5e3",
   "metadata": {},
   "source": [
    "## Warning\n",
    "\n",
    "The content of this file may be incorrect, erroneous and/or harmful. Use it at Your own risk."
   ]
  },
  {
   "cell_type": "markdown",
   "id": "d3e42113",
   "metadata": {},
   "source": [
    "## Imports"
   ]
  },
  {
   "cell_type": "code",
   "execution_count": null,
   "id": "b5f34f9d",
   "metadata": {},
   "outputs": [],
   "source": [
    "# none for now"
   ]
  },
  {
   "cell_type": "code",
   "execution_count": null,
   "id": "8ba74a21",
   "metadata": {},
   "outputs": [],
   "source": [
    "include(\"pmf.jl\")\n",
    "import .ProbabilityMassFunction as Pmf\n"
   ]
  },
  {
   "cell_type": "markdown",
   "id": "5ec5f5b6",
   "metadata": {},
   "source": [
    "## Functionality developed in this chapter"
   ]
  },
  {
   "cell_type": "code",
   "execution_count": null,
   "id": "524cec93",
   "metadata": {},
   "outputs": [],
   "source": [
    "# none for now"
   ]
  },
  {
   "cell_type": "markdown",
   "id": "d2876473",
   "metadata": {},
   "source": [
    "## The Euro Problem\n",
    "\n",
    "In Information Theory, Inference, and Learning Algorithms, David MacKay poses this problem:\n",
    "\n",
    "“A statistical statement appeared in The Guardian on Friday January 4, 2002:\n",
    "\n",
    "> When spun on edge 250 times, a Belgian one-euro coin came up heads 140 times\n",
    "> and tails 110. \"It looks very suspicious to me\", said Barry Blight, a statistics\n",
    "> lecturer at the London School of Economics. \"If the coin were unbiased, the\n",
    "> chance of getting a result as extreme as that would be less than 7%.\"\n",
    "\n",
    "“But [MacKay asks] do these data give evidence that the coin is biased rather than fair?”\n",
    "\n",
    "\n"
   ]
  }
 ],
 "metadata": {
  "kernelspec": {
   "display_name": "Julia 1.9.3",
   "language": "julia",
   "name": "julia-1.9"
  },
  "language_info": {
   "file_extension": ".jl",
   "mimetype": "application/julia",
   "name": "julia",
   "version": "1.9.3"
  },
  "name": "Untitled.ipynb"
 },
 "nbformat": 4,
 "nbformat_minor": 5
}
