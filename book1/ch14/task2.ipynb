{
 "cells": [
  {
   "cell_type": "markdown",
   "id": "0afe05a3",
   "metadata": {},
   "source": [
    "# Task 2\n",
    "\n",
    "## Original exercise number\n",
    "\n",
    "Exercise 14-4\n",
    "\n",
    "## Description\n",
    "\n",
    "In a large collection of MP3 files, there may be more than one copy of the same song, stored in different directories or with different file names. The goal of this exercise is to search for duplicates.\n",
    "\n",
    "1. Write a program that searches a directory and all of its subdirectories, recursively, and returns an array of complete paths for all files with a given suffix (like .mp3).\n",
    "\n",
    "2. To recognize duplicates, you can use `md5sum` or `md5` to compute a “checksum” for each files. If two files have the same checksum, they probably have the same contents.\n",
    "\n",
    "3. To double-check, you can use the Unix command `diff`."
   ]
  },
  {
   "cell_type": "markdown",
   "id": "c4bc3ea0",
   "metadata": {},
   "source": [
    "## Solution"
   ]
  },
  {
   "cell_type": "markdown",
   "id": "2895339f",
   "metadata": {},
   "source": [
    "NO GUARANTEE THAT THE SOLUTION WILL WORK OR WORKS CORRECTLY! USE IT AT\n",
    "YOUR OWN RISK!"
   ]
  },
  {
   "cell_type": "markdown",
   "id": "05df47ca",
   "metadata": {},
   "source": [
    "### Functions"
   ]
  },
  {
   "cell_type": "code",
   "execution_count": 1,
   "id": "b0b7c927",
   "metadata": {},
   "outputs": [
    {
     "data": {
      "text/plain": [
       "walk_paths_get_file_names_with_suffix (generic function with 2 methods)"
      ]
     },
     "execution_count": 1,
     "metadata": {},
     "output_type": "execute_result"
    }
   ],
   "source": [
    "# I will use (and modify) walk function from this chapter\n",
    "function walk_paths_get_file_names_with_suffix(\n",
    "        start_dirname::String, suffix::String,\n",
    "        accumulator::Vector{String}=Vector{String}([]))::Vector{String}\n",
    "    for name in readdir(start_dirname)\n",
    "        path::String = joinpath(start_dirname, name)\n",
    "        if isfile(path)\n",
    "            if endswith(path, suffix)\n",
    "                push!(accumulator, path)\n",
    "            end\n",
    "        else\n",
    "            walk_paths_get_file_names_with_suffix(path, suffix, accumulator)\n",
    "        end\n",
    "    end\n",
    "    return accumulator\n",
    "end"
   ]
  },
  {
   "cell_type": "code",
   "execution_count": 2,
   "id": "e12dbf15",
   "metadata": {},
   "outputs": [
    {
     "data": {
      "text/plain": [
       "5-element Vector{String}:\n",
       " \"./t1/t2/b.txt\"\n",
       " \"./t1/t2/t4/c.txt\"\n",
       " \"./t1/t2/t4/e.txt\"\n",
       " \"./t1/t3/a.txt\"\n",
       " \"./task1_test.txt\""
      ]
     },
     "execution_count": 2,
     "metadata": {},
     "output_type": "execute_result"
    }
   ],
   "source": [
    "walk_paths_get_file_names_with_suffix(\"./\", \".txt\")"
   ]
  },
  {
   "cell_type": "markdown",
   "id": "f8866cb1",
   "metadata": {},
   "source": [
    "## Testing"
   ]
  }
 ],
 "metadata": {
  "kernelspec": {
   "display_name": "Julia 1.8.3",
   "language": "julia",
   "name": "julia-1.8"
  },
  "language_info": {
   "file_extension": ".jl",
   "mimetype": "application/julia",
   "name": "julia",
   "version": "1.8.3"
  },
  "name": "task1.ipynb"
 },
 "nbformat": 4,
 "nbformat_minor": 5
}
