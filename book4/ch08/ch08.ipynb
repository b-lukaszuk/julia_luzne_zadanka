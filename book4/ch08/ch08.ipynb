{
 "cells": [
  {
   "cell_type": "markdown",
   "id": "183fb823-cdcd-472e-9369-3cc8acba454b",
   "metadata": {
    "collapsed": false,
    "jupyter": {
     "outputs_hidden": false
    }
   },
   "source": [
    "# Chapter 8. Poisson Processes\n",
    "\n",
    "[Link to chapter online](https://allendowney.github.io/ThinkBayes2/chap08.html)"
   ]
  },
  {
   "cell_type": "markdown",
   "id": "b1c078c9-8931-49b9-90fa-415cec69bf14",
   "metadata": {
    "collapsed": false,
    "jupyter": {
     "outputs_hidden": false
    }
   },
   "source": [
    "## Warning\n",
    "\n",
    "The content of this file may be incorrect, erroneous and/or harmful. Use it at Your own risk."
   ]
  },
  {
   "cell_type": "markdown",
   "id": "e07d55f5-d06d-490e-aba0-8d4a8727281e",
   "metadata": {
    "collapsed": false,
    "jupyter": {
     "outputs_hidden": false
    }
   },
   "source": [
    "## Imports"
   ]
  },
  {
   "cell_type": "code",
   "execution_count": null,
   "id": "5ae63b3b-2058-4356-9b48-2f84f3632ae9",
   "metadata": {
    "collapsed": false,
    "jupyter": {
     "outputs_hidden": false
    }
   },
   "outputs": [],
   "source": [
    "include(\"./pmfAndCdf.jl\")\n",
    "#import .ProbabilityMassFunction as Pmf # if defined with module (and export) in pmfAndCdf.jl\n",
    "#using .ProbabilityMassFunction # if defined with module and export in pmfAndCdf.jl\n",
    "\n",
    "include(\"./simplestat.jl\")\n",
    "#import .SimpleStatistics as Ss # if defined with module (and export) in simplestat.jl\n",
    "#using .ProbabilityMassFunction # if defined with module and export in simplestat.jl"
   ]
  },
  {
   "cell_type": "markdown",
   "id": "ce7c816c-077a-470a-8149-6cdea1b2c15b",
   "metadata": {
    "collapsed": false,
    "jupyter": {
     "outputs_hidden": false
    }
   },
   "source": [
    "### The World Cup Problem\n",
    "\n",
    "In the 2018 FIFA World Cup final, France defeated Croatia 4 goals to 2. Based on this outcome:\n",
    "- How confident should we be that France is the better team?\n",
    "- If the same teams played again, what is the chance France would win again?\n",
    "\n",
    "To answer these questions, we have to make some modeling decisions.\n",
    "- First, I’ll (A.B.D.) assume that for any team against another team there is some unknown goal-scoring rate, measured in goals per game, which I’ll denote with the Python variable `lam` or the Greek letter $\\lambda$, pronounced “lambda”.\n",
    "- Second, I’ll (A.B.D.) assume that a goal is equally likely during any minute of a game. So, in a 90 minute game, the probability of scoring during any minute is $\\lambda / 90$.\n",
    "- Third, I’ll (A.B.D.) assume that a team never scores twice during the same minute.\""
   ]
  },
  {
   "cell_type": "markdown",
   "id": "8f8a2e01-f467-471e-94ce-da60621d399b",
   "metadata": {
    "collapsed": false,
    "jupyter": {
     "outputs_hidden": false
    }
   },
   "source": [
    "## The Poisson Distribution\n",
    "\n",
    "If the number of goals scored in a game follows a Poisson distribution with a goal-scoring rate $\\lambda$, the probability of scoring $k$ goals is\n",
    "\n",
    "$\\lambda^{k} * exp(-\\lambda)/k!$\n",
    "\n",
    "or\n",
    "\n",
    "$\\frac{\\lambda^{k} * exp^{-\\lambda}}{k!}$\n",
    "\n",
    "or\n",
    "\n",
    "$\\frac{\\lambda^{k}}{k!}e^{-\\lambda}$\n",
    "\n",
    "for any non-negative value of $k$."
   ]
  },
  {
   "cell_type": "code",
   "execution_count": null,
   "id": "e01d256c-4357-4c16-a915-4c770af8957f",
   "metadata": {
    "collapsed": false,
    "jupyter": {
     "outputs_hidden": false
    }
   },
   "outputs": [],
   "source": [
    "lam = 1.4\n",
    "distPois = Dsts.Poisson(lam)"
   ]
  },
  {
   "cell_type": "code",
   "execution_count": null,
   "id": "ab3bfdc6-60bc-45c1-aa74-07e24c1a59a1",
   "metadata": {
    "collapsed": false,
    "jupyter": {
     "outputs_hidden": false
    }
   },
   "outputs": [],
   "source": [
    "# k goals\n",
    "k = 4\n",
    "Dsts.pdf(distPois, k)"
   ]
  },
  {
   "cell_type": "markdown",
   "id": "3ed8d396-0e04-4699-9598-fc3dec2eeb61",
   "metadata": {
    "collapsed": false,
    "jupyter": {
     "outputs_hidden": false
    }
   },
   "source": [
    "This result implies that if the average goal-scoring rate is 1.4 goals per game, then probability of scoring 4 goals in a game is ~4%."
   ]
  },
  {
   "cell_type": "code",
   "execution_count": null,
   "id": "001ecd3c-5668-4fda-a43d-b142e3218f08",
   "metadata": {
    "collapsed": false,
    "jupyter": {
     "outputs_hidden": false
    }
   },
   "outputs": [],
   "source": [
    "# custom type\n",
    "Num = Union{Int, Float64}"
   ]
  },
  {
   "cell_type": "code",
   "execution_count": null,
   "id": "15f9a5b7-1110-44b2-96bc-ff9a7053a5e6",
   "metadata": {
    "collapsed": false,
    "jupyter": {
     "outputs_hidden": false
    }
   },
   "outputs": [],
   "source": [
    "function getPoisPmf(\n",
    "        lam::A,\n",
    "        qs::Vector{B}\n",
    "        )::Pmf{B} where {A<:Num, B<:Num}\n",
    "    ps::Vector{Float64} = Dsts.pdf.(Dsts.Poisson(lam), qs)\n",
    "    pmf::Pmf{B} = Pmf(qs, ps)\n",
    "    return pmf\n",
    "end"
   ]
  },
  {
   "cell_type": "code",
   "execution_count": null,
   "id": "1fed84ce-9435-42c8-849b-973126ac0d41",
   "metadata": {
    "collapsed": false,
    "jupyter": {
     "outputs_hidden": false
    }
   },
   "outputs": [],
   "source": [
    "lam = 1.4\n",
    "goals = 0:10 |> collect\n",
    "pmfGoals = getPoisPmf(lam, goals)"
   ]
  },
  {
   "cell_type": "code",
   "execution_count": null,
   "id": "29f77fa7-5d43-4b63-87fb-c297343b914b",
   "metadata": {
    "collapsed": false,
    "jupyter": {
     "outputs_hidden": false
    }
   },
   "outputs": [],
   "source": [
    "fig = Cmk.Figure()\n",
    "ax, bp = Cmk.barplot(fig[1, 1],\n",
    "    pmfGoals.names, pmfGoals.priors,\n",
    "    axis=(;title=\"Distribution of goals scored\",\n",
    "        xlabel=\"Number of goals\",\n",
    "        ylabel=\"PMF\",\n",
    "        xticks=0:10\n",
    "    )\n",
    ")\n",
    "Cmk.axislegend(\n",
    "    ax,\n",
    "    [bp],\n",
    "    [\"λ = 1.4\"],\n",
    "    \"Poisson distribution\"\n",
    ")\n",
    "fig"
   ]
  },
  {
   "cell_type": "markdown",
   "id": "9183f4d5-8dba-4667-837d-9180e72c25df",
   "metadata": {
    "collapsed": false,
    "jupyter": {
     "outputs_hidden": false
    }
   },
   "source": [
    "[...]\n",
    "\n",
    "Now let’s turn it around: given a number of goals, what can we say about the goal-scoring rate?\n",
    "\n",
    "To answer that, we need to think about the prior distribution of `lam`, which represents the range of possible values and their probabilities before we see the score."
   ]
  },
  {
   "cell_type": "markdown",
   "id": "421d2994-2a14-496e-b12d-1f7ca8baeaf6",
   "metadata": {
    "collapsed": false,
    "jupyter": {
     "outputs_hidden": false
    }
   },
   "source": [
    "## The Gamma Distribution\n",
    "\n",
    "Using [data](https://www.statista.com/statistics/269031/goals-scored-per-game-at-the-fifa-world-cup-since-1930/) [...] each team scores about 1.4 goals per game, on average (so $\\lambda = 1.4$).\n",
    "\n",
    "For a good team against a bad one, $\\lambda$ will be higher; for a bad team against a good one, it will be lower.\n",
    "\n",
    "We will model it with [gamma distribution](https://en.wikipedia.org/wiki/Gamma_distribution). It is usually used to model the time that passes before $\\alpha$ occurences of a randomly occuring event (an event that occurs via Poisson process)."
   ]
  },
  {
   "cell_type": "code",
   "execution_count": null,
   "id": "a9013f9f-bb93-4045-9955-1a945af769ae",
   "metadata": {
    "collapsed": false,
    "jupyter": {
     "outputs_hidden": false
    }
   },
   "outputs": [],
   "source": [
    "alpha = 1.4\n",
    "qs = range(0, 10, 101)\n",
    "ps = Dsts.pdf.(Dsts.Gamma(alpha), qs);"
   ]
  },
  {
   "cell_type": "markdown",
   "id": "d88e8b12-fd66-4a28-819a-6b35c0d673e6",
   "metadata": {
    "collapsed": false,
    "jupyter": {
     "outputs_hidden": false
    }
   },
   "source": [
    "The parameter, `alpha`, is the mean of the distribution. The `qs` are possible values of `lam` between 0 and 10. The `ps` are probability densities, which we can think of as unnormalized probabilities."
   ]
  },
  {
   "cell_type": "code",
   "execution_count": null,
   "id": "18ecff3f-e643-459f-9c60-bee8e67583ad",
   "metadata": {
    "collapsed": false,
    "jupyter": {
     "outputs_hidden": false
    }
   },
   "outputs": [],
   "source": [
    "lambdasPmf = Pmf(qs |> collect, ps)"
   ]
  },
  {
   "cell_type": "code",
   "execution_count": null,
   "id": "e1f90793-2ee5-4aa3-8809-b8f21b5437a9",
   "metadata": {
    "collapsed": false,
    "jupyter": {
     "outputs_hidden": false
    }
   },
   "outputs": [],
   "source": [
    "fig = Cmk.Figure()\n",
    "Cmk.lines(fig[1, 1],\n",
    "    lambdasPmf.names, lambdasPmf.priors,\n",
    "    color=\"lightgray\", linestyle=:dash, linewidth=3,\n",
    "    axis=(;title=\"Prior distribution of λ\",\n",
    "        xlabel=\"Goal scoring rate (λ)\", ylabel=\"PMF\",\n",
    "        xticks=0:2:10, yticks=0:0.01:0.06)\n",
    ")\n",
    "fig"
   ]
  },
  {
   "cell_type": "markdown",
   "id": "56f5e1cb-83ef-42f1-8599-11f1fec620f0",
   "metadata": {
    "collapsed": false,
    "jupyter": {
     "outputs_hidden": false
    }
   },
   "source": [
    "This distribution represents our prior knowledge about goal scoring: 'lam' is usually less than 2, occasionally as high as 6, and seldom higher than that.\n",
    "\n",
    "We can confirm that mean is about 1.4."
   ]
  },
  {
   "cell_type": "code",
   "execution_count": null,
   "id": "67d218a5-9651-4e06-a1a9-7b31b416173b",
   "metadata": {
    "collapsed": false,
    "jupyter": {
     "outputs_hidden": false
    }
   },
   "outputs": [],
   "source": [
    "getMean(lambdasPmf, true),\n",
    "getQuantile(lambdasPmf, 0.5, true),\n",
    "getCredibleInterval(lambdasPmf, 0.5, true)"
   ]
  },
  {
   "cell_type": "markdown",
   "id": "55b4da5a-e8f4-40d5-ac42-5735c1976fe0",
   "metadata": {
    "collapsed": false,
    "jupyter": {
     "outputs_hidden": false
    }
   },
   "source": [
    "(one) [...] could disagree about [...] the prior, but this is good enough to get started."
   ]
  },
  {
   "cell_type": "markdown",
   "id": "e0e0cdc8-b9b8-49fd-89fb-8497c692ac32",
   "metadata": {
    "collapsed": false,
    "jupyter": {
     "outputs_hidden": false
    }
   },
   "source": [
    "## The Update\n",
    "\n",
    "Given the goal-scoring rate, $\\lambda$, what is the probability of scoring `k` goals?"
   ]
  },
  {
   "cell_type": "code",
   "execution_count": null,
   "id": "aae2ce23-16e4-4eb2-a4ba-92006c0a7cb5",
   "metadata": {
    "collapsed": false,
    "jupyter": {
     "outputs_hidden": false
    }
   },
   "outputs": [],
   "source": [
    "lam = 1.4\n",
    "k = 4\n",
    "Dsts.pdf(Dsts.Poisson(lam), k)"
   ]
  },
  {
   "cell_type": "markdown",
   "id": "af316640-3b3b-4052-84fb-0bec278d7a26",
   "metadata": {
    "collapsed": false,
    "jupyter": {
     "outputs_hidden": false
    }
   },
   "source": [
    "Now suppose we have an array of possible values for $\\lambda$ we can compute the likelihood of the data for each hypothetical $\\lambda$"
   ]
  },
  {
   "cell_type": "code",
   "execution_count": null,
   "id": "642a8793-5229-4a7f-9d6d-0af2716939f4",
   "metadata": {
    "collapsed": false,
    "jupyter": {
     "outputs_hidden": false
    }
   },
   "outputs": [],
   "source": [
    "likelihoods = Dsts.pdf.(Dsts.Poisson.(lambdasPmf.names), k)"
   ]
  },
  {
   "cell_type": "markdown",
   "id": "f4fef97c-4ac8-48ad-8e41-c2fda893f9e7",
   "metadata": {
    "collapsed": false,
    "jupyter": {
     "outputs_hidden": false
    }
   },
   "source": [
    "We can encapsulate it into a function"
   ]
  },
  {
   "cell_type": "code",
   "execution_count": null,
   "id": "1419863c-479a-4194-adce-67f5ffebb92b",
   "metadata": {
    "collapsed": false,
    "jupyter": {
     "outputs_hidden": false
    }
   },
   "outputs": [],
   "source": [
    "# pmfPoisson.names = lambdas for Poisson distribution\n",
    "# pmfPoisson.priors = probabilities for the lambdas\n",
    "# data - k of successes (placed on x-axis) of poisson distribution\n",
    "function updatePoisson!(pmfPoisson::Pmf{Float64}, data::Num)\n",
    "    k::Num = data\n",
    "    lams::Vector{Float64} = pmfPoisson.names\n",
    "    likelihoods::Vector{Float64} = Dsts.pdf.(Dsts.Poisson.(lams), k)\n",
    "    setLikelihoods!(pmfPoisson, likelihoods)\n",
    "    updatePosteriors!(pmfPoisson, true)\n",
    "    return nothing\n",
    "end"
   ]
  },
  {
   "cell_type": "code",
   "execution_count": null,
   "id": "38c5da4e-a31c-4ed9-a98b-267f5bbb2065",
   "metadata": {
    "collapsed": false,
    "jupyter": {
     "outputs_hidden": false
    }
   },
   "outputs": [],
   "source": [
    "# in the example, France scored 4 goals\n",
    "france = Pmf(lambdasPmf.names |> copy, lambdasPmf.priors |> copy)\n",
    "updatePoisson!(france, 4)"
   ]
  },
  {
   "cell_type": "code",
   "execution_count": null,
   "id": "d02356a4-59a3-4f0f-95a2-a8883c4e3971",
   "metadata": {
    "collapsed": false,
    "jupyter": {
     "outputs_hidden": false
    }
   },
   "outputs": [],
   "source": [
    "fig = Cmk.Figure()\n",
    "ax1, l1 = Cmk.lines(fig[1, 1],\n",
    "    france.names, france.priors,\n",
    "    color=\"lightgray\", linestyle=:dash, linewidth=3,\n",
    "    axis=(;title=\"Prior distribution of λ\",\n",
    "        xlabel=\"Goal scoring rate (λ)\", ylabel=\"PMF\",\n",
    "        xticks=0:2:10, yticks=0:0.01:0.06)\n",
    ")\n",
    "l2 = Cmk.lines!(fig[1, 1],\n",
    "    france.names, france.posteriors,\n",
    "    color=\"orange\", linestyle=:solid, linewidth=3\n",
    ")\n",
    "Cmk.axislegend(\n",
    "    ax1,\n",
    "    [l1, l2],\n",
    "    [\"prior (average team)\", \"France posterior\"],\n",
    "    \"Poisson distribution\"\n",
    ")\n",
    "fig"
   ]
  },
  {
   "cell_type": "code",
   "execution_count": null,
   "id": "3caf1d4e-e662-4219-bf4b-d43573313f1a",
   "metadata": {
    "collapsed": false,
    "jupyter": {
     "outputs_hidden": false
    }
   },
   "outputs": [],
   "source": [
    "# Croatia scored 2 goals, so\n",
    "croatia = Pmf(lambdasPmf.names |> copy, lambdasPmf.priors |> copy)\n",
    "updatePoisson!(croatia, 2)"
   ]
  },
  {
   "cell_type": "code",
   "execution_count": null,
   "id": "9e96a390-d444-4676-ba00-3af443bcc4d1",
   "metadata": {
    "collapsed": false,
    "jupyter": {
     "outputs_hidden": false
    }
   },
   "outputs": [],
   "source": [
    "fig = Cmk.Figure()\n",
    "ax1, l1 = Cmk.lines(fig[1, 1],\n",
    "    croatia.names, croatia.priors,\n",
    "    color=\"lightgray\", linestyle=:dash, linewidth=3,\n",
    "    axis=(;title=\"Prior distribution of λ\",\n",
    "        xlabel=\"Goal scoring rate (λ)\", ylabel=\"PMF\",\n",
    "        xticks=0:2:10, yticks=0:0.01:0.06)\n",
    ")\n",
    "l2 = Cmk.lines!(fig[1, 1],\n",
    "    croatia.names, croatia.posteriors,\n",
    "    color=\"blue\", linestyle=:solid, linewidth=3\n",
    ")\n",
    "Cmk.axislegend(\n",
    "    ax1,\n",
    "    [l1, l2],\n",
    "    [\"prior (average team)\", \"Croatia posterior\"],\n",
    "    \"Poisson distribution\"\n",
    ")\n",
    "fig"
   ]
  },
  {
   "cell_type": "code",
   "execution_count": null,
   "id": "77e00fca-ce11-4848-992a-adc72f5881c4",
   "metadata": {
    "collapsed": false,
    "jupyter": {
     "outputs_hidden": false
    }
   },
   "outputs": [],
   "source": [
    "getMean(france),\n",
    "getMean(croatia)"
   ]
  },
  {
   "cell_type": "markdown",
   "id": "0584b9d4-3948-4f78-86b7-ed571c52bb4d",
   "metadata": {
    "collapsed": false,
    "jupyter": {
     "outputs_hidden": false
    }
   },
   "source": [
    "## Probability of Superiority\n",
    "\n",
    "How confident should we be that France is the better team?\n",
    "\n",
    "In the model, “better” means having a higher goal-scoring rate against the opponent. We can use the posterior distributions to compute the probability that a random value drawn from France’s distribution exceeds a value drawn from Croatia’s.\n",
    "\n",
    "One way to do that is to enumerate all pairs of values from the two distributions, adding up the total probability that one value exceeds the other."
   ]
  },
  {
   "cell_type": "code",
   "execution_count": null,
   "id": "40aa4835-0d5f-451d-995b-4400c3db8fdd",
   "metadata": {
    "collapsed": false,
    "jupyter": {
     "outputs_hidden": false
    }
   },
   "outputs": [],
   "source": [
    "# prob pmf1 > pmf2\n",
    "# prob a random value (pmf1.names) is greater than (pmf2.names)\n",
    "# where pmf1.names/pmf2.names is qs (e.g. goal scoring rate)\n",
    "function getProbGt(pmf1::Pmf{A}, pmf2::Pmf{B},\n",
    "        usePriors::Bool = false)::Float64 where {A<:Num, B<:Num} \n",
    "    total::Float64 = 0\n",
    "    for (n1, p1) in zip(pmf1.names, \n",
    "            usePriors ? pmf1.priors : pmf1.posteriors)\n",
    "        for (n2, p2) in zip(pmf2.names,\n",
    "                usePriors ? pmf2.priors : pmf2.posteriors)\n",
    "            if n1 > n2\n",
    "                total += p1 * p2\n",
    "            end\n",
    "        end\n",
    "    end\n",
    "    return total\n",
    "end"
   ]
  },
  {
   "cell_type": "code",
   "execution_count": null,
   "id": "876f2509-9216-40e5-818f-9cbf263b36c8",
   "metadata": {
    "collapsed": false,
    "jupyter": {
     "outputs_hidden": false
    }
   },
   "outputs": [],
   "source": [
    "getProbGt(france, croatia)"
   ]
  },
  {
   "cell_type": "markdown",
   "id": "926e8fd4-33b7-41ca-84da-47df87110df6",
   "metadata": {
    "collapsed": false,
    "jupyter": {
     "outputs_hidden": false
    }
   },
   "source": [
    "Of course, we should remember that this result is based on the assumption that the goal-scoring rate is constant. In reality, if a team is down by one goal, they might play more aggressively toward the end of the game, making them more likely to score, but also more likely to give up an additional goal."
   ]
  },
  {
   "cell_type": "markdown",
   "id": "dbdb670b-d0b4-4661-bd6d-8346fcde5341",
   "metadata": {
    "collapsed": false,
    "jupyter": {
     "outputs_hidden": false
    }
   },
   "source": [
    "## Predicting the Rematch\n",
    "\n",
    "If the same teams played again, what is the chance Croatia would win? To answer this question, we’ll generate the “posterior predictive distribution”, which is the number of goals we expect a team to score.\n",
    "\n",
    "If we knew the goal scoring rate, `lam`, the distribution of goals would be a Poisson distribution with parameter `lam`. Since we don’t know `lam`, the distribution of goals is a mixture of a Poisson distributions with different values of `lam`."
   ]
  },
  {
   "cell_type": "code",
   "execution_count": null,
   "id": "673cdc48-f7b5-4f2e-a8f4-5145f92878a5",
   "metadata": {
    "collapsed": false,
    "jupyter": {
     "outputs_hidden": false
    }
   },
   "outputs": [],
   "source": [
    "goals = 0:10 |> collect\n",
    "pmfSeq = [getPoisPmf(lam, goals)\n",
    "    for lam in lambdasPmf.names];"
   ]
  },
  {
   "cell_type": "code",
   "execution_count": null,
   "id": "5ae96f7c-37a3-44a9-9900-a370e0413468",
   "metadata": {
    "collapsed": false,
    "jupyter": {
     "outputs_hidden": false
    }
   },
   "outputs": [],
   "source": [
    "fig = Cmk.Figure()\n",
    "inds = 11:10:41 |> collect\n",
    "i = 0\n",
    "for r in 1:2\n",
    "    for c in 1:2\n",
    "        i += 1\n",
    "        ax, bp = Cmk.barplot(fig[r, c],\n",
    "            pmfSeq[inds[i]].names,\n",
    "            pmfSeq[inds[i]].priors,\n",
    "            axis=(;\n",
    "                title=\"Goals distribution\",\n",
    "                xlabel=\"Number of goals\",\n",
    "                ylabel=\"PMF\",\n",
    "                xticks=0:2:10\n",
    "            )\n",
    "        )\n",
    "        Cmk.axislegend(ax,\n",
    "            [bp],\n",
    "            [\"λ = $(lambdasPmf.names[inds[i]])\"]\n",
    "        )\n",
    "    end\n",
    "end\n",
    "fig"
   ]
  },
  {
   "cell_type": "code",
   "execution_count": null,
   "id": "cd8b9041-4f3a-4c78-b5ad-d01847091d8e",
   "metadata": {
    "collapsed": false,
    "jupyter": {
     "outputs_hidden": false
    },
    "scrolled": true
   },
   "outputs": [],
   "source": [
    "francePmfsMixture = getMixture(\n",
    "    france, pmfSeq,\n",
    "    map(x -> string(\"λ = \", x), lambdasPmf.names),\n",
    "    0:10 |> collect,\n",
    "    false\n",
    ")"
   ]
  },
  {
   "cell_type": "code",
   "execution_count": null,
   "id": "68cd8a78-da3b-4633-9ae9-fa0192982a48",
   "metadata": {
    "collapsed": false,
    "jupyter": {
     "outputs_hidden": false
    }
   },
   "outputs": [],
   "source": [
    "fig = Cmk.Figure()\n",
    "ax, bp = Cmk.barplot(fig[1, 1],\n",
    "    francePmfsMixture.outcome, francePmfsMixture.posteriors,\n",
    "    axis=(;title=\"Posterior predictive distribution\",\n",
    "        xlabel = \"Number of goals\",\n",
    "        ylabel = \"PMF\",\n",
    "        xticks=0:10\n",
    "    )\n",
    ")\n",
    "Cmk.axislegend(ax,\n",
    "    [bp],\n",
    "    [\"France\"]\n",
    ")\n",
    "fig"
   ]
  },
  {
   "cell_type": "markdown",
   "id": "58da1da0-38e2-49d0-a9af-4d1074f34e92",
   "metadata": {
    "collapsed": false,
    "jupyter": {
     "outputs_hidden": false
    }
   },
   "source": [
    "This distribution represents two sources of uncertainty: we don’t know the actual value of `lam`, and even if we did, we would not know the number of goals in the next game."
   ]
  },
  {
   "cell_type": "markdown",
   "id": "cf62494d-dc9d-475f-ac3c-0242e217b871",
   "metadata": {
    "collapsed": false,
    "jupyter": {
     "outputs_hidden": false
    }
   },
   "source": [
    "Here’s the predictive distribution for Croatia."
   ]
  },
  {
   "cell_type": "code",
   "execution_count": null,
   "id": "4de2e7ca-f7b5-42fa-835c-e1a4eba7e96b",
   "metadata": {
    "collapsed": false,
    "jupyter": {
     "outputs_hidden": false
    },
    "scrolled": true
   },
   "outputs": [],
   "source": [
    "croatiaPmfsMixture = getMixture(\n",
    "    croatia, pmfSeq,\n",
    "    map(x -> string(\"λ = \", x), lambdasPmf.names),\n",
    "    0:10 |> collect,\n",
    "    false\n",
    ")"
   ]
  },
  {
   "cell_type": "code",
   "execution_count": null,
   "id": "68ca68fa-178d-4394-9767-9ec9b9be8a0a",
   "metadata": {
    "collapsed": false,
    "jupyter": {
     "outputs_hidden": false
    }
   },
   "outputs": [],
   "source": [
    "fig = Cmk.Figure()\n",
    "ax, bp = Cmk.barplot(fig[1, 1],\n",
    "    croatiaPmfsMixture.outcome, croatiaPmfsMixture.posteriors,\n",
    "    axis=(;title=\"Posterior predictive distribution\",\n",
    "        xlabel = \"Number of goals\",\n",
    "        ylabel = \"PMF\",\n",
    "        xticks=0:10\n",
    "    )\n",
    ")\n",
    "Cmk.axislegend(ax,\n",
    "    [bp],\n",
    "    [\"Croatia\"]\n",
    ")\n",
    "fig"
   ]
  },
  {
   "cell_type": "markdown",
   "id": "ccf60a96-eb6e-4106-b022-659f4003c545",
   "metadata": {
    "collapsed": false,
    "jupyter": {
     "outputs_hidden": false
    }
   },
   "source": [
    "We can use these distributions to compute the probability that France wins, loses, or ties the rematch."
   ]
  },
  {
   "cell_type": "code",
   "execution_count": null,
   "id": "2718a855-c024-4c00-80f6-b35e2630df7c",
   "metadata": {
    "collapsed": false,
    "jupyter": {
     "outputs_hidden": false
    }
   },
   "outputs": [],
   "source": [
    "predFrance = Pmf(francePmfsMixture.outcome, francePmfsMixture.posteriors)\n",
    "predCroatia = Pmf(croatiaPmfsMixture.outcome, croatiaPmfsMixture.posteriors);"
   ]
  },
  {
   "cell_type": "code",
   "execution_count": null,
   "id": "589308e4-9b29-4124-9e8a-7f18d7a2ea30",
   "metadata": {
    "collapsed": false,
    "jupyter": {
     "outputs_hidden": false
    }
   },
   "outputs": [],
   "source": [
    "pFranceWin = getProbGt(predFrance, predCroatia, true)"
   ]
  },
  {
   "cell_type": "code",
   "execution_count": null,
   "id": "b1424c12-d481-4ba5-9788-1583cb2d730c",
   "metadata": {
    "collapsed": false,
    "jupyter": {
     "outputs_hidden": false
    }
   },
   "outputs": [],
   "source": [
    "# prob pmf1 < pmf2\n",
    "# prob a random value (pmf1.names) is smaller than (pmf2.names)\n",
    "# where pmf1.names/pmf2.names is qs (e.g. goal scoring rate)\n",
    "function getProbLt(pmf1::Pmf{A}, pmf2::Pmf{B},\n",
    "        usePriors::Bool = false)::Float64 where {A<:Num, B<:Num} \n",
    "    total::Float64 = 0\n",
    "    for (n1, p1) in zip(pmf1.names, \n",
    "            usePriors ? pmf1.priors : pmf1.posteriors)\n",
    "        for (n2, p2) in zip(pmf2.names,\n",
    "                usePriors ? pmf2.priors : pmf2.posteriors)\n",
    "            if n1 < n2\n",
    "                total += p1 * p2\n",
    "            end\n",
    "        end\n",
    "    end\n",
    "    return total\n",
    "end"
   ]
  },
  {
   "cell_type": "code",
   "execution_count": null,
   "id": "28499eae-abf6-4006-9c06-02c3178ed66e",
   "metadata": {
    "collapsed": false,
    "jupyter": {
     "outputs_hidden": false
    }
   },
   "outputs": [],
   "source": [
    "pFranceLose = getProbLt(predFrance, predCroatia, true)"
   ]
  },
  {
   "cell_type": "code",
   "execution_count": null,
   "id": "365f2900-f54e-450d-aa27-73cca589da72",
   "metadata": {
    "collapsed": false,
    "jupyter": {
     "outputs_hidden": false
    }
   },
   "outputs": [],
   "source": [
    "# prob pmf1 == pmf2\n",
    "# prob a random value (pmf1.names) is equal to (pmf2.names)\n",
    "# where pmf1.names/pmf2.names is qs (e.g. goal scoring rate)\n",
    "function getProbEq(pmf1::Pmf{A}, pmf2::Pmf{B},\n",
    "        usePriors::Bool = false)::Float64 where {A<:Num, B<:Num} \n",
    "    total::Float64 = 0\n",
    "    for (n1, p1) in zip(pmf1.names, \n",
    "            usePriors ? pmf1.priors : pmf1.posteriors)\n",
    "        for (n2, p2) in zip(pmf2.names,\n",
    "                usePriors ? pmf2.priors : pmf2.posteriors)\n",
    "            if isapprox(n1, n2)\n",
    "                total += p1 * p2\n",
    "            end\n",
    "        end\n",
    "    end\n",
    "    return total\n",
    "end"
   ]
  },
  {
   "cell_type": "code",
   "execution_count": null,
   "id": "fc796eb9-efa3-4fad-ba8f-0df51885da02",
   "metadata": {
    "collapsed": false,
    "jupyter": {
     "outputs_hidden": false
    }
   },
   "outputs": [],
   "source": [
    "pFranceTie = getProbEq(predFrance, predCroatia, true)"
   ]
  },
  {
   "cell_type": "code",
   "execution_count": null,
   "id": "3f2c1568-0ac7-4b9c-8856-16bd4049c13b",
   "metadata": {
    "collapsed": false,
    "jupyter": {
     "outputs_hidden": false
    }
   },
   "outputs": [],
   "source": [
    "pFranceWin + pFranceLose + pFranceTie # should add up to 1"
   ]
  },
  {
   "cell_type": "markdown",
   "id": "5aab4425-7fb8-4580-8371-6ca736ff1a7c",
   "metadata": {
    "collapsed": false,
    "jupyter": {
     "outputs_hidden": false
    }
   },
   "source": [
    "Assuming that France wins half of the ties, their chance of winning the rematch is about"
   ]
  },
  {
   "cell_type": "code",
   "execution_count": null,
   "id": "d1d71c2d-4aef-48be-8af3-e17af1651bb4",
   "metadata": {
    "collapsed": false,
    "jupyter": {
     "outputs_hidden": false
    }
   },
   "outputs": [],
   "source": [
    "pFranceWin + pFranceTie/2"
   ]
  },
  {
   "cell_type": "markdown",
   "id": "a477bd65-fd0f-444a-b9b7-edeec7bb636e",
   "metadata": {
    "collapsed": false,
    "jupyter": {
     "outputs_hidden": false
    }
   },
   "source": [
    "This is a bit lower than their probability of superiority, which is 75%. And that makes sense, because we are less certain about the outcome of a single game than we are about the goal-scoring rates. Even if France is the better team, they might lose the game."
   ]
  },
  {
   "cell_type": "markdown",
   "id": "a3aac624-5364-4ea8-92a9-886b7a689572",
   "metadata": {
    "collapsed": false,
    "jupyter": {
     "outputs_hidden": false
    }
   },
   "source": [
    "## The Exponential Distribution\n",
    "\n",
    "> In the 2014 FIFA World Cup, Germany played Brazil in a semifinal match. Germany scored after 11 minutes and again at the 23 minute mark. At that point in the match, how many goals would you expect Germany to score after 90 minutes? What was the probability that they would score 5 more goals (as, in fact, they did)?\n",
    "\n",
    "In this version, notice that the data is not the number of goals in a fixed period of time, but the time between goals.\n",
    "\n",
    "We will compute that using [exponential distribution](https://en.wikipedia.org/wiki/Exponential_distribution). (Note. The exponential distribution is a special case of the previously mentioned gamma distribution -> see ch08/The Gamma Distribution).\n",
    "\n",
    "if the goal-scoring is $\\lambda$, the probability of seeing an interval between goals of `t` is proportional to PDF of the exponential distribution:\n",
    "\n",
    "$\\lambda * exp(-\\lambda * t)$\n",
    "\n",
    "`Distributions` got `Exponential` distributuon but it does not take `lam` so working with it is not stragithforward. Therefore our own function below:"
   ]
  },
  {
   "cell_type": "code",
   "execution_count": null,
   "id": "3e214675-0da2-463e-b48f-d413b22cdc7e",
   "metadata": {
    "collapsed": false,
    "jupyter": {
     "outputs_hidden": false
    }
   },
   "outputs": [],
   "source": [
    "# t - time between two events in the poisson distribution\n",
    "# lam - lambda (avg) of success in the poisson distribution\n",
    "# returns prob of seing an interval t between two events in the poisson distribution\n",
    "function getExpoPdf(t::A, lam::B)::Float64 where {A<:Num, B<:Num}\n",
    "    return lam * exp(-lam * t)\n",
    "end"
   ]
  },
  {
   "cell_type": "markdown",
   "id": "e9db81df-4cf7-424b-919d-62271e9076fa",
   "metadata": {
    "collapsed": false,
    "jupyter": {
     "outputs_hidden": false
    }
   },
   "source": [
    "To see what the exponential distribution looks like, let’s assume again that `lam` is 1.4"
   ]
  },
  {
   "cell_type": "code",
   "execution_count": null,
   "id": "6ca2eff2-001d-4b75-9baa-1829f9479ae9",
   "metadata": {
    "collapsed": false,
    "jupyter": {
     "outputs_hidden": false
    }
   },
   "outputs": [],
   "source": [
    "lam = 1.4\n",
    "qs = range(0, 4, 101) |> collect\n",
    "ps = getExpoPdf.(qs, lam)\n",
    "pmfTime = Pmf(qs, ps);"
   ]
  },
  {
   "cell_type": "code",
   "execution_count": null,
   "id": "6ca6531b-ce4e-4803-b19e-7f1c6d346eb0",
   "metadata": {
    "collapsed": false,
    "jupyter": {
     "outputs_hidden": false
    }
   },
   "outputs": [],
   "source": [
    "fig = Cmk.Figure()\n",
    "ax, ln = Cmk.lines(fig[1, 1],\n",
    "    pmfTime.names, pmfTime.priors,\n",
    "    axis=(;title=\"Distribution of time between goals\",\n",
    "        xlabel=\"Time between goals (games)\",\n",
    "        ylabel=\"PMF\",\n",
    "        xticks=0:0.5:4,\n",
    "        yticks=0:0.01:0.06\n",
    "    )\n",
    ")\n",
    "Cmk.axislegend(ax,\n",
    "    [ln],\n",
    "    [\"exponential with λ = 1.4\"]\n",
    ")\n",
    "fig"
   ]
  },
  {
   "cell_type": "markdown",
   "id": "8e03e4d7-5369-4c47-b994-26f8279089ec",
   "metadata": {
    "collapsed": false,
    "jupyter": {
     "outputs_hidden": false
    }
   },
   "source": [
    "It is counterintuitive, but true, that the most likely time to score a goal is immediately. After that, the probability of each successive interval is a little lower.\n",
    "\n",
    "With a goal-scoring rate of 1.4, it is possible that a team will take more than one game to score a goal, but it is unlikely that they will take more than two games."
   ]
  },
  {
   "cell_type": "markdown",
   "id": "459954f9-d858-40ba-86a5-2115276b0f01",
   "metadata": {
    "collapsed": false,
    "jupyter": {
     "outputs_hidden": false
    }
   },
   "source": [
    "## Summary\n",
    "\n",
    "This chapter introduces three new distributions [...]. Let’s review:\n",
    "- If a system satisfies the assumptions of a Poisson model, the number of events in a period of time follows a Poisson distribution, which is a discrete distribution with integer quantities from 0 to infinity. In practice, we can usually ignore low-probability quantities above a finite limit.\n",
    "\n",
    "- Also under the Poisson model, the interval between events follows an exponential distribution, which is a continuous distribution with quantities from 0 to infinity. Because it is continuous, it is described by a probability density function (PDF) rather than a probability mass function (PMF). But when we use an exponential distribution to compute the likelihood of the data, we can treat densities as unnormalized probabilities.\n",
    "\n",
    "- The Poisson and exponential distributions are parameterized by an event rate, denoted $\\lambda$ or `lam`.\n",
    "\n",
    "- For the prior distribution of $\\lambda$, I (A.B.D.) used a gamma distribution, which is a continuous distribution with quantities from 0 to infinity, but I (A.B.D.) approximated it with a discrete, bounded PMF. The gamma distribution has one parameter, denoted $\\alpha$ or alpha, which is also its mean."
   ]
  },
  {
   "cell_type": "markdown",
   "id": "5f8fda72-1e6d-4098-8b11-98d8a7c4fabd",
   "metadata": {
    "collapsed": false,
    "jupyter": {
     "outputs_hidden": false
    }
   },
   "source": [
    "## Exercises"
   ]
  },
  {
   "cell_type": "markdown",
   "id": "3b022eca-c6ab-481b-853b-568bf12872eb",
   "metadata": {
    "collapsed": false,
    "jupyter": {
     "outputs_hidden": false
    }
   },
   "source": [
    "### Exercise 1\n",
    "\n",
    "> In the 2014 FIFA World Cup, Germany played Brazil in a semifinal match. Germany scored after 11 minutes and again at the 23 minute mark. At that point in the match, how many goals would you expect Germany to score after 90 minutes? What was the probability that they would score 5 more goals (as, in fact, they did)?\n",
    "\n",
    "Here are the steps I (A.D.) recommend:\n",
    "\n",
    "1. Starting with the same gamma prior we used in the previous problem, compute the likelihood of scoring a goal after 11 minutes for each possible value of lam. Don’t forget to convert all times into games rather than minutes.\n",
    "\n",
    "2. Compute the posterior distribution of lam for Germany after the first goal.\n",
    "\n",
    "3. Compute the likelihood of scoring another goal after 12 more minutes and do another update. Plot the prior, posterior after one goal, and posterior after two goals.\n",
    "\n",
    "4. Compute the posterior predictive distribution of goals Germany might score during the remaining time in the game, 90-23 minutes. Note: You will have to think about how to generate predicted goals for a fraction of a game.\n",
    "\n",
    "5. Compute the probability of scoring 5 or more goals during the remaining time."
   ]
  },
  {
   "cell_type": "markdown",
   "id": "6718f0d6-9ad8-4974-b4a7-36ec6b608f20",
   "metadata": {
    "collapsed": false,
    "jupyter": {
     "outputs_hidden": false
    }
   },
   "source": [
    "#### Ex 1.1"
   ]
  },
  {
   "cell_type": "code",
   "execution_count": null,
   "id": "61e5745a-39f5-42a9-be0c-d503fbf8ce81",
   "metadata": {
    "collapsed": false,
    "jupyter": {
     "outputs_hidden": false
    }
   },
   "outputs": [],
   "source": [
    "alpha = 1.4 # the average is 1.4 per game\n",
    "qs = range(0, 10, 101) |> collect # possible real values of lambda for germany\n",
    "ps = Dsts.pdf.(Dsts.Gamma(alpha), qs); # probs of those values (qs)"
   ]
  },
  {
   "cell_type": "code",
   "execution_count": null,
   "id": "ac6b2d9f-82da-462d-a7ca-1d6b39eaf9a4",
   "metadata": {
    "collapsed": false,
    "jupyter": {
     "outputs_hidden": false
    }
   },
   "outputs": [],
   "source": [
    "germany = Pmf(qs, ps)"
   ]
  },
  {
   "cell_type": "code",
   "execution_count": null,
   "id": "54176f6d-2f8c-4d16-9195-140b17b39720",
   "metadata": {
    "collapsed": false,
    "jupyter": {
     "outputs_hidden": false
    }
   },
   "outputs": [],
   "source": [
    "t = 11 / 90 # 1.4 goals per game (per 90 mins), so t = 11 min per game (per 90 mins)\n",
    "germany.likelihoods = getExpoPdf.(t, germany.names)\n",
    "germany.likelihoods = germany.likelihoods ./ sum(germany.likelihoods);"
   ]
  },
  {
   "cell_type": "code",
   "execution_count": null,
   "id": "9499beef-2bd2-4237-92d2-05315587c278",
   "metadata": {
    "collapsed": false,
    "jupyter": {
     "outputs_hidden": false
    }
   },
   "outputs": [],
   "source": [
    "fig = Cmk.Figure()\n",
    "ax1, l1 = Cmk.lines(fig[1, 1],\n",
    "    germany.names, germany.priors,\n",
    "    color=\"blue\",\n",
    "    axis=(;title=\"Germany goal scoring distribution\",\n",
    "        ylabel=\"PMF\",\n",
    "        xlabel=\"Goal scoring rate (λ)\",\n",
    "        xticks=0:10\n",
    "    )\n",
    ")\n",
    "l2 = Cmk.lines!(fig[1, 1],\n",
    "    germany.names, germany.likelihoods,\n",
    "    color=\"orange\", linestyle=:dash\n",
    ")\n",
    "Cmk.axislegend(ax1,\n",
    "    [l1, l2],\n",
    "    [\"Priors\", \"Likelihoods (goal in 11 min)\"]\n",
    ")\n",
    "fig"
   ]
  },
  {
   "cell_type": "markdown",
   "id": "d82568e4-c2b1-4614-ac18-50f3b9f6adfb",
   "metadata": {
    "collapsed": false,
    "jupyter": {
     "outputs_hidden": false
    }
   },
   "source": [
    "#### Ex 1.2"
   ]
  },
  {
   "cell_type": "code",
   "execution_count": null,
   "id": "1b49642a-32e8-40ff-ae52-e9f5de140478",
   "metadata": {
    "collapsed": false,
    "jupyter": {
     "outputs_hidden": false
    }
   },
   "outputs": [],
   "source": [
    "updatePosteriors!(germany, true);"
   ]
  },
  {
   "cell_type": "code",
   "execution_count": null,
   "id": "642af87c-ead3-4233-ae4e-978ee600e97e",
   "metadata": {
    "collapsed": false,
    "jupyter": {
     "outputs_hidden": false
    }
   },
   "outputs": [],
   "source": [
    "fig = Cmk.Figure()\n",
    "ax1, l1 = Cmk.lines(fig[1, 1],\n",
    "    germany.names, germany.priors,\n",
    "    color=\"blue\",\n",
    "    axis=(;title=\"Germany goal scoring distribution\",\n",
    "        ylabel=\"PMF\",\n",
    "        xlabel=\"Goal scoring rate (λ)\",\n",
    "        xticks=0:10\n",
    "    )\n",
    ")\n",
    "l2 = Cmk.lines!(fig[1, 1],\n",
    "    germany.names, germany.posteriors,\n",
    "    color=\"orange\", linestyle=:dash\n",
    ")\n",
    "Cmk.axislegend(ax1,\n",
    "    [l1, l2],\n",
    "    [\"Priors\", \"Posteriors (goal in 11 min)\"]\n",
    ")\n",
    "fig"
   ]
  },
  {
   "cell_type": "markdown",
   "id": "85d0ca40-198b-4b59-8df4-51e543b25061",
   "metadata": {
    "collapsed": false,
    "jupyter": {
     "outputs_hidden": false
    }
   },
   "source": [
    "### Ex 1.3"
   ]
  },
  {
   "cell_type": "code",
   "execution_count": null,
   "id": "8e631a79-d3ff-4338-a951-d633f1ea1997",
   "metadata": {
    "collapsed": false,
    "jupyter": {
     "outputs_hidden": false
    }
   },
   "outputs": [],
   "source": [
    "function updateExponential!(pmf::Pmf{A}, data::B) where {A<:Num, B<:Num}\n",
    "    setLikelihoods!(pmf, getExpoPdf.(data, pmf.names))\n",
    "    updatePosteriors!(pmf, true)\n",
    "    return nothing\n",
    "end"
   ]
  },
  {
   "cell_type": "code",
   "execution_count": null,
   "id": "541887e6-7823-48b8-9de9-5190970b33ff",
   "metadata": {
    "collapsed": false,
    "jupyter": {
     "outputs_hidden": false
    }
   },
   "outputs": [],
   "source": [
    "germany2 = Pmf(germany.names |> copy, germany.posteriors |> copy)\n",
    "# 1st goal scored at 11 min mark, 2nd goal scoree at 23 minute mark\n",
    "updateExponential!(germany2, (23-11)/90)"
   ]
  },
  {
   "cell_type": "code",
   "execution_count": null,
   "id": "4e0e578d-3d20-468d-bc5f-6f1ce0ff8d05",
   "metadata": {
    "collapsed": false,
    "jupyter": {
     "outputs_hidden": false
    }
   },
   "outputs": [],
   "source": [
    "fig = Cmk.Figure()\n",
    "ax1, l1 = Cmk.lines(fig[1, 1],\n",
    "    germany.names, germany.priors,\n",
    "    color=\"blue\",\n",
    "    axis=(;title=\"Germany goal scoring distribution\",\n",
    "        ylabel=\"PMF\",\n",
    "        xlabel=\"Goal scoring rate (λ)\",\n",
    "        xticks=0:10\n",
    "    )\n",
    ")\n",
    "l2 = Cmk.lines!(fig[1, 1],\n",
    "    germany.names, germany.posteriors,\n",
    "    color=\"orange\", linestyle=:dash, linewidth=4,\n",
    ")\n",
    "l3 = Cmk.lines!(fig[1, 1],\n",
    "    germany2.names, germany2.posteriors,\n",
    "    color=\"lightblue\", linestyle=:dashdot, linewidth=4,\n",
    ")\n",
    "Cmk.axislegend(ax1,\n",
    "    [l1, l2, l3],\n",
    "    [\"Priors\", \"Posteriors (goal in 11 min)\", \"Posteriors (goal in 11, 23 min)\"]\n",
    ")\n",
    "fig"
   ]
  },
  {
   "cell_type": "markdown",
   "id": "f628c267-08ce-48c7-96ed-db6df03f6e4b",
   "metadata": {
    "collapsed": false,
    "jupyter": {
     "outputs_hidden": false
    }
   },
   "source": [
    "### Ex 1.4"
   ]
  },
  {
   "cell_type": "code",
   "execution_count": null,
   "id": "63ae9b86-ae88-4940-b5e5-f321a9f2f08c",
   "metadata": {
    "collapsed": false,
    "jupyter": {
     "outputs_hidden": false
    }
   },
   "outputs": [],
   "source": [
    "alpha = 1.4 # avg num goals per game, based on games from world cup\n",
    "t = (90 - 23) / 90 # goals after the prev. goal at 23 min as fraction of whole game\n",
    "qs = germany.names |> copy # possible 'real' values of lambda for germany\n",
    "goals = 0:10 |> collect; # goals scored by a team during a game"
   ]
  },
  {
   "cell_type": "code",
   "execution_count": null,
   "id": "a74a031b-20f9-4191-9ea5-c5107ac95aea",
   "metadata": {
    "collapsed": false,
    "jupyter": {
     "outputs_hidden": false
    }
   },
   "outputs": [],
   "source": [
    "# q*t (goal scoring rate in remaining part of game)\n",
    "pmfSeq = [getPoisPmf(q*t, goals) for q in qs];"
   ]
  },
  {
   "cell_type": "code",
   "execution_count": null,
   "id": "40adfc72-72f5-4d99-a2ef-0d7ae5eb62aa",
   "metadata": {
    "collapsed": false,
    "jupyter": {
     "outputs_hidden": false
    }
   },
   "outputs": [],
   "source": [
    "germany3 = getMixture(\n",
    "    germany2, # best estimate of germany real goal scoring rate\n",
    "    pmfSeq, # possible goal scoring rates for the remaining game fraction\n",
    "    map(x -> string(\"λ = \", x), qs), # prepend \"λ =\"\n",
    "    0:10 |> collect, # number of possible goals to score in remaining time\n",
    "    false) # use posteriors from germany2"
   ]
  },
  {
   "cell_type": "code",
   "execution_count": null,
   "id": "41fe856d-b6bc-42d9-9c40-c20d5d1358c9",
   "metadata": {
    "collapsed": false,
    "jupyter": {
     "outputs_hidden": false
    }
   },
   "outputs": [],
   "source": [
    "fig = Cmk.Figure()\n",
    "Cmk.barplot(fig[1, 1],\n",
    "        germany3.outcome, germany3.posteriors,\n",
    "        axis=(;\n",
    "              title=\"Posterior predictive distribution for Germany\",\n",
    "              xlabel=\"Number of goals in remaining part of the game\",\n",
    "              ylabel=\"PMF\",\n",
    "              xticks=0:10\n",
    "              )\n",
    ")\n",
    "fig"
   ]
  },
  {
   "cell_type": "markdown",
   "id": "6e065c33-ab4b-4662-bf2e-a072b896104a",
   "metadata": {
    "collapsed": false,
    "jupyter": {
     "outputs_hidden": false
    }
   },
   "source": [
    "### Ex 1.5"
   ]
  },
  {
   "cell_type": "code",
   "execution_count": null,
   "id": "b79e7748-1f11-4223-a847-f5f7e43f2aff",
   "metadata": {
    "collapsed": false,
    "jupyter": {
     "outputs_hidden": false
    }
   },
   "outputs": [],
   "source": [
    "# probability of scoring exactly 5 goals in the remaining fraction of game\n",
    "# 6, because 0:10 goals, and we got indexing starting at 1\n",
    "germany3[6, [\"outcome\", \"posteriors\"]]"
   ]
  },
  {
   "cell_type": "code",
   "execution_count": null,
   "id": "bdc988b5-c1ee-41aa-ad46-6dcec157af9f",
   "metadata": {
    "collapsed": false,
    "jupyter": {
     "outputs_hidden": false
    }
   },
   "outputs": [],
   "source": [
    "# probability of scoring 5 or more goals in the remaining fraction of game\n",
    "# 6, because 0:10 goals, and we got indexing starting at 1\n",
    "germany3[6:end, [\"outcome\", \"posteriors\"]]"
   ]
  },
  {
   "cell_type": "code",
   "execution_count": null,
   "id": "1bfdb120-b0de-47e0-894b-7165878f3cce",
   "metadata": {
    "collapsed": false,
    "jupyter": {
     "outputs_hidden": false
    }
   },
   "outputs": [],
   "source": [
    "germany3[6:end, \"posteriors\"] |> sum"
   ]
  },
  {
   "cell_type": "markdown",
   "id": "01bb9c46-5c47-44d3-b724-d0a7e6fb9724",
   "metadata": {
    "collapsed": false
   },
   "source": [
    "### Exercise 2\n",
    "Returning to the first version of the World Cup Problem. Suppose France and Croatia play a rematch. What is the probability that France scores first?\n",
    "\n",
    "*Hint*: Compute the posterior predictive distribution for the time until the first goal by making a mixture of exponential distributions. You can use the following function to make a PMF that approximates an exponential distribution."
   ]
  },
  {
   "cell_type": "code",
   "execution_count": null,
   "id": "9c6b9faf-8a2c-4008-9ce2-a4b2e9979adc",
   "metadata": {
    "collapsed": false
   },
   "outputs": [],
   "source": [
    "# Make a PMF of an exponential distribution.\n",
    "# lam: event rate\n",
    "# high: upper bound on the interval `t`\n",
    "# returns: Pmf of the interval (names) between events\n",
    "function getExpoPmf(lam::A, high::B)::Pmf{Float64} where {A<:Num, B<:Num}\n",
    "    qs::Vector{Float64} = range(0, high, 101)\n",
    "    ps::Vector{Float64} = getExpoPdf.(qs, lam)\n",
    "    return Pmf(qs, ps)\n",
    "end"
   ]
  },
  {
   "cell_type": "code",
   "execution_count": null,
   "id": "2eac9d6d-a69b-48ba-ae87-90efdf672171",
   "metadata": {
    "collapsed": false
   },
   "outputs": [],
   "source": [
    "lam = 1.4\n",
    "qs = france.names |> copy\n",
    "# previously posterior predictive distribution was the number of goals the team is expected to score\n",
    "# here time until the first goal for different true (unknown) values of lambda\n",
    "# france.names - possible values of lambda\n",
    "# high time till first goal ()\n",
    "pmfSeq = [\n",
    "    getExpoPmf(lam, 4)\n",
    "    for lam in france.names\n",
    "]\n",
    "# for lam = 0, time betw goals is undefined, so priors are 0s,\n",
    "# and default normalizing (p ./ sum(ps)) of priors by Pmf constructor will produce NaN\n",
    "# we replace them with 0s\n",
    "pmfSeq[1].priors .= 0.0"
   ]
  },
  {
   "cell_type": "code",
   "execution_count": null,
   "id": "d93fa1f4-37df-4d22-bd10-f859f5458db2",
   "metadata": {
    "collapsed": false
   },
   "outputs": [],
   "source": [
    "predFrance = getMixture(\n",
    "    france,\n",
    "    pmfSeq,\n",
    "    map(x -> string(\"λ = \", x), qs), # postulated true lambdas\n",
    "    range(0, 4, 101) |> collect\n",
    ");\n",
    "predCroatia = getMixture(\n",
    "    croatia,\n",
    "    pmfSeq,\n",
    "    map(x -> string(\"λ = \", x), qs), # postulated true lambdas\n",
    "    range(0, 4, 101) |> collect\n",
    ");"
   ]
  },
  {
   "cell_type": "code",
   "execution_count": null,
   "id": "ef907051-6c88-47d3-852a-bcb598254915",
   "metadata": {
    "collapsed": false
   },
   "outputs": [],
   "source": [
    "fig = Cmk.Figure()\n",
    "ax, l1 = Cmk.lines(fig[1, 1],\n",
    "    predFrance.outcome, predFrance.posteriors,\n",
    "    axis=(;title=\"Posterior predictive distributions\",\n",
    "        xlabel=\"time between goals\",\n",
    "        ylabel=\"PMF\"\n",
    "    )\n",
    ")\n",
    "l2 = Cmk.lines!(fig[1, 1],\n",
    "    predCroatia.outcome, predCroatia.posteriors,\n",
    ")\n",
    "Cmk.axislegend(ax,\n",
    "    [l1, l2],\n",
    "    [\"France\", \"Croatia\"],\n",
    "    \"Team\"\n",
    ")\n",
    "fig"
   ]
  },
  {
   "cell_type": "code",
   "execution_count": null,
   "id": "a776ff0d-ab7b-4999-826b-6895092f48ae",
   "metadata": {
    "collapsed": false
   },
   "outputs": [],
   "source": [
    "# prob pmf1.names < pmf2.names, so less time between goals for france vs. croatia\n",
    "# therefore that france scores first goal\n",
    "getProbLt(\n",
    "    Pmf(predFrance.outcome, predFrance.posteriors), # posteriros as priors in new Pmf\n",
    "    Pmf(predCroatia.outcome, predCroatia.posteriors), # posteriros as priors in new Pmf\n",
    "    true\n",
    ")"
   ]
  },
  {
   "cell_type": "markdown",
   "id": "e17a4bf1-3a28-4787-be1d-9404a343acbd",
   "metadata": {
    "collapsed": false
   },
   "source": [
    "### Exercise 3\n",
    "\n",
    "In the 2010-11 National Hockey League (NHL) Finals [...] Boston Bruins played a best-of-seven championship against [...] Vancouver Canucks. Boston lost the first two games 0-1 and 2-3, then won the next two games 8-1 and 4-0. At this point in the series, what is the probability that Boston will win the next game, and what is their probability of winning the championship?\n",
    "\n",
    "To choose a prior distribution, I got some statistics from http://www.nhl.com, specifically the average goals per game for each team in the 2010-11 season. The distribution is well modeled by a gamma distribution with mean 2.8.\n",
    "\n",
    "In what ways do you think the outcome of these games might violate the assumptions of the Poisson model? How would these violations affect your predictions?"
   ]
  },
  {
   "cell_type": "code",
   "execution_count": null,
   "id": "636c454b-5ca9-438b-90b0-2ac393f013b5",
   "metadata": {
    "collapsed": false
   },
   "outputs": [],
   "source": [
    "goalAvg = 2.8\n",
    "qs = range(0, 15, 101) |> collect\n",
    "# prob of having lambda distribution with a given avg\n",
    "# when the observed avg is 2.8 (compare beginning of the chapter)\n",
    "ps = Dsts.pdf.(Dsts.Gamma(goalAvg), qs) \n",
    "ex3 = Pmf(qs, ps)"
   ]
  },
  {
   "cell_type": "code",
   "execution_count": null,
   "id": "d434d7b6-e764-4a7b-b9c3-164222bbfa96",
   "metadata": {
    "collapsed": false
   },
   "outputs": [],
   "source": [
    "boston = Pmf(ex3.names |> copy, ex3.priors |> copy)\n",
    "for bostonGoal in [0, 2, 8, 4] # goals scored by boston in first 4 games\n",
    "    updatePoisson!(boston, bostonGoal)\n",
    "end"
   ]
  },
  {
   "cell_type": "code",
   "execution_count": null,
   "id": "90f0531b-2fed-46e0-9b96-8f12f9716c04",
   "metadata": {
    "collapsed": false
   },
   "outputs": [],
   "source": [
    "vancouver = Pmf(ex3.names |> copy, ex3.priors |> copy)\n",
    "for vancouverGoal in [1, 3, 1, 0] # goals scored by vancouver in first 4 games\n",
    "    updatePoisson!(vancouver, vancouverGoal)\n",
    "end"
   ]
  },
  {
   "cell_type": "code",
   "execution_count": null,
   "id": "33aeda1a-b891-4574-aa5c-9abb5ce5923b",
   "metadata": {
    "collapsed": false
   },
   "outputs": [],
   "source": [
    "fig = Cmk.Figure()\n",
    "ax1, l1 = Cmk.lines(fig[1, 1], ex3.names, ex3.priors,\n",
    "    axis=(;title=\"Goal scoring rage distribution for hockey teams\",\n",
    "    xlabel=\"Goal scoring rate (λ)\",\n",
    "    ylabel=\"PMF\"),\n",
    "    linestyle=:dashdot\n",
    ")\n",
    "l2 = Cmk.lines!(fig[1, 1], boston.names, boston.posteriors)\n",
    "l3 = Cmk.lines!(fig[1, 1], vancouver.names, vancouver.posteriors)\n",
    "Cmk.axislegend(\n",
    "    ax1,\n",
    "    [l1, l2, l3],\n",
    "    [\"priors\", \"posteriors (Boston)\", \"posteriors (Vancouver)\"]\n",
    ")\n",
    "fig"
   ]
  },
  {
   "cell_type": "code",
   "execution_count": null,
   "id": "5eaffb4e-0f84-430e-a0ae-9386e1747100",
   "metadata": {
    "collapsed": false
   },
   "outputs": [],
   "source": [
    "goals = 0:14 |> collect # postulated range of goals possible to score in a game\n",
    "# for each possible goal scoring average (lam) probs of scoring given nums of goals\n",
    "pmfSeqBoston = [getPoisPmf(lam, goals) for lam in boston.names];"
   ]
  },
  {
   "cell_type": "code",
   "execution_count": null,
   "id": "1605ef68-5f41-4cb0-acd6-b5f05473dbb4",
   "metadata": {
    "collapsed": false
   },
   "outputs": [],
   "source": [
    "predBoston = getMixture(\n",
    "    boston, # probs of getting a dist in pmfSeqBoston\n",
    "    pmfSeqBoston,\n",
    "    map(x -> string(\"λ = \", x), boston.names),\n",
    "    0:14 |> collect,\n",
    "    false \n",
    ")\n",
    "\n",
    "predBoston = Pmf(predBoston.outcome, predBoston.posteriors)"
   ]
  },
  {
   "cell_type": "code",
   "execution_count": null,
   "id": "f69f78e4-25bb-4f00-9f23-207e655c0031",
   "metadata": {
    "collapsed": false
   },
   "outputs": [],
   "source": [
    "Cmk.barplot(predBoston.names, predBoston.priors,\n",
    "            axis=(;title=\"Posterior predictive distribution for Boston team\",\n",
    "                  xlabel=\"Number of goals\",\n",
    "                  ylabel=\"PMF\", xticks=0:14))"
   ]
  },
  {
   "cell_type": "code",
   "execution_count": null,
   "id": "d1855d24-35e2-4733-ac52-c12ac1754d5f",
   "metadata": {
    "collapsed": false
   },
   "outputs": [],
   "source": [
    "goals = 0:14 |> collect # postulated range of goals possible to score in a game\n",
    "# for each possible goal scoring average (lam) probs of scoring given nums of goals\n",
    "pmfSeqVancouver = [getPoisPmf(lam, goals) for lam in vancouver.names];"
   ]
  },
  {
   "cell_type": "code",
   "execution_count": null,
   "id": "97547259-d539-4c58-9767-da92ea5aca52",
   "metadata": {
    "collapsed": false
   },
   "outputs": [],
   "source": [
    "predVancouver = getMixture(\n",
    "    vancouver, # probs of getting a dist in pmfSeqVancouver\n",
    "    pmfSeqVancouver,\n",
    "    map(x -> string(\"λ = \", x), vancouver.names),\n",
    "    0:14 |> collect,\n",
    "    false \n",
    ")\n",
    "\n",
    "predVancouver = Pmf(predVancouver.outcome, predVancouver.posteriors)"
   ]
  },
  {
   "cell_type": "code",
   "execution_count": null,
   "id": "ea508de0-81d7-444e-85d4-840e54ae22f9",
   "metadata": {
    "collapsed": false
   },
   "outputs": [],
   "source": [
    "Cmk.barplot(predVancouver.names, predVancouver.priors,\n",
    "            axis=(;title=\"Posterior predictive distribution for Vancouver team\",\n",
    "                  xlabel=\"Number of goals\",\n",
    "                  ylabel=\"PMF\", xticks=0:14))"
   ]
  },
  {
   "cell_type": "code",
   "execution_count": null,
   "id": "9b770bf0-a8e7-48d3-932f-a4ca1c7de12a",
   "metadata": {
    "collapsed": false
   },
   "outputs": [],
   "source": [
    "pBostonWin = getProbGt(predBoston, predVancouver, true)\n",
    "pBostonDraw = getProbEq(predBoston, predVancouver, true)\n",
    "pBostonLose = getProbLt(predBoston, predVancouver, true)\n",
    "\n",
    "pBostonWin, pBostonDraw, pBostonLose"
   ]
  },
  {
   "cell_type": "code",
   "execution_count": null,
   "id": "164379f5-c896-499f-a3cf-c62784cdec85",
   "metadata": {
    "collapsed": false
   },
   "outputs": [],
   "source": [
    "# prob of Boston team winning the next game\n",
    "pBostonWin + pBostonDraw / 2 # winning half of the ties in tiebreak?"
   ]
  },
  {
   "cell_type": "code",
   "execution_count": null,
   "id": "0b9f4d2c-5dce-43c5-872b-2f9c343dd1dd",
   "metadata": {
    "collapsed": false
   },
   "outputs": [],
   "source": [
    "# prob of Boston team winning the championship\n",
    "# e.g. best-of-seven, 4 games played, 3 games remain\n",
    "# score so far is 2-2, so must win 2 of 3 games\n",
    "# from docs: Dsts.Binom(n, p) and Dsts.pdf(binomDist, num success)\n",
    "Dsts.pdf.(Dsts.Binomial(3, pBostonWin + pBostonDraw / 2), 2:3) |> sum"
   ]
  }
 ],
 "metadata": {
  "kernelspec": {
   "argv": [
    "~/.julia/juliaup/julia-1.10.2+0.x64.linux.gnu/bin/julia",
    "-i",
    "--color=yes",
    "--project=@.",
    "~/.julia/packages/IJulia/Vo51o/src/kernel.jl",
    "{connection_file}"
   ],
   "display_name": "Julia 1.10.2",
   "env": null,
   "interrupt_mode": "signal",
   "language": "julia",
   "metadata": null,
   "name": "julia-1.10"
  },
  "language_info": {
   "file_extension": ".jl",
   "mimetype": "application/julia",
   "name": "julia",
   "version": "1.10.2"
  },
  "name": "ch08.ipynb"
 },
 "nbformat": 4,
 "nbformat_minor": 4
}
