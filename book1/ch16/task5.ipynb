{
 "cells": [
  {
   "attachments": {},
   "cell_type": "markdown",
   "id": "0afe05a3",
   "metadata": {},
   "source": [
    "# Task 5\n",
    "\n",
    "## Original exercise number\n",
    "\n",
    "Exercise 16-7\n",
    "\n",
    "## Description\n",
    "\n",
    "Julia provides time objects that are similar to the `MyTime` objects in this chapter, but they provide a rich set of function and operators. Read the documentation at https://docs.julialang.org/en/v1/stdlib/Dates/.\n",
    "\n",
    "1. Write a program that gets the current date and prints the day of the week.\n",
    "\n",
    "2. Write a program that takes a birthday as input and prints the user’s age and the number of days, hours, minutes and seconds until their next birthday.\n",
    "\n",
    "3. For two people born on different days, there is a day when one is twice as old as the other. That’s their Double Day. Write a program that takes two birthdays and computes their Double Day.\n",
    "\n",
    "4. For a little more challenge, write the more general version that computes the day when one person is n times older than the other."
   ]
  },
  {
   "cell_type": "markdown",
   "id": "c4bc3ea0",
   "metadata": {},
   "source": [
    "## Solution"
   ]
  },
  {
   "cell_type": "markdown",
   "id": "2895339f",
   "metadata": {},
   "source": [
    "NO GUARANTEE THAT THE SOLUTION WILL WORK OR WORKS CORRECTLY! USE IT AT\n",
    "YOUR OWN RISK!"
   ]
  },
  {
   "cell_type": "markdown",
   "id": "64af222d",
   "metadata": {},
   "source": [
    "### Imports"
   ]
  },
  {
   "cell_type": "code",
   "execution_count": null,
   "id": "c097406f",
   "metadata": {},
   "outputs": [],
   "source": [
    "import Dates as dts"
   ]
  },
  {
   "attachments": {},
   "cell_type": "markdown",
   "id": "05df47ca",
   "metadata": {},
   "source": [
    "### Functions"
   ]
  },
  {
   "attachments": {},
   "cell_type": "markdown",
   "id": "76b90a95",
   "metadata": {},
   "source": [
    "#### Functions task 5.1"
   ]
  },
  {
   "cell_type": "code",
   "execution_count": null,
   "id": "23554b88",
   "metadata": {},
   "outputs": [],
   "source": [
    "function getTodaysDate()::String\n",
    "    # to get dayname and date in 1 string use dts.RFC1123Format\n",
    "    return dts.now() |> x -> dts.format(x, dts.ISODateFormat)\n",
    "end"
   ]
  },
  {
   "cell_type": "code",
   "execution_count": null,
   "id": "d3f0fa8b",
   "metadata": {},
   "outputs": [],
   "source": [
    "function getTodaysDayName()::String\n",
    "    return dts.now() |> dts.dayname \n",
    "end"
   ]
  },
  {
   "attachments": {},
   "cell_type": "markdown",
   "id": "2916d344",
   "metadata": {},
   "source": [
    "#### Functions task 5.2"
   ]
  },
  {
   "cell_type": "code",
   "execution_count": null,
   "id": "a66d15e4",
   "metadata": {},
   "outputs": [],
   "source": [
    "# hours, minutes and seconds till next birthday is rather artificial\n",
    "# who knows exactly their hour and minute of birth,\n",
    "# hence it makes little sense, the days are enough\n",
    "function getDaysTillNextBirthday(bthDay::dts.Date)::dts.Day\n",
    "    m::dts.Month, d::dts.Day = bthDay |> dts.Month, bthDay |> dts.Day\n",
    "    t::dts.Date = dts.today() |> dts.Date\n",
    "    beforeBthday::Bool = (dts.Month(t) > m) || (dts.Day(t) > d)\n",
    "    nextBthDay::dts.Date = dts.Date(dts.Year(t) + dts.Year(beforeBthday ? 1 : 0), m, d)\n",
    "    return nextBthDay - t\n",
    "end"
   ]
  },
  {
   "cell_type": "code",
   "execution_count": null,
   "id": "078630b3",
   "metadata": {},
   "outputs": [],
   "source": [
    "function getAge(bthDay::dts.Date)::dts.Year\n",
    "    @assert (dts.today() > bthDay) \"bthDay must be earlier than today\"\n",
    "    age::dts.Date = dts.Date(0, 1, 1) + (dts.today() - bthDay)\n",
    "    return dts.Year(age)\n",
    "end"
   ]
  },
  {
   "cell_type": "code",
   "execution_count": null,
   "id": "75ed6338",
   "metadata": {},
   "outputs": [],
   "source": [
    "function printAgeAndBthdayInfo(bthDay::dts.Date)\n",
    "    age = getAge(bthDay)\n",
    "    daysTillNextBthday::dts.Day = getDaysTillNextBirthday(bthDay)\n",
    "    println(\"Your were born: $(bthDay).\")\n",
    "    println(\"Today is $(dts.today()).\")\n",
    "    println(\"You are $age old.\")\n",
    "    if daysTillNextBthday == dts.Day(0)\n",
    "        println(\"Today you will be $(age + dts.Year(1)) old.\")\n",
    "    end\n",
    "    println(\"$(getDaysTillNextBirthday(bthDay)) remained till your next birthday.\")\n",
    "    return nothing\n",
    "end"
   ]
  },
  {
   "cell_type": "markdown",
   "id": "e305ed8d",
   "metadata": {},
   "source": [
    "#### Functions task 5.3"
   ]
  },
  {
   "cell_type": "code",
   "execution_count": null,
   "id": "bba22002",
   "metadata": {},
   "outputs": [],
   "source": [
    "function isDoubleDay(older::dts.Date, younger::dts.Date, refDate::dts.Date)::Bool\n",
    "    @assert((older <= refDate) && (younger <= refDate),\n",
    "            \"older and younger must be chronologically before refDate\")\n",
    "    @assert(older < younger,\n",
    "            \"older must be chronologically before younger\")\n",
    "    olderDiff::dts.Day = refDate - older\n",
    "    youngerDiff::dts.Day = refDate - younger\n",
    "    return  olderDiff == youngerDiff * 2\n",
    "end"
   ]
  },
  {
   "cell_type": "code",
   "execution_count": null,
   "id": "bef98ac1",
   "metadata": {},
   "outputs": [],
   "source": [
    "function getDoubleDay(bDay1::dts.Date, bDay2::dts.Date)::Union{Some{dts.Date}, Nothing}\n",
    "    # assumed max 120 yrs (120 * 365 = 43800), give or take max human lifespan\n",
    "    @assert((abs(bDay1 - bDay2) < dts.Day(43800)),\n",
    "            \"differne between birthdays cannot be greater than 120 years\")\n",
    "    bDays::Vector{dts.Date} = sort([bDay1, bDay2])\n",
    "    refDate::dts.Date = bDays[end] + dts.Day(1)\n",
    "    for _ in 1:43800 \n",
    "        if isDoubleDay(bDays..., refDate)\n",
    "            return Some(refDate)\n",
    "        else\n",
    "            refDate += dts.Day(1)\n",
    "        end\n",
    "    end\n",
    "    return nothing\n",
    "end"
   ]
  },
  {
   "attachments": {},
   "cell_type": "markdown",
   "id": "f8866cb1",
   "metadata": {},
   "source": [
    "### Testing"
   ]
  },
  {
   "attachments": {},
   "cell_type": "markdown",
   "id": "57e5bff6",
   "metadata": {},
   "source": [
    "#### Testing task 5.1"
   ]
  },
  {
   "cell_type": "code",
   "execution_count": null,
   "id": "5c98e3f9",
   "metadata": {},
   "outputs": [],
   "source": [
    "getTodaysDate()"
   ]
  },
  {
   "cell_type": "code",
   "execution_count": null,
   "id": "c469d625",
   "metadata": {},
   "outputs": [],
   "source": [
    "getTodaysDayName()"
   ]
  },
  {
   "attachments": {},
   "cell_type": "markdown",
   "id": "edc3dfac",
   "metadata": {},
   "source": [
    "#### Testing task 5.2"
   ]
  },
  {
   "cell_type": "code",
   "execution_count": null,
   "id": "fe0706cd",
   "metadata": {},
   "outputs": [],
   "source": [
    "printAgeAndBthdayInfo(dts.Date(1990, 05, 06))"
   ]
  },
  {
   "cell_type": "code",
   "execution_count": null,
   "id": "20e5f200",
   "metadata": {},
   "outputs": [],
   "source": [
    "printAgeAndBthdayInfo(dts.Date(1990, 05, 05))"
   ]
  },
  {
   "cell_type": "code",
   "execution_count": null,
   "id": "ca7eb673",
   "metadata": {},
   "outputs": [],
   "source": [
    "printAgeAndBthdayInfo(dts.Date(1990, 05, 04))"
   ]
  },
  {
   "cell_type": "markdown",
   "id": "10aa4a04",
   "metadata": {},
   "source": [
    "#### Testing task 5.2"
   ]
  },
  {
   "cell_type": "code",
   "execution_count": null,
   "id": "b8e988f0",
   "metadata": {},
   "outputs": [],
   "source": [
    "getDoubleDay(dts.Date(1987, 01, 08), dts.Date(1997, 01, 08))"
   ]
  },
  {
   "cell_type": "code",
   "execution_count": null,
   "id": "626c2f1a",
   "metadata": {},
   "outputs": [],
   "source": [
    "getDoubleDay(dts.Date(1991, 01, 08), dts.Date(1994, 05, 06))"
   ]
  }
 ],
 "metadata": {
  "kernelspec": {
   "display_name": "Julia 1.8.3",
   "language": "julia",
   "name": "julia-1.8"
  },
  "language_info": {
   "file_extension": ".jl",
   "mimetype": "application/julia",
   "name": "julia",
   "version": "1.8.3"
  },
  "name": "task1.ipynb"
 },
 "nbformat": 4,
 "nbformat_minor": 5
}
