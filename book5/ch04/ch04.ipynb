{
 "cells": [
  {
   "cell_type": "markdown",
   "id": "756018ac-fc3b-4f6a-9c0b-39b231d378c4",
   "metadata": {
    "collapsed": false,
    "jupyter": {
     "outputs_hidden": false
    }
   },
   "source": [
    "# Ch04. Quicksort"
   ]
  },
  {
   "cell_type": "markdown",
   "id": "64b96b92",
   "metadata": {
    "collapsed": false
   },
   "source": [
    "## Imports"
   ]
  },
  {
   "cell_type": "code",
   "execution_count": null,
   "id": "f9eb3c97",
   "metadata": {},
   "outputs": [],
   "source": [
    "# none yet"
   ]
  },
  {
   "cell_type": "markdown",
   "id": "054da63e",
   "metadata": {
    "collapsed": false
   },
   "source": [
    "## Custom types"
   ]
  },
  {
   "cell_type": "code",
   "execution_count": null,
   "id": "82b8fc6d",
   "metadata": {
    "collapsed": false
   },
   "outputs": [],
   "source": [
    "Num = Union{Int,Float64}"
   ]
  },
  {
   "cell_type": "markdown",
   "id": "ae85e6ee",
   "metadata": {},
   "source": [
    "## Divide & conquer"
   ]
  },
  {
   "cell_type": "markdown",
   "id": "15a0ea93",
   "metadata": {},
   "source": [
    "Suppose there is a plot of land 1680 x 640 (width x height).\n",
    "You want to divide it into square plots of equal area (each equal any other)."
   ]
  },
  {
   "cell_type": "code",
   "execution_count": null,
   "id": "3ee4e0f1",
   "metadata": {},
   "outputs": [],
   "source": [
    "function getSum(arr::Vector{<:Num})::Num\n",
    "    total::Num = 0 \n",
    "    for aᵢ in arr\n",
    "        total += aᵢ\n",
    "    end\n",
    "    return total\n",
    "end"
   ]
  },
  {
   "cell_type": "code",
   "execution_count": null,
   "id": "3fa930ba",
   "metadata": {},
   "outputs": [],
   "source": [
    "getSum(1:10 |> collect),\n",
    "getSum(1:100 |> collect),\n",
    "getSum(Int[])"
   ]
  },
  {
   "cell_type": "markdown",
   "id": "687b1886",
   "metadata": {},
   "source": [
    "## Exercises 4.1-4.4"
   ]
  },
  {
   "cell_type": "markdown",
   "id": "58a67c4d",
   "metadata": {},
   "source": [
    "### Exercise 4.1\n",
    "\n",
    "Write out recursive version of `sum` function."
   ]
  },
  {
   "cell_type": "code",
   "execution_count": null,
   "id": "892cda30",
   "metadata": {},
   "outputs": [],
   "source": [
    "function getSumRec(arr::Vector{<:Num})::Num\n",
    "    return isempty(arr) ? 0 : arr[1] + getSumRec(arr[2:end])\n",
    "end"
   ]
  },
  {
   "cell_type": "code",
   "execution_count": null,
   "id": "ccc2ed60",
   "metadata": {},
   "outputs": [],
   "source": [
    "getSumRec(1:10 |> collect),\n",
    "getSumRec(1:100 |> collect),\n",
    "getSumRec(Int[])"
   ]
  },
  {
   "cell_type": "markdown",
   "id": "ab79f21e",
   "metadata": {},
   "source": [
    "### Exercise 4.2\n",
    "\n",
    "Write a recursive version of `length` function."
   ]
  },
  {
   "cell_type": "code",
   "execution_count": null,
   "id": "812113e1",
   "metadata": {},
   "outputs": [],
   "source": [
    "function getLenRec(arr::Vector{<:Num})::Int\n",
    "    return isempty(arr) ? 0 : 1 + getLenRec(arr[2:end])\n",
    "end"
   ]
  },
  {
   "cell_type": "code",
   "execution_count": null,
   "id": "03d2e100",
   "metadata": {},
   "outputs": [],
   "source": [
    "getLenRec(1:10 |> collect),\n",
    "getLenRec(1:100 |> collect),\n",
    "getLenRec(Int[])"
   ]
  },
  {
   "cell_type": "markdown",
   "id": "1608ba25",
   "metadata": {},
   "source": [
    "### Exercise 4.3\n",
    "\n",
    "Write a recursive function to find a maximum number in a list"
   ]
  },
  {
   "cell_type": "code",
   "execution_count": null,
   "id": "94714651",
   "metadata": {},
   "outputs": [],
   "source": [
    "function getMax(x::Num, y::Num)::Num\n",
    "    return x > y ? x : y\n",
    "end\n",
    "\n",
    "function getMaximum(arr::Vector{<:Num}, prevMax::Num)::Num\n",
    "    return (\n",
    "        isempty(arr) ?\n",
    "        prevMax :\n",
    "        getMaximum(arr[2:end], getMax(prevMax, arr[1]))\n",
    "    )\n",
    "end\n",
    "\n",
    "function getMaximum(arr::Vector{<:Num})::Num\n",
    "    return getMaximum(arr[2:end], arr[1])\n",
    "end"
   ]
  },
  {
   "cell_type": "code",
   "execution_count": null,
   "id": "00d1fe8b",
   "metadata": {},
   "outputs": [],
   "source": [
    "for _ in 1:5\n",
    "    nums = rand(1:20, 4)\n",
    "    println(\"max num of: $(nums) is $(getMax(nums))\")\n",
    "end"
   ]
  },
  {
   "cell_type": "markdown",
   "id": "0f5d18e0",
   "metadata": {},
   "source": [
    "### Exercise 4.4\n",
    "\n",
    "Rewrite binary search from ch01 using recursion."
   ]
  },
  {
   "cell_type": "code",
   "execution_count": null,
   "id": "edf1cfd8",
   "metadata": {},
   "outputs": [],
   "source": [
    "function getMid(arr::Vector{A})::Int where A\n",
    "    return round(Int, (1+length(arr))/2)\n",
    "end\n",
    "\n",
    "function getHalf(arr::Vector{A}, lower::Bool=true)::Vector{A} where A\n",
    "    mid::Int = getMid(arr)\n",
    "    return lower ? arr[1:(mid-1)] : arr[(mid+1):end]\n",
    "end\n",
    "\n",
    "function enumArr(arr::Vector{Int})::Vector{Tuple{Int, Int}}\n",
    "    return enumerate(arr) |> collect\n",
    "end"
   ]
  },
  {
   "cell_type": "code",
   "execution_count": null,
   "id": "65332fdb",
   "metadata": {},
   "outputs": [],
   "source": [
    "\"\"\"\n",
    "getIndex returns an index of an item in a list or -99 if the item is not found\n",
    "         it uses binary search algorithm\n",
    "\"\"\"\n",
    "function getIndex(\n",
    "    itemToFind::Int,\n",
    "    ascSortedList::Vector{Tuple{Int, Int}},\n",
    "    count::Int=1)::Tuple{Int, Int}\n",
    "    if isempty(ascSortedList)\n",
    "        return (-99, count)\n",
    "    end\n",
    "    mid::Tuple{Int, Int} = ascSortedList[getMid(ascSortedList)]\n",
    "    if (mid[2] == itemToFind)\n",
    "        return (mid[1], count)\n",
    "    elseif mid[2] > itemToFind\n",
    "        return getIndex(itemToFind, getHalf(ascSortedList, true), count+1)\n",
    "    else\n",
    "        return getIndex(itemToFind, getHalf(ascSortedList, false), count+1)\n",
    "    end\n",
    "end\n",
    "\n",
    "\n",
    "function getIndex(\n",
    "    itemToFind::Int, ascSortedList::Vector{Int}, displayCount::Bool=false)::Int\n",
    "    result::Tuple{Int, Int} = getIndex(itemToFind, enumArr(ascSortedList)) \n",
    "    if displayCount\n",
    "        println(\"Evaluation done in $(result[2]) step(s).\")\n",
    "    end\n",
    "    return result[1]\n",
    "end"
   ]
  },
  {
   "cell_type": "markdown",
   "id": "7502c3bc",
   "metadata": {},
   "source": [
    "#### Ex. 4.4. Test arrays"
   ]
  },
  {
   "cell_type": "code",
   "execution_count": null,
   "id": "51b6306e",
   "metadata": {},
   "outputs": [],
   "source": [
    "test1 = [1, 3, 5, 7, 9]\n",
    "test2 = [1, 3, 5, 7, 9, 11]"
   ]
  },
  {
   "cell_type": "markdown",
   "id": "3b8302bd",
   "metadata": {},
   "source": [
    "#### Ex. 4.4. Positive tests"
   ]
  },
  {
   "cell_type": "code",
   "execution_count": null,
   "id": "9e3356cd",
   "metadata": {},
   "outputs": [],
   "source": [
    "for elt in test1\n",
    "    println(\"index of $(elt) in $(test1) is: $(getIndex(elt, test1))\")\n",
    "end"
   ]
  },
  {
   "cell_type": "code",
   "execution_count": null,
   "id": "96d1c86e",
   "metadata": {},
   "outputs": [],
   "source": [
    "for elt in test2\n",
    "    println(\"index of $(elt) in $(test2) is: $(getIndex(elt, test2))\")\n",
    "end"
   ]
  },
  {
   "cell_type": "markdown",
   "id": "0782d7f8",
   "metadata": {},
   "source": [
    "#### Ex. 4.4. Negative tests"
   ]
  },
  {
   "cell_type": "code",
   "execution_count": null,
   "id": "e991728f",
   "metadata": {},
   "outputs": [],
   "source": [
    "for elt in [-4, 0, 2, 8, 10]\n",
    "    println(\"index of $(elt) in $(test1) is: $(getIndex(elt, test1))\")\n",
    "end"
   ]
  },
  {
   "cell_type": "code",
   "execution_count": null,
   "id": "fe32cc11",
   "metadata": {},
   "outputs": [],
   "source": [
    "for elt in [-4, 0, 2, 8, 10, 12]\n",
    "    println(\"index of $(elt) in $(test2) is: $(getIndex(elt, test1))\")\n",
    "end"
   ]
  },
  {
   "cell_type": "markdown",
   "id": "28b00e15",
   "metadata": {},
   "source": [
    "#### Ex. 4.4. Number of steps taken"
   ]
  },
  {
   "cell_type": "code",
   "execution_count": null,
   "id": "ef1aff4d",
   "metadata": {},
   "outputs": [],
   "source": [
    "log2(128)"
   ]
  },
  {
   "cell_type": "code",
   "execution_count": null,
   "id": "005bafab",
   "metadata": {},
   "outputs": [],
   "source": [
    "getIndex(1, 1:128 |> collect, true),\n",
    "getIndex(128, 1:128 |> collect, true)\n"
   ]
  },
  {
   "cell_type": "code",
   "execution_count": null,
   "id": "5acd831e",
   "metadata": {},
   "outputs": [],
   "source": [
    "log2(256)"
   ]
  },
  {
   "cell_type": "code",
   "execution_count": null,
   "id": "b70ecf94",
   "metadata": {},
   "outputs": [],
   "source": [
    "getIndex(1, 1:256 |> collect, true),\n",
    "getIndex(256, 1:256 |> collect, true)"
   ]
  },
  {
   "cell_type": "markdown",
   "id": "815a2957",
   "metadata": {},
   "source": [
    "## Quicksort"
   ]
  },
  {
   "cell_type": "code",
   "execution_count": null,
   "id": "21b4e633",
   "metadata": {},
   "outputs": [],
   "source": [
    "function quicksortArr(arr::Vector{Int})::Vector{Int}\n",
    "    if length(arr) < 2\n",
    "        return arr\n",
    "    else\n",
    "        pivotElt::Int = arr[1]\n",
    "        smallerEq::Vector{Int} = filter(x -> x <= pivotElt, arr[2:end])\n",
    "        greater::Vector{Int} = filter(x -> x > pivotElt, arr[2:end])\n",
    "        return vcat(quicksortArr(smallerEq), [pivotElt], quicksortArr(greater))\n",
    "    end\n",
    "end"
   ]
  },
  {
   "cell_type": "code",
   "execution_count": null,
   "id": "f45cdab7",
   "metadata": {},
   "outputs": [],
   "source": [
    "quicksortArr([10, 5, 2, 3])"
   ]
  }
 ],
 "metadata": {
  "kernelspec": {
   "display_name": "Julia 1.10.2",
   "language": "julia",
   "name": "julia-1.10"
  },
  "language_info": {
   "file_extension": ".jl",
   "mimetype": "application/julia",
   "name": "julia",
   "version": "1.10.2"
  },
  "name": "ch04.ipynb"
 },
 "nbformat": 4,
 "nbformat_minor": 5
}
