{
 "cells": [
  {
   "attachments": {},
   "cell_type": "markdown",
   "id": "b9d0dcce",
   "metadata": {
    "collapsed": false
   },
   "source": [
    "# Task 3\n",
    "\n",
    "## Original exercise number\n",
    "\n",
    "Exercise 11-5\n",
    "\n",
    "## Description\n",
    "\n",
    "If you did [Exercise 10-7](https://benlauwens.github.io/ThinkJulia.jl/latest/book.html#ex10-7), you already have a function named `hasduplicates` that takes an array as a parameter and returns `true` if there is any object that appears more than once in the array.\n",
    "\n",
    "Use a dictionary to write a faster, simpler version of `hasduplicates`."
   ]
  },
  {
   "cell_type": "markdown",
   "id": "f3f3c4ac",
   "metadata": {
    "collapsed": false
   },
   "source": [
    "## Solution"
   ]
  },
  {
   "cell_type": "markdown",
   "id": "88685f19",
   "metadata": {
    "collapsed": false
   },
   "source": [
    "NO GUARANTEE THAT THE SOLUTION WILL WORK OR WORKS CORRECTLY! USE IT AT\n",
    "YOUR OWN RISK!"
   ]
  },
  {
   "cell_type": "markdown",
   "id": "9813494a",
   "metadata": {
    "collapsed": false
   },
   "source": [
    "### Functions"
   ]
  },
  {
   "cell_type": "code",
   "execution_count": null,
   "id": "f1a85eb9",
   "metadata": {},
   "outputs": [],
   "source": [
    "function hasduplicates(arr)::Bool\n",
    "    result = Dict()\n",
    "    for elt in arr\n",
    "        result[elt] = get(result, elt, 0) + 1\n",
    "        if result[elt] >= 2\n",
    "            return true\n",
    "        end\n",
    "    end\n",
    "    return false\n",
    "end"
   ]
  },
  {
   "attachments": {},
   "cell_type": "markdown",
   "id": "faf1a53d",
   "metadata": {},
   "source": [
    "# Testing"
   ]
  },
  {
   "cell_type": "code",
   "execution_count": null,
   "id": "eacbb105",
   "metadata": {},
   "outputs": [],
   "source": [
    "hasduplicates([1, 2, 3, 4, 5, 5])"
   ]
  },
  {
   "cell_type": "code",
   "execution_count": null,
   "id": "957e6141",
   "metadata": {},
   "outputs": [],
   "source": [
    "hasduplicates(split(\"alan\", \"\"))"
   ]
  },
  {
   "cell_type": "code",
   "execution_count": null,
   "id": "60b69eaf",
   "metadata": {},
   "outputs": [],
   "source": [
    "hasduplicates(split(\"potter\", \"\"))"
   ]
  }
 ],
 "metadata": {
  "kernelspec": {
   "display_name": "Julia 1.8.3",
   "language": "julia",
   "name": "julia-1.8"
  },
  "language_info": {
   "file_extension": ".jl",
   "mimetype": "application/julia",
   "name": "julia",
   "version": "1.8.3"
  },
  "name": "task2.ipynb"
 },
 "nbformat": 4,
 "nbformat_minor": 5
}
