{
 "cells": [
  {
   "cell_type": "markdown",
   "id": "42205b41",
   "metadata": {},
   "source": [
    "# Chapter 1. Probability\n",
    "[Link to chapter online](https://allendowney.github.io/ThinkBayes2/chap01.html)"
   ]
  },
  {
   "cell_type": "markdown",
   "id": "3bf987e3",
   "metadata": {},
   "source": [
    "## Warning\n",
    "\n",
    "The content of this file may be incorrect, erroneous and/or harmful. Use it at Your own risk."
   ]
  },
  {
   "cell_type": "markdown",
   "id": "6727871b",
   "metadata": {},
   "source": [
    "## Imports"
   ]
  },
  {
   "cell_type": "code",
   "execution_count": null,
   "id": "29996cc6",
   "metadata": {},
   "outputs": [],
   "source": [
    "import CSV as Csv\n",
    "import DataFrames as Dfs\n",
    "import Statistics as Stats"
   ]
  },
  {
   "cell_type": "markdown",
   "id": "7d8bf13b",
   "metadata": {},
   "source": [
    "## Functionality developed in this chapter"
   ]
  },
  {
   "cell_type": "code",
   "execution_count": null,
   "id": "d964716e",
   "metadata": {},
   "outputs": [],
   "source": [
    "function getProb(v::BitVector)::Float64\n",
    "    return Stats.mean(v)\n",
    "end"
   ]
  },
  {
   "cell_type": "code",
   "execution_count": null,
   "id": "a8445248",
   "metadata": {},
   "outputs": [],
   "source": [
    "function getCondProb(\n",
    "    proposition::BitVector, given::BitVector\n",
    "    )::Float64\n",
    "    return getProb(proposition[given])\n",
    "end"
   ]
  },
  {
   "cell_type": "markdown",
   "id": "d8e20b71",
   "metadata": {},
   "source": [
    "## Linda the Banker\n",
    "\n",
    "> Linda is 31 years old, single, outspoken, and very bright. She majored in philosophy. As a student, she was deeply concerned with issues of discrimination and social justice, and also participated in anti-nuclear demonstrations. Which is more probable?\n",
    "> 1. Linda is a bank teller.\n",
    "> 2. Linda is a bank teller and is active in the feminist movement."
   ]
  },
  {
   "cell_type": "markdown",
   "id": "9862df55",
   "metadata": {},
   "source": [
    "## Probability\n",
    "\n",
    "[Link to the data file (gss_bayes.csv) online](https://raw.githubusercontent.com/AllenDowney/BiteSizeBayes/master/gss_bayes.csv)"
   ]
  },
  {
   "cell_type": "code",
   "execution_count": null,
   "id": "862f9f4d",
   "metadata": {},
   "outputs": [],
   "source": [
    "gss = Dfs.DataFrame(Csv.File(\"./gss_bayes.csv\"))\n",
    "first(gss, 5)"
   ]
  },
  {
   "cell_type": "markdown",
   "id": "ee7a2bef",
   "metadata": {},
   "source": [
    "## Fraction of bankers\n",
    "\n",
    "The code for “Banking and related activities” is 6870, so we can select bankers like this:"
   ]
  },
  {
   "cell_type": "code",
   "execution_count": null,
   "id": "fdf51343",
   "metadata": {},
   "outputs": [],
   "source": [
    "banker = (gss.indus10 .== 6870)\n",
    "first(banker, 5)"
   ]
  },
  {
   "cell_type": "code",
   "execution_count": null,
   "id": "784ba8b5",
   "metadata": {},
   "outputs": [],
   "source": [
    "sum(banker)"
   ]
  },
  {
   "cell_type": "code",
   "execution_count": null,
   "id": "440f0c3c",
   "metadata": {},
   "outputs": [],
   "source": [
    "Stats.mean(banker)"
   ]
  },
  {
   "cell_type": "markdown",
   "id": "7ab69ab3",
   "metadata": {},
   "source": [
    "## The probability function\n",
    "\n",
    "<pre>\n",
    "function getProb(v::BitVector)::Float64\n",
    "    return Stats.mean(v)\n",
    "end\n",
    "</pre>"
   ]
  },
  {
   "cell_type": "code",
   "execution_count": null,
   "id": "f8947194",
   "metadata": {},
   "outputs": [],
   "source": [
    "getProb(banker)"
   ]
  },
  {
   "cell_type": "markdown",
   "id": "6bee3b43",
   "metadata": {},
   "source": [
    "columng `gss.sex` coding:\n",
    "1. male\n",
    "2. female"
   ]
  },
  {
   "cell_type": "code",
   "execution_count": null,
   "id": "523167aa",
   "metadata": {},
   "outputs": [],
   "source": [
    "female = (gss.sex .== 2);"
   ]
  },
  {
   "cell_type": "code",
   "execution_count": null,
   "id": "bbd17271",
   "metadata": {},
   "outputs": [],
   "source": [
    "getProb(female)"
   ]
  },
  {
   "cell_type": "markdown",
   "id": "94388a45",
   "metadata": {},
   "source": [
    "## Political Views and Parties\n",
    "\n",
    "`polviews` coding:\n",
    "1. Extremely liberal\n",
    "2. Liberal\n",
    "3. Slightly liberal\n",
    "4. Moderate\n",
    "5. Slightly conservative\n",
    "6. Conservative\n",
    "7. Extremely conservative"
   ]
  },
  {
   "cell_type": "code",
   "execution_count": null,
   "id": "fd5bdd99",
   "metadata": {},
   "outputs": [],
   "source": [
    "liberal = (gss.polviews .<= 3);"
   ]
  },
  {
   "cell_type": "code",
   "execution_count": null,
   "id": "4d9d7a27",
   "metadata": {},
   "outputs": [],
   "source": [
    "getProb(liberal)"
   ]
  },
  {
   "cell_type": "markdown",
   "id": "6e343132",
   "metadata": {},
   "source": [
    "`partyid` coding:\n",
    "0. Strong democrat\n",
    "1. Not strong democrat\n",
    "2. Independent, near democrat\n",
    "3. Independent\n",
    "4. Independent, near republican\n",
    "5. Not strong republican\n",
    "6. Strong republican\n",
    "7. Other party"
   ]
  },
  {
   "cell_type": "code",
   "execution_count": null,
   "id": "2906ce89",
   "metadata": {},
   "outputs": [],
   "source": [
    "democrat = (gss.partyid .<= 1);"
   ]
  },
  {
   "cell_type": "code",
   "execution_count": null,
   "id": "8cdeef9c",
   "metadata": {},
   "outputs": [],
   "source": [
    "getProb(democrat)"
   ]
  },
  {
   "cell_type": "markdown",
   "id": "49ebd339",
   "metadata": {},
   "source": [
    "## Conjunction\n",
    "\n",
    "“Conjunction” is another name for the logical `and` operation. If you have two propositions, `A` and `B`, the conjunction `A` and `B` is `True` if both `A` and `B` are `True`, and `False` otherwise."
   ]
  },
  {
   "cell_type": "code",
   "execution_count": null,
   "id": "4a3756e1",
   "metadata": {},
   "outputs": [],
   "source": [
    "getProb(banker)"
   ]
  },
  {
   "cell_type": "code",
   "execution_count": null,
   "id": "24b4de4d",
   "metadata": {},
   "outputs": [],
   "source": [
    "getProb(democrat)"
   ]
  },
  {
   "cell_type": "code",
   "execution_count": null,
   "id": "8d44a914",
   "metadata": {},
   "outputs": [],
   "source": [
    "getProb(banker .& democrat)"
   ]
  },
  {
   "cell_type": "markdown",
   "id": "e938955d",
   "metadata": {},
   "source": [
    "As we should expect, `getProb(banker .& democrat)` is less than `getProb(banker)`, because not all bankers are Democrats.\n",
    "\n",
    "We expect conjunction to be commutative; that is, `A & B` should be the same as `B & A`. To check, we can also compute `getProb(democrat & banker)`:"
   ]
  },
  {
   "cell_type": "code",
   "execution_count": null,
   "id": "df5b07e1",
   "metadata": {},
   "outputs": [],
   "source": [
    "getProb(democrat .& banker)"
   ]
  },
  {
   "cell_type": "markdown",
   "id": "9761cb7b",
   "metadata": {},
   "source": [
    "## Conditional Probability\n",
    "\n",
    "Questions:\n",
    "- What is the probability that a respondent is a Democrat, given that they are liberal?\n",
    "- What is the probability that a respondent is female, given that they are a banker?\n",
    "- What is the probability that a respondent is liberal, given that they are female?"
   ]
  },
  {
   "cell_type": "code",
   "execution_count": null,
   "id": "4f038b58",
   "metadata": {},
   "outputs": [],
   "source": [
    "democratGivenLiberal = democrat[liberal];"
   ]
  },
  {
   "cell_type": "code",
   "execution_count": null,
   "id": "ee4edd9b",
   "metadata": {},
   "outputs": [],
   "source": [
    "getProb(democratGivenLiberal)"
   ]
  },
  {
   "cell_type": "code",
   "execution_count": null,
   "id": "c2cc9465",
   "metadata": {},
   "outputs": [],
   "source": [
    "femaleGivenBanker = female[banker]\n",
    "getProb(femaleGivenBanker)"
   ]
  },
  {
   "cell_type": "code",
   "execution_count": null,
   "id": "fdfc4b42",
   "metadata": {},
   "outputs": [],
   "source": [
    "getCondProb(liberal, female)"
   ]
  },
  {
   "cell_type": "markdown",
   "id": "59106c11",
   "metadata": {},
   "source": [
    "## Conditional Probability is Not Commutative"
   ]
  },
  {
   "cell_type": "code",
   "execution_count": null,
   "id": "c98bca8c",
   "metadata": {},
   "outputs": [],
   "source": [
    "getCondProb(female, banker)"
   ]
  },
  {
   "cell_type": "markdown",
   "id": "1a46d3cd",
   "metadata": {},
   "source": [
    "About 77% of bankers are female"
   ]
  },
  {
   "cell_type": "code",
   "execution_count": null,
   "id": "e1899a66",
   "metadata": {},
   "outputs": [],
   "source": [
    "getCondProb(banker, female)"
   ]
  },
  {
   "cell_type": "markdown",
   "id": "6bca2eaa",
   "metadata": {},
   "source": [
    "About 2% of female are bankers"
   ]
  }
 ],
 "metadata": {
  "kernelspec": {
   "display_name": "Julia 1.9.3",
   "language": "julia",
   "name": "julia-1.9"
  },
  "language_info": {
   "file_extension": ".jl",
   "mimetype": "application/julia",
   "name": "julia",
   "version": "1.9.3"
  }
 },
 "nbformat": 4,
 "nbformat_minor": 5
}
