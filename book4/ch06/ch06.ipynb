{
 "cells": [
  {
   "cell_type": "markdown",
   "metadata": {},
   "source": [
    "# Chapter 6. Odds and Addends\n",
    "[Link to chapter online](https://allendowney.github.io/ThinkBayes2/chap06.html)"
   ]
  },
  {
   "cell_type": "markdown",
   "metadata": {},
   "source": [
    "## Warning\n",
    "\n",
    "The content of this file may be incorrect, erroneous and/or harmful. Use it at Your own risk."
   ]
  },
  {
   "cell_type": "markdown",
   "metadata": {},
   "source": [
    "## Imports"
   ]
  },
  {
   "cell_type": "code",
   "execution_count": null,
   "metadata": {},
   "outputs": [],
   "source": [
    "import DataFrames as Dfs\n",
    "import Distributions as Dsts\n",
    "import CairoMakie as Cmk"
   ]
  },
  {
   "cell_type": "code",
   "execution_count": null,
   "metadata": {},
   "outputs": [],
   "source": [
    "include(\"./pmf.jl\")\n",
    "import .ProbabilityMassFunction as Pmf"
   ]
  },
  {
   "cell_type": "markdown",
   "metadata": {},
   "source": [
    "## Odds\n",
    "\n",
    "Odds [odds = $\\frac{P(success)}{P(failure)} = \\frac{P(success)}{1 -\n",
    "P(success)}$], are used in the form of so called **Bayes's Rule**.\n",
    "\n",
    "Bayes’s Rule is convenient if you want to do a Bayesian update on paper or in\n",
    "your head. It also sheds light on the important idea of evidence and how we can\n",
    "quantify the strength of evidence."
   ]
  },
  {
   "cell_type": "code",
   "execution_count": null,
   "metadata": {},
   "outputs": [],
   "source": [
    "function getOdds(prob::Float64)::Float64\n",
    "    @assert (0 <= prob <= 1) \"prob takes value in range [0-1]\"\n",
    "    return prob / (1 - prob)\n",
    "end"
   ]
  },
  {
   "cell_type": "code",
   "execution_count": null,
   "metadata": {},
   "outputs": [],
   "source": [
    "# if prob of winning is 75% then the odds are\n",
    "# 3 to 1\n",
    "getOdds(0.75)"
   ]
  },
  {
   "cell_type": "code",
   "execution_count": null,
   "metadata": {},
   "outputs": [],
   "source": [
    "# odds in favor (1 to 9)\n",
    "getOdds(0.1)"
   ]
  },
  {
   "cell_type": "code",
   "execution_count": null,
   "metadata": {},
   "outputs": [],
   "source": [
    "# we may prefer to report odds agains 9:1\n",
    "getOdds(1-0.1)"
   ]
  },
  {
   "cell_type": "markdown",
   "metadata": {},
   "source": [
    "We can also do the opposite transformation, below my (BL) convesion for practice\n",
    "\n",
    "$odds = \\frac{p}{1-p}$\n",
    "\n",
    "$\\frac{p}{1-p} = odds$\n",
    "\n",
    "$\\frac{p}{1-p} = odds$ # multiply both sides by (1-p)\n",
    "\n",
    "$p = odds * (1-p)$ # multiply: odds * (1-p)\n",
    "\n",
    "$p = odds - odds * p$ # move (odds*p) to the left with the opposite sign\n",
    "\n",
    "$p + (odds * p) = odds$ # rewrite left side to different equivalent form\n",
    "\n",
    "$p * (1 + odds) = odds$ # move (1+odds) to the right with the opposite sign\n",
    "\n",
    "$p = odds / (1 + odds)$\n",
    "\n",
    "Below, a Julia's function for that calculation:"
   ]
  },
  {
   "cell_type": "code",
   "execution_count": null,
   "metadata": {},
   "outputs": [],
   "source": [
    "function getProb(odds::T)::T where T<:Union{Rational, Float64}\n",
    "    return odds / (odds + 1) \n",
    "end"
   ]
  },
  {
   "cell_type": "code",
   "execution_count": null,
   "metadata": {},
   "outputs": [],
   "source": [
    "getProb(3/2),\n",
    "getProb(3//2)"
   ]
  },
  {
   "cell_type": "code",
   "execution_count": null,
   "metadata": {},
   "outputs": [],
   "source": [
    "function getProb(yes::Int, no::Int)::Float64\n",
    "    return yes / (yes + no) \n",
    "end"
   ]
  },
  {
   "cell_type": "code",
   "execution_count": null,
   "metadata": {},
   "outputs": [],
   "source": [
    "getProb(3, 2)"
   ]
  },
  {
   "cell_type": "markdown",
   "metadata": {},
   "source": [
    "[...] some computations are easier when we work with odds, [...], and some\n",
    "computations are even easier with log odds, [...]."
   ]
  },
  {
   "cell_type": "markdown",
   "metadata": {},
   "source": [
    "## Bayes's Rule\n",
    "\n",
    "So far we have worked with Bayes’s theorem in the “probability form”:\n",
    "\n",
    "$P(H|D) = \\frac{P(H)P(D|H)}{P(D)}$\n",
    "\n",
    "Writing $odds(A)$ for odds in favor of `A`, we can express Bayes’s Theorem in “odds form”:\n",
    "\n",
    "$odds(A|D) = odds(A) * \\frac{P(D|A)}{P(D|B)}$\n",
    "\n",
    "In general Bayes's Rule says that the posterior odds are prior odds times the likelihood ratio.\n"
   ]
  },
  {
   "cell_type": "markdown",
   "metadata": {},
   "source": [
    "**My comment**\n",
    "\n",
    "Not sure how this odds form came to be all of a sudden?!\n",
    "\n",
    "$P(D|B)$ suggests that probability of failure was introduced, since\n",
    "in the case of two exhaustive mutually exclusive events (success and failure we got):\n",
    "\n",
    "$P(success) + P(failure) = 1$ or $P(A) + P(B) = 1$\n",
    "\n",
    "therefore\n",
    "\n",
    "$P(success) = 1 - P(failure)$ or $P(A) = 1 - P(B)$\n",
    "\n",
    "So if:\n",
    "\n",
    "$odds(A) = \\frac{P(A)}{1 - P(A)} = \\frac{P(A)}{P(B)}$, then\n",
    "\n",
    "$odds(A|D) = \\frac{P(A|D)}{1 - P(A|D)} = \\frac{P(A|D)}{P(B|D)}$\n",
    "\n",
    "Moreover, at the onset the Bayes's theorem had to be written in the $P(A|D)$ and not $P(H|D)$ form.\n",
    "\n",
    "So:\n",
    "\n",
    "$P(A|D) = \\frac{P(A)P(D|A)}{P(D)}$, instead of\n",
    "\n",
    "$P(H|D) = \\frac{P(H)P(D|H)}{P(D)}$\n",
    "\n",
    "Given the above and based on the definition of `getProb(odds)` above we see that:\n",
    "\n",
    "$P(A) = \\frac{odds(A)}{1 - odds{A}} = \\frac{odds(A)}{odds{B}}$, therefore we can rewrite\n",
    "\n",
    "$P(A|D) = \\frac{P(A)P(D|A)}{P(D)}$ as\n",
    "\n",
    "$\\frac{odds(A|D)}{odds(B|D)} = \\frac{P(A)P(D|A)}{P(D)}$, so i we multiply both sides by $odds(B|D)$ we get\n",
    "\n",
    "$odds(A|D) = odds(B|D) * \\frac{P(A)P(D|A)}{P(D)}$, but I am not sure what happens next."
   ]
  },
  {
   "cell_type": "markdown",
   "metadata": {},
   "source": [
    "Anyway, let's get back to the cookie problem:\n",
    "\n",
    "> Suppose there are two bowls of cookies. Bowl 1 contains 30 vanilla cookies and\n",
    "> 10 chocolate cookies. Bowl 2 contains 20 of each. Now suppose you choose one of\n",
    "> the bowls at random and, without looking, select a cookie at random. The cookie\n",
    "> is vanilla. What is the probability that it came from Bowl 1?\n",
    "\n",
    "Let's use the **Bayes's Rule**:\n",
    "\n",
    "$odds(A|D) = odds(A) * \\frac{P(D|A)}{P(D|B)}$"
   ]
  },
  {
   "cell_type": "code",
   "execution_count": null,
   "metadata": {},
   "outputs": [],
   "source": [
    "# odds(A) = odds(bowl1) = p(bowl1)/p(bowl2)\n",
    "cookiePriorOdds = 1 # 0.5/0.5\n",
    "# p(D|A) = p(vanilla|bowl1) = 30/40 = 3/4 = 0.75\n",
    "# p(D|B) = p(vanilla|bowl2) = 20/40 = 2/4 = 0.5\n",
    "# likelihood ratio = p(D|A)/p(D|B)\n",
    "cookieLikelihoodRatio = 0.75 / 0.5\n",
    "cookiePostOdds = cookiePriorOdds * cookieLikelihoodRatio"
   ]
  },
  {
   "cell_type": "code",
   "execution_count": null,
   "metadata": {},
   "outputs": [],
   "source": [
    "cookiePostProb = getProb(cookiePostOdds)"
   ]
  },
  {
   "cell_type": "markdown",
   "metadata": {},
   "source": [
    "If we draw another cookie and it's chocolate, we can do another update:"
   ]
  },
  {
   "cell_type": "code",
   "execution_count": null,
   "metadata": {},
   "outputs": [],
   "source": [
    "cookieLikelihoodRatio = (10/40) / (20/40)\n",
    "cookiePostOdds *= cookieLikelihoodRatio"
   ]
  },
  {
   "cell_type": "code",
   "execution_count": null,
   "metadata": {},
   "outputs": [],
   "source": [
    "cookiePostProb = getProb(cookiePostOdds)"
   ]
  },
  {
   "cell_type": "markdown",
   "metadata": {},
   "source": [
    "## Oliver's Blood\n",
    "\n",
    "Problem from MacKay's [Information Theory, Inference, and Learning\n",
    "Algorithms:](https://www.inference.org.uk/mackay/itila/)\n",
    "\n",
    "> Two people have left traces of their own blood at the scene of a crime. A\n",
    "> suspect, Oliver, is tested and found to have type ‘O’ blood. The blood groups of\n",
    "> the two traces are found to be of type ‘O’ (a common type in the local\n",
    "> population, having frequency 60%) and of type ‘AB’ (a rare type, with frequency\n",
    "> 1%). Do these data [the traces found at the scene] give evidence in favor of the\n",
    "> proposition that Oliver was one of the people [who left blood at the scene]?\n",
    "\n",
    "What it means evidence in favor of hypothesis. The Bayes's rule says:\n",
    "\n",
    "$odds(A|D) = odds(A) * \\frac{P(D|A)}{P(D|B)}$\n",
    "\n",
    "dividing throuigh by $odds(A)$, we get:\n",
    "\n",
    "$\\frac{odds(A|D)}{odds(A)} = \\frac{P(D|A)}{P(D|B)}$\n",
    "\n",
    "The term on the left is the ratio of the posterior and prior odds. The term on\n",
    "the right is the likelihood ratio, also called the **Bayes factor**.\n",
    "\n",
    "If the Bayes factor is greater than 1, that means that the data were more likely\n",
    "under `A` than under `B`. And that means that the odds are greater, in light of\n",
    "the data, than they were before.\n",
    "\n",
    "If the Bayes factor is less than 1, that means the data were less likely under \n",
    "`A` than under `B`, so the odds in favor of `A` go down.\n",
    "\n",
    "Finally, if the Bayes factor is exactly 1, the data are equally likely under\n",
    "either hypothesis, so the odds do not change.\n",
    "\n",
    "If Oliver is one of the people who left blood at the crime scene, he accounts\n",
    "for the ‘O’ sample; in that case, the probability of the data is the\n",
    "probability that a random member of the population has type ‘AB’ blood, which\n",
    "is 1%.\n",
    "\n",
    "If Oliver did not leave blood at the scene, we have two samples to account for.\n",
    "If we choose two random people from the population, what is the chance of\n",
    "finding one with type ‘O’ and one with type ‘AB’? Well, there are two ways it\n",
    "might happen:\n",
    "- 0 and AB (prob 0.6 * 0.01 = 0.006)\n",
    "- AB and 0 (prob 0.01 * 0.6 = 0.006)\n",
    "So, prob = 0.012 in total"
   ]
  },
  {
   "cell_type": "code",
   "execution_count": null,
   "metadata": {},
   "outputs": [],
   "source": [
    "# p(D|A) = p(gr0 is Oliver and other guy acccounts for AB)\n",
    "like1 = 0.01\n",
    "# p(D|B) = p(gr0 and grAB are left by someone else)\n",
    "like2 = 0.6*0.01*2\n",
    "likelihoodRatio = like1/like2"
   ]
  },
  {
   "cell_type": "markdown",
   "metadata": {},
   "source": [
    "So little evidence against the hypothesis"
   ]
  },
  {
   "cell_type": "code",
   "execution_count": null,
   "metadata": {},
   "outputs": [],
   "source": [
    "getProb(likelihoodRatio) # prob oliver is guilty"
   ]
  },
  {
   "cell_type": "markdown",
   "metadata": {},
   "source": [
    "If this result still bothers you, this way of thinking might help: the data\n",
    "consist of a common event, type ‘O’ blood, and a rare event, type ‘AB’ blood. If\n",
    "Oliver accounts for the common event, that leaves the rare event unexplained. If\n",
    "Oliver doesn’t account for the ‘O’ blood, we have two chances to find someone in\n",
    "the population with ‘AB’ blood. And that factor of two makes the difference."
   ]
  },
  {
   "cell_type": "markdown",
   "metadata": {},
   "source": [
    "### Exercise 0.1\n",
    "\n",
    "Suppose that based on other evidence, you prior belief in Oliver’s guilt is 90%.\n",
    "How much would the blood evidence in this section change your beliefs? What if\n",
    "you initially thought there was only a 10% chance of his guilt?\n",
    "\n"
   ]
  },
  {
   "cell_type": "markdown",
   "metadata": {},
   "source": [
    "Bayes's Rule.\n",
    "\n",
    "$odds(A|D) = odds(A) \\frac{P(D|A)}{P(D|B)}$\n",
    "\n",
    "So, previously prior odds [odds(A) were 1, we assumed it equally likely that\n",
    "Oliver accounted for the blood sample O (p = 0.5) as that he did not (p = 0.5)].\n",
    "And now the probablity is 0.9 (90%), so the prior odds [odds(A)] are\n",
    "0.9/0.1 = 9"
   ]
  },
  {
   "cell_type": "code",
   "execution_count": null,
   "metadata": {},
   "outputs": [],
   "source": [
    "# prior probability of Oliver's guild 90% = 0.9\n",
    "postOdds = getOdds(0.9) * like1/like2"
   ]
  },
  {
   "cell_type": "code",
   "execution_count": null,
   "metadata": {},
   "outputs": [],
   "source": [
    "# prior probability of Oliver's guild 90% = 0.9\n",
    "getProb(postOdds)"
   ]
  },
  {
   "cell_type": "markdown",
   "metadata": {},
   "source": [
    "Bayes's Rule.\n",
    "\n",
    "$odds(A|D) = odds(A) \\frac{P(D|A)}{P(D|B)}$\n",
    "\n",
    "So, previously prior odds [odds(A) were 1, we assumed it equally likely that\n",
    "Oliver accounted for the blood sample O (p = 0.5) as that he did not (p = 0.5)].\n",
    "And now the probablity is 0.1 (10%), so the prior odds [odds(A)] are\n",
    "0.1/0.9 = 1/9 = 0.11(1)"
   ]
  },
  {
   "cell_type": "code",
   "execution_count": null,
   "metadata": {},
   "outputs": [],
   "source": [
    "# prior probability of Oliver's guild 10% = 0.1\n",
    "postOdds = getOdds(0.1) * like1/like2"
   ]
  },
  {
   "cell_type": "code",
   "execution_count": null,
   "metadata": {},
   "outputs": [],
   "source": [
    "# prior probability of Oliver's guild 10% = 0.1\n",
    "getProb(postOdds)"
   ]
  },
  {
   "cell_type": "markdown",
   "metadata": {},
   "source": [
    "## Addends\n",
    "\n",
    "The second half of this chapter is about distributions of sums and results of\n",
    "other operations.\n",
    "\n",
    "Let's start with simple 6-sided dice."
   ]
  },
  {
   "cell_type": "code",
   "execution_count": null,
   "metadata": {},
   "outputs": [],
   "source": [
    "# creates a Pmf with names - number of dots on a dice\n",
    "# priors - probability of obtaining the number of dots on a dice\n",
    "function makeDice(nSides::Int = 6)::Pmf.Pmf{Int}\n",
    "    return Pmf.getPmfFromSeq(1:nSides |> collect)\n",
    "end"
   ]
  },
  {
   "cell_type": "code",
   "execution_count": null,
   "metadata": {},
   "outputs": [],
   "source": [
    "dice = makeDice(6)"
   ]
  },
  {
   "cell_type": "code",
   "execution_count": null,
   "metadata": {},
   "outputs": [],
   "source": [
    "fig = Cmk.Figure()\n",
    "Cmk.barplot(fig[1, 1], dice.names, dice.priors, color = \"lightblue\",\n",
    "    axis=(;title=\"Prior distribution of dots after a dice throw\",\n",
    "    xlabel=\"Outcome (number of dots)\",\n",
    "    ylabel=\"PMF\",\n",
    "    xticks=1:6)\n",
    ")\n",
    "fig"
   ]
  },
  {
   "cell_type": "code",
   "execution_count": null,
   "metadata": {},
   "outputs": [],
   "source": [
    "function sumProbsByNames(names::Vector{Int}, probs::Vector{Float64})::Dict{Int,Float64}\n",
    "    @assert length(names) == length(probs)\n",
    "    res::Dict{Int,Float64} = Dict()\n",
    "    for i in eachindex(names)\n",
    "        res[names[i]] = get(res, names[i], 0) + probs[i]\n",
    "    end\n",
    "    return res\n",
    "end"
   ]
  },
  {
   "cell_type": "code",
   "execution_count": null,
   "metadata": {},
   "outputs": [],
   "source": [
    "\"\"\"\n",
    "Inspired by a similar function fournd in empiricaldist by Allen Downey\n",
    "    applies a fn to cartesianProduct(pmf1.names, pmf2.names)\n",
    "    applies * to cartesianProduct(pmf1.prior, pmf2.priors), so P(A) and P(B)\n",
    "\n",
    "args:\n",
    "fn - function accepting two Int64s as input and returning Int64 as output\n",
    "\"\"\"\n",
    "function convolveDist(pmf1::Pmf.Pmf{Int}, pmf2::Pmf.Pmf{Int}, fn::Function)::Pmf.Pmf{Int}\n",
    "    # Iterators.product(vec1, vec2) gives cartesian product of two vects [(v1.0, v2.0), (v1.0, v2.1), etc.]\n",
    "    newNames::Vector{Int} = [[fn(a, b) for (a, b) in Iterators.product(pmf1.names, pmf2.names)]...]\n",
    "    newPriors::Vector{Float64} = [[a * b for (a, b) in Iterators.product(pmf1.priors, pmf2.priors)]...] \n",
    "    probs::Dict{Int, Float64} = sumProbsByNames(newNames, newPriors)\n",
    "    orderedKeys::Vector{Int64} = sort(collect(keys(probs)))\n",
    "    orderedVals::Vector{Float64} = [probs[k] for k in orderedKeys]\n",
    "    return Pmf.Pmf(orderedKeys, orderedVals ./ sum(orderedVals))\n",
    "end"
   ]
  },
  {
   "cell_type": "code",
   "execution_count": null,
   "metadata": {},
   "outputs": [],
   "source": [
    "function addDist(pmf1::Pmf.Pmf{Int}, x::Int)::Pmf.Pmf{Int}\n",
    "    return Pmf.Pmf(pmf1.names .+ x, pmf1.priors)\n",
    "end"
   ]
  },
  {
   "cell_type": "code",
   "execution_count": null,
   "metadata": {},
   "outputs": [],
   "source": [
    "function addDist(pmf1::Pmf.Pmf{Int}, pmf2::Pmf.Pmf{Int})::Pmf.Pmf{Int}\n",
    "    return convolveDist(pmf1, pmf2, +)\n",
    "end"
   ]
  },
  {
   "cell_type": "code",
   "execution_count": null,
   "metadata": {},
   "outputs": [],
   "source": [
    "twice = addDist(dice, dice)"
   ]
  },
  {
   "cell_type": "code",
   "execution_count": null,
   "metadata": {},
   "outputs": [],
   "source": [
    "fig = Cmk.Figure()\n",
    "Cmk.barplot(fig[1, 1], twice.names, twice.priors, color = \"wheat\",\n",
    "    axis=(;title=\"Prior distribution of sum of dots after a two dice throw\",\n",
    "    xlabel=\"Outcome (sum of dots)\",\n",
    "    ylabel=\"PMF\",\n",
    "    xticks=1:12)\n",
    ")\n",
    "fig"
   ]
  },
  {
   "cell_type": "code",
   "execution_count": null,
   "metadata": {},
   "outputs": [],
   "source": [
    "\"\"\"\n",
    "Add all pmfs in a sequence \n",
    "\"\"\"\n",
    "function addDistSeq(seq::Vector{Pmf.Pmf{Int}})::Pmf.Pmf{Int}\n",
    "    return reduce(addDist, seq) \n",
    "end"
   ]
  },
  {
   "cell_type": "code",
   "execution_count": null,
   "metadata": {},
   "outputs": [],
   "source": [
    "thrice = addDistSeq(repeat([dice], 3))"
   ]
  },
  {
   "cell_type": "code",
   "execution_count": null,
   "metadata": {},
   "outputs": [],
   "source": [
    "fig = Cmk.Figure()\n",
    "ax1, l1 = Cmk.lines(fig[1, 1], dice.names, dice.priors,\n",
    "    color=\"blue\", linestyle=:solid, linewidth=2,\n",
    "    axis=(; title=\"Distribution of sums\",\n",
    "    xlabel=\"Outcome (sum of dots)\",\n",
    "    ylabel=\"PMF\",\n",
    "    xticks=1:18)\n",
    ")\n",
    "l2 = Cmk.lines!(fig[1, 1], twice.names, twice.priors,\n",
    "    color = \"orange\", linestyle=:dash, linewidth=2)\n",
    "l3 = Cmk.lines!(fig[1, 1], thrice.names, thrice.priors,\n",
    "    color=\"green\", linestyle=:dot, linewidth=2)\n",
    "Cmk.axislegend(ax1,\n",
    "    [l1, l2, l3],\n",
    "    [\"one dice\", \"two dice\", \"three dice\"],\n",
    "    \"# dice used\"\n",
    ")\n",
    "fig"
   ]
  },
  {
   "cell_type": "markdown",
   "metadata": {},
   "source": [
    "## Gluten Sensitivity\n",
    "\n",
    "A [paper](https://onlinelibrary.wiley.com/doi/full/10.1111/apt.13372) on gluten\n",
    "sensitivity.\n",
    "\n",
    "Out of 35 subjects, 12 correctly identified the gluten flour based on resumption\n",
    "of symptoms while they were eating it.  Another 17 wrongly identified the\n",
    "gluten-free flour based on their symptoms, and 6 were unable to distinguish.\n",
    "\n",
    "So here’s the question: based on this data, how many of the subjects are\n",
    "sensitive to gluten and how many are guessing?\n",
    "\n",
    "Solution useng Bayes’s Theorem. Assumptions:\n",
    "- People who are sensitive to gluten have a 95% chance of correctly identifying\n",
    "gluten flour under the challenge conditions, and\n",
    "- People who are not sensitive have a 40% chance of identifying the gluten flour\n",
    "by chance (and a 60% chance of either choosing the other flour or failing to\n",
    "distinguish).\n",
    "\n",
    "These values are arbitrary, but sensitive.\n",
    "\n",
    "First, assume that we know how many subjects are sensitive.\n",
    "Second, using the likelihood of the data, compute the posterior distribution of\n",
    "the number of sensitive patients.\n",
    "\n",
    "The first is the **forward problem**; the second is the **inverse problem**."
   ]
  },
  {
   "cell_type": "markdown",
   "metadata": {},
   "source": [
    "### The Forward Problem\n",
    "\n",
    "Suppose we know that 10 of the 35 subjects are sensitive to gluten."
   ]
  },
  {
   "cell_type": "code",
   "execution_count": null,
   "metadata": {},
   "outputs": [],
   "source": [
    "n = 35\n",
    "nSensitive = 10\n",
    "nInsenstive = n - nSensitive"
   ]
  },
  {
   "cell_type": "code",
   "execution_count": null,
   "metadata": {},
   "outputs": [],
   "source": [
    "dstSensitive = Pmf.getBinomialPmf(nSensitive, 0.95)\n",
    "dstInsensitive = Pmf.getBinomialPmf(nInsenstive, 0.4)"
   ]
  },
  {
   "cell_type": "code",
   "execution_count": null,
   "metadata": {},
   "outputs": [],
   "source": [
    "dstTotal = addDist(dstSensitive, dstInsensitive)"
   ]
  },
  {
   "cell_type": "code",
   "execution_count": null,
   "metadata": {},
   "outputs": [],
   "source": [
    "fig = Cmk.Figure()\n",
    "ax1, l1 = Cmk.lines(fig[1, 1],\n",
    "    dstSensitive.names, dstSensitive.priors,\n",
    "    color=\"blue\", linestyle=:dot, linewidth=2,\n",
    "    axis=(;title=\"Gluten sensitivity\",\n",
    "        xlabel=\"Number of correct identifications\",\n",
    "        ylabel=\"PMF\",\n",
    "        xticks=0:5:35)\n",
    ")\n",
    "l2 = Cmk.lines!(fig[1, 1],\n",
    "    dstInsensitive.names, dstInsensitive.priors,\n",
    "    color=\"orange\", linestyle=:dash, linewidth=2,\n",
    ")\n",
    "l3 = Cmk.lines!(fig[1, 1],\n",
    "    dstTotal.names, dstTotal.priors,\n",
    "    color=\"green\", linestyle=:solid, linewidth=2,\n",
    ")\n",
    "Cmk.axislegend(ax1,\n",
    "    [l1, l2, l3],\n",
    "    [\"sensitive\", \"insensitive\", \"total\"],\n",
    "    \"distribution\"\n",
    ")\n",
    "fig"
   ]
  },
  {
   "cell_type": "markdown",
   "metadata": {},
   "source": [
    "We expect most of the sensitive subjects to identify the gluten flour correctly.\n",
    "Of the 25 insensitive subjects, we expect about 10 to identify the gluten flour\n",
    "by chance. So we expect about 20 correct identifications in total.\n",
    "\n",
    "This is the answer to the forward problem: given the number of sensitive\n",
    "subjects, we can compute the distribution of the data."
   ]
  }
 ],
 "metadata": {
  "kernelspec": {
   "display_name": "Julia 1.9.3",
   "language": "julia",
   "name": "julia-1.9"
  },
  "language_info": {
   "file_extension": ".jl",
   "mimetype": "application/julia",
   "name": "julia",
   "version": "1.9.3"
  },
  "vscode": {
   "interpreter": {
    "hash": "31f2aee4e71d21fbe5cf8b01ff0e069b9275f58929596ceb00d14d90e3e16cd6"
   }
  }
 },
 "nbformat": 4,
 "nbformat_minor": 2
}
