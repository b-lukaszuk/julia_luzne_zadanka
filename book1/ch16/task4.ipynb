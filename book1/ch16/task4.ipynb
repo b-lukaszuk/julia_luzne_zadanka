{
 "cells": [
  {
   "attachments": {},
   "cell_type": "markdown",
   "id": "0afe05a3",
   "metadata": {},
   "source": [
    "# Task 4\n",
    "\n",
    "## Original exercise number\n",
    "\n",
    "Exercise 16-6\n",
    "\n",
    "## Description\n",
    "\n",
    "Write a function called `multime` that takes a `MyTime` object and a number and returns a new `MyTime` object that contains the product of the original `MyTime` and the number.\n",
    "\n",
    "Then use `multime` to write a function that takes a `MyTime` object that represents the finishing time in a race, and a number that represents the distance, and returns a `MyTime` object that represents the average pace (time per mile)."
   ]
  },
  {
   "cell_type": "markdown",
   "id": "c4bc3ea0",
   "metadata": {},
   "source": [
    "## Solution"
   ]
  },
  {
   "cell_type": "markdown",
   "id": "2895339f",
   "metadata": {},
   "source": [
    "NO GUARANTEE THAT THE SOLUTION WILL WORK OR WORKS CORRECTLY! USE IT AT\n",
    "YOUR OWN RISK!"
   ]
  },
  {
   "cell_type": "markdown",
   "id": "64af222d",
   "metadata": {},
   "source": [
    "### Imports"
   ]
  },
  {
   "cell_type": "code",
   "execution_count": null,
   "id": "c3db5e4c",
   "metadata": {},
   "outputs": [],
   "source": [
    "import Printf as pr"
   ]
  },
  {
   "cell_type": "markdown",
   "id": "13de2cd1",
   "metadata": {},
   "source": [
    "### Structs"
   ]
  },
  {
   "cell_type": "code",
   "execution_count": null,
   "id": "9e287eef",
   "metadata": {},
   "outputs": [],
   "source": [
    "\"\"\"\n",
    "Represents the time of day.\n",
    "\n",
    "fields: hour, minute, second\n",
    "\"\"\"\n",
    "struct MyTime\n",
    "    hour::Int\n",
    "    minute::Int\n",
    "    second::Int\n",
    "end"
   ]
  },
  {
   "cell_type": "markdown",
   "id": "05df47ca",
   "metadata": {},
   "source": [
    "### Functions"
   ]
  },
  {
   "cell_type": "code",
   "execution_count": null,
   "id": "58abbd3b",
   "metadata": {},
   "outputs": [],
   "source": [
    "function Base.show(io::IO, time::MyTime)\n",
    "    result::String = pr.@sprintf \"%02d:%02d:%02d\" time.hour time.minute time.second\n",
    "    print(io, result)\n",
    "end"
   ]
  },
  {
   "cell_type": "code",
   "execution_count": null,
   "id": "39959c31",
   "metadata": {},
   "outputs": [],
   "source": [
    "function myTime2Secs(t::MyTime)::Int\n",
    "    return t.hour * 3600 + t.minute * 60 + t.second\n",
    "end"
   ]
  },
  {
   "cell_type": "code",
   "execution_count": null,
   "id": "8776fc04",
   "metadata": {},
   "outputs": [],
   "source": [
    "function secs2MyTime(seconds::Int)::MyTime\n",
    "    @assert (seconds >= 0) \"the number of seconds must be positive\"\n",
    "    hrs::Int, mins::Int, secs::Int = 0, 0, 0\n",
    "    hrs, secs = divrem(seconds, 3600)\n",
    "    mins, secs = divrem(secs, 60)\n",
    "    return MyTime(hrs, mins, secs)\n",
    "end"
   ]
  },
  {
   "cell_type": "code",
   "execution_count": null,
   "id": "211063b4",
   "metadata": {},
   "outputs": [],
   "source": [
    "function multMyTime(time::MyTime, multiplier::Real)::MyTime\n",
    "    return (myTime2Secs(time) * multiplier) |> x -> round(Int, x) |> secs2MyTime\n",
    "end"
   ]
  },
  {
   "cell_type": "code",
   "execution_count": null,
   "id": "bb6cfa93",
   "metadata": {},
   "outputs": [],
   "source": [
    "function getAvgPace(raceFinish::MyTime, distance::Real)::MyTime\n",
    "    return multMyTime(raceFinish, 1 / distance)\n",
    "end"
   ]
  },
  {
   "cell_type": "markdown",
   "id": "f8866cb1",
   "metadata": {},
   "source": [
    "## Testing"
   ]
  },
  {
   "cell_type": "code",
   "execution_count": null,
   "id": "d1bbaa92",
   "metadata": {},
   "outputs": [],
   "source": [
    "getAvgPace(MyTime(10, 10, 0), 2)"
   ]
  },
  {
   "cell_type": "code",
   "execution_count": null,
   "id": "032a030b",
   "metadata": {},
   "outputs": [],
   "source": [
    "getAvgPace(MyTime(5, 30, 45), 4)"
   ]
  }
 ],
 "metadata": {
  "kernelspec": {
   "display_name": "Julia 1.8.3",
   "language": "julia",
   "name": "julia-1.8"
  },
  "language_info": {
   "file_extension": ".jl",
   "mimetype": "application/julia",
   "name": "julia",
   "version": "1.8.3"
  },
  "name": "task1.ipynb"
 },
 "nbformat": 4,
 "nbformat_minor": 5
}
