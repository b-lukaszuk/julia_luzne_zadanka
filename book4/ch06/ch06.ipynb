{
 "cells": [
  {
   "cell_type": "markdown",
   "metadata": {},
   "source": [
    "# Chapter 6. Odds and Addends\n",
    "[Link to chapter online](https://allendowney.github.io/ThinkBayes2/chap06.html)"
   ]
  },
  {
   "cell_type": "markdown",
   "metadata": {},
   "source": [
    "## Warning\n",
    "\n",
    "The content of this file may be incorrect, erroneous and/or harmful. Use it at Your own risk."
   ]
  },
  {
   "cell_type": "markdown",
   "metadata": {},
   "source": [
    "## Imports"
   ]
  },
  {
   "cell_type": "code",
   "execution_count": null,
   "metadata": {},
   "outputs": [],
   "source": [
    "import DataFrames as pd # pandas in Python\n",
    "import Distributions as dst\n",
    "import Plots as plts"
   ]
  },
  {
   "cell_type": "code",
   "execution_count": null,
   "metadata": {},
   "outputs": [],
   "source": [
    "include(\"./pmf.jl\")\n",
    "import .ProbabilityMassFunction as pmf"
   ]
  },
  {
   "cell_type": "markdown",
   "metadata": {},
   "source": [
    "### Odds"
   ]
  },
  {
   "cell_type": "code",
   "execution_count": null,
   "metadata": {},
   "outputs": [],
   "source": [
    "function prob2odds(prob::Float64)::Float64\n",
    "    @assert (0 <= prob <= 1)\n",
    "    return prob / (1-prob)\n",
    "end"
   ]
  },
  {
   "cell_type": "code",
   "execution_count": null,
   "metadata": {},
   "outputs": [],
   "source": [
    "prob2odds(0.75)"
   ]
  },
  {
   "cell_type": "code",
   "execution_count": null,
   "metadata": {},
   "outputs": [],
   "source": [
    "prob2odds(0.1)"
   ]
  },
  {
   "cell_type": "code",
   "execution_count": null,
   "metadata": {},
   "outputs": [],
   "source": [
    "prob2odds(0.9)"
   ]
  },
  {
   "cell_type": "code",
   "execution_count": null,
   "metadata": {},
   "outputs": [],
   "source": [
    "function odds2prob(odds::Float64)::Float64\n",
    "   @assert 0 <= odds\n",
    "   return odds / (odds + 1) \n",
    "end"
   ]
  },
  {
   "cell_type": "markdown",
   "metadata": {},
   "source": [
    "\n",
    "For practice I will try to derive the formula (see odds2prob).\n",
    "Let's go.\n",
    "\n",
    "$odds = \\frac{p}{1-p}$\n",
    "\n",
    "$\\frac{p}{1-p} = odds$\n",
    "\n",
    "$p = odds * (1-p)$\n",
    "\n",
    "$p = odds - odds*p$\n",
    "\n",
    "$p + odds*p = odds$\n",
    "\n",
    "$p * (1+odds) = odds$\n",
    "\n",
    "$p = \\frac{odds}{1+odds}$\n",
    "\n",
    "$p = \\frac{odds}{odds+1}$"
   ]
  },
  {
   "cell_type": "code",
   "execution_count": null,
   "metadata": {},
   "outputs": [],
   "source": [
    "odds2prob(3/2)"
   ]
  },
  {
   "cell_type": "code",
   "execution_count": null,
   "metadata": {},
   "outputs": [],
   "source": [
    "function odds2prob(yes::T, no::T)::Float64 where T<:Union{Int, Float64}\n",
    "    @assert yes >= 0\n",
    "    @assert no > 0\n",
    "    return yes / (yes+no)\n",
    "end"
   ]
  },
  {
   "cell_type": "code",
   "execution_count": null,
   "metadata": {},
   "outputs": [],
   "source": [
    "odds2prob(3, 2)"
   ]
  },
  {
   "cell_type": "code",
   "execution_count": null,
   "metadata": {},
   "outputs": [],
   "source": [
    "odds2prob(3/5, 2/5)"
   ]
  },
  {
   "cell_type": "markdown",
   "metadata": {},
   "source": [
    "### Bayes's Rule"
   ]
  },
  {
   "cell_type": "markdown",
   "metadata": {},
   "source": [
    "Bayes's theorem in the \"probability form\":\n",
    "\n",
    "$P(H|D) = \\frac{P(H) P(D|H)}{P(D)}$\n",
    "\n",
    "Writing odds(A) for odds in favor of A, we can express Bayes's Theorem in \"odds form\":\n",
    "\n",
    "$odds(A|D) = odds(A) \\frac{P(D|A)}{P(D|B)}$\n",
    "\n",
    "The posterior odds are the prior odds times the likelihood ratio."
   ]
  },
  {
   "cell_type": "markdown",
   "metadata": {},
   "source": [
    "**My comment**\n",
    "\n",
    "OK, although I'm not sure how we derived that and why we resigned from H and got A and B, all of a sudden."
   ]
  },
  {
   "cell_type": "markdown",
   "metadata": {},
   "source": [
    "Let's get back to the cookie problem. From Chapter 2 (The Bayes's Theorem).\n",
    "\n",
    "We got two bowls:\n",
    "- Bowl 1 contains 30 vanilla cookies and 10 chocolate cookies\n",
    "- Bowl 2 contains 20 vanilla cookies and 20 chocolate cookies\n",
    "\n",
    "You choose one bowl at random and choose the cookie at random. If the cookie is vanilla, what is the probability that it came from Bowl 1?\n",
    "\n",
    "The prior probability is 0.5, so the prior odds are 1 [odds(A)]\n",
    "\n",
    "The likelihood ratio is 3/4 [P(D|A)] and 2/4 [P(D|B)]\n",
    "\n",
    "The posterior odds are:\n",
    "\n",
    "$odds(A|D) = 1 * \\frac{3/4}{2/4}$\n",
    "\n",
    "Which is equal to:\n"
   ]
  },
  {
   "cell_type": "code",
   "execution_count": null,
   "metadata": {},
   "outputs": [],
   "source": [
    "1 * (3//4) / (2//4)"
   ]
  },
  {
   "cell_type": "markdown",
   "metadata": {},
   "source": [
    "And now for the posterior probability"
   ]
  },
  {
   "cell_type": "code",
   "execution_count": null,
   "metadata": {},
   "outputs": [],
   "source": [
    "odds2prob(3, 2)"
   ]
  },
  {
   "cell_type": "markdown",
   "metadata": {},
   "source": [
    "If we draw another cookie and it's chocolate, we can do another update:"
   ]
  },
  {
   "cell_type": "code",
   "execution_count": null,
   "metadata": {},
   "outputs": [],
   "source": [
    "3//2 * 1//4 / 1//2"
   ]
  },
  {
   "cell_type": "code",
   "execution_count": null,
   "metadata": {},
   "outputs": [],
   "source": [
    "odds2prob(3, 4)"
   ]
  },
  {
   "cell_type": "markdown",
   "metadata": {},
   "source": [
    "### Oliver's Blood\n",
    "\n",
    "From [MacKay’s Information Theory, Inference, and Learning Algorithms](https://www.inference.org.uk/mackay/itila/):\n",
    "\n",
    "Two people have left traces of their own blood at the scene of a crime. A suspect, Oliver, is tested and found to have type ‘O’ blood. The blood groups of the two traces are found to be of type ‘O’ (a common type in the local population, having frequency 60%) and of type ‘AB’ (a rare type, with frequency 1%). Do these data [the traces found at the scene] give evidence in favor of the proposition that Oliver was one of the people [who left blood at the scene]?"
   ]
  },
  {
   "cell_type": "markdown",
   "metadata": {},
   "source": [
    "\n",
    "To make our reasoning easier we can transform Bayes's Rule:\n",
    "\n",
    "$odds(A|D) = odds(A) \\frac{P(D|A)}{P(D|B)}$\n",
    "\n",
    "Dividing through odds(A), we get:\n",
    "\n",
    "$\\frac{odds(A|D)}{odds(A)} = \\frac{P(D|A)}{P(D|B)}$\n",
    "\n",
    "The term on the left is the ratio of the posterior and prior odds.\n",
    "\n",
    "The term on the right is the likelihood ratio, also called the **Bayes factor**\n",
    "\n",
    "If the Bayes factor is greater than 1, that means that the data were more likely under A than under B. And that means that the odds are greater, in light of the data, than they were before.\n",
    "\n",
    "If the Bayes factor is less than 1, that means the data were less likely under A than under B, so the odds in favor of A go down.\n",
    "\n",
    "Finally, if the Bayes factor is exactly 1, the data are equally likely under either hypothesis, so the odds do not change."
   ]
  },
  {
   "cell_type": "code",
   "execution_count": null,
   "metadata": {},
   "outputs": [],
   "source": [
    "# if Oliver is guilty we need to account for the AB blood type\n",
    "like1 = 0.01 # P(D|A)\n",
    "# if Oliver isn't guilty we need to account for both samples\n",
    "# so P(blood O) and P(blood AB) or P(blood AB) and P(blood O)\n",
    "like2 = 2 * 0.6 * 0.01 # P(D|B)\n",
    "\n",
    "likelihood_ratio = like1 / like2"
   ]
  },
  {
   "cell_type": "code",
   "execution_count": null,
   "metadata": {},
   "outputs": [],
   "source": [
    "# if the prior odds [odds(A)] were 1\n",
    "# then posterior odds [odds(A|B)] would be\n",
    "odds2prob(likelihood_ratio)"
   ]
  },
  {
   "attachments": {},
   "cell_type": "markdown",
   "metadata": {},
   "source": [
    "#### Oliver's Blood Exercise\n",
    "\n",
    "Suppose that based on other evidence, your prior belief in Oliver's guilt is 90%. How much would the blood evidence in this section change your beliefs? What if you initially thought there was only a 10% chance of this guilt?"
   ]
  },
  {
   "attachments": {},
   "cell_type": "markdown",
   "metadata": {},
   "source": [
    "So, our formula is:\n",
    "\n",
    "$odds(A|D) = odds(A) \\frac{P(D|A)}{P(D|B)}$\n",
    "\n",
    "So, previously prior odds [odds(A) were 1, we assumed it equally likely that Oliver accounted for the blood sample O (p = 0.5) as that he did not (p = 0.5)].\n",
    "\n",
    "And now the probablity is 0.9 (90%), so the prior odds [odds(A)] are\n",
    "0.9/0.1 = 9.\n",
    "\n",
    "Or the probability is 0.1 (10%), so the prior odds [odds(A)] are 0.1/0.9 = 0.11(1).\n",
    "\n",
    "Given the above, the posterior odds [odds(A|D)] are:\n",
    "\n",
    "$\\frac{0.9}{0.1} * \\frac{P(D|A)}{P(D|B)}$\n",
    "\n",
    "or\n",
    "\n",
    "$\\frac{0.1}{0.9} * \\frac{P(D|A)}{P(D|B)}$\n",
    "\n",
    "And the probabilities are:"
   ]
  },
  {
   "cell_type": "code",
   "execution_count": null,
   "metadata": {},
   "outputs": [],
   "source": [
    "odds2prob(0.9/0.1 * like1/like2)"
   ]
  },
  {
   "cell_type": "code",
   "execution_count": null,
   "metadata": {},
   "outputs": [],
   "source": [
    "odds2prob(0.1/0.9 * like1/like2)"
   ]
  }
 ],
 "metadata": {
  "kernelspec": {
   "display_name": "Julia 1.8.3",
   "language": "julia",
   "name": "julia-1.8"
  },
  "language_info": {
   "file_extension": ".jl",
   "mimetype": "application/julia",
   "name": "julia",
   "version": "1.8.3"
  },
  "vscode": {
   "interpreter": {
    "hash": "31f2aee4e71d21fbe5cf8b01ff0e069b9275f58929596ceb00d14d90e3e16cd6"
   }
  }
 },
 "nbformat": 4,
 "nbformat_minor": 2
}
