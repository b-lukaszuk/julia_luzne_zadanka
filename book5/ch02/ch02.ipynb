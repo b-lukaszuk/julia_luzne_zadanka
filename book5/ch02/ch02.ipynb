{
 "cells": [
  {
   "cell_type": "markdown",
   "id": "756018ac-fc3b-4f6a-9c0b-39b231d378c4",
   "metadata": {
    "collapsed": false,
    "jupyter": {
     "outputs_hidden": false
    }
   },
   "source": [
    "# Ch02. Selection sort"
   ]
  },
  {
   "cell_type": "markdown",
   "id": "94285a82",
   "metadata": {},
   "source": [
    "## Arrays and linked lists\n",
    "\n",
    "|           | arrays    | lists |\n",
    "|-----------|-----------|-------|\n",
    "|reading    | O(1)      | O(n)  |\n",
    "|insertion  | O(n)      | O(1)  |\n",
    "|deletion   | O(n)      | O(1)  |\n",
    "\n",
    "\n",
    "- O(n) = linear time\n",
    "- O(1) = constant time"
   ]
  },
  {
   "cell_type": "markdown",
   "id": "bd3e68dc",
   "metadata": {},
   "source": [
    "## Exercise 2.1\n",
    "\n",
    "What structure would you use to keep track of your spending.\n",
    "Every day you add the expenses, once a month you sum everything up?\n",
    "\n",
    "Answ: list, since there is a lot of inserts O(1) and a few readings O(n).\n",
    "\n",
    "Lists are slow especially at reading random elements, if they read elts on by one, then the performance is not that bad."
   ]
  }
 ],
 "metadata": {
  "kernelspec": {
   "display_name": "Julia 1.10.2",
   "language": "julia",
   "name": "julia-1.10"
  },
  "language_info": {
   "file_extension": ".jl",
   "mimetype": "application/julia",
   "name": "julia",
   "version": "1.10.2"
  },
  "name": "ch02.ipynb"
 },
 "nbformat": 4,
 "nbformat_minor": 5
}
