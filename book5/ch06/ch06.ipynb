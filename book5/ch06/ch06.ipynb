{
 "cells": [
  {
   "cell_type": "markdown",
   "id": "756018ac-fc3b-4f6a-9c0b-39b231d378c4",
   "metadata": {
    "collapsed": false,
    "jupyter": {
     "outputs_hidden": false
    }
   },
   "source": [
    "# Ch06. Breadth-first search"
   ]
  },
  {
   "cell_type": "markdown",
   "id": "64b96b92",
   "metadata": {
    "collapsed": false
   },
   "source": [
    "## Imports"
   ]
  },
  {
   "cell_type": "code",
   "execution_count": null,
   "id": "f9eb3c97",
   "metadata": {},
   "outputs": [],
   "source": [
    "# none yet"
   ]
  },
  {
   "cell_type": "markdown",
   "id": "054da63e",
   "metadata": {
    "collapsed": false
   },
   "source": [
    "## Custom types"
   ]
  },
  {
   "cell_type": "code",
   "execution_count": null,
   "id": "82b8fc6d",
   "metadata": {
    "collapsed": false
   },
   "outputs": [],
   "source": [
    "# none yet"
   ]
  },
  {
   "cell_type": "code",
   "execution_count": null,
   "id": "48d63e24",
   "metadata": {},
   "outputs": [],
   "source": [
    "# directed graph, one-direction graph, each edge is of equal length\n",
    "graph::Dict{String, Vector{String}} = Dict(\"you\" => [\"alice\", \"bob\", \"claire\"])\n",
    "graph[\"bob\"] = [\"anuj\", \"peggy\"]\n",
    "graph[\"alice\"] = [\"peggy\"]\n",
    "graph[\"claire\"] = [\"thom\", \"johnny\"]\n",
    "graph[\"anuj\"] = []\n",
    "graph[\"peggy\"] = []\n",
    "graph[\"thom\"] = []\n",
    "graph[\"johnny\"] = []"
   ]
  },
  {
   "cell_type": "code",
   "execution_count": null,
   "id": "4f215fc3",
   "metadata": {},
   "outputs": [],
   "source": [
    "graph"
   ]
  },
  {
   "cell_type": "code",
   "execution_count": null,
   "id": "d1469476",
   "metadata": {},
   "outputs": [],
   "source": [
    "function isSeller(name::String)::Bool\n",
    "    return name[end] == 'm'\n",
    "end\n",
    "\n",
    "# searches for a mango seller in graph using breadth-first-search\n",
    "# name - starting node\n",
    "function isMangoSellerInGraph(name::String, graph::Dict{String, Vector{String}})::Bool\n",
    "    searchQueue::Vector{String} = String[] # queue is FIFO\n",
    "    searched::Vector{String} = String[]\n",
    "    person::String = \"\"\n",
    "    push!(searchQueue, graph[name]...)\n",
    "    while !isempty(searchQueue)\n",
    "        person = popfirst!(searchQueue)\n",
    "        if !(person in searched)\n",
    "            if isSeller(person)\n",
    "                println(\"$person is a mango seller!\")\n",
    "                return true\n",
    "            else\n",
    "                push!(searchQueue, graph[person]...)\n",
    "                push!(searched, person)\n",
    "            end\n",
    "        end\n",
    "    end\n",
    "    return false\n",
    "end"
   ]
  },
  {
   "cell_type": "code",
   "execution_count": null,
   "id": "5009f5db",
   "metadata": {},
   "outputs": [],
   "source": [
    "isMangoSellerInGraph(\"you\", graph)"
   ]
  },
  {
   "cell_type": "code",
   "execution_count": null,
   "id": "8d425d52",
   "metadata": {},
   "outputs": [],
   "source": [
    "isMangoSellerInGraph(\"alice\", graph)"
   ]
  }
 ],
 "metadata": {
  "kernelspec": {
   "display_name": "Julia 1.10.2",
   "language": "julia",
   "name": "julia-1.10"
  },
  "language_info": {
   "file_extension": ".jl",
   "mimetype": "application/julia",
   "name": "julia",
   "version": "1.10.2"
  },
  "name": "ch06.ipynb"
 },
 "nbformat": 4,
 "nbformat_minor": 5
}
