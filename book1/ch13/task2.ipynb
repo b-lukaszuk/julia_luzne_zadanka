{
 "cells": [
  {
   "cell_type": "markdown",
   "id": "0afe05a3",
   "metadata": {},
   "source": [
    "# Task 2\n",
    "\n",
    "## Original exercise number\n",
    "\n",
    "Exercise 13-8\n",
    "\n",
    "## Description\n",
    "\n",
    "### Markov analysis:\n",
    "\n",
    "1. Write a program to read a text from a file and perform Markov analysis. The result should be a dictionary that maps from prefixes to a collection of possible suffixes. The collection might be an array, tuple, or dictionary; it is up to you to make an appropriate choice. You can test your program with prefix length two, but you should write the program in a way that makes it easy to try other lengths.\n",
    "\n",
    "2. Add a function to the previous program to generate random text based on the Markov analysis. Here is an example from Emma with prefix length 2:\n",
    "\n",
    "“He was very clever, be it sweetness or be angry, ashamed or only amused, at such a stroke. She had never thought of Hannah till you were never meant for me?\" \"I cannot make speeches, Emma:\" he soon cut it all himself.”\n",
    "\n",
    "For this example, I left the punctuation attached to the words. The result is almost syntactically correct, but not quite. Semantically, it almost makes sense, but not quite.\n",
    "\n",
    "What happens if you increase the prefix length? Does the random text make more sense?\n",
    "\n",
    "3. Once your program is working, you might want to try a mash-up: if you combine text from two or more books, the random text you generate will blend the vocabulary and phrases from the sources in interesting ways.\n",
    "\n",
    "Credit: This case study is based on an example from Kernighan and Pike, The Practice of Programming, Addison-Wesley, 1999.\n",
    "\n",
    "### TIP\n",
    "\n",
    "You should attempt this exercise before you go on."
   ]
  },
  {
   "cell_type": "markdown",
   "id": "c4bc3ea0",
   "metadata": {},
   "source": [
    "## Solution"
   ]
  },
  {
   "cell_type": "markdown",
   "id": "2895339f",
   "metadata": {},
   "source": [
    "NO GUARANTEE THAT THE SOLUTION WILL WORK OR WORKS CORRECTLY! USE IT AT\n",
    "YOUR OWN RISK!"
   ]
  },
  {
   "cell_type": "markdown",
   "id": "05df47ca",
   "metadata": {},
   "source": [
    "### Functions"
   ]
  },
  {
   "cell_type": "code",
   "execution_count": 89,
   "id": "95f2670b",
   "metadata": {},
   "outputs": [
    {
     "data": {
      "text/plain": [
       "getWords (generic function with 2 methods)"
      ]
     },
     "execution_count": 89,
     "metadata": {},
     "output_type": "execute_result"
    }
   ],
   "source": [
    "function getWords(file_path::String)::Vector{String}\n",
    "    words::Vector{String} = []\n",
    "    open(file_path) do file\n",
    "        for line in eachline(file)\n",
    "            for word in split(line)\n",
    "                push!(words, replace(lowercase(word), r\"[.,;!?-]\" => \"\"))\n",
    "            end\n",
    "        end\n",
    "    end\n",
    "    return words\n",
    "end"
   ]
  },
  {
   "cell_type": "code",
   "execution_count": 91,
   "id": "32823c15",
   "metadata": {},
   "outputs": [
    {
     "data": {
      "text/plain": [
       "getPrefixSuffixesDict (generic function with 2 methods)"
      ]
     },
     "execution_count": 91,
     "metadata": {},
     "output_type": "execute_result"
    }
   ],
   "source": [
    "function getPrefixSuffixesDict(words::Vector{String}, prefixLength::Int = 2)::Dict{String, Set{String}}\n",
    "    prefix::Vector{String} = []\n",
    "    pref::String = \"\" # elements of prefix joined to 1 string\n",
    "    prefixSuffixes::Dict{String, Set{String}} = Dict()\n",
    "    for word in words\n",
    "        if length(prefix) < prefixLength\n",
    "            push!(prefix, word)\n",
    "        else\n",
    "            pref = join(prefix, \" \")\n",
    "            if haskey(prefixSuffixes, pref)\n",
    "                push!(prefixSuffixes[pref], word)\n",
    "            else\n",
    "                prefixSuffixes[pref] = Set([word])\n",
    "            end\n",
    "            popfirst!(prefix)\n",
    "            push!(prefix, word)\n",
    "        end\n",
    "    end\n",
    "    return prefixSuffixes\n",
    "end"
   ]
  },
  {
   "cell_type": "markdown",
   "id": "f8866cb1",
   "metadata": {},
   "source": [
    "## Testing"
   ]
  },
  {
   "cell_type": "code",
   "execution_count": 94,
   "id": "382e8669",
   "metadata": {},
   "outputs": [
    {
     "data": {
      "text/plain": [
       "Dict{String, Set{String}} with 45 entries:\n",
       "  \"has got\"              => Set([\"to\"])\n",
       "  \"be vis\"               => Set([\"a\"])\n",
       "  \"half a\"               => Set([\"bee\"])\n",
       "  \"vis a\"                => Set([\"vis\"])\n",
       "  \"some ancient\"         => Set([\"injury\"])\n",
       "  \"be or\"                => Set([\"not\"])\n",
       "  \"a bee\"                => Set([\"due\", \"philosophically\", \"be\"])\n",
       "  \"got to\"               => Set([\"be\"])\n",
       "  \"ipso facto\"           => Set([\"half\"])\n",
       "  \"vis its\"              => Set([\"entity\"])\n",
       "  \"bee be\"               => Set([\"said\"])\n",
       "  \"or not\"               => Set([\"to\"])\n",
       "  \"when half\"            => Set([\"the\"])\n",
       "  \"must ipso\"            => Set([\"facto\"])\n",
       "  \"entire bee\"           => Set([\"when\"])\n",
       "  \"half the\"             => Set([\"bee\"])\n",
       "  \"bee philosophically\"  => Set([\"must\"])\n",
       "  \"its entity\"           => Set([\"d’you\"])\n",
       "  \"an entire\"            => Set([\"bee\"])\n",
       "  \"be an\"                => Set([\"entire\"])\n",
       "  \"the bee\"              => Set([\"has\", \"is\"])\n",
       "  \"philosophically must\" => Set([\"ipso\"])\n",
       "  \"not be\"               => Set([\"but\"])\n",
       "  \"a vis\"                => Set([\"its\"])\n",
       "  \"bee due\"              => Set([\"to\"])\n",
       "  \"but can\"              => Set([\"a\"])\n",
       "  \"but half\"             => Set([\"the\"])\n",
       "  \"not to\"               => Set([\"be\"])\n",
       "  \"be but\"               => Set([\"half\"])\n",
       "  \"see but\"              => Set([\"can\"])\n",
       "  \"to some\"              => Set([\"ancient\"])\n",
       "  \"bee has\"              => Set([\"got\"])\n",
       "  \"bee is\"               => Set([\"not\"])\n",
       "  \"half not\"             => Set([\"be\"])\n",
       "  \"entity d’you\"         => Set([\"see\"])\n",
       "  \"can a\"                => Set([\"bee\"])\n",
       "  \"to be\"                => Set([\"or\", \"vis\", \"an\"])\n",
       "  \"not a\"                => Set([\"bee\"])\n",
       "  \"bee when\"             => Set([\"half\"])\n",
       "  \"is not\"               => Set([\"a\"])\n",
       "  \"facto half\"           => Set([\"not\"])\n",
       "  \"due to\"               => Set([\"some\"])\n",
       "  \"d’you see\"            => Set([\"but\"])\n",
       "  \"be said\"              => Set([\"to\"])\n",
       "  \"said to\"              => Set([\"be\"])"
      ]
     },
     "execution_count": 94,
     "metadata": {},
     "output_type": "execute_result"
    }
   ],
   "source": [
    "words = getWords(\"./test.txt\")\n",
    "prefixSuffixes = getPrefixSuffixesDict(words, 2)"
   ]
  }
 ],
 "metadata": {
  "kernelspec": {
   "display_name": "Julia 1.8.3",
   "language": "julia",
   "name": "julia-1.8"
  },
  "language_info": {
   "file_extension": ".jl",
   "mimetype": "application/julia",
   "name": "julia",
   "version": "1.8.3"
  },
  "name": "task1.ipynb"
 },
 "nbformat": 4,
 "nbformat_minor": 5
}
