{
 "cells": [
  {
   "attachments": {},
   "cell_type": "markdown",
   "metadata": {},
   "source": [
    "# Chapter 7. Preparing to analyse data"
   ]
  },
  {
   "attachments": {},
   "cell_type": "markdown",
   "metadata": {},
   "source": [
    "## Imports "
   ]
  },
  {
   "cell_type": "code",
   "execution_count": null,
   "metadata": {},
   "outputs": [],
   "source": [
    "import DataFrames as pd # pandas in python\n",
    "import Distributions as dst\n",
    "import PyPlot as plt\n",
    "import Seaborn as sns"
   ]
  },
  {
   "attachments": {},
   "cell_type": "markdown",
   "metadata": {},
   "source": [
    "## Warning regarding solutions"
   ]
  },
  {
   "attachments": {},
   "cell_type": "markdown",
   "metadata": {},
   "source": [
    "NO GUARANTEE THAT THE SOLUTIONS WILL WORK OR WORK CORRECTLY! USE THEM AT YOUR OWN RISK!\n",
    "\n",
    "THE ANSWERS PROVIDED BELOW MAY BE WRONG. USE THEM AT YOUR OWN RISK!"
   ]
  },
  {
   "cell_type": "markdown",
   "metadata": {},
   "source": [
    "## Ch 7.3 Outliers"
   ]
  },
  {
   "cell_type": "code",
   "execution_count": null,
   "metadata": {},
   "outputs": [],
   "source": [
    "tab71 = pd.DataFrame((\n",
    "    ;hodgkin=[171, 257, 288, 295, 396, 397, 431, 435, 554, 568, 795, 902, 958, 1004, 1104, 1212, 1283, 1378, 1621, 2415],\n",
    "    nonhodgkin=[116, 151, 192, 208, 315, 375, 375, 377, 410, 426, 440, 503, 675, 688, 700, 736, 752, 771, 979, 1252]\n",
    "    ))\n",
    "first(tab71, 5)"
   ]
  },
  {
   "cell_type": "code",
   "execution_count": null,
   "metadata": {},
   "outputs": [],
   "source": [
    "sns.histplot(x=tab71[!, :hodgkin], bins=[0, 250, 500, 750, 1000, 1250, 1500, 1750, 2000, 2250, 2500])\n",
    "plt.title(\"Hodgkin's disease\")\n",
    "plt.xlabel(\"T4 [cells per \\$mm^3\\$]\")\n",
    "plt.ylabel(\"Frequency\")"
   ]
  },
  {
   "cell_type": "code",
   "execution_count": null,
   "metadata": {},
   "outputs": [],
   "source": [
    "sns.histplot(x=tab71[!, :nonhodgkin], bins=[0, 250, 500, 750, 1000, 1250, 1500, 1750, 2000, 2250, 2500])\n",
    "plt.title(\"Non-Hodgkin's disease\")\n",
    "plt.xlabel(\"T4 [cells per \\$mm^3\\$]\")\n",
    "plt.ylabel(\"Frequency\")"
   ]
  },
  {
   "cell_type": "code",
   "execution_count": null,
   "metadata": {},
   "outputs": [],
   "source": [
    "tab71[!, \"lnHodgkin\"] = log.(tab71[!, \"hodgkin\"])\n",
    "tab71[!, \"lnNonhodgkin\"] = log.(tab71[!, \"nonhodgkin\"]);"
   ]
  },
  {
   "cell_type": "code",
   "execution_count": null,
   "metadata": {},
   "outputs": [],
   "source": [
    "sns.histplot(x=tab71[!, :lnHodgkin], bins=[2.75, 3.25, 4.75, 5.25, 5.75, 6.25, 6.75, 7.25, 7.75, 8.25, 8.75])\n",
    "plt.title(\"Hodgkin's disease\")\n",
    "plt.xlabel(\"T4 [\\$log_e\\$ cells per \\$mm^3\\$]\")\n",
    "plt.ylabel(\"Frequency\")"
   ]
  },
  {
   "cell_type": "code",
   "execution_count": null,
   "metadata": {},
   "outputs": [],
   "source": [
    "sns.histplot(x=tab71[!, :lnNonhodgkin], bins=[2.75, 3.25, 4.75, 5.25, 5.75, 6.25, 6.75, 7.25, 7.75, 8.25, 8.75])\n",
    "plt.title(\"Non-Hodgkin's disease\")\n",
    "plt.xlabel(\"T4 [\\$log_e\\$ cells per \\$mm^3\\$]\")\n",
    "plt.ylabel(\"Frequency\")"
   ]
  },
  {
   "attachments": {},
   "cell_type": "markdown",
   "metadata": {},
   "source": [
    "## Exercise 7.2\n",
    "\n",
    "Use the method described in section 7.5.4 to construct a Normal plot of the $log_{e}T_{4}$ cell counts for 20 Hodgkin's disease patients given in the first column of Table 7.1"
   ]
  },
  {
   "cell_type": "code",
   "execution_count": null,
   "metadata": {},
   "outputs": [],
   "source": [
    "sns.histplot(x=tab71[!, :lnHodgkin],\n",
    "    bins=[2.75, 3.25, 4.75, 5.25, 5.75, 6.25, 6.75, 7.25, 7.75, 8.25, 8.75],\n",
    "    kde=true)\n",
    "plt.title(\"Hodgkin's disease\")\n",
    "plt.xlabel(\"T4 [\\$log_e\\$ cells per \\$mm^3\\$]\")"
   ]
  },
  {
   "cell_type": "code",
   "execution_count": null,
   "metadata": {},
   "outputs": [],
   "source": [
    " # I'll use slightly different formula from wikipedia and not from the book\n",
    " # https://en.wikipedia.org/wiki/Normal_probability_plot#Definition\n",
    "function get_Pi(i::Int, n::Int)::Float64\n",
    "    a::Float64 = (i <= 10) ? 3/8 : 0.5\n",
    "    return (i - a) / (n + 1 - 2*a)\n",
    "end\n",
    "\n",
    "function get_z_score(x::Float64, mean::Float64, sd::Float64)::Float64\n",
    "    return (x - mean) / sd\n",
    "end\n",
    "\n",
    "# https://en.wikipedia.org/wiki/Rankit\n",
    "function get_rankits(xs::Vector{<:Number})::Vector{<:Number}\n",
    "    len::Int = length(xs)\n",
    "    mu::Number = sum(xs) / len\n",
    "    deviations_squared::Vector{<:Number} = [(x-mu)^2 for x in xs]\n",
    "    sd::Number = sqrt(sum(deviations_squared) / (len - 1))\n",
    "    pis::Vector{Float64} = [get_Pi(i, len) for (i, _) in enumerate(xs)]\n",
    "    quantiles::Vector{Float64} = [dst.quantile(dst.Normal(mu, sd), p) for p in pis]\n",
    "    return [get_z_score(q, mu, sd) for q in quantiles]\n",
    "end"
   ]
  },
  {
   "cell_type": "code",
   "execution_count": null,
   "metadata": {},
   "outputs": [],
   "source": [
    "# since in R there is qqnorm function\n",
    "function draw_qqnorm(ys::Vector{<:Number})\n",
    "    xs::Vector{<:Number} = get_rankits(ys)\n",
    "    sns.scatterplot(x=xs, y=ys)\n",
    "    plt.title(\"Normal Q-Q Plot\")\n",
    "    plt.xlabel(\"Theoretical Quantiles\")\n",
    "    plt.ylabel(\"Sample Quantiles\")\n",
    "end"
   ]
  },
  {
   "cell_type": "code",
   "execution_count": null,
   "metadata": {},
   "outputs": [],
   "source": [
    "draw_qqnorm(tab71[!, :lnHodgkin])"
   ]
  }
 ],
 "metadata": {
  "kernelspec": {
   "display_name": "Julia 1.8.3",
   "language": "julia",
   "name": "julia-1.8"
  },
  "language_info": {
   "file_extension": ".jl",
   "mimetype": "application/julia",
   "name": "julia",
   "version": "1.8.3"
  },
  "orig_nbformat": 4,
  "vscode": {
   "interpreter": {
    "hash": "31f2aee4e71d21fbe5cf8b01ff0e069b9275f58929596ceb00d14d90e3e16cd6"
   }
  }
 },
 "nbformat": 4,
 "nbformat_minor": 2
}
