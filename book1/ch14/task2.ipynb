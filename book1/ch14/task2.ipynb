{
 "cells": [
  {
   "cell_type": "markdown",
   "id": "0afe05a3",
   "metadata": {},
   "source": [
    "# Task 2\n",
    "\n",
    "## Original exercise number\n",
    "\n",
    "Exercise 14-4\n",
    "\n",
    "## Description\n",
    "\n",
    "In a large collection of MP3 files, there may be more than one copy of the same song, stored in different directories or with different file names. The goal of this exercise is to search for duplicates.\n",
    "\n",
    "1. Write a program that searches a directory and all of its subdirectories, recursively, and returns an array of complete paths for all files with a given suffix (like .mp3).\n",
    "\n",
    "2. To recognize duplicates, you can use `md5sum` or `md5` to compute a “checksum” for each files. If two files have the same checksum, they probably have the same contents.\n",
    "\n",
    "3. To double-check, you can use the Unix command `diff`."
   ]
  },
  {
   "cell_type": "markdown",
   "id": "c4bc3ea0",
   "metadata": {},
   "source": [
    "## Solution"
   ]
  },
  {
   "cell_type": "markdown",
   "id": "2895339f",
   "metadata": {},
   "source": [
    "NO GUARANTEE THAT THE SOLUTION WILL WORK OR WORKS CORRECTLY! USE IT AT\n",
    "YOUR OWN RISK!"
   ]
  },
  {
   "cell_type": "markdown",
   "id": "05df47ca",
   "metadata": {},
   "source": [
    "### Functions"
   ]
  },
  {
   "cell_type": "code",
   "execution_count": null,
   "id": "b0b7c927",
   "metadata": {},
   "outputs": [],
   "source": [
    "# I will use (and modify) walk function from this chapter\n",
    "# \".txt\" and \"txt\" are two different suffixes\n",
    "function walk_paths_get_file_names_with_suffix(\n",
    "        start_dirname::String, suffix::String,\n",
    "        accumulator::Vector{String}=Vector{String}())::Vector{String}\n",
    "    for name in readdir(start_dirname)\n",
    "        path::String = joinpath(start_dirname, name)\n",
    "        if isdir(path)\n",
    "            walk_paths_get_file_names_with_suffix(path, suffix, accumulator)\n",
    "        elseif isfile(path) && endswith(path, suffix)\n",
    "            push!(accumulator, path)\n",
    "        end\n",
    "    end\n",
    "    return accumulator\n",
    "end"
   ]
  },
  {
   "cell_type": "code",
   "execution_count": null,
   "id": "64f30767",
   "metadata": {},
   "outputs": [],
   "source": [
    "# gets checksum for a file (the file must exist, it is not verified)\n",
    "function get_md5sum(file::String)::String\n",
    "    return read(`md5sum $file`, String) |> x -> split(x)[1]\n",
    "end"
   ]
  },
  {
   "cell_type": "code",
   "execution_count": null,
   "id": "9ca9f518",
   "metadata": {},
   "outputs": [],
   "source": [
    "function get_diff(file1::String, file2::String)::String\n",
    "    return read(`diff -q $file1 $file2`, String)\n",
    "end"
   ]
  },
  {
   "cell_type": "code",
   "execution_count": null,
   "id": "763faf04",
   "metadata": {},
   "outputs": [],
   "source": [
    "function are_strings_equal(str1::String, str2::String)::Bool\n",
    "    return strip(str1) == strip(str2)\n",
    "end"
   ]
  },
  {
   "cell_type": "code",
   "execution_count": null,
   "id": "662c24bb",
   "metadata": {},
   "outputs": [],
   "source": [
    "function are_files_duplicates(file1::String, file2::String)::Bool\n",
    "    return (are_strings_equal(get_md5sum(file1), get_md5sum(file2))\n",
    "            &&\n",
    "            strip(get_diff(file1, file2)) == \"\")\n",
    "end"
   ]
  },
  {
   "cell_type": "code",
   "execution_count": null,
   "id": "1bc915c2",
   "metadata": {},
   "outputs": [],
   "source": [
    "# walks paths recursively, list duplicate files with a given suffix\n",
    "# \".txt\" and \"txt\" are two different suffixes\n",
    "function walk_paths_list_duplicates(start_dirname::String, suffix::String)\n",
    "    files::Vector{String} = walk_paths_get_file_names_with_suffix(start_dirname, suffix)\n",
    "    duplicates::Vector{Tuple{String, String}} = []\n",
    "    for i in eachindex(files), j in eachindex(files)\n",
    "        if (j > i) && are_files_duplicates(files[i], files[j])\n",
    "            push!(duplicates, (files[i], files[j]))\n",
    "        end\n",
    "    end\n",
    "    return duplicates\n",
    "end"
   ]
  },
  {
   "cell_type": "markdown",
   "id": "f8866cb1",
   "metadata": {},
   "source": [
    "## Testing"
   ]
  },
  {
   "cell_type": "code",
   "execution_count": null,
   "id": "cc76e221",
   "metadata": {},
   "outputs": [],
   "source": [
    "walk_paths_list_duplicates(\"./\", \".txt\")"
   ]
  }
 ],
 "metadata": {
  "kernelspec": {
   "display_name": "Julia 1.8.3",
   "language": "julia",
   "name": "julia-1.8"
  },
  "language_info": {
   "file_extension": ".jl",
   "mimetype": "application/julia",
   "name": "julia",
   "version": "1.8.3"
  },
  "name": "task1.ipynb"
 },
 "nbformat": 4,
 "nbformat_minor": 5
}
