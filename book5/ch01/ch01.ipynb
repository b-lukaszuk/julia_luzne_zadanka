{
 "cells": [
  {
   "cell_type": "markdown",
   "id": "756018ac-fc3b-4f6a-9c0b-39b231d378c4",
   "metadata": {
    "collapsed": false,
    "jupyter": {
     "outputs_hidden": false
    }
   },
   "source": [
    "# Ch01. Introduction to algorithms "
   ]
  },
  {
   "cell_type": "markdown",
   "id": "2472776c",
   "metadata": {},
   "source": [
    "## Binary Search"
   ]
  },
  {
   "cell_type": "code",
   "execution_count": null,
   "id": "c15b2af0-a824-4bb8-b34c-6c7995e1f2b5",
   "metadata": {
    "collapsed": false,
    "jupyter": {
     "outputs_hidden": false
    }
   },
   "outputs": [],
   "source": [
    "\"\"\"\n",
    "getIndex - returns an index of an item using binary search or -99 if item not found\n",
    "\"\"\"\n",
    "function getIndex(\n",
    "    itemToFind::Int, ascSortedList::Vector{Int},\n",
    "    displayCount::Bool = false)::Int\n",
    "    low::Int = 1\n",
    "    high::Int = length(ascSortedList)\n",
    "    mid::Int = 0\n",
    "    guess::Int = 0\n",
    "    count::Int = 0\n",
    "    while low <= high\n",
    "        count += 1\n",
    "        mid = round(Int, (low + high) / 2)\n",
    "        guess = ascSortedList[mid]\n",
    "        if guess == itemToFind\n",
    "            break\n",
    "        elseif guess > itemToFind\n",
    "            high = mid - 1\n",
    "        else\n",
    "            low = mid + 1\n",
    "        end\n",
    "    end\n",
    "    if displayCount\n",
    "        println(\"Count $count\")\n",
    "    end\n",
    "    return low > high ? -99 : mid\n",
    "end"
   ]
  },
  {
   "cell_type": "markdown",
   "id": "631a0d5a",
   "metadata": {},
   "source": [
    "## Binary Search Tests"
   ]
  },
  {
   "cell_type": "code",
   "execution_count": null,
   "id": "b4d1d64c-6f03-4013-bffe-58adc7e19940",
   "metadata": {
    "collapsed": false,
    "jupyter": {
     "outputs_hidden": false
    }
   },
   "outputs": [],
   "source": [
    "test1 = [1, 3, 5, 7, 9]\n",
    "test2 = [1, 3, 5, 7, 9, 11]"
   ]
  },
  {
   "cell_type": "markdown",
   "id": "0d8a6b79",
   "metadata": {},
   "source": [
    "### Positive tests"
   ]
  },
  {
   "cell_type": "code",
   "execution_count": null,
   "id": "b283b419",
   "metadata": {},
   "outputs": [],
   "source": [
    "for elt in test1\n",
    "    println(\"index of $elt in $test1 is: $(getIndex(elt, test1))\")\n",
    "end"
   ]
  },
  {
   "cell_type": "code",
   "execution_count": null,
   "id": "b7fee5b4",
   "metadata": {},
   "outputs": [],
   "source": [
    "for elt in test2\n",
    "    println(\"index of $elt in $test2 is: $(getIndex(elt, test2))\")\n",
    "end"
   ]
  },
  {
   "cell_type": "markdown",
   "id": "a157333e",
   "metadata": {},
   "source": [
    "### Negative tests"
   ]
  },
  {
   "cell_type": "code",
   "execution_count": null,
   "id": "621fc7ab",
   "metadata": {},
   "outputs": [],
   "source": [
    "for elt in [-4, 0, 2, 4, 8, 10]\n",
    "    println(\"index of $elt in $test1 is: $(getIndex(elt, test1))\")\n",
    "end"
   ]
  },
  {
   "cell_type": "code",
   "execution_count": null,
   "id": "a611bb1a",
   "metadata": {},
   "outputs": [],
   "source": [
    "for elt in [-4, 0, 2, 4, 8, 10, 12]\n",
    "    println(\"index of $elt in $test2 is: $(getIndex(elt, test2))\")\n",
    "end"
   ]
  },
  {
   "cell_type": "markdown",
   "id": "3b70f001",
   "metadata": {},
   "source": [
    "## Exercises 1.1 and 1.2"
   ]
  },
  {
   "cell_type": "markdown",
   "id": "bc88d3d6",
   "metadata": {},
   "source": [
    "\n",
    "### Ex 1.1\n",
    "\n",
    "For list of 128 items, what is the maximum number of steps a search would take?"
   ]
  },
  {
   "cell_type": "code",
   "execution_count": null,
   "id": "a696d342",
   "metadata": {},
   "outputs": [],
   "source": [
    "2^7 "
   ]
  },
  {
   "cell_type": "code",
   "execution_count": null,
   "id": "571509db",
   "metadata": {},
   "outputs": [],
   "source": [
    "getIndex(1, 1:128 |> collect, true),\n",
    "getIndex(128, 1:128 |> collect, true)"
   ]
  },
  {
   "cell_type": "markdown",
   "id": "dddb6814",
   "metadata": {},
   "source": [
    "### Ex 1.2\n",
    "\n",
    "And what if we double the length of the list?"
   ]
  },
  {
   "cell_type": "code",
   "execution_count": null,
   "id": "dc5d5c77",
   "metadata": {},
   "outputs": [],
   "source": [
    "2^8"
   ]
  },
  {
   "cell_type": "code",
   "execution_count": null,
   "id": "7014e30d",
   "metadata": {},
   "outputs": [],
   "source": [
    "getIndex(1, 1:256 |> collect, true),\n",
    "getIndex(256, 1:256 |> collect, true)"
   ]
  }
 ],
 "metadata": {
  "kernelspec": {
   "display_name": "Julia 1.10.2",
   "language": "julia",
   "name": "julia-1.10"
  },
  "language_info": {
   "file_extension": ".jl",
   "mimetype": "application/julia",
   "name": "julia",
   "version": "1.10.2"
  },
  "name": "ch01.ipynb"
 },
 "nbformat": 4,
 "nbformat_minor": 5
}
