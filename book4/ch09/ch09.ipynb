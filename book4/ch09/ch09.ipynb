{
 "cells": [
  {
   "cell_type": "markdown",
   "id": "785d88c2-f64d-412c-8d6c-56ba7ded9a06",
   "metadata": {
    "collapsed": false,
    "jupyter": {
     "outputs_hidden": false
    }
   },
   "source": [
    "# Chapter 9. Decision Analysis\n",
    "\n",
    "[Link to chapter online](https://allendowney.github.io/ThinkBayes2/chap09.html)"
   ]
  },
  {
   "cell_type": "markdown",
   "id": "a69ad01a-e10d-446f-bd52-a8eb2181db84",
   "metadata": {
    "collapsed": false,
    "jupyter": {
     "outputs_hidden": false
    }
   },
   "source": [
    "## Warning\n",
    "\n",
    "The content of this file may be incorrect, erroneous and/or harmful. Use it at Your own risk."
   ]
  },
  {
   "cell_type": "markdown",
   "id": "6f75d72d-b671-4abc-90de-2426c7524c2b",
   "metadata": {
    "collapsed": false,
    "jupyter": {
     "outputs_hidden": false
    }
   },
   "source": [
    "## Imports"
   ]
  }
 ],
 "metadata": {
  "kernelspec": {
   "argv": [
    "~/.julia/juliaup/julia-1.10.2+0.x64.linux.gnu/bin/julia",
    "-i",
    "--color=yes",
    "--project=@.",
    "~/.julia/packages/IJulia/Vo51o/src/kernel.jl",
    "{connection_file}"
   ],
   "display_name": "Julia 1.10.2",
   "env": null,
   "interrupt_mode": "signal",
   "language": "julia",
   "metadata": null,
   "name": "julia-1.10"
  },
  "language_info": {
   "file_extension": ".jl",
   "mimetype": "application/julia",
   "name": "julia",
   "version": "1.10.2"
  },
  "name": "ch09.ipynb"
 },
 "nbformat": 4,
 "nbformat_minor": 4
}
