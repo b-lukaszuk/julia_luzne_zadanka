{
 "cells": [
  {
   "cell_type": "markdown",
   "metadata": {},
   "source": [
    "---\n",
    "\n",
    "# Table of Contents\n",
    "\n",
    "0. [Imports](#imports)\n",
    "1. [Task 1](#task-1)\n",
    "2. [Task 2](#task-2)\n",
    "---"
   ]
  },
  {
   "cell_type": "markdown",
   "metadata": {},
   "source": [
    "# Imports"
   ]
  },
  {
   "cell_type": "code",
   "execution_count": null,
   "metadata": {},
   "outputs": [],
   "source": [
    "using Plots\n",
    "default(fmt = :png)"
   ]
  },
  {
   "cell_type": "markdown",
   "metadata": {},
   "source": [
    "# Task 1\n",
    "\n",
    "[Go to: Table of contents](#table-of-contents)\n",
    "\n",
    "## Dog Years\n",
    "\n",
    "(Part 1, Exercise 33 from the book)\n",
    "\n",
    "## Description\n",
    "\n",
    "Write a program that implements the conversion from human years to dog years described in the previous paragraph, i.e.\n",
    "\n",
    "[...] it is better to count each of the first two human years as 10.5 dog years, and then count each additional human year as 4 dog years."
   ]
  },
  {
   "cell_type": "markdown",
   "metadata": {},
   "source": [
    "## Solution\n",
    "\n",
    "NO GUARANTEE IT WILL WORK OR WORK CORRECTLY! USE IT AT YOUR OWN RISK!"
   ]
  },
  {
   "cell_type": "code",
   "execution_count": null,
   "metadata": {},
   "outputs": [],
   "source": [
    "function convert_human_2_dog_years(human_years::Float64)::Float64\n",
    "    if human_years <= 2\n",
    "        human_years * 10.5\n",
    "    else\n",
    "        2*10.5 + (human_years - 2) * 4\n",
    "    end\n",
    "end"
   ]
  },
  {
   "cell_type": "code",
   "execution_count": null,
   "metadata": {},
   "outputs": [],
   "source": [
    "human_years = 0.4:0.4:20.0\n",
    "dog_years = convert_human_2_dog_years.(human_years);"
   ]
  },
  {
   "cell_type": "code",
   "execution_count": null,
   "metadata": {},
   "outputs": [],
   "source": [
    "plot(human_years, dog_years)\n",
    "title!(\"Human vs. dog years\", legend=false)\n",
    "xlabel!(\"Human years\")\n",
    "ylabel!(\"Dog years\")"
   ]
  },
  {
   "cell_type": "markdown",
   "metadata": {},
   "source": [
    "# Task 2\n",
    "\n",
    "[Go to: Table of contents](#table-of-contents)\n",
    "\n",
    "## Title\n",
    "\n",
    "What Color is that Square?\n",
    "\n",
    "(Part 1, Exercise 45 from the book)\n",
    "\n",
    "## Description\n",
    "\n",
    "Write a program that reads a position on a chessboard from the user (e.g. a8, b3). Determine the color of that square."
   ]
  },
  {
   "cell_type": "markdown",
   "metadata": {},
   "source": [
    "## Solution\n",
    "\n",
    "NO GUARANTEE IT WILL WORK OR WORK CORRECTLY! USE IT AT YOUR OWN RISK!"
   ]
  },
  {
   "cell_type": "code",
   "execution_count": null,
   "metadata": {},
   "outputs": [],
   "source": [
    "# row_id 1:8\n",
    "function is_1st_cell_in_row_black(row_id::Int64)::Bool\n",
    "    # a1 is black\n",
    "    (row_id % 2 == 0) ? false : true\n",
    "end"
   ]
  },
  {
   "cell_type": "code",
   "execution_count": null,
   "metadata": {},
   "outputs": [],
   "source": [
    "# row_id 1:8, col_id 1:8\n",
    "function is_r_c_cell_black(row_id::Int64, col_id::Int64)::Bool\n",
    "    cell_1st_black::Bool = is_1st_cell_in_row_black(row_id)\n",
    "    (col_id % 2 == 1) ? cell_1st_black : !cell_1st_black\n",
    "end"
   ]
  },
  {
   "cell_type": "code",
   "execution_count": null,
   "metadata": {},
   "outputs": [],
   "source": [
    "# row_id 1:8, col_id 1:8\n",
    "# i will, omit the conversion a:h <-> 1:8 for collumns\n",
    "function get_cell_color(row_id::Int64, col_id::Int64)::String\n",
    "    is_r_c_cell_black(row_id, col_id) ? \"black\" : \"white\"\n",
    "end"
   ]
  },
  {
   "cell_type": "code",
   "execution_count": null,
   "metadata": {},
   "outputs": [],
   "source": [
    "# Visual check for correctness\n",
    "plot()\n",
    "scatter!(repeat(1:8, inner=[8]), repeat(1:8, outer=[8]),\n",
    "    markercolor = [get_cell_color(r, c) for r in 1:8 for c in 1:8],\n",
    "    markershape = :rect)\n",
    "xlims!((0, 9))\n",
    "ylims!((0, 9))\n",
    "title!(\"Chessboard\", legend=false)\n",
    "xlabel!(\"columns\")\n",
    "ylabel!(\"rows\")\n",
    "# looks fine"
   ]
  }
 ],
 "metadata": {
  "kernelspec": {
   "display_name": "Julia 1.4.1",
   "language": "julia",
   "name": "julia-1.4"
  },
  "language_info": {
   "file_extension": ".jl",
   "mimetype": "application/julia",
   "name": "julia",
   "version": "1.4.1"
  }
 },
 "nbformat": 4,
 "nbformat_minor": 2
}
