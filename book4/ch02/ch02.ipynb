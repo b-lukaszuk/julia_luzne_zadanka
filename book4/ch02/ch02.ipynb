{
 "cells": [
  {
   "cell_type": "markdown",
   "id": "57e968d5",
   "metadata": {},
   "source": [
    "# Chapter 2. Bayes's Theorem\n",
    "[Link to chapter online](https://allendowney.github.io/ThinkBayes2/chap02.html)\n",
    "\n",
    "$P(A|B) = \\frac{P(A)P(B|A)}{P(B)}$"
   ]
  },
  {
   "cell_type": "markdown",
   "id": "4350a5e3",
   "metadata": {},
   "source": [
    "## Warning\n",
    "\n",
    "The content of this file may be incorrect, erroneous and/or harmful. Use it at Your own risk."
   ]
  },
  {
   "cell_type": "markdown",
   "id": "c4449ea0",
   "metadata": {},
   "source": [
    "## The Cookie Problem\n",
    "\n",
    "Suppose there are two bowls of cookies.\n",
    "- Bowl 1 contains 30 vanilla cookies and 10 chocolate cookies.\n",
    "- Bowl 2 contains 20 vanilla cookies and 20 chocolate cookies.\n",
    "\n",
    "Now suppose you choose one of the bowls at random and, without looking, choose a cookie at random. If the cookie is vanilla, what is the probability that it came from Bowl 1?"
   ]
  },
  {
   "cell_type": "markdown",
   "id": "443881bd",
   "metadata": {},
   "source": [
    "My (BL) logical reasoning:\n",
    "- fact: I got vanilla cookie\n",
    "- vanilla cookies in total (B1 + B2) = (30+20) = 50\n",
    "- prob of getting white cookie from bowl1 = $\\frac{30}{50}$ = 0.6\n",
    "\n",
    "Using Bayese's Theorem:\n",
    "$P(A|B) = \\frac{P(A)P(B|A)}{P(B)}$\n",
    "\n",
    "Where:\n",
    "- $P(A|B)$ is $P(B1|Vanilla)$\n",
    "- $P(A)$ is $P(B1)$ = $\\frac{1}{2}$\n",
    "- $P(B|A)$ is $P(Vanilla|B1)$ = $\\frac{30}{40}$ = $\\frac{3}{4}$\n",
    "- $P(B)$ is $P(Vanilla)$ = $\\frac{30+20}{40+40}$ = $\\frac{50}{80}$ = $\\frac{5}{8}$\n",
    "\n",
    "$P(B1|Vanilla) = \\frac{\\frac{1}{2} * \\frac{3}{4}}{\\frac{5}{8}}$\n",
    "\n",
    "$P(B1|Vanilla) = \\frac{\\frac{3}{8}}{\\frac{5}{8}}$\n",
    "\n",
    "$P(B1|Vanilla) = \\frac{3}{8} * \\frac{8}{5}$ (to divide is to multiply by inverse)\n",
    "\n",
    "$P(B1|Vanilla) = \\frac{24}{40} = \\frac{24/4}{40/4}= \\frac{6}{10} = 0.6$"
   ]
  }
 ],
 "metadata": {
  "kernelspec": {
   "display_name": "Julia 1.9.3",
   "language": "julia",
   "name": "julia-1.9"
  },
  "language_info": {
   "file_extension": ".jl",
   "mimetype": "application/julia",
   "name": "julia",
   "version": "1.9.3"
  },
  "name": "Untitled.ipynb"
 },
 "nbformat": 4,
 "nbformat_minor": 5
}
