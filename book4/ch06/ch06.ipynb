{
 "cells": [
  {
   "cell_type": "markdown",
   "metadata": {},
   "source": [
    "# Chapter 6. Odds and Addends\n",
    "[Link to chapter online](https://allendowney.github.io/ThinkBayes2/chap06.html)"
   ]
  },
  {
   "cell_type": "markdown",
   "metadata": {},
   "source": [
    "## Warning\n",
    "\n",
    "The content of this file may be incorrect, erroneous and/or harmful. Use it at Your own risk."
   ]
  },
  {
   "cell_type": "markdown",
   "metadata": {},
   "source": [
    "## Imports"
   ]
  },
  {
   "cell_type": "code",
   "execution_count": null,
   "metadata": {},
   "outputs": [],
   "source": [
    "import DataFrames as Dfs\n",
    "import Distributions as Dsts\n",
    "import CairoMakie as Cmk"
   ]
  },
  {
   "cell_type": "code",
   "execution_count": null,
   "metadata": {},
   "outputs": [],
   "source": [
    "include(\"./pmf.jl\")\n",
    "import .ProbabilityMassFunction as pmf"
   ]
  },
  {
   "cell_type": "markdown",
   "metadata": {},
   "source": [
    "## Odds\n",
    "\n",
    "Odds [odds = $\\frac{P(success)}{P(failure)} = \\frac{P(success)}{1 -\n",
    "P(success)}$], are used in the form of so called **Bayes's Rule**.\n",
    "\n",
    "Bayes’s Rule is convenient if you want to do a Bayesian update on paper or in\n",
    "your head. It also sheds light on the important idea of evidence and how we can\n",
    "quantify the strength of evidence."
   ]
  },
  {
   "cell_type": "code",
   "execution_count": null,
   "metadata": {},
   "outputs": [],
   "source": [
    "function getOdds(prob::Float64)::Float64\n",
    "    @assert (0 <= prob <= 1) \"prob takes value in range [0-1]\"\n",
    "    return prob / (1 - prob)\n",
    "end"
   ]
  },
  {
   "cell_type": "code",
   "execution_count": null,
   "metadata": {},
   "outputs": [],
   "source": [
    "# if prob of winning is 75% then the odds are\n",
    "# 3 to 1\n",
    "getOdds(0.75)"
   ]
  },
  {
   "cell_type": "code",
   "execution_count": null,
   "metadata": {},
   "outputs": [],
   "source": [
    "# odds in favor (1 to 9)\n",
    "getOdds(0.1)"
   ]
  },
  {
   "cell_type": "code",
   "execution_count": null,
   "metadata": {},
   "outputs": [],
   "source": [
    "# we may prefer to report odds agains 9:1\n",
    "getOdds(1-0.1)"
   ]
  },
  {
   "cell_type": "markdown",
   "metadata": {},
   "source": [
    "We can also do the opposite transformation, below my (BL) convesion for practice\n",
    "\n",
    "$odds = \\frac{p}{1-p}$\n",
    "\n",
    "$\\frac{p}{1-p} = odds$\n",
    "\n",
    "$\\frac{p}{1-p} = odds$ # multiply both sides by (1-p)\n",
    "\n",
    "$p = odds * (1-p)$ # multiply: odds * (1-p)\n",
    "\n",
    "$p = odds - odds * p$ # move (odds*p) to the left with the opposite sign\n",
    "\n",
    "$p + (odds * p) = odds$ # rewrite left side to different equivalent form\n",
    "\n",
    "$p * (1 + odds) = odds$ # move (1+odds) to the right with the opposite sign\n",
    "\n",
    "$p = odds / (1 + odds)$\n",
    "\n",
    "Below, a Julia's function for that calculation:"
   ]
  },
  {
   "cell_type": "code",
   "execution_count": null,
   "metadata": {},
   "outputs": [],
   "source": [
    "function getProb(odds::T)::T where T<:Union{Rational, Float64}\n",
    "    return odds / (odds + 1) \n",
    "end"
   ]
  },
  {
   "cell_type": "code",
   "execution_count": null,
   "metadata": {},
   "outputs": [],
   "source": [
    "getProb(3/2),\n",
    "getProb(3//2)"
   ]
  },
  {
   "cell_type": "code",
   "execution_count": null,
   "metadata": {},
   "outputs": [],
   "source": [
    "function getProb(yes::Int, no::Int)::Float64\n",
    "    return yes / (yes + no) \n",
    "end"
   ]
  },
  {
   "cell_type": "code",
   "execution_count": null,
   "metadata": {},
   "outputs": [],
   "source": [
    "getProb(3, 2)"
   ]
  },
  {
   "cell_type": "markdown",
   "metadata": {},
   "source": [
    "[...] some computations are easier when we work with odds, [...], and some\n",
    "computations are even easier with log odds, [...]."
   ]
  },
  {
   "cell_type": "markdown",
   "metadata": {},
   "source": [
    "## Bayes's Rule\n",
    "\n",
    "So far we have worked with Bayes’s theorem in the “probability form”:\n",
    "\n",
    "$P(H|D) = \\frac{P(H)P(D|H)}{P(D)}$\n",
    "\n",
    "Writing $odds(A)$ for odds in favor of `A`, we can express Bayes’s Theorem in “odds form”:\n",
    "\n",
    "$odds(A|D) = odds(A) * \\frac{P(D|A)}{P(D|B)}$\n",
    "\n",
    "In general Bayes's Rule says that the posterior odds are prior odds times the likelihood ratio.\n"
   ]
  },
  {
   "cell_type": "markdown",
   "metadata": {},
   "source": [
    "**My comment**\n",
    "\n",
    "Not sure how this odds form came to be all of a sudden?!\n",
    "\n",
    "$P(D|B)$ suggests that probability of failure was introduced, since\n",
    "in the case of two exhaustive mutually exclusive events (success and failure we got):\n",
    "\n",
    "$P(success) + P(failure) = 1$ or $P(A) + P(B) = 1$\n",
    "\n",
    "therefore\n",
    "\n",
    "$P(success) = 1 - P(failure)$ or $P(A) = 1 - P(B)$\n",
    "\n",
    "So if:\n",
    "\n",
    "$odds(A) = \\frac{P(A)}{1 - P(A)} = \\frac{P(A)}{P(B)}$, then\n",
    "\n",
    "$odds(A|D) = \\frac{P(A|D)}{1 - P(A|D)} = \\frac{P(A|D)}{P(B|D)}$\n",
    "\n",
    "Moreover, at the onset the Bayes's theorem had to be written in the $P(A|D)$ and not $P(H|D)$ form.\n",
    "\n",
    "So:\n",
    "\n",
    "$P(A|D) = \\frac{P(A)P(D|A)}{P(D)}$, instead of\n",
    "\n",
    "$P(H|D) = \\frac{P(H)P(D|H)}{P(D)}$\n",
    "\n",
    "Given the above and based on the definition of `getProb(odds)` above we see that:\n",
    "\n",
    "$P(A) = \\frac{odds(A)}{1 - odds{A}} = \\frac{odds(A)}{odds{B}}$, therefore we can rewrite\n",
    "\n",
    "$P(A|D) = \\frac{P(A)P(D|A)}{P(D)}$ as\n",
    "\n",
    "$\\frac{odds(A|D)}{odds(B|D)} = \\frac{P(A)P(D|A)}{P(D)}$, so i we multiply both sides by $odds(B|D)$ we get\n",
    "\n",
    "$odds(A|D) = odds(B|D) * \\frac{P(A)P(D|A)}{P(D)}$, but I am not sure what happens next."
   ]
  },
  {
   "cell_type": "markdown",
   "metadata": {},
   "source": [
    "Anyway, let's get back to the cookie problem:\n",
    "\n",
    "> Suppose there are two bowls of cookies. Bowl 1 contains 30 vanilla cookies and\n",
    "> 10 chocolate cookies. Bowl 2 contains 20 of each. Now suppose you choose one of\n",
    "> the bowls at random and, without looking, select a cookie at random. The cookie\n",
    "> is vanilla. What is the probability that it came from Bowl 1?\n",
    "\n",
    "Let's use the **Bayes's Rule**:\n",
    "\n",
    "$odds(A|D) = odds(A) * \\frac{P(D|A)}{P(D|B)}$"
   ]
  },
  {
   "cell_type": "code",
   "execution_count": null,
   "metadata": {},
   "outputs": [],
   "source": [
    "# odds(A) = odds(bowl1) = p(bowl1)/p(bowl2)\n",
    "cookiePriorOdds = 1 # 0.5/0.5\n",
    "# p(D|A) = p(vanilla|bowl1) = 30/40 = 3/4 = 0.75\n",
    "# p(D|B) = p(vanilla|bowl2) = 20/40 = 2/4 = 0.5\n",
    "# likelihood ratio = p(D|A)/p(D|B)\n",
    "cookieLikelihoodRatio = 0.75 / 0.5\n",
    "cookiePostOdds = cookiePriorOdds * cookieLikelihoodRatio"
   ]
  },
  {
   "cell_type": "code",
   "execution_count": null,
   "metadata": {},
   "outputs": [],
   "source": [
    "cookiePostProb = getProb(cookiePostOdds)"
   ]
  },
  {
   "cell_type": "markdown",
   "metadata": {},
   "source": [
    "If we draw another cookie and it's chocolate, we can do another update:"
   ]
  },
  {
   "cell_type": "code",
   "execution_count": null,
   "metadata": {},
   "outputs": [],
   "source": [
    "cookieLikelihoodRatio = (10/40) / (20/40)\n",
    "cookiePostOdds *= cookieLikelihoodRatio"
   ]
  },
  {
   "cell_type": "code",
   "execution_count": null,
   "metadata": {},
   "outputs": [],
   "source": [
    "cookiePostProb = getProb(cookiePostOdds)"
   ]
  }
 ],
 "metadata": {
  "kernelspec": {
   "display_name": "Julia 1.9.3",
   "language": "julia",
   "name": "julia-1.9"
  },
  "language_info": {
   "file_extension": ".jl",
   "mimetype": "application/julia",
   "name": "julia",
   "version": "1.9.3"
  },
  "vscode": {
   "interpreter": {
    "hash": "31f2aee4e71d21fbe5cf8b01ff0e069b9275f58929596ceb00d14d90e3e16cd6"
   }
  }
 },
 "nbformat": 4,
 "nbformat_minor": 2
}
