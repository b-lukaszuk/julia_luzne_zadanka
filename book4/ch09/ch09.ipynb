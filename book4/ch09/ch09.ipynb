{
 "cells": [
  {
   "cell_type": "markdown",
   "id": "785d88c2-f64d-412c-8d6c-56ba7ded9a06",
   "metadata": {
    "collapsed": false,
    "jupyter": {
     "outputs_hidden": false
    }
   },
   "source": [
    "# Chapter 9. Decision Analysis\n",
    "\n",
    "[Link to chapter online](https://allendowney.github.io/ThinkBayes2/chap09.html)"
   ]
  },
  {
   "cell_type": "markdown",
   "id": "a69ad01a-e10d-446f-bd52-a8eb2181db84",
   "metadata": {
    "collapsed": false,
    "jupyter": {
     "outputs_hidden": false
    }
   },
   "source": [
    "## Warning\n",
    "\n",
    "The content of this file may be incorrect, erroneous and/or harmful. Use it at Your own risk."
   ]
  },
  {
   "cell_type": "markdown",
   "id": "6f75d72d-b671-4abc-90de-2426c7524c2b",
   "metadata": {
    "collapsed": false,
    "jupyter": {
     "outputs_hidden": false
    }
   },
   "source": [
    "## Imports"
   ]
  },
  {
   "cell_type": "code",
   "execution_count": null,
   "id": "5fce4f5f-1d19-4fb0-a0ea-6605be6cc3cf",
   "metadata": {
    "collapsed": false
   },
   "outputs": [],
   "source": [
    "include(\"./pmfAndCdf.jl\")\n",
    "include(\"./simplestat.jl\")"
   ]
  },
  {
   "cell_type": "markdown",
   "id": "3b6f1073-ab2e-43dc-a8e8-20df8a32a2be",
   "metadata": {
    "collapsed": false
   },
   "source": [
    "## The Price is Right Problem"
   ]
  },
  {
   "cell_type": "markdown",
   "id": "c87f49f4-23be-4dbf-bd3b-ee0fb8b94d1b",
   "metadata": {
    "collapsed": false
   },
   "source": [
    "*The Price is Right* - a gameshow. The objective is to guess the price of a collection of prizes.\n",
    "The contestant who comes closest to the actual price, without going over, wins the prizes.\n",
    "\n",
    "One of the episodes:\n",
    "N Prize: dishwasher, wine cabinet, laptop, car.\n",
    "L Prize: pinball machine, video arcade game, pool table, cruise of the Bahamas\n",
    "\n",
    "Bids:\n",
    "N: $26'000 (real price: $25'347, diff: $653)\n",
    "L: $21'500 (real price: $21'578, diff: $78)\n",
    "\n",
    "L wins her showcase, and due to smaller diffs also N showcase.\n",
    "\n",
    "Several questions for a Bayesian thinker.\n",
    "\n",
    "1. Before seeing the prizes, what prior beliefs should the contestants have about the price of the showcase?\n",
    "2. After seeing the prizes, how should the contestants update those beliefs?\n",
    "3. Based on the posterior distribution, what should the contestants bid?\n",
    "\n",
    "Problem inspired by Cameron Davidson-Pilon's [book](https://dataorigami.net/Probabilistic-Programming-and-Bayesian-Methods-for-Hackers/)."
   ]
  }
 ],
 "metadata": {
  "kernelspec": {
   "argv": [
    "~/.julia/juliaup/julia-1.10.2+0.x64.linux.gnu/bin/julia",
    "-i",
    "--color=yes",
    "--project=@.",
    "~/.julia/packages/IJulia/Vo51o/src/kernel.jl",
    "{connection_file}"
   ],
   "display_name": "Julia 1.10.2",
   "env": null,
   "interrupt_mode": "signal",
   "language": "julia",
   "metadata": null,
   "name": "julia-1.10"
  },
  "language_info": {
   "file_extension": ".jl",
   "mimetype": "application/julia",
   "name": "julia",
   "version": "1.10.2"
  },
  "name": "ch09.ipynb"
 },
 "nbformat": 4,
 "nbformat_minor": 4
}
