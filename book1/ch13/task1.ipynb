{
 "cells": [
  {
   "cell_type": "markdown",
   "id": "0afe05a3",
   "metadata": {},
   "source": [
    "# Task 1\n",
    "\n",
    "## Original exercise number\n",
    "\n",
    "Exercise 13-5\n",
    "\n",
    "## Description\n",
    "\n",
    "Write a function named `choosefromhist` that takes a `histogram` as defined in [Dictionary as a Collection of Counters](https://benlauwens.github.io/ThinkJulia.jl/latest/book.html#dictionary_collection_counters) and returns a random value from the histogram, chosen with probability in proportion to frequency. For example, for this histogram:\n",
    "\n",
    "<pre>\n",
    "julia> t = ['a', 'a', 'b'];\n",
    "\n",
    "julia> histogram(t)\n",
    "Dict{Any,Any} with 2 entries:\n",
    "  'a' => 2\n",
    "  'b' => 1\n",
    "</pre>\n",
    "\n",
    "your function should return 'a' with probability $2\\over3$ and 'b' with probability $1\\over3$."
   ]
  },
  {
   "cell_type": "markdown",
   "id": "c4bc3ea0",
   "metadata": {},
   "source": [
    "## Solution"
   ]
  },
  {
   "cell_type": "markdown",
   "id": "2895339f",
   "metadata": {},
   "source": [
    "NO GUARANTEE THAT THE SOLUTION WILL WORK OR WORKS CORRECTLY! USE IT AT\n",
    "YOUR OWN RISK!"
   ]
  },
  {
   "cell_type": "markdown",
   "id": "05df47ca",
   "metadata": {},
   "source": [
    "### Functions"
   ]
  },
  {
   "cell_type": "code",
   "execution_count": null,
   "id": "0e8dd25c",
   "metadata": {
    "scrolled": true
   },
   "outputs": [],
   "source": [
    "function histogram(s::String, to_lower::Bool = true)::Dict{Char, Int}\n",
    "    d::Dict{Char, Int} = Dict()\n",
    "    for c in s\n",
    "        tmp::Char = to_lower ? lowercase(c) : c\n",
    "        if isletter(tmp)\n",
    "            d[tmp] = get(d, tmp, 0) + 1\n",
    "        end\n",
    "    end\n",
    "    return d\n",
    "end"
   ]
  },
  {
   "cell_type": "code",
   "execution_count": null,
   "id": "07062938",
   "metadata": {},
   "outputs": [],
   "source": [
    "function get_frequencies(hist::Dict{Char, Int})::Dict{Char, Float64}\n",
    "    no_of_elts::Int = sum(values(hist))\n",
    "    frequencies::Dict{Char, Float64} = Dict()\n",
    "    for key in keys(hist)\n",
    "        frequencies[key] = round(hist[key] / no_of_elts, digits=3)\n",
    "    end\n",
    "    return frequencies\n",
    "end"
   ]
  },
  {
   "cell_type": "code",
   "execution_count": null,
   "id": "6a632b5d",
   "metadata": {},
   "outputs": [],
   "source": [
    "function get_population(hist::Dict{Char, Int})::Vector{Char}\n",
    "    no_of_elts::Int = sum(values(hist))\n",
    "    population::Vector{Char} = Vector{Char}(undef, no_of_elts)\n",
    "    ind::Int = 1\n",
    "    for key in keys(hist)\n",
    "        for i in 1:hist[key]\n",
    "            population[ind] = key\n",
    "            ind += 1\n",
    "        end\n",
    "    end\n",
    "    return population\n",
    "end"
   ]
  },
  {
   "cell_type": "code",
   "execution_count": null,
   "id": "d1c1e75f",
   "metadata": {},
   "outputs": [],
   "source": [
    "# for testing purposes it will be better to return Vector{Char} instead of Char\n",
    "function choosefromhist(hist::Dict{Char, Int}, how_many::Int)::Vector{Char}\n",
    "    return rand(get_population(hist), how_many)\n",
    "end"
   ]
  },
  {
   "cell_type": "markdown",
   "id": "f8866cb1",
   "metadata": {},
   "source": [
    "## Testing"
   ]
  },
  {
   "cell_type": "code",
   "execution_count": null,
   "id": "fd01b46e",
   "metadata": {},
   "outputs": [],
   "source": [
    "orig_str = \"abbc\"\n",
    "orig_hist = histogram(orig_str)\n",
    "orig_freqs = get_frequencies(orig_hist)\n",
    "new_rand_str = join(choosefromhist(orig_hist, 100000), \"\")\n",
    "new_rand_hist = histogram(new_rand_str)\n",
    "new_freqs = get_frequencies(new_rand_hist)\n",
    "\n",
    "println(\"Original word: $orig_str\")\n",
    "println(\"Original frequencies: $orig_freqs\")\n",
    "println(\"Frequencies from random string: $new_freqs\")\n",
    "\n",
    "println(\"Since both the frequencies are roughly equal, everything is OK.\")"
   ]
  }
 ],
 "metadata": {
  "kernelspec": {
   "display_name": "Julia 1.8.3",
   "language": "julia",
   "name": "julia-1.8"
  },
  "language_info": {
   "file_extension": ".jl",
   "mimetype": "application/julia",
   "name": "julia",
   "version": "1.8.3"
  },
  "name": "task1.ipynb"
 },
 "nbformat": 4,
 "nbformat_minor": 5
}
