{
 "cells": [
  {
   "attachments": {},
   "cell_type": "markdown",
   "id": "0afe05a3",
   "metadata": {},
   "source": [
    "# Task 3\n",
    "\n",
    "## Original exercise number\n",
    "\n",
    "Exercise 18-6\n",
    "\n",
    "## Description\n",
    "\n",
    "The following are the possible hands in poker, in increasing order of value and decreasing order of probability:\n",
    "\n",
    "*pair*\n",
    "\n",
    "two cards with the same rank\n",
    "\n",
    "*two pair*\n",
    "\n",
    "two pairs of cards with the same rank\n",
    "\n",
    "*three of a kind*\n",
    "\n",
    "three cards with the same rank\n",
    "\n",
    "*straight*\n",
    "\n",
    "five cards with ranks in sequence (aces can be high or low, so Ace-2-3-4-5 is a straight and so is 10-Jack-Queen-King-Ace, but Queen-King-Ace-2-3 is not.)\n",
    "\n",
    "*flush*\n",
    "\n",
    "five cards with the same suit\n",
    "\n",
    "*full house*\n",
    "\n",
    "three cards with one rank, two cards with another\n",
    "\n",
    "*four of a kind*\n",
    "\n",
    "four cards with the same rank\n",
    "\n",
    "*straight flush*\n",
    "\n",
    "five cards in sequence (as defined above) and with the same suit\n",
    "\n",
    "The goal of this exercise is to estimate the probability of drawing these various hands.\n",
    "\n",
    "1. Add methods named `haspair`, `hastwopair`, etc. that return `true` or `false` according to whether or not the hand meets the relevant criteria. Your code should work correctly for “hands” that contain any number of cards (although 5 and 7 are the most common sizes).\n",
    "\n",
    "2. Write a method named classify that figures out the highest-value classification for a hand and sets the label field accordingly. For example, a 7-card hand might contain a flush and a pair; it should be labeled “flush”.\n",
    "\n",
    "3. When you are convinced that your classification methods are working, the next step is to estimate the probabilities of the various hands. Write a function that shuffles a deck of cards, divides it into hands, classifies the hands, and counts the number of times various classifications appear.\n",
    "\n",
    "4. Print a table of the classifications and their probabilities. Run your program with larger and larger numbers of hands until the output values converge to a reasonable degree of accuracy. Compare your results to the values at https://en.wikipedia.org/wiki/Hand_rankings."
   ]
  },
  {
   "attachments": {},
   "cell_type": "markdown",
   "id": "c4bc3ea0",
   "metadata": {},
   "source": [
    "## Solution"
   ]
  },
  {
   "attachments": {},
   "cell_type": "markdown",
   "id": "2895339f",
   "metadata": {},
   "source": [
    "NO GUARANTEE THAT THE SOLUTION WILL WORK OR WORKS CORRECTLY! USE IT AT\n",
    "YOUR OWN RISK!"
   ]
  },
  {
   "attachments": {},
   "cell_type": "markdown",
   "id": "64af222d",
   "metadata": {},
   "source": [
    "### Imports"
   ]
  },
  {
   "cell_type": "code",
   "execution_count": null,
   "id": "65f319f0",
   "metadata": {},
   "outputs": [],
   "source": [
    "import StatsBase as sb"
   ]
  },
  {
   "attachments": {},
   "cell_type": "markdown",
   "id": "13de2cd1",
   "metadata": {},
   "source": [
    "### Structs"
   ]
  },
  {
   "cell_type": "code",
   "execution_count": null,
   "id": "9e287eef",
   "metadata": {},
   "outputs": [],
   "source": [
    "struct Card\n",
    "    suit :: Int64\n",
    "    rank :: Int64\n",
    "    function Card(suit::Int64, rank::Int64)\n",
    "        @assert(1 ≤ suit ≤ 4, \"suit is not between 1 and 4\")\n",
    "        @assert(1 ≤ rank ≤ 13, \"rank is not between 1 and 13\")\n",
    "        new(suit, rank)\n",
    "    end\n",
    "end"
   ]
  },
  {
   "cell_type": "code",
   "execution_count": null,
   "id": "34098c6f",
   "metadata": {},
   "outputs": [],
   "source": [
    "abstract type CardSet end"
   ]
  },
  {
   "cell_type": "code",
   "execution_count": null,
   "id": "e1994401",
   "metadata": {},
   "outputs": [],
   "source": [
    "struct Deck <: CardSet\n",
    "    cards :: Array{Card, 1}\n",
    "end\n",
    "\n",
    "function Deck()\n",
    "    deck = Deck(Card[])\n",
    "    for suit in 1:4\n",
    "        for rank in 1:13\n",
    "            push!(deck.cards, Card(suit, rank))\n",
    "        end\n",
    "    end\n",
    "    deck\n",
    "end"
   ]
  },
  {
   "cell_type": "code",
   "execution_count": null,
   "id": "95d0f9dc",
   "metadata": {},
   "outputs": [],
   "source": [
    "struct Hand <: CardSet\n",
    "    cards :: Array{Card, 1}\n",
    "    label :: String\n",
    "end\n",
    "\n",
    "function Hand(label::String=\"\")\n",
    "    Hand(Card[], label)\n",
    "end"
   ]
  },
  {
   "attachments": {},
   "cell_type": "markdown",
   "id": "a9294fd4",
   "metadata": {},
   "source": [
    "### Global Variables"
   ]
  },
  {
   "cell_type": "code",
   "execution_count": null,
   "id": "2ea9544b",
   "metadata": {},
   "outputs": [],
   "source": [
    "const suit_names = [\"♣\", \"♦\", \"♥\", \"♠\"]\n",
    "const rank_names = [\"A\", \"2\", \"3\", \"4\", \"5\", \"6\", \"7\", \"8\", \"9\", \"10\", \"J\", \"Q\", \"K\"]\n",
    "const classificationIDs2Labels = Dict(\n",
    "    1 => \"straight flush\",\n",
    "    2 => \"four of a kind\",\n",
    "    3 => \"full house\",\n",
    "    4 => \"flush\",\n",
    "    5 =>\"straight\",\n",
    "    6 =>\"three of a kind\",\n",
    "    7 =>\"two pairs\",\n",
    "    8 => \"pair\",\n",
    "    9 =>\"high card\")"
   ]
  },
  {
   "attachments": {},
   "cell_type": "markdown",
   "id": "05df47ca",
   "metadata": {},
   "source": [
    "### Functions"
   ]
  },
  {
   "cell_type": "code",
   "execution_count": null,
   "id": "c10c6dc2",
   "metadata": {},
   "outputs": [],
   "source": [
    "function Base.show(io::IO, card::Card)\n",
    "    print(io, rank_names[card.rank], suit_names[card.suit])\n",
    "end"
   ]
  },
  {
   "cell_type": "code",
   "execution_count": null,
   "id": "dd0f00eb",
   "metadata": {},
   "outputs": [],
   "source": [
    "function Base.show(io::IO, cs::CardSet)\n",
    "    for card in cs.cards\n",
    "        print(io, card, \" \")\n",
    "    end\n",
    "end"
   ]
  },
  {
   "attachments": {},
   "cell_type": "markdown",
   "id": "bb7828d7",
   "metadata": {},
   "source": [
    "### Functions (solution to task 3.1)"
   ]
  },
  {
   "cell_type": "code",
   "execution_count": null,
   "id": "a2404422",
   "metadata": {},
   "outputs": [],
   "source": [
    "function getCounts(v::Vector{T})::Dict{T,Int} where {T}\n",
    "    result::Dict{T,Int} = Dict()\n",
    "    for elt in v\n",
    "        result[elt] = get(result, elt, 0) + 1\n",
    "    end\n",
    "    return result\n",
    "end\n",
    "\n",
    "function getRanks(cs::CardSet)::Vector{Int}\n",
    "    return map(c -> c.rank, cs.cards)\n",
    "end\n",
    "\n",
    "function getSuits(cs::CardSet)::Vector{Int}\n",
    "    return map(c -> c.suit, cs.cards)\n",
    "end\n",
    "\n",
    "function hasNOfAkind(hand::Hand, n::Int, ranks::Bool = true)::Bool\n",
    "    @assert 1 < n < 6 \"n must be between 2 and 5\"\n",
    "    theCounts::Dict{Int, Int} = getCounts(ranks ? getRanks(hand) : getSuits(hand))\n",
    "    return any(v -> v == n, values(theCounts))\n",
    "end\n",
    "\n",
    "function hasPair(hand::Hand)::Bool\n",
    "    return hasNOfAkind(hand, 2)\n",
    "end\n",
    "\n",
    "function hasTwoPairs(hand::Hand)::Bool\n",
    "    rankCounts::Dict{Int, Int} = getCounts(getRanks(hand))\n",
    "    twoPairs::Dict{Int, Int} = Dict(k => v for(k, v) in rankCounts if v == 2)\n",
    "    return length(twoPairs) == 2\n",
    "end\n",
    "\n",
    "function hasThreeOfAKind(hand::Hand)::Bool\n",
    "    return hasNOfAkind(hand, 3)\n",
    "end\n",
    "\n",
    "function hasAKQJ10(h::Hand)::Bool\n",
    "    theCounts::Dict{Int, Int} = getCounts(getRanks(h))\n",
    "    for rank in [10, 11, 12, 13, 1]\n",
    "        if !haskey(theCounts, rank)\n",
    "            return false\n",
    "        end\n",
    "    end\n",
    "    return true\n",
    "end\n",
    "\n",
    "function isInAscOrder(v::Vector{Int})::Bool\n",
    "    vectInConseqOrd::UnitRange{Int} = v[1]:v[1]+length(v)-1\n",
    "    return all(map((x, y) -> x == y, v, vectInConseqOrd))\n",
    "end\n",
    "\n",
    "function isInAscOrder(v::Vector{Int}, lenInOrder::Int)::Bool\n",
    "    if length(v) < lenInOrder\n",
    "        return false\n",
    "    end\n",
    "    for i in 1:length(v)-(lenInOrder-1)\n",
    "        if isInAscOrder(v[i:i+(lenInOrder-1)])\n",
    "            return true\n",
    "        end\n",
    "    end\n",
    "    return false\n",
    "end\n",
    "\n",
    "function hasStraight(h::Hand)::Bool\n",
    "    return hasAKQJ10(h) || isInAscOrder(sort(getRanks(h)), 5)\n",
    "end\n",
    "\n",
    "function hasFlush(hand::Hand)::Bool\n",
    "    return hasNOfAkind(hand, 5, false)\n",
    "end\n",
    "\n",
    "function hasFullHouse(hand::Hand)::Bool\n",
    "    return hasPair(hand) && hasThreeOfAKind(hand)\n",
    "end\n",
    "\n",
    "function hasFourOfAKind(hand::Hand)::Bool\n",
    "    return hasNOfAkind(hand, 4)\n",
    "end\n",
    "\n",
    "function getDominantSuit(hand::Hand)::Int\n",
    "    suitsCounts::Dict{Int, Int} = getCounts(getSuits(hand))\n",
    "    suitsMode::Int = maximum(values(suitsCounts)) \n",
    "    return [k for (k, v) in suitsCounts if v == suitsMode][1]\n",
    "end\n",
    "\n",
    "function hasStraightFlush(hand::Hand)::Bool\n",
    "    if hasFlush(hand)\n",
    "        dominantSuit::Int = getDominantSuit(hand)\n",
    "        cards::Vector{Card} = [c for c in hand.cards if c.suit == dominantSuit]\n",
    "        return hasStraight(Hand(cards, \"\"))\n",
    "    else\n",
    "        return false\n",
    "    end\n",
    "end"
   ]
  },
  {
   "attachments": {},
   "cell_type": "markdown",
   "id": "2c4f462d",
   "metadata": {},
   "source": [
    "### Functions (solution to task 3.2)"
   ]
  },
  {
   "cell_type": "code",
   "execution_count": null,
   "id": "6aa37f29",
   "metadata": {},
   "outputs": [],
   "source": [
    "function classify(hand)::Int\n",
    "    return (\n",
    "        hasStraightFlush(hand) ? 1 :\n",
    "        hasFourOfAKind(hand) ? 2 :\n",
    "        hasFullHouse(hand) ? 3 :\n",
    "        hasFlush(hand) ? 4 :\n",
    "        hasStraight(hand) ? 5 :\n",
    "        hasThreeOfAKind(hand) ? 6 :\n",
    "        hasTwoPairs(hand) ? 7 :\n",
    "        hasPair(hand) ? 8 :\n",
    "        9\n",
    "    )\n",
    "end"
   ]
  },
  {
   "attachments": {},
   "cell_type": "markdown",
   "id": "7aafe49d",
   "metadata": {},
   "source": [
    "### Functions (solution to task 3.3 and task 3.4)"
   ]
  },
  {
   "cell_type": "code",
   "execution_count": null,
   "id": "eb30bce5",
   "metadata": {},
   "outputs": [],
   "source": [
    "function getRandHand(deck::Deck, cardsInHand::Int=5)::Hand\n",
    "    return Hand(sb.sample(deck.cards, cardsInHand; replace=false), \"\")\n",
    "end\n",
    "\n",
    "function getNHandsClassifications(n::Int=1_000_000, cardsInHand::Int=5)::Vector{Int}\n",
    "    @assert n > 0 \"n must be positive integer\"\n",
    "    result::Vector{Int} = zeros(n)\n",
    "    deck::Deck = Deck()\n",
    "    for i in 1:n\n",
    "        result[i] = classify(getRandHand(deck, cardsInHand))\n",
    "    end\n",
    "    return result\n",
    "end\n",
    "\n",
    "function getProbabilities(counts::Dict{T, Int})::Dict{T, Float64} where T\n",
    "    total::Int = sum(values(counts))\n",
    "    return Dict(k => v/total for (k, v) in counts)\n",
    "end\n"
   ]
  },
  {
   "attachments": {},
   "cell_type": "markdown",
   "id": "f8866cb1",
   "metadata": {},
   "source": [
    "## Testing"
   ]
  },
  {
   "attachments": {},
   "cell_type": "markdown",
   "id": "e9df9bf0",
   "metadata": {},
   "source": [
    "### Five Card poker hands\n",
    "\n",
    "Compare with a table found here: https://en.wikipedia.org/wiki/Poker_probability#5-card_poker_hands "
   ]
  },
  {
   "cell_type": "code",
   "execution_count": null,
   "id": "5d074d7c",
   "metadata": {},
   "outputs": [],
   "source": [
    "hands5classifications = getNHandsClassifications(1_000_000, 5)\n",
    "hands5counts = getCounts(hands5classifications)\n",
    "hands5probabilities = getProbabilities(hands5counts)\n",
    "\n",
    "for (k, v) in sort(hands5probabilities)\n",
    "    println(\"$(classificationIDs2Labels[k]): $(round(v*100, digits=5))%\")\n",
    "end"
   ]
  },
  {
   "attachments": {},
   "cell_type": "markdown",
   "id": "2b45fa6e",
   "metadata": {},
   "source": [
    "### Seven Card poker hands\n",
    "\n",
    "Compare with a table found here: https://en.wikipedia.org/wiki/Poker_probability#7-card_poker_hands"
   ]
  },
  {
   "cell_type": "code",
   "execution_count": null,
   "id": "eb02b568",
   "metadata": {},
   "outputs": [],
   "source": [
    "hands7classifications = getNHandsClassifications(100_000, 7)\n",
    "hands7counts = getCounts(hands7classifications)\n",
    "hands7probabilities = getProbabilities(hands7counts)\n",
    "\n",
    "for (k, v) in sort(hands7probabilities)\n",
    "    println(\"$(classificationIDs2Labels[k]): $(round(v*100, digits=5))%\")\n",
    "end"
   ]
  },
  {
   "attachments": {},
   "cell_type": "markdown",
   "id": "9196b7e2",
   "metadata": {},
   "source": [
    "#### Note\n",
    "\n",
    "All the probabilities calculated for 5 card poker hands seem to be OK. \n",
    "\n",
    "In the case of seven card poker hands the probability for straight seems to be a bit too low (the rest of the estimates are more or less OK).\n",
    "\n",
    "I'm not sure why, the code for `hasStraingt` seems to be written correctly (the way I understand the rules based on the task description).\n",
    "\n",
    "Perhaps \"(aces can be high or low, so Ace-2-3-4-5 is a straight and so is 10-Jack-Queen-King-Ace, but Queen-King-Ace-2-3 is not)\" from the task description means that, e.g. Ace-5-6-7-8 or 7-8-9-10-Ace should be also treated as Straights? But that would be weird. Since it is just an exercise I think I'll stop digging and leave it as it is."
   ]
  }
 ],
 "metadata": {
  "kernelspec": {
   "display_name": "Julia 1.8.3",
   "language": "julia",
   "name": "julia-1.8"
  },
  "language_info": {
   "file_extension": ".jl",
   "mimetype": "application/julia",
   "name": "julia",
   "version": "1.8.3"
  },
  "name": "task1.ipynb"
 },
 "nbformat": 4,
 "nbformat_minor": 5
}
