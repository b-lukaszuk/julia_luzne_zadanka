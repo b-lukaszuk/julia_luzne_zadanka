{
  "cells": [
    {
      "cell_type": "markdown",
      "metadata": {},
      "source": [
        "# Chapter 4. Estimating Proportions\n",
        "[Link to chapter online](https://allendowney.github.io/ThinkBayes2/chap04.html)\n",
        "\n",
        "A reminder of Bayes’s Theorem:\n",
        "\n",
        "$P(A|B) = \\frac{P(A)P(B|A)}{P(B)}$\n",
        "\n",
        "or\n",
        "\n",
        "$P(H|D) = \\frac{P(H)P(D|H)}{P(D)}$"
      ]
    },
    {
      "cell_type": "markdown",
      "metadata": {},
      "source": [
        "## Warning\n",
        "\n",
        "The content of this file may be incorrect, erroneous and/or harmful. Use it at Your own risk."
      ]
    },
    {
      "cell_type": "markdown",
      "metadata": {},
      "source": [
        "## Imports"
      ]
    },
    {
      "cell_type": "code",
      "execution_count": null,
      "metadata": {},
      "outputs": [],
      "source": [
        "import CairoMakie as Cmk\n",
        "import Distributions as Dsts"
      ]
    },
    {
      "cell_type": "code",
      "execution_count": null,
      "metadata": {},
      "outputs": [],
      "source": [
        "include(\"pmf.jl\")\n",
        "import .ProbabilityMassFunction as Pmf"
      ]
    },
    {
      "cell_type": "markdown",
      "metadata": {},
      "source": [
        "## The Euro Problem\n",
        "\n",
        "In Information Theory, Inference, and Learning Algorithms, David MacKay poses this problem:\n",
        "\n",
        "“A statistical statement appeared in The Guardian on Friday January 4, 2002:\n",
        "\n",
        "> When spun on edge 250 times, a Belgian one-euro coin came up heads 140 times\n",
        "> and tails 110. \"It looks very suspicious to me\", said Barry Blight, a statistics\n",
        "> lecturer at the London School of Economics. \"If the coin were unbiased, the\n",
        "> chance of getting a result as extreme as that would be less than 7%.\"\n",
        "\n",
        "“But [MacKay asks] do these data give evidence that the coin is biased rather than fair?”\n",
        "\n",
        "\n"
      ]
    },
    {
      "cell_type": "markdown",
      "metadata": {},
      "source": [
        "## The Binomial Distribution\n",
        "\n",
        "The probability that we get a total of $k$ heads is given by the [binomial distribution](https://en.wikipedia.org/wiki/Binomial_distribution):\n",
        "\n",
        "$\\binom{n}{k}*p^{k}*(1-p)^{n-k}$\n",
        "\n",
        "for any value of $k$ from 0 to $n$, including both.\n",
        "\n",
        "The term $\\binom{n}{k}$ is the binomial coefficient, usually pronounced “n choose k”.\n",
        "\n",
        "We could evaluate the expression ourselves or use a library, like so"
      ]
    },
    {
      "cell_type": "code",
      "execution_count": null,
      "metadata": {},
      "outputs": [],
      "source": [
        "n = 2\n",
        "p = 0.5\n",
        "k = 1\n",
        "\n",
        "Dsts.pdf(Dsts.Binomial(n, p), k) |> x -> round(x, digits=3)"
      ]
    },
    {
      "cell_type": "markdown",
      "metadata": {},
      "source": [
        "We can also use multiple values of $k$ with the functions"
      ]
    },
    {
      "cell_type": "code",
      "execution_count": null,
      "metadata": {},
      "outputs": [],
      "source": [
        "ks = 0:1:n |> collect\n",
        "ps = Dsts.pdf.(Dsts.Binomial(n, p))\n",
        "ps = map(x -> round(x, digits=3), ps)\n",
        "ps"
      ]
    },
    {
      "cell_type": "markdown",
      "metadata": {},
      "source": [
        "We can put these probabilities in a `Pmf`"
      ]
    },
    {
      "cell_type": "code",
      "execution_count": null,
      "metadata": {},
      "outputs": [],
      "source": [
        "pmfK = Pmf.Pmf(ks, ps)\n",
        "pmfK"
      ]
    },
    {
      "cell_type": "markdown",
      "metadata": {},
      "source": [
        "Here's what it looks like with `n=250` and `p=0.5`:"
      ]
    },
    {
      "cell_type": "code",
      "execution_count": null,
      "metadata": {},
      "outputs": [],
      "source": [
        "pmfK = Pmf.getBinomialPmf(250, 0.5)"
      ]
    },
    {
      "cell_type": "code",
      "execution_count": null,
      "metadata": {},
      "outputs": [],
      "source": [
        "fig = Pmf.drawLinesPriors(pmfK,\n",
        "    \"Binomial Distribution (n=250, p=0.5)\",\n",
        "    \"Number of heads (k)\",\n",
        "    \"PMF\"\n",
        "    )\n",
        "fig"
      ]
    },
    {
      "cell_type": "code",
      "execution_count": null,
      "metadata": {},
      "outputs": [],
      "source": [
        "Pmf.getNameMaxPrior(pmfK)"
      ]
    },
    {
      "cell_type": "code",
      "execution_count": null,
      "metadata": {},
      "outputs": [],
      "source": [
        "# (125 + 1) because Julia's indexing starts at 1\n",
        "pmfK.priors[126]"
      ]
    },
    {
      "cell_type": "markdown",
      "metadata": {},
      "source": [
        "In MacKay's example, we got 140 heads, which is even less liekly than 125:"
      ]
    },
    {
      "cell_type": "code",
      "execution_count": null,
      "metadata": {},
      "outputs": [],
      "source": [
        "# (140 + 1) because Julia's indexing starts at 1\n",
        "pmfK.priors[141]"
      ]
    },
    {
      "cell_type": "code",
      "execution_count": null,
      "metadata": {},
      "outputs": [],
      "source": [
        "Pmf.getTotalProbGEName(pmfK, \"priors\", 140)"
      ]
    },
    {
      "cell_type": "markdown",
      "metadata": {},
      "source": [
        "The result is about 3.3%, which is less than the quoted 7%. The reason for the difference is that the statistician includes all outcomes “as extreme as” 140, which includes outcomes less than or equal to 110. (two tailed probability)"
      ]
    },
    {
      "cell_type": "code",
      "execution_count": null,
      "metadata": {},
      "outputs": [],
      "source": [
        "Pmf.getTotalProbGEName(pmfK, \"priors\", 140) * 2"
      ]
    },
    {
      "cell_type": "code",
      "execution_count": null,
      "metadata": {},
      "outputs": [],
      "source": [
        "# alternative solution (without Pmf)\n",
        "Dsts.cdf(Dsts.Binomial(250, 0.5), 110) +\n",
        "Dsts.ccdf(Dsts.Binomial(250, 0.5), 139)\n",
        "# or just\n",
        "# Dsts.cdf(Dsts.Binomial(250, 0.5), 110) * 2"
      ]
    },
    {
      "cell_type": "markdown",
      "metadata": {},
      "source": [
        "## Bayesian Estimation"
      ]
    },
    {
      "cell_type": "code",
      "execution_count": null,
      "metadata": {},
      "outputs": [],
      "source": [
        "# coins with different probs of getting heads\n",
        "coins = Pmf.getPmfFromSeq(range(0, 1, 101) |> collect)"
      ]
    },
    {
      "cell_type": "code",
      "execution_count": null,
      "metadata": {},
      "outputs": [],
      "source": [
        "likelihoodHeads = copy(coins.names)\n",
        "likelihoodTails = 1 .- likelihoodHeads\n",
        "\n",
        "likelihoodMapping = Dict(\n",
        "   'h' => likelihoodHeads,\n",
        "   't' => likelihoodTails\n",
        ")"
      ]
    },
    {
      "cell_type": "code",
      "execution_count": null,
      "metadata": {},
      "outputs": [],
      "source": [
        "dataset = \"h\" ^ 140 * \"t\" ^ 110"
      ]
    },
    {
      "cell_type": "code",
      "execution_count": null,
      "metadata": {},
      "outputs": [],
      "source": [
        "\"\"\"\n",
        "    Update pmf with a given sequence of h and t\n",
        "\"\"\"\n",
        "function updateEuro!(\n",
        "    coins::Pmf.Pmf{T},\n",
        "    dataset::String,\n",
        "    probMapping::Dict{Char,Vector{Float64}}) where {T<:Union{Int,String,Float64}}\n",
        "\n",
        "    coins.likelihoods .= 1\n",
        "    for data in dataset\n",
        "        coins.likelihoods .*= probMapping[data]\n",
        "    end\n",
        "    Pmf.updatePosteriors!(coins, true)\n",
        "\n",
        "    return nothing\n",
        "\n",
        "end"
      ]
    },
    {
      "cell_type": "code",
      "execution_count": null,
      "metadata": {},
      "outputs": [],
      "source": [
        "updateEuro!(coins, dataset, likelihoodMapping)"
      ]
    },
    {
      "cell_type": "code",
      "execution_count": null,
      "metadata": {},
      "outputs": [],
      "source": [
        "fig = Pmf.drawLinesPosteriors(coins,\n",
        "    \"Binomial Distribution (n=250, p=0.5),\\n140/250 heads\",\n",
        "    \"Number of heads (k)\",\n",
        "    \"PMF\"\n",
        "    )\n",
        "fig"
      ]
    },
    {
      "cell_type": "code",
      "execution_count": null,
      "metadata": {},
      "outputs": [],
      "source": [
        "# index of coins with max priors\n",
        "Pmf.getIndMaxPosterior(coins)"
      ]
    },
    {
      "cell_type": "code",
      "execution_count": null,
      "metadata": {},
      "outputs": [],
      "source": [
        "# value for heads with max priors\n",
        "Pmf.getNameMaxPosterior(coins)"
      ]
    },
    {
      "cell_type": "markdown",
      "metadata": {},
      "source": [
        "## Triangle prior\n",
        "\n",
        "Comparison between two priors:\n",
        "- uniform\n",
        "- triangle shaped"
      ]
    },
    {
      "cell_type": "code",
      "execution_count": null,
      "metadata": {},
      "outputs": [],
      "source": [
        "uniform = Pmf.getPmfFromSeq(range(0, 1, 101) |> collect)"
      ]
    },
    {
      "cell_type": "code",
      "execution_count": null,
      "metadata": {},
      "outputs": [],
      "source": [
        "shape = vcat(0:49, 50:-1:0)\n",
        "shape = shape ./ sum(shape)\n",
        "triangle = Pmf.Pmf(range(0, 1, 101) |> collect, shape)"
      ]
    },
    {
      "cell_type": "code",
      "execution_count": null,
      "metadata": {},
      "outputs": [],
      "source": [
        "fig = Cmk.Figure(size=(600, 400))\n",
        "Cmk.lines(fig[1, 1], uniform.names, uniform.priors,\n",
        "    color=\"blue\",\n",
        "    axis=(;\n",
        "        title=\"Uniform and triangle distributions\",\n",
        "        xlabel=\"Proportion of heads (x)\",\n",
        "        ylabel=\"Probability\")\n",
        "    )\n",
        "Cmk.lines!(fig[1, 1], triangle.names, triangle.priors, color=\"orange\")\n",
        "fig"
      ]
    },
    {
      "cell_type": "code",
      "execution_count": null,
      "metadata": {},
      "outputs": [],
      "source": [
        "updateEuro!(uniform, dataset, likelihoodMapping);\n",
        "updateEuro!(triangle, dataset, likelihoodMapping);"
      ]
    },
    {
      "cell_type": "code",
      "execution_count": null,
      "metadata": {},
      "outputs": [],
      "source": [
        "fig = Cmk.Figure(size=(600, 400))\n",
        "Cmk.lines(fig[1, 1], uniform.names, uniform.posteriors,\n",
        "    color=\"blue\",\n",
        "    axis=(;\n",
        "        title=\"Uniform and triangle distributions\",\n",
        "        xlabel=\"Proportion of heads (x)\",\n",
        "        ylabel=\"Probability\")\n",
        "    )\n",
        "Cmk.lines!(fig[1, 1], triangle.names, triangle.posteriors, color=\"orange\")\n",
        "fig"
      ]
    },
    {
      "cell_type": "markdown",
      "metadata": {},
      "source": [
        "This is an example of **swamping the priors**: with enough data, people who start with different priors will tend to converge on the same posterior distribution."
      ]
    },
    {
      "cell_type": "markdown",
      "id": "ec928bc3",
      "metadata": {},
      "source": [
        "## The Binomial Likelihood Function\n",
        "\n",
        "We've been updating likelihood one result of the experiment at a time, a better option is to do it in one go."
      ]
    },
    {
      "cell_type": "code",
      "execution_count": null,
      "id": "bf624d79",
      "metadata": {},
      "outputs": [],
      "source": [
        "\"\"\"\n",
        "    Update a binomial Pmf.\n",
        "    n - number of trials\n",
        "    k - number of success\n",
        "\"\"\"\n",
        "function updateBinomial!(pmf::Pmf.Pmf{T}, k::Int, n::Int) where T<:Union{Int, Float64}\n",
        "    @assert (k <= n) \"k must be <= n\"\n",
        "    xs::Vector{T} = pmf.names\n",
        "    likelihoods::Vector{Float64} = Dsts.pdf.(Dsts.Binomial.(n, xs), k)\n",
        "    Pmf.setLikelihoods!(pmf, likelihoods)\n",
        "    Pmf.updatePosteriors!(pmf, true)\n",
        "    return nothing\n",
        "end"
      ]
    },
    {
      "cell_type": "code",
      "execution_count": null,
      "id": "37de80e7",
      "metadata": {},
      "outputs": [],
      "source": [
        "uniform2 = Pmf.getPmfFromSeq(range(0, 1, 101) |> collect)\n",
        "k, n = 140, 250\n",
        "updateBinomial!(uniform2, k, n)"
      ]
    },
    {
      "cell_type": "code",
      "execution_count": null,
      "id": "768271ff",
      "metadata": {},
      "outputs": [],
      "source": [
        "Pmf.drawLinesPosteriors(\n",
        "    uniform2,\n",
        "    \"Binomial Distribution 140/250 heads\",\n",
        "    \"Coin probs of getting heads\",\n",
        "    \"Likeliehoods\"\n",
        ")"
      ]
    },
    {
      "cell_type": "code",
      "execution_count": null,
      "id": "2160245e",
      "metadata": {},
      "outputs": [],
      "source": [
        "Pmf.getNameMaxPosterior(uniform2)"
      ]
    },
    {
      "cell_type": "markdown",
      "id": "f16ab10c",
      "metadata": {},
      "source": [
        "## Bayesian Statistics"
      ]
    },
    {
      "cell_type": "markdown",
      "id": "6c2a0104",
      "metadata": {},
      "source": [
        "In the Euro problem, the choice of the prior is subjective; that is, reasonable\n",
        "people could disagree, maybe because they have different information about coins\n",
        "or because they interpret the same information differently.\n",
        "\n",
        "Because the priors are subjective, the posteriors are subjective, too. And some\n",
        "people find that problematic.\n",
        "\n",
        "Bayes’s Theorem is a mathematical law of probability; no reasonable person\n",
        "objects to it. But Bayesian statistics is surprisingly controversial.\n",
        "Historically, many people have been bothered by its subjectivity and its use of\n",
        "probability for things that are not random."
      ]
    },
    {
      "cell_type": "markdown",
      "id": "cfd6fa5e",
      "metadata": {},
      "source": [
        "## Exercises"
      ]
    },
    {
      "cell_type": "markdown",
      "id": "1f838938",
      "metadata": {},
      "source": [
        "### Exercise 1\n",
        "\n",
        "In Major League Baseball, most players have a batting average between .200 and\n",
        ".330, which means that their probability of getting a hit is between 0.2 and\n",
        "0.33.\n",
        "\n",
        "Suppose a player appearing in their first game gets 3 hits out of 3 attempts.\n",
        "What is the posterior distribution for their probability of getting a hit?\n",
        "\n",
        "Let's start with a uniform distribution."
      ]
    },
    {
      "cell_type": "code",
      "execution_count": null,
      "id": "71416142",
      "metadata": {},
      "outputs": [],
      "source": [
        "ex1Hypos = range(0.1, 0.4, 101) |> collect\n",
        "ex1 = Pmf.getPmfFromSeq(ex1Hypos)"
      ]
    },
    {
      "cell_type": "code",
      "execution_count": null,
      "id": "4fed3831",
      "metadata": {},
      "outputs": [],
      "source": [
        "# y - getting a hit\n",
        "# n - not getting a hit\n",
        "ex1LikelihoodMap = Dict(\n",
        "    'y' => ex1Hypos,\n",
        "    'n' => 1 .- ex1Hypos\n",
        ")"
      ]
    },
    {
      "cell_type": "code",
      "execution_count": null,
      "id": "261ae3ea",
      "metadata": {},
      "outputs": [],
      "source": [
        "# a dataset with a reasonable prior distribution\n",
        "ex1Dataset = \"y\" ^ 25 * \"n\" ^ 75"
      ]
    },
    {
      "cell_type": "code",
      "execution_count": null,
      "id": "7e329309",
      "metadata": {},
      "outputs": [],
      "source": [
        "updateEuro!(ex1, ex1Dataset, ex1LikelihoodMap)"
      ]
    },
    {
      "cell_type": "code",
      "execution_count": null,
      "id": "6bb491b9",
      "metadata": {},
      "outputs": [],
      "source": [
        "Pmf.drawLinesPosteriors(\n",
        "    ex1,\n",
        "    \"Exercise 1. Baseball\",\n",
        "    \"Probability of getting a hit\",\n",
        "    \"PMF\"\n",
        "    )"
      ]
    },
    {
      "cell_type": "markdown",
      "id": "22cf749e",
      "metadata": {},
      "source": [
        "Now, the task.\n",
        "\n",
        "Update this distributiuon with the data (I assume it's 3 out of 3 hits) and plot the posterior. What is the most\n",
        "likely quantity in the posterior distribution?"
      ]
    },
    {
      "cell_type": "code",
      "execution_count": null,
      "id": "d5b31c6b",
      "metadata": {},
      "outputs": [],
      "source": [
        "ex1Pmf = Pmf.Pmf(ex1.names |> copy, ex1.posteriors |> copy)"
      ]
    },
    {
      "cell_type": "code",
      "execution_count": null,
      "id": "3a7fcc4d",
      "metadata": {},
      "outputs": [],
      "source": [
        "updateEuro!(ex1Pmf, \"yyy\", ex1LikelihoodMap)"
      ]
    },
    {
      "cell_type": "code",
      "execution_count": null,
      "id": "d21a45e5",
      "metadata": {},
      "outputs": [],
      "source": [
        "fig = Cmk.Figure()\n",
        "ax1, l1 = Cmk.lines(fig[1, 1],\n",
        "    ex1.names,\n",
        "    ex1.posteriors,\n",
        "    color=\"navy\",\n",
        "    axis=(;\n",
        "        title=\"Exercise 1. Baseball\",\n",
        "        xlabel=\"Probability of getting a hit\",\n",
        "        ylabel=\"PMF\"\n",
        "    )\n",
        ")\n",
        "l2 = Cmk.lines!(fig[1, 1],\n",
        "    ex1Pmf.names,\n",
        "    ex1Pmf.posteriors,\n",
        "    color=\"red\"\n",
        ")\n",
        "Cmk.axislegend(\n",
        "    ax1,\n",
        "    [l1, l2],\n",
        "    [\"priors\", \"posteriors\"],\n",
        "    position=:rt\n",
        ")\n",
        "fig"
      ]
    },
    {
      "cell_type": "code",
      "execution_count": null,
      "id": "dd138d20",
      "metadata": {},
      "outputs": [],
      "source": [
        "Pmf.getNameMaxPosterior(ex1),\n",
        "Pmf.getNameMaxPosterior(ex1Pmf)"
      ]
    },
    {
      "cell_type": "code",
      "execution_count": null,
      "id": "85b9dccd",
      "metadata": {},
      "outputs": [],
      "source": [
        "maximum(ex1.posteriors),\n",
        "maximum(ex1Pmf.posteriors)"
      ]
    },
    {
      "cell_type": "markdown",
      "id": "b545a535",
      "metadata": {},
      "source": [
        "### Exercise 2\n",
        "\n",
        "Whenever you survey people about sensitive issues, you have to deal with [social\n",
        "desirability](https://en.wikipedia.org/wiki/Social-desirability_bias) bias,\n",
        "which is the tendency of people to adjust their answers to show themselves in\n",
        "the most positive light. One way to improve the accuracy of the results is\n",
        "[randomized response](https://en.wikipedia.org/wiki/Randomized_response).\n",
        "\n",
        "As an example, suppose you want to know how many people cheat on their taxes. If\n",
        "you ask them directly, it is likely that some of the cheaters will lie. You can\n",
        "get a more accurate estimate if you ask them indirectly, like this: Ask each\n",
        "person to flip a coin and, without revealing the outcome,\n",
        "- If they get heads, they report YES.\n",
        "- If they get tails, they honestly answer the question “Do you cheat on your\n",
        "taxes?”\n",
        "\n",
        "[...]\n",
        "\n",
        "Suppose you survey 100 people this way and get 80 YESes and 20 NOs. Based on\n",
        "this data, what is the posterior distribution for the fraction of people who\n",
        "cheat on their taxes? What is the most likely quantity in the posterior\n",
        "distribution?"
      ]
    }
  ],
  "metadata": {
    "kernelspec": {
      "display_name": "Julia 1.9.3",
      "language": "julia",
      "name": "julia-1.9"
    },
    "language_info": {
      "file_extension": ".jl",
      "mimetype": "application/julia",
      "name": "julia",
      "version": "1.9.3"
    },
    "name": "Untitled.ipynb"
  },
  "nbformat": 4,
  "nbformat_minor": 5
}
