{
 "cells": [
  {
   "attachments": {},
   "cell_type": "markdown",
   "id": "0afe05a3",
   "metadata": {},
   "source": [
    "# Task 2\n",
    "\n",
    "## Original exercise number\n",
    "\n",
    "Exercise 18-4\n",
    "\n",
    "## Description\n",
    "\n",
    "Write a method called `deal!` that takes three parameters, a `Deck`, the number of hands and the number of cards per hand. It should create the appropriate number of `Hand` objects, deal the appropriate number of cards per hand, and return an array of +Hand+s."
   ]
  },
  {
   "attachments": {},
   "cell_type": "markdown",
   "id": "c4bc3ea0",
   "metadata": {},
   "source": [
    "## Solution"
   ]
  },
  {
   "attachments": {},
   "cell_type": "markdown",
   "id": "2895339f",
   "metadata": {},
   "source": [
    "NO GUARANTEE THAT THE SOLUTION WILL WORK OR WORKS CORRECTLY! USE IT AT\n",
    "YOUR OWN RISK!"
   ]
  },
  {
   "attachments": {},
   "cell_type": "markdown",
   "id": "64af222d",
   "metadata": {},
   "source": [
    "### Imports"
   ]
  },
  {
   "cell_type": "code",
   "execution_count": null,
   "id": "c3db5e4c",
   "metadata": {},
   "outputs": [],
   "source": [
    "using Random"
   ]
  },
  {
   "attachments": {},
   "cell_type": "markdown",
   "id": "13de2cd1",
   "metadata": {},
   "source": [
    "### Structs"
   ]
  },
  {
   "cell_type": "code",
   "execution_count": null,
   "id": "9e287eef",
   "metadata": {},
   "outputs": [],
   "source": [
    "struct Card\n",
    "    suit :: Int64\n",
    "    rank :: Int64\n",
    "    function Card(suit::Int64, rank::Int64)\n",
    "        @assert(1 ≤ suit ≤ 4, \"suit is not between 1 and 4\")\n",
    "        @assert(1 ≤ rank ≤ 13, \"rank is not between 1 and 13\")\n",
    "        new(suit, rank)\n",
    "    end\n",
    "end"
   ]
  },
  {
   "cell_type": "code",
   "execution_count": null,
   "id": "34098c6f",
   "metadata": {},
   "outputs": [],
   "source": [
    "abstract type CardSet end"
   ]
  },
  {
   "cell_type": "code",
   "execution_count": null,
   "id": "e1994401",
   "metadata": {},
   "outputs": [],
   "source": [
    "struct Deck <: CardSet\n",
    "    cards :: Array{Card, 1}\n",
    "end\n",
    "\n",
    "function Deck()\n",
    "    deck = Deck(Card[])\n",
    "    for suit in 1:4\n",
    "        for rank in 1:13\n",
    "            push!(deck.cards, Card(suit, rank))\n",
    "        end\n",
    "    end\n",
    "    deck\n",
    "end"
   ]
  },
  {
   "cell_type": "code",
   "execution_count": null,
   "id": "95d0f9dc",
   "metadata": {},
   "outputs": [],
   "source": [
    "struct Hand <: CardSet\n",
    "    cards :: Array{Card, 1}\n",
    "    label :: String\n",
    "end\n",
    "\n",
    "function Hand(label::String=\"\")\n",
    "    Hand(Card[], label)\n",
    "end"
   ]
  },
  {
   "attachments": {},
   "cell_type": "markdown",
   "id": "a9294fd4",
   "metadata": {},
   "source": [
    "### Global Variables"
   ]
  },
  {
   "cell_type": "code",
   "execution_count": null,
   "id": "2ea9544b",
   "metadata": {},
   "outputs": [],
   "source": [
    "const suit_names = [\"♣\", \"♦\", \"♥\", \"♠\"]\n",
    "const rank_names = [\"A\", \"2\", \"3\", \"4\", \"5\", \"6\", \"7\", \"8\", \"9\", \"10\", \"J\", \"Q\", \"K\"]"
   ]
  },
  {
   "attachments": {},
   "cell_type": "markdown",
   "id": "05df47ca",
   "metadata": {},
   "source": [
    "### Functions"
   ]
  },
  {
   "cell_type": "code",
   "execution_count": null,
   "id": "c10c6dc2",
   "metadata": {},
   "outputs": [],
   "source": [
    "function Base.show(io::IO, card::Card)\n",
    "    print(io, rank_names[card.rank], suit_names[card.suit])\n",
    "end"
   ]
  },
  {
   "cell_type": "code",
   "execution_count": null,
   "id": "dd0f00eb",
   "metadata": {},
   "outputs": [],
   "source": [
    "function Base.show(io::IO, cs::CardSet)\n",
    "    for card in cs.cards\n",
    "        print(io, card, \" \")\n",
    "    end\n",
    "end"
   ]
  },
  {
   "cell_type": "code",
   "execution_count": null,
   "id": "e26a8bde",
   "metadata": {},
   "outputs": [],
   "source": [
    "# I assume this is the function isless from the task description\n",
    "function Base.:<(c1::Card, c2::Card)\n",
    "    (c1.suit, c1.rank) < (c2.suit, c2.rank)\n",
    "end"
   ]
  },
  {
   "cell_type": "code",
   "execution_count": null,
   "id": "db3d4aae",
   "metadata": {},
   "outputs": [],
   "source": [
    "function Base.pop!(cs::CardSet)\n",
    "    pop!(cs.cards)\n",
    "end"
   ]
  },
  {
   "cell_type": "code",
   "execution_count": null,
   "id": "5397bdf9",
   "metadata": {},
   "outputs": [],
   "source": [
    "function Base.push!(cs::CardSet, card::Card)\n",
    "    push!(cs.cards, card)\n",
    "    nothing\n",
    "end"
   ]
  },
  {
   "cell_type": "code",
   "execution_count": null,
   "id": "8a7fb4de",
   "metadata": {},
   "outputs": [],
   "source": [
    "function Random.shuffle!(deck::Deck)\n",
    "    shuffle!(deck.cards)\n",
    "    deck\n",
    "end"
   ]
  },
  {
   "cell_type": "code",
   "execution_count": null,
   "id": "6fc4818c",
   "metadata": {},
   "outputs": [],
   "source": [
    "function Base.sort!(hand::Hand)\n",
    "    sort!(hand.cards, lt=Base.:<)\n",
    "end"
   ]
  },
  {
   "cell_type": "code",
   "execution_count": null,
   "id": "d7507b70",
   "metadata": {},
   "outputs": [],
   "source": [
    "function move!(cs1::CardSet, cs2::CardSet, n::Int)\n",
    "    @assert 1 ≤ n ≤ length(cs1.cards)\n",
    "    for i in 1:n\n",
    "        card = pop!(cs1)\n",
    "        push!(cs2, card)\n",
    "    end\n",
    "    nothing\n",
    "end"
   ]
  },
  {
   "cell_type": "code",
   "execution_count": null,
   "id": "36e0cead",
   "metadata": {},
   "outputs": [],
   "source": [
    "function deal!(deck::Deck, noOfHands::Int, cardsPerHand::Int)::Vector{Hand}\n",
    "    @assert (noOfHands >= 1) \"number of hands needs to be >= 1\"\n",
    "    @assert (cardsPerHand >= 1) \"number of cards per hand needs to be >= 1\"\n",
    "    @assert (noOfHands * cardsPerHand <= length(deck.cards)) \"not enough cards in deck\"\n",
    "    hands::Vector{Hand} = []\n",
    "    tmp::Union{Hand, Nothing} = nothing\n",
    "    for _ in 1:noOfHands\n",
    "        tmp = Hand()\n",
    "        move!(deck, tmp, cardsPerHand)\n",
    "        push!(hands, tmp)\n",
    "    end\n",
    "    return hands\n",
    "end"
   ]
  },
  {
   "attachments": {},
   "cell_type": "markdown",
   "id": "f8866cb1",
   "metadata": {},
   "source": [
    "## Testing"
   ]
  },
  {
   "cell_type": "code",
   "execution_count": null,
   "id": "455af152",
   "metadata": {},
   "outputs": [],
   "source": [
    "deal!(Deck(), 3, 5)"
   ]
  },
  {
   "cell_type": "code",
   "execution_count": null,
   "id": "7022a7c6",
   "metadata": {},
   "outputs": [],
   "source": [
    "deal!(shuffle!(Deck()), 3, 5)"
   ]
  }
 ],
 "metadata": {
  "kernelspec": {
   "display_name": "Julia 1.8.3",
   "language": "julia",
   "name": "julia-1.8"
  },
  "language_info": {
   "file_extension": ".jl",
   "mimetype": "application/julia",
   "name": "julia",
   "version": "1.8.3"
  },
  "name": "task1.ipynb"
 },
 "nbformat": 4,
 "nbformat_minor": 5
}
