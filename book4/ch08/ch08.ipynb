{
 "cells": [
  {
   "cell_type": "markdown",
   "metadata": {},
   "source": [
    "# Chapter online\n",
    "[Chapter 8](https://allendowney.github.io/ThinkBayes2/chap08.html)"
   ]
  },
  {
   "cell_type": "markdown",
   "metadata": {},
   "source": [
    "## Warning\n",
    "\n",
    "The content of this file may be incorrect, erroneous and/or harmful. Use it at Your own risk."
   ]
  },
  {
   "cell_type": "markdown",
   "metadata": {},
   "source": [
    "## Imports"
   ]
  },
  {
   "cell_type": "code",
   "execution_count": null,
   "metadata": {},
   "outputs": [],
   "source": [
    "import DataFrames as Dfs\n",
    "import Distributions as Dsts\n",
    "import CairoMakie as Cmk"
   ]
  },
  {
   "cell_type": "code",
   "execution_count": null,
   "metadata": {},
   "outputs": [],
   "source": [
    "include(\"./empiricaldist.jl\")\n",
    "import .EmpiricalDistributions: EmpiricalDistributions as ed, pmf, cdf\n",
    "include(\"./simplestat.jl\")\n",
    "import .SimpleStatistics as ss"
   ]
  },
  {
   "cell_type": "markdown",
   "metadata": {},
   "source": [
    "## Code from chapter"
   ]
  },
  {
   "cell_type": "markdown",
   "metadata": {},
   "source": [
    "### Functionality developed in Chapter 8"
   ]
  },
  {
   "cell_type": "code",
   "execution_count": null,
   "metadata": {},
   "outputs": [],
   "source": [
    "function mkPoissonPmf(\n",
    "\tlam::Float64, qs::Vector{T})::pmf.Pmf{T} where T<:Union{Int, Float64}\n",
    "\t@assert lam >= 0\n",
    "\tps::Vector{Float64} = Dsts.pdf.(Dsts.Poisson(lam), qs)\n",
    "\tpmfDist::pmf.Pmf{T} = pmf.Pmf(qs, ps)\n",
    "\tpmfDist.priors = pmfDist.priors ./ sum(pmfDist.priors)\n",
    "\treturn pmfDist\n",
    "end"
   ]
  },
  {
   "cell_type": "markdown",
   "metadata": {},
   "source": [
    "### The World Cup Problem\n",
    "\n",
    "In the 2018 FIFA World Cup final, France defeated Croatia 4 goals to 2. Based on this outcome:\n",
    "- How confident should we be that France is the better team?\n",
    "- If the same teams played again, what is the chance France would win again?\n",
    "\n",
    "To answer these questions, we have to make some modeling decisions.\n",
    "- First, I’ll assume that for any team against another team there is some unknown goal-scoring rate, measured in goals per game, which I’ll denote with the Python variable `lam` or the Greek letter $\\lambda$, pronounced “lambda”.\n",
    "- Second, I’ll assume that a goal is equally likely during any minute of a game. So, in a 90 minute game, the probability of scoring during any minute is $\\lambda / 90$.\n",
    "- Third, I’ll assume that a team never scores twice during the same minute.\""
   ]
  },
  {
   "cell_type": "markdown",
   "metadata": {},
   "source": [
    "### The Poisson Distribution\n",
    "\n",
    "Assumption: the number of goals follows a [Poisson distribution](https://en.wikipedia.org/wiki/Poisson_distribution).\n",
    "Goal-scoring rate is $\\lambda$, the probability of scoring `k` goals is:\n",
    "\n",
    "$\\lambda^k exp(-\\lambda) / k!$\n",
    "\n",
    "for any non-negative value of `k`.\n",
    "\n",
    "We can create one with $\\lambda = 1.4$ like this:\n"
   ]
  },
  {
   "cell_type": "code",
   "execution_count": null,
   "metadata": {},
   "outputs": [],
   "source": [
    "lam = 1.4\n",
    "dist = Dsts.Poisson(lam)\n",
    "k = 4\n",
    "# the probability of scoring 4 goals in a game is about 4%\n",
    "# when the avg goal-scoaring rate is 1.4\n",
    "Dsts.pdf(dist, k) "
   ]
  },
  {
   "cell_type": "code",
   "execution_count": null,
   "metadata": {},
   "outputs": [],
   "source": [
    "lam = 1.4\n",
    "goals = collect(0:10)\n",
    "pmfGoals = mkPoissonPmf(lam, goals)"
   ]
  },
  {
   "cell_type": "code",
   "execution_count": null,
   "metadata": {},
   "outputs": [],
   "source": [
    "fig = Cmk.Figure()\n",
    "ax, bp = Cmk.barplot(fig[1, 1], pmfGoals.names, pmfGoals.priors,\n",
    "        axis = (;\n",
    "            title = \"Distribution of goals scored\",\n",
    "            xlabel = \"Number of goals\",\n",
    "            ylabel = \"PMF\",\n",
    "            xticks = 0:10)\n",
    "    )\n",
    "Cmk.axislegend(\n",
    "    ax,\n",
    "    [bp],\n",
    "    [\"Poisson distribution with λ = 1.4\"])\n",
    "fig"
   ]
  }
 ],
 "metadata": {
  "kernelspec": {
   "display_name": "Julia 1.9.3",
   "language": "julia",
   "name": "julia-1.9"
  },
  "language_info": {
   "file_extension": ".jl",
   "mimetype": "application/julia",
   "name": "julia",
   "version": "1.9.3"
  },
  "orig_nbformat": 4
 },
 "nbformat": 4,
 "nbformat_minor": 2
}
