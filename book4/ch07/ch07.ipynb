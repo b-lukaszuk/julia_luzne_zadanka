{
 "cells": [
  {
   "cell_type": "markdown",
   "metadata": {},
   "source": [
    "# Chapter 7. Minimum, Maximum, and Mixture\n",
    "\n",
    "[Link to chapter online](https://allendowney.github.io/ThinkBayes2/chap07.html)"
   ]
  },
  {
   "cell_type": "markdown",
   "metadata": {},
   "source": [
    "## Warning\n",
    "\n",
    "The content of this file may be incorrect, erroneous and/or harmful. Use it at Your own risk.\n"
   ]
  },
  {
   "cell_type": "markdown",
   "metadata": {},
   "source": [
    "# Imports"
   ]
  },
  {
   "cell_type": "markdown",
   "metadata": {},
   "source": [
    "## Reminder from previous chapters\n",
    "\n",
    "Bayes's theorem:\n",
    "\n",
    "$P(H|D) = \\frac{P(H) * P(D|H)}{P(D)}$\n",
    "\n",
    "Bayes's rule:\n",
    "\n",
    "$odds(A|D) = odds(A) * \\frac{P(D|A)}{P(D|B)}$"
   ]
  }
 ],
 "metadata": {
  "kernelspec": {
   "display_name": "Julia 1.9.3",
   "language": "julia",
   "name": "julia-1.9"
  },
  "language_info": {
   "file_extension": ".jl",
   "mimetype": "application/julia",
   "name": "julia",
   "version": "1.9.3"
  }
 },
 "nbformat": 4,
 "nbformat_minor": 2
}
