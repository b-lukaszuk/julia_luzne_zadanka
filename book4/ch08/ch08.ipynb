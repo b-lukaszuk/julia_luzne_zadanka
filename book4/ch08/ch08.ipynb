{
 "cells": [
  {
   "cell_type": "markdown",
   "metadata": {
    "collapsed": false,
    "jupyter": {
     "outputs_hidden": false
    }
   },
   "source": [
    "# Chapter 8. Poisson Processes\n",
    "\n",
    "[Link to chapter online](https://allendowney.github.io/ThinkBayes2/chap08.html)"
   ]
  },
  {
   "cell_type": "markdown",
   "metadata": {
    "collapsed": false,
    "jupyter": {
     "outputs_hidden": false
    }
   },
   "source": [
    "## Warning\n",
    "\n",
    "The content of this file may be incorrect, erroneous and/or harmful. Use it at Your own risk."
   ]
  },
  {
   "cell_type": "markdown",
   "metadata": {
    "collapsed": false,
    "jupyter": {
     "outputs_hidden": false
    }
   },
   "source": [
    "## Imports"
   ]
  },
  {
   "cell_type": "code",
   "execution_count": null,
   "metadata": {
    "collapsed": false,
    "jupyter": {
     "outputs_hidden": false
    }
   },
   "outputs": [],
   "source": [
    "include(\"./pmfAndCdf.jl\")\n",
    "#import .ProbabilityMassFunction as Pmf # if defined with module (and export) in pmfAndCdf.jl\n",
    "#using .ProbabilityMassFunction # if defined with module and export in pmfAndCdf.jl\n",
    "\n",
    "include(\"./simplestat.jl\")\n",
    "#import .SimpleStatistics as Ss # if defined with module (and export) in simplestat.jl\n",
    "#using .ProbabilityMassFunction # if defined with module and export in simplestat.jl"
   ]
  },
  {
   "cell_type": "markdown",
   "metadata": {
    "collapsed": false,
    "jupyter": {
     "outputs_hidden": false
    }
   },
   "source": [
    "### The World Cup Problem\n",
    "\n",
    "In the 2018 FIFA World Cup final, France defeated Croatia 4 goals to 2. Based on this outcome:\n",
    "- How confident should we be that France is the better team?\n",
    "- If the same teams played again, what is the chance France would win again?\n",
    "\n",
    "To answer these questions, we have to make some modeling decisions.\n",
    "- First, I’ll assume that for any team against another team there is some unknown goal-scoring rate, measured in goals per game, which I’ll denote with the Python variable `lam` or the Greek letter $\\lambda$, pronounced “lambda”.\n",
    "- Second, I’ll assume that a goal is equally likely during any minute of a game. So, in a 90 minute game, the probability of scoring during any minute is $\\lambda / 90$.\n",
    "- Third, I’ll assume that a team never scores twice during the same minute.\""
   ]
  },
  {
   "cell_type": "markdown",
   "metadata": {},
   "source": [
    "## The Poisson Distribution\n",
    "\n",
    "If the number of goals scored in a game follows a Poisson distribution with a goal-scoring rate $\\lambda$, the probability of scoring $k$ goals is\n",
    "\n",
    "$\\lambda^{k} * exp(-\\lambda)/k!$\n",
    "\n",
    "or\n",
    "\n",
    "$\\frac{\\lambda^{k} * exp^{-\\lambda}}{k!}$\n",
    "\n",
    "or\n",
    "\n",
    "$\\frac{\\lambda^{k}}{k!}e^{-\\lambda}$\n",
    "\n",
    "for any non-negative value of $k$."
   ]
  },
  {
   "cell_type": "code",
   "execution_count": null,
   "metadata": {},
   "outputs": [],
   "source": [
    "lam = 1.4\n",
    "distPois = Dsts.Poisson(lam)"
   ]
  },
  {
   "cell_type": "code",
   "execution_count": null,
   "metadata": {},
   "outputs": [],
   "source": [
    "# k goals\n",
    "k = 4\n",
    "Dsts.pdf(distPois, k)"
   ]
  },
  {
   "cell_type": "markdown",
   "metadata": {},
   "source": [
    "This result implies that if the average goal-scoring rate is 1.4 goals per game, then probability of scoring 4 goals in a game is ~4%."
   ]
  },
  {
   "cell_type": "code",
   "execution_count": null,
   "metadata": {},
   "outputs": [],
   "source": [
    "# custom type\n",
    "Num = Union{Int, Float64}"
   ]
  },
  {
   "cell_type": "code",
   "execution_count": null,
   "metadata": {},
   "outputs": [],
   "source": [
    "function getPoisPmf(\n",
    "        lam::A,\n",
    "        qs::Vector{B}\n",
    "        )::Pmf{B} where {A<:Num, B<:Num}\n",
    "    ps::Vector{Float64} = Dsts.pdf.(Dsts.Poisson(lam), qs)\n",
    "    pmf::Pmf{B} = Pmf(qs, ps)\n",
    "    return pmf\n",
    "end"
   ]
  },
  {
   "cell_type": "code",
   "execution_count": null,
   "metadata": {},
   "outputs": [],
   "source": [
    "lam = 1.4\n",
    "goals = 0:10 |> collect\n",
    "pmfGoals = getPoisPmf(lam, goals)"
   ]
  },
  {
   "cell_type": "code",
   "execution_count": null,
   "metadata": {},
   "outputs": [],
   "source": [
    "fig = Cmk.Figure()\n",
    "ax, bp = Cmk.barplot(fig[1, 1],\n",
    "    pmfGoals.names, pmfGoals.priors,\n",
    "    axis=(;title=\"Distribution of goals scored\",\n",
    "        xlabel=\"Number of goals\",\n",
    "        ylabel=\"PMF\",\n",
    "        xticks=0:10\n",
    "    )\n",
    ")\n",
    "Cmk.axislegend(\n",
    "    ax,\n",
    "    [bp],\n",
    "    [\"λ = 1.4\"],\n",
    "    \"Poisson distribution\"\n",
    ")\n",
    "fig"
   ]
  },
  {
   "cell_type": "markdown",
   "metadata": {},
   "source": [
    "[...]\n",
    "\n",
    "Now let’s turn it around: given a number of goals, what can we say about the goal-scoring rate?\n",
    "\n",
    "To answer that, we need to think about the prior distribution of `lam`, which represents the range of possible values and their probabilities before we see the score."
   ]
  },
  {
   "cell_type": "markdown",
   "metadata": {},
   "source": [
    "## The Gamma Distribution\n",
    "\n",
    "Using [data](https://www.statista.com/statistics/269031/goals-scored-per-game-at-the-fifa-world-cup-since-1930/) [...] each team scores about 1.4 goals per game, on average (so $\\lambda = 1.4$).\n",
    "\n",
    "For a good team against a bad one, $\\lambda$ will be higher; for a bad team against a good one, it will be lower.\n",
    "\n",
    "We will model it with [gamma distribution](https://en.wikipedia.org/wiki/Gamma_distribution). It is usually used to model the time that passes before $\\alpha$ occurences of a randomly occuring event (an event that occurs via Poisson process)."
   ]
  },
  {
   "cell_type": "code",
   "execution_count": null,
   "metadata": {},
   "outputs": [],
   "source": [
    "alpha = 1.4\n",
    "qs = range(0, 10, 101)\n",
    "ps = Dsts.pdf.(Dsts.Gamma(alpha), qs);"
   ]
  },
  {
   "cell_type": "markdown",
   "metadata": {},
   "source": [
    "The parameter, `alpha`, is the mean of the distribution. The `qs` are possible values of `lam` between 0 and 10. The `ps` are probability densities, which we can think of as unnormalized probabilities."
   ]
  },
  {
   "cell_type": "code",
   "execution_count": null,
   "metadata": {},
   "outputs": [],
   "source": [
    "lambdasPmf = Pmf(qs |> collect, ps)"
   ]
  },
  {
   "cell_type": "code",
   "execution_count": null,
   "metadata": {},
   "outputs": [],
   "source": [
    "fig = Cmk.Figure()\n",
    "Cmk.lines(fig[1, 1],\n",
    "    lambdasPmf.names, lambdasPmf.priors,\n",
    "    color=\"lightgray\", linestyle=:dash, linewidth=3,\n",
    "    axis=(;title=\"Prior distribution of λ\",\n",
    "        xlabel=\"Goal scoring rate (λ)\", ylabel=\"PMF\",\n",
    "        xticks=0:2:10, yticks=0:0.01:0.06)\n",
    ")\n",
    "fig"
   ]
  },
  {
   "cell_type": "markdown",
   "metadata": {},
   "source": [
    "This distribution represents our prior knowledge about goal scoring: 'lam' is usually less than 2, occasionally as high as 6, and seldom higher than that.\n",
    "\n",
    "We can confirm that mean is about 1.4."
   ]
  },
  {
   "cell_type": "code",
   "execution_count": null,
   "metadata": {},
   "outputs": [],
   "source": [
    "getMean(lambdasPmf, true),\n",
    "getQuantile(lambdasPmf, 0.5, true),\n",
    "getCredibleInterval(lambdasPmf, 0.5, true)"
   ]
  },
  {
   "cell_type": "markdown",
   "metadata": {},
   "source": [
    "[...] could disagree about [...] the prior, but this is good enough to get started."
   ]
  },
  {
   "cell_type": "markdown",
   "metadata": {},
   "source": [
    "## The Update\n",
    "\n",
    "Given the goal-scoring rate, $\\lambda$, what is the probability of scoring `k` goals?"
   ]
  },
  {
   "cell_type": "code",
   "execution_count": null,
   "metadata": {},
   "outputs": [],
   "source": [
    "lam = 1.4\n",
    "k = 4\n",
    "Dsts.pdf(Dsts.Poisson(lam), k)"
   ]
  },
  {
   "cell_type": "markdown",
   "metadata": {},
   "source": [
    "Now suppose we have an array of possible values for $\\lambda$ we can compute the likelihood of the data for each hypothetical $\\lambda$"
   ]
  },
  {
   "cell_type": "code",
   "execution_count": null,
   "metadata": {},
   "outputs": [],
   "source": [
    "likelihoods = Dsts.pdf.(Dsts.Poisson.(lambdasPmf.names), k)"
   ]
  },
  {
   "cell_type": "markdown",
   "metadata": {},
   "source": [
    "We can encapsulate it into a function"
   ]
  },
  {
   "cell_type": "code",
   "execution_count": null,
   "metadata": {},
   "outputs": [],
   "source": [
    "# pmfPoisson.names = lambdas for Poisson distribution\n",
    "# pmfPoisson.priors = probabilities for the lambdas\n",
    "function updatePoisson!(pmfPoisson::Pmf{Float64}, data::Num)\n",
    "    k::Num = data\n",
    "    lams::Vector{Float64} = pmfPoisson.names\n",
    "    likelihoods::Vector{Float64} = Dsts.pdf.(Dsts.Poisson.(lams), k)\n",
    "    setLikelihoods!(pmfPoisson, likelihoods)\n",
    "    updatePosteriors!(pmfPoisson, true)\n",
    "    return nothing\n",
    "end"
   ]
  },
  {
   "cell_type": "code",
   "execution_count": null,
   "metadata": {},
   "outputs": [],
   "source": [
    "# in the example, France scored 4 goals\n",
    "france = Pmf(lambdasPmf.names |> copy, lambdasPmf.priors |> copy)\n",
    "updatePoisson!(france, 4)"
   ]
  },
  {
   "cell_type": "code",
   "execution_count": null,
   "metadata": {},
   "outputs": [],
   "source": [
    "fig = Cmk.Figure()\n",
    "ax1, l1 = Cmk.lines(fig[1, 1],\n",
    "    france.names, france.priors,\n",
    "    color=\"lightgray\", linestyle=:dash, linewidth=3,\n",
    "    axis=(;title=\"Prior distribution of λ\",\n",
    "        xlabel=\"Goal scoring rate (λ)\", ylabel=\"PMF\",\n",
    "        xticks=0:2:10, yticks=0:0.01:0.06)\n",
    ")\n",
    "l2 = Cmk.lines!(fig[1, 1],\n",
    "    france.names, france.posteriors,\n",
    "    color=\"orange\", linestyle=:solid, linewidth=3\n",
    ")\n",
    "Cmk.axislegend(\n",
    "    ax1,\n",
    "    [l1, l2],\n",
    "    [\"prior (average team)\", \"France posterior\"],\n",
    "    \"Poisson distribution\"\n",
    ")\n",
    "fig"
   ]
  },
  {
   "cell_type": "code",
   "execution_count": null,
   "metadata": {},
   "outputs": [],
   "source": [
    "# Croatia scored 2 goals, so\n",
    "croatia = Pmf(lambdasPmf.names |> copy, lambdasPmf.priors |> copy)\n",
    "updatePoisson!(croatia, 2)"
   ]
  },
  {
   "cell_type": "code",
   "execution_count": null,
   "metadata": {},
   "outputs": [],
   "source": [
    "fig = Cmk.Figure()\n",
    "ax1, l1 = Cmk.lines(fig[1, 1],\n",
    "    croatia.names, croatia.priors,\n",
    "    color=\"lightgray\", linestyle=:dash, linewidth=3,\n",
    "    axis=(;title=\"Prior distribution of λ\",\n",
    "        xlabel=\"Goal scoring rate (λ)\", ylabel=\"PMF\",\n",
    "        xticks=0:2:10, yticks=0:0.01:0.06)\n",
    ")\n",
    "l2 = Cmk.lines!(fig[1, 1],\n",
    "    croatia.names, croatia.posteriors,\n",
    "    color=\"blue\", linestyle=:solid, linewidth=3\n",
    ")\n",
    "Cmk.axislegend(\n",
    "    ax1,\n",
    "    [l1, l2],\n",
    "    [\"prior (average team)\", \"Croatia posterior\"],\n",
    "    \"Poisson distribution\"\n",
    ")\n",
    "fig"
   ]
  },
  {
   "cell_type": "code",
   "execution_count": null,
   "metadata": {},
   "outputs": [],
   "source": [
    "getMean(france),\n",
    "getMean(croatia)"
   ]
  },
  {
   "cell_type": "markdown",
   "metadata": {},
   "source": [
    "## Probability of Superiority\n",
    "\n",
    "How confident should we be that France is the better team?\n",
    "\n",
    "In the model, “better” means having a higher goal-scoring rate against the opponent. We can use the posterior distributions to compute the probability that a random value drawn from France’s distribution exceeds a value drawn from Croatia’s.\n",
    "\n",
    "One way to do that is to enumerate all pairs of values from the two distributions, adding up the total probability that one value exceeds the other."
   ]
  },
  {
   "cell_type": "code",
   "execution_count": null,
   "metadata": {},
   "outputs": [],
   "source": [
    "# prob pmf1 > pmf2\n",
    "function getProbGt(pmf1::Pmf{A}, pmf2::Pmf{B},\n",
    "        usePriors::Bool = false)::Float64 where {A<:Num, B<:Num} \n",
    "    total::Float64 = 0\n",
    "    for (n1, p1) in zip(pmf1.names, \n",
    "            usePriors ? pmf1.priors : pmf1.posteriors)\n",
    "        for (n2, p2) in zip(pmf2.names,\n",
    "                usePriors ? pmf2.priors : pmf2.posteriors)\n",
    "            if n1 > n2\n",
    "                total += p1 * p2\n",
    "            end\n",
    "        end\n",
    "    end\n",
    "    return total\n",
    "end"
   ]
  },
  {
   "cell_type": "code",
   "execution_count": null,
   "metadata": {},
   "outputs": [],
   "source": [
    "getProbGt(france, croatia)"
   ]
  },
  {
   "cell_type": "markdown",
   "metadata": {},
   "source": [
    "Of course, we should remember that this result is based on the assumption that the goal-scoring rate is constant. In reality, if a team is down by one goal, they might play more aggressively toward the end of the game, making them more likely to score, but also more likely to give up an additional goal."
   ]
  },
  {
   "cell_type": "markdown",
   "metadata": {},
   "source": [
    "## Predicting the Rematch\n",
    "\n",
    "If the same teams played again, what is the chance Croatia would win? To answer this question, we’ll generate the “posterior predictive distribution”, which is the number of goals we expect a team to score.\n",
    "\n",
    "If we knew the goal scoring rate, `lam`, the distribution of goals would be a Poisson distribution with parameter `lam`. Since we don’t know `lam`, the distribution of goals is a mixture of a Poisson distributions with different values of `lam`."
   ]
  },
  {
   "cell_type": "code",
   "execution_count": null,
   "metadata": {},
   "outputs": [],
   "source": [
    "goals = 0:10 |> collect\n",
    "pmfSeq = [getPoisPmf(lam, goals)\n",
    "    for lam in lambdasPmf.names];"
   ]
  },
  {
   "cell_type": "code",
   "execution_count": null,
   "metadata": {},
   "outputs": [],
   "source": [
    "fig = Cmk.Figure()\n",
    "inds = 11:10:41 |> collect\n",
    "i = 0\n",
    "for r in 1:2\n",
    "    for c in 1:2\n",
    "        i += 1\n",
    "        ax, bp = Cmk.barplot(fig[r, c],\n",
    "            pmfSeq[inds[i]].names,\n",
    "            pmfSeq[inds[i]].priors,\n",
    "            axis=(;\n",
    "                title=\"Goals distribution\",\n",
    "                xlabel=\"Number of goals\",\n",
    "                ylabel=\"PMF\",\n",
    "                xticks=0:2:10\n",
    "            )\n",
    "        )\n",
    "        Cmk.axislegend(ax,\n",
    "            [bp],\n",
    "            [\"λ = $(lambdasPmf.names[inds[i]])\"]\n",
    "        )\n",
    "    end\n",
    "end\n",
    "fig"
   ]
  },
  {
   "cell_type": "code",
   "execution_count": null,
   "metadata": {
    "scrolled": true
   },
   "outputs": [],
   "source": [
    "francePmfsMixture = getMixture(\n",
    "    france, pmfSeq,\n",
    "    map(x -> string(\"λ = \", x), lambdasPmf.names),\n",
    "    0:10 |> collect,\n",
    "    false\n",
    ")"
   ]
  },
  {
   "cell_type": "code",
   "execution_count": null,
   "metadata": {},
   "outputs": [],
   "source": [
    "fig = Cmk.Figure()\n",
    "ax, bp = Cmk.barplot(fig[1, 1],\n",
    "    francePmfsMixture.outcome, francePmfsMixture.posteriors,\n",
    "    axis=(;title=\"Posterior predictive distribution\",\n",
    "        xlabel = \"Number of goals\",\n",
    "        ylabel = \"PMF\",\n",
    "        xticks=0:10\n",
    "    )\n",
    ")\n",
    "Cmk.axislegend(ax,\n",
    "    [bp],\n",
    "    [\"France\"]\n",
    ")\n",
    "fig"
   ]
  },
  {
   "cell_type": "markdown",
   "metadata": {},
   "source": [
    "This distribution represents two sources of uncertainty: we don’t know the actual value of `lam`, and even if we did, we would not know the number of goals in the next game."
   ]
  },
  {
   "cell_type": "markdown",
   "metadata": {},
   "source": [
    "Here’s the predictive distribution for Croatia."
   ]
  },
  {
   "cell_type": "code",
   "execution_count": null,
   "metadata": {
    "scrolled": true
   },
   "outputs": [],
   "source": [
    "croatiaPmfsMixture = getMixture(\n",
    "    croatia, pmfSeq,\n",
    "    map(x -> string(\"λ = \", x), lambdasPmf.names),\n",
    "    0:10 |> collect,\n",
    "    false\n",
    ")"
   ]
  },
  {
   "cell_type": "code",
   "execution_count": null,
   "metadata": {},
   "outputs": [],
   "source": [
    "fig = Cmk.Figure()\n",
    "ax, bp = Cmk.barplot(fig[1, 1],\n",
    "    croatiaPmfsMixture.outcome, croatiaPmfsMixture.posteriors,\n",
    "    axis=(;title=\"Posterior predictive distribution\",\n",
    "        xlabel = \"Number of goals\",\n",
    "        ylabel = \"PMF\",\n",
    "        xticks=0:10\n",
    "    )\n",
    ")\n",
    "Cmk.axislegend(ax,\n",
    "    [bp],\n",
    "    [\"Croatia\"]\n",
    ")\n",
    "fig"
   ]
  },
  {
   "cell_type": "markdown",
   "metadata": {},
   "source": [
    "We can use these distributions to compute the probability that France wins, loses, or ties the rematch."
   ]
  },
  {
   "cell_type": "code",
   "execution_count": null,
   "metadata": {},
   "outputs": [],
   "source": [
    "predFrance = Pmf(francePmfsMixture.outcome, francePmfsMixture.posteriors)\n",
    "predCroatia = Pmf(croatiaPmfsMixture.outcome, croatiaPmfsMixture.posteriors);"
   ]
  },
  {
   "cell_type": "code",
   "execution_count": null,
   "metadata": {},
   "outputs": [],
   "source": [
    "pFranceWin = getProbGt(predFrance, predCroatia, true)"
   ]
  },
  {
   "cell_type": "code",
   "execution_count": null,
   "metadata": {},
   "outputs": [],
   "source": [
    "# prob pmf1 < pmf2\n",
    "function getProbLt(pmf1::Pmf{A}, pmf2::Pmf{B},\n",
    "        usePriors::Bool = false)::Float64 where {A<:Num, B<:Num} \n",
    "    total::Float64 = 0\n",
    "    for (n1, p1) in zip(pmf1.names, \n",
    "            usePriors ? pmf1.priors : pmf1.posteriors)\n",
    "        for (n2, p2) in zip(pmf2.names,\n",
    "                usePriors ? pmf2.priors : pmf2.posteriors)\n",
    "            if n1 < n2\n",
    "                total += p1 * p2\n",
    "            end\n",
    "        end\n",
    "    end\n",
    "    return total\n",
    "end"
   ]
  },
  {
   "cell_type": "code",
   "execution_count": null,
   "metadata": {},
   "outputs": [],
   "source": [
    "pFranceLose = getProbLt(predFrance, predCroatia, true)"
   ]
  },
  {
   "cell_type": "code",
   "execution_count": null,
   "metadata": {},
   "outputs": [],
   "source": [
    "# prob pmf1 == pmf2\n",
    "function getProbEq(pmf1::Pmf{A}, pmf2::Pmf{B},\n",
    "        usePriors::Bool = false)::Float64 where {A<:Num, B<:Num} \n",
    "    total::Float64 = 0\n",
    "    for (n1, p1) in zip(pmf1.names, \n",
    "            usePriors ? pmf1.priors : pmf1.posteriors)\n",
    "        for (n2, p2) in zip(pmf2.names,\n",
    "                usePriors ? pmf2.priors : pmf2.posteriors)\n",
    "            if isapprox(n1, n2)\n",
    "                total += p1 * p2\n",
    "            end\n",
    "        end\n",
    "    end\n",
    "    return total\n",
    "end"
   ]
  },
  {
   "cell_type": "code",
   "execution_count": null,
   "metadata": {},
   "outputs": [],
   "source": [
    "pFranceTie = getProbEq(predFrance, predCroatia, true)"
   ]
  },
  {
   "cell_type": "code",
   "execution_count": null,
   "metadata": {},
   "outputs": [],
   "source": [
    "pFranceWin + pFranceLose + pFranceTie # should add up to 1"
   ]
  },
  {
   "cell_type": "markdown",
   "metadata": {},
   "source": [
    "Assuming that France wins half of the ties, their chance of winning the rematch is about"
   ]
  },
  {
   "cell_type": "code",
   "execution_count": null,
   "metadata": {},
   "outputs": [],
   "source": [
    "pFranceWin + pFranceTie/2"
   ]
  },
  {
   "cell_type": "markdown",
   "metadata": {},
   "source": [
    "This is a bit lower than their probability of superiority, which is 75%. And that makes sense, because we are less certain about the outcome of a single game than we are about the goal-scoring rates. Even if France is the better team, they might lose the game."
   ]
  },
  {
   "cell_type": "markdown",
   "metadata": {},
   "source": [
    "## The Exponential Distribution\n",
    "\n",
    "> In the 2014 FIFA World Cup, Germany played Brazil in a semifinal match. Germany scored after 11 minutes and again at the 23 minute mark. At that point in the match, how many goals would you expect Germany to score after 90 minutes? What was the probability that they would score 5 more goals (as, in fact, they did)?\n",
    "\n",
    "In this version, notice that the data is not the number of goals in a fixed period of time, but the time between goals.\n",
    "\n",
    "We will compute that using [exponential distribution](https://en.wikipedia.org/wiki/Exponential_distribution)\n",
    "\n",
    "if the goal-scoring is $\\lambda$, the probability of seeing an interval between goals of `t` is proportional to PDF of the exponential distribution:\n",
    "\n",
    "$\\lambda * exp(-\\lambda * t)$\n",
    "\n",
    "`Distributions` got `Exponential` distributuon but it does not take `lam` so work with it is not stragithforward. Therefore our own function"
   ]
  },
  {
   "cell_type": "code",
   "execution_count": null,
   "metadata": {},
   "outputs": [],
   "source": [
    "function getExpoPdf(t::A, lam::B)::Float64 where {A<:Num, B<:Num}\n",
    "    return lam * exp(-lam * t)\n",
    "end"
   ]
  },
  {
   "cell_type": "markdown",
   "metadata": {},
   "source": [
    "To see what the exponential distribution looks like, let’s assume again that `lam` is 1.4"
   ]
  },
  {
   "cell_type": "code",
   "execution_count": null,
   "metadata": {},
   "outputs": [],
   "source": [
    "lam = 1.4\n",
    "qs = range(0, 4, 101) |> collect\n",
    "ps = getExpoPdf.(qs, lam)\n",
    "pmfTime = Pmf(qs, ps);"
   ]
  },
  {
   "cell_type": "code",
   "execution_count": null,
   "metadata": {},
   "outputs": [],
   "source": [
    "fig = Cmk.Figure()\n",
    "ax, ln = Cmk.lines(fig[1, 1],\n",
    "    pmfTime.names, pmfTime.priors,\n",
    "    axis=(;title=\"Distribution of time between goals\",\n",
    "        xlabel=\"Time between goals (games)\",\n",
    "        ylabel=\"PMF\",\n",
    "        xticks=0:0.5:4,\n",
    "        yticks=0:0.01:0.06\n",
    "    )\n",
    ")\n",
    "Cmk.axislegend(ax,\n",
    "    [ln],\n",
    "    [\"exponential with λ = 1.4\"]\n",
    ")\n",
    "fig"
   ]
  },
  {
   "cell_type": "markdown",
   "metadata": {},
   "source": [
    "It is counterintuitive, but true, that the most likely time to score a goal is immediately. After that, the probability of each successive interval is a little lower.\n",
    "\n",
    "With a goal-scoring rate of 1.4, it is possible that a team will take more than one game to score a goal, but it is unlikely that they will take more than two games."
   ]
  },
  {
   "cell_type": "markdown",
   "metadata": {},
   "source": [
    "## Summary\n",
    "\n",
    "This chapter introduces three new distributions [...]. Let’s review:\n",
    "- If a system satisfies the assumptions of a Poisson model, the number of events in a period of time follows a Poisson distribution, which is a discrete distribution with integer quantities from 0 to infinity. In practice, we can usually ignore low-probability quantities above a finite limit.\n",
    "\n",
    "- Also under the Poisson model, the interval between events follows an exponential distribution, which is a continuous distribution with quantities from 0 to infinity. Because it is continuous, it is described by a probability density function (PDF) rather than a probability mass function (PMF). But when we use an exponential distribution to compute the likelihood of the data, we can treat densities as unnormalized probabilities.\n",
    "\n",
    "- The Poisson and exponential distributions are parameterized by an event rate, denoted $\\lambda$ or `lam`.\n",
    "\n",
    "- For the prior distribution of $\\lambda$, I (A.B.D.) used a gamma distribution, which is a continuous distribution with quantities from 0 to infinity, but I (A.B.D.) approximated it with a discrete, bounded PMF. The gamma distribution has one parameter, denoted $\\alpha$ or alpha, which is also its mean."
   ]
  },
  {
   "cell_type": "markdown",
   "metadata": {},
   "source": [
    "## Exercises"
   ]
  },
  {
   "cell_type": "markdown",
   "metadata": {},
   "source": [
    "### Exercise 1\n",
    "\n",
    "> In the 2014 FIFA World Cup, Germany played Brazil in a semifinal match. Germany scored after 11 minutes and again at the 23 minute mark. At that point in the match, how many goals would you expect Germany to score after 90 minutes? What was the probability that they would score 5 more goals (as, in fact, they did)?\n",
    "\n",
    "Here are the steps I (A.D.) recommend:\n",
    "\n",
    "1. Starting with the same gamma prior we used in the previous problem, compute the likelihood of scoring a goal after 11 minutes for each possible value of lam. Don’t forget to convert all times into games rather than minutes.\n",
    "\n",
    "2. Compute the posterior distribution of lam for Germany after the first goal.\n",
    "\n",
    "3. Compute the likelihood of scoring another goal after 12 more minutes and do another update. Plot the prior, posterior after one goal, and posterior after two goals.\n",
    "\n",
    "4. Compute the posterior predictive distribution of goals Germany might score during the remaining time in the game, 90-23 minutes. Note: You will have to think about how to generate predicted goals for a fraction of a game.\n",
    "\n",
    "5. Compute the probability of scoring 5 or more goals during the remaining time."
   ]
  }
 ],
 "metadata": {
  "kernelspec": {
   "display_name": "Julia 1.10.2",
   "language": "julia",
   "name": "julia-1.10"
  },
  "language_info": {
   "file_extension": ".jl",
   "mimetype": "application/julia",
   "name": "julia",
   "version": "1.10.2"
  },
  "name": "ch08.ipynb"
 },
 "nbformat": 4,
 "nbformat_minor": 4
}
