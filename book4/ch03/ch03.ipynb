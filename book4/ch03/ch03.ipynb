{
 "cells": [
  {
   "cell_type": "markdown",
   "id": "57e968d5",
   "metadata": {},
   "source": [
    "# Chapter 3. Distributions\n",
    "[Link to chapter online](https://allendowney.github.io/ThinkBayes2/chap03.html)\n",
    "\n",
    "A reminder of Bayes’s Theorem:\n",
    "\n",
    "$P(A|B) = \\frac{P(A)P(B|A)}{P(B)}$\n",
    "\n",
    "or\n",
    "\n",
    "$P(H|D) = \\frac{P(H)P(D|H)}{P(D)}$"
   ]
  },
  {
   "cell_type": "markdown",
   "id": "4350a5e3",
   "metadata": {},
   "source": [
    "## Warning\n",
    "\n",
    "The content of this file may be incorrect, erroneous and/or harmful. Use it at Your own risk."
   ]
  },
  {
   "cell_type": "markdown",
   "id": "d3e42113",
   "metadata": {},
   "source": [
    "## Imports"
   ]
  },
  {
   "cell_type": "code",
   "execution_count": null,
   "id": "b5f34f9d",
   "metadata": {},
   "outputs": [],
   "source": [
    "import CairoMakie as Cmk\n",
    "import StatsBase as Sb"
   ]
  },
  {
   "cell_type": "markdown",
   "id": "5ec5f5b6",
   "metadata": {},
   "source": [
    "## Functionality developed in this chapter"
   ]
  },
  {
   "cell_type": "code",
   "execution_count": null,
   "id": "524cec93",
   "metadata": {},
   "outputs": [],
   "source": [
    "mutable struct Pmf{T}\n",
    "    names::Vector{T} # names of hypotheses\n",
    "    priors::Vector{Float64}\n",
    "    likelihoods::Vector{Float64}\n",
    "    posteriors::Vector{Float64}\n",
    "\n",
    "    Pmf(ns::Vector{Int}, prs) = (length(ns) != length(prs)) ?\n",
    "        error(\"length(names) must be equal length(priors)\") :\n",
    "        new{Int}(\n",
    "            ns, prs, zeros(length(ns)), zeros(length(ns))\n",
    "        )\n",
    "\n",
    "    Pmf(ns::Vector{Float64}, prs) = (length(ns) != length(prs)) ?\n",
    "        error(\"length(names) must be equal length(priors)\") :\n",
    "        new{Float64}(\n",
    "            ns, prs, zeros(length(ns)), zeros(length(ns))\n",
    "        )\n",
    "\n",
    "    Pmf(ns::Vector{String}, prs) = (length(ns) != length(prs)) ?\n",
    "        error(\"length(names) must be equal length(priors)\") :\n",
    "        new{String}(\n",
    "            ns, prs, zeros(length(ns)), zeros(length(ns))\n",
    "        )\n",
    "end\n",
    "\n",
    "function Base.show(io::IO, pmf::Pmf)\n",
    "    result = \"names: $(join(pmf.names, \", \"))\\n\"\n",
    "    result = result * \"priors: $(join(map(x -> round(x, digits=3) |> string, pmf.priors), \", \"))\\n\"\n",
    "    result = result * \"likelihoods: $(join(map(x -> round(x, digits=3) |> string, pmf.likelihoods), \", \"))\\n\"\n",
    "    result = result * \"posteriors: $(join(map(x -> round(x, digits=3) |> string, pmf.posteriors), \", \"))\\n\"\n",
    "    print(io, result)\n",
    "end"
   ]
  },
  {
   "cell_type": "code",
   "execution_count": null,
   "id": "ca516e7c",
   "metadata": {},
   "outputs": [],
   "source": [
    "function getPmfFromSeq(seq::Vector{T})::Pmf{T} where T\n",
    "    probs::Dict{T, Float64} = Sb.proportionmap(seq)\n",
    "    sortedKeys::Vector{T} = keys(probs) |> collect |> sort\n",
    "    sortedVals::Vector{Float64} = [probs[k] for k in sortedKeys]\n",
    "    return Pmf(sortedKeys, sortedVals)\n",
    "end"
   ]
  },
  {
   "cell_type": "code",
   "execution_count": null,
   "id": "d16b83f9",
   "metadata": {},
   "outputs": [],
   "source": [
    "function getFieldValsEqName(pmf::Pmf{T}, name::T, fieldName::String, default) where T\n",
    "    ind = findfirst(x -> x == name, getproperty(pmf, Symbol(\"names\")))\n",
    "    return isnothing(ind) ? default : getproperty(pmf, Symbol(fieldName))[ind]\n",
    "end"
   ]
  },
  {
   "cell_type": "code",
   "execution_count": null,
   "id": "e46dc064",
   "metadata": {},
   "outputs": [],
   "source": [
    "function getPriorByName(pmf::Pmf{T}, name::T)::Float64 where T\n",
    "    return getFieldValsEqName(pmf, name, \"priors\", 0.0)\n",
    "end\n",
    "\n",
    "function getPriorsByNames(pmf::Pmf{T}, names::Vector{T})::Vector{Float64} where T\n",
    "    return map(n -> getPriorByName(pmf, n), names)\n",
    "end"
   ]
  },
  {
   "cell_type": "code",
   "execution_count": null,
   "id": "0333190d",
   "metadata": {},
   "outputs": [],
   "source": [
    "function updatePosteriors!(pmf::Pmf{T}, normalize::Bool=true) where T\n",
    "    unnorms::Vector{Float64} = pmf.priors .* pmf.likelihoods\n",
    "    if normalize\n",
    "        pmf.posteriors = unnorms ./ sum(unnorms)\n",
    "    else\n",
    "        pmf.posteriors = unnorms\n",
    "    end\n",
    "end\n",
    "\n",
    "function normalizePosteriors!(pmf::Pmf{T}) where T\n",
    "    pmf.posteriors = pmf.posteriors ./ sum(pmf.posteriors)\n",
    "end\n",
    "\n",
    "function setLikelihoods!(pmf::Pmf{T}, likelihoods::Vector{Float64}) where T\n",
    "    pmf.likelihoods = likelihoods\n",
    "end"
   ]
  },
  {
   "cell_type": "code",
   "execution_count": null,
   "id": "89eafee1",
   "metadata": {},
   "outputs": [],
   "source": [
    "function drawLinesPosteriors(pmf::Pmf{T},\n",
    "    title::String,\n",
    "    xlabel::String,\n",
    "    ylabel::String)::Cmk.Figure where T\n",
    "    fig = Cmk.Figure()\n",
    "    ax1, l1 = Cmk.lines(fig[1, 1],\n",
    "        bowls101.names, bowls101.posteriors, color=\"navy\",\n",
    "        axis=(;\n",
    "            title=title,\n",
    "            xlabel=xlabel,\n",
    "            ylabel=ylabel,\n",
    "        ))\n",
    "    Cmk.axislegend(ax1,\n",
    "        [l1],\n",
    "        [\"posterior\"],\n",
    "        position=:lt\n",
    "        )\n",
    "    return fig\n",
    "end"
   ]
  },
  {
   "cell_type": "code",
   "execution_count": null,
   "id": "f5736922",
   "metadata": {},
   "outputs": [],
   "source": [
    "function getIdMaxPosterior(pmf::Pmf)::Int\n",
    "    maxProb::Float64 = max(pmf.posteriors...)\n",
    "    return findfirst(x -> x==maxProb, pmf.posteriors) \n",
    "end\n",
    "\n",
    "function getNameMaxPosterior(pmf::Pmf{T})::T where T\n",
    "    return pmf.names[getIdMaxPosterior(pmf)]\n",
    "end"
   ]
  },
  {
   "cell_type": "markdown",
   "id": "bb43b206",
   "metadata": {},
   "source": [
    "## Probability Mass Function"
   ]
  },
  {
   "cell_type": "code",
   "execution_count": null,
   "id": "d775f898",
   "metadata": {},
   "outputs": [],
   "source": [
    "coin = getPmfFromSeq([\"heads\", \"tails\"])"
   ]
  },
  {
   "cell_type": "code",
   "execution_count": null,
   "id": "92e5183c",
   "metadata": {},
   "outputs": [],
   "source": [
    "die = getPmfFromSeq(collect(1:6))"
   ]
  },
  {
   "cell_type": "code",
   "execution_count": null,
   "id": "f17ff401",
   "metadata": {},
   "outputs": [],
   "source": [
    "letters = getPmfFromSeq(Vector{String}(split(\"Mississippi\", \"\")))"
   ]
  },
  {
   "cell_type": "code",
   "execution_count": null,
   "id": "268ae830",
   "metadata": {},
   "outputs": [],
   "source": [
    "getPriorByName(letters, \"s\")"
   ]
  },
  {
   "cell_type": "code",
   "execution_count": null,
   "id": "026819d5",
   "metadata": {},
   "outputs": [],
   "source": [
    "getPriorByName(letters, \"t\")"
   ]
  },
  {
   "cell_type": "code",
   "execution_count": null,
   "id": "a013c00c",
   "metadata": {},
   "outputs": [],
   "source": [
    "getPriorsByNames(die, [1, 4, 7])"
   ]
  },
  {
   "cell_type": "markdown",
   "id": "2dbc20a0",
   "metadata": {},
   "source": [
    "## The Cookie Problem Revisited\n",
    "\n",
    "> Suppose there are two bowls of cookies.\n",
    ">\n",
    "> Bowl 1 contains 30 vanilla cookies and 10 chocolate cookies.\n",
    ">\n",
    "> Bowl 2 contains 20 vanilla cookies and 20 chocolate cookies.\n",
    ">\n",
    "> Now suppose you choose one of the bowls at random and, without looking, choose a cookie at random. If the cookie is vanilla, what is the probability that it came from Bowl 1?"
   ]
  },
  {
   "cell_type": "code",
   "execution_count": null,
   "id": "9b0bcf90",
   "metadata": {},
   "outputs": [],
   "source": [
    "bowls2 = getPmfFromSeq([\"bowl1\", \"bowl2\"])"
   ]
  },
  {
   "cell_type": "code",
   "execution_count": null,
   "id": "b8d92b1c",
   "metadata": {},
   "outputs": [],
   "source": [
    "setLikelihoods!(bowls2, [30/40, 20/40]) # P(D|H)\n",
    "updatePosteriors!(bowls2)\n",
    "bowls2"
   ]
  },
  {
   "cell_type": "markdown",
   "id": "622775cf",
   "metadata": {},
   "source": [
    "And the answer is 0.6.\n",
    "\n",
    "One benefit of using `Pmf` objects is that it is easy to do successive updates with more data. For example, suppose you put the first cookie back (so the contents of the bowls don’t change) and draw again from the same bowl. If the second cookie is also vanilla, we can do a second update like this:"
   ]
  },
  {
   "cell_type": "code",
   "execution_count": null,
   "id": "cab9735b",
   "metadata": {},
   "outputs": [],
   "source": [
    "bowls2.posteriors .*= bowls2.likelihoods\n",
    "normalizePosteriors!(bowls2)\n",
    "bowls2"
   ]
  },
  {
   "cell_type": "markdown",
   "id": "36861bbf",
   "metadata": {},
   "source": [
    "Now the posterior probability for Bowl 1 is almost 70%. But suppose we do the same thing again and get a chocolate cookie."
   ]
  },
  {
   "cell_type": "code",
   "execution_count": null,
   "id": "85b8806c",
   "metadata": {},
   "outputs": [],
   "source": [
    "bowls2.posteriors .*= [10/40, 20/40] # P(D|H)\n",
    "normalizePosteriors!(bowls2)\n",
    "bowls2"
   ]
  },
  {
   "cell_type": "markdown",
   "id": "b1ad2f49",
   "metadata": {},
   "source": [
    "Now the posterior probability for Bowl 1 is about 53%. After two vanilla cookies and one chocolate, the posterior probabilities are close to 50/50."
   ]
  },
  {
   "cell_type": "markdown",
   "id": "6ffb90fd",
   "metadata": {},
   "source": [
    "## 101 Bowls\n",
    "\n",
    "Next let’s solve a cookie problem with 101 bowls:\n",
    "- Bowl 0 contains 0% vanilla cookies,\n",
    "- Bowl 1 contains 1% vanilla cookies,\n",
    "- Bowl 2 contains 2% vanilla cookies,\n",
    "- ...\n",
    "- Bowl 99 contains 99% vanilla cookies, and\n",
    "- Bowl 100 contains all vanilla cookies.\n",
    "\n",
    "As in the previous version, there are only two kinds of cookies, vanilla and chocolate. So Bowl 0 is all chocolate cookies, Bowl 1 is 99% chocolate, and so on.\n",
    "\n",
    "Suppose we choose a bowl at random, choose a cookie at random, and it turns out to be vanilla. What is the probability that the cookie came from Bowl $x$, for each value of $x$?"
   ]
  },
  {
   "cell_type": "code",
   "execution_count": null,
   "id": "8056c104",
   "metadata": {},
   "outputs": [],
   "source": [
    "# or collect(range(0, 100, 101))\n",
    "bowls101 = getPmfFromSeq(collect(0:1:100))"
   ]
  },
  {
   "cell_type": "code",
   "execution_count": null,
   "id": "09e109ae",
   "metadata": {},
   "outputs": [],
   "source": [
    "bowls101.likelihoods = bowls101.names ./ 100\n",
    "updatePosteriors!(bowls101)\n",
    "bowls101"
   ]
  },
  {
   "cell_type": "code",
   "execution_count": null,
   "id": "e45851b5",
   "metadata": {},
   "outputs": [],
   "source": [
    "first(bowls101.posteriors, 5)"
   ]
  },
  {
   "cell_type": "code",
   "execution_count": null,
   "id": "c761f339",
   "metadata": {},
   "outputs": [],
   "source": [
    "fig = Cmk.Figure()\n",
    "ax1, l1 = Cmk.lines(fig[1, 1],\n",
    "    bowls101.names, bowls101.priors, color=\"gray\",\n",
    "    axis=(;\n",
    "        title=\"Posterior after one vanilla cookie\",\n",
    "        xlabel=\"Bowl #\",\n",
    "        ylabel=\"PMF\",\n",
    "        xticks=0:20:100,\n",
    "        yticks=0:0.0025:0.02\n",
    "    ))\n",
    "l2 = Cmk.lines!(bowls101.names, bowls101.posteriors, coor=\"navy\")\n",
    "Cmk.axislegend(ax1,\n",
    "    [l1, l2],\n",
    "    [\"prior\", \"posterior\"],\n",
    "    position=:lt\n",
    "    )\n",
    "fig"
   ]
  },
  {
   "cell_type": "markdown",
   "id": "e43e79a9",
   "metadata": {},
   "source": [
    "Now suppose we put the cookie back, draw again from the same bowl, and get another vanilla cookie. Here’s the update after the second cookie:"
   ]
  },
  {
   "cell_type": "code",
   "execution_count": null,
   "id": "b486438f",
   "metadata": {},
   "outputs": [],
   "source": [
    "bowls101.posteriors .*= bowls101.likelihoods\n",
    "normalizePosteriors!(bowls101)\n",
    "bowls101"
   ]
  },
  {
   "cell_type": "code",
   "execution_count": null,
   "id": "c6905c6b",
   "metadata": {},
   "outputs": [],
   "source": [
    "drawLinesPosteriors(\n",
    "    bowls101,\n",
    "    \"Posterior after two vanilla cookies\",\n",
    "    \"Bowl #\",\n",
    "    \"PMF\"\n",
    "    )"
   ]
  },
  {
   "cell_type": "markdown",
   "id": "e55db1a1",
   "metadata": {},
   "source": [
    "But suppose we draw again and get a chocolate cookie. Here’s the update:"
   ]
  },
  {
   "cell_type": "code",
   "execution_count": null,
   "id": "869a2f8e",
   "metadata": {},
   "outputs": [],
   "source": [
    "bowls101.posteriors .*= (1 .- bowls101.likelihoods)\n",
    "normalizePosteriors!(bowls101)\n",
    "bowls101"
   ]
  },
  {
   "cell_type": "code",
   "execution_count": null,
   "id": "aaefbd8a",
   "metadata": {},
   "outputs": [],
   "source": [
    "drawLinesPosteriors(\n",
    "    bowls101,\n",
    "    \"Posterior after 2 vanilla, 1 chocolate cookie\",\n",
    "    \"Bowl #\",\n",
    "    \"PMF\"\n",
    "    )"
   ]
  },
  {
   "cell_type": "code",
   "execution_count": null,
   "id": "95fd1867",
   "metadata": {},
   "outputs": [],
   "source": [
    "getIdMaxPosterior(bowls101)"
   ]
  },
  {
   "cell_type": "code",
   "execution_count": null,
   "id": "cc2d957f",
   "metadata": {},
   "outputs": [],
   "source": [
    "getNameMaxPosterior(bowls101)"
   ]
  },
  {
   "cell_type": "markdown",
   "id": "efdd4861",
   "metadata": {},
   "source": [
    "## The Dice Problem\n",
    "\n",
    "In the previous chapter we solved the dice problem using a Bayes table. Here’s the statement of the problem:\n",
    "\n",
    "> Suppose I have a box with a 6-sided die, an 8-sided die, and a 12-sided die. I choose one of the dice at random, roll it, and report that the outcome is a 1. \n",
    ">\n",
    "> What is the probability that I chose the 6-sided die?"
   ]
  },
  {
   "cell_type": "code",
   "execution_count": null,
   "id": "924972d2",
   "metadata": {},
   "outputs": [],
   "source": [
    "dice = getPmfFromSeq([6, 8, 12])"
   ]
  },
  {
   "cell_type": "code",
   "execution_count": null,
   "id": "4a5a1eda",
   "metadata": {},
   "outputs": [],
   "source": [
    "setLikelihoods!(dice, [1/6, 1/8, 1/12])\n",
    "updatePosteriors!(dice)\n",
    "dice"
   ]
  },
  {
   "cell_type": "markdown",
   "id": "707a63d4",
   "metadata": {},
   "source": [
    "Now suppose I roll the same die again and get a 7. Here are the likelihoods:"
   ]
  },
  {
   "cell_type": "code",
   "execution_count": null,
   "id": "7bae9ca0",
   "metadata": {},
   "outputs": [],
   "source": [
    "dice.posteriors .*= [0/6, 1/8, 1/12]\n",
    "normalizePosteriors!(dice)\n",
    "dice"
   ]
  },
  {
   "cell_type": "markdown",
   "id": "44acbc3d",
   "metadata": {},
   "source": [
    "After rolling a 1 and a 7, the posterior probability of the 8-sided die is about 69%."
   ]
  }
 ],
 "metadata": {
  "kernelspec": {
   "display_name": "Julia 1.9.3",
   "language": "julia",
   "name": "julia-1.9"
  },
  "language_info": {
   "file_extension": ".jl",
   "mimetype": "application/julia",
   "name": "julia",
   "version": "1.9.3"
  },
  "name": "Untitled.ipynb"
 },
 "nbformat": 4,
 "nbformat_minor": 5
}
