{
 "cells": [
  {
   "attachments": {},
   "cell_type": "markdown",
   "id": "0afe05a3",
   "metadata": {},
   "source": [
    "# Task 2\n",
    "\n",
    "## Original exercise number\n",
    "\n",
    "Exercise 16-2\n",
    "\n",
    "## Description\n",
    "\n",
    "Write a boolean function called `isafter` that takes two `MyTime` objects, `t1` and `t2`, and returns `true` if `t1` follows `t2` chronologically and `false` otherwise. Challenge: don’t use an `if` statement."
   ]
  },
  {
   "cell_type": "markdown",
   "id": "c4bc3ea0",
   "metadata": {},
   "source": [
    "## Solution"
   ]
  },
  {
   "cell_type": "markdown",
   "id": "2895339f",
   "metadata": {},
   "source": [
    "NO GUARANTEE THAT THE SOLUTION WILL WORK OR WORKS CORRECTLY! USE IT AT\n",
    "YOUR OWN RISK!"
   ]
  },
  {
   "cell_type": "markdown",
   "id": "64af222d",
   "metadata": {},
   "source": [
    "### Imports"
   ]
  },
  {
   "cell_type": "code",
   "execution_count": null,
   "id": "c3db5e4c",
   "metadata": {},
   "outputs": [],
   "source": [
    "import Test as ts"
   ]
  },
  {
   "cell_type": "markdown",
   "id": "13de2cd1",
   "metadata": {},
   "source": [
    "### Structs"
   ]
  },
  {
   "cell_type": "code",
   "execution_count": null,
   "id": "9e287eef",
   "metadata": {},
   "outputs": [],
   "source": [
    "\"\"\"\n",
    "Represents the time of day.\n",
    "\n",
    "fields: hour, minute, second\n",
    "\"\"\"\n",
    "struct MyTime\n",
    "    hour::Int\n",
    "    minute::Int\n",
    "    second::Int\n",
    "end"
   ]
  },
  {
   "cell_type": "markdown",
   "id": "05df47ca",
   "metadata": {},
   "source": [
    "### Functions"
   ]
  },
  {
   "cell_type": "code",
   "execution_count": null,
   "id": "8f860cba",
   "metadata": {},
   "outputs": [],
   "source": [
    "function isT1afterT2(t1::MyTime, t2::MyTime)::Bool\n",
    "    return t1.hour > t2.hour || t1.minute > t2.minute || t1.second > t2.second\n",
    "end"
   ]
  },
  {
   "cell_type": "markdown",
   "id": "f8866cb1",
   "metadata": {},
   "source": [
    "## Testing"
   ]
  },
  {
   "cell_type": "code",
   "execution_count": null,
   "id": "e933e62c",
   "metadata": {},
   "outputs": [],
   "source": [
    "ts.@test isT1afterT2(MyTime(10, 12, 30), MyTime(5, 13, 40))"
   ]
  },
  {
   "cell_type": "code",
   "execution_count": null,
   "id": "6bdeb15b",
   "metadata": {},
   "outputs": [],
   "source": [
    "ts.@test !isT1afterT2(MyTime(5, 12, 30), MyTime(5, 13, 40))"
   ]
  },
  {
   "cell_type": "code",
   "execution_count": null,
   "id": "90f32b21",
   "metadata": {},
   "outputs": [],
   "source": [
    "ts.@test !isT1afterT2(MyTime(5, 13, 30), MyTime(5, 13, 40))"
   ]
  },
  {
   "cell_type": "code",
   "execution_count": null,
   "id": "f32472f0",
   "metadata": {},
   "outputs": [],
   "source": [
    "ts.@test isT1afterT2(MyTime(5, 13, 30), MyTime(5, 13, 20))"
   ]
  }
 ],
 "metadata": {
  "kernelspec": {
   "display_name": "Julia 1.8.3",
   "language": "julia",
   "name": "julia-1.8"
  },
  "language_info": {
   "file_extension": ".jl",
   "mimetype": "application/julia",
   "name": "julia",
   "version": "1.8.3"
  },
  "name": "task1.ipynb"
 },
 "nbformat": 4,
 "nbformat_minor": 5
}
