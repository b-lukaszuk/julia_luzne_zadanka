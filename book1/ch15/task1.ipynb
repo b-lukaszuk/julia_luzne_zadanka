{
 "cells": [
  {
   "attachments": {},
   "cell_type": "markdown",
   "id": "0afe05a3",
   "metadata": {},
   "source": [
    "# Task 1\n",
    "\n",
    "## Original exercise number\n",
    "\n",
    "Exercise 15-3\n",
    "\n",
    "## Description\n",
    "\n",
    "1. Write a definition for a type named `Circle` with fields `center` and `radius`, where `center` is a `Point` object and `radius` is a number.\n",
    "\n",
    "2. Instantiate a circle object that represents a circle with its center at (150,100) and radius 75.\n",
    "\n",
    "3. Write a function named `pointincircle` that takes a `Circle` object and a `Point` object and returns `true` if the point lies in or on the boundary of the circle.\n",
    "\n",
    "4. Write a function named `rectincircle` that takes a `Circle` object and a `Rectangle` object and returns `true` if the rectangle lies entirely in or on the boundary of the circle.\n",
    "\n",
    "5. Write a function named `rectcircleoverlap` that takes a `Circle` object and a `Rectangle` object and returns `true` if any of the corners of the rectangle fall inside the circle. Or as a more challenging version, return `true` if any part of the rectangle falls inside the circle."
   ]
  },
  {
   "cell_type": "markdown",
   "id": "c4bc3ea0",
   "metadata": {},
   "source": [
    "## Solution"
   ]
  },
  {
   "cell_type": "markdown",
   "id": "2895339f",
   "metadata": {},
   "source": [
    "NO GUARANTEE THAT THE SOLUTION WILL WORK OR WORKS CORRECTLY! USE IT AT\n",
    "YOUR OWN RISK!"
   ]
  },
  {
   "cell_type": "markdown",
   "id": "05df47ca",
   "metadata": {},
   "source": [
    "### Functions"
   ]
  },
  {
   "cell_type": "code",
   "execution_count": null,
   "id": "0a4e3e3c",
   "metadata": {},
   "outputs": [],
   "source": [
    "struct Point{T<:Real}\n",
    "    x::T\n",
    "    y::T\n",
    "end"
   ]
  },
  {
   "cell_type": "code",
   "execution_count": null,
   "id": "32bf2726",
   "metadata": {},
   "outputs": [],
   "source": [
    "function getDistance(p1::Point{<:Real}, p2::Point{<:Real})::Real\n",
    "    dx::Real = p1.x - p2.x\n",
    "    dy::Real = p1.y - p2.y\n",
    "    return sqrt((dx^2) + (dy^2))\n",
    "end"
   ]
  },
  {
   "cell_type": "code",
   "execution_count": null,
   "id": "e61e84e6",
   "metadata": {},
   "outputs": [],
   "source": [
    "struct Rectangle{T<:Real}\n",
    "    width::T\n",
    "    height::T\n",
    "    lowerLeftCorner::Point{<:Real}\n",
    "end"
   ]
  },
  {
   "cell_type": "code",
   "execution_count": null,
   "id": "a4c16981",
   "metadata": {},
   "outputs": [],
   "source": [
    "struct Circle{T<:Real}\n",
    "    center::Point{<:Real}\n",
    "    radius::T\n",
    "end"
   ]
  },
  {
   "cell_type": "code",
   "execution_count": null,
   "metadata": {},
   "outputs": [],
   "source": [
    "function isPointInCircle(c::Circle{<:Real}, p::Point{<:Real})::Bool\n",
    "    distFromCenter::Real = getDistance(c.center, p)\n",
    "    return distFromCenter <= c.radius\n",
    "end"
   ]
  },
  {
   "cell_type": "code",
   "execution_count": null,
   "id": "506ca08e",
   "metadata": {},
   "outputs": [],
   "source": [
    "circle = Circle(Point(150, 100), 75)\n",
    "point1 = Point(75, 75)\n",
    "point2 = Point(300, 300)"
   ]
  },
  {
   "cell_type": "code",
   "execution_count": null,
   "id": "f76c4155",
   "metadata": {},
   "outputs": [],
   "source": [
    "isPointInCircle(circle, point1)"
   ]
  },
  {
   "cell_type": "markdown",
   "id": "f8866cb1",
   "metadata": {},
   "source": [
    "## Testing"
   ]
  }
 ],
 "metadata": {
  "kernelspec": {
   "display_name": "Julia 1.8.3",
   "language": "julia",
   "name": "julia-1.8"
  },
  "language_info": {
   "file_extension": ".jl",
   "mimetype": "application/julia",
   "name": "julia",
   "version": "1.8.3"
  },
  "name": "task1.ipynb"
 },
 "nbformat": 4,
 "nbformat_minor": 5
}
