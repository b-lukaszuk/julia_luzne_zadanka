{
 "cells": [
  {
   "cell_type": "markdown",
   "id": "756018ac-fc3b-4f6a-9c0b-39b231d378c4",
   "metadata": {
    "collapsed": false,
    "jupyter": {
     "outputs_hidden": false
    }
   },
   "source": [
    "# Ch05. Hash Tables"
   ]
  },
  {
   "cell_type": "markdown",
   "id": "64b96b92",
   "metadata": {
    "collapsed": false
   },
   "source": [
    "## Imports"
   ]
  },
  {
   "cell_type": "code",
   "execution_count": null,
   "id": "f9eb3c97",
   "metadata": {},
   "outputs": [],
   "source": [
    "import DataFrames as Dfs"
   ]
  },
  {
   "cell_type": "markdown",
   "id": "4560e355",
   "metadata": {},
   "source": [
    "Reminder from the previous chapter"
   ]
  },
  {
   "cell_type": "code",
   "execution_count": null,
   "id": "f2b480ae",
   "metadata": {},
   "outputs": [],
   "source": [
    "const OPERS_PER_SEC = 10\n",
    "\n",
    "function getBinarySearchTime(vectLen::Int)::Float64\n",
    "    return (log2(vectLen) / OPERS_PER_SEC) |> x -> round(x, digits=2)\n",
    "end\n",
    "\n",
    "function getSimpleSearchTime(vectLen::Int)::Float64\n",
    "    return (vectLen / OPERS_PER_SEC) |> x -> round(x, digits=2)\n",
    "end"
   ]
  },
  {
   "cell_type": "code",
   "execution_count": null,
   "id": "7f87ae29",
   "metadata": {},
   "outputs": [],
   "source": [
    "vectSizes = [100, 1_000, 10_000]"
   ]
  },
  {
   "cell_type": "code",
   "execution_count": null,
   "id": "cad01e3d",
   "metadata": {},
   "outputs": [],
   "source": [
    "df = Dfs.DataFrame(\n",
    "    \"vectSize\" => vectSizes,\n",
    "    \"O(log n) [sec]\" => map(getBinarySearchTime, vectSizes),\n",
    "    \"O(n) [sec]\" => map(getSimpleSearchTime, vectSizes)\n",
    "    )"
   ]
  },
  {
   "cell_type": "markdown",
   "id": "b31bded5",
   "metadata": {},
   "source": [
    "Performance of different data structures (summary)\n",
    "\n",
    "|           | hash tab (avg) | hash tab (worst) | arrays | linked lists |\n",
    "|-----------|----------------|------------------|--------|--------------|\n",
    "| search    | O(1)           | O(n)             | O(1)   | O(n)         |\n",
    "| insert    | O(1)           | O(n)             | O(n)   | O(1)         |\n",
    "| delete    | O(1)           | O(n)             | O(n)   | O(1)         |\n"
   ]
  }
 ],
 "metadata": {
  "kernelspec": {
   "display_name": "Julia 1.10.2",
   "language": "julia",
   "name": "julia-1.10"
  },
  "language_info": {
   "file_extension": ".jl",
   "mimetype": "application/julia",
   "name": "julia",
   "version": "1.10.2"
  },
  "name": "ch05.ipynb"
 },
 "nbformat": 4,
 "nbformat_minor": 5
}
