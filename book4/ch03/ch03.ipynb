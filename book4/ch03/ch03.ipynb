{
 "cells": [
  {
   "cell_type": "markdown",
   "id": "57e968d5",
   "metadata": {},
   "source": [
    "# Chapter 3. Distributions\n",
    "[Link to chapter online](https://allendowney.github.io/ThinkBayes2/chap03.html)\n",
    "\n",
    "A reminder of Bayes’s Theorem:\n",
    "\n",
    "$P(A|B) = \\frac{P(A)P(B|A)}{P(B)}$\n",
    "\n",
    "or\n",
    "\n",
    "$P(H|D) = \\frac{P(H)P(D|H)}{P(D)}$"
   ]
  },
  {
   "cell_type": "markdown",
   "id": "4350a5e3",
   "metadata": {},
   "source": [
    "## Warning\n",
    "\n",
    "The content of this file may be incorrect, erroneous and/or harmful. Use it at Your own risk."
   ]
  },
  {
   "cell_type": "markdown",
   "id": "d3e42113",
   "metadata": {},
   "source": [
    "## Imports"
   ]
  },
  {
   "cell_type": "code",
   "execution_count": null,
   "id": "b5f34f9d",
   "metadata": {},
   "outputs": [],
   "source": [
    "# none for now"
   ]
  },
  {
   "cell_type": "markdown",
   "id": "5ec5f5b6",
   "metadata": {},
   "source": [
    "## Functionality developed in this chapter"
   ]
  },
  {
   "cell_type": "code",
   "execution_count": null,
   "id": "524cec93",
   "metadata": {},
   "outputs": [],
   "source": [
    "# none for now"
   ]
  }
 ],
 "metadata": {
  "kernelspec": {
   "display_name": "Julia 1.9.3",
   "language": "julia",
   "name": "julia-1.9"
  },
  "language_info": {
   "file_extension": ".jl",
   "mimetype": "application/julia",
   "name": "julia",
   "version": "1.9.3"
  },
  "name": "Untitled.ipynb"
 },
 "nbformat": 4,
 "nbformat_minor": 5
}
