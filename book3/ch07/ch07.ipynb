{
 "cells": [
  {
   "attachments": {},
   "cell_type": "markdown",
   "metadata": {},
   "source": [
    "# Chapter 7. Preparing to analyse data"
   ]
  },
  {
   "attachments": {},
   "cell_type": "markdown",
   "metadata": {},
   "source": [
    "## Imports "
   ]
  },
  {
   "cell_type": "code",
   "execution_count": null,
   "metadata": {},
   "outputs": [],
   "source": [
    "import DataFrames as pd # pandas in python\n",
    "import PyPlot as plt\n",
    "import Seaborn as sns"
   ]
  },
  {
   "attachments": {},
   "cell_type": "markdown",
   "metadata": {},
   "source": [
    "## Warning regarding solutions"
   ]
  },
  {
   "attachments": {},
   "cell_type": "markdown",
   "metadata": {},
   "source": [
    "NO GUARANTEE THAT THE SOLUTIONS WILL WORK OR WORK CORRECTLY! USE THEM AT YOUR OWN RISK!\n",
    "\n",
    "THE ANSWERS PROVIDED BELOW MAY BE WRONG. USE THEM AT YOUR OWN RISK!"
   ]
  },
  {
   "cell_type": "markdown",
   "metadata": {},
   "source": [
    "## Ch 7.3 Outliers"
   ]
  },
  {
   "cell_type": "code",
   "execution_count": null,
   "metadata": {},
   "outputs": [],
   "source": [
    "tab71 = pd.DataFrame((\n",
    "    ;hodgkin=[171, 257, 288, 295, 396, 397, 431, 435, 554, 568, 795, 902, 958, 1004, 1104, 1212, 1283, 1378, 1621, 2415],\n",
    "    nonhodgkin=[116, 151, 192, 208, 315, 375, 375, 377, 410, 426, 440, 503, 675, 688, 700, 736, 752, 771, 979, 1252]\n",
    "    ))\n",
    "first(tab71, 5)"
   ]
  },
  {
   "cell_type": "code",
   "execution_count": null,
   "metadata": {},
   "outputs": [],
   "source": [
    "sns.histplot(x=tab71[!, :hodgkin], bins=[0, 250, 500, 750, 1000, 1250, 1500, 1750, 2000, 2250, 2500])\n",
    "plt.title(\"Hodgkin's disease\")\n",
    "plt.xlabel(\"T4 [cells per \\$mm^3\\$]\")\n",
    "plt.ylabel(\"Frequency\")"
   ]
  },
  {
   "cell_type": "code",
   "execution_count": null,
   "metadata": {},
   "outputs": [],
   "source": [
    "sns.histplot(x=tab71[!, :nonhodgkin], bins=[0, 250, 500, 750, 1000, 1250, 1500, 1750, 2000, 2250, 2500])\n",
    "plt.title(\"Non-Hodgkin's disease\")\n",
    "plt.xlabel(\"T4 [cells per \\$mm^3\\$]\")\n",
    "plt.ylabel(\"Frequency\")"
   ]
  },
  {
   "cell_type": "code",
   "execution_count": null,
   "metadata": {},
   "outputs": [],
   "source": [
    "tab71[!, \"lnHodgkin\"] = log.(tab71[!, \"hodgkin\"])\n",
    "tab71[!, \"lnNonhodgkin\"] = log.(tab71[!, \"nonhodgkin\"]);"
   ]
  },
  {
   "cell_type": "code",
   "execution_count": null,
   "metadata": {},
   "outputs": [],
   "source": [
    "sns.histplot(x=tab71[!, :lnHodgkin], bins=[2.75, 3.25, 4.75, 5.25, 5.75, 6.25, 6.75, 7.25, 7.75, 8.25, 8.75])\n",
    "plt.title(\"Hodgkin's disease\")\n",
    "plt.xlabel(\"T4 [\\$log_e\\$ cells per \\$mm^3\\$]\")\n",
    "plt.ylabel(\"Frequency\")"
   ]
  },
  {
   "cell_type": "code",
   "execution_count": null,
   "metadata": {},
   "outputs": [],
   "source": [
    "sns.histplot(x=tab71[!, :lnNonhodgkin], bins=[2.75, 3.25, 4.75, 5.25, 5.75, 6.25, 6.75, 7.25, 7.75, 8.25, 8.75])\n",
    "plt.title(\"Non-Hodgkin's disease\")\n",
    "plt.xlabel(\"T4 [\\$log_e\\$ cells per \\$mm^3\\$]\")\n",
    "plt.ylabel(\"Frequency\")"
   ]
  }
 ],
 "metadata": {
  "kernelspec": {
   "display_name": "Julia 1.8.3",
   "language": "julia",
   "name": "julia-1.8"
  },
  "language_info": {
   "file_extension": ".jl",
   "mimetype": "application/julia",
   "name": "julia",
   "version": "1.8.3"
  },
  "orig_nbformat": 4,
  "vscode": {
   "interpreter": {
    "hash": "31f2aee4e71d21fbe5cf8b01ff0e069b9275f58929596ceb00d14d90e3e16cd6"
   }
  }
 },
 "nbformat": 4,
 "nbformat_minor": 2
}
