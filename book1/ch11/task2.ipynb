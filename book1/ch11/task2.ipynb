{
 "cells": [
  {
   "cell_type": "markdown",
   "id": "b9d0dcce",
   "metadata": {
    "collapsed": false
   },
   "source": [
    "# Task 2\n",
    "\n",
    "## Original exercise number\n",
    "\n",
    "Exercise 11-3\n",
    "\n",
    "## Description\n",
    "\n",
    "Read the documentation of the dictionary function `get!` and use it to write a more concise version of `invertdict`.\n",
    "\n",
    "Previous version of `invertdict`:\n",
    "\n",
    "<pre>\n",
    "function invertdict(d)\n",
    "    inverse = Dict()\n",
    "    for key in keys(d)\n",
    "        val = d[key]\n",
    "        if val ∉ keys(inverse)\n",
    "            inverse[val] = [key]\n",
    "        else\n",
    "            push!(inverse[val], key)\n",
    "        end\n",
    "    end\n",
    "    inverse\n",
    "end\n",
    "</pre>"
   ]
  },
  {
   "cell_type": "markdown",
   "id": "f3f3c4ac",
   "metadata": {
    "collapsed": false
   },
   "source": [
    "## Solution"
   ]
  },
  {
   "cell_type": "markdown",
   "id": "88685f19",
   "metadata": {
    "collapsed": false
   },
   "source": [
    "NO GUARANTEE THAT THE SOLUTION WILL WORK OR WORKS CORRECTLY! USE IT AT\n",
    "YOUR OWN RISK!"
   ]
  },
  {
   "cell_type": "markdown",
   "id": "9813494a",
   "metadata": {
    "collapsed": false
   },
   "source": [
    "### Functions"
   ]
  },
  {
   "cell_type": "code",
   "execution_count": null,
   "id": "a09050f6",
   "metadata": {
    "collapsed": false
   },
   "outputs": [],
   "source": [
    "function histogram(s::String)::Dict{Char, Int}\n",
    "    d::Dict{Char, Int} = Dict()\n",
    "    for c in s\n",
    "       d[c] = get(d, c, 0) + 1\n",
    "    end\n",
    "    return d\n",
    "end"
   ]
  },
  {
   "cell_type": "code",
   "execution_count": null,
   "id": "6f750f24",
   "metadata": {
    "collapsed": false
   },
   "outputs": [],
   "source": [
    "function invertdict(d::Dict{Char, Int})::Dict{Int, Vector{Char}}\n",
    "    inverse::Dict{Int, Vector{Char}} = Dict()\n",
    "    for (key, value) in d\n",
    "        push!(get!(inverse, value, []), key) \n",
    "    end\n",
    "    return inverse\n",
    "end"
   ]
  },
  {
   "cell_type": "code",
   "execution_count": null,
   "id": "33fa0996",
   "metadata": {
    "collapsed": false
   },
   "outputs": [],
   "source": [
    "invertdict(histogram(\"lorem ipsum dolor sit amet\"))"
   ]
  },
  {
   "cell_type": "code",
   "execution_count": null,
   "id": "a311b80e",
   "metadata": {
    "collapsed": false
   },
   "outputs": [],
   "source": [
    "invertdict(histogram(\"parrot\"))"
   ]
  },
  {
   "cell_type": "code",
   "execution_count": null,
   "id": "53f740ab",
   "metadata": {
    "collapsed": false
   },
   "outputs": [],
   "source": [
    "invertdict(histogram(\"go julia, go\"))"
   ]
  }
 ],
 "metadata": {
  "kernelspec": {
   "argv": [
    "/home/czesiek/julia-1.8.3/bin/julia",
    "-i",
    "--color=yes",
    "--project=@.",
    "/home/czesiek/.julia/packages/IJulia/6TIq1/src/kernel.jl",
    "{connection_file}"
   ],
   "display_name": "Julia 1.8.3",
   "env": null,
   "interrupt_mode": "signal",
   "language": "julia",
   "metadata": null,
   "name": "julia-1.8"
  },
  "language_info": {
   "file_extension": ".jl",
   "mimetype": "application/julia",
   "name": "julia",
   "version": "1.8.3"
  },
  "name": "task2.ipynb"
 },
 "nbformat": 4,
 "nbformat_minor": 5
}
