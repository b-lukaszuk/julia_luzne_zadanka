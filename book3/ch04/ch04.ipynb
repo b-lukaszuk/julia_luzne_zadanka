{
 "cells": [
  {
   "cell_type": "markdown",
   "metadata": {},
   "source": [
    "# Chapter 4. Theoretical Distributions"
   ]
  },
  {
   "attachments": {},
   "cell_type": "markdown",
   "metadata": {},
   "source": [
    "## Imports "
   ]
  },
  {
   "cell_type": "code",
   "execution_count": null,
   "metadata": {},
   "outputs": [],
   "source": [
    "import Distributions as dst"
   ]
  },
  {
   "attachments": {},
   "cell_type": "markdown",
   "metadata": {},
   "source": [
    "## Warning regarding solutions"
   ]
  },
  {
   "attachments": {},
   "cell_type": "markdown",
   "metadata": {},
   "source": [
    "NO GUARANTEE THAT THE SOLUTIONS WILL WORK OR WORK CORRECTLY! USE THEM AT YOUR OWN RISK!\n",
    "\n",
    "THE ANSWERS PROVIDED BELOW MAY BE WRONG. USE THEM AT YOUR OWN RISK!"
   ]
  },
  {
   "attachments": {},
   "cell_type": "markdown",
   "metadata": {},
   "source": [
    "## Exercise 4.1"
   ]
  },
  {
   "attachments": {},
   "cell_type": "markdown",
   "metadata": {},
   "source": [
    "Assuming that the height of adult males has a Normal distribution, what proportion of males will be more than two standard deviations above the mean height?"
   ]
  },
  {
   "attachments": {},
   "cell_type": "markdown",
   "metadata": {},
   "source": [
    "### Ex 4.1. Solution with Distributions"
   ]
  },
  {
   "cell_type": "code",
   "execution_count": null,
   "metadata": {},
   "outputs": [],
   "source": [
    "1 - dst.cdf(dst.Normal(), 2)"
   ]
  },
  {
   "cell_type": "markdown",
   "metadata": {},
   "source": [
    "### Ex 4.1. Answer\n",
    "\n",
    "Approximately 0.02275 or 2.3% of men will be more than 2 std above the mean height"
   ]
  },
  {
   "cell_type": "markdown",
   "metadata": {},
   "source": [
    "## Exercise 4.2\n",
    "\n",
    "The probability of being blood group B is 0.08.\n",
    "What is the probability that if one pint of blood is taken from each of\n",
    "100 unrelated blood donors fewer than three pints of group B blood will be obtained?"
   ]
  },
  {
   "cell_type": "markdown",
   "metadata": {},
   "source": [
    "### Ex 4.2 Solution with Distributions"
   ]
  },
  {
   "cell_type": "code",
   "execution_count": null,
   "metadata": {},
   "outputs": [],
   "source": [
    "probGrB1::Float64 = dst.cdf(dst.Binomial(100, 0.08), 2)"
   ]
  },
  {
   "attachments": {},
   "cell_type": "markdown",
   "metadata": {},
   "source": [
    "### Ex 4.2 Solution by running computer simulations"
   ]
  },
  {
   "cell_type": "code",
   "execution_count": null,
   "metadata": {},
   "outputs": [],
   "source": [
    "function howManyGrBinNsamples(n::Int = 100)::Int\n",
    "    # 1:8 - treated as blood group B\n",
    "    return  length([i for i in rand(1:100, n) if i < 9])\n",
    "end"
   ]
  },
  {
   "cell_type": "code",
   "execution_count": null,
   "metadata": {},
   "outputs": [],
   "source": [
    "function getProbLT3GrB(n_iter::Int = 100_000)::Float64\n",
    "    results::Vector{Int} = [howManyGrBinNsamples() < 3 ? 1 : 0 for _ in 1:n_iter]\n",
    "    return sum(results) / n_iter\n",
    "end"
   ]
  },
  {
   "cell_type": "code",
   "execution_count": null,
   "metadata": {},
   "outputs": [],
   "source": [
    "probGrB2::Float64 = getProbLT3GrB()"
   ]
  },
  {
   "cell_type": "markdown",
   "metadata": {},
   "source": [
    "### Ex 4.2. Answer\n",
    "\n",
    "The probability is around 0.011 or 1.1%"
   ]
  },
  {
   "attachments": {},
   "cell_type": "markdown",
   "metadata": {},
   "source": [
    "### Exercise 4.3\n",
    "\n",
    "The probability of a baby being a boy is 0.52. For six women delivering consecutively in the same labour ward on one day, which of the following exact sequences of boys and girls is most likely and which least likely?\n",
    "\n",
    "GBGBGB BBBGGG GBBBBB"
   ]
  },
  {
   "cell_type": "code",
   "execution_count": null,
   "metadata": {},
   "outputs": [],
   "source": [
    "birthSeqs = [\"GBGBGB\", \"BBBGGG\", \"GBBBBB\"]"
   ]
  },
  {
   "attachments": {},
   "cell_type": "markdown",
   "metadata": {},
   "source": [
    "#### Ex 4.3 Solution with mathematical calculations"
   ]
  },
  {
   "cell_type": "code",
   "execution_count": null,
   "metadata": {},
   "outputs": [],
   "source": [
    "function getBirthSeqProb(birthSeq::String)::Float64\n",
    "    return prod([(b == 'B') ? 0.52 : 0.48 for b in birthSeq])\n",
    "end"
   ]
  },
  {
   "cell_type": "code",
   "execution_count": null,
   "metadata": {},
   "outputs": [],
   "source": [
    "birthSeqsProbs1 = [(getBirthSeqProb(bs), bs) for bs in birthSeqs]"
   ]
  },
  {
   "cell_type": "markdown",
   "metadata": {},
   "source": [
    "#### Ex. 4.3 Solution with computer simulation"
   ]
  },
  {
   "cell_type": "code",
   "execution_count": null,
   "metadata": {},
   "outputs": [],
   "source": [
    "function getBirthSeq(howMany::Int=6)::String\n",
    "    return join([(i <= 52) ? 'B' : 'G' for i in rand(1:100, howMany)], \"\")\n",
    "end"
   ]
  },
  {
   "cell_type": "code",
   "execution_count": null,
   "metadata": {},
   "outputs": [],
   "source": [
    "function getNBirthSeqs(n::Int=10_000)::Vector{String}\n",
    "    return [getBirthSeq() for _ in 1:n] \n",
    "end"
   ]
  },
  {
   "cell_type": "code",
   "execution_count": null,
   "metadata": {},
   "outputs": [],
   "source": [
    "function getBirthSeqsCounts(birthSeqs::Vector{String})::Dict{String, Int}\n",
    "    counts::Dict{String, Int} = Dict()  \n",
    "    for bs in birthSeqs\n",
    "        counts[bs] = get(counts, bs, 0) + 1\n",
    "    end\n",
    "    return counts\n",
    "end"
   ]
  },
  {
   "cell_type": "code",
   "execution_count": null,
   "metadata": {},
   "outputs": [],
   "source": [
    "function getRandBirthsProbs(nIter::Int = 10_000)::Dict{String, Float64}\n",
    "    counts::Dict{String, Int} = getBirthSeqsCounts(getNBirthSeqs(nIter))\n",
    "    probs::Dict{String, Float64} = Dict()\n",
    "    for (k, v) in counts\n",
    "        probs[k] = v / nIter\n",
    "    end\n",
    "    return probs\n",
    "end"
   ]
  },
  {
   "cell_type": "code",
   "execution_count": null,
   "metadata": {},
   "outputs": [],
   "source": [
    "randBirthsProbs = getRandBirthsProbs(100_000)\n",
    "birthSeqsProbs2 = [(get(randBirthsProbs, k, 0), k) for k in birthSeqs]"
   ]
  },
  {
   "attachments": {},
   "cell_type": "markdown",
   "metadata": {},
   "source": [
    "#### Ex. 4.3. Answer\n",
    "\n",
    "Assumming the exact order of births and the exact sex of the children (where p for B: 0.52, and for G: 0.48) we got:\n",
    "\n",
    "According to mathematical calculations the probabilities are:\n",
    "- (0.015550119935999997, \"GBGBGB\")\n",
    "- (0.015550119935999997, \"BBBGGG\")\n",
    "- (0.018249793536, \"GBBBBB\")\n",
    "\n",
    "According to simulation [100'000 random birth sequences generated] the probabilities are:\n",
    "- (0.01577, \"GBGBGB\")\n",
    "- (0.01592, \"BBBGGG\")\n",
    "- (0.01795, \"GBBBBB\")"
   ]
  }
 ],
 "metadata": {
  "kernelspec": {
   "display_name": "Julia 1.8.3",
   "language": "julia",
   "name": "julia-1.8"
  },
  "language_info": {
   "file_extension": ".jl",
   "mimetype": "application/julia",
   "name": "julia",
   "version": "1.8.3"
  },
  "orig_nbformat": 4,
  "vscode": {
   "interpreter": {
    "hash": "31f2aee4e71d21fbe5cf8b01ff0e069b9275f58929596ceb00d14d90e3e16cd6"
   }
  }
 },
 "nbformat": 4,
 "nbformat_minor": 2
}
