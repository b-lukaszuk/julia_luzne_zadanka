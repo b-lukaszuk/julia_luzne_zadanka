{
 "cells": [
  {
   "attachments": {},
   "cell_type": "markdown",
   "id": "cb4f8851",
   "metadata": {
    "collapsed": false
   },
   "source": [
    "# Task 1\n",
    "\n",
    "## Original exercise number\n",
    "\n",
    "Exercise 11-1\n",
    "\n",
    "## Description\n",
    "\n",
    "Use `get` to write `histogram` more concisely. You should be able to eliminate the `if` statement.\n",
    "\n",
    "Previous version of `histogram`:\n",
    "\n",
    "<pre>\n",
    "function histogram(s)\n",
    "    d = Dict()\n",
    "    for c in s\n",
    "        if c ∉ keys(d)\n",
    "            d[c] = 1\n",
    "        else\n",
    "            d[c] += 1\n",
    "        end\n",
    "    end\n",
    "    d\n",
    "end\n",
    "</pre>"
   ]
  },
  {
   "cell_type": "markdown",
   "id": "73e1e558",
   "metadata": {
    "collapsed": false
   },
   "source": [
    "## Solution"
   ]
  },
  {
   "attachments": {},
   "cell_type": "markdown",
   "id": "501aee7a",
   "metadata": {
    "collapsed": false
   },
   "source": [
    "NO GUARANTEE THAT THE SOLUTION WILL WORK OR WORKS CORRECTLY! USE IT AT\n",
    "YOUR OWN RISK!"
   ]
  },
  {
   "cell_type": "markdown",
   "id": "8a07ca8d",
   "metadata": {
    "collapsed": false
   },
   "source": [
    "### Functions"
   ]
  },
  {
   "cell_type": "code",
   "execution_count": null,
   "id": "1a9e86e1",
   "metadata": {
    "collapsed": false
   },
   "outputs": [],
   "source": [
    "function histogram(s::String)::Dict{Char, Int}\n",
    "    d::Dict{Char, Int} = Dict()\n",
    "    for c in s\n",
    "       d[c] = get(d, c, 0) + 1\n",
    "    end\n",
    "    return d\n",
    "end"
   ]
  },
  {
   "cell_type": "markdown",
   "id": "82585b05",
   "metadata": {
    "collapsed": false
   },
   "source": [
    "## Testing"
   ]
  },
  {
   "cell_type": "code",
   "execution_count": null,
   "id": "7f973518",
   "metadata": {
    "collapsed": false
   },
   "outputs": [],
   "source": [
    "histogram(\"lorem ipsum dolor sit amet\")"
   ]
  },
  {
   "cell_type": "code",
   "execution_count": null,
   "id": "060b3ba5",
   "metadata": {
    "collapsed": false
   },
   "outputs": [],
   "source": [
    "histogram(\"parrot\")"
   ]
  },
  {
   "cell_type": "code",
   "execution_count": null,
   "id": "1f2b10eb",
   "metadata": {},
   "outputs": [],
   "source": [
    "histogram(\"go julia, go\")"
   ]
  }
 ],
 "metadata": {
  "kernelspec": {
   "argv": [
    "/home/czesiek/julia-1.8.3/bin/julia",
    "-i",
    "--color=yes",
    "--project=@.",
    "/home/czesiek/.julia/packages/IJulia/6TIq1/src/kernel.jl",
    "{connection_file}"
   ],
   "display_name": "Julia 1.8.3",
   "env": null,
   "interrupt_mode": "signal",
   "language": "julia",
   "name": "julia-1.8"
  },
  "language_info": {
   "file_extension": ".jl",
   "mimetype": "application/julia",
   "name": "julia",
   "version": "1.8.3"
  },
  "name": "task1.ipynb"
 },
 "nbformat": 4,
 "nbformat_minor": 5
}
