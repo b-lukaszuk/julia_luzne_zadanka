{
 "cells": [
  {
   "cell_type": "markdown",
   "metadata": {},
   "source": [
    "# Chapter 5. Estimating Counts\n",
    "\n",
    "[Link to chapter online](https://allendowney.github.io/ThinkBayes2/chap05.html)\n",
    "\n",
    "\n",
    "In this chapter, we’ll work on problems related to counting, or estimating the size of a population."
   ]
  },
  {
   "cell_type": "markdown",
   "metadata": {},
   "source": [
    "A reminder of Bayes’s Theorem:\n",
    "\n",
    "$P(A|B) = \\frac{P(A)P(B|A)}{P(B)}$\n",
    "\n",
    "or\n",
    "\n",
    "$P(H|D) = \\frac{P(H)P(D|H)}{P(D)}$"
   ]
  },
  {
   "cell_type": "markdown",
   "metadata": {},
   "source": [
    "## Warning\n",
    "\n",
    "The content of this file may be incorrect, erroneous and/or harmful. Use it at Your own risk."
   ]
  },
  {
   "cell_type": "markdown",
   "metadata": {},
   "source": [
    "## Imports"
   ]
  },
  {
   "cell_type": "code",
   "execution_count": null,
   "metadata": {},
   "outputs": [],
   "source": [
    "include(\"pmf.jl\")\n",
    "import .ProbabilityMassFunction as Pmf"
   ]
  },
  {
   "cell_type": "markdown",
   "metadata": {},
   "source": [
    "## The Train Problem\n",
    "\n",
    "I found the train problem in Frederick Mosteller’s, [Fifty Challenging Problems\n",
    "in Probability with\n",
    "Solutions](https://store.doverpublications.com/0486653552.html):\n",
    "\n",
    "> “A railroad numbers its locomotives in order 1…N. One day you see a locomotive\n",
    "with the number 60. Estimate how many locomotives the railroad has.”"
   ]
  },
  {
   "cell_type": "code",
   "execution_count": null,
   "metadata": {},
   "outputs": [],
   "source": [
    "# names - max number of locomotives in the fleet\n",
    "train = Pmf.getPmfFromSeq(1:1000 |> collect)"
   ]
  },
  {
   "cell_type": "code",
   "execution_count": null,
   "metadata": {},
   "outputs": [],
   "source": [
    "\"\"\"\n",
    "    Update Pmf (names are hypothesized max counts)\n",
    "\n",
    "    data - observed counts\n",
    "\"\"\"\n",
    "function updateCounts!(pmf::Pmf.Pmf{Int}, data::Int)\n",
    "\n",
    "    # the chance of seeing any number out of postulated N (max counts)\n",
    "    # is 1/N\n",
    "    likelihood::Vector{<:Float64} = 1 ./ pmf.names\n",
    "    impossible::BitVector = data .> pmf.names\n",
    "    likelihood[impossible] .= 0\n",
    "    Pmf.setLikelihoods!(pmf, likelihood)\n",
    "    Pmf.updatePosteriors!(pmf, true)\n",
    "    \n",
    "    return nothing\n",
    "end"
   ]
  },
  {
   "cell_type": "code",
   "execution_count": null,
   "metadata": {},
   "outputs": [],
   "source": [
    "data = 60\n",
    "updateCounts!(train, data)"
   ]
  },
  {
   "cell_type": "code",
   "execution_count": null,
   "metadata": {},
   "outputs": [],
   "source": [
    "Pmf.drawLinesPosteriors(\n",
    "    train,\n",
    "    \"Posterior distribution\\n(after observing train 60)\",\n",
    "    \"Number of trains\",\n",
    "    \"PMF\"\n",
    ")"
   ]
  },
  {
   "cell_type": "code",
   "execution_count": null,
   "metadata": {},
   "outputs": [],
   "source": [
    "Pmf.getNameMaxPosterior(train)"
   ]
  },
  {
   "cell_type": "markdown",
   "metadata": {},
   "source": [
    "That might not seem like a very good guess; after all, what are the chances that\n",
    "you just happened to see the train with the highest number? Nevertheless, if you\n",
    "want to maximize the chance of getting the answer exactly right, you should\n",
    "guess 60"
   ]
  },
  {
   "cell_type": "markdown",
   "metadata": {},
   "source": [
    "An alternative is to compute the mean of the posterior distribution. Given a\n",
    "set of possible quantities, $q_i$, and their probabilities, $p_i$, the mean of\n",
    "the distribution is:\n",
    "\n",
    "$mean = \\sum_{i=1}^{n}p_{i}q_{i}$"
   ]
  },
  {
   "cell_type": "code",
   "execution_count": null,
   "metadata": {},
   "outputs": [],
   "source": [
    "sum(train.posteriors .* train.names)"
   ]
  },
  {
   "cell_type": "code",
   "execution_count": null,
   "metadata": {},
   "outputs": [],
   "source": [
    "Pmf.getMeanPosterior(train)"
   ]
  },
  {
   "cell_type": "markdown",
   "metadata": {},
   "source": [
    "The mean of the posterior is 333, so that might be a good guess if you want to\n",
    "minimize error. If you played this guessing game over and over, using the mean\n",
    "of the posterior as your estimate would minimize the [mean squared\n",
    "error](https://allendowney.github.io/ThinkBayes2/chap05.html) over the long run."
   ]
  }
 ],
 "metadata": {
  "kernelspec": {
   "display_name": "Julia 1.9.3",
   "language": "julia",
   "name": "julia-1.9"
  },
  "language_info": {
   "file_extension": ".jl",
   "mimetype": "application/julia",
   "name": "julia",
   "version": "1.9.3"
  }
 },
 "nbformat": 4,
 "nbformat_minor": 2
}
