{
 "cells": [
  {
   "attachments": {},
   "cell_type": "markdown",
   "metadata": {},
   "source": [
    "# Chapter 6. Odds and Addends\n",
    "[Link to chapter online](https://allendowney.github.io/ThinkBayes2/chap06.html)"
   ]
  },
  {
   "cell_type": "markdown",
   "metadata": {},
   "source": [
    "## Warning\n",
    "\n",
    "The content of this file may be incorrect, erroneous and/or harmful. Use it at Your own risk."
   ]
  },
  {
   "attachments": {},
   "cell_type": "markdown",
   "metadata": {},
   "source": [
    "## Imports"
   ]
  },
  {
   "cell_type": "code",
   "execution_count": null,
   "metadata": {},
   "outputs": [],
   "source": [
    "import DataFrames as pd # pandas in Python\n",
    "import Distributions as dst\n",
    "import Plots as plts"
   ]
  },
  {
   "cell_type": "code",
   "execution_count": null,
   "metadata": {},
   "outputs": [],
   "source": [
    "include(\"./pmf.jl\")\n",
    "import .ProbabilityMassFunction as pmf"
   ]
  },
  {
   "attachments": {},
   "cell_type": "markdown",
   "metadata": {},
   "source": [
    "### Odds"
   ]
  },
  {
   "cell_type": "code",
   "execution_count": null,
   "metadata": {},
   "outputs": [],
   "source": [
    "function prob2odds(prob::Float64)::Float64\n",
    "    @assert (0 <= prob <= 1)\n",
    "    return prob / (1-prob)\n",
    "end"
   ]
  },
  {
   "cell_type": "code",
   "execution_count": null,
   "metadata": {},
   "outputs": [],
   "source": [
    "prob2odds(0.75)"
   ]
  },
  {
   "cell_type": "code",
   "execution_count": null,
   "metadata": {},
   "outputs": [],
   "source": [
    "prob2odds(0.1)"
   ]
  },
  {
   "cell_type": "code",
   "execution_count": null,
   "metadata": {},
   "outputs": [],
   "source": [
    "prob2odds(0.9)"
   ]
  },
  {
   "cell_type": "code",
   "execution_count": null,
   "metadata": {},
   "outputs": [],
   "source": [
    "function odds2prob(odds::Float64)::Float64\n",
    "   @assert 0 <= 0\n",
    "   return odds / (odds + 1) \n",
    "end"
   ]
  },
  {
   "attachments": {},
   "cell_type": "markdown",
   "metadata": {},
   "source": [
    "\n",
    "For practice I will try to derive the formula (see odds2prob).\n",
    "Let's go.\n",
    "\n",
    "$odds = \\frac{p}{1-p}$\n",
    "\n",
    "$\\frac{p}{1-p} = odds$\n",
    "\n",
    "$p = odds * (1-p)$\n",
    "\n",
    "$p = odds - odds*p$\n",
    "\n",
    "$p + odds*p = odds$\n",
    "\n",
    "$p * (1+odds) = odds$\n",
    "\n",
    "$p = \\frac{odds}{1+odds}$\n",
    "\n",
    "$p = \\frac{odds}{odds+1}$"
   ]
  },
  {
   "cell_type": "code",
   "execution_count": null,
   "metadata": {},
   "outputs": [],
   "source": [
    "odds2prob(3/2)"
   ]
  },
  {
   "cell_type": "code",
   "execution_count": null,
   "metadata": {},
   "outputs": [],
   "source": [
    "function odds2prob(yes::T, no::T)::Float64 where T<:Union{Int, Float64}\n",
    "    @assert yes >= 0\n",
    "    @assert no > 0\n",
    "    return yes / (yes+no)\n",
    "end"
   ]
  },
  {
   "cell_type": "code",
   "execution_count": null,
   "metadata": {},
   "outputs": [],
   "source": [
    "odds2prob(3, 2)"
   ]
  },
  {
   "cell_type": "code",
   "execution_count": null,
   "metadata": {},
   "outputs": [],
   "source": [
    "odds2prob(3/5, 2/5)"
   ]
  },
  {
   "attachments": {},
   "cell_type": "markdown",
   "metadata": {},
   "source": [
    "### Bayes's Rule"
   ]
  },
  {
   "attachments": {},
   "cell_type": "markdown",
   "metadata": {},
   "source": [
    "Bayes's theorem in the \"probability form\":\n",
    "\n",
    "$P(H|D) = \\frac{P(H) P(D|H)}{P(D)}$\n",
    "\n",
    "Writing odds(A) for odds in favor of A, we can express Bayes's Theorem in \"odds form\":\n",
    "\n",
    "$odds(A|D) = odds(A) \\frac{P(D|A)}{P(D|B)}$\n",
    "\n",
    "The posterior odds are the prior odds times the likelihood ratio."
   ]
  },
  {
   "attachments": {},
   "cell_type": "markdown",
   "metadata": {},
   "source": [
    "**My comment**\n",
    "\n",
    "OK, although I'm not sure how we derived that and why we resigned from H and got A and B, all of a sudden."
   ]
  },
  {
   "attachments": {},
   "cell_type": "markdown",
   "metadata": {},
   "source": [
    "Let's get back to the cookie problem. From Chapter 2 (The Bayes's Theorem).\n",
    "\n",
    "We got two bowls:\n",
    "- Bowl 1 contains 30 vanilla cookies and 10 chocolate cookies\n",
    "- Bowl 2 contains 20 vanilla cookies and 20 chocolate cookies\n",
    "\n",
    "You choose obe bowl at random and choose the cookie at random. If the cookie is vanilla, what is the probability that it came from Bowl 1?\n",
    "\n",
    "The prior probability is 0.5, so the prior odds are 1 [odds(A)]\n",
    "\n",
    "The likelihood ratio is 3/4 [P(D|A)] and 2/4 [P(D|B)]\n",
    "\n",
    "The posterior odds are:\n",
    "\n",
    "$odds(A|D) = 1 * \\frac{3/4}{2/4}$\n",
    "\n",
    "Which is equal to:\n"
   ]
  },
  {
   "cell_type": "code",
   "execution_count": null,
   "metadata": {},
   "outputs": [],
   "source": [
    "1 * (3//4) / (2//4)"
   ]
  },
  {
   "attachments": {},
   "cell_type": "markdown",
   "metadata": {},
   "source": [
    "And now for the posterior probability"
   ]
  },
  {
   "cell_type": "code",
   "execution_count": null,
   "metadata": {},
   "outputs": [],
   "source": [
    "odds2prob(3, 2)"
   ]
  },
  {
   "attachments": {},
   "cell_type": "markdown",
   "metadata": {},
   "source": [
    "If we draw another cookie and it's chocolate, we can do another update:"
   ]
  },
  {
   "cell_type": "code",
   "execution_count": null,
   "metadata": {},
   "outputs": [],
   "source": [
    "3//2 * 1//4 / 1//2"
   ]
  },
  {
   "cell_type": "code",
   "execution_count": null,
   "metadata": {},
   "outputs": [],
   "source": [
    "odds2prob(3, 4)"
   ]
  }
 ],
 "metadata": {
  "kernelspec": {
   "display_name": "Julia 1.8.3",
   "language": "julia",
   "name": "julia-1.8"
  },
  "language_info": {
   "file_extension": ".jl",
   "mimetype": "application/julia",
   "name": "julia",
   "version": "1.8.3"
  },
  "orig_nbformat": 4,
  "vscode": {
   "interpreter": {
    "hash": "31f2aee4e71d21fbe5cf8b01ff0e069b9275f58929596ceb00d14d90e3e16cd6"
   }
  }
 },
 "nbformat": 4,
 "nbformat_minor": 2
}
