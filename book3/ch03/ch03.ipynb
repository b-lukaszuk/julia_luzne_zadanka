{
 "cells": [
  {
   "cell_type": "markdown",
   "id": "6b700391",
   "metadata": {},
   "source": [
    "# Ch 3. Describing Data"
   ]
  },
  {
   "cell_type": "markdown",
   "id": "6aa45e44",
   "metadata": {},
   "source": [
    "### Imports"
   ]
  },
  {
   "cell_type": "code",
   "execution_count": null,
   "id": "ec85d809",
   "metadata": {},
   "outputs": [],
   "source": [
    "import DataFrames as Dfs\n",
    "import VegaLite as Vl\n",
    "import Plots as Plts\n",
    "import Statistics as Stats\n",
    "import PyPlot as Pyplt\n",
    "import Seaborn as Sns"
   ]
  },
  {
   "cell_type": "markdown",
   "id": "39ec6c31",
   "metadata": {},
   "source": [
    "## Data, functions, exploratory analysis, etc."
   ]
  },
  {
   "cell_type": "markdown",
   "id": "8bc0d83f",
   "metadata": {},
   "source": [
    "### Tab 3.1"
   ]
  },
  {
   "cell_type": "code",
   "execution_count": null,
   "id": "f34c991a",
   "metadata": {},
   "outputs": [],
   "source": [
    "tab31 = Dfs.DataFrame((\n",
    "        age=[7,7,8,8,8,9,11,12,12,13,13,14,14,15,16,17,17,17,17,19,19,20,23,23,23],\n",
    "        piMax=[80, 85,110,95,95,100,45,95,130,75,80,70,80,100,120,110,125,75,100,40,75,110,150,75,95]))\n",
    "Dfs.first(tab31, 3)"
   ]
  },
  {
   "cell_type": "code",
   "execution_count": null,
   "id": "5d0b9afc",
   "metadata": {},
   "outputs": [],
   "source": [
    "Dfs.describe(tab31)"
   ]
  },
  {
   "cell_type": "code",
   "execution_count": null,
   "id": "94a47502",
   "metadata": {},
   "outputs": [],
   "source": [
    "tab31 |>\n",
    "Vl.@vlplot(\n",
    "    mark={\"circle\", size=200}, \n",
    "    title=\"Fig. 3.15. Scatter diagram of PImax by age\",\n",
    "    encoding={\n",
    "        x={field=\"age\", axis={ title=\"Age [Years]\"}},\n",
    "        y={field=\"piMax\", axis={title=\"PiMax [cm H₂O]\"}},\n",
    "    }, \n",
    "    background=\"white\",\n",
    "    width=600,\n",
    "    height=300,\n",
    ")"
   ]
  },
  {
   "cell_type": "markdown",
   "id": "92757e02",
   "metadata": {},
   "source": [
    "### Tab 3.2"
   ]
  },
  {
   "cell_type": "code",
   "execution_count": null,
   "id": "348878d1",
   "metadata": {},
   "outputs": [],
   "source": [
    "tab32 = pd.DataFrame((\n",
    "        igm=vcat(collect(0.1:0.1:1.8), [2.0, 2.1, 2.2, 2.5, 2.7, 4.5]),\n",
    "        numOfChildren=[3,7,19,27,32,35,38,38,22,16,16,6,7,9,6,2,3,3,3,2,1,1,1,1]))\n",
    "first(tab32, 3)"
   ]
  },
  {
   "cell_type": "code",
   "execution_count": null,
   "id": "e245d965",
   "metadata": {},
   "outputs": [],
   "source": [
    "pd.describe(tab32)"
   ]
  },
  {
   "cell_type": "code",
   "execution_count": null,
   "id": "f2800e15",
   "metadata": {},
   "outputs": [],
   "source": [
    "plts.histogram(tab32[:, :igm], bins=0.0:0.1:4.7, weights=tab32[:, :numOfChildren], legend=false)\n",
    "plts.title!(\"Fig. 3.7. (a) Concentration of IgM in\\n298 children aged 6 months to 6 years\")\n",
    "plts.xlabel!(\"IgM [g/l]\")\n",
    "plts.ylabel!(\"Number of children\")"
   ]
  },
  {
   "cell_type": "code",
   "execution_count": null,
   "id": "a2472a58",
   "metadata": {},
   "outputs": [],
   "source": [
    "plts.plot(tab32[:, :igm], tab32[:, :numOfChildren], legend=false)\n",
    "plts.title!(\"Fig. 3.7. (b) Concentration of IgM in\\n298 children aged 6 months to 6 years\")\n",
    "plts.xlabel!(\"IgM [g/l]\")\n",
    "plts.ylabel!(\"Number of children\")"
   ]
  },
  {
   "cell_type": "code",
   "execution_count": null,
   "id": "3eebd784",
   "metadata": {},
   "outputs": [],
   "source": [
    "cumFreq = cumsum(tab32[:, :numOfChildren])\n",
    "cumFreq = cumFreq ./ cumFreq[end] .* 100\n",
    "plts.histogram(tab32[:, :igm], bins=0.0:0.1:4.7, weights=cumFreq, legend=false)\n",
    "plts.title!(\"Fig 3.10 (a) Concentration of IgM in\\n298 children aged 6 months to 6 years.\")\n",
    "plts.xlabel!(\"IgM [g/l]\")\n",
    "plts.ylabel!(\"Cumulative frequency [%]\")"
   ]
  },
  {
   "cell_type": "code",
   "execution_count": null,
   "id": "487639b0",
   "metadata": {},
   "outputs": [],
   "source": [
    "plts.plot(tab32[:, :igm], cumFreq, legend=false)\n",
    "plts.title!(\"Fig 3.10 (b) Concentration of IgM in\\n298 children aged 6 months to 6 years.\")\n",
    "plts.xlabel!(\"IgM [g/l]\")\n",
    "plts.ylabel!(\"Cumulative frequency [%]\")"
   ]
  },
  {
   "cell_type": "markdown",
   "id": "7ddbacff",
   "metadata": {},
   "source": [
    "### Tab 3.3"
   ]
  },
  {
   "cell_type": "code",
   "execution_count": null,
   "id": "bc984ab0",
   "metadata": {},
   "outputs": [],
   "source": [
    "ages = [4,9,15,16,17,19,24,59,80] # there are\n",
    "# different width age groups e.g 0-4, 25-59, > 60\n",
    "# assumed upper limit is 80\n",
    "frequencies = [28,46,58,20,31,64,149,316,103];"
   ]
  },
  {
   "cell_type": "code",
   "execution_count": null,
   "id": "10435738",
   "metadata": {},
   "outputs": [],
   "source": [
    "plts.histogram(ages, bins=vcat([0], ages), weights=frequencies, legend=false)\n",
    "plts.title!(\"Fig. 3.5. Incorrect histogram\\nof road accident data (tab 3.3)\")\n",
    "plts.xlabel!(\"Age [years]\")\n",
    "plts.ylabel!(\"Number of accidents\")"
   ]
  },
  {
   "cell_type": "code",
   "execution_count": null,
   "id": "349996a3",
   "metadata": {},
   "outputs": [],
   "source": [
    "plts.histogram(ages, bins=vcat([0], ages), weights=frequencies, legend=false, normalize=true)\n",
    "plts.title!(\"Fig. 3.6. Correct histogram\\nof road accident data (tab 3.3)\")\n",
    "plts.xlabel!(\"Age [years]\")\n",
    "plts.ylabel!(\"Frequency per year of age\")"
   ]
  },
  {
   "cell_type": "markdown",
   "id": "9c45374b",
   "metadata": {},
   "source": [
    "### Tab 3.6"
   ]
  },
  {
   "cell_type": "code",
   "execution_count": null,
   "id": "5610d1b6",
   "metadata": {},
   "outputs": [],
   "source": [
    "# consumption in gram per person per week\n",
    "# I reshaped the table from the book slightly\n",
    "tab36 = pd.DataFrame((\n",
    "    bread_type = repeat([\"white\", \"brown\", \"wholemeal\", \"other\"], inner=5),\n",
    "    year = repeat([1960, 1965, 1970, 1975, 1980], outer=4),\n",
    "    consumption = [1040, 975, 915, 785, 620, 70, 80, 70, 75, 115, 25, 20, 15, 20, 45, 155, 80, 85, 75, 105]\n",
    "))\n",
    "first(tab36, 4)"
   ]
  },
  {
   "cell_type": "markdown",
   "id": "ebaf4021",
   "metadata": {},
   "source": [
    "### Figure 3.16"
   ]
  },
  {
   "cell_type": "code",
   "execution_count": null,
   "id": "c20fcc76",
   "metadata": {},
   "outputs": [],
   "source": [
    "sns.barplot(x=tab36[!, \"year\"], y=tab36[!, \"consumption\"],\n",
    "            hue=tab36[!, \"bread_type\"])\n",
    "pyplt.legend(title=\"Bread type\")\n",
    "pyplt.title(\"Figure 3.16 (a)\")\n",
    "pyplt.xlabel(\"Year\")\n",
    "pyplt.ylabel(\"Consumption of bread\\n(g per person per week)\");"
   ]
  },
  {
   "cell_type": "code",
   "execution_count": null,
   "id": "80cccbbe",
   "metadata": {
    "scrolled": false
   },
   "outputs": [],
   "source": [
    "sns.barplot(x=tab36[!, \"year\"], y=tab36[!, \"consumption\"],\n",
    "    hue=tab36[!, \"bread_type\"], dodge=false)\n",
    "pyplt.legend(title=\"Bread type\")\n",
    "pyplt.title(\"Figure 3.16 (b)\")\n",
    "pyplt.xlabel(\"Year\")\n",
    "pyplt.ylabel(\"Consumption of bread\\n(g per person per week)\");"
   ]
  },
  {
   "cell_type": "code",
   "execution_count": null,
   "id": "2a0f5147",
   "metadata": {},
   "outputs": [],
   "source": [
    "tab36[!, \"intake_1960\"] = repeat(\n",
    "    tab36[tab36[!, \"year\"] .== 1960, \"consumption\"],\n",
    "    inner=5)\n",
    "tab36[!, \"perc_1960_intake\"] = (\n",
    "    tab36[!, \"consumption\"] ./ tab36[!, \"intake_1960\"] .* 100);"
   ]
  },
  {
   "cell_type": "code",
   "execution_count": null,
   "id": "88c4a874",
   "metadata": {},
   "outputs": [],
   "source": [
    "sns.lineplot(x=tab36[!, \"year\"], y=tab36[!, \"perc_1960_intake\"], \n",
    "    hue=tab36[!, \"bread_type\"])\n",
    "sns.scatterplot(x=tab36[!, \"year\"], y=tab36[!, \"perc_1960_intake\"], \n",
    "    hue=tab36[!, \"bread_type\"], legend=false)\n",
    "pyplt.legend(title=\"Bread type\")\n",
    "pyplt.ylim((0, 200))\n",
    "pyplt.xticks(ticks=[1960, 1965, 1970, 1975, 1980])\n",
    "pyplt.title(\"Figure 3.16 (c)\")\n",
    "pyplt.xlabel(\"Year\")\n",
    "pyplt.ylabel(\"Intake per person per year\\n(% of 1960 intake)\");"
   ]
  }
 ],
 "metadata": {
  "kernelspec": {
   "display_name": "Julia 1.9.3",
   "language": "julia",
   "name": "julia-1.9"
  },
  "language_info": {
   "file_extension": ".jl",
   "mimetype": "application/julia",
   "name": "julia",
   "version": "1.9.3"
  },
  "name": "ch03.ipynb"
 },
 "nbformat": 4,
 "nbformat_minor": 5
}
