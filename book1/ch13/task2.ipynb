{
 "cells": [
  {
   "attachments": {},
   "cell_type": "markdown",
   "id": "0afe05a3",
   "metadata": {},
   "source": [
    "# Task 2\n",
    "\n",
    "## Original exercise number\n",
    "\n",
    "Exercise 13-8\n",
    "\n",
    "## Description\n",
    "\n",
    "### Markov analysis:\n",
    "\n",
    "1. Write a program to read a text from a file and perform Markov analysis. The result should be a dictionary that maps from prefixes to a collection of possible suffixes. The collection might be an array, tuple, or dictionary; it is up to you to make an appropriate choice. You can test your program with prefix length two, but you should write the program in a way that makes it easy to try other lengths.\n",
    "\n",
    "2. Add a function to the previous program to generate random text based on the Markov analysis. Here is an example from Emma with prefix length 2:\n",
    "\n",
    "“He was very clever, be it sweetness or be angry, ashamed or only amused, at such a stroke. She had never thought of Hannah till you were never meant for me?\" \"I cannot make speeches, Emma:\" he soon cut it all himself.”\n",
    "\n",
    "For this example, I left the punctuation attached to the words. The result is almost syntactically correct, but not quite. Semantically, it almost makes sense, but not quite.\n",
    "\n",
    "What happens if you increase the prefix length? Does the random text make more sense?\n",
    "\n",
    "3. Once your program is working, you might want to try a mash-up: if you combine text from two or more books, the random text you generate will blend the vocabulary and phrases from the sources in interesting ways.\n",
    "\n",
    "Credit: This case study is based on an example from Kernighan and Pike, The Practice of Programming, Addison-Wesley, 1999.\n",
    "\n",
    "### TIP\n",
    "\n",
    "You should attempt this exercise before you go on.\n",
    "\n",
    "## My Notes\n",
    "\n",
    "I think I will skip the point 3 (the mash-up)"
   ]
  },
  {
   "cell_type": "markdown",
   "id": "c4bc3ea0",
   "metadata": {},
   "source": [
    "## Solution"
   ]
  },
  {
   "cell_type": "markdown",
   "id": "2895339f",
   "metadata": {},
   "source": [
    "NO GUARANTEE THAT THE SOLUTION WILL WORK OR WORKS CORRECTLY! USE IT AT\n",
    "YOUR OWN RISK!"
   ]
  },
  {
   "cell_type": "markdown",
   "id": "05df47ca",
   "metadata": {},
   "source": [
    "### Functions"
   ]
  },
  {
   "cell_type": "code",
   "execution_count": 1,
   "id": "95f2670b",
   "metadata": {},
   "outputs": [
    {
     "data": {
      "text/plain": [
       "getWords (generic function with 1 method)"
      ]
     },
     "execution_count": 1,
     "metadata": {},
     "output_type": "execute_result"
    }
   ],
   "source": [
    "function getWords(file_path::String)::Vector{String}\n",
    "    words::Vector{String} = []\n",
    "    open(file_path) do file\n",
    "        for line in eachline(file)\n",
    "            for word in split(line)\n",
    "                push!(words, replace(lowercase(word), r\"[.,;!?-]\" => \"\"))\n",
    "            end\n",
    "        end\n",
    "    end\n",
    "    return words\n",
    "end"
   ]
  },
  {
   "cell_type": "code",
   "execution_count": 2,
   "id": "32823c15",
   "metadata": {},
   "outputs": [
    {
     "data": {
      "text/plain": [
       "getPrefixSuffixesDict (generic function with 2 methods)"
      ]
     },
     "execution_count": 2,
     "metadata": {},
     "output_type": "execute_result"
    }
   ],
   "source": [
    "function getPrefixSuffixesDict(words::Vector{String}, prefixLength::Int = 2)::Dict{String, Set{String}}\n",
    "    prefix::Vector{String} = []\n",
    "    pref::String = \"\" # elements of prefix joined to 1 string\n",
    "    prefixSuffixes::Dict{String, Set{String}} = Dict()\n",
    "    for word in words\n",
    "        if length(prefix) < prefixLength\n",
    "            push!(prefix, word)\n",
    "        else\n",
    "            pref = join(prefix, \" \")\n",
    "            haskey(prefixSuffixes, pref) ?\n",
    "                push!(prefixSuffixes[pref], word) :\n",
    "                prefixSuffixes[pref] = Set([word])\n",
    "            popfirst!(prefix)\n",
    "            push!(prefix, word)\n",
    "        end\n",
    "    end\n",
    "    return prefixSuffixes\n",
    "end"
   ]
  },
  {
   "attachments": {},
   "cell_type": "markdown",
   "id": "f48f7d83",
   "metadata": {},
   "source": [
    "Given this mapping, you can generate a random text by starting with any prefix and choosing at random from the possible suffixes. Next, you can combine the end of the prefix and the new suffix to form the next prefix, and repeat."
   ]
  },
  {
   "cell_type": "code",
   "execution_count": 3,
   "id": "47a6cd1a",
   "metadata": {},
   "outputs": [
    {
     "data": {
      "text/plain": [
       "getRandWords (generic function with 1 method)"
      ]
     },
     "execution_count": 3,
     "metadata": {},
     "output_type": "execute_result"
    }
   ],
   "source": [
    "function getRandWords(prefixSuffixes:: Dict{String, Set{String}}, howManyPrefixes::Int)::Vector{String}\n",
    "   @assert (howManyPrefixes >= 1) \"howManyPrefixes must be an integer greater than 0\"\n",
    "   ks::Vector{String} = collect(keys(prefixSuffixes)) \n",
    "   prefixLength::Int = length(split(ks[1], \" \")) # one or more words split by space\n",
    "   prefix::String = \"\"\n",
    "   suffix::String = \"\"\n",
    "   result::Vector{String} = []\n",
    "   for i in 1:howManyPrefixes\n",
    "      prefix = (i == 1) ? rand(ks) : join(last(result, prefixLength), \" \")\n",
    "      suffix = rand(prefixSuffixes[prefix])\n",
    "      (i == 1) ? push!(result, split(prefix, \" \")..., suffix) : push!(result, suffix)\n",
    "   end\n",
    "   return result\n",
    "end"
   ]
  },
  {
   "cell_type": "markdown",
   "id": "f8866cb1",
   "metadata": {},
   "source": [
    "## Testing"
   ]
  },
  {
   "cell_type": "code",
   "execution_count": 4,
   "id": "382e8669",
   "metadata": {},
   "outputs": [],
   "source": [
    "words = getWords(\"./emma.txt\")\n",
    "prefixSuffixes = getPrefixSuffixesDict(words, 2);"
   ]
  },
  {
   "cell_type": "code",
   "execution_count": 5,
   "id": "628fbbf6",
   "metadata": {},
   "outputs": [
    {
     "data": {
      "text/plain": [
       "\"yet ever seen mrs goddard emma could only take him wholly by\""
      ]
     },
     "execution_count": 5,
     "metadata": {},
     "output_type": "execute_result"
    }
   ],
   "source": [
    "join(getRandWords(prefixSuffixes, 10), \" \")"
   ]
  }
 ],
 "metadata": {
  "kernelspec": {
   "display_name": "Julia 1.8.3",
   "language": "julia",
   "name": "julia-1.8"
  },
  "language_info": {
   "file_extension": ".jl",
   "mimetype": "application/julia",
   "name": "julia",
   "version": "1.8.3"
  },
  "name": "task1.ipynb"
 },
 "nbformat": 4,
 "nbformat_minor": 5
}
