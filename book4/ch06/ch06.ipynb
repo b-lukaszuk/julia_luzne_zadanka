{
 "cells": [
  {
   "attachments": {},
   "cell_type": "markdown",
   "metadata": {},
   "source": [
    "# Chapter 6. Odds and Addends\n",
    "[Link to chapter online](https://allendowney.github.io/ThinkBayes2/chap06.html)"
   ]
  },
  {
   "cell_type": "markdown",
   "metadata": {},
   "source": [
    "## Warning\n",
    "\n",
    "The content of this file may be incorrect, erroneous and/or harmful. Use it at Your own risk."
   ]
  },
  {
   "attachments": {},
   "cell_type": "markdown",
   "metadata": {},
   "source": [
    "## Imports"
   ]
  },
  {
   "cell_type": "code",
   "execution_count": null,
   "metadata": {},
   "outputs": [],
   "source": [
    "import DataFrames as pd # pandas in Python\n",
    "import Distributions as dst\n",
    "import Plots as plts"
   ]
  },
  {
   "cell_type": "code",
   "execution_count": null,
   "metadata": {},
   "outputs": [],
   "source": [
    "include(\"./pmf.jl\")\n",
    "import .ProbabilityMassFunction as pmf"
   ]
  },
  {
   "attachments": {},
   "cell_type": "markdown",
   "metadata": {},
   "source": [
    "### Odds"
   ]
  },
  {
   "cell_type": "code",
   "execution_count": null,
   "metadata": {},
   "outputs": [],
   "source": [
    "function prob2odds(prob::Float64)::Float64\n",
    "    @assert (0 <= prob <= 1)\n",
    "    return prob / (1-prob)\n",
    "end"
   ]
  },
  {
   "cell_type": "code",
   "execution_count": null,
   "metadata": {},
   "outputs": [],
   "source": [
    "prob2odds(0.75)"
   ]
  },
  {
   "cell_type": "code",
   "execution_count": null,
   "metadata": {},
   "outputs": [],
   "source": [
    "prob2odds(0.1)"
   ]
  },
  {
   "cell_type": "code",
   "execution_count": null,
   "metadata": {},
   "outputs": [],
   "source": [
    "prob2odds(0.9)"
   ]
  },
  {
   "cell_type": "code",
   "execution_count": null,
   "metadata": {},
   "outputs": [],
   "source": [
    "function odds2prob(odds::Float64)::Float64\n",
    "   @assert 0 <= 0\n",
    "   return odds / (odds + 1) \n",
    "end"
   ]
  },
  {
   "attachments": {},
   "cell_type": "markdown",
   "metadata": {},
   "source": [
    "\n",
    "For practice I will try to derive the formula (see odds2prob).\n",
    "Let's go.\n",
    "\n",
    "$odds = \\frac{p}{1-p}$\n",
    "\n",
    "$\\frac{p}{1-p} = odds$\n",
    "\n",
    "$p = odds * (1-p)$\n",
    "\n",
    "$p = odds - odds*p$\n",
    "\n",
    "$p + odds*p = odds$\n",
    "\n",
    "$p * (1+odds) = odds$\n",
    "\n",
    "$p = \\frac{odds}{1+odds}$\n",
    "\n",
    "$p = \\frac{odds}{odds+1}$"
   ]
  },
  {
   "cell_type": "code",
   "execution_count": null,
   "metadata": {},
   "outputs": [],
   "source": [
    "odds2prob(3/2)"
   ]
  },
  {
   "cell_type": "code",
   "execution_count": null,
   "metadata": {},
   "outputs": [],
   "source": [
    "function odds2prob(yes::T, no::T)::Float64 where T<:Union{Int, Float64}\n",
    "    @assert yes >= 0\n",
    "    @assert no > 0\n",
    "    return yes / (yes+no)\n",
    "end"
   ]
  },
  {
   "cell_type": "code",
   "execution_count": null,
   "metadata": {},
   "outputs": [],
   "source": [
    "odds2prob(3, 2)"
   ]
  },
  {
   "cell_type": "code",
   "execution_count": null,
   "metadata": {},
   "outputs": [],
   "source": [
    "odds2prob(3/5, 2/5)"
   ]
  }
 ],
 "metadata": {
  "kernelspec": {
   "display_name": "Julia 1.8.3",
   "language": "julia",
   "name": "julia-1.8"
  },
  "language_info": {
   "file_extension": ".jl",
   "mimetype": "application/julia",
   "name": "julia",
   "version": "1.8.3"
  },
  "orig_nbformat": 4,
  "vscode": {
   "interpreter": {
    "hash": "31f2aee4e71d21fbe5cf8b01ff0e069b9275f58929596ceb00d14d90e3e16cd6"
   }
  }
 },
 "nbformat": 4,
 "nbformat_minor": 2
}
